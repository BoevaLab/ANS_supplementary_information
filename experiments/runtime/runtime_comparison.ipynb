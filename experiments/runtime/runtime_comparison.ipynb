{
 "cells": [
  {
   "cell_type": "code",
   "execution_count": null,
   "metadata": {},
   "outputs": [],
   "source": [
    "import pandas as pd\n",
    "import seaborn as sns\n",
    "import scanpy as sc\n",
    "import signaturescoring as ssc\n",
    "import numpy as np\n",
    "from datetime import datetime \n",
    "import pandas as pd\n",
    "from itertools import product"
   ]
  },
  {
   "cell_type": "code",
   "execution_count": null,
   "metadata": {},
   "outputs": [],
   "source": [
    "DATA_PATH = \"\" #Path to the esophagel dataset.\n",
    "SCORING_METHODS = ['adjusted_neighborhood_scoring', 'seurat_scoring', 'seurat_ag_scoring', \n",
    "                    'seurat_lvg_scoring', 'scanpy_scoring', 'jasmine_scoring_likelihood', \n",
    "                   'jasmine_scoring_oddsratio', 'ucell_scoring']"
   ]
  },
  {
   "cell_type": "code",
   "execution_count": null,
   "metadata": {},
   "outputs": [],
   "source": [
    "n_random_seeds = 5\n",
    "sig_lengths = [(10 ** i) for i in range(4)]\n",
    "n_cells = [10_000 * i for i in range(1, 17, 3)]\n",
    "\n",
    "\n",
    "adata = sc.read(DATA_PATH)\n",
    "sc.pp.normalize_total(adata)\n",
    "sc.pp.log1p(adata)\n",
    "index = pd.MultiIndex.from_tuples(list(product(range(n_random_seeds), sig_lengths, n_cells)), names=[\"random_seed\", \"sig_length\", \"n_cell\"])\n",
    "results = pd.DataFrame(columns=SCORING_METHODS, index=index)\n",
    "\n",
    "for n_cell in n_cells:\n",
    "    print(n_cell)\n",
    "    bdata = adata[np.random.choice(adata.obs_names, size=n_cell, replace=False)].copy()\n",
    "    for sig_length in sig_lengths:\n",
    "        sig = np.random.choice(adata.var_names, size=sig_length, replace=False)\n",
    "        sig = list(sig)\n",
    "        for method ,n_run in product(SCORING_METHODS, range(n_random_seeds)):\n",
    "            start_time = datetime.now()\n",
    "            if method.startswith(\"jasmine_scoring\"):\n",
    "                ssc.score_signature(bdata, gene_list=sig, method=method.rsplit(\"_\", 1)[0], score_method=method.rsplit(\"_\", 1)[1], score_name=\"foo\")    \n",
    "            else:\n",
    "                ssc.score_signature(bdata, gene_list=sig, method=method, score_name=\"foo\")\n",
    "            time_elapsed = datetime.now() - start_time\n",
    "            results.loc[(n_run, sig_length, n_cell), method] = time_elapsed\n",
    "\n",
    "results.to_csv(\"results_scoring.csv\")"
   ]
  },
  {
   "cell_type": "code",
   "execution_count": null,
   "metadata": {},
   "outputs": [],
   "source": [
    "df = pd.read_csv(\"results_scoring.csv\", parse_dates=True, infer_datetime_format=True)"
   ]
  },
  {
   "cell_type": "code",
   "execution_count": null,
   "metadata": {},
   "outputs": [],
   "source": [
    "df = df[df[\"random_seed\"] != 0]\n",
    "df = df.set_index([\"random_seed\", \"sig_length\", \"n_cell\"])\n",
    "df = df.applymap(lambda x: pd.to_timedelta(x)).applymap(lambda x: x.total_seconds())\n",
    "df = df.groupby(level=[1, 2]).mean()"
   ]
  },
  {
   "cell_type": "code",
   "execution_count": null,
   "metadata": {},
   "outputs": [],
   "source": [
    "color_map = {k: sns.color_palette(\"tab10\").as_hex()[n] for n, k in enumerate(df.columns)}\n",
    "linestyle_tuple = [\n",
    "     (0, (1, 1)),\n",
    "     (5, (10, 3)),\n",
    "     (0, (5, 5)),\n",
    "     (0, (5, 1)),\n",
    "     (0, (3, 5, 1, 5)),\n",
    "     (0, (3, 1, 1, 1)),\n",
    "     (0, (3, 5, 1, 5, 1, 5)),\n",
    "     (0, (3, 1, 1, 1, 1, 1))]\n",
    "ls_map = {k: linestyle_tuple[n] for n, k in enumerate(df.columns)}"
   ]
  },
  {
   "cell_type": "code",
   "execution_count": null,
   "metadata": {},
   "outputs": [],
   "source": [
    "import matplotlib.pyplot as plt\n",
    "sig_lens = df.index.get_level_values(0).unique()\n",
    "fig, axes = plt.subplots(2, len(sig_lens)// 2 + len(sig_lens) % 2, figsize=(8, 8))\n",
    "for n_plot, (ax, sig_len) in enumerate(zip(axes.flatten(), sorted(sig_lens))):\n",
    "    subset = df[df.index.get_level_values(0)==sig_len]\n",
    "    \n",
    "    for col in subset.columns:\n",
    "        if n_plot != len(sig_lens)-1:\n",
    "            ax.plot(subset.index.get_level_values(1), subset[col], color=color_map[col], linestyle=ls_map[col])\n",
    "        else:\n",
    "            ax.plot(subset.index.get_level_values(1), subset[col], color=color_map[col], label=col, linestyle=ls_map[col]) \n",
    "    ax.set_title(f\"Run time for signature of length {sig_len}\")\n",
    "    ax.set_ylabel(\"Run time in seconds\")\n",
    "    ax.set_xlabel(\"Number of cells\")\n",
    "    ax.set_xticks([0, 50_000, 100_000, 150_000])\n",
    "    ax.set_xticklabels([0, 50_000, 100_000, 150_000])\n",
    "    \n",
    "fig.legend(loc='center left', bbox_to_anchor=(1.0, .5))\n",
    "fig.tight_layout()\n",
    "fig.savefig(\"scoring_benchmark.pdf\", bbox_inches=\"tight\")"
   ]
  },
  {
   "cell_type": "code",
   "execution_count": null,
   "metadata": {},
   "outputs": [],
   "source": [
    "fig, ax = plt.subplots()\n",
    "subset = df[df.index.get_level_values(1)==160_000]\n",
    "for col in subset.columns:\n",
    "    if n_plot != len(sig_lens)-1:\n",
    "        ax.plot(subset.index.get_level_values(0), subset[col], color=color_map[col], linestyle=ls_map[col])\n",
    "    else:\n",
    "        ax.plot(subset.index.get_level_values(0), subset[col], color=color_map[col], label=col, linestyle=ls_map[col]) \n",
    "    ax.set_title(\"Run time for 160,000 cells\")\n",
    "    ax.set_ylabel(\"Run time in seconds\")\n",
    "    ax.set_xlabel(\"Signature length\")\n",
    "fig.legend(loc='center left', bbox_to_anchor=(1.0, .5))\n",
    "fig.tight_layout()"
   ]
  }
 ],
 "metadata": {
  "kernelspec": {
   "display_name": "Python 3",
   "language": "python",
   "name": "python3"
  },
  "language_info": {
   "codemirror_mode": {
    "name": "ipython",
    "version": 3
   },
   "file_extension": ".py",
   "mimetype": "text/x-python",
   "name": "python",
   "nbconvert_exporter": "python",
   "pygments_lexer": "ipython3",
   "version": "3.8.10"
  }
 },
 "nbformat": 4,
 "nbformat_minor": 5
}
