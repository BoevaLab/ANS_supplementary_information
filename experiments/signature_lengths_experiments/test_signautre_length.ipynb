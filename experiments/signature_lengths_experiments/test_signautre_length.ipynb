{
 "cells": [
  {
   "cell_type": "code",
   "execution_count": null,
   "metadata": {
    "collapsed": false,
    "pycharm": {
     "name": "#%%\n"
    }
   },
   "outputs": [],
   "source": [
    "import os\n",
    "import sys\n",
    "import scanpy as sc\n",
    "import random\n",
    "from signaturescoring import score_signature\n",
    "from signaturescoring.utils.utils import get_mean_and_variance_gene_expression\n",
    "from sklearn.metrics import roc_auc_score\n",
    "import pandas as pd\n",
    "\n",
    "sys.path.append('../..')\n",
    "from data.constants import BASE_PATH_DATA\n",
    "\n",
    "fn = os.path.join(BASE_PATH_DATA, 'preprocessed/pp_luad.h5ad')"
   ]
  },
  {
   "cell_type": "code",
   "execution_count": null,
   "metadata": {
    "collapsed": false,
    "pycharm": {
     "name": "#%%\n"
    }
   },
   "outputs": [],
   "source": [
    "adata = sc.read_h5ad(fn)"
   ]
  },
  {
   "cell_type": "code",
   "execution_count": null,
   "metadata": {
    "collapsed": false,
    "pycharm": {
     "name": "#%%\n"
    }
   },
   "outputs": [],
   "source": [
    "gene_list = adata.var_names"
   ]
  },
  {
   "cell_type": "code",
   "execution_count": null,
   "metadata": {
    "collapsed": false,
    "pycharm": {
     "name": "#%%\n"
    }
   },
   "outputs": [],
   "source": [
    "gene_list = random.sample(gene_list.tolist(), 200)"
   ]
  },
  {
   "cell_type": "code",
   "execution_count": null,
   "metadata": {
    "collapsed": false,
    "pycharm": {
     "name": "#%%\n"
    }
   },
   "outputs": [],
   "source": [
    "gene_list"
   ]
  },
  {
   "cell_type": "code",
   "execution_count": null,
   "metadata": {
    "collapsed": false,
    "pycharm": {
     "name": "#%%\n"
    }
   },
   "outputs": [],
   "source": [
    "max_sig_length = 15\n",
    "scm_params = {\"ctrl_size\": 100, \"score_name\": \"ANS\"}"
   ]
  },
  {
   "cell_type": "code",
   "execution_count": null,
   "metadata": {
    "collapsed": false,
    "pycharm": {
     "name": "#%%\n"
    }
   },
   "outputs": [],
   "source": [
    "results = []\n",
    "for curr_sig_len in range(1, max_sig_length + 1):\n",
    "    curr_gene_list = gene_list[0:curr_sig_len]\n",
    "\n",
    "    score_signature(\n",
    "        method='adjusted_neighborhood_scoring',\n",
    "        adata=adata,\n",
    "        gene_list=curr_gene_list,\n",
    "        **scm_params\n",
    "    )\n",
    "    curr_scores = adata.obs[scm_params['score_name']].copy()\n",
    "    aucs = []\n",
    "    for (sid, data) in adata.obs.groupby(by='sample_id'):\n",
    "        aucs.append((\n",
    "                len(curr_gene_list),\n",
    "                sid,\n",
    "                1 - roc_auc_score(data.malignant_key, curr_scores[data.index])\n",
    "        ))\n",
    "    results.append(pd.DataFrame(aucs, columns=['signature_length', 'sample_id', 'AUCROC']))\n",
    "results = pd.concat(results, axis=0)\n",
    "results = pd.pivot(results, columns='sample_id', index='signature_length')"
   ]
  },
  {
   "cell_type": "code",
   "execution_count": null,
   "metadata": {
    "collapsed": false,
    "pycharm": {
     "name": "#%%\n"
    }
   },
   "outputs": [],
   "source": [
    "results"
   ]
  },
  {
   "cell_type": "code",
   "execution_count": null,
   "metadata": {
    "collapsed": false,
    "pycharm": {
     "name": "#%%\n"
    }
   },
   "outputs": [],
   "source": [
    "nr_sims = 10"
   ]
  },
  {
   "cell_type": "code",
   "execution_count": null,
   "metadata": {
    "collapsed": false,
    "pycharm": {
     "name": "#%%\n"
    }
   },
   "outputs": [],
   "source": [
    "results = []\n",
    "for curr_sig_len in range(1, max_sig_length + 1):\n",
    "    sim_results = []\n",
    "    for i in range(nr_sims):\n",
    "        curr_gene_list = random.sample(gene_list, curr_sig_len)\n",
    "\n",
    "        score_signature(\n",
    "            method='adjusted_neighborhood_scoring',\n",
    "            adata=adata,\n",
    "            gene_list=curr_gene_list,\n",
    "            **scm_params\n",
    "        )\n",
    "        curr_scores = adata.obs[scm_params['score_name']].copy()\n",
    "        aucs = []\n",
    "        for (sid, data) in adata.obs.groupby(by='sample_id'):\n",
    "            aucs.append((\n",
    "                    i,\n",
    "                    len(curr_gene_list),\n",
    "                    sid,\n",
    "                    1 - roc_auc_score(data.malignant_key, curr_scores[data.index])\n",
    "            ))\n",
    "\n",
    "        sim_results.append(pd.DataFrame(aucs, columns=['simuation_nr', 'signature_length', 'sample_id', 'AUCROC']))\n",
    "    sim_results = pd.concat(sim_results, axis=0)\n",
    "    results.append(sim_results.groupby(['signature_length', 'sample_id'])['AUCROC'].mean().reset_index())\n",
    "results = pd.concat(results, axis=0)\n",
    "results = pd.pivot(results, columns='sample_id', index='signature_length')"
   ]
  },
  {
   "cell_type": "code",
   "execution_count": null,
   "metadata": {
    "collapsed": false,
    "pycharm": {
     "name": "#%%\n"
    }
   },
   "outputs": [],
   "source": [
    "results"
   ]
  },
  {
   "cell_type": "code",
   "execution_count": null,
   "metadata": {
    "collapsed": false,
    "pycharm": {
     "name": "#%%\n"
    }
   },
   "outputs": [],
   "source": []
  },
  {
   "cell_type": "code",
   "execution_count": null,
   "metadata": {
    "collapsed": false,
    "pycharm": {
     "name": "#%%\n"
    }
   },
   "outputs": [],
   "source": []
  },
  {
   "cell_type": "code",
   "execution_count": null,
   "metadata": {
    "collapsed": false,
    "pycharm": {
     "name": "#%%\n"
    }
   },
   "outputs": [],
   "source": []
  },
  {
   "cell_type": "code",
   "execution_count": null,
   "metadata": {
    "collapsed": false,
    "pycharm": {
     "name": "#%%\n"
    }
   },
   "outputs": [],
   "source": [
    "def score_genes_and_evaluate(adata, gene_list, df_mean_var, sc_method, scm_params, col_sid='sample_id'):\n",
    "    score_signature(\n",
    "        method=sc_method,\n",
    "        adata=adata,\n",
    "        gene_list=gene_list,\n",
    "        df_mean_var=df_mean_var,\n",
    "        **scm_params\n",
    "    )\n",
    "    curr_scores = adata.obs[scm_params['score_name']].copy()\n",
    "    aucs = []\n",
    "    for (sid, data) in adata.obs.groupby(by=col_sid):\n",
    "        aucs.append((\n",
    "                len(gene_list),\n",
    "                sid,\n",
    "                1 - roc_auc_score(data.malignant_key, curr_scores[data.index])\n",
    "        ))\n",
    "    return pd.DataFrame(aucs, columns=['signature_length', 'sample_id', 'AUCROC'])\n",
    "\n",
    "\n",
    "def run_experiment_decreasing_dgex(adata, gene_list, df_mean_var, sc_method, scm_params):\n",
    "    results = []\n",
    "    max_sig_length = len(gene_list)\n",
    "    for curr_sig_len in range(1, max_sig_length + 1):\n",
    "        curr_gene_list = gene_list[0:curr_sig_len]\n",
    "        results.append(score_genes_and_evaluate(\n",
    "            adata,\n",
    "            curr_gene_list,\n",
    "            df_mean_var,\n",
    "            sc_method,\n",
    "            scm_params\n",
    "        ))\n",
    "    results = pd.concat(results, axis=0)\n",
    "    results = pd.pivot(results, columns='sample_id', index='signature_length')\n",
    "    return results\n",
    "\n",
    "\n",
    "def run_experiment_random_dgex(adata, gene_list, df_mean_var, sc_method, scm_params, max_sig_length, nr_sims):\n",
    "    results = []\n",
    "    for curr_sig_len in range(1, max_sig_length + 1):\n",
    "        curr_res = []\n",
    "        for j in range(nr_sims):\n",
    "            curr_gene_list = random.sample(gene_list, curr_sig_len)\n",
    "            curr_res.append(score_genes_and_evaluate(\n",
    "                adata,\n",
    "                curr_gene_list,\n",
    "                df_mean_var,\n",
    "                sc_method,\n",
    "                scm_params\n",
    "            ))\n",
    "        curr_res_df = pd.concat(results, axis=0)\n",
    "    return results"
   ]
  },
  {
   "cell_type": "code",
   "execution_count": null,
   "metadata": {
    "collapsed": false,
    "pycharm": {
     "name": "#%%\n"
    }
   },
   "outputs": [],
   "source": []
  }
 ],
 "metadata": {
  "kernelspec": {
   "display_name": "Python 3",
   "language": "python",
   "name": "python3"
  },
  "language_info": {
   "codemirror_mode": {
    "name": "ipython",
    "version": 2
   },
   "file_extension": ".py",
   "mimetype": "text/x-python",
   "name": "python",
   "nbconvert_exporter": "python",
   "pygments_lexer": "ipython2",
   "version": "2.7.6"
  }
 },
 "nbformat": 4,
 "nbformat_minor": 0
}
