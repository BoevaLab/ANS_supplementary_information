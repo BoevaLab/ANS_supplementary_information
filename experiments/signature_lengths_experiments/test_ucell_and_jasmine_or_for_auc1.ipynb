{
 "cells": [
  {
   "cell_type": "code",
   "execution_count": null,
   "id": "e197706f",
   "metadata": {},
   "outputs": [],
   "source": [
    "import argparse\n",
    "import json\n",
    "import os\n",
    "import random\n",
    "import sys\n",
    "import warnings\n",
    "warnings.filterwarnings(\"ignore\")\n",
    "from datetime import datetime\n",
    "import matplotlib.pyplot as plt\n",
    "\n",
    "import pandas as pd\n",
    "import numpy as np\n",
    "import scanpy as sc\n",
    "from signaturescoring import score_signature\n",
    "from signaturescoring.utils.utils import get_mean_and_variance_gene_expression\n",
    "from sklearn.metrics import roc_auc_score, precision_recall_curve, auc\n",
    "\n",
    "sys.path.append('../..')\n",
    "from data.load_data import load_datasets, load_dgex_genes_for_mal_cells\n",
    "from data.constants import METHOD_WO_MEAN\n",
    "from experiments.experiment_utils import AttributeDict, get_malignant_signature, get_scoring_method_params\n",
    "\n",
    "sc.settings.verbosity = 2"
   ]
  },
  {
   "cell_type": "code",
   "execution_count": null,
   "id": "0061da9c",
   "metadata": {},
   "outputs": [],
   "source": [
    "def score_genes_and_evaluate(adata, gene_list, df_mean_var,sc_method_long, sc_method, scm_params, col_sid='sample_id'):\n",
    "    if sc_method in METHOD_WO_MEAN:\n",
    "        score_signature(\n",
    "            method=sc_method,\n",
    "            adata=adata,\n",
    "            gene_list=gene_list,\n",
    "            **scm_params\n",
    "        )\n",
    "    else:\n",
    "        score_signature(\n",
    "            method=sc_method,\n",
    "            adata=adata,\n",
    "            gene_list=gene_list,\n",
    "            df_mean_var=df_mean_var,\n",
    "            **scm_params\n",
    "        )\n",
    "    curr_scores = adata.obs[scm_params['score_name']].copy()\n",
    "    aucs = []\n",
    "    \n",
    "    \n",
    "    precision, recall, thresholds = precision_recall_curve(adata.obs.malignant_key, curr_scores, pos_label='malignant')\n",
    "    # calculate precision-recall AUC\n",
    "    res_auc = auc(recall, precision)\n",
    "    \n",
    "    aucs.append((len(gene_list),\n",
    "                 1 - roc_auc_score(adata.obs.malignant_key, curr_scores), \n",
    "                 res_auc))\n",
    "        \n",
    "    return pd.DataFrame(aucs, columns=['signature_length',f'AUCROC_{sc_method_long}', f'AUCPR_{sc_method_long}'])"
   ]
  },
  {
   "cell_type": "code",
   "execution_count": null,
   "id": "35b645cc",
   "metadata": {},
   "outputs": [],
   "source": [
    "dataset= 'luad_xing'\n",
    "\n",
    "norm_method='mean'\n",
    "sample_based=False\n",
    "dge_on_all='pseudobulk'\n",
    "intersect_pct=0.9\n",
    "min_log2fc=2\n",
    "pval=0.01\n",
    "ranked_means=False\n",
    "sort_values_by='median_log2FC'\n",
    "sig_length=None\n",
    "most_dge=True"
   ]
  },
  {
   "cell_type": "code",
   "execution_count": null,
   "id": "32b7dd2a",
   "metadata": {},
   "outputs": [],
   "source": [
    "adata = load_datasets(dataset, preprocessed=True, norm_method=norm_method)\n",
    "\n",
    "if 'log1p' in adata.uns_keys():\n",
    "    adata.uns['log1p']['base'] = None\n",
    "else:\n",
    "    adata.uns['log1p'] = {'base': None}\n",
    "\n",
    "gene_list = get_malignant_signature(dataset, \n",
    "                                    norm_method, \n",
    "                                    sample_based, \n",
    "                                    dge_on_all, \n",
    "                                    intersect_pct, \n",
    "                                    min_log2fc,\n",
    "                                    pval,\n",
    "                                    ranked_means,\n",
    "                                    sort_values_by,\n",
    "                                    sig_length,\n",
    "                                    most_dge)"
   ]
  },
  {
   "cell_type": "code",
   "execution_count": null,
   "id": "a4362d1a",
   "metadata": {},
   "outputs": [],
   "source": [
    "sc_method_long = \"ucell_scoring\"\n",
    "sc_method, scm_params = get_scoring_method_params(sc_method_long)\n",
    "sc_method, scm_params"
   ]
  },
  {
   "cell_type": "code",
   "execution_count": null,
   "id": "c43b763f",
   "metadata": {},
   "outputs": [],
   "source": [
    "scoring_methods = get_scoring_method_params(\"all\")\n",
    "scoring_methods"
   ]
  },
  {
   "cell_type": "code",
   "execution_count": null,
   "id": "bc8beaa5",
   "metadata": {
    "scrolled": true
   },
   "outputs": [],
   "source": [
    "sc.settings.verbosity = 0\n",
    "\n",
    "if dataset =='crc':\n",
    "    gene_lengths = range(1,21, 2)\n",
    "elif dataset == 'escc':\n",
    "    #gene_lengths = [100, 200, 300, 400, 500, 600, 670]\n",
    "    gene_lengths = range(1,21, 2)\n",
    "elif dataset == 'luad':\n",
    "    gene_lengths = [100, 150, 200, 250, 300, 350, 388]\n",
    "elif dataset == 'luad_xing':\n",
    "    gene_lengths = [5,10,20,30,50, 100,200,300,400,464]\n",
    "#     gene_lengths = range(50,300, 25)\n",
    "#     gene_lengths = np.logspace(0,np.log10(len(gene_list)),num=9,base=10,dtype='int')\n",
    "elif dataset == 'melanoma':\n",
    "    gene_lengths = [100, 150, 200, 250, 300, 350, 388]\n",
    "else:\n",
    "    gene_lengths = range(1,21, 2)\n",
    "\n",
    "for sc_method_long, (sc_method, scm_params) in scoring_methods.items():\n",
    "    res = []\n",
    "    for i in gene_lengths:\n",
    "        res.append(score_genes_and_evaluate(adata, gene_list[0:i], None, sc_method_long, sc_method, scm_params))\n",
    "    results = pd.concat(res, axis=0)\n",
    "    display(round(results,3))"
   ]
  },
  {
   "cell_type": "code",
   "execution_count": null,
   "id": "5f13e61b",
   "metadata": {},
   "outputs": [],
   "source": [
    "sc.settings.verbosity = 0\n",
    "\n",
    "if dataset =='crc':\n",
    "    gene_lengths = range(1,21, 2)\n",
    "elif dataset == 'escc':\n",
    "    #gene_lengths = [100, 200, 300, 400, 500, 600, 670]\n",
    "    gene_lengths = range(1,21, 2)\n",
    "elif dataset == 'luad':\n",
    "    gene_lengths = [100, 150, 200, 250, 300, 350, 388]\n",
    "elif dataset == 'luad_xing':\n",
    "    gene_lengths = [5,10,20,30,50, 100,200,300,400,464]\n",
    "#     gene_lengths = range(50,300, 25)\n",
    "#     gene_lengths = np.logspace(0,np.log10(len(gene_list)),num=9,base=10,dtype='int')\n",
    "elif dataset == 'melanoma':\n",
    "    gene_lengths = [100, 150, 200, 250, 300, 350, 388]\n",
    "else:\n",
    "    gene_lengths = range(1,21, 2)\n",
    "\n",
    "for sc_method_long, (sc_method, scm_params) in scoring_methods.items():\n",
    "    res = []\n",
    "    for i in gene_lengths:\n",
    "        res.append(score_genes_and_evaluate(adata, gene_list[0:i], None, sc_method_long, sc_method, scm_params))\n",
    "    results = pd.concat(res, axis=0)\n",
    "    display(round(results,3))"
   ]
  }
 ],
 "metadata": {
  "kernelspec": {
   "display_name": "Python 3 (ipykernel)",
   "language": "python",
   "name": "python3"
  },
  "language_info": {
   "codemirror_mode": {
    "name": "ipython",
    "version": 3
   },
   "file_extension": ".py",
   "mimetype": "text/x-python",
   "name": "python",
   "nbconvert_exporter": "python",
   "pygments_lexer": "ipython3",
   "version": "3.8.12"
  }
 },
 "nbformat": 4,
 "nbformat_minor": 5
}
