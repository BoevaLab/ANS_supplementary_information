{
 "cells": [
  {
   "cell_type": "markdown",
   "id": "73805c3b",
   "metadata": {},
   "source": [
    "# Notebook for figure creation of signature length experiment\n",
    "During the experiment for robustness of scoring methods to limited signature genes, we computed the AUCROC and AUCPR of thescores and the true malignancy labels. The following notebook gathers the results and creates the result heatmaps for CRC, ESCC and LUAD datasets. "
   ]
  },
  {
   "cell_type": "code",
   "execution_count": null,
   "id": "68d923f4",
   "metadata": {},
   "outputs": [],
   "source": [
    "from IPython.display import display, HTML\n",
    "display(HTML(\"<style>.container { width:95% !important; }</style>\"))"
   ]
  },
  {
   "cell_type": "code",
   "execution_count": null,
   "id": "176327d5",
   "metadata": {},
   "outputs": [],
   "source": [
    "import glob\n",
    "import os\n",
    "import numpy as np\n",
    "import pandas as pd\n",
    "import seaborn as sns\n",
    "from matplotlib import pyplot as plt\n",
    "import sys\n",
    "sys.path.append('../..')\n",
    "from data.constants import BASE_PATH_EXPERIMENTS\n",
    "\n",
    "plt.rcParams.update({'pdf.fonttype':42, 'font.family':'sans-serif', 'font.sans-serif':'Arial', 'font.size':14})"
   ]
  },
  {
   "cell_type": "markdown",
   "id": "55d5e70b",
   "metadata": {},
   "source": [
    "### Global variables"
   ]
  },
  {
   "cell_type": "code",
   "execution_count": null,
   "id": "dafaadb2",
   "metadata": {},
   "outputs": [],
   "source": [
    "name_map={\n",
    "    'AUC_decreasing_log2fc_adjusted_neighborhood_scoring.csv':'ANS',\n",
    "    'AUC_decreasing_log2fc_jasmine_scoring_lh.csv':'Jasmine_LH',\n",
    "    'AUC_decreasing_log2fc_jasmine_scoring_or.csv':'Jasmine_OR',\n",
    "    'AUC_decreasing_log2fc_scanpy_scoring.csv':'Scanpy',\n",
    "    'AUC_decreasing_log2fc_seurat_ag_scoring.csv':'Seurat_AG',\n",
    "    'AUC_decreasing_log2fc_seurat_lvg_scoring.csv':'Seurat_LVG',\n",
    "    'AUC_decreasing_log2fc_seurat_scoring.csv':'Seurat',\n",
    "    'AUC_decreasing_log2fc_ucell_scoring.csv':'UCell',\n",
    "}\n",
    "sc_name_map={\n",
    "    'adjusted_neighborhood_scoring':'ANS',\n",
    "    'seurat_scoring':'Seurat',\n",
    "    'seurat_ag_scoring':'Seurat_AG', \n",
    "    'seurat_lvg_scoring':'Seurat_LVG',\n",
    "    'scanpy_scoring':'Scanpy',\n",
    "    'jasmine_scoring_lh':'Jasmine_LH',\n",
    "    'jasmine_scoring_or':'Jasmine_OR',\n",
    "    'ucell_scoring':'UCell',\n",
    "}\n",
    "\n",
    "sc_names = ['ANS','Seurat', 'Seurat_AG','Seurat_LVG','Scanpy', 'Jasmine_LH', 'Jasmine_OR','UCell']\n",
    "\n",
    "base_path = os.path.join(BASE_PATH_EXPERIMENTS, 'signature_lengths_experiments')\n",
    "\n",
    "save = True"
   ]
  },
  {
   "cell_type": "markdown",
   "id": "ff27a691",
   "metadata": {},
   "source": [
    "### Helper functions"
   ]
  },
  {
   "cell_type": "code",
   "execution_count": null,
   "id": "bddc5c1c",
   "metadata": {},
   "outputs": [],
   "source": [
    "def get_full_data(list_fns):\n",
    "    list_dfs = []\n",
    "    for fn in list_fns:\n",
    "        scoring_method = name_map[os.path.basename(fn)]\n",
    "        tmp_df = pd.read_csv(fn)\n",
    "        if 'Unnamed: 0' in tmp_df.columns:\n",
    "            tmp_df = tmp_df.drop(columns=['Unnamed: 0'])\n",
    "        tmp_df = tmp_df.set_index('signature_length')\n",
    "        list_dfs.append(tmp_df)\n",
    "        \n",
    "    df = pd.concat(list_dfs, axis=1)\n",
    "\n",
    "    df_aucroc = df[[x for x in df.columns if 'AUCROC' in x]]\n",
    "    df_aucroc.columns = [sc_name_map['_'.join(x.split('_')[1:])] for x in df_aucroc.columns]\n",
    "\n",
    "    df_aucpr = df[[x for x in df.columns if 'AUCPR' in x]]\n",
    "    df_aucpr.columns = [sc_name_map['_'.join(x.split('_')[1:])] for x in df_aucpr.columns]\n",
    "\n",
    "    \n",
    "\n",
    "    return df_aucroc, df_aucpr\n",
    "\n",
    "\n",
    "def create_lineplots(df, dataset, scnames):\n",
    "    with plt.rc_context({'figure.figsize': (20,8)}):\n",
    "        for group in scnames:\n",
    "            sns.lineplot(data=df[df.scoring_method==group], x=\"signature_length\", y=\"AUC\",label=group)\n",
    "        plt.axhline(0.99, c='r',ls=':',alpha=0.7, label='AUCROC 0.99')\n",
    "        plt.axhline(0.95, c='orange',ls=':',alpha=0.7, label='AUCROC 0.95')\n",
    "        plt.axhline(0.9, c='g',ls=':',alpha=0.7, label='AUCROC 0.90')\n",
    "        plt.legend(fontsize=16)\n",
    "        plt.title(f'Scoring for signatures of different lengths in decreasing log2FC order for DGEX genes ({dataset.upper()})', fontsize=18)\n",
    "        plt.xlim([-0.001,250])\n",
    "        plt.xticks((np.arange(0, 250, 10)), fontsize=16)\n",
    "        plt.yticks(fontsize=16)\n",
    "        plt.xlabel('Signature lengths', fontsize=16)\n",
    "        plt.ylabel('AUCROC', fontsize=16)\n",
    "    return plt.gcf()\n",
    "\n",
    "def create_barplot(df, dataset, scnames, mean_samples=True):\n",
    "    if mean_samples:\n",
    "        aggregated_performances = df.groupby(by= ['signature_length', 'scoring_method'])['AUC'].mean().reset_index()\n",
    "    else:\n",
    "        aggregated_performances = df.groupby(by= ['signature_length', 'scoring_method'])['AUC'].median().reset_index()\n",
    "        \n",
    "    list_interesting_data=[]\n",
    "    new_index = []\n",
    "    for group in aggregated_performances.groupby(by= ['scoring_method']):\n",
    "        for auc in [0.8,0.85,0.9,0.95,0.99]:\n",
    "            new_index.append((group[0],auc))\n",
    "            list_interesting_data.append(group[1][group[1].AUC >= auc].signature_length.min())\n",
    "    \n",
    "    index = pd.MultiIndex.from_tuples(new_index, names=[\"scoring_method\", 'AUC'])\n",
    "\n",
    "    aggregated_performances = pd.DataFrame(list_interesting_data, index=index, columns=['signature_length']).reset_index()\n",
    "    aggregated_performances[\"logFC order\"]=' '\n",
    "    g = sns.catplot(x=\"logFC order\", y=\"signature_length\",\n",
    "                hue=\"scoring_method\", col=\"AUC\",\n",
    "                hue_order=sc_names,\n",
    "                data=aggregated_performances, kind=\"bar\", height=5, aspect=0.5, alpha=1, legend=False);\n",
    "    g.set_ylabels('Signature length', size=16)\n",
    "    g.set_titles(\"AUCROC {col_name}\", size=16)\n",
    "    g.set_xticklabels(size=16)\n",
    "    for splot in g.axes[0]:\n",
    "        for p in splot.patches:\n",
    "            splot.annotate(format(p.get_height(), '.0f'), \n",
    "                           (p.get_x() + p.get_width() / 2., p.get_height()), \n",
    "                           ha = 'center', va = 'center', \n",
    "                           xytext = (0, 9), \n",
    "                           textcoords = 'offset points',\n",
    "                           fontsize=16)\n",
    "    g.set(xlabel=None)\n",
    "    g.add_legend(fontsize=16)\n",
    "    g.axes[0][0].set_yticklabels(g.axes[0][0].get_yticks().astype('int32'), size = 16)\n",
    "    plt.suptitle(f'Nr. of genes with largest log2FC required in signature to achieve desired AUCROC ({dataset.upper()})', size=18,y=1.075);\n",
    "    return plt.gcf()\n",
    "    \n",
    "\n",
    "def create_heatmaps(df, dataset, scnames, mean_samples=True, short=False):\n",
    "    if mean_samples:\n",
    "        grouped_df = df.groupby(['scoring_method', 'signature_length'])['AUC'].aggregate('mean').unstack()\n",
    "    else:\n",
    "        grouped_df = df.groupby(['scoring_method', 'signature_length'])['AUC'].aggregate('median').unstack()\n",
    "        \n",
    "    if short:\n",
    "        figsize = (8,20)\n",
    "        data = grouped_df.iloc[:,0:50].loc[sc_names].T\n",
    "    else:\n",
    "        figsize = (10,50)\n",
    "        data = grouped_df.loc[sc_names].T\n",
    "        \n",
    "    plt.figure(figsize=figsize)\n",
    "    g = sns.heatmap(data, cmap='coolwarm', annot=True)\n",
    "    g.set_title(f'Mean AUCs over {dataset.upper()} samples for signature scoring methods and different signature lengths', fontsize=18);\n",
    "    g.set_ylabel(\"Signature lengths\", size=16);\n",
    "    g.set_xlabel(\"\");\n",
    "    g.set_yticklabels(g.get_yticklabels(),fontsize=16);\n",
    "    g.figure.tight_layout()\n",
    "    return plt.gcf()\n",
    "        \n",
    "        \n",
    "        \n",
    "def creat_heatmap(data, measurement='AUCROC', block_code=(1,1,1)):\n",
    "    plt.rcParams.update({'pdf.fonttype':42, 'font.family':'sans-serif', 'font.sans-serif':'Arial', 'font.size':16})\n",
    "    asp = 2\n",
    "    figw = 7\n",
    "    figh = figw*asp\n",
    "\n",
    "    cmap = plt.cm.coolwarm\n",
    "    if sum(block_code)==3:\n",
    "        height_ratios = [9,1,1]\n",
    "    elif sum(block_code)==2:\n",
    "        height_ratios = [9,1]\n",
    "    else:\n",
    "        height_ratios = [1]\n",
    "    gridspec_kw = {\"height_ratios\":height_ratios, \"width_ratios\" : [1]}\n",
    "    heatmapkws = dict(square=False, cbar=False, cmap = cmap, linewidths=0.0, vmin= data.min().min(), vmax= data.max().max() ) \n",
    "    tickskw =  dict(xticklabels=False, yticklabels=False)\n",
    "\n",
    "    left = 0.07; right=0.87\n",
    "    bottom = 0.1; top = 0.9\n",
    "    \n",
    "    fig, axes = plt.subplots(ncols=1, nrows=sum(block_code), figsize=(figw, figh), gridspec_kw=gridspec_kw)\n",
    "    plt.subplots_adjust(left=left, right=right,bottom=bottom, top=top, wspace=0.1, hspace=0.01*asp)\n",
    "    i=0\n",
    "    if block_code[0]==1:\n",
    "        curr_ax = axes[i] if sum(block_code)>1 else axes\n",
    "        sns.heatmap(data.iloc[:-4,:], ax=curr_ax, xticklabels=False if sum(block_code)!=(i+1) else True, yticklabels=True, annot=True, **heatmapkws)\n",
    "        curr_ax.set_ylabel('')\n",
    "        curr_ax.set_yticklabels(curr_ax.get_yticklabels(), rotation=0)\n",
    "        if sum(block_code)==(i+1):\n",
    "            curr_ax.set_xticklabels(curr_ax.get_xticklabels(), rotation=45, fontsize=18)\n",
    "        i+=1\n",
    "    if block_code[1]==1:\n",
    "        curr_ax = axes[i] if sum(block_code)>1 else axes\n",
    "        sns.heatmap(data.iloc[-4:-2,:], ax=curr_ax, xticklabels=False if sum(block_code)!=(i+1) else True, yticklabels=True,annot=True, **heatmapkws)\n",
    "        curr_ax.set_ylabel('')\n",
    "        curr_ax.set_yticklabels(curr_ax.get_yticklabels(), rotation=0)\n",
    "        if sum(block_code)==(i+1):\n",
    "            curr_ax.set_xticklabels(curr_ax.get_xticklabels(), rotation=45, fontsize=18)\n",
    "        i+=1\n",
    "    if block_code[2]==1:\n",
    "        curr_ax = axes[i] if sum(block_code)>1 else axes\n",
    "        sns.heatmap(data.iloc[-2:,:], ax=curr_ax, xticklabels=True, yticklabels=True,annot=True, **heatmapkws)\n",
    "        curr_ax.set_ylabel('')\n",
    "        curr_ax.set_yticklabels(curr_ax.get_yticklabels(), rotation=0)\n",
    "        curr_ax.set_xticklabels(curr_ax.get_xticklabels(), rotation=45, fontsize=18)\n",
    "\n",
    "    plt.suptitle(f'Signature length robustness ({measurement})', x=0.47, y=0.92)\n",
    "    return plt.gcf()  \n",
    "\n",
    "\n",
    "def get_idx(x):\n",
    "    try:\n",
    "        idx = x[round(x,2)==1].index[0]\n",
    "    except:\n",
    "        idx = x.index[-1]\n",
    "    return idx\n"
   ]
  },
  {
   "cell_type": "markdown",
   "id": "54bfa8da",
   "metadata": {},
   "source": [
    "## CRC"
   ]
  },
  {
   "cell_type": "code",
   "execution_count": null,
   "id": "ab202a1f",
   "metadata": {},
   "outputs": [],
   "source": [
    "dataset = 'crc'"
   ]
  },
  {
   "cell_type": "code",
   "execution_count": null,
   "id": "486ec261",
   "metadata": {},
   "outputs": [],
   "source": [
    "st_path_dec = os.path.join(base_path, dataset, 'decreasing_log2fc', 'AUCROCS')\n",
    "storing_path = os.path.join(base_path, dataset, 'decreasing_log2fc')"
   ]
  },
  {
   "cell_type": "code",
   "execution_count": null,
   "id": "f57e677d",
   "metadata": {},
   "outputs": [],
   "source": [
    "AUC_fns = glob.glob(os.path.join(st_path_dec,'*.csv'))\n",
    "AUC_fns.sort()\n",
    "AUC_fns"
   ]
  },
  {
   "cell_type": "code",
   "execution_count": null,
   "id": "7973eadc",
   "metadata": {},
   "outputs": [],
   "source": [
    "df_aucroc, df_aucpr = get_full_data(AUC_fns)"
   ]
  },
  {
   "cell_type": "code",
   "execution_count": null,
   "id": "271f37fc",
   "metadata": {},
   "outputs": [],
   "source": [
    "df_aucroc = df_aucroc[sc_names]\n",
    "df_aucroc = df_aucroc.fillna(method='ffill')\n",
    "indexes_aucroc = df_aucroc.apply(get_idx , axis=0)\n",
    "df_aucroc"
   ]
  },
  {
   "cell_type": "code",
   "execution_count": null,
   "id": "8898f8c6",
   "metadata": {},
   "outputs": [],
   "source": [
    "df_aucpr = df_aucpr[sc_names]\n",
    "df_aucpr = df_aucpr.fillna(method='ffill')\n",
    "indexes_aucpr = df_aucpr.apply(get_idx , axis=0)\n",
    "df_aucpr"
   ]
  },
  {
   "cell_type": "code",
   "execution_count": null,
   "id": "85dcd01a",
   "metadata": {},
   "outputs": [],
   "source": [
    "indexes_aucroc, indexes_aucpr"
   ]
  },
  {
   "cell_type": "code",
   "execution_count": null,
   "id": "6010d4ec",
   "metadata": {},
   "outputs": [],
   "source": [
    "small_df_aucroc = df_aucroc.iloc[list(np.arange(15))+[indexes_aucroc.Jasmine_OR-2, indexes_aucroc.Jasmine_OR-1,\n",
    "                                                      indexes_aucroc.UCell-2, indexes_aucroc.UCell-1]]\n",
    "\n",
    "\n",
    "small_df_aucpr  = df_aucpr.iloc[list(np.arange(15))+[indexes_aucpr.Jasmine_OR-2, indexes_aucpr.Jasmine_OR-1,\n",
    "                                                     indexes_aucpr.UCell-2, indexes_aucpr.UCell-1]]"
   ]
  },
  {
   "cell_type": "code",
   "execution_count": null,
   "id": "308eb3b5",
   "metadata": {},
   "outputs": [],
   "source": [
    "plt.rcParams.update({'pdf.fonttype':42, 'font.family':'sans-serif', 'font.sans-serif':'Arial', 'font.size':14})\n",
    "fig = creat_heatmap(small_df_aucroc, measurement='AUCROC')\n",
    "plt.close(fig)"
   ]
  },
  {
   "cell_type": "code",
   "execution_count": null,
   "id": "951c8aef",
   "metadata": {},
   "outputs": [],
   "source": [
    "plt.rcParams.update({'pdf.fonttype':42, 'font.family':'sans-serif', 'font.sans-serif':'Arial', 'font.size':14})\n",
    "fig = creat_heatmap(small_df_aucroc, measurement='AUCROC', block_code=(1,1,0))\n",
    "if save:\n",
    "    fig.savefig(os.path.join(storing_path, 'aucroc_heatmap.svg'), format='svg')"
   ]
  },
  {
   "cell_type": "code",
   "execution_count": null,
   "id": "766b474e",
   "metadata": {},
   "outputs": [],
   "source": [
    "fig = creat_heatmap(small_df_aucpr, measurement='AUCPR', block_code=(1,1,0))\n",
    "if save:\n",
    "    fig.savefig(os.path.join(storing_path, 'aucpr_heatmap.svg'), format='svg')"
   ]
  },
  {
   "cell_type": "code",
   "execution_count": null,
   "id": "1b4809a6",
   "metadata": {},
   "outputs": [],
   "source": [
    "#fig = create_heatmaps(all_performances, dataset, sc_names, mean_samples=True, short=False)\n",
    "#fig.savefig(os.path.join(storing_path, 'auc_heat_mean_long.svg'), format='svg')\n",
    "#plt.close(fig)\n",
    "#fig = create_heatmaps(all_performances, dataset, sc_names, mean_samples=True, short=True)\n",
    "#fig.savefig(os.path.join(storing_path, 'auc_heat_mean_short.svg'), format='svg')\n",
    "#plt.close(fig)\n",
    "#fig = create_heatmaps(all_performances, dataset, sc_names, mean_samples=False, short=False)\n",
    "#fig.savefig(os.path.join(storing_path, 'auc_heat_median_long.svg'), format='svg')\n",
    "#plt.close(fig)\n",
    "#fig = create_heatmaps(all_performances, dataset, sc_names, mean_samples=False, short=True)\n",
    "#fig.savefig(os.path.join(storing_path, 'auc_heat_median_short.svg'), format='svg')\n",
    "#plt.close(fig)\n",
    "#fig = create_barplot(all_performances, dataset, sc_names, mean_samples=True)\n",
    "#fig.savefig(os.path.join(storing_path, 'auc_bar_mean.svg'), format='svg')\n",
    "#plt.close(fig)\n",
    "#fig = create_barplot(all_performances, dataset, sc_names, mean_samples=False)\n",
    "#fig.savefig(os.path.join(storing_path, 'auc_bar_median.svg'), format='svg')\n",
    "#plt.close(fig)"
   ]
  },
  {
   "cell_type": "markdown",
   "id": "8ace0594",
   "metadata": {},
   "source": [
    "## ESCC"
   ]
  },
  {
   "cell_type": "code",
   "execution_count": null,
   "id": "91285fe9",
   "metadata": {},
   "outputs": [],
   "source": [
    "dataset = 'escc'"
   ]
  },
  {
   "cell_type": "code",
   "execution_count": null,
   "id": "51a05721",
   "metadata": {},
   "outputs": [],
   "source": [
    "st_path_dec = os.path.join(base_path, dataset, 'decreasing_log2fc', 'AUCROCS')\n",
    "storing_path = os.path.join(base_path, dataset, 'decreasing_log2fc')"
   ]
  },
  {
   "cell_type": "code",
   "execution_count": null,
   "id": "ee768cc6",
   "metadata": {},
   "outputs": [],
   "source": [
    "AUC_fns = glob.glob(os.path.join(st_path_dec,'*.csv'))\n",
    "AUC_fns.sort()"
   ]
  },
  {
   "cell_type": "code",
   "execution_count": null,
   "id": "1a80c98e",
   "metadata": {},
   "outputs": [],
   "source": [
    "df_aucroc, df_aucpr = get_full_data(AUC_fns)"
   ]
  },
  {
   "cell_type": "code",
   "execution_count": null,
   "id": "591a900c",
   "metadata": {},
   "outputs": [],
   "source": [
    "df_aucroc = df_aucroc[sc_names]\n",
    "df_aucroc = df_aucroc.fillna(method='ffill')\n",
    "indexes_aucroc = df_aucroc.apply(get_idx , axis=0)\n",
    "df_aucroc"
   ]
  },
  {
   "cell_type": "code",
   "execution_count": null,
   "id": "6390cca7",
   "metadata": {},
   "outputs": [],
   "source": [
    "df_aucpr = df_aucpr[sc_names]\n",
    "df_aucpr = df_aucpr.fillna(method='ffill')\n",
    "indexes_aucpr = df_aucpr.apply(get_idx , axis=0)\n",
    "df_aucpr"
   ]
  },
  {
   "cell_type": "code",
   "execution_count": null,
   "id": "57783a47",
   "metadata": {},
   "outputs": [],
   "source": [
    "indexes_aucroc, indexes_aucpr"
   ]
  },
  {
   "cell_type": "code",
   "execution_count": null,
   "id": "32191a5f",
   "metadata": {},
   "outputs": [],
   "source": [
    "small_df_aucroc = df_aucroc.iloc[list(np.arange(12))+[indexes_aucroc.Jasmine_OR-2, indexes_aucroc.Jasmine_OR-1,\n",
    "                                                      indexes_aucroc.UCell-2, indexes_aucroc.UCell-1]]\n",
    "\n",
    "\n",
    "small_df_aucpr  = df_aucpr.iloc[list(np.arange(14))+[indexes_aucpr.Jasmine_OR-2, indexes_aucpr.Jasmine_OR-1,\n",
    "                                                     indexes_aucpr.UCell-2, indexes_aucpr.UCell-1]]"
   ]
  },
  {
   "cell_type": "code",
   "execution_count": null,
   "id": "66abd2c5",
   "metadata": {},
   "outputs": [],
   "source": [
    "fig = creat_heatmap(small_df_aucroc, measurement='AUCROC', block_code=(1,0,0))\n",
    "if save:\n",
    "    fig.savefig(os.path.join(storing_path, 'aucroc_heatmap.svg'), format='svg')"
   ]
  },
  {
   "cell_type": "code",
   "execution_count": null,
   "id": "474f4b82",
   "metadata": {},
   "outputs": [],
   "source": [
    "fig = creat_heatmap(small_df_aucpr, measurement='AUCPR',block_code=(1,0,1))\n",
    "if save:\n",
    "    fig.savefig(os.path.join(storing_path, 'aucpr_heatmap.svg'), format='svg')"
   ]
  },
  {
   "cell_type": "code",
   "execution_count": null,
   "id": "1013633f",
   "metadata": {},
   "outputs": [],
   "source": [
    "#fig = create_lineplots(all_performances, dataset, sc_names)\n",
    "#fig = create_lineplots(all_performances, dataset, sc_names)\n",
    "#fig.savefig(os.path.join(storing_path, 'line_plot.svg'), format='svg')\n",
    "#plt.close(fig)\n",
    "#fig = create_heatmaps(all_performances, dataset, sc_names, mean_samples=True, short=False)\n",
    "#fig.savefig(os.path.join(storing_path, 'auc_heat_mean_long.svg'), format='svg')\n",
    "#plt.close(fig)\n",
    "#fig = create_heatmaps(all_performances, dataset, sc_names, mean_samples=True, short=True)\n",
    "#fig.savefig(os.path.join(storing_path, 'auc_heat_mean_short.svg'), format='svg')\n",
    "#plt.close(fig)\n",
    "#fig = create_heatmaps(all_performances, dataset, sc_names, mean_samples=False, short=False)\n",
    "#fig.savefig(os.path.join(storing_path, 'auc_heat_median_long.svg'), format='svg')\n",
    "#plt.close(fig)\n",
    "#fig = create_heatmaps(all_performances, dataset, sc_names, mean_samples=False, short=True)\n",
    "#fig.savefig(os.path.join(storing_path, 'auc_heat_median_short.svg'), format='svg')\n",
    "#plt.close(fig)\n",
    "#fig = create_barplot(all_performances, dataset, sc_names, mean_samples=True)\n",
    "#fig.savefig(os.path.join(storing_path, 'auc_bar_mean.svg'), format='svg')\n",
    "#plt.close(fig)\n",
    "#fig = create_barplot(all_performances, dataset, sc_names, mean_samples=False)\n",
    "#fig.savefig(os.path.join(storing_path, 'auc_bar_median.svg'), format='svg')\n",
    "#plt.close(fig)"
   ]
  },
  {
   "cell_type": "markdown",
   "id": "565dc364",
   "metadata": {},
   "source": [
    "## LUAD"
   ]
  },
  {
   "cell_type": "code",
   "execution_count": null,
   "id": "714a243f",
   "metadata": {},
   "outputs": [],
   "source": [
    "dataset = 'luad'"
   ]
  },
  {
   "cell_type": "code",
   "execution_count": null,
   "id": "8f329cb8",
   "metadata": {},
   "outputs": [],
   "source": [
    "st_path_dec = os.path.join(base_path, dataset, 'decreasing_log2fc', 'AUCROCS')\n",
    "storing_path = os.path.join(base_path, dataset, 'decreasing_log2fc')"
   ]
  },
  {
   "cell_type": "code",
   "execution_count": null,
   "id": "0fe12167",
   "metadata": {},
   "outputs": [],
   "source": [
    "AUC_fns = glob.glob(os.path.join(st_path_dec,'*.csv'))\n",
    "AUC_fns.sort()"
   ]
  },
  {
   "cell_type": "code",
   "execution_count": null,
   "id": "edbd1577",
   "metadata": {},
   "outputs": [],
   "source": [
    "df_aucroc, df_aucpr = get_full_data(AUC_fns)"
   ]
  },
  {
   "cell_type": "code",
   "execution_count": null,
   "id": "537422a3",
   "metadata": {},
   "outputs": [],
   "source": [
    "df_aucroc = df_aucroc[sc_names]\n",
    "df_aucroc = df_aucroc.fillna(method='ffill')\n",
    "indexes_aucroc = df_aucroc.apply(get_idx , axis=0)\n",
    "df_aucroc"
   ]
  },
  {
   "cell_type": "code",
   "execution_count": null,
   "id": "5de56d3c",
   "metadata": {},
   "outputs": [],
   "source": [
    "df_aucpr = df_aucpr[sc_names]\n",
    "df_aucpr = df_aucpr.fillna(method='ffill')\n",
    "indexes_aucpr = df_aucpr.apply(get_idx , axis=0)\n",
    "df_aucpr"
   ]
  },
  {
   "cell_type": "code",
   "execution_count": null,
   "id": "da36eb48",
   "metadata": {},
   "outputs": [],
   "source": [
    "indexes_aucroc, indexes_aucpr"
   ]
  },
  {
   "cell_type": "code",
   "execution_count": null,
   "id": "ed00e671",
   "metadata": {},
   "outputs": [],
   "source": [
    "small_df_aucroc = df_aucroc.iloc[list(np.arange(20))+[indexes_aucroc.Jasmine_OR-2, indexes_aucroc.Jasmine_OR-1,\n",
    "                                                      indexes_aucroc.UCell-2, indexes_aucroc.UCell-1]]\n",
    "\n",
    "\n",
    "small_df_aucpr  = df_aucpr.iloc[list(np.arange(20))+[indexes_aucpr.Jasmine_OR-2, indexes_aucpr.Jasmine_OR-1,\n",
    "                                                     indexes_aucpr.UCell-2, indexes_aucpr.UCell-1]]"
   ]
  },
  {
   "cell_type": "code",
   "execution_count": null,
   "id": "9fed37d5",
   "metadata": {},
   "outputs": [],
   "source": [
    "fig = creat_heatmap(small_df_aucroc, measurement='AUCROC', block_code=(1,0,1))\n",
    "if save:\n",
    "    fig.savefig(os.path.join(storing_path, 'aucroc_heatmap.svg'), format='svg')"
   ]
  },
  {
   "cell_type": "code",
   "execution_count": null,
   "id": "98ee7b63",
   "metadata": {},
   "outputs": [],
   "source": [
    "fig = creat_heatmap(small_df_aucpr, measurement='AUCPR',block_code=(1,0,1))\n",
    "if save:\n",
    "    fig.savefig(os.path.join(storing_path, 'aucpr_heatmap.svg'), format='svg')"
   ]
  },
  {
   "cell_type": "code",
   "execution_count": null,
   "id": "469de0b9",
   "metadata": {},
   "outputs": [],
   "source": [
    "# fig = create_lineplots(all_performances, dataset, sc_names)\n",
    "# fig = create_lineplots(all_performances, dataset, sc_names)\n",
    "# fig.savefig(os.path.join(storing_path, 'line_plot.svg'), format='svg')\n",
    "# plt.close(fig)\n",
    "# fig = create_heatmaps(all_performances, dataset, sc_names, mean_samples=True, short=False)\n",
    "# fig.savefig(os.path.join(storing_path, 'auc_heat_mean_long.svg'), format='svg')\n",
    "# plt.close(fig)\n",
    "# fig = create_heatmaps(all_performances, dataset, sc_names, mean_samples=True, short=True)\n",
    "# fig.savefig(os.path.join(storing_path, 'auc_heat_mean_short.svg'), format='svg')\n",
    "# plt.close(fig)\n",
    "# fig = create_heatmaps(all_performances, dataset, sc_names, mean_samples=False, short=False)\n",
    "# fig.savefig(os.path.join(storing_path, 'auc_heat_median_long.svg'), format='svg')\n",
    "# plt.close(fig)\n",
    "# fig = create_heatmaps(all_performances, dataset, sc_names, mean_samples=False, short=True)\n",
    "# fig.savefig(os.path.join(storing_path, 'auc_heat_median_short.svg'), format='svg')\n",
    "# plt.close(fig)\n",
    "# fig = create_barplot(all_performances, dataset, sc_names, mean_samples=True)\n",
    "# fig.savefig(os.path.join(storing_path, 'auc_bar_mean.svg'), format='svg')\n",
    "# plt.close(fig)\n",
    "# fig = create_barplot(all_performances, dataset, sc_names, mean_samples=False)\n",
    "# fig.savefig(os.path.join(storing_path, 'auc_bar_median.svg'), format='svg')\n",
    "# plt.close(fig)"
   ]
  },
  {
   "cell_type": "code",
   "execution_count": null,
   "id": "b5cf4c14",
   "metadata": {},
   "outputs": [],
   "source": []
  }
 ],
 "metadata": {
  "kernelspec": {
   "display_name": "Python 3 (ipykernel)",
   "language": "python",
   "name": "python3"
  },
  "language_info": {
   "codemirror_mode": {
    "name": "ipython",
    "version": 3
   },
   "file_extension": ".py",
   "mimetype": "text/x-python",
   "name": "python",
   "nbconvert_exporter": "python",
   "pygments_lexer": "ipython3",
   "version": "3.8.12"
  }
 },
 "nbformat": 4,
 "nbformat_minor": 5
}
