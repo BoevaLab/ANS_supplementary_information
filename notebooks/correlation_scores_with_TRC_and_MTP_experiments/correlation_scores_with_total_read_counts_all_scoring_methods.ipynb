{
 "cells": [
  {
   "cell_type": "markdown",
   "id": "0f53b8d4",
   "metadata": {},
   "source": [
    "# Experiment testing (in-)dependence of scores with total read counts in data"
   ]
  },
  {
   "cell_type": "markdown",
   "id": "301869f7",
   "metadata": {},
   "source": [
    "## Part 1\n",
    "In the following experiment we score several preprocessed datasets (CRC, ESCC, and LUAD) for genes separating malignant versus non-malignant cells. We want to see if the scores correlate with the total read counts given by the datasets. \n",
    "\n",
    "Expectation: As malignant cells generally have higher total read counts and we are scoring for signatures separating malignant from non-malignant counts, we except correlation between the scores and the total read counts. "
   ]
  },
  {
   "cell_type": "code",
   "execution_count": null,
   "id": "2a690ac0",
   "metadata": {},
   "outputs": [],
   "source": [
    "from IPython.display import display, HTML\n",
    "display(HTML(\"<style>.container { width:90% !important; }</style>\"))"
   ]
  },
  {
   "cell_type": "code",
   "execution_count": null,
   "id": "eb32555e",
   "metadata": {},
   "outputs": [],
   "source": [
    "import os\n",
    "import sys\n",
    "\n",
    "sys.path.append('../..')\n",
    "\n",
    "import numpy as np\n",
    "import pandas as pd\n",
    "import scanpy as sc\n",
    "import seaborn as sns\n",
    "from scipy.stats import kstest\n",
    "import matplotlib.pyplot as plt\n",
    "\n",
    "from signaturescoring.utils.utils import get_gene_list_real_data, get_mean_and_variance_gene_expression\n",
    "from signaturescoring import score_signature\n",
    "\n",
    "from data.constants import BASE_PATH_PREPROCESSED, BASE_PATH_DGEX_CANCER, BASE_PATH_EXPERIMENTS\n"
   ]
  },
  {
   "cell_type": "markdown",
   "id": "fdc18d75",
   "metadata": {},
   "source": [
    "### Global variables"
   ]
  },
  {
   "cell_type": "code",
   "execution_count": null,
   "id": "5c04ba15",
   "metadata": {},
   "outputs": [],
   "source": [
    "## Paths to datasets (define path to data)\n",
    "base_path = BASE_PATH_PREPROCESSED\n",
    "crc_path  = os.path.join(base_path, 'pp_crc.h5ad')\n",
    "escc_path = os.path.join(base_path, 'pp_escc.h5ad')\n",
    "luad_path = os.path.join(base_path, 'pp_luad.h5ad')\n",
    "\n",
    "base_path = BASE_PATH_DGEX_CANCER\n",
    "crc_dgex_path = os.path.join(base_path, 'crc',  'dgex_min_log2fc_2_pval_0.01.csv')\n",
    "escc_dgex_path = os.path.join(base_path, 'escc',  'dgex_min_log2fc_2_pval_0.01.csv')\n",
    "luad_dgex_path = os.path.join(base_path, 'luad',  'dgex_min_log2fc_2_pval_0.01.csv')"
   ]
  },
  {
   "cell_type": "code",
   "execution_count": null,
   "id": "fb9ac465",
   "metadata": {},
   "outputs": [],
   "source": [
    "## global variable for experiment\n",
    "nr_of_sig_genes = 100"
   ]
  },
  {
   "cell_type": "code",
   "execution_count": null,
   "id": "5787e4ff",
   "metadata": {},
   "outputs": [],
   "source": [
    "## Path to store data or images (define storing path)\n",
    "storing_path = os.path.join(BASE_PATH_EXPERIMENTS, 'correlation_scores_with_TRC_and_MTP_experiments/')"
   ]
  },
  {
   "cell_type": "code",
   "execution_count": null,
   "id": "129f155d",
   "metadata": {},
   "outputs": [],
   "source": [
    "only_malignant = True"
   ]
  },
  {
   "cell_type": "code",
   "execution_count": null,
   "id": "59cfd0dc",
   "metadata": {
    "code_folding": [
     0
    ]
   },
   "outputs": [],
   "source": [
    "scoring_methods = [\n",
    "    {\n",
    "        \"scoring_method\": \"adjusted_neighborhood_scoring\",\n",
    "        \"sc_params\": {\n",
    "            \"ctrl_size\": 100,\n",
    "            \"score_name\": \"ANS\",\n",
    "        },\n",
    "    },\n",
    "    {\n",
    "        \"scoring_method\": \"seurat_scoring\",\n",
    "        \"sc_params\": {\n",
    "            \"ctrl_size\": 100,\n",
    "            \"n_bins\": 25,\n",
    "            \"score_name\": \"Seurat\",\n",
    "        },\n",
    "    },\n",
    "    {\n",
    "        \"scoring_method\": \"seurat_ag_scoring\",\n",
    "        \"sc_params\": {\n",
    "            \"n_bins\": 25,\n",
    "            \"score_name\": \"Seurat_AG\",\n",
    "        },\n",
    "    },\n",
    "    {\n",
    "        \"scoring_method\": \"seurat_lvg_scoring\",\n",
    "        \"sc_params\": {\n",
    "            \"ctrl_size\": 100,\n",
    "            \"n_bins\": 25,\n",
    "            \"lvg_computation_version\": \"v1\",\n",
    "            \"lvg_computation_method\": \"seurat\",\n",
    "            \"score_name\": \"Seurat_LVG\",\n",
    "        },\n",
    "    },\n",
    "    {\n",
    "        \"scoring_method\": \"scanpy_scoring\",\n",
    "        \"sc_params\": {\n",
    "            \"ctrl_size\": 100,\n",
    "            \"n_bins\": 25,\n",
    "            \"score_name\": \"Scanpy\",\n",
    "        },\n",
    "    },\n",
    "    \n",
    "    {\n",
    "        \"scoring_method\": \"jasmine_scoring\",\n",
    "        \"sc_params\": {\n",
    "            \"score_method\": 'likelihood',\n",
    "            \"score_name\": \"Jasmine_LH\",\n",
    "        },\n",
    "    },\n",
    "    {\n",
    "        \"scoring_method\": \"jasmine_scoring\",\n",
    "        \"sc_params\": {\n",
    "            \"score_method\": 'oddsratio',\n",
    "            \"score_name\": \"Jasmine_OR\",\n",
    "        },\n",
    "    },\n",
    "    {\n",
    "        \"scoring_method\": \"ucell_scoring\",\n",
    "        \"sc_params\": {\n",
    "            \"score_name\": \"UCell\",\n",
    "            \"maxRank\":1500,\n",
    "        },\n",
    "    },\n",
    "]"
   ]
  },
  {
   "cell_type": "markdown",
   "id": "a16263c9",
   "metadata": {},
   "source": [
    "### Helper function"
   ]
  },
  {
   "cell_type": "code",
   "execution_count": null,
   "id": "1c60eeac",
   "metadata": {},
   "outputs": [],
   "source": [
    "def get_data_and_gene_list(data_path, dgex_path):\n",
    "    print(f'Load data with path {data_path}')\n",
    "    adata = sc.read_h5ad(data_path)\n",
    "    adata.uns['log1p']['base'] = None\n",
    "    print('Loaded data')\n",
    "    \n",
    "    print(f'Load DGEX genes ..')\n",
    "    wc = pd.read_csv(dgex_path)\n",
    "    \n",
    "    print(f'Total nr. of DGEX genes {len(wc)}. We will use {nr_of_sig_genes} with highest logfoldchanges as signature.')\n",
    "    diffexp_genes = wc.nlargest(nr_of_sig_genes, columns=\"logfoldchanges\")\n",
    "    gene_list = diffexp_genes[\"names\"].tolist()\n",
    "    \n",
    "    print(f'Finished loading data and malignant signature.')\n",
    "\n",
    "    return adata, gene_list"
   ]
  },
  {
   "cell_type": "code",
   "execution_count": null,
   "id": "25ca09e7",
   "metadata": {},
   "outputs": [],
   "source": [
    "def create_and_save_plots(adata, y_var, title, filename, show=True,\n",
    "                         cols=['malignant_key','total_counts', 'total_counts_mt','pct_counts_mt', 'n_genes_by_counts']):\n",
    "    g = sns.pairplot(data = adata.obs[[cols[0],y_var]+cols[1:]],\n",
    "                     hue = 'malignant_key',\n",
    "                     y_vars = [y_var])\n",
    "    g.fig.subplots_adjust(top=0.85)\n",
    "    g.fig.suptitle(title, fontsize = 14)\n",
    "    g.fig.savefig(os.path.join(storing_path, filename), format='png', dpi=300)\n",
    "    if show:\n",
    "        plt.show(g.fig)\n",
    "    else:\n",
    "        plt.close(g.fig)"
   ]
  },
  {
   "cell_type": "markdown",
   "id": "f068fcae",
   "metadata": {},
   "source": [
    "### CRC"
   ]
  },
  {
   "cell_type": "code",
   "execution_count": null,
   "id": "34a18143",
   "metadata": {},
   "outputs": [],
   "source": [
    "%%time\n",
    "adata, gene_list = get_data_and_gene_list(crc_path, crc_dgex_path)"
   ]
  },
  {
   "cell_type": "code",
   "execution_count": null,
   "id": "3daf50ac",
   "metadata": {},
   "outputs": [],
   "source": [
    "sc.pp.calculate_qc_metrics(adata, qc_vars=[\"mt\"], inplace=True, layer='counts')"
   ]
  },
  {
   "cell_type": "code",
   "execution_count": null,
   "id": "88adaa9c",
   "metadata": {},
   "outputs": [],
   "source": [
    "%%time\n",
    "for sc_method in scoring_methods:\n",
    "    score_signature(\n",
    "        method=sc_method['scoring_method'],\n",
    "        adata=adata,\n",
    "        gene_list=gene_list,\n",
    "        **sc_method['sc_params']\n",
    "    )"
   ]
  },
  {
   "cell_type": "code",
   "execution_count": null,
   "id": "33f7abc2",
   "metadata": {},
   "outputs": [],
   "source": [
    "sc_names = [sc_method['sc_params']['score_name'] for sc_method in scoring_methods]"
   ]
  },
  {
   "cell_type": "code",
   "execution_count": null,
   "id": "b317f0cb",
   "metadata": {},
   "outputs": [],
   "source": [
    "if only_malignant:\n",
    "    adata = adata[adata.obs.malignant_key=='malignant',:].copy()"
   ]
  },
  {
   "cell_type": "code",
   "execution_count": null,
   "id": "7b503025",
   "metadata": {},
   "outputs": [],
   "source": [
    "for curr_name in sc_names:\n",
    "    title = f\"CRC scatterplots with {'_'.join(curr_name.split('_')[0:-1])} signature scores vs. counts and mt\"\n",
    "    filename = f'CRC/scatter_{curr_name}_only_mal.png' if only_malignant else f'CRC/scatter_{curr_name}.png'\n",
    "    create_and_save_plots(adata, curr_name, title, filename, show=False)"
   ]
  },
  {
   "cell_type": "code",
   "execution_count": null,
   "id": "4133500a",
   "metadata": {},
   "outputs": [],
   "source": [
    "corr_adata = adata.obs[sc_names+['total_counts', 'total_counts_mt','pct_counts_mt', 'n_genes_by_counts']].corr()\n",
    "corr_adata = corr_adata[['total_counts', 'total_counts_mt','pct_counts_mt', 'n_genes_by_counts']][0:-4]"
   ]
  },
  {
   "cell_type": "code",
   "execution_count": null,
   "id": "da49c206",
   "metadata": {},
   "outputs": [],
   "source": [
    "g = sns.heatmap(corr_adata, annot=True, )\n",
    "g.set_title('Correlations')\n",
    "g.figure.tight_layout()\n",
    "g.figure.savefig(os.path.join(storing_path, 'CRC', 'correlation_heatmap_only_mal.png' if only_malignant else 'correlation_heatmap.png'), dpi=300)"
   ]
  },
  {
   "cell_type": "markdown",
   "id": "3c05aacf",
   "metadata": {},
   "source": [
    "### ESCC"
   ]
  },
  {
   "cell_type": "code",
   "execution_count": null,
   "id": "cefa9e1e",
   "metadata": {},
   "outputs": [],
   "source": [
    "%%time\n",
    "adata, gene_list = get_data_and_gene_list(escc_path, escc_dgex_path)"
   ]
  },
  {
   "cell_type": "code",
   "execution_count": null,
   "id": "06ad383c",
   "metadata": {},
   "outputs": [],
   "source": [
    "sc.pp.calculate_qc_metrics(adata, qc_vars=[\"mt\"], inplace=True, layer='counts')"
   ]
  },
  {
   "cell_type": "code",
   "execution_count": null,
   "id": "a949167d",
   "metadata": {},
   "outputs": [],
   "source": [
    "%%time\n",
    "for sc_method in scoring_methods:\n",
    "    score_signature(\n",
    "        method=sc_method['scoring_method'],\n",
    "        adata=adata,\n",
    "        gene_list=gene_list,\n",
    "        **sc_method['sc_params']\n",
    "    )"
   ]
  },
  {
   "cell_type": "code",
   "execution_count": null,
   "id": "9958f6d4",
   "metadata": {},
   "outputs": [],
   "source": [
    "if only_malignant:\n",
    "    adata = adata[adata.obs.malignant_key=='malignant',:].copy()"
   ]
  },
  {
   "cell_type": "code",
   "execution_count": null,
   "id": "61ee1382",
   "metadata": {},
   "outputs": [],
   "source": [
    "sc_names = [sc_method['sc_params']['score_name'] for sc_method in scoring_methods]"
   ]
  },
  {
   "cell_type": "code",
   "execution_count": null,
   "id": "e894dcc4",
   "metadata": {},
   "outputs": [],
   "source": [
    "for curr_name in sc_names:\n",
    "    title = f\"ESCC scatterplots with {'_'.join(curr_name.split('_')[0:-1])} signature scores vs. counts and mt\"\n",
    "    filename = f'ESCC/scatter_{curr_name}_only_mal.png' if only_malignant else f'ESCC/scatter_{curr_name}.png'\n",
    "    create_and_save_plots(adata, curr_name, title, filename, show=False)"
   ]
  },
  {
   "cell_type": "code",
   "execution_count": null,
   "id": "78e43d24",
   "metadata": {},
   "outputs": [],
   "source": [
    "corr_adata = adata.obs[sc_names+['total_counts', 'total_counts_mt','pct_counts_mt', 'n_genes_by_counts']].corr()\n",
    "corr_adata = corr_adata[['total_counts', 'total_counts_mt','pct_counts_mt', 'n_genes_by_counts']][0:-4]"
   ]
  },
  {
   "cell_type": "code",
   "execution_count": null,
   "id": "de26aca9",
   "metadata": {},
   "outputs": [],
   "source": [
    "g = sns.heatmap(corr_adata, annot=True, )\n",
    "g.set_title('Correlations')\n",
    "g.figure.tight_layout()\n",
    "g.figure.savefig(os.path.join(storing_path, 'ESCC', 'correlation_heatmap_only_mal.png' if only_malignant else 'correlation_heatmap.png'), dpi=300)"
   ]
  },
  {
   "cell_type": "markdown",
   "id": "4eb6b2a5",
   "metadata": {},
   "source": [
    "### LUAD"
   ]
  },
  {
   "cell_type": "code",
   "execution_count": null,
   "id": "ef770bc5",
   "metadata": {},
   "outputs": [],
   "source": [
    "%%time\n",
    "adata, gene_list = get_data_and_gene_list(luad_path, luad_dgex_path)"
   ]
  },
  {
   "cell_type": "code",
   "execution_count": null,
   "id": "49512b43",
   "metadata": {},
   "outputs": [],
   "source": [
    "sc.pp.calculate_qc_metrics(adata, qc_vars=[\"mt\"], inplace=True, layer='counts')"
   ]
  },
  {
   "cell_type": "code",
   "execution_count": null,
   "id": "91700448",
   "metadata": {},
   "outputs": [],
   "source": [
    "%%time\n",
    "for sc_method in scoring_methods:\n",
    "    score_signature(\n",
    "        method=sc_method['scoring_method'],\n",
    "        adata=adata,\n",
    "        gene_list=gene_list,\n",
    "        **sc_method['sc_params']\n",
    "    )"
   ]
  },
  {
   "cell_type": "code",
   "execution_count": null,
   "id": "df658d35",
   "metadata": {},
   "outputs": [],
   "source": [
    "if only_malignant:\n",
    "    adata = adata[adata.obs.malignant_key=='malignant',:].copy()"
   ]
  },
  {
   "cell_type": "code",
   "execution_count": null,
   "id": "0bc7a879",
   "metadata": {},
   "outputs": [],
   "source": [
    "sc_names = [sc_method['sc_params']['score_name'] for sc_method in scoring_methods]"
   ]
  },
  {
   "cell_type": "code",
   "execution_count": null,
   "id": "f69b0d15",
   "metadata": {},
   "outputs": [],
   "source": [
    "for curr_name in sc_names:\n",
    "    title = f\"LUAD scatterplots with {'_'.join(curr_name.split('_')[0:-1])} signature scores vs. counts and mt\"\n",
    "    filename = f'LUAD/scatter_{curr_name}_only_mal.png' if only_malignant else f'LUAD/scatter_{curr_name}.png'\n",
    "    create_and_save_plots(adata, curr_name, title, filename, show=False,\n",
    "                         cols=['malignant_key','total_counts_mt','pct_counts_mt', 'n_genes_by_counts'])"
   ]
  },
  {
   "cell_type": "code",
   "execution_count": null,
   "id": "2d4b686b",
   "metadata": {},
   "outputs": [],
   "source": [
    "corr_adata = adata.obs[sc_names+['total_counts', 'total_counts_mt','pct_counts_mt', 'n_genes_by_counts']].corr()\n",
    "corr_adata = corr_adata[['total_counts', 'total_counts_mt','pct_counts_mt', 'n_genes_by_counts']][0:-4]"
   ]
  },
  {
   "cell_type": "code",
   "execution_count": null,
   "id": "44a4efee",
   "metadata": {},
   "outputs": [],
   "source": [
    "g = sns.heatmap(corr_adata, annot=True, )\n",
    "g.set_title('Correlations')\n",
    "g.figure.tight_layout()\n",
    "g.figure.savefig(os.path.join(storing_path, 'LUAD', 'correlation_heatmap_only_mal.png' if only_malignant else 'correlation_heatmap.png'), dpi=300)"
   ]
  },
  {
   "cell_type": "code",
   "execution_count": null,
   "id": "d44d215c",
   "metadata": {},
   "outputs": [],
   "source": []
  }
 ],
 "metadata": {
  "kernelspec": {
   "display_name": "Python 3 (ipykernel)",
   "language": "python",
   "name": "python3"
  },
  "language_info": {
   "codemirror_mode": {
    "name": "ipython",
    "version": 3
   },
   "file_extension": ".py",
   "mimetype": "text/x-python",
   "name": "python",
   "nbconvert_exporter": "python",
   "pygments_lexer": "ipython3",
   "version": "3.8.12"
  }
 },
 "nbformat": 4,
 "nbformat_minor": 5
}
