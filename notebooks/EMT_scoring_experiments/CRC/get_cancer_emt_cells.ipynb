{
 "cells": [
  {
   "cell_type": "markdown",
   "id": "1f3a0687",
   "metadata": {},
   "source": [
    "## Get cancer EMT cells for CRC\n",
    "Score mutliple pan-cancer EMT signatures. Convert scores to rank and compute median rank per cell.\n",
    "Cancer EMT cells are sells within the 10% of cells with the smallest ranks."
   ]
  },
  {
   "cell_type": "code",
   "execution_count": null,
   "id": "5bad41b6",
   "metadata": {
    "pycharm": {
     "name": "#%%\n"
    }
   },
   "outputs": [],
   "source": [
    "from IPython.display import display, HTML\n",
    "display(HTML(\"<style>.container { width:90% !important; }</style>\"))"
   ]
  },
  {
   "cell_type": "code",
   "execution_count": null,
   "id": "d27efe5b",
   "metadata": {
    "pycharm": {
     "name": "#%%\n"
    }
   },
   "outputs": [],
   "source": [
    "import os \n",
    "import sys\n",
    "\n",
    "sys.path.append('../../..')\n",
    "\n",
    "import pandas as pd\n",
    "import numpy as np\n",
    "import scanpy as sc\n",
    "import matplotlib.pyplot as plt\n",
    "from matplotlib_venn import venn2\n",
    "\n",
    "sys.path.append('../../..')\n",
    "from data.load_data import load_datasets\n",
    "from data.constants import BASE_PATH_DATA, BASE_PATH_EXPERIMENTS\n",
    "\n",
    "from signaturescoring import score_signature\n",
    "from signaturescoring.utils.utils import get_mean_and_variance_gene_expression, check_signature_genes"
   ]
  },
  {
   "cell_type": "code",
   "execution_count": null,
   "id": "29cadca9",
   "metadata": {},
   "outputs": [],
   "source": [
    "sc.settings.verbosity = 2\n",
    "\n",
    "pl_size = 6\n",
    "\n",
    "save = True\n",
    "\n",
    "dataset = 'crc'"
   ]
  },
  {
   "cell_type": "code",
   "execution_count": null,
   "id": "8aa45176",
   "metadata": {},
   "outputs": [],
   "source": [
    "storing_path = os.path.join(BASE_PATH_EXPERIMENTS, f'EMT_signature_scoring_case_study/{dataset}')\n",
    "if not os.path.exists(storing_path):\n",
    "    os.makedirs(storing_path)\n",
    "    sc.logging.info(f'Creating new directory to store the results.')"
   ]
  },
  {
   "cell_type": "markdown",
   "id": "05332fa1",
   "metadata": {
    "pycharm": {
     "name": "#%% md\n"
    }
   },
   "source": [
    "Load preprocessed data"
   ]
  },
  {
   "cell_type": "code",
   "execution_count": null,
   "id": "68ea0872",
   "metadata": {},
   "outputs": [],
   "source": [
    "adata = load_datasets(dataset, preprocessed=True, norm_method='mean')\n",
    "if 'log1p' in adata.uns_keys():\n",
    "    adata.uns['log1p']['base'] = None\n",
    "else:\n",
    "    adata.uns['log1p'] = {'base': None}"
   ]
  },
  {
   "cell_type": "code",
   "execution_count": null,
   "id": "2d642943",
   "metadata": {},
   "outputs": [],
   "source": [
    "adata.obs.celltype.value_counts().sort_index()"
   ]
  },
  {
   "cell_type": "code",
   "execution_count": null,
   "id": "90349e4e",
   "metadata": {},
   "outputs": [],
   "source": [
    "sc.tl.pca(adata)\n",
    "sc.pp.neighbors(adata)\n",
    "sc.tl.umap(adata)"
   ]
  },
  {
   "cell_type": "code",
   "execution_count": null,
   "id": "29c9618f",
   "metadata": {},
   "outputs": [],
   "source": [
    "plt.rcParams.update({'pdf.fonttype':42, 'font.family':'sans-serif', 'font.sans-serif':'Arial', 'font.size':14})\n",
    "\n",
    "sc.pl.umap(adata, color=['sample_id','malignant_key', 'celltype', 'malignant_celltype', 'full_trans_celltype'], ncols=1)"
   ]
  },
  {
   "cell_type": "markdown",
   "id": "4575b6e3",
   "metadata": {
    "pycharm": {
     "name": "#%% md\n"
    }
   },
   "source": [
    "### Select cancer EMT cells and store barcodes"
   ]
  },
  {
   "cell_type": "code",
   "execution_count": null,
   "id": "8d1188e0",
   "metadata": {
    "pycharm": {
     "name": "#%%\n"
    }
   },
   "outputs": [],
   "source": [
    "import glob\n",
    "import json\n",
    "\n",
    "def get_sig_from_emtome_sig_file(filepath):\n",
    "    assert os.path.exists(filepath)\n",
    "    with open(filepath, 'r') as f:\n",
    "        lines = f.readlines()\n",
    "        lines = lines[2:]\n",
    "        lines = [str(x[1:-1]) for x in lines]\n",
    "        \n",
    "    return lines\n",
    "\n",
    "## define ase path to emt signatures\n",
    "base_path_emt_signatures = os.path.join(BASE_PATH_DATA,'annotations/emt')\n",
    "\n",
    "pan_cancer_emt_sigs = glob.glob(base_path_emt_signatures+\"/sigs_from_emtome/pan_cancer/*.txt\")\n",
    "pan_cancer_emt_sigs.sort()\n",
    "pan_cancer_emt_sigs = {x.split('/')[-1].split('.')[0]:x for x in pan_cancer_emt_sigs}\n",
    "pan_cancer_emt_sigs = {key:get_sig_from_emtome_sig_file(val) for key, val in pan_cancer_emt_sigs.items()}\n",
    "\n",
    "with open(base_path_emt_signatures+'/HALLMARK_EPITHELIAL_MESENCHYMAL_TRANSITION.v7.5.1.json', 'r') as f:\n",
    "    hemt = json.load(f)\n",
    "\n",
    "pan_cancer_emt_sigs['hallmark_emt'] = hemt['HALLMARK_EPITHELIAL_MESENCHYMAL_TRANSITION']['geneSymbols']"
   ]
  },
  {
   "cell_type": "code",
   "execution_count": null,
   "id": "10a8db64",
   "metadata": {
    "pycharm": {
     "name": "#%%\n"
    }
   },
   "outputs": [],
   "source": [
    "GM_B_22 = pd.read_csv(base_path_emt_signatures+'/gene_modules_from_Barkley_et_al_2022.csv')\n",
    "\n",
    "mes_gm  = GM_B_22.Mesenchymal\n",
    "mes_gm = mes_gm.dropna().tolist()\n",
    "\n",
    "pEMT_gm = GM_B_22.pEMT\n",
    "pEMT_gm = pEMT_gm.dropna().tolist()\n",
    "\n",
    "cEMT = GM_B_22.cEMT\n",
    "cEMT = cEMT.dropna().tolist()\n",
    "\n",
    "pEMT = GM_B_22['pEMT.1']\n",
    "pEMT = pEMT.dropna().tolist()"
   ]
  },
  {
   "cell_type": "code",
   "execution_count": null,
   "id": "70b56640",
   "metadata": {
    "pycharm": {
     "name": "#%%\n"
    }
   },
   "outputs": [],
   "source": [
    "pan_cancer_emt_sigs['pEMT_gm'] = pEMT_gm"
   ]
  },
  {
   "cell_type": "code",
   "execution_count": null,
   "id": "ebd04cad",
   "metadata": {},
   "outputs": [],
   "source": [
    "pan_cancer_emt_sigs.keys()"
   ]
  },
  {
   "cell_type": "code",
   "execution_count": null,
   "id": "7126640a",
   "metadata": {
    "pycharm": {
     "name": "#%%\n"
    }
   },
   "outputs": [],
   "source": [
    "df_mean_var = get_mean_and_variance_gene_expression(adata, estim_var=False)"
   ]
  },
  {
   "cell_type": "code",
   "execution_count": null,
   "id": "29915e42",
   "metadata": {
    "pycharm": {
     "name": "#%%\n"
    }
   },
   "outputs": [],
   "source": [
    "for key, val in pan_cancer_emt_sigs.items():\n",
    "    score_signature(method=\"adjusted_neighborhood_scoring\",\n",
    "                        adata=adata,\n",
    "                        gene_list= val,\n",
    "                        ctrl_size=100,\n",
    "                        df_mean_var = df_mean_var,\n",
    "                        score_name=key)"
   ]
  },
  {
   "cell_type": "code",
   "execution_count": null,
   "id": "bb70dba2",
   "metadata": {
    "pycharm": {
     "name": "#%%\n"
    },
    "scrolled": true
   },
   "outputs": [],
   "source": [
    "plt.rcParams.update({'pdf.fonttype':42, 'font.family':'sans-serif', 'font.sans-serif':'Arial', 'font.size':14})\n",
    "\n",
    "with plt.rc_context({'figure.figsize':(10,8)}):\n",
    "    fig = sc.pl.umap(adata[adata.obs.malignant_key =='malignant'], \n",
    "               color=['sample_id','malignant_key', 'celltype', 'malignant_celltype', 'full_trans_celltype']+list(pan_cancer_emt_sigs.keys()), \n",
    "               ncols=4,\n",
    "               return_fig=True)\n",
    "    if save:\n",
    "        curr_path = os.path.join(storing_path, 'cancer_emt_barcode_selection')\n",
    "        if not os.path.exists(curr_path):\n",
    "            os.mkdir(curr_path)\n",
    "        fig.savefig(os.path.join(curr_path, f'mal_cells_umap_emt_sigs.png'), dpi=600)"
   ]
  },
  {
   "cell_type": "code",
   "execution_count": null,
   "id": "c3441e50",
   "metadata": {
    "pycharm": {
     "name": "#%%\n"
    }
   },
   "outputs": [],
   "source": [
    "score_names_pan_cancer = list(pan_cancer_emt_sigs.keys())"
   ]
  },
  {
   "cell_type": "code",
   "execution_count": null,
   "id": "2f82665d",
   "metadata": {
    "pycharm": {
     "name": "#%%\n"
    }
   },
   "outputs": [],
   "source": [
    "cancer_cells  = adata[adata.obs.malignant_key=='malignant'].copy()"
   ]
  },
  {
   "cell_type": "code",
   "execution_count": null,
   "id": "73b2545d",
   "metadata": {
    "pycharm": {
     "name": "#%%\n"
    }
   },
   "outputs": [],
   "source": [
    "cell_ranks_for_score_names =[]"
   ]
  },
  {
   "cell_type": "code",
   "execution_count": null,
   "id": "01778c8b",
   "metadata": {
    "pycharm": {
     "name": "#%%\n"
    }
   },
   "outputs": [],
   "source": [
    "for col in score_names_pan_cancer:\n",
    "    cell_ranks_for_score_names.append((cancer_cells.obs[col]).rank(na_option='bottom', ascending=False))"
   ]
  },
  {
   "cell_type": "code",
   "execution_count": null,
   "id": "f2fd608b",
   "metadata": {
    "pycharm": {
     "name": "#%%\n"
    }
   },
   "outputs": [],
   "source": [
    "ranked_cells = pd.concat(cell_ranks_for_score_names, axis=1)"
   ]
  },
  {
   "cell_type": "code",
   "execution_count": null,
   "id": "93af0075",
   "metadata": {
    "pycharm": {
     "name": "#%%\n"
    }
   },
   "outputs": [],
   "source": [
    "sorted_ranks = ranked_cells.loc[ranked_cells.median(axis=1).sort_values().index,:]"
   ]
  },
  {
   "cell_type": "code",
   "execution_count": null,
   "id": "3a868d79",
   "metadata": {
    "pycharm": {
     "name": "#%%\n"
    }
   },
   "outputs": [],
   "source": [
    "plt.rcParams.update({'pdf.fonttype':42, 'font.family':'sans-serif', 'font.sans-serif':'Arial', 'font.size':14})\n",
    "\n",
    "sorted_ranks.median(axis=1).hist(bins=100)\n",
    "plt.axvline(sorted_ranks.median(axis=1).quantile(0.1),c='r', label='quantile 0.1')\n",
    "plt.title(f'Distribution median ranks.')\n",
    "if save:\n",
    "    curr_path = os.path.join(storing_path, 'cancer_emt_barcode_selection')\n",
    "    if not os.path.exists(curr_path):\n",
    "        os.mkdir(curr_path)\n",
    "    plt.savefig(os.path.join(curr_path, f'distr_median_ranks.png'), dpi=600)"
   ]
  },
  {
   "cell_type": "code",
   "execution_count": null,
   "id": "ee8ad958",
   "metadata": {
    "pycharm": {
     "name": "#%%\n"
    }
   },
   "outputs": [],
   "source": [
    "sorted_ranks_median = sorted_ranks.median(axis=1)"
   ]
  },
  {
   "cell_type": "code",
   "execution_count": null,
   "id": "ebb11f52",
   "metadata": {
    "pycharm": {
     "name": "#%%\n"
    }
   },
   "outputs": [],
   "source": [
    "barcodes_cancer_emt = sorted_ranks_median[sorted_ranks_median <= sorted_ranks_median.quantile(0.1)].index.tolist()"
   ]
  },
  {
   "cell_type": "code",
   "execution_count": null,
   "id": "b3b4eb2d",
   "metadata": {
    "pycharm": {
     "name": "#%%\n"
    }
   },
   "outputs": [],
   "source": [
    "## define path to store the cancer emt cell barcodes\n",
    "if save:\n",
    "    pd.Series(barcodes_cancer_emt).to_csv(os.path.join(storing_path, 'barcodes_cancer_emt.csv'))"
   ]
  },
  {
   "cell_type": "code",
   "execution_count": null,
   "id": "d671ea9a",
   "metadata": {
    "pycharm": {
     "name": "#%%\n"
    }
   },
   "outputs": [],
   "source": [
    "adata.obs['celltype_emt'] = adata.obs.celltype.copy()\n",
    "adata.obs['celltype_emt'] = adata.obs['celltype_emt'].astype(str)\n",
    "\n",
    "adata.obs.loc[adata.obs['celltype_emt']=='Epi', 'celltype_emt'] = 'Malignant'\n",
    "adata.obs.loc[adata.obs['celltype_emt']=='Fibro', 'celltype_emt'] = 'Fibroblast'"
   ]
  },
  {
   "cell_type": "code",
   "execution_count": null,
   "id": "9c8d6c3b",
   "metadata": {
    "pycharm": {
     "name": "#%%\n"
    }
   },
   "outputs": [],
   "source": [
    "adata.obs.loc[barcodes_cancer_emt, 'celltype_emt'] = 'Malignant with EMT'"
   ]
  },
  {
   "cell_type": "code",
   "execution_count": null,
   "id": "3f5f8c59",
   "metadata": {
    "pycharm": {
     "name": "#%%\n"
    }
   },
   "outputs": [],
   "source": [
    "adata.obs['celltype_emt'] = adata.obs['celltype_emt'].astype('category')"
   ]
  },
  {
   "cell_type": "code",
   "execution_count": null,
   "id": "6cfa0028",
   "metadata": {
    "pycharm": {
     "name": "#%%\n"
    }
   },
   "outputs": [],
   "source": [
    "adata.obs['celltype_emt'].value_counts().sort_index()"
   ]
  },
  {
   "cell_type": "code",
   "execution_count": null,
   "id": "7b95bb99",
   "metadata": {
    "pycharm": {
     "name": "#%%\n"
    }
   },
   "outputs": [],
   "source": [
    "plt.rcParams.update({'pdf.fonttype':42, 'font.family':'sans-serif', 'font.sans-serif':'Arial', 'font.size':14})\n",
    "\n",
    "with plt.rc_context({'figure.figsize':(10,8)}):\n",
    "    umap_fig = sc.pl.umap(adata[adata.obs.celltype.isin(['Epi', 'Fibro'])], color=score_names_pan_cancer+['sample_id', 'celltype', 'celltype_emt'],return_fig=True,cmap='viridis')\n",
    "    if save:\n",
    "        curr_path = os.path.join(storing_path, 'cancer_emt_barcode_selection')\n",
    "        if not os.path.exists(curr_path):\n",
    "            os.mkdir(curr_path)\n",
    "        umap_fig.savefig(os.path.join(curr_path, f'mal_n_caf_cells_umap_emt_sigs.png'), dpi=600)"
   ]
  },
  {
   "cell_type": "code",
   "execution_count": null,
   "id": "4d99a1fd",
   "metadata": {
    "pycharm": {
     "name": "#%%\n"
    }
   },
   "outputs": [],
   "source": [
    "adata.obs.celltype_emt = adata.obs.celltype_emt.astype('category') "
   ]
  },
  {
   "cell_type": "code",
   "execution_count": null,
   "id": "7f9bb7e4",
   "metadata": {
    "pycharm": {
     "name": "#%%\n"
    }
   },
   "outputs": [],
   "source": [
    "tmp = adata.obs[['sample_id','celltype_emt']]"
   ]
  },
  {
   "cell_type": "code",
   "execution_count": null,
   "id": "93c29364",
   "metadata": {
    "pycharm": {
     "name": "#%%\n"
    }
   },
   "outputs": [],
   "source": [
    "cross_tab_prop = pd.crosstab(index=tmp['sample_id'],\n",
    "                             columns=tmp['celltype_emt'],\n",
    "                             normalize=\"index\")"
   ]
  },
  {
   "cell_type": "code",
   "execution_count": null,
   "id": "5e940acf",
   "metadata": {
    "pycharm": {
     "name": "#%%\n"
    }
   },
   "outputs": [],
   "source": [
    "cols = ['Malignant with EMT','Malignant', 'Fibroblast', 'B', 'DC', \n",
    "        'Endo',  'Granulo', 'ILC', 'Macro', 'Mast', 'Mono', 'NK', \n",
    "        'Peri', 'Plasma', 'Schwann', 'SmoothMuscle', 'TCD4', 'TCD8', 'TZBTB16', 'Tgd']\n",
    "cross_tab_prop = cross_tab_prop[cols]"
   ]
  },
  {
   "cell_type": "code",
   "execution_count": null,
   "id": "9ad1bea0",
   "metadata": {
    "pycharm": {
     "name": "#%%\n"
    }
   },
   "outputs": [],
   "source": [
    "plt.rcParams.update({'pdf.fonttype':42, 'font.family':'sans-serif', 'font.sans-serif':'Arial', 'font.size':14})\n",
    "\n",
    "cross_tab_prop.plot(kind='bar', \n",
    "                    stacked=True, \n",
    "                    colormap='tab20', \n",
    "                    figsize=(15, 8))\n",
    "plt.legend(loc='center left',bbox_to_anchor=(1.0, 0.5),ncol=1)\n",
    "plt.xlabel(\"Sample ID\")\n",
    "plt.ylabel(\"Proportions\")\n",
    "plt.tight_layout()\n",
    "\n",
    "if save:\n",
    "    curr_path = os.path.join(storing_path, 'proportions')\n",
    "    if not os.path.exists(curr_path):\n",
    "        os.mkdir(curr_path)\n",
    "    plt.savefig(os.path.join(curr_path, f'distribution_celltypes.svg'))\n",
    "    cross_tab_prop.to_csv(os.path.join(curr_path, f'proportions_celltype.csv'))"
   ]
  },
  {
   "cell_type": "code",
   "execution_count": null,
   "id": "9c1980fe",
   "metadata": {},
   "outputs": [],
   "source": [
    "plt.rcParams.update({'pdf.fonttype':42, 'font.family':'sans-serif', 'font.sans-serif':'Arial', 'font.size':14})\n",
    "\n",
    "prop_counts = pd.crosstab(index=tmp['sample_id'],\n",
    "            columns=tmp['celltype_emt'],)\n",
    "prop_counts = prop_counts[cols]\n",
    "\n",
    "if save:\n",
    "    curr_path = os.path.join(storing_path, 'proportions')\n",
    "    if not os.path.exists(curr_path):\n",
    "        os.mkdir(curr_path)\n",
    "    prop_counts.to_csv(os.path.join(curr_path, f'counts_celltype.csv'))"
   ]
  },
  {
   "cell_type": "code",
   "execution_count": null,
   "id": "aaffd72d",
   "metadata": {},
   "outputs": [],
   "source": []
  },
  {
   "cell_type": "code",
   "execution_count": null,
   "id": "21875b95",
   "metadata": {},
   "outputs": [],
   "source": []
  },
  {
   "cell_type": "code",
   "execution_count": null,
   "id": "39330785",
   "metadata": {},
   "outputs": [],
   "source": []
  },
  {
   "cell_type": "code",
   "execution_count": null,
   "id": "ee44f30b",
   "metadata": {},
   "outputs": [],
   "source": []
  },
  {
   "cell_type": "code",
   "execution_count": null,
   "id": "815ae10f",
   "metadata": {},
   "outputs": [],
   "source": []
  },
  {
   "cell_type": "code",
   "execution_count": null,
   "id": "38c0abd0",
   "metadata": {},
   "outputs": [],
   "source": []
  },
  {
   "cell_type": "code",
   "execution_count": null,
   "id": "3ddf3a3a",
   "metadata": {},
   "outputs": [],
   "source": [
    "os.path.join(BASE_PATH_DATA, '"
   ]
  },
  {
   "cell_type": "code",
   "execution_count": null,
   "id": "d1df3b1f",
   "metadata": {},
   "outputs": [],
   "source": []
  },
  {
   "cell_type": "markdown",
   "id": "654c676d",
   "metadata": {
    "pycharm": {
     "name": "#%% md\n"
    }
   },
   "source": [
    "### Score crc cells for ESOPHAG_CANCER_EMT signature"
   ]
  },
  {
   "cell_type": "code",
   "execution_count": null,
   "id": "ce6d4d15",
   "metadata": {
    "pycharm": {
     "name": "#%%\n"
    }
   },
   "outputs": [],
   "source": [
    "ESOPHAG_CANCER_EMT_SIGNATURE_1 = pd.read_csv(os.path.join(BASE_PATH_DATA, 'annotations/emt/ESOPHAG_CANCER_EMT_SIGNATURE_1.csv'))\n",
    "ESOPHAG_CANCER_EMT_SIGNATURE_1 = ESOPHAG_CANCER_EMT_SIGNATURE_1.iloc[:,1].tolist()\n",
    "\n",
    "ESOPHAG_CANCER_EMT_SIGNATURE_2 = pd.read_csv(os.path.join(BASE_PATH_DATA, 'annotations/emt/ESOPHAG_CANCER_EMT_SIGNATURE_2.csv'))\n",
    "ESOPHAG_CANCER_EMT_SIGNATURE_2 = ESOPHAG_CANCER_EMT_SIGNATURE_2.iloc[:,1].tolist()"
   ]
  },
  {
   "cell_type": "code",
   "execution_count": null,
   "id": "45c15e16",
   "metadata": {
    "pycharm": {
     "name": "#%%\n"
    }
   },
   "outputs": [],
   "source": [
    "LUNG1_ESCC2_CANCER_EMT_SIGNATURE_1 = pd.read_csv(os.path.join(BASE_PATH_DATA, 'annotations/emt/LUNG1_ESCC2_CANCER_EMT_SIGNATURE_1.csv'))\n",
    "LUNG1_ESCC2_CANCER_EMT_SIGNATURE_1 = LUNG1_ESCC2_CANCER_EMT_SIGNATURE_1.iloc[:,1].tolist()\n",
    "\n",
    "LUNG1_ESCC2_CANCER_EMT_SIGNATURE_2 = pd.read_csv(os.path.join(BASE_PATH_DATA, 'annotations/emt/LUNG1_ESCC2_CANCER_EMT_SIGNATURE_2.csv'))\n",
    "LUNG1_ESCC2_CANCER_EMT_SIGNATURE_2 = LUNG1_ESCC2_CANCER_EMT_SIGNATURE_2.iloc[:,1].tolist()\n",
    "\n",
    "LUNG2_ESCC2_CANCER_EMT_SIGNATURE_1 = pd.read_csv(os.path.join(BASE_PATH_DATA, 'annotations/emt/LUNG2_ESCC2_CANCER_EMT_SIGNATURE_1.csv'))\n",
    "LUNG2_ESCC2_CANCER_EMT_SIGNATURE_1 = LUNG2_ESCC2_CANCER_EMT_SIGNATURE_1.iloc[:,1].tolist()\n",
    "\n",
    "LUNG2_ESCC2_CANCER_EMT_SIGNATURE_2 = pd.read_csv(os.path.join(BASE_PATH_DATA, 'annotations/emt/LUNG2_ESCC2_CANCER_EMT_SIGNATURE_2.csv'))\n",
    "LUNG2_ESCC2_CANCER_EMT_SIGNATURE_2 = LUNG2_ESCC2_CANCER_EMT_SIGNATURE_2.iloc[:,1].tolist()\n",
    "\n",
    "\n",
    "LUNG1_notrefined_ESCC2_CANCER_EMT_SIGNATURE_1 = pd.read_csv(os.path.join(BASE_PATH_DATA, 'annotations/emt/LUNG1_notrefined_ESCC2_CANCER_EMT_SIGNATURE_1.csv'))\n",
    "LUNG1_notrefined_ESCC2_CANCER_EMT_SIGNATURE_1 = LUNG1_notrefined_ESCC2_CANCER_EMT_SIGNATURE_1.iloc[:,1].tolist()\n",
    "\n",
    "LUNG1_notrefined_ESCC2_CANCER_EMT_SIGNATURE_2 = pd.read_csv(os.path.join(BASE_PATH_DATA, 'annotations/emt/LUNG1_notrefined_ESCC2_CANCER_EMT_SIGNATURE_2.csv'))\n",
    "LUNG1_notrefined_ESCC2_CANCER_EMT_SIGNATURE_2 = LUNG1_notrefined_ESCC2_CANCER_EMT_SIGNATURE_2.iloc[:,1].tolist()\n",
    "\n",
    "LUNG1_notrefined_ESCC2_CANCER_EMT_SIGNATURE_3 = pd.read_csv(os.path.join(BASE_PATH_DATA, 'annotations/emt/LUNG1_notrefined_ESCC2_CANCER_EMT_SIGNATURE_3.csv'))\n",
    "LUNG1_notrefined_ESCC2_CANCER_EMT_SIGNATURE_3 = LUNG1_notrefined_ESCC2_CANCER_EMT_SIGNATURE_3.iloc[:,1].tolist()"
   ]
  },
  {
   "cell_type": "code",
   "execution_count": null,
   "id": "4f03fe2b",
   "metadata": {
    "pycharm": {
     "name": "#%%\n"
    }
   },
   "outputs": [],
   "source": [
    "with open(os.path.join(BASE_PATH_DATA, 'annotations/emt/HALLMARK_EPITHELIAL_MESENCHYMAL_TRANSITION.v7.5.1.json'), 'r') as f:\n",
    "    hemt = json.load(f)\n",
    "hallmark_emt = hemt['HALLMARK_EPITHELIAL_MESENCHYMAL_TRANSITION']['geneSymbols']"
   ]
  },
  {
   "cell_type": "code",
   "execution_count": null,
   "id": "ee3cf336",
   "metadata": {
    "pycharm": {
     "name": "#%%\n"
    }
   },
   "outputs": [],
   "source": [
    "GM_B_22 = pd.read_csv(os.path.join(BASE_PATH_DATA,'annotations/emt/gene_modules_from_Barkley_et_al_2022.csv'))"
   ]
  },
  {
   "cell_type": "code",
   "execution_count": null,
   "id": "c6993ed5",
   "metadata": {
    "pycharm": {
     "name": "#%%\n"
    }
   },
   "outputs": [],
   "source": [
    "mes_gm  = GM_B_22.Mesenchymal\n",
    "mes_gm = mes_gm.dropna().tolist()\n",
    "\n",
    "pEMT_gm = GM_B_22.pEMT\n",
    "pEMT_gm = pEMT_gm.dropna().tolist()\n",
    "\n",
    "cEMT = GM_B_22.cEMT\n",
    "cEMT = cEMT.dropna().tolist()\n",
    "\n",
    "pEMT = GM_B_22['pEMT.1']\n",
    "pEMT = pEMT.dropna().tolist()"
   ]
  },
  {
   "cell_type": "code",
   "execution_count": null,
   "id": "d3001eb9",
   "metadata": {
    "code_folding": [
     1
    ],
    "pycharm": {
     "name": "#%%\n"
    }
   },
   "outputs": [],
   "source": [
    "## Refind Lung signature on ESCC\n",
    "new_sig = {'AGRN',\n",
    " 'ANXA3',\n",
    " 'AREG',\n",
    " 'BMP2',\n",
    " 'C3orf52',\n",
    " 'CAV1',\n",
    " 'CDCP1',\n",
    " 'CRIP2',\n",
    " 'CTSV',\n",
    " 'CXCL14',\n",
    " 'DCBLD2',\n",
    " 'DFNA5',\n",
    " 'DSG2',\n",
    " 'ERBB2',\n",
    " 'ERO1A',\n",
    " 'FBXO2',\n",
    " 'FGD6',\n",
    " 'FLNA',\n",
    " 'FLNB',\n",
    " 'FOSL1',\n",
    " 'ITGA2',\n",
    " 'ITGA3',\n",
    " 'ITGB4',\n",
    " 'KRT14',\n",
    " 'LAMA5',\n",
    " 'LAMB3',\n",
    " 'LAMC2',\n",
    " 'MET',\n",
    " 'MLLT11',\n",
    " 'MT2A',\n",
    " 'NRG1',\n",
    " 'PHLDA2',\n",
    " 'PKP3',\n",
    " 'PLEK2',\n",
    " 'PLOD3',\n",
    " 'PLXNB2',\n",
    " 'PPP1R14B',\n",
    " 'PPP1R14C',\n",
    " 'RAMP1',\n",
    " 'RP11-670E13.6',\n",
    " 'S100A10',\n",
    " 'S100A2',\n",
    " 'SEMA3C',\n",
    " 'SEMA4B',\n",
    " 'SERINC2',\n",
    " 'SERPINE1',\n",
    " 'SERPINE2',\n",
    " 'SFN',\n",
    " 'SH2D3A',\n",
    " 'SLC2A1',\n",
    " 'SPECC1',\n",
    " 'TGFBI',\n",
    " 'TNC',\n",
    " 'TNFRSF12A',\n",
    " 'TNNT1',\n",
    " 'TNS4',\n",
    " 'UBE2C',\n",
    " 'UCHL1',\n",
    " 'UPP1',\n",
    " 'WDR66'}"
   ]
  },
  {
   "cell_type": "code",
   "execution_count": null,
   "id": "06a9bfd2",
   "metadata": {
    "pycharm": {
     "name": "#%%\n"
    }
   },
   "outputs": [],
   "source": [
    "venn2(\n",
    "subsets= (set(LUNG1_ESCC2_CANCER_EMT_SIGNATURE_1), set(new_sig)))"
   ]
  },
  {
   "cell_type": "code",
   "execution_count": null,
   "id": "9999bc30",
   "metadata": {
    "pycharm": {
     "name": "#%%\n"
    }
   },
   "outputs": [],
   "source": [
    "len(new_sig)"
   ]
  },
  {
   "cell_type": "code",
   "execution_count": null,
   "id": "90b3380b",
   "metadata": {
    "code_folding": [
     0
    ],
    "pycharm": {
     "name": "#%%\n"
    }
   },
   "outputs": [],
   "source": [
    "some_sig = {'AGRN',\n",
    " 'ANXA3',\n",
    " 'AREG',\n",
    " 'BMP2',\n",
    " 'C3orf52',\n",
    " 'CAV1',\n",
    " 'CDCP1',\n",
    " 'COL27A1',\n",
    " 'COTL1',\n",
    " 'CRIP2',\n",
    " 'CTSV',\n",
    " 'CXCL14',\n",
    " 'DCBLD2',\n",
    " 'DFNA5',\n",
    " 'DSG2',\n",
    " 'ERBB2',\n",
    " 'EREG',\n",
    " 'ERO1A',\n",
    " 'FBXO2',\n",
    " 'FCMR',\n",
    " 'FGD6',\n",
    " 'FLNA',\n",
    " 'FMNL3',\n",
    " 'FOSL1',\n",
    " 'IL4I1',\n",
    " 'ITGA2',\n",
    " 'ITGA3',\n",
    " 'ITGB4',\n",
    " 'KLHL35',\n",
    " 'KRT14',\n",
    " 'LAMB3',\n",
    " 'LAMC2',\n",
    " 'MCAM',\n",
    " 'MET',\n",
    " 'MLLT11',\n",
    " 'MT2A',\n",
    " 'NRG1',\n",
    " 'PHLDA2',\n",
    " 'PKP3',\n",
    " 'PLEK2',\n",
    " 'PLOD3',\n",
    " 'PLXNB2',\n",
    " 'PPP1R14B',\n",
    " 'PPP1R14C',\n",
    " 'RAC2',\n",
    " 'RAMP1',\n",
    " 'S100A10',\n",
    " 'S100A2',\n",
    " 'SEMA3C',\n",
    " 'SEMA4B',\n",
    " 'SERINC2',\n",
    " 'SERPINA1',\n",
    " 'SERPINE1',\n",
    " 'SERPINE2',\n",
    " 'SFN',\n",
    " 'SH2D3A',\n",
    " 'SLC2A1',\n",
    " 'SPECC1',\n",
    " 'TGFBI',\n",
    " 'TNC',\n",
    " 'TNFRSF12A',\n",
    " 'TNNT1',\n",
    " 'TNS4',\n",
    " 'UBE2C',\n",
    " 'UCHL1',\n",
    " 'WDR66',\n",
    " 'ZBED2'}"
   ]
  },
  {
   "cell_type": "code",
   "execution_count": null,
   "id": "76ad82c8",
   "metadata": {
    "pycharm": {
     "name": "#%%\n"
    }
   },
   "outputs": [],
   "source": [
    "len(some_sig)"
   ]
  },
  {
   "cell_type": "code",
   "execution_count": null,
   "id": "0dcabd59",
   "metadata": {
    "pycharm": {
     "name": "#%%\n"
    }
   },
   "outputs": [],
   "source": [
    "df_mean_var = get_mean_and_variance_gene_expression(orig_adata, estim_var=False)"
   ]
  },
  {
   "cell_type": "code",
   "execution_count": null,
   "id": "c4d8a513",
   "metadata": {
    "pycharm": {
     "name": "#%%\n"
    }
   },
   "outputs": [],
   "source": [
    "for sig in [('ESOPHAG_CANCER_EMT_SIGNATURE_1',ESOPHAG_CANCER_EMT_SIGNATURE_1),\n",
    "            ('ESOPHAG_CANCER_EMT_SIGNATURE_2',ESOPHAG_CANCER_EMT_SIGNATURE_2),\n",
    "#             ('LUNG1_ESCC2_CANCER_EMT_SIGNATURE_1',LUNG1_ESCC2_CANCER_EMT_SIGNATURE_1),\n",
    "#             ('LUNG1_ESCC2_CANCER_EMT_SIGNATURE_2',LUNG1_ESCC2_CANCER_EMT_SIGNATURE_2),\n",
    "#             ('LUNG2_ESCC2_CANCER_EMT_SIGNATURE_1',LUNG2_ESCC2_CANCER_EMT_SIGNATURE_1),\n",
    "#             ('LUNG2_ESCC2_CANCER_EMT_SIGNATURE_2',LUNG2_ESCC2_CANCER_EMT_SIGNATURE_2),\n",
    "            ('LUNG1_notrefined_ESCC2_CANCER_EMT_SIGNATURE_1',LUNG1_notrefined_ESCC2_CANCER_EMT_SIGNATURE_1),\n",
    "            ('LUNG1_notrefined_ESCC2_CANCER_EMT_SIGNATURE_2',LUNG1_notrefined_ESCC2_CANCER_EMT_SIGNATURE_2),\n",
    "            ('LUNG1_notrefined_ESCC2_CANCER_EMT_SIGNATURE_3',LUNG1_notrefined_ESCC2_CANCER_EMT_SIGNATURE_3),\n",
    "            ('hallmark_emt',hallmark_emt),('pEMT_gm',pEMT_gm),\n",
    "#             ('new_sig',new_sig), ('some_sig',some_sig)\n",
    "           ]:\n",
    "    score_signature(method=\"adjusted_neighborhood_scoring\",\n",
    "                        adata=orig_adata,\n",
    "                        gene_list= sig[1],\n",
    "                        ctrl_size=100,\n",
    "                        df_mean_var = df_mean_var,\n",
    "                        score_name=sig[0])"
   ]
  },
  {
   "cell_type": "code",
   "execution_count": null,
   "id": "ea710e9a",
   "metadata": {
    "pycharm": {
     "name": "#%%\n"
    }
   },
   "outputs": [],
   "source": [
    "gt = orig_adata.obs.celltype_emt.copy()\n",
    "gt = gt.astype(str)\n",
    "\n",
    "gt[gt!='Epi with EMT']= 'Rest'"
   ]
  },
  {
   "cell_type": "code",
   "execution_count": null,
   "id": "ac192faa",
   "metadata": {
    "pycharm": {
     "name": "#%%\n"
    }
   },
   "outputs": [],
   "source": [
    "orig_adata.obs.celltype_emt.value_counts()"
   ]
  },
  {
   "cell_type": "code",
   "execution_count": null,
   "id": "25cd2ce9",
   "metadata": {
    "pycharm": {
     "name": "#%%\n"
    }
   },
   "outputs": [],
   "source": [
    "caf_and_cancer_emt = orig_adata.obs.celltype_emt[orig_adata.obs.celltype_emt.isin(['Epi with EMT','Fibro' ])].index.tolist()\n",
    "cancer_and_cancer_emt = orig_adata.obs.celltype_emt[orig_adata.obs.celltype_emt.isin(['Epi with EMT','Epi' ])].index.tolist()"
   ]
  },
  {
   "cell_type": "code",
   "execution_count": null,
   "id": "16e5ec64",
   "metadata": {
    "pycharm": {
     "name": "#%%\n"
    }
   },
   "outputs": [],
   "source": [
    "len(caf_and_cancer_emt)"
   ]
  },
  {
   "cell_type": "code",
   "execution_count": null,
   "id": "1c9a48a0",
   "metadata": {
    "pycharm": {
     "name": "#%%\n"
    }
   },
   "outputs": [],
   "source": [
    "len(cancer_and_cancer_emt)"
   ]
  },
  {
   "cell_type": "code",
   "execution_count": null,
   "id": "dc83a146",
   "metadata": {
    "pycharm": {
     "name": "#%%\n"
    }
   },
   "outputs": [],
   "source": [
    "sig_names = [x[0] for x in [('ESOPHAG_CANCER_EMT_SIGNATURE_1',ESOPHAG_CANCER_EMT_SIGNATURE_1),\n",
    "            ('ESOPHAG_CANCER_EMT_SIGNATURE_2',ESOPHAG_CANCER_EMT_SIGNATURE_2),\n",
    "            ('LUNG1_notrefined_ESCC2_CANCER_EMT_SIGNATURE_1',LUNG1_notrefined_ESCC2_CANCER_EMT_SIGNATURE_1),\n",
    "            ('LUNG1_notrefined_ESCC2_CANCER_EMT_SIGNATURE_2',LUNG1_notrefined_ESCC2_CANCER_EMT_SIGNATURE_2),\n",
    "            ('LUNG1_notrefined_ESCC2_CANCER_EMT_SIGNATURE_3',LUNG1_notrefined_ESCC2_CANCER_EMT_SIGNATURE_3),\n",
    "            ('hallmark_emt',hallmark_emt),('pEMT_gm',pEMT_gm),]]\n",
    "           "
   ]
  },
  {
   "cell_type": "code",
   "execution_count": null,
   "id": "c43fa2e5",
   "metadata": {
    "pycharm": {
     "name": "#%%\n"
    },
    "scrolled": false
   },
   "outputs": [],
   "source": [
    "from sklearn.metrics import precision_recall_curve, auc\n",
    "for score_name in sig_names:\n",
    "    plt.figure(figsize=(10,8))\n",
    "    \n",
    "    lr_precision, lr_recall, _ = precision_recall_curve(gt, orig_adata.obs[score_name], pos_label='Epi with EMT')\n",
    "    lr_auc = auc(lr_recall, lr_precision)\n",
    "    \n",
    "    lr_precision, lr_recall, _ = precision_recall_curve(gt[caf_and_cancer_emt], orig_adata.obs.loc[caf_and_cancer_emt,score_name], pos_label='Epi with EMT')\n",
    "    lr_auc_caf_and_emt = auc(lr_recall, lr_precision)\n",
    "    \n",
    "    lr_precision, lr_recall, _ = precision_recall_curve(gt[cancer_and_cancer_emt], orig_adata.obs.loc[cancer_and_cancer_emt,score_name], pos_label='Epi with EMT')\n",
    "    lr_auc_cancer_and_emt = auc(lr_recall, lr_precision)\n",
    "    \n",
    "    for group in orig_adata.obs.groupby('celltype_emt'):\n",
    "        if group[0] not in ['Epi with EMT','Epi','Fibro']:\n",
    "            continue\n",
    "        group[1][score_name].hist(bins=100, density=True, alpha=0.5, label=group[0])\n",
    "    \n",
    "    plt.title(score_name+'\\nAUCPR cancer EMT vs. rest '+str(np.round(lr_auc, decimals=3))+'\\nAUCPR cancer EMT vs. cafs '+str(np.round(lr_auc_caf_and_emt, decimals=3))+'\\nAUCPR cancer EMT vs. cancer '+str(np.round(lr_auc_cancer_and_emt, decimals=3)), fontsize=16)\n",
    "    plt.legend()\n",
    "    #plt.ylim([0,20])\n",
    "    plt.show()"
   ]
  },
  {
   "cell_type": "code",
   "execution_count": null,
   "id": "639c8c27",
   "metadata": {
    "pycharm": {
     "name": "#%%\n"
    },
    "scrolled": false
   },
   "outputs": [],
   "source": [
    "for sig_name in sig_names:\n",
    "    sc.pl.violin(orig_adata, keys=sig_name, groupby='celltype_emt', rotation=90)"
   ]
  },
  {
   "cell_type": "code",
   "execution_count": null,
   "id": "86d69dbd",
   "metadata": {
    "pycharm": {
     "name": "#%%\n"
    }
   },
   "outputs": [],
   "source": [
    "# with plt.rc_context({'figure.figsize':(10,8)}):\n",
    "#     sc.pl.violin(orig_adata, keys=['new_sig','pEMT_gm'], groupby='celltype_emt', rotation=90)"
   ]
  },
  {
   "cell_type": "code",
   "execution_count": null,
   "id": "432dca87",
   "metadata": {
    "pycharm": {
     "name": "#%%\n"
    }
   },
   "outputs": [],
   "source": []
  }
 ],
 "metadata": {
  "kernelspec": {
   "display_name": "Python 3 (ipykernel)",
   "language": "python",
   "name": "python3"
  },
  "language_info": {
   "codemirror_mode": {
    "name": "ipython",
    "version": 3
   },
   "file_extension": ".py",
   "mimetype": "text/x-python",
   "name": "python",
   "nbconvert_exporter": "python",
   "pygments_lexer": "ipython3",
   "version": "3.8.12"
  }
 },
 "nbformat": 4,
 "nbformat_minor": 5
}
