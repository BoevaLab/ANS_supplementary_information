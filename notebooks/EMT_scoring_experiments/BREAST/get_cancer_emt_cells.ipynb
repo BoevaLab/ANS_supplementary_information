{
 "cells": [
  {
   "cell_type": "markdown",
   "id": "1f3a0687",
   "metadata": {},
   "source": [
    "## Get cancer EMT cells for BREAST\n",
    "Cancer EMT cells are cancer cells assigned to gene-module 3 (GM3) in the dataset publication [[1]](https://www.nature.com/articles/s41588-021-00911-1). "
   ]
  },
  {
   "cell_type": "code",
   "execution_count": null,
   "id": "5bad41b6",
   "metadata": {
    "pycharm": {
     "name": "#%%\n"
    }
   },
   "outputs": [],
   "source": [
    "from IPython.display import display, HTML\n",
    "display(HTML(\"<style>.container { width:90% !important; }</style>\"))"
   ]
  },
  {
   "cell_type": "code",
   "execution_count": null,
   "id": "d27efe5b",
   "metadata": {
    "pycharm": {
     "name": "#%%\n"
    }
   },
   "outputs": [],
   "source": [
    "import os \n",
    "import sys\n",
    "from glob import glob\n",
    "\n",
    "sys.path.append('../../..')\n",
    "\n",
    "import pandas as pd\n",
    "import numpy as np\n",
    "import scanpy as sc\n",
    "import matplotlib.pyplot as plt\n",
    "from matplotlib_venn import venn2\n",
    "import seaborn as sns\n",
    "\n",
    "sys.path.append('../../..')\n",
    "from data.load_data import load_datasets\n",
    "from data.constants import BASE_PATH_DATA, BASE_PATH_EXPERIMENTS\n",
    "\n",
    "from signaturescoring import score_signature\n",
    "from signaturescoring.utils.utils import get_mean_and_variance_gene_expression, check_signature_genes"
   ]
  },
  {
   "cell_type": "code",
   "execution_count": null,
   "id": "29cadca9",
   "metadata": {},
   "outputs": [],
   "source": [
    "sc.settings.verbosity = 2\n",
    "\n",
    "save = True\n",
    "\n",
    "dataset_long = 'breast_large'\n",
    "dataset = 'breast'"
   ]
  },
  {
   "cell_type": "code",
   "execution_count": null,
   "id": "8aa45176",
   "metadata": {},
   "outputs": [],
   "source": [
    "storing_path = os.path.join(BASE_PATH_EXPERIMENTS, f'EMT_signature_scoring_case_study/{dataset}')\n",
    "if not os.path.exists(storing_path):\n",
    "    os.makedirs(storing_path)\n",
    "    sc.logging.info(f'Creating new directory to store the results.')"
   ]
  },
  {
   "cell_type": "markdown",
   "id": "05332fa1",
   "metadata": {
    "pycharm": {
     "name": "#%% md\n"
    }
   },
   "source": [
    "Load preprocessed data"
   ]
  },
  {
   "cell_type": "code",
   "execution_count": null,
   "id": "68ea0872",
   "metadata": {},
   "outputs": [],
   "source": [
    "adata = load_datasets(dataset_long, preprocessed=True, norm_method='mean')\n",
    "if 'log1p' in adata.uns_keys():\n",
    "    adata.uns['log1p']['base'] = None\n",
    "else:\n",
    "    adata.uns['log1p'] = {'base': None}"
   ]
  },
  {
   "cell_type": "code",
   "execution_count": null,
   "id": "f3f4c8ee",
   "metadata": {},
   "outputs": [],
   "source": [
    "adata.obs.malignant_key.value_counts().sort_index()"
   ]
  },
  {
   "cell_type": "code",
   "execution_count": null,
   "id": "90349e4e",
   "metadata": {},
   "outputs": [],
   "source": [
    "#sc.tl.pca(adata)\n",
    "#sc.pp.neighbors(adata)\n",
    "#sc.tl.umap(adata)"
   ]
  },
  {
   "cell_type": "code",
   "execution_count": null,
   "id": "29c9618f",
   "metadata": {},
   "outputs": [],
   "source": [
    "#plt.rcParams.update({'pdf.fonttype':42, 'font.family':'sans-serif', 'font.sans-serif':'Arial', 'font.size':14})\n",
    "\n",
    "#sc.pl.umap(adata, color=['sample_id','malignant_key', 'celltype'], ncols=1)"
   ]
  },
  {
   "cell_type": "markdown",
   "id": "4575b6e3",
   "metadata": {
    "pycharm": {
     "name": "#%% md\n"
    }
   },
   "source": [
    "### Select cancer EMT cells and store barcodes"
   ]
  },
  {
   "cell_type": "code",
   "execution_count": null,
   "id": "8f82ff56",
   "metadata": {},
   "outputs": [],
   "source": [
    "def create_pivot_table(data, index, column):\n",
    "    tmp = data.obs[[index, column]].value_counts().sort_index().reset_index()\n",
    "    tmp.columns = [index, column, 'count']\n",
    "    return pd.pivot(tmp,\n",
    "                    columns=column,\n",
    "                    index=index,\n",
    "                    values='count')"
   ]
  },
  {
   "cell_type": "code",
   "execution_count": null,
   "id": "68941bc2",
   "metadata": {},
   "outputs": [],
   "source": [
    "create_pivot_table(adata,'gene_module', 'celltype')"
   ]
  },
  {
   "cell_type": "code",
   "execution_count": null,
   "id": "7c570010",
   "metadata": {},
   "outputs": [],
   "source": [
    "adata.obs.celltype.value_counts().sort_index()"
   ]
  },
  {
   "cell_type": "code",
   "execution_count": null,
   "id": "9d39976f",
   "metadata": {},
   "outputs": [],
   "source": [
    "## get gene module signatures "
   ]
  },
  {
   "cell_type": "code",
   "execution_count": null,
   "id": "404c94d0",
   "metadata": {},
   "outputs": [],
   "source": [
    "fns = sorted(glob(BASE_PATH_DATA+'/annotations/breast/*_GM*.csv'))\n",
    "sigs = {f\"{fn.rsplit('/', 1)[1].split('.')[0].split('_', 1)[1]}_scores\": pd.read_csv(fn).iloc[:,0].tolist() for fn in fns}"
   ]
  },
  {
   "cell_type": "code",
   "execution_count": null,
   "id": "8e55dc55",
   "metadata": {},
   "outputs": [],
   "source": [
    "cancer_cells = adata[(adata.obs.celltype=='Cancer Epithelial')].copy()"
   ]
  },
  {
   "cell_type": "code",
   "execution_count": null,
   "id": "495272ec",
   "metadata": {},
   "outputs": [],
   "source": [
    "for key, sig in sigs.items():\n",
    "    score_signature(method=\"adjusted_neighborhood_scoring\",\n",
    "                    adata=cancer_cells,\n",
    "                    gene_list=sig,\n",
    "                    ctrl_size=100,\n",
    "                    score_name=key)"
   ]
  },
  {
   "cell_type": "code",
   "execution_count": null,
   "id": "c2f3cdcb",
   "metadata": {},
   "outputs": [],
   "source": [
    "adata.obs.loc[cancer_cells.obs_names, list(sigs.keys())] = cancer_cells.obs[list(sigs.keys())]"
   ]
  },
  {
   "cell_type": "markdown",
   "id": "ebf89bdf",
   "metadata": {},
   "source": [
    "### filter non-BASAL samples"
   ]
  },
  {
   "cell_type": "code",
   "execution_count": null,
   "id": "ee6b1525",
   "metadata": {},
   "outputs": [],
   "source": [
    "basal_samples = ['CID3586',  'CID3963', \n",
    "                 'CID4465',  'CID4495',\n",
    "                 'CID44971', 'CID4513',\n",
    "                 'CID4515',  'CID4523',\n",
    "                ]"
   ]
  },
  {
   "cell_type": "code",
   "execution_count": null,
   "id": "c3c83caa",
   "metadata": {},
   "outputs": [],
   "source": [
    "adata = adata[adata.obs.sample_id.isin(basal_samples)].copy()"
   ]
  },
  {
   "cell_type": "markdown",
   "id": "44eab939",
   "metadata": {},
   "source": [
    "### look at score distributions between GM3 and other gene modules"
   ]
  },
  {
   "cell_type": "code",
   "execution_count": null,
   "id": "764c74a9",
   "metadata": {},
   "outputs": [],
   "source": [
    "from scipy.stats import pearsonr\n",
    "import matplotlib.pyplot as plt \n",
    "\n",
    "def corrfunc(x, y, ax=None, **kws):\n",
    "    \"\"\"Plot the correlation coefficient in the top left hand corner of a plot.\"\"\"\n",
    "    r, _ = pearsonr(x, y)\n",
    "    ax = ax or plt.gca()\n",
    "    ax.annotate(f'r = {r:.2f}', xy=(.1, .9), xycoords=ax.transAxes)"
   ]
  },
  {
   "cell_type": "code",
   "execution_count": null,
   "id": "4fe57809",
   "metadata": {},
   "outputs": [],
   "source": [
    "## What are the ranges of score  of other gene modules for the cancer epithelial cells with class label GM3\n",
    "cancer_gm3 = adata[(adata.obs.celltype=='Cancer Epithelial')&(adata.obs.gene_module.isin(['3']))].obs"
   ]
  },
  {
   "cell_type": "code",
   "execution_count": null,
   "id": "664a063d",
   "metadata": {
    "scrolled": true
   },
   "outputs": [],
   "source": [
    "f, ax = plt.subplots(nrows=len(sigs.keys()), ncols=1, figsize=(8,len(sigs.keys())*5))\n",
    "for i, val in enumerate(list(sigs.keys())):\n",
    "    min_val = cancer_gm3[['GM3_scores', val]].min().min()\n",
    "    max_val = cancer_gm3[['GM3_scores', val]].max().max()\n",
    "    line_plot = np.linspace(min_val, max_val, 100)\n",
    "\n",
    "    sns.scatterplot(cancer_gm3,\n",
    "                    x='GM3_scores',\n",
    "                    y=val,\n",
    "                    hue='gene_module', \n",
    "                    alpha=0.5,\n",
    "                   ax=ax[i])\n",
    "    ax[i].plot(line_plot,line_plot, color='r', ls=':')\n",
    "    ax[i].axhline(0.25, color='g', ls=':')\n",
    "    ax[i].set_title(f'GM3_scores vs. {val}')"
   ]
  },
  {
   "cell_type": "code",
   "execution_count": null,
   "id": "d5c902b6",
   "metadata": {},
   "outputs": [],
   "source": [
    "rem_gms = sorted(list(set(list(sigs.keys())) - set(['GM3_scores'])))\n",
    "rem_gms"
   ]
  },
  {
   "cell_type": "code",
   "execution_count": null,
   "id": "b6527f63",
   "metadata": {},
   "outputs": [],
   "source": [
    "good_remaining_scores = pd.concat([cancer_gm3[gm]<=0.25 for gm in rem_gms], axis=1).all(axis=1)\n",
    "good_remaining_scores.value_counts()"
   ]
  },
  {
   "cell_type": "code",
   "execution_count": null,
   "id": "ee6c8732",
   "metadata": {},
   "outputs": [],
   "source": []
  },
  {
   "cell_type": "code",
   "execution_count": null,
   "id": "eed1be31",
   "metadata": {},
   "outputs": [],
   "source": [
    "barcodes_cancer_emt_1 = cancer_gm3.index.tolist()\n",
    "barcodes_cancer_emt_2 = cancer_gm3[good_remaining_scores].index.tolist()\n",
    "barcodes_cancer_emt_3 = cancer_gm3[cancer_gm3[list(sigs.keys())].idxmax(axis=1) == 'GM3_scores'].index.tolist()"
   ]
  },
  {
   "cell_type": "code",
   "execution_count": null,
   "id": "9d0d1803",
   "metadata": {},
   "outputs": [],
   "source": [
    "## What is the range of GM3 scores for cancer epithelial cells with class label other than GM3\n",
    "cancer_non_gm3 = adata[(adata.obs.celltype=='Cancer Epithelial')&(~adata.obs.gene_module.isin(['3']))].obs\n",
    "cancer_non_gm3.gene_module.value_counts()"
   ]
  },
  {
   "cell_type": "code",
   "execution_count": null,
   "id": "d69c3b2a",
   "metadata": {
    "scrolled": true
   },
   "outputs": [],
   "source": [
    "f, ax = plt.subplots(nrows=len(sigs.keys()), ncols=1, figsize=(8,len(sigs.keys())*5))\n",
    "for i, val in enumerate(list(sigs.keys())):\n",
    "    min_val = cancer_non_gm3[['GM3_scores', val]].min().min()\n",
    "    max_val = cancer_non_gm3[['GM3_scores', val]].max().max()\n",
    "    line_plot = np.linspace(min_val, max_val, 100)\n",
    "\n",
    "    sns.scatterplot(cancer_non_gm3,\n",
    "                    x='GM3_scores',\n",
    "                    y=val,\n",
    "                    hue='gene_module', \n",
    "                    alpha=0.5,\n",
    "                   ax=ax[i])\n",
    "    ax[i].plot(line_plot,line_plot, color='r', ls=':')\n",
    "    ax[i].axvline(0.25, color='g', ls=':')\n",
    "    ax[i].set_title(f'GM3_scores vs. {val}')"
   ]
  },
  {
   "cell_type": "code",
   "execution_count": null,
   "id": "78b2d5b5",
   "metadata": {},
   "outputs": [],
   "source": [
    "barcodes_to_remove = cancer_non_gm3[cancer_non_gm3.GM3_scores>0.15].index.tolist()\n",
    "(cancer_non_gm3.GM3_scores>0.15).value_counts()"
   ]
  },
  {
   "cell_type": "code",
   "execution_count": null,
   "id": "c08dd81a",
   "metadata": {},
   "outputs": [],
   "source": [
    "g = sc.pl.violin(adata, keys=list(sigs.keys()), groupby='gene_module', rotation=90, show=False)\n",
    "for ax in g:\n",
    "    ax.axhline(0.25, color='r')"
   ]
  },
  {
   "cell_type": "code",
   "execution_count": null,
   "id": "8dbd7576",
   "metadata": {},
   "outputs": [],
   "source": [
    "# barcodes_cancer_emt = adata[(adata.obs.celltype=='Cancer Epithelial')&(adata.obs.gene_module=='3')].obs_names.tolist()"
   ]
  },
  {
   "cell_type": "code",
   "execution_count": null,
   "id": "b52cacc5",
   "metadata": {},
   "outputs": [],
   "source": [
    "len(barcodes_cancer_emt_1), len(barcodes_cancer_emt_2), len(barcodes_cancer_emt_3), len(barcodes_to_remove)"
   ]
  },
  {
   "cell_type": "code",
   "execution_count": null,
   "id": "295c3343",
   "metadata": {},
   "outputs": [],
   "source": [
    "## define path to store the cancer emt cell barcodes\n",
    "if save:\n",
    "    pd.Series(barcodes_cancer_emt_1).to_csv(os.path.join(storing_path, 'barcodes_cancer_emt_1.csv'))\n",
    "    pd.Series(barcodes_cancer_emt_2).to_csv(os.path.join(storing_path, 'barcodes_cancer_emt_2.csv'))\n",
    "    pd.Series(barcodes_cancer_emt_3).to_csv(os.path.join(storing_path, 'barcodes_cancer_emt_3.csv'))\n",
    "    pd.Series(barcodes_to_remove).to_csv(os.path.join(storing_path, 'barcodes_to_remove.csv'))"
   ]
  },
  {
   "cell_type": "code",
   "execution_count": null,
   "id": "7d3e028a",
   "metadata": {},
   "outputs": [],
   "source": []
  }
 ],
 "metadata": {
  "kernelspec": {
   "display_name": "Python 3 (ipykernel)",
   "language": "python",
   "name": "python3"
  },
  "language_info": {
   "codemirror_mode": {
    "name": "ipython",
    "version": 3
   },
   "file_extension": ".py",
   "mimetype": "text/x-python",
   "name": "python",
   "nbconvert_exporter": "python",
   "pygments_lexer": "ipython3",
   "version": "3.8.12"
  }
 },
 "nbformat": 4,
 "nbformat_minor": 5
}
