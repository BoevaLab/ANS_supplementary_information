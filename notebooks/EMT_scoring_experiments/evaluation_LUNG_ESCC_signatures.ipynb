{
 "cells": [
  {
   "cell_type": "code",
   "execution_count": null,
   "id": "676d518d",
   "metadata": {},
   "outputs": [],
   "source": [
    "from IPython.display import display, HTML\n",
    "display(HTML(\"<style>.container { width:95% !important; }</style>\"))"
   ]
  },
  {
   "cell_type": "code",
   "execution_count": null,
   "id": "21155e1d",
   "metadata": {},
   "outputs": [],
   "source": [
    "import os \n",
    "import sys\n",
    "\n",
    "import pandas as pd\n",
    "import numpy as np\n",
    "import scanpy as sc\n",
    "import glob\n",
    "import json \n",
    "import matplotlib.pyplot as plt\n",
    "import seaborn as sns\n",
    "from matplotlib.pyplot import rc_context\n",
    "from sklearn.metrics import precision_recall_curve, auc\n",
    "\n",
    "sys.path.append('../..')\n",
    "from data.load_data import load_datasets\n",
    "from data.constants import BASE_PATH_EXPERIMENTS, BASE_PATH_DATA\n",
    "\n",
    "from signaturescoring import score_signature\n",
    "from signaturescoring.utils.utils import get_mean_and_variance_gene_expression, check_signature_genes\n",
    "\n",
    "plt.rcParams.update({'pdf.fonttype':42, 'font.family':'sans-serif', 'font.sans-serif':'Arial', 'font.size':14})"
   ]
  },
  {
   "cell_type": "markdown",
   "id": "081fc99f",
   "metadata": {
    "pycharm": {
     "name": "#%% md\n"
    }
   },
   "source": [
    "### Helper functions"
   ]
  },
  {
   "cell_type": "code",
   "execution_count": null,
   "id": "1ec4901e",
   "metadata": {
    "pycharm": {
     "name": "#%%\n"
    }
   },
   "outputs": [],
   "source": [
    "def get_sig_from_emtome_sig_file(filepath):\n",
    "    assert os.path.exists(filepath)\n",
    "    with open(filepath, 'r') as f:\n",
    "        lines = f.readlines()\n",
    "        lines = lines[2:]\n",
    "        lines = [str(x[1:-1]) for x in lines]\n",
    "        \n",
    "    return lines"
   ]
  },
  {
   "cell_type": "code",
   "execution_count": null,
   "id": "49a1315b",
   "metadata": {},
   "outputs": [],
   "source": [
    "def get_path(base, add_folder=[], fn=None):\n",
    "    curr_path = os.path.join(base, *add_folder) if fn is None else os.path.join(base, *add_folder, fn)\n",
    "    if not os.path.exists(curr_path):\n",
    "        os.makedirs(curr_path)\n",
    "        print(f\"Creating folder {curr_path}\") \n",
    "    return curr_path "
   ]
  },
  {
   "cell_type": "code",
   "execution_count": null,
   "id": "7da77765",
   "metadata": {},
   "outputs": [],
   "source": []
  },
  {
   "cell_type": "code",
   "execution_count": null,
   "id": "b520e958",
   "metadata": {},
   "outputs": [],
   "source": [
    "def get_cancer_emt_barcodes(dataset, mode=1):\n",
    "    if dataset=='breast':\n",
    "        fn = os.path.join(BASE_PATH_EXPERIMENTS, f'EMT_signature_scoring_case_study/{dataset}/barcodes_cancer_emt_{mode}.csv')\n",
    "    else:    \n",
    "        fn = os.path.join(BASE_PATH_EXPERIMENTS, f'EMT_signature_scoring_case_study/{dataset}/barcodes_cancer_emt.csv')\n",
    "    print(fn)\n",
    "    barcodes_cancer_emt = (pd.read_csv(fn))['0']\n",
    "    barcodes_cancer_emt.name = 'cancer_emt_cells'\n",
    "    return barcodes_cancer_emt"
   ]
  },
  {
   "cell_type": "code",
   "execution_count": null,
   "id": "0d15888f",
   "metadata": {},
   "outputs": [],
   "source": [
    "def creat_celltype_emt_col(adata, celltype_col, cancer_emt_label, caf_label, cancer_no_emt_label, barcodes_cancer_emt, mal_cells_name, fibro_name):\n",
    "    adata.obs['celltype_emt'] = adata.obs[celltype_col].copy()\n",
    "    adata.obs['celltype_emt'] = adata.obs['celltype_emt'].astype(str)\n",
    "    \n",
    "    adata.obs.loc[barcodes_cancer_emt, 'celltype_emt'] = cancer_emt_label\n",
    "    adata.obs.loc[(adata.obs.celltype == mal_cells_name) & (adata.obs.index.isin(barcodes_cancer_emt)==False), 'celltype_emt'] = cancer_no_emt_label\n",
    "    adata.obs.loc[(adata.obs.celltype == fibro_name), 'celltype_emt'] = caf_label\n",
    "    adata.obs['celltype_emt'] = adata.obs['celltype_emt'].astype('category')\n",
    "    \n",
    "    return adata"
   ]
  },
  {
   "cell_type": "code",
   "execution_count": null,
   "id": "99ed7e01",
   "metadata": {},
   "outputs": [],
   "source": [
    "def get_hue_order(adata, cancer_emt_label, caf_label,cancer_no_emt_label):\n",
    "    return [cancer_emt_label, caf_label,cancer_no_emt_label] +sorted(list(set(adata.obs['celltype_emt'].unique()).difference([cancer_emt_label, caf_label,cancer_no_emt_label])))"
   ]
  },
  {
   "cell_type": "code",
   "execution_count": null,
   "id": "397a9080",
   "metadata": {},
   "outputs": [],
   "source": [
    "def get_and_plot_celltype_proportions(ds, adata, order_hue, sample_col='sample_id', figsize=(20, 10)):\n",
    "    \n",
    "    tmp = adata.obs[[sample_col,'celltype_emt']]\n",
    "\n",
    "    cross_tab_prop = pd.crosstab(index=tmp[sample_col],\n",
    "                                 columns=tmp['celltype_emt'],\n",
    "                                 normalize=\"index\"\n",
    "                                )\n",
    "\n",
    "    cross_tab_prop = cross_tab_prop[order_hue]\n",
    "\n",
    "    cross_tab_prop = np.round(cross_tab_prop*100, decimals=2)\n",
    "\n",
    "    plt.rcParams.update({'pdf.fonttype':42, 'font.family':'sans-serif', 'font.sans-serif':'Arial', 'font.size':14})\n",
    "\n",
    "    ax = cross_tab_prop.plot(kind='bar', \n",
    "                        stacked=True, \n",
    "                        colormap='tab20', \n",
    "                        figsize=figsize)\n",
    "\n",
    "    plt.legend(loc='center left',bbox_to_anchor=(1.0, 0.5),ncol=1, fontsize=18)\n",
    "    plt.xlabel(\"Sample ID\", fontsize= 22)\n",
    "    plt.ylabel(\"Celltype proportions (%)\", fontsize= 22)\n",
    "    plt.title(f\"Celltype proportions per sample for {ds.upper()} cancer.\", fontsize= 24)\n",
    "    plt.xticks(fontsize=18)\n",
    "    plt.yticks(np.arange(0,101,5),fontsize=18)\n",
    "    plt.tight_layout()\n",
    "    \n",
    "\n",
    "    cross_tab = pd.crosstab(index=tmp[sample_col],\n",
    "                             columns=tmp['celltype_emt'],\n",
    "                            )\n",
    "    return plt.gcf(), cross_tab\n",
    "    "
   ]
  },
  {
   "cell_type": "code",
   "execution_count": null,
   "id": "49862aaa",
   "metadata": {},
   "outputs": [],
   "source": [
    "def create_violin_plot(adatas, hue_orders, row_order, col_order):\n",
    "    plt.rcParams.update({'pdf.fonttype':42, 'font.family':'sans-serif', 'font.sans-serif':'Arial', 'font.size':14})\n",
    "    fig, axes = plt.subplots(nrows=len(row_order), ncols=len(col_order), sharex='col', sharey=False, figsize=(len(col_order)*5.7, len(row_order)*4.4))\n",
    "    for i, row in enumerate(row_order):\n",
    "        for j, col in enumerate(col_order):\n",
    "            sc.pl.violin(adatas[col.lower()], keys=row, groupby='celltype_emt', order=hue_orders[col.lower()], rotation=90, stripplot=False, ax=axes[i,j], show=False)\n",
    "            if j!=0:\n",
    "                axes[i,j].set_ylabel(None)\n",
    "            else:\n",
    "                axes[i,j].set_ylabel(row, fontsize=20) \n",
    "            if i==0:\n",
    "                axes[i,j].set_title(col, fontsize=26)\n",
    "            if i==(len(row_order)-1):\n",
    "                axes[i,j].tick_params(axis='x', labelsize=20)\n",
    "            axes[i,j].tick_params(axis='y', labelsize=16)\n",
    "    plt.tight_layout()\n",
    "    return fig"
   ]
  },
  {
   "cell_type": "markdown",
   "id": "b6905c98",
   "metadata": {},
   "source": [
    "### Global variables "
   ]
  },
  {
   "cell_type": "code",
   "execution_count": null,
   "id": "c9eab5d9",
   "metadata": {},
   "outputs": [],
   "source": [
    "save = True\n",
    "pl_size = 6\n",
    "mode = 1\n",
    "\n",
    "base_path_emt_signatures = os.path.join(BASE_PATH_DATA, f'annotations/emt')\n",
    "base_emt_exp_path = os.path.join(BASE_PATH_EXPERIMENTS, f'EMT_signature_scoring_case_study')\n",
    "if save:\n",
    "    base_storing_path = get_path(base_emt_exp_path, add_folder=['results'])"
   ]
  },
  {
   "cell_type": "code",
   "execution_count": null,
   "id": "118c9158",
   "metadata": {
    "pycharm": {
     "name": "#%%\n"
    }
   },
   "outputs": [],
   "source": [
    "cancer_emt_label = 'Cancer expr. EMT'\n",
    "caf_label = 'Fibroblast'\n",
    "cancer_no_emt_label = 'Cancer not expr. EMT'\n",
    "\n",
    "aucpr_lbl_emt_rest = 'AUCPR cancer expr. EMT vs. rest'\n",
    "aucpr_lbl_emt_cafs = 'AUCPR cancer expr. EMT vs. CAFs'\n",
    "aucpr_lbl_emt_mal = 'AUCPR cancer expr. EMT vs. cancer not expr. EMT'\n",
    "\n",
    "\n",
    "datasets = ['crc', 'escc', 'luad_xing', 'breast']"
   ]
  },
  {
   "cell_type": "markdown",
   "id": "92623feb",
   "metadata": {
    "pycharm": {
     "name": "#%% md\n"
    }
   },
   "source": [
    "### Load data and mark cancer cells expressing EMT"
   ]
  },
  {
   "cell_type": "code",
   "execution_count": null,
   "id": "435d7ef2",
   "metadata": {},
   "outputs": [],
   "source": [
    "adatas = {}\n",
    "\n",
    "for ds in datasets:\n",
    "    print(f'Loading dataset {ds}.')\n",
    "    adatas[ds] = load_datasets('breast_small' if ds == 'breast' else ds , preprocessed=True, norm_method='mean')\n",
    "    if ds == 'luad_xing':\n",
    "        adatas[ds] = adatas[ds][adatas[ds].obs.celltype != 'Granulocytes'].copy()\n",
    "    elif ds == 'breast' and mode==1:\n",
    "        barcodes_to_remove = pd.read_csv(os.path.join(base_emt_exp_path, ds, 'barcodes_to_remove.csv')).iloc[:,1].tolist()\n",
    "        print(adatas[ds].shape, f'removing {len(barcodes_to_remove)} cells in gray area')\n",
    "        adatas[ds] = adatas[ds][~adatas[ds].obs.index.isin(barcodes_to_remove)].copy()\n",
    "        print(adatas[ds].shape)\n",
    "    if 'log1p' in adatas[ds].uns_keys():\n",
    "        adatas[ds].uns['log1p']['base'] = None\n",
    "    else:\n",
    "        adatas[ds].uns['log1p'] = {'base': None}"
   ]
  },
  {
   "cell_type": "code",
   "execution_count": null,
   "id": "6ccb6172",
   "metadata": {
    "scrolled": true
   },
   "outputs": [],
   "source": [
    "for (ds, adata), (mal_name, caf_name) in zip(adatas.items(),[('Epi','Fibro'),('Epi', 'Fibroblasts'),('Malignant', 'Fibroblast'), ('Cancer Epithelial', 'CAFs')]):\n",
    "    barcodes_cancer_emt = get_cancer_emt_barcodes(ds, mode=mode)\n",
    "    adatas[ds] = creat_celltype_emt_col(adata, \n",
    "                                        'celltype', \n",
    "                                        cancer_emt_label,\n",
    "                                        caf_label,\n",
    "                                        cancer_no_emt_label,\n",
    "                                        barcodes_cancer_emt, \n",
    "                                        mal_name, \n",
    "                                        caf_name)\n",
    "\n",
    "    print(ds, adatas[ds].obs['celltype_emt'].value_counts().sort_index())\n",
    "    print()"
   ]
  },
  {
   "cell_type": "code",
   "execution_count": null,
   "id": "9e8eed4b",
   "metadata": {
    "pycharm": {
     "name": "#%%\n"
    }
   },
   "outputs": [],
   "source": [
    "hue_orders = {}\n",
    "for ds, adata in adatas.items():\n",
    "    hue_orders[ds] = get_hue_order(adata, cancer_emt_label, cancer_no_emt_label, caf_label)"
   ]
  },
  {
   "cell_type": "markdown",
   "id": "dd820cb0",
   "metadata": {},
   "source": [
    "### Get celltype proportions per datasets"
   ]
  },
  {
   "cell_type": "code",
   "execution_count": null,
   "id": "94f967f6",
   "metadata": {
    "scrolled": false
   },
   "outputs": [],
   "source": [
    "plt.rcParams.update({'pdf.fonttype':42, 'font.family':'sans-serif', 'font.sans-serif':'Arial', 'font.size':14})\n",
    "curr_storing_path = get_path(base_emt_exp_path, add_folder=['results', 'dataset_composition'])\n",
    "for ds in datasets:\n",
    "    fig, cross_tab_prop = get_and_plot_celltype_proportions(ds, adatas[ds], hue_orders[ds], sample_col='sample_id', figsize=(20, 10))\n",
    "    \n",
    "    if save:\n",
    "        fig.savefig(os.path.join(curr_storing_path, f'celltype_proportions_{ds}.svg'))\n",
    "        cross_tab_prop.to_csv(os.path.join(curr_storing_path, f'celltype_proportions_{ds}.csv'))\n",
    "    plt.show(fig)"
   ]
  },
  {
   "cell_type": "markdown",
   "id": "d8a5748b",
   "metadata": {},
   "source": [
    "## Get all signatures to compare"
   ]
  },
  {
   "cell_type": "code",
   "execution_count": null,
   "id": "4dfb7025",
   "metadata": {},
   "outputs": [],
   "source": [
    "sig_list = glob.glob(base_path_emt_signatures+\"/sigs_from_emtome/pan_cancer/*.txt\")\n",
    "sig_list.sort()\n",
    "sig_list = {x.split('/')[-1].split('.')[0]:x for x in sig_list}\n",
    "sig_list = {key:get_sig_from_emtome_sig_file(val) for key, val in sig_list.items()}\n",
    "\n",
    "with open(base_path_emt_signatures+'/HALLMARK_EPITHELIAL_MESENCHYMAL_TRANSITION.v7.5.1.json', 'r') as f:\n",
    "    hemt = json.load(f)\n",
    "\n",
    "sig_list['hallmark_emt'] = hemt['HALLMARK_EPITHELIAL_MESENCHYMAL_TRANSITION']['geneSymbols']\n",
    "\n",
    "\n",
    "GM_B_22 = pd.read_csv(base_path_emt_signatures+'/gene_modules_from_Barkley_et_al_2022.csv')\n",
    "pEMT_gm = GM_B_22.pEMT\n",
    "\n",
    "sig_list['pEMT_gm'] = pEMT_gm.dropna().tolist()"
   ]
  },
  {
   "cell_type": "code",
   "execution_count": null,
   "id": "446118a1",
   "metadata": {},
   "outputs": [],
   "source": [
    "# ESOPHAG_CANCER_EMT_SIGNATURE_1 = pd.read_csv(os.path.join(base_emt_exp_path,'escc', 'dataset_specific_emt_sig', 'ESOPHAG_CANCER_EMT_SIGNATURE_1.csv'))\n",
    "# sig_list['ESCC EMT signature 1'] = ESOPHAG_CANCER_EMT_SIGNATURE_1.iloc[:,1].tolist()\n",
    "\n",
    "# ESOPHAG_CANCER_EMT_SIGNATURE_2 = pd.read_csv(os.path.join(base_emt_exp_path, 'escc', 'dataset_specific_emt_sig',  'ESOPHAG_CANCER_EMT_SIGNATURE_2.csv'))\n",
    "# sig_list['ESCC EMT signature 2'] = ESOPHAG_CANCER_EMT_SIGNATURE_2.iloc[:,1].tolist()\n",
    "\n",
    "# LUNG_CANCER_EMT_SIGNATURE_1 = pd.read_csv(os.path.join(base_emt_exp_path, 'luad_xing', 'dataset_specific_emt_sig','LUNG_CANCER_EMT_SIGNATURE_1.csv'))\n",
    "# sig_list['LUAD EMT signature 1'] = LUNG_CANCER_EMT_SIGNATURE_1.iloc[:,1].tolist()\n",
    "\n",
    "# LUNG_CANCER_EMT_SIGNATURE_2 = pd.read_csv(os.path.join(base_emt_exp_path, 'luad_xing', 'dataset_specific_emt_sig','LUNG_CANCER_EMT_SIGNATURE_2.csv'))\n",
    "# sig_list['LUAD EMT signature 2'] = LUNG_CANCER_EMT_SIGNATURE_2.iloc[:,1].tolist()\n",
    "\n",
    "# LUNG1_ESCC2_CANCER_EMT_SIGNATURE_1 = pd.read_csv(os.path.join(base_emt_exp_path, 'escc', 'union_emt_sigs','LUNG1_ESCC2_CANCER_EMT_SIGNATURE_1.csv'))\n",
    "# sig_list['ESCC and LUAD EMT signature 1'] = LUNG1_ESCC2_CANCER_EMT_SIGNATURE_1.iloc[:,1].tolist()\n",
    "\n",
    "# LUNG1_ESCC2_CANCER_EMT_SIGNATURE_2 = pd.read_csv(os.path.join(base_emt_exp_path, 'escc', 'union_emt_sigs','LUNG1_ESCC2_CANCER_EMT_SIGNATURE_2.csv'))\n",
    "# sig_list['ESCC and LUAD EMT signature 2'] = LUNG1_ESCC2_CANCER_EMT_SIGNATURE_2.iloc[:,1].tolist()\n",
    "\n",
    "# LUNG1_ESCC2_CANCER_EMT_SIGNATURE_3 = pd.read_csv(os.path.join(base_emt_exp_path, 'escc', 'union_emt_sigs','LUNG1_ESCC2_CANCER_EMT_SIGNATURE_3.csv'))\n",
    "# sig_list['ESCC and LUAD EMT signature 3'] = LUNG1_ESCC2_CANCER_EMT_SIGNATURE_3.iloc[:,1].tolist()\n"
   ]
  },
  {
   "cell_type": "code",
   "execution_count": null,
   "id": "b3354a91",
   "metadata": {},
   "outputs": [],
   "source": [
    "LUNG1_ESCC2_CANCER_EMT_SIGNATURE_3 = pd.read_csv(os.path.join(base_emt_exp_path, 'escc', 'union_emt_sigs','LUNG1_ESCC2_CANCER_EMT_SIGNATURE_3.csv'))\n",
    "# sig_list['ESCC and LUAD EMT signature'] = LUNG1_ESCC2_CANCER_EMT_SIGNATURE_3.iloc[:,1].tolist() + ['FOSL1', 'MLLT11']\n",
    "sig_list['ESCC and LUAD EMT signature'] = LUNG1_ESCC2_CANCER_EMT_SIGNATURE_3.iloc[:,1].tolist()"
   ]
  },
  {
   "cell_type": "code",
   "execution_count": null,
   "id": "a26bf143",
   "metadata": {},
   "outputs": [],
   "source": [
    "# sig_list['ESCC and LUAD EMT signature (small)'] = ['LAMC2', 'SERPINE1', 'PRSS8', 'SERPINE2', 'TNC', 'FLNA',\n",
    "#                                                    'TGFBI', 'ANGPTL4', 'AREG', 'BMP2', 'CAV1', 'CRLF1', 'ITGA2',\n",
    "#                                                    'LAMA3', 'LAMA5', 'LCN2', 'PLEK2', 'TMPRSS4', 'TNFRSF12A',\n",
    "#                                                    'VEGFA', 'CBLC', 'FLNB', 'DSG2', 'PPL', 'ANXA3', 'EDN1',\n",
    "#                                                    'FGFBP1', 'ITGA3', 'ITGB4', 'L1CAM', 'LAMB3', 'MET', 'MISP',\n",
    "#                                                    'MMP10', 'S100A2', 'SCEL', 'TRIM29', 'UCHL1', 'KDR', 'KRT14',\n",
    "#                                                    'CDH3', 'EVPL', 'TMC5', 'ADGRF1', 'B3GNT3', 'CARD10', 'CDCP1',\n",
    "#                                                    'CX3CL1', 'CXCL14', 'FAM83A', 'ITGB8', 'MUC16', 'PHLDA2',\n",
    "#                                                    'PLOD3', 'S100A10', 'SAA1', 'SERINC2', 'SLC2A1', 'UPP1',\n",
    "#                                                    'HHLA2', 'KISS1', 'SPINK1', 'C19orf33', 'COBL', 'CYP27B1',\n",
    "#                                                    'DFNA5', 'MT2A', 'PPP1R14C', 'ABHD11-AS1', 'AGRN', 'BCYRN1',\n",
    "#                                                    'ERO1A', 'FBXO2', 'METTL7B', 'PITX1', 'PPP1R14B', 'SFN',\n",
    "#                                                    'SLC6A14', 'SNCG', 'TNNT1', 'UBE2C', 'VSIG1', 'VSTM2L',\n",
    "#                                                    'WDR66', 'WNT7B']"
   ]
  },
  {
   "cell_type": "code",
   "execution_count": null,
   "id": "e107648c",
   "metadata": {},
   "outputs": [],
   "source": [
    "sig_name_mapping = {\n",
    "    'Foroutan_et_al_2017' : 'EMT signature Foroutan et al. 2017',\n",
    "    'Groeger_et_al_2012' : 'EMT signature Groeger et al. 2012',\n",
    "    'Hollern_et_al_2018' : 'EMT signature Hollern et al. 2018',\n",
    "    'Mak_et_al_2016' : 'EMT signature Mak et al. 2016',\n",
    "    'Tuan_et_a_2014' : 'EMT signature Tuan et al. 2014',\n",
    "    'hallmark_emt' : 'Hallmark EMT signature',\n",
    "    'pEMT_gm' : 'pEMT gene module'}"
   ]
  },
  {
   "cell_type": "code",
   "execution_count": null,
   "id": "695ae386",
   "metadata": {},
   "outputs": [],
   "source": [
    "for old_key, new_key in sig_name_mapping.items():\n",
    "    sig_list[new_key] = sig_list.pop(old_key)"
   ]
  },
  {
   "cell_type": "code",
   "execution_count": null,
   "id": "60c93f65",
   "metadata": {},
   "outputs": [],
   "source": [
    "sig_list.keys()"
   ]
  },
  {
   "cell_type": "markdown",
   "id": "28faa059",
   "metadata": {},
   "source": [
    "## Score datasets for signatures "
   ]
  },
  {
   "cell_type": "code",
   "execution_count": null,
   "id": "dea039d7",
   "metadata": {},
   "outputs": [],
   "source": [
    "df_means = {}\n",
    "for ds in datasets:\n",
    "    df_means[ds] = get_mean_and_variance_gene_expression(adatas[ds], estim_var=False)"
   ]
  },
  {
   "cell_type": "code",
   "execution_count": null,
   "id": "534646c8",
   "metadata": {
    "scrolled": true
   },
   "outputs": [],
   "source": [
    "for ds in datasets:\n",
    "    print(f'Scoring {ds.upper()}')\n",
    "    for score_name, gene_list in sig_list.items():\n",
    "        print(f'> signature {score_name}')\n",
    "        score_signature(method=\"adjusted_neighborhood_scoring\",\n",
    "                        adata=adatas[ds],\n",
    "                        gene_list=gene_list,\n",
    "                        ctrl_size=100,\n",
    "                        df_mean_var = df_means[ds],\n",
    "                        score_name=score_name)\n",
    "    print()"
   ]
  },
  {
   "cell_type": "code",
   "execution_count": null,
   "id": "461ee93c",
   "metadata": {},
   "outputs": [],
   "source": [
    "if save:\n",
    "    curr_storing_path = get_path(base_emt_exp_path, add_folder=['results', 'sig_scores'])\n",
    "    for ds in datasets:\n",
    "        adatas[ds].obs[['sample_id', 'celltype', 'celltype_emt']+list(sig_list.keys())].to_csv(os.path.join(curr_storing_path, f'sig_scores_{ds}.csv'))\n",
    "else:\n",
    "    print(f'Not storing dataset scores.')                                                                                          "
   ]
  },
  {
   "cell_type": "markdown",
   "id": "73a9f626",
   "metadata": {},
   "source": [
    "## Create violinplots of scores "
   ]
  },
  {
   "cell_type": "code",
   "execution_count": null,
   "id": "6182155c",
   "metadata": {},
   "outputs": [],
   "source": [
    "col_order = ['ESCC', 'LUAD_XING', 'CRC', 'BREAST']\n",
    "row_order = ['Hallmark EMT signature',\n",
    "             'pEMT gene module',\n",
    "             'ESCC and LUAD EMT signature', \n",
    "             'EMT signature Foroutan et al. 2017',\n",
    "             'EMT signature Groeger et al. 2012',\n",
    "             'EMT signature Hollern et al. 2018',\n",
    "             'EMT signature Mak et al. 2016',\n",
    "             'EMT signature Tuan et al. 2014',\n",
    "             ]\n",
    "# row_order = list(sig_list.keys())"
   ]
  },
  {
   "cell_type": "code",
   "execution_count": null,
   "id": "c4bc3f1d",
   "metadata": {},
   "outputs": [],
   "source": [
    "curr_storing_path = get_path(base_emt_exp_path, add_folder=['results', 'violinplots'])"
   ]
  },
  {
   "cell_type": "code",
   "execution_count": null,
   "id": "5e82eeab",
   "metadata": {
    "scrolled": false
   },
   "outputs": [],
   "source": [
    "fig = create_violin_plot(adatas, hue_orders, row_order, col_order)\n",
    "if save:\n",
    "    fig.savefig(os.path.join(curr_storing_path, 'all_sigs.svg'))\n",
    "    fig.savefig(os.path.join(curr_storing_path, 'all_sigs.png'), dpi=600)\n",
    "plt.show(fig) "
   ]
  },
  {
   "cell_type": "code",
   "execution_count": null,
   "id": "682b5e6a",
   "metadata": {},
   "outputs": [],
   "source": [
    "fig = create_violin_plot(adatas, hue_orders, row_order=['Hallmark EMT signature', 'pEMT gene module', 'ESCC and LUAD EMT signature'], col_order=col_order)\n",
    "if save:\n",
    "    fig.savefig(os.path.join(curr_storing_path, 'hallmark_pemt_escc_luad.svg'))\n",
    "    fig.savefig(os.path.join(curr_storing_path, 'hallmark_pemt_escc_luad.png'), dpi=600)\n",
    "plt.show(fig)"
   ]
  },
  {
   "cell_type": "markdown",
   "id": "7b94e7c8",
   "metadata": {},
   "source": [
    "## Evaluate scores of signatures "
   ]
  },
  {
   "cell_type": "code",
   "execution_count": null,
   "id": "f2046c6d",
   "metadata": {},
   "outputs": [],
   "source": [
    "GTs = {}\n",
    "CAFS_MAL_EMT = {}\n",
    "MAL_MAL_EMT = {}\n",
    "\n",
    "for ds in datasets:\n",
    "    print(ds.upper())\n",
    "    gt = adatas[ds].obs.celltype_emt.copy()\n",
    "    gt = gt.astype(str)\n",
    "    gt[gt!=cancer_emt_label]= 'Rest'\n",
    "    GTs[ds] = gt\n",
    "    \n",
    "    CAFS_MAL_EMT[ds] = adatas[ds].obs.celltype_emt[adatas[ds].obs.celltype_emt.isin([cancer_emt_label,caf_label])].index.tolist()\n",
    "    MAL_MAL_EMT[ds] = adatas[ds].obs.celltype_emt[adatas[ds].obs.celltype_emt.isin([cancer_emt_label,cancer_no_emt_label])].index.tolist()\n",
    "    \n",
    "    print(len(CAFS_MAL_EMT[ds]), len(MAL_MAL_EMT[ds]))"
   ]
  },
  {
   "cell_type": "code",
   "execution_count": null,
   "id": "8b9020e2",
   "metadata": {
    "scrolled": true
   },
   "outputs": [],
   "source": [
    "plt.rcParams.update({'pdf.fonttype':42, 'font.family':'sans-serif', 'font.sans-serif':'Arial', 'font.size':14})\n",
    "curr_storing_path = get_path(base_emt_exp_path, add_folder=['results', 'distribution_plots'])\n",
    "pal = sns.color_palette('tab10') + sns.color_palette('Set3')\n",
    "performance_aucprs = []\n",
    "for ds in datasets:\n",
    "    gt = GTs[ds]\n",
    "    adata = adatas[ds]\n",
    "    order_hue = hue_orders[ds]\n",
    "    caf_and_cancer_emt = CAFS_MAL_EMT[ds]\n",
    "    cancer_and_cancer_emt = MAL_MAL_EMT[ds]\n",
    "    \n",
    "    for score_name in sig_list.keys():\n",
    "\n",
    "        lr_precision, lr_recall, _ = precision_recall_curve(gt, adata.obs[score_name], pos_label=cancer_emt_label)\n",
    "        lr_auc = auc(lr_recall, lr_precision)\n",
    "\n",
    "        lr_precision, lr_recall, _ = precision_recall_curve(gt[caf_and_cancer_emt], adata.obs.loc[caf_and_cancer_emt,score_name], pos_label=cancer_emt_label)\n",
    "        lr_auc_caf_and_emt = auc(lr_recall, lr_precision)\n",
    "\n",
    "        lr_precision, lr_recall, _ = precision_recall_curve(gt[cancer_and_cancer_emt], adata.obs.loc[cancer_and_cancer_emt,score_name], pos_label=cancer_emt_label)\n",
    "        lr_auc_cancer_and_emt = auc(lr_recall, lr_precision)\n",
    "\n",
    "\n",
    "        performance_aucprs.append(\n",
    "          {'dataset':ds.upper(),\n",
    "           'sig_name':score_name,\n",
    "           aucpr_lbl_emt_rest:lr_auc,\n",
    "           aucpr_lbl_emt_cafs:lr_auc_caf_and_emt,\n",
    "           aucpr_lbl_emt_mal:lr_auc_cancer_and_emt,\n",
    "          }\n",
    "        )\n",
    "\n",
    "        plt.figure(figsize=(12,10))\n",
    "        grouped = adata.obs.groupby('celltype_emt')\n",
    "        for i, curr_type in enumerate(order_hue):\n",
    "            group = grouped.get_group(curr_type)\n",
    "            group[score_name].hist(bins=100, density=True, alpha=0.5, label=curr_type, color=pal[i])\n",
    "\n",
    "        plt.title(f'{score_name} on {ds.upper()}'+\\\n",
    "                  f'\\nAUCPR {cancer_emt_label} vs. Rest '+ str(np.round(lr_auc, decimals=3))+\\\n",
    "                  f'\\nAUCPR {cancer_emt_label} vs. {caf_label} '+str(np.round(lr_auc_caf_and_emt, decimals=3))+\\\n",
    "                  f'\\nAUCPR {cancer_emt_label} vs. {cancer_no_emt_label} '+str(np.round(lr_auc_cancer_and_emt, decimals=3)), fontsize=18)\n",
    "        plt.legend(fontsize=16)\n",
    "    #     plt.ylim([0,20])\n",
    "        plt.xlabel('Score',fontsize=16)\n",
    "        plt.ylabel('Density',fontsize=16)\n",
    "        plt.xticks(fontsize=14)\n",
    "        plt.yticks(fontsize=14)\n",
    "        plt.tight_layout()\n",
    "        if save:\n",
    "            plt.savefig(os.path.join(curr_storing_path, f'{ds}_{score_name}.svg'), format='svg')\n",
    "            plt.close()"
   ]
  },
  {
   "cell_type": "code",
   "execution_count": null,
   "id": "0bcc15de",
   "metadata": {},
   "outputs": [],
   "source": [
    "performance_aucprs = pd.DataFrame(performance_aucprs)\n",
    "if save:\n",
    "    curr_storing_path = get_path(base_emt_exp_path, add_folder=['results', 'performance'])\n",
    "    performance_aucprs.to_csv(os.path.join(curr_storing_path, f'performances_scored_sigs.csv'))"
   ]
  },
  {
   "cell_type": "code",
   "execution_count": null,
   "id": "e4eb13ce",
   "metadata": {},
   "outputs": [],
   "source": [
    "performance_aucprs_melted = performance_aucprs.melt(id_vars=['dataset', 'sig_name'],\n",
    "                                                    value_vars=[aucpr_lbl_emt_rest, aucpr_lbl_emt_cafs, aucpr_lbl_emt_mal],\n",
    "                                                    var_name = 'AUCPR_type',\n",
    "                                                    value_name='aucpr'\n",
    "                                                   )"
   ]
  },
  {
   "cell_type": "code",
   "execution_count": null,
   "id": "969625f2",
   "metadata": {},
   "outputs": [],
   "source": [
    "performance_table = pd.crosstab(index=performance_aucprs_melted['sig_name'],\n",
    "                columns=[performance_aucprs_melted['AUCPR_type'], performance_aucprs_melted['dataset']],\n",
    "               values=performance_aucprs_melted['aucpr'],\n",
    "               aggfunc=lambda x:x)\n"
   ]
  },
  {
   "cell_type": "code",
   "execution_count": null,
   "id": "d24b535e",
   "metadata": {},
   "outputs": [],
   "source": [
    "curr_row_order = [row_order[2]]+row_order[0:2]+row_order[3:]\n",
    "curr_col_order = sorted(performance_table.columns.tolist(), key=lambda x: (x[0], col_order.index(x[1])))"
   ]
  },
  {
   "cell_type": "code",
   "execution_count": null,
   "id": "14e1044a",
   "metadata": {},
   "outputs": [],
   "source": [
    "performance_table = performance_table.loc[curr_row_order, curr_col_order]"
   ]
  },
  {
   "cell_type": "code",
   "execution_count": null,
   "id": "b7571c75",
   "metadata": {},
   "outputs": [],
   "source": [
    "performance_table.style.highlight_max(color = 'lightgreen', axis = 0)"
   ]
  },
  {
   "cell_type": "code",
   "execution_count": null,
   "id": "6137f38e",
   "metadata": {},
   "outputs": [],
   "source": [
    "if save:\n",
    "    curr_storing_path = get_path(base_emt_exp_path, add_folder=['results', 'performance'])\n",
    "    performance_table.to_csv(os.path.join(curr_storing_path, f'performances_scored_sigs_table.csv'))"
   ]
  },
  {
   "cell_type": "code",
   "execution_count": null,
   "id": "9e3858fe",
   "metadata": {},
   "outputs": [],
   "source": [
    "raise ValueError()"
   ]
  },
  {
   "cell_type": "markdown",
   "id": "adfb3e56",
   "metadata": {},
   "source": [
    "## Overlap signatures "
   ]
  },
  {
   "cell_type": "code",
   "execution_count": null,
   "id": "3adb4b2d",
   "metadata": {},
   "outputs": [],
   "source": [
    "from  matplotlib_venn import venn3"
   ]
  },
  {
   "cell_type": "code",
   "execution_count": null,
   "id": "c42172a3",
   "metadata": {},
   "outputs": [],
   "source": [
    "plt.rcParams.update({'pdf.fonttype':42, 'font.family':'sans-serif', 'font.sans-serif':'Arial', 'font.size':14})"
   ]
  },
  {
   "cell_type": "code",
   "execution_count": null,
   "id": "7580e5e8",
   "metadata": {},
   "outputs": [],
   "source": [
    "A = set(sig_list['ESCC and LUAD EMT signature'])\n",
    "B = set(sig_list['Hallmark EMT signature'])\n",
    "C = set(sig_list['pEMT gene module'])"
   ]
  },
  {
   "cell_type": "code",
   "execution_count": null,
   "id": "b7098527",
   "metadata": {},
   "outputs": [],
   "source": [
    "def get_string_from_list(gene_list, n_words_width=1):\n",
    "    new_string = ''\n",
    "    for i in range(0, len(gene_list), n_words_width):\n",
    "        curr_genes = gene_list[i:(i+n_words_width)]\n",
    "        new_string += f\"{', '.join(curr_genes)}\\n\"\n",
    "    new_string = new_string[0:-2]\n",
    "    return new_string"
   ]
  },
  {
   "cell_type": "code",
   "execution_count": null,
   "id": "3fb878eb",
   "metadata": {},
   "outputs": [],
   "source": [
    "D = sorted(list((A.intersection(B)).difference(C)))\n",
    "E = sorted(list((A.intersection(C)).difference(B)))\n",
    "F = sorted(list(A.intersection(B).intersection(C)))"
   ]
  },
  {
   "cell_type": "code",
   "execution_count": null,
   "id": "b7f53e46",
   "metadata": {},
   "outputs": [],
   "source": [
    "g = venn3(\n",
    "    subsets=(\n",
    "        set(sig_list['ESCC and LUAD EMT signature']), \n",
    "        set(sig_list['Hallmark EMT signature']), \n",
    "        set(sig_list['pEMT gene module']),\n",
    "    ),\n",
    "    set_labels=(\n",
    "        'ESCC and LUAD EMT signature', \n",
    "         'Hallmark EMT signature', \n",
    "         'pEMT gene module',\n",
    "    )\n",
    ")\n",
    "\n",
    "# Add a box with text annotation\n",
    "text_box = {\n",
    "    'facecolor': 'ivory',        # Box background color\n",
    "    'edgecolor': 'grey',        # Box border color\n",
    "    'boxstyle': 'square',         # Box style\n",
    "    'pad': 0.5,                  # Padding around the text\n",
    "}\n",
    "\n",
    "# Set the coordinates and text for the box\n",
    "width=2\n",
    "(x1, y1) = (-0.3, 0.75)\n",
    "text1 = get_string_from_list(D, n_words_width=width)\n",
    "(x2, y2) = (-1.6, -0.5)\n",
    "text2 = get_string_from_list(E, n_words_width=width)\n",
    "(x3, y3) = (0.8, -0.3)\n",
    "text3 = get_string_from_list(F, n_words_width=width)\n",
    "\n",
    "plt.text(x1, y1, text1, bbox=text_box, fontstyle='italic',linespacing=1.5);\n",
    "plt.text(x2, y2, text2, bbox=text_box, fontstyle='italic',linespacing=1.5);\n",
    "plt.text(x3, y3, text3, bbox=text_box, fontstyle='italic',linespacing=1.5);\n",
    "\n",
    "t1 = g.get_label_by_id('110').get_position()\n",
    "t1 = (t1[0], t1[1]+0.07)\n",
    "\n",
    "t2 = g.get_label_by_id('101').get_position()\n",
    "t2 = (t2[0]-0.05, t2[1])\n",
    "\n",
    "t3 = g.get_label_by_id('111').get_position()\n",
    "t3 = (t3[0]+0.07, t3[1])\n",
    "\n",
    "# Add arrows from text boxes to the intersection parts of the Venn diagram\n",
    "arrow_style = dict(arrowstyle='-|>', color='black')\n",
    "plt.annotate('', xy=t1, xytext=(x1+0.25, y1-0.05), arrowprops=arrow_style);\n",
    "plt.annotate('', xy=t2, xytext=(x2+0.75, y2+0.325), arrowprops=arrow_style);\n",
    "plt.annotate('', xy=t3, xytext=(x3-0.03, y3+0.21), arrowprops=arrow_style);\n",
    "\n",
    "if save:\n",
    "    curr_storing_path = get_path(base_emt_exp_path, add_folder=['results', 'sig_overlap'])\n",
    "    plt.savefig(os.path.join(curr_storing_path, f'overlap_hallmark_pemt_escc_luad.svg'), format='svg')"
   ]
  },
  {
   "cell_type": "code",
   "execution_count": null,
   "id": "48e3a8c1",
   "metadata": {},
   "outputs": [],
   "source": [
    "# Convert the lists to sets using set comprehension\n",
    "sets = [set(values) for values in sig_list.values()]\n",
    "\n",
    "# Perform the union operation on the sets\n",
    "all_genes = sorted(list(set.union(*sets)))"
   ]
  },
  {
   "cell_type": "code",
   "execution_count": null,
   "id": "3d4f9a64",
   "metadata": {},
   "outputs": [],
   "source": [
    "df = pd.DataFrame(index=all_genes)\n",
    "df.index.name = 'ESCC and LUAD EMT signature'"
   ]
  },
  {
   "cell_type": "code",
   "execution_count": null,
   "id": "e759e411",
   "metadata": {},
   "outputs": [],
   "source": [
    "for key, values in sig_list.items():\n",
    "    df[key] = False\n",
    "    df.loc[values, key] = True"
   ]
  },
  {
   "cell_type": "code",
   "execution_count": null,
   "id": "ad002457",
   "metadata": {},
   "outputs": [],
   "source": [
    "df = df[['Hallmark EMT signature', \n",
    "         'pEMT gene module', \n",
    "         'EMT signature Foroutan et al. 2017',\n",
    "         'EMT signature Groeger et al. 2012',\n",
    "         'EMT signature Hollern et al. 2018', \n",
    "         'EMT signature Mak et al. 2016',\n",
    "         'EMT signature Tuan et al. 2014', ]]"
   ]
  },
  {
   "cell_type": "code",
   "execution_count": null,
   "id": "8c49fd71",
   "metadata": {},
   "outputs": [],
   "source": [
    "'ET-1' in df.index"
   ]
  },
  {
   "cell_type": "code",
   "execution_count": null,
   "id": "cddf8c0d",
   "metadata": {},
   "outputs": [],
   "source": [
    "df = df.loc[sig_list['ESCC and LUAD EMT signature']].copy()"
   ]
  },
  {
   "cell_type": "code",
   "execution_count": null,
   "id": "85a4078c",
   "metadata": {},
   "outputs": [],
   "source": [
    "df['Contained in nr. pancancer sigs'] = df.sum(axis=1)"
   ]
  },
  {
   "cell_type": "code",
   "execution_count": null,
   "id": "c72e39a6",
   "metadata": {},
   "outputs": [],
   "source": [
    "df['Contained in nr. pancancer sigs'].value_counts()"
   ]
  },
  {
   "cell_type": "code",
   "execution_count": null,
   "id": "32ade409",
   "metadata": {},
   "outputs": [],
   "source": [
    "df"
   ]
  },
  {
   "cell_type": "code",
   "execution_count": null,
   "id": "e24d3a9a",
   "metadata": {},
   "outputs": [],
   "source": [
    "if save:\n",
    "    curr_storing_path = get_path(base_emt_exp_path, add_folder=['results', 'sig_overlap'])\n",
    "    df.to_csv(os.path.join(curr_storing_path, f'overlap_pancancer_sigs.csv'))\n",
    "    df.to_excel(os.path.join(curr_storing_path, f'overlap_pancancer_sigs.xlsx'))"
   ]
  },
  {
   "cell_type": "code",
   "execution_count": null,
   "id": "ec21335d",
   "metadata": {},
   "outputs": [],
   "source": [
    "curr_storing_path = get_path(base_emt_exp_path, add_folder=['results', 'sig_overlap'])"
   ]
  },
  {
   "cell_type": "code",
   "execution_count": null,
   "id": "13ec90c4",
   "metadata": {},
   "outputs": [],
   "source": [
    "tmp = pd.read_excel(os.path.join(curr_storing_path, r'NEW ESCC- and LUAD-specific cancer EMT signature.xlsx'))"
   ]
  },
  {
   "cell_type": "code",
   "execution_count": null,
   "id": "a8486107",
   "metadata": {},
   "outputs": [],
   "source": [
    "cols_of_interest = ['Gene code', 'Biotype', 'Transcription factor',\n",
    "       'EMT related genes according to EMTome ',\n",
    "       'EMT related genes according to EMTome: gene query link ',\n",
    "       'EMT related genes according to dbEMT ',\n",
    "       'EMT related genes according to dbEMT : gene query link ',\n",
    "       'Literature relationship gene with EMT', 'Notes']"
   ]
  },
  {
   "cell_type": "code",
   "execution_count": null,
   "id": "ec13c19d",
   "metadata": {},
   "outputs": [],
   "source": [
    "tmp = tmp[cols_of_interest].copy()"
   ]
  },
  {
   "cell_type": "code",
   "execution_count": null,
   "id": "69141822",
   "metadata": {},
   "outputs": [],
   "source": [
    "df.index.name = 'Gene code'"
   ]
  },
  {
   "cell_type": "code",
   "execution_count": null,
   "id": "cf626ffb",
   "metadata": {},
   "outputs": [],
   "source": [
    "df = df.reset_index()"
   ]
  },
  {
   "cell_type": "code",
   "execution_count": null,
   "id": "0f60c334",
   "metadata": {},
   "outputs": [],
   "source": [
    "tmp2 = pd.merge(df, tmp, on='Gene code', how='outer')"
   ]
  },
  {
   "cell_type": "code",
   "execution_count": null,
   "id": "da308cf1",
   "metadata": {},
   "outputs": [],
   "source": [
    "df = tmp2[tmp2['Gene code'].isin(df['Gene code'].values)].copy()"
   ]
  },
  {
   "cell_type": "code",
   "execution_count": null,
   "id": "22f7db16",
   "metadata": {},
   "outputs": [],
   "source": [
    "df.columns"
   ]
  },
  {
   "cell_type": "code",
   "execution_count": null,
   "id": "d5446e8f",
   "metadata": {},
   "outputs": [],
   "source": [
    "df = df[['Gene code',\n",
    "    'Biotype',\n",
    "    'Transcription factor',\n",
    "    'Contained in nr. pancancer sigs',\n",
    "    'Hallmark EMT signature',\n",
    "    'pEMT gene module',\n",
    "    'EMT signature Foroutan et al. 2017',\n",
    "    'EMT signature Groeger et al. 2012',\n",
    "    'EMT signature Hollern et al. 2018',\n",
    "    'EMT signature Mak et al. 2016',\n",
    "    'EMT signature Tuan et al. 2014',\n",
    "    'EMT related genes according to EMTome ',\n",
    "    'EMT related genes according to EMTome: gene query link ',\n",
    "    'EMT related genes according to dbEMT ',\n",
    "    'EMT related genes according to dbEMT : gene query link ',\n",
    "    'Literature relationship gene with EMT', 'Notes']].copy()"
   ]
  },
  {
   "cell_type": "code",
   "execution_count": null,
   "id": "5f22d6ca",
   "metadata": {},
   "outputs": [],
   "source": [
    "if save:\n",
    "    curr_storing_path = get_path(base_emt_exp_path, add_folder=['results', 'sig_overlap'])\n",
    "    df.to_csv(os.path.join(curr_storing_path, f'overlap_pancancer_sigs_extended.csv'))\n",
    "    df.to_excel(os.path.join(curr_storing_path, f'overlap_pancancer_sigs_extended.xlsx'))"
   ]
  },
  {
   "cell_type": "code",
   "execution_count": null,
   "id": "a1926623",
   "metadata": {},
   "outputs": [],
   "source": []
  }
 ],
 "metadata": {
  "kernelspec": {
   "display_name": "Python 3 (ipykernel)",
   "language": "python",
   "name": "python3"
  },
  "language_info": {
   "codemirror_mode": {
    "name": "ipython",
    "version": 3
   },
   "file_extension": ".py",
   "mimetype": "text/x-python",
   "name": "python",
   "nbconvert_exporter": "python",
   "pygments_lexer": "ipython3",
   "version": "3.8.12"
  }
 },
 "nbformat": 4,
 "nbformat_minor": 5
}
