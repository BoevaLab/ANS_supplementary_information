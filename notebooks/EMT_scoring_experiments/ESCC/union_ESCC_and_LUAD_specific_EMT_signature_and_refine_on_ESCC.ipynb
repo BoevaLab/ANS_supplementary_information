{
 "cells": [
  {
   "cell_type": "markdown",
   "id": "b8f59ded",
   "metadata": {
    "pycharm": {
     "name": "#%% md\n"
    }
   },
   "source": [
    "## Union LUAD-specific cancer EMT signature and ESCC-specific cancer EMT signature\n",
    "Combine the two cancer type specific cancer EMT signatrues and refine again on ESCC.\n",
    "At the end add all genes found in LUAD and not available in the ESCC to the signature. We do this because thode genes might be important for EMT in other cancer datasets."
   ]
  },
  {
   "cell_type": "code",
   "execution_count": null,
   "id": "45aa7a71",
   "metadata": {
    "pycharm": {
     "is_executing": true,
     "name": "#%%\n"
    }
   },
   "outputs": [],
   "source": [
    "from IPython.display import display, HTML\n",
    "display(HTML(\"<style>.container { width:95% !important; }</style>\"))"
   ]
  },
  {
   "cell_type": "code",
   "execution_count": null,
   "id": "468a749e",
   "metadata": {
    "pycharm": {
     "name": "#%%\n"
    }
   },
   "outputs": [],
   "source": [
    "import os\n",
    "import sys\n",
    "import pandas as pd\n",
    "import numpy as np\n",
    "import scanpy as sc\n",
    "import json \n",
    "import matplotlib.pyplot as plt\n",
    "from matplotlib.patches import Patch\n",
    "import seaborn as sns\n",
    "from tqdm import tqdm\n",
    "from statsmodels.stats.multitest import multipletests\n",
    "from scipy.stats import mannwhitneyu\n",
    "from matplotlib_venn import venn3, venn2\n",
    "\n",
    "sys.path.append('../../..')\n",
    "from data.load_data import load_datasets\n",
    "from data.constants import BASE_PATH_DATA, BASE_PATH_EXPERIMENTS\n",
    "\n",
    "from signaturescoring import score_signature\n",
    "from signaturescoring.utils.utils import get_mean_and_variance_gene_expression, check_signature_genes"
   ]
  },
  {
   "cell_type": "code",
   "execution_count": null,
   "id": "b5587505",
   "metadata": {},
   "outputs": [],
   "source": [
    "base_path_emt_exp = os.path.join(BASE_PATH_EXPERIMENTS,'EMT_signature_scoring_case_study')\n",
    "base_path_emt_signatures = os.path.join(BASE_PATH_DATA, 'annotations/emt')\n",
    "\n",
    "storing_path = os.path.join(base_path_emt_exp, 'escc', 'union_emt_sigs')\n",
    "\n",
    "if not os.path.exists(storing_path):\n",
    "    os.makedirs(storing_path)\n",
    "    sc.logging.info(f'Creating new storing folder at {storing_path}')\n",
    "    \n",
    "save = True"
   ]
  },
  {
   "cell_type": "markdown",
   "id": "d65a20a9",
   "metadata": {
    "pycharm": {
     "name": "#%% md\n"
    }
   },
   "source": [
    "Get barcodes for ESCC cancer EMT cells and preprocessed ESCC data."
   ]
  },
  {
   "cell_type": "code",
   "execution_count": null,
   "id": "6646d070",
   "metadata": {},
   "outputs": [],
   "source": [
    "escc_data = load_datasets('escc', preprocessed=True, norm_method='mean')\n",
    "if 'log1p' in escc_data.uns_keys():\n",
    "    escc_data.uns['log1p']['base'] = None\n",
    "else:\n",
    "    escc_data.uns['log1p'] = {'base': None}"
   ]
  },
  {
   "cell_type": "code",
   "execution_count": null,
   "id": "4294c339",
   "metadata": {},
   "outputs": [],
   "source": [
    "barcodes_cancer_emt = pd.read_csv(os.path.join(base_path_emt_exp, 'escc', 'barcodes_cancer_emt.csv'))\n",
    "barcodes_cancer_emt = barcodes_cancer_emt['0'].tolist()"
   ]
  },
  {
   "cell_type": "markdown",
   "id": "47762b54",
   "metadata": {
    "pycharm": {
     "name": "#%% md\n"
    }
   },
   "source": [
    "Define cell type annotation to distinguish cancer cells expressing EMT and cancer cells not expressing EMT"
   ]
  },
  {
   "cell_type": "code",
   "execution_count": null,
   "id": "5db87e6b",
   "metadata": {
    "pycharm": {
     "name": "#%%\n"
    }
   },
   "outputs": [],
   "source": [
    "escc_data.obs['celltype_broader'] = escc_data.obs.celltype.copy()\n",
    "escc_data.obs['celltype_broader'] = escc_data.obs['celltype_broader'].astype(str)"
   ]
  },
  {
   "cell_type": "code",
   "execution_count": null,
   "id": "adb56d17",
   "metadata": {
    "pycharm": {
     "name": "#%%\n"
    }
   },
   "outputs": [],
   "source": [
    "escc_data.obs.loc[barcodes_cancer_emt, 'celltype_broader'] = 'Epi with Mes'\n",
    "escc_data.obs.loc[(escc_data.obs.celltype == 'Epi')& (escc_data.obs.index.isin(barcodes_cancer_emt) == False), 'celltype_broader'] = 'Epi wo Mes'"
   ]
  },
  {
   "cell_type": "code",
   "execution_count": null,
   "id": "66900c8d",
   "metadata": {
    "pycharm": {
     "name": "#%%\n"
    }
   },
   "outputs": [],
   "source": [
    "escc_data.obs['celltype_broader'] = escc_data.obs['celltype_broader'].astype('category')"
   ]
  },
  {
   "cell_type": "markdown",
   "id": "b028c0f0",
   "metadata": {
    "pycharm": {
     "name": "#%% md\n"
    }
   },
   "source": [
    "Get ESCC- and LUAD-specific cancer EMT signatures."
   ]
  },
  {
   "cell_type": "code",
   "execution_count": null,
   "id": "f1952f2e",
   "metadata": {
    "pycharm": {
     "name": "#%%\n"
    }
   },
   "outputs": [],
   "source": [
    "ESOPHAG_CANCER_EMT_SIGNATURE_1 = pd.read_csv(os.path.join(base_path_emt_exp, 'escc', 'dataset_specific_emt_sig','ESOPHAG_CANCER_EMT_SIGNATURE_1.csv'))\n",
    "ESOPHAG_CANCER_EMT_SIGNATURE_1 = ESOPHAG_CANCER_EMT_SIGNATURE_1.iloc[:,1].tolist()\n",
    "ESOPHAG_CANCER_EMT_SIGNATURE_2 = pd.read_csv(os.path.join(base_path_emt_exp, 'escc', 'dataset_specific_emt_sig','ESOPHAG_CANCER_EMT_SIGNATURE_2.csv'))\n",
    "ESOPHAG_CANCER_EMT_SIGNATURE_2 = ESOPHAG_CANCER_EMT_SIGNATURE_2.iloc[:,1].tolist()"
   ]
  },
  {
   "cell_type": "code",
   "execution_count": null,
   "id": "956a89d2",
   "metadata": {
    "pycharm": {
     "name": "#%%\n"
    }
   },
   "outputs": [],
   "source": [
    "LUNG_CANCER_EMT_SIGNATURE_1 = pd.read_csv(os.path.join(base_path_emt_exp, 'luad_xing', 'dataset_specific_emt_sig','LUNG_CANCER_EMT_SIGNATURE_1.csv'))\n",
    "LUNG_CANCER_EMT_SIGNATURE_1 = LUNG_CANCER_EMT_SIGNATURE_1.iloc[:,1].tolist()\n",
    "\n",
    "LUNG_CANCER_EMT_SIGNATURE_2 = pd.read_csv(os.path.join(base_path_emt_exp, 'luad_xing', 'dataset_specific_emt_sig','LUNG_CANCER_EMT_SIGNATURE_2.csv'))\n",
    "LUNG_CANCER_EMT_SIGNATURE_2 = LUNG_CANCER_EMT_SIGNATURE_2.iloc[:,1].tolist()"
   ]
  },
  {
   "cell_type": "code",
   "execution_count": null,
   "id": "a0e4cfa5",
   "metadata": {
    "pycharm": {
     "name": "#%%\n"
    }
   },
   "outputs": [],
   "source": [
    "with open(os.path.join(base_path_emt_signatures,'HALLMARK_EPITHELIAL_MESENCHYMAL_TRANSITION.v7.5.1.json'), 'r') as f:\n",
    "    hemt = json.load(f)"
   ]
  },
  {
   "cell_type": "code",
   "execution_count": null,
   "id": "b5e612af",
   "metadata": {
    "pycharm": {
     "name": "#%%\n"
    }
   },
   "outputs": [],
   "source": [
    "GM_B_22 = pd.read_csv(os.path.join(base_path_emt_signatures,'gene_modules_from_Barkley_et_al_2022.csv'))"
   ]
  },
  {
   "cell_type": "code",
   "execution_count": null,
   "id": "7b0be85c",
   "metadata": {
    "pycharm": {
     "name": "#%%\n"
    }
   },
   "outputs": [],
   "source": [
    "mes_gm  = GM_B_22.Mesenchymal\n",
    "mes_gm = mes_gm.dropna().tolist()\n",
    "\n",
    "pEMT_gm = GM_B_22.pEMT\n",
    "pEMT_gm = pEMT_gm.dropna().tolist()\n",
    "\n",
    "cEMT = GM_B_22.cEMT\n",
    "cEMT = cEMT.dropna().tolist()\n",
    "\n",
    "pEMT = GM_B_22['pEMT.1']\n",
    "pEMT = pEMT.dropna().tolist()"
   ]
  },
  {
   "cell_type": "code",
   "execution_count": null,
   "id": "1419ecc0",
   "metadata": {
    "pycharm": {
     "name": "#%%\n"
    }
   },
   "outputs": [],
   "source": [
    "plt.rcParams.update({'pdf.fonttype':42, 'font.family':'sans-serif', 'font.sans-serif':'Arial', 'font.size':14})\n",
    "\n",
    "escc_df_mean_var = get_mean_and_variance_gene_expression(escc_data, estim_var=False,show_plots=True)"
   ]
  },
  {
   "cell_type": "code",
   "execution_count": null,
   "id": "573a6c7e",
   "metadata": {
    "pycharm": {
     "name": "#%%\n"
    }
   },
   "outputs": [],
   "source": [
    "sig_list=[\n",
    "    ('ESOPHAG_CANCER_EMT_SIGNATURE_1', ESOPHAG_CANCER_EMT_SIGNATURE_1),\n",
    "    ('ESOPHAG_CANCER_EMT_SIGNATURE_2', ESOPHAG_CANCER_EMT_SIGNATURE_2),\n",
    "    ('LUNG_CANCER_EMT_SIGNATURE_1', LUNG_CANCER_EMT_SIGNATURE_1),\n",
    "    ('LUNG_CANCER_EMT_SIGNATURE_2', LUNG_CANCER_EMT_SIGNATURE_2),\n",
    "    ('pEMT_gm',pEMT_gm),\n",
    "    ('hallmark_emt',hemt['HALLMARK_EPITHELIAL_MESENCHYMAL_TRANSITION']['geneSymbols'])\n",
    "]\n"
   ]
  },
  {
   "cell_type": "code",
   "execution_count": null,
   "id": "814b47ec",
   "metadata": {
    "pycharm": {
     "name": "#%%\n"
    }
   },
   "outputs": [],
   "source": [
    "for sig in sig_list:\n",
    "    score_signature(method=\"adjusted_neighborhood_scoring\",\n",
    "                    adata=escc_data,\n",
    "                    gene_list= sig[1],\n",
    "                    ctrl_size=100,\n",
    "                    df_mean_var = escc_df_mean_var,\n",
    "                    score_name=sig[0])"
   ]
  },
  {
   "cell_type": "code",
   "execution_count": null,
   "id": "2ad6da03",
   "metadata": {
    "pycharm": {
     "name": "#%%\n"
    }
   },
   "outputs": [],
   "source": [
    "from sklearn.metrics import precision_recall_curve, auc"
   ]
  },
  {
   "cell_type": "code",
   "execution_count": null,
   "id": "d34ecd36",
   "metadata": {
    "pycharm": {
     "name": "#%%\n"
    }
   },
   "outputs": [],
   "source": [
    "gt = escc_data.obs.celltype_broader.copy()\n",
    "gt = gt.astype(str)"
   ]
  },
  {
   "cell_type": "code",
   "execution_count": null,
   "id": "a0d77d73",
   "metadata": {
    "pycharm": {
     "name": "#%%\n"
    }
   },
   "outputs": [],
   "source": [
    "gt[gt!='Epi with Mes']= 'Rest'"
   ]
  },
  {
   "cell_type": "code",
   "execution_count": null,
   "id": "25fc1920",
   "metadata": {
    "pycharm": {
     "name": "#%%\n"
    }
   },
   "outputs": [],
   "source": [
    "caf_and_cancer_emt = escc_data.obs.celltype_broader[escc_data.obs.celltype_broader.isin(['Epi with Mes','Fibroblasts' ])].index.tolist()\n",
    "cancer_and_cancer_emt = escc_data.obs.celltype_broader[escc_data.obs.celltype_broader.isin(['Epi with Mes','Epi wo Mes' ])].index.tolist()"
   ]
  },
  {
   "cell_type": "code",
   "execution_count": null,
   "id": "36dad951",
   "metadata": {
    "pycharm": {
     "name": "#%%\n"
    }
   },
   "outputs": [],
   "source": [
    "sig_names  = [x[0] for x in sig_list]"
   ]
  },
  {
   "cell_type": "code",
   "execution_count": null,
   "id": "6b7f04cf",
   "metadata": {
    "pycharm": {
     "name": "#%%\n"
    },
    "scrolled": false
   },
   "outputs": [],
   "source": [
    "plt.rcParams.update({'pdf.fonttype':42, 'font.family':'sans-serif', 'font.sans-serif':'Arial', 'font.size':14})\n",
    "\n",
    "pos_lbl = 'Epi with Mes'\n",
    "for score_name in sig_names:\n",
    "    plt.figure(figsize=(10,8))\n",
    "    \n",
    "    lr_precision, lr_recall, _ = precision_recall_curve(gt, escc_data.obs[score_name], pos_label=pos_lbl)\n",
    "    lr_auc = auc(lr_recall, lr_precision)\n",
    "    \n",
    "    lr_precision, lr_recall, _ = precision_recall_curve(gt[caf_and_cancer_emt], escc_data.obs.loc[caf_and_cancer_emt,score_name], pos_label=pos_lbl)\n",
    "    lr_auc_caf_and_emt = auc(lr_recall, lr_precision)\n",
    "    \n",
    "    lr_precision, lr_recall, _ = precision_recall_curve(gt[cancer_and_cancer_emt], escc_data.obs.loc[cancer_and_cancer_emt,score_name], pos_label=pos_lbl)\n",
    "    lr_auc_cancer_and_emt = auc(lr_recall, lr_precision)\n",
    "    \n",
    "    for group in escc_data.obs.groupby('celltype_broader'):\n",
    "        group[1][score_name].hist(bins=100, density=True, alpha=0.5, label=group[0])\n",
    "    \n",
    "    plt.title(score_name+\\\n",
    "              '\\nAUCPR Malignant with EMT vs. Rest '+ str(np.round(lr_auc, decimals=3))+\\\n",
    "              '\\nAUCPR Malignant with EMT vs. CAFS '+str(np.round(lr_auc_caf_and_emt, decimals=3))+\\\n",
    "              '\\nAUCPR Malignant with EMT vs. Malignant '+str(np.round(lr_auc_cancer_and_emt, decimals=3)), fontsize=16)\n",
    "    plt.legend()\n",
    "    plt.ylim([0,20])\n",
    "    plt.tight_layout()\n",
    "    if save:\n",
    "        curr_path = os.path.join(storing_path, 'plots')\n",
    "        if not os.path.exists(curr_path):\n",
    "            os.makedirs(curr_path)\n",
    "        plt.savefig(os.path.join(curr_path, f'dist_scores_{score_name}.png'), dpi=600)\n",
    "    plt.show()"
   ]
  },
  {
   "cell_type": "code",
   "execution_count": null,
   "id": "b3634639",
   "metadata": {
    "pycharm": {
     "name": "#%%\n"
    }
   },
   "outputs": [],
   "source": [
    "plt.rcParams.update({'pdf.fonttype':42, 'font.family':'sans-serif', 'font.sans-serif':'Arial', 'font.size':14})\n",
    "\n",
    "sc.pl.violin(escc_data, groupby='celltype_broader',keys=sig_names, rotation=90, show=False)\n",
    "if save:\n",
    "    curr_path = os.path.join(storing_path, 'plots')\n",
    "    if not os.path.exists(curr_path):\n",
    "        os.makedirs(curr_path)\n",
    "    plt.savefig(os.path.join(curr_path, f'ds_specific_score_distr.p'), dpi=600)\n",
    "plt.show()"
   ]
  },
  {
   "cell_type": "markdown",
   "id": "be543261",
   "metadata": {
    "pycharm": {
     "name": "#%% md\n"
    }
   },
   "source": [
    "### HELPER FUNCTIONS"
   ]
  },
  {
   "cell_type": "code",
   "execution_count": null,
   "id": "33e5f267",
   "metadata": {
    "pycharm": {
     "name": "#%%\n"
    }
   },
   "outputs": [],
   "source": [
    "def get_scores_for_all_sig_genes(adata, sig_genes,ctrl_size = 100):\n",
    "\n",
    "    gene_list = check_signature_genes(adata.var_names, sig_genes)\n",
    "    df_mean_var = get_mean_and_variance_gene_expression(adata,\n",
    "                                                    estim_var=False)\n",
    "    gene_means = df_mean_var['mean'].copy()\n",
    "\n",
    "    # computation of neighboring genes around each signature gene\n",
    "    sorted_gene_means = gene_means.sort_values()\n",
    "    ref_genes_means = sorted_gene_means[sorted_gene_means.index.isin(gene_list) == False]\n",
    "\n",
    "    # use sliding window to compute for each window the mean\n",
    "    rolled = ref_genes_means.rolling(ctrl_size, closed='right').mean()\n",
    "\n",
    "    control_genes = []\n",
    "    for sig_gene in gene_list:\n",
    "        curr_sig_avg = sorted_gene_means.loc[sig_gene]\n",
    "        min_val_idx = np.argmin(((rolled - curr_sig_avg).abs()))\n",
    "        sig_gene_ctrl_genes = rolled.iloc[(min_val_idx - ctrl_size + 1):min_val_idx + 1]\n",
    "        control_genes.append(list(sig_gene_ctrl_genes.index))\n",
    "    \n",
    "    \n",
    "    list_scores_per_sig_genes = []\n",
    "    for sig_gene, ctrl_genes in zip(gene_list,control_genes):\n",
    "        curr_score = adata[:,sig_gene].X - adata[:,ctrl_genes].X.mean(axis=1)\n",
    "        curr_score = (curr_score-curr_score.min())/(curr_score.max()-curr_score.min())\n",
    "#         curr_score = np.tanh(curr_score)\n",
    "        list_scores_per_sig_genes.append(pd.DataFrame\n",
    "                                         (curr_score,\n",
    "                                          index=adata.obs_names,\n",
    "                                          columns=[sig_gene+'_score']))\n",
    "    df_signature_scores = pd.concat(list_scores_per_sig_genes, axis=1)\n",
    "    \n",
    "    \n",
    "    columns_titles = df_signature_scores.columns.tolist()\n",
    "    columns_titles.sort()\n",
    "    df_signature_scores=df_signature_scores.reindex(columns=columns_titles)\n",
    "    df_signature_scores['final_score_mean'] = df_signature_scores.mean(axis=1)\n",
    "    df_signature_scores['final_score_median'] = df_signature_scores.median(axis=1)\n",
    "    df_signature_scores['celltype'] = adata.obs['celltype']\n",
    "    df_signature_scores['celltype_broader'] = adata.obs['celltype_broader']\n",
    "    return df_signature_scores"
   ]
  },
  {
   "cell_type": "code",
   "execution_count": null,
   "id": "512fbca4",
   "metadata": {
    "pycharm": {
     "name": "#%%\n"
    }
   },
   "outputs": [],
   "source": [
    "from pandas.api.types import is_numeric_dtype\n",
    "\n",
    "def plot_heatmap_with_celltype_anno(df, label_col, palette=\"tab10\", bbox_to_anchor=(0.16,0.79),cat_title = 'celltypes',apply_tanh=False):\n",
    "    if label_col not in df:\n",
    "        raise KeyError(f'labelcol={label_col} is not a column of df')\n",
    "        \n",
    "    lut = dict(zip(df[label_col].unique(), sns.color_palette(palette)))\n",
    "    \n",
    "    row_colors = pd.DataFrame(df[label_col])[label_col].astype(str).map(lut)\n",
    "    \n",
    "    counts = dict(df[label_col].value_counts())\n",
    "    \n",
    "    categories = counts.keys()\n",
    "    \n",
    "    handles = [Patch(color=lut[category],label=category+' (%i)'%counts[category]) for category in sorted(categories)]\n",
    "    \n",
    "    tmp = df.sort_values(by=[label_col,'final_score_mean'])\n",
    "    tmp = tmp[[x for x in tmp.columns if (x!= label_col) and  (is_numeric_dtype(tmp[x]))]]\n",
    "    if apply_tanh:\n",
    "        tmp = np.tanh(tmp)\n",
    "    g = sns.clustermap(tmp, \n",
    "                   row_colors=row_colors, \n",
    "                   row_cluster=False, \n",
    "                   col_cluster=False,\n",
    "                   figsize=(50,30),\n",
    "                   cmap=\"viridis\",\n",
    "                   cbar_pos=(0.1, .1, .03, .6))\n",
    "    legend = g.fig.legend(handles=handles,title='celltypes',bbox_to_anchor=(0.16,0.79),loc='center right',bbox_transform=g.fig.transFigure,borderaxespad=0.,fontsize=18,title_fontsize=20,ncol=1)\n",
    "    g.ax_heatmap.set_title(f'Scored for each gene in hallmark_emt signature.', fontsize=22)"
   ]
  },
  {
   "cell_type": "code",
   "execution_count": null,
   "id": "b3a57442",
   "metadata": {
    "pycharm": {
     "name": "#%%\n"
    }
   },
   "outputs": [],
   "source": [
    "def get_pvals(genes_to_potentially_add_scores):\n",
    "    genes = []\n",
    "    pvals_cancer_emt_caf = []\n",
    "    pvals_cancer_emt_cancer = []\n",
    "    pvals_cancer_emt_rest = []\n",
    "    pvals_caf_rest = []\n",
    "    for col in tqdm(genes_to_potentially_add_scores.columns):\n",
    "        if is_numeric_dtype(genes_to_potentially_add_scores[col]) and ('final' not in col):        \n",
    "            caf_scores = genes_to_potentially_add_scores[col][genes_to_potentially_add_scores['celltype_broader']=='Fibroblasts']\n",
    "            mal_emt_scores = genes_to_potentially_add_scores[col][genes_to_potentially_add_scores['celltype_broader']=='Epi with Mes']\n",
    "            mal_non_emt_scores = genes_to_potentially_add_scores[col][genes_to_potentially_add_scores['celltype_broader']=='Epi wo Mes']\n",
    "            rest_scores = genes_to_potentially_add_scores[col][genes_to_potentially_add_scores['celltype_broader'].isin(['Epi with Mes','Epi wo Mes','Fibroblasts'])==False]\n",
    "\n",
    "            genes.append(col)\n",
    "            pvals_cancer_emt_caf.append(mannwhitneyu(mal_emt_scores, caf_scores, alternative= 'greater').pvalue)\n",
    "            pvals_cancer_emt_cancer.append(mannwhitneyu(mal_emt_scores, mal_non_emt_scores, alternative= 'greater').pvalue)\n",
    "            pvals_cancer_emt_rest.append(mannwhitneyu(mal_emt_scores, rest_scores, alternative= 'greater').pvalue)\n",
    "    return genes, pvals_cancer_emt_caf, pvals_cancer_emt_cancer, pvals_cancer_emt_rest, pvals_caf_rest"
   ]
  },
  {
   "cell_type": "markdown",
   "id": "b08db8f4",
   "metadata": {
    "pycharm": {
     "name": "#%% md\n"
    }
   },
   "source": [
    "### Refine LUNG 1 unioned with ESCC 2"
   ]
  },
  {
   "cell_type": "code",
   "execution_count": null,
   "id": "630029d0",
   "metadata": {
    "pycharm": {
     "name": "#%%\n"
    }
   },
   "outputs": [],
   "source": [
    "sig_lung_refined_and_esophag = set(LUNG_CANCER_EMT_SIGNATURE_1).union(ESOPHAG_CANCER_EMT_SIGNATURE_2)"
   ]
  },
  {
   "cell_type": "code",
   "execution_count": null,
   "id": "127d5a87",
   "metadata": {
    "pycharm": {
     "name": "#%%\n"
    }
   },
   "outputs": [],
   "source": [
    "len(sig_lung_refined_and_esophag)"
   ]
  },
  {
   "cell_type": "code",
   "execution_count": null,
   "id": "1315255d",
   "metadata": {
    "pycharm": {
     "name": "#%%\n"
    }
   },
   "outputs": [],
   "source": [
    "escc_data.X = escc_data.X.tocsc()"
   ]
  },
  {
   "cell_type": "code",
   "execution_count": null,
   "id": "ee2956ab",
   "metadata": {
    "pycharm": {
     "name": "#%%\n"
    }
   },
   "outputs": [],
   "source": [
    "genes_to_potentially_add_scores = get_scores_for_all_sig_genes(escc_data, list(sig_lung_refined_and_esophag))"
   ]
  },
  {
   "cell_type": "code",
   "execution_count": null,
   "id": "2fcce3bd",
   "metadata": {
    "pycharm": {
     "name": "#%%\n"
    }
   },
   "outputs": [],
   "source": [
    "genes, pvals_cancer_emt_caf, pvals_cancer_emt_cancer, pvals_cancer_emt_rest, pvals_caf_rest = get_pvals(genes_to_potentially_add_scores)"
   ]
  },
  {
   "cell_type": "code",
   "execution_count": null,
   "id": "38d2c032",
   "metadata": {
    "pycharm": {
     "name": "#%%\n"
    },
    "scrolled": true
   },
   "outputs": [],
   "source": [
    "gene_cancer_emt_sig_larger_cafs = multipletests(pvals_cancer_emt_caf, alpha=1e-5,method='fdr_bh')[0].tolist()\n",
    "gene_cancer_emt_sig_larger_cafs = [x[0].split('_')[0] for x in zip(genes, gene_cancer_emt_sig_larger_cafs) if x[1]]"
   ]
  },
  {
   "cell_type": "code",
   "execution_count": null,
   "id": "4d602cff",
   "metadata": {
    "pycharm": {
     "name": "#%%\n"
    },
    "scrolled": true
   },
   "outputs": [],
   "source": [
    "gene_cancer_emt_sig_larger_cancer = multipletests(pvals_cancer_emt_cancer, alpha=1e-5,method='fdr_bh')[0].tolist()\n",
    "gene_cancer_emt_sig_larger_cancer = [x[0].split('_')[0] for x in zip(genes, gene_cancer_emt_sig_larger_cancer) if x[1]]"
   ]
  },
  {
   "cell_type": "code",
   "execution_count": null,
   "id": "f91d6a0d",
   "metadata": {
    "pycharm": {
     "name": "#%%\n"
    },
    "scrolled": true
   },
   "outputs": [],
   "source": [
    "gene_cancer_emt_sig_larger_rest = multipletests(pvals_cancer_emt_rest, alpha=1e-5,method='fdr_bh')[0].tolist()\n",
    "gene_cancer_emt_sig_larger_rest = [x[0].split('_')[0] for x in zip(genes, gene_cancer_emt_sig_larger_rest) if x[1]]"
   ]
  },
  {
   "cell_type": "code",
   "execution_count": null,
   "id": "d9c14fbb",
   "metadata": {
    "pycharm": {
     "name": "#%%\n"
    }
   },
   "outputs": [],
   "source": [
    "plt.rcParams.update({'pdf.fonttype':42, 'font.family':'sans-serif', 'font.sans-serif':'Arial', 'font.size':14})\n",
    "\n",
    "venn3(\n",
    "subsets=(\n",
    "    set(gene_cancer_emt_sig_larger_cafs),\n",
    "    set(gene_cancer_emt_sig_larger_cancer),\n",
    "    set(gene_cancer_emt_sig_larger_rest)\n",
    "),\n",
    "set_labels=(\n",
    "    'gene_cancer_emt_sig_larger_cafs',\n",
    "    'gene_cancer_emt_sig_larger_cancer',\n",
    "    'gene_cancer_emt_sig_larger_rest'\n",
    ")\n",
    ")"
   ]
  },
  {
   "cell_type": "code",
   "execution_count": null,
   "id": "8cbe70ab",
   "metadata": {
    "pycharm": {
     "name": "#%%\n"
    }
   },
   "outputs": [],
   "source": [
    "new_sig = set(gene_cancer_emt_sig_larger_cafs).intersection(set(gene_cancer_emt_sig_larger_cancer)).intersection(set(gene_cancer_emt_sig_larger_rest))"
   ]
  },
  {
   "cell_type": "code",
   "execution_count": null,
   "id": "0b359454",
   "metadata": {
    "pycharm": {
     "name": "#%%\n"
    }
   },
   "outputs": [],
   "source": [
    "score_signature(method=\"adjusted_neighborhood_scoring\",\n",
    "                    adata=escc_data,\n",
    "                    gene_list= set(LUNG_CANCER_EMT_SIGNATURE_1).union(ESOPHAG_CANCER_EMT_SIGNATURE_2),\n",
    "                    ctrl_size=100,\n",
    "                    df_mean_var = escc_df_mean_var,\n",
    "                    score_name='LUNG_CANCER_EMT_SIGNATURE_1.union(ESOPHAG_CANCER_EMT_SIGNATURE_2)')\n",
    "\n",
    "score_signature(method=\"adjusted_neighborhood_scoring\",\n",
    "                    adata=escc_data,\n",
    "                    gene_list= new_sig,\n",
    "                    ctrl_size=100,\n",
    "                    df_mean_var = escc_df_mean_var,\n",
    "                    score_name='new_sig')\n"
   ]
  },
  {
   "cell_type": "code",
   "execution_count": null,
   "id": "f0908caa",
   "metadata": {},
   "outputs": [],
   "source": [
    "## Add genes to signature from ESOPHAG_CANCER_EMT_SIGNATURE_2, that were not present in LUAD dataset (see notebooks/EMT_scoring_experiments/LUAD/find_cancer_emt_signature_LUAD.ipynb)\n",
    "new_sig_2 = list(new_sig)+['CYP27B1', 'IL1A', 'MMP10', 'CTD-2357A8.3', 'L1CAM', 'KRT14', 'KRT81', 'RTTN']"
   ]
  },
  {
   "cell_type": "code",
   "execution_count": null,
   "id": "b540c2eb",
   "metadata": {},
   "outputs": [],
   "source": [
    "## Add genes to signature from LUNG_CANCER_EMT_SIGNATURE_1, that are not present in ESCC dataset\n",
    "gene_in_lung_not_in_escc = {'C2orf54', 'RP11-462G2.1', 'SEMA3B', 'TRIM29', 'RP11-519G16.5', 'IVL', 'SPRR2D', 'SYT8', 'CTXN1', 'PRSS8', 'VSTM2L', 'BCYRN1', 'MYLPF', 'TMEM61', 'SNCG', 'COBL', 'SCEL', 'VSIG1', 'MUC21', 'LCN2', 'RHBDL2', 'SPINK1', 'CRLF1', 'SPNS2', 'LA16c-431H6.6', 'MUC3A', 'RNF39', 'CDH3', 'PRR36', 'PITX1', 'EVPL', 'DNAH2', 'KDR', 'KISS1', 'NPIPB11', 'ABHD11-AS1', 'ADGRF1', 'C6orf132', 'RP6-65G23.3', 'TNNC2', 'BAIAP3', 'DNAH11', 'MISP', 'WNT7B', 'SHC2', 'TMC5', 'PHACTR3', 'RP3-340N1.2', 'LONRF2', 'SLC6A14', 'METTL7B', 'CX3CL1', 'RP11-431K24.1', 'MB', 'TMPRSS4', 'NOXO1', 'GPR39', 'PPL', 'CBLC', 'B3GNT3', 'EDN2', 'FGFBP1', 'SAA2', 'RP11-350J20.12', 'LAMA3', 'PAEP', 'ABCA13', 'WFDC3', 'IL37', 'CARD10', 'FAM83A', 'AC023590.1', 'HHLA2', 'MUC16'}"
   ]
  },
  {
   "cell_type": "code",
   "execution_count": null,
   "id": "e0e7590f",
   "metadata": {},
   "outputs": [],
   "source": [
    "\n",
    "new_sig_3 = set(new_sig_2).union(gene_in_lung_not_in_escc)"
   ]
  },
  {
   "cell_type": "code",
   "execution_count": null,
   "id": "99cfcc76",
   "metadata": {},
   "outputs": [],
   "source": [
    "score_signature(method=\"adjusted_neighborhood_scoring\",\n",
    "                    adata=escc_data,\n",
    "                    gene_list= new_sig_2,\n",
    "                    ctrl_size=100,\n",
    "                    df_mean_var = escc_df_mean_var,\n",
    "                    score_name='new_sig_2')"
   ]
  },
  {
   "cell_type": "code",
   "execution_count": null,
   "id": "b78ffb5c",
   "metadata": {
    "pycharm": {
     "name": "#%%\n"
    }
   },
   "outputs": [],
   "source": [
    "score_signature(method=\"adjusted_neighborhood_scoring\",\n",
    "                    adata=escc_data,\n",
    "                    gene_list= new_sig_3,\n",
    "                    ctrl_size=100,\n",
    "                    df_mean_var = escc_df_mean_var,\n",
    "                    score_name='new_sig_3')"
   ]
  },
  {
   "cell_type": "code",
   "execution_count": null,
   "id": "ba749331",
   "metadata": {
    "pycharm": {
     "name": "#%%\n"
    }
   },
   "outputs": [],
   "source": [
    "sig_names = sig_names[0:-2]\n",
    "sig_names"
   ]
  },
  {
   "cell_type": "code",
   "execution_count": null,
   "id": "e568d7c5",
   "metadata": {
    "pycharm": {
     "name": "#%%\n"
    }
   },
   "outputs": [],
   "source": [
    "# sig_names = sig_names + ['LUNG_CANCER_EMT_SIGNATURE_1_refined.union(ESOPHAG_CANCER_EMT_SIGNATURE_2)','new_sig']\n",
    "sig_names = sig_names + ['LUNG_CANCER_EMT_SIGNATURE_1.union(ESOPHAG_CANCER_EMT_SIGNATURE_2)','new_sig','new_sig_2','new_sig_3']"
   ]
  },
  {
   "cell_type": "code",
   "execution_count": null,
   "id": "d1f6191e",
   "metadata": {
    "pycharm": {
     "name": "#%%\n"
    }
   },
   "outputs": [],
   "source": [
    "plt.rcParams.update({'pdf.fonttype':42, 'font.family':'sans-serif', 'font.sans-serif':'Arial', 'font.size':14})\n",
    "\n",
    "for sig_name in sig_names:\n",
    "    sc.pl.violin(escc_data, groupby='celltype_broader',keys=sig_name, rotation=90)"
   ]
  },
  {
   "cell_type": "code",
   "execution_count": null,
   "id": "940ad00d",
   "metadata": {
    "pycharm": {
     "name": "#%%\n"
    },
    "scrolled": true
   },
   "outputs": [],
   "source": [
    "plt.rcParams.update({'pdf.fonttype':42, 'font.family':'sans-serif', 'font.sans-serif':'Arial', 'font.size':14})\n",
    "\n",
    "pos_lbl = 'Epi with Mes'\n",
    "for score_name in sig_names:\n",
    "    plt.figure(figsize=(10,8))\n",
    "    \n",
    "    lr_precision, lr_recall, _ = precision_recall_curve(gt, escc_data.obs[score_name], pos_label=pos_lbl)\n",
    "    lr_auc = auc(lr_recall, lr_precision)\n",
    "    \n",
    "    lr_precision, lr_recall, _ = precision_recall_curve(gt[caf_and_cancer_emt], escc_data.obs.loc[caf_and_cancer_emt,score_name], pos_label=pos_lbl)\n",
    "    lr_auc_caf_and_emt = auc(lr_recall, lr_precision)\n",
    "    \n",
    "    lr_precision, lr_recall, _ = precision_recall_curve(gt[cancer_and_cancer_emt], escc_data.obs.loc[cancer_and_cancer_emt,score_name], pos_label=pos_lbl)\n",
    "    lr_auc_cancer_and_emt = auc(lr_recall, lr_precision)\n",
    "    \n",
    "    for group in escc_data.obs.groupby('celltype_broader'):\n",
    "        group[1][score_name].hist(bins=100, density=True, alpha=0.5, label=group[0])\n",
    "    \n",
    "    plt.title(score_name+\\\n",
    "              '\\nAUCPR Malignant with EMT vs. Rest '+ str(np.round(lr_auc, decimals=3))+\\\n",
    "              '\\nAUCPR Malignant with EMT vs. CAFS '+str(np.round(lr_auc_caf_and_emt, decimals=3))+\\\n",
    "              '\\nAUCPR Malignant with EMT vs. Malignant '+str(np.round(lr_auc_cancer_and_emt, decimals=3)), fontsize=16)\n",
    "    plt.legend()\n",
    "    plt.ylim([0,20])\n",
    "    plt.tight_layout()\n",
    "    if save:\n",
    "        curr_path = os.path.join(storing_path, 'plots')\n",
    "        if not os.path.exists(curr_path):\n",
    "            os.makedirs(curr_path)\n",
    "        plt.savefig(os.path.join(curr_path, f'dist_scores_{score_name}.png'), dpi=600)\n",
    "    plt.show()"
   ]
  },
  {
   "cell_type": "markdown",
   "id": "1b508ba1",
   "metadata": {},
   "source": [
    "### Store signatures "
   ]
  },
  {
   "cell_type": "code",
   "execution_count": null,
   "id": "a3964e87",
   "metadata": {},
   "outputs": [],
   "source": [
    "len(new_sig), len(new_sig_2), len(new_sig_3)"
   ]
  },
  {
   "cell_type": "code",
   "execution_count": null,
   "id": "5f0d974a",
   "metadata": {},
   "outputs": [],
   "source": [
    "if save:\n",
    "    pd.Series(list(new_sig)).to_csv(os.path.join(storing_path, 'LUNG1_ESCC2_CANCER_EMT_SIGNATURE_1.csv'))\n",
    "    pd.Series(list(new_sig_2)).to_csv(os.path.join(storing_path, 'LUNG1_ESCC2_CANCER_EMT_SIGNATURE_2.csv'))\n",
    "    pd.Series(list(new_sig_3)).to_csv(os.path.join(storing_path, 'LUNG1_ESCC2_CANCER_EMT_SIGNATURE_3.csv'))"
   ]
  },
  {
   "cell_type": "code",
   "execution_count": null,
   "id": "ec84a2c3",
   "metadata": {},
   "outputs": [],
   "source": []
  },
  {
   "cell_type": "code",
   "execution_count": null,
   "id": "702d4d51",
   "metadata": {},
   "outputs": [],
   "source": []
  },
  {
   "cell_type": "markdown",
   "id": "d10e37e5",
   "metadata": {},
   "source": [
    "## OLD"
   ]
  },
  {
   "cell_type": "code",
   "execution_count": null,
   "id": "ba9ffd11",
   "metadata": {},
   "outputs": [],
   "source": [
    "storing_path"
   ]
  },
  {
   "cell_type": "code",
   "execution_count": null,
   "id": "cc612f41",
   "metadata": {},
   "outputs": [],
   "source": []
  },
  {
   "cell_type": "code",
   "execution_count": null,
   "id": "9a354b47",
   "metadata": {
    "pycharm": {
     "name": "#%%\n"
    }
   },
   "outputs": [],
   "source": [
    "# pd.Series(list(new_sig)).to_csv('..../data/annotations/emt/LUNG1_ESCC2_CANCER_EMT_SIGNATURE_1.csv')\n",
    "# pd.Series(list(new_sig)).to_csv('..../data/annotations/emt/LUNG1_notrefined_ESCC2_CANCER_EMT_SIGNATURE_1.csv')"
   ]
  },
  {
   "cell_type": "code",
   "execution_count": null,
   "id": "0654d2b5",
   "metadata": {
    "pycharm": {
     "name": "#%%\n"
    }
   },
   "outputs": [],
   "source": [
    "venn2(\n",
    "    subsets=(\n",
    "        new_sig,\n",
    "        set(ESOPHAG_CANCER_EMT_SIGNATURE_2)\n",
    "    ),\n",
    "    set_labels=(\n",
    "        'new_sig',\n",
    "        'ESOPHAG_CANCER_EMT_SIGNATURE_2'\n",
    "    )\n",
    ")"
   ]
  },
  {
   "cell_type": "code",
   "execution_count": null,
   "id": "1bcfe69b",
   "metadata": {
    "pycharm": {
     "name": "#%%\n"
    }
   },
   "outputs": [],
   "source": [
    "set(ESOPHAG_CANCER_EMT_SIGNATURE_2).difference(new_sig)"
   ]
  },
  {
   "cell_type": "code",
   "execution_count": null,
   "id": "b827aa6b",
   "metadata": {
    "pycharm": {
     "name": "#%%\n"
    }
   },
   "outputs": [],
   "source": [
    "new_sig_2 = list(new_sig)+['CYP27B1','KCNMA1', 'L1CAM', 'SMOC1', 'ZBED2']"
   ]
  },
  {
   "cell_type": "code",
   "execution_count": null,
   "id": "e9efe546",
   "metadata": {
    "pycharm": {
     "name": "#%%\n"
    }
   },
   "outputs": [],
   "source": [
    "pd.Series(list(new_sig_2)).to_csv('..../data/annotations/emt/LUNG1_notrefined_ESCC2_CANCER_EMT_SIGNATURE_2.csv')"
   ]
  },
  {
   "cell_type": "code",
   "execution_count": null,
   "id": "42a3d93e",
   "metadata": {
    "pycharm": {
     "name": "#%%\n"
    }
   },
   "outputs": [],
   "source": [
    "gene_in_lung_not_in_escc = {'ADGRF1', 'TMEM61', 'NPIPB11', 'GPR39', 'LCN2', 'BAIAP2L2', 'RHBDL2', 'CTXN1', 'ZNF385C', 'RP11-105N14.1', 'FAM83A', 'LA16c-431H6.6', 'NPTXR', 'CBLC', 'SPNS2', 'AP006285.2', 'EML6', 'NIPAL1', 'RP11-431K24.1', 'SLC6A14', 'RP11-196G18.3', 'SLC29A4', 'TRIM29', 'C6orf132', 'OSMR-AS1', 'EDN2', 'CARD10', 'C19orf33', 'RP11-380N8.7', 'C2orf54', 'MUC16', 'TMC5', 'DNAH11', 'CX3CL1', 'BCAS1', 'MISP', 'RP11-519G16.5', 'METTL7B', 'BAIAP3', 'COBL', 'U73166.2', 'WNT7B', 'SNCG', 'EPHX3', 'XKR9', 'RP11-10C24.3', 'RP11-326C3.2', 'LTK', 'PRSS8', 'EVPL', 'LAMA3', 'RP11-539G18.3', 'KISS1', 'NANOS1', 'MYRF', 'TMEM92', 'PDE4C', 'USP43', 'CDH3', 'PLEKHG6', 'BCYRN1', 'PRSS27', 'TMPRSS4', 'ITPKA', 'B3GNT3', 'RP11-81A22.5', 'PPL', 'DOC2B', 'SYT12', 'KDR', 'RP11-350J20.12', 'RP11-672L10.6', 'RP6-65G23.3', 'NOXO1', 'SPINK1', 'VSTM2L', 'UNC5CL', 'KISS1R', 'MB', 'KRT80', 'PGBD5', 'ITIH4', 'TMC7'}"
   ]
  },
  {
   "cell_type": "code",
   "execution_count": null,
   "id": "2a9f1e9e",
   "metadata": {
    "pycharm": {
     "name": "#%%\n"
    }
   },
   "outputs": [],
   "source": [
    "venn2(\n",
    "    subsets=(\n",
    "        set(LUNG_CANCER_EMT_SIGNATURE_1),\n",
    "        set(escc_data.var_names)\n",
    "    ),\n",
    "    set_labels=(\n",
    "        'LUNG_CANCER_EMT_SIGNATURE_1',\n",
    "        'escc_data.var_names'\n",
    "    )\n",
    ")"
   ]
  },
  {
   "cell_type": "code",
   "execution_count": null,
   "id": "4e442fcc",
   "metadata": {
    "pycharm": {
     "name": "#%%\n"
    }
   },
   "outputs": [],
   "source": [
    "pd.Series(list(new_sig_2.union(gene_in_lung_not_in_escc))).to_csv('....data/annotations/emt/LUNG1_notrefined_ESCC2_CANCER_EMT_SIGNATURE_3.csv')"
   ]
  }
 ],
 "metadata": {
  "kernelspec": {
   "display_name": "Python 3 (ipykernel)",
   "language": "python",
   "name": "python3"
  },
  "language_info": {
   "codemirror_mode": {
    "name": "ipython",
    "version": 3
   },
   "file_extension": ".py",
   "mimetype": "text/x-python",
   "name": "python",
   "nbconvert_exporter": "python",
   "pygments_lexer": "ipython3",
   "version": "3.8.12"
  }
 },
 "nbformat": 4,
 "nbformat_minor": 5
}
