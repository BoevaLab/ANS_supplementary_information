{
 "cells": [
  {
   "cell_type": "markdown",
   "id": "f0881d83",
   "metadata": {},
   "source": [
    "## Find ESCC specific cancer EMT cells signature\n",
    "The signature should score high for cancer cells in EMT and low for all other celltypes, i.e., Firboblasts and other cancer cells. "
   ]
  },
  {
   "cell_type": "code",
   "execution_count": null,
   "id": "ce1646db",
   "metadata": {
    "pycharm": {
     "name": "#%%\n"
    }
   },
   "outputs": [],
   "source": [
    "from IPython.display import display, HTML\n",
    "display(HTML(\"<style>.container { width:80% !important; }</style>\"))"
   ]
  },
  {
   "cell_type": "code",
   "execution_count": null,
   "id": "2576697f",
   "metadata": {
    "pycharm": {
     "name": "#%%\n"
    }
   },
   "outputs": [],
   "source": [
    "import os \n",
    "import sys\n",
    "\n",
    "sys.path.append('../../..')\n",
    "\n",
    "import pandas as pd\n",
    "import numpy as np\n",
    "import scanpy as sc\n",
    "import json \n",
    "import matplotlib.pyplot as plt\n",
    "from matplotlib.patches import Patch\n",
    "import seaborn as sns\n",
    "from matplotlib.pyplot import rc_context\n",
    "from tqdm import tqdm\n",
    "from statsmodels.stats.multitest import multipletests\n",
    "from scipy.stats import mannwhitneyu\n",
    "from matplotlib_venn import venn3\n",
    "\n",
    "sys.path.append('../../..')\n",
    "from data.load_data import load_datasets\n",
    "from data.constants import BASE_PATH_DATA, BASE_PATH_EXPERIMENTS\n",
    "\n",
    "from signaturescoring import score_signature\n",
    "from signaturescoring.utils.utils import get_mean_and_variance_gene_expression, check_signature_genes"
   ]
  },
  {
   "cell_type": "code",
   "execution_count": null,
   "id": "ac47ea27",
   "metadata": {
    "pycharm": {
     "name": "#%%\n"
    }
   },
   "outputs": [],
   "source": [
    "sc.settings.verbosity = 2\n",
    "\n",
    "pl_size = 6\n",
    "dataset = 'escc'\n",
    "\n",
    "base_path_emt_signatures = os.path.join(BASE_PATH_DATA, 'annotations/emt')\n",
    "base_path_barcodes = os.path.join(BASE_PATH_EXPERIMENTS, f'EMT_signature_scoring_case_study/{dataset}')\n",
    "storing_path = os.path.join(base_path_barcodes, 'dataset_specific_emt_sig')\n",
    "\n",
    "if not os.path.exists(storing_path):\n",
    "    os.makedirs(storing_path)\n",
    "    sc.logging.info(f'Creating new storing folder at {storing_path}')\n",
    "\n",
    "save = True "
   ]
  },
  {
   "cell_type": "markdown",
   "id": "1c48c49d",
   "metadata": {},
   "source": [
    "Load preprocessed dataset "
   ]
  },
  {
   "cell_type": "code",
   "execution_count": null,
   "id": "4443da04",
   "metadata": {},
   "outputs": [],
   "source": [
    "orig_adata = load_datasets(dataset, preprocessed=True, norm_method='mean')\n",
    "if 'log1p' in orig_adata.uns_keys():\n",
    "    orig_adata.uns['log1p']['base'] = None\n",
    "else:\n",
    "    orig_adata.uns['log1p'] = {'base': None}"
   ]
  },
  {
   "cell_type": "markdown",
   "id": "ed0510c4",
   "metadata": {},
   "source": [
    "Load cancer EMT barcodes"
   ]
  },
  {
   "cell_type": "code",
   "execution_count": null,
   "id": "008b2ad0",
   "metadata": {},
   "outputs": [],
   "source": [
    "barcodes_cancer_emt_cells = pd.read_csv(os.path.join(base_path_barcodes, 'barcodes_cancer_emt.csv'))\n",
    "barcodes_cancer_emt_cells = barcodes_cancer_emt_cells['0']\n",
    "barcodes_cancer_emt_cells.name = 'cancer_emt_cells'"
   ]
  },
  {
   "cell_type": "code",
   "execution_count": null,
   "id": "42ef9cad",
   "metadata": {},
   "outputs": [],
   "source": [
    "barcodes_caf_emt_mes_cells = orig_adata.obs[orig_adata.obs.celltype == 'Fibroblasts'].index.to_list() + barcodes_cancer_emt_cells.to_list()\n",
    "barcodes_caf_emt_mes_cells = pd.Series(barcodes_caf_emt_mes_cells)"
   ]
  },
  {
   "cell_type": "code",
   "execution_count": null,
   "id": "76eef5d2",
   "metadata": {
    "pycharm": {
     "name": "#%%\n"
    }
   },
   "outputs": [],
   "source": [
    "orig_adata.obs['celltype_broad'] = orig_adata.obs['celltype'].copy() \n",
    "orig_adata.obs['celltype_broad'] = orig_adata.obs['celltype_broad'].astype(str)"
   ]
  },
  {
   "cell_type": "code",
   "execution_count": null,
   "id": "7eaf942b",
   "metadata": {
    "pycharm": {
     "name": "#%%\n"
    }
   },
   "outputs": [],
   "source": [
    "cells_not_cafs_and_cancer_emt = orig_adata.obs.index.isin(barcodes_caf_emt_mes_cells) == False"
   ]
  },
  {
   "cell_type": "code",
   "execution_count": null,
   "id": "ddfe3d51",
   "metadata": {
    "pycharm": {
     "name": "#%%\n"
    }
   },
   "outputs": [],
   "source": [
    "orig_adata.obs['celltype_broad'][cells_not_cafs_and_cancer_emt & (orig_adata.obs.celltype == 'Epi')] = 'Epi non Mes'\n",
    "orig_adata.obs['celltype_broad'][cells_not_cafs_and_cancer_emt & (orig_adata.obs.celltype != 'Epi')] = 'rest'\n",
    "orig_adata.obs['celltype_broad'].value_counts()"
   ]
  },
  {
   "cell_type": "code",
   "execution_count": null,
   "id": "92b593f1",
   "metadata": {
    "pycharm": {
     "name": "#%%\n"
    }
   },
   "outputs": [],
   "source": [
    "orig_adata.obs['celltype_broader'] = orig_adata.obs['celltype'].copy() \n",
    "orig_adata.obs['celltype_broader'] = orig_adata.obs['celltype_broader'].astype('str')"
   ]
  },
  {
   "cell_type": "code",
   "execution_count": null,
   "id": "4659e486",
   "metadata": {
    "pycharm": {
     "name": "#%%\n"
    }
   },
   "outputs": [],
   "source": [
    "orig_adata.obs.loc[orig_adata.obs['celltype_broad']=='Epi', 'celltype_broader'] = 'Epi with Mes'\n",
    "orig_adata.obs.loc[orig_adata.obs['celltype_broad']=='Epi non Mes', 'celltype_broader'] = 'Epi wo Mes'\n",
    "orig_adata.obs['celltype_broader'].value_counts()"
   ]
  },
  {
   "cell_type": "markdown",
   "id": "fc2eca68",
   "metadata": {},
   "source": [
    "Prepare UMAPs"
   ]
  },
  {
   "cell_type": "code",
   "execution_count": null,
   "id": "ff1d2181",
   "metadata": {
    "pycharm": {
     "name": "#%%\n"
    }
   },
   "outputs": [],
   "source": [
    "sc.tl.pca(orig_adata)\n",
    "sc.pp.neighbors(orig_adata)\n",
    "sc.tl.umap(orig_adata)"
   ]
  },
  {
   "cell_type": "markdown",
   "id": "c8130e87",
   "metadata": {},
   "source": [
    "Load and score Hallmark EMT signature"
   ]
  },
  {
   "cell_type": "code",
   "execution_count": null,
   "id": "707e8607",
   "metadata": {
    "pycharm": {
     "name": "#%%\n"
    }
   },
   "outputs": [],
   "source": [
    "# Notice we have lots of genes from the hallmark signature that are not available in the data\n",
    "with open(os.path.join(BASE_PATH_DATA, '/annotations/emt/HALLMARK_EPITHELIAL_MESENCHYMAL_TRANSITION.v7.5.1.json')) as f:\n",
    "    hallmark_emt = json.load(f)\n",
    "orig_hallmark_emt_sig = hallmark_emt['HALLMARK_EPITHELIAL_MESENCHYMAL_TRANSITION']['geneSymbols']\n",
    "hallmark_emt_sig = check_signature_genes(orig_adata.var_names, orig_hallmark_emt_sig)\n",
    "hallmark_emt_sig.sort()\n",
    "hallmark_emt_sig"
   ]
  },
  {
   "cell_type": "code",
   "execution_count": null,
   "id": "0c5fc703",
   "metadata": {
    "pycharm": {
     "name": "#%%\n"
    }
   },
   "outputs": [],
   "source": [
    "%%time\n",
    "score_signature(method=\"adjusted_neighborhood_scoring\",\n",
    "                adata=orig_adata,\n",
    "                gene_list=hallmark_emt_sig,\n",
    "                ctrl_size=100,\n",
    "                score_name='hallmark_emt_scores'\n",
    "                )"
   ]
  },
  {
   "cell_type": "code",
   "execution_count": null,
   "id": "ff4a3db8",
   "metadata": {},
   "outputs": [],
   "source": [
    "plt.rcParams.update({'pdf.fonttype':42, 'font.family':'sans-serif', 'font.sans-serif':'Arial', 'font.size':14})\n",
    "with rc_context({'figure.figsize': (15,8)}):\n",
    "    for group in orig_adata.obs.groupby(by='celltype_broader'):\n",
    "        group[1].hallmark_emt_scores.hist(bins=100, alpha=0.5, density=True, label=group[0])\n",
    "plt.close()"
   ]
  },
  {
   "cell_type": "code",
   "execution_count": null,
   "id": "167d1a95",
   "metadata": {
    "pycharm": {
     "name": "#%%\n"
    }
   },
   "outputs": [],
   "source": [
    "plt.rcParams.update({'pdf.fonttype':42, 'font.family':'sans-serif', 'font.sans-serif':'Arial', 'font.size':14})\n",
    "with rc_context({'figure.figsize': (10,6)}):\n",
    "    for group in orig_adata.obs.groupby(by='celltype_broader'):\n",
    "        group[1].hallmark_emt_scores.hist(bins=100, alpha=0.5, density=True, label=group[0])\n",
    "    plt.legend()\n",
    "    plt.title(f'Hallmark EMT score dtiributions per celltype')\n",
    "    if save:\n",
    "        curr_path = os.path.join(storing_path, 'plots')\n",
    "        if not os.path.exists(curr_path):\n",
    "            os.makedirs(curr_path)\n",
    "        plt.savefig(os.path.join(curr_path, f'dist_scores_hallmark_emt.png'), dpi=600)"
   ]
  },
  {
   "cell_type": "code",
   "execution_count": null,
   "id": "f8e48d76",
   "metadata": {},
   "outputs": [],
   "source": [
    "def get_nr_cells_over_quantile(adata, score_col = 'hallmark_emt_scores', quant=0.85, celltype_col = 'celltype_broader'):\n",
    "    cut_off = adata.obs[score_col].quantile(quant)\n",
    "    return adata.obs.groupby(celltype_col).apply(lambda x: ((x[score_col]>cut_off).sum(), len(x)))\n",
    "\n",
    "vals = get_nr_cells_over_quantile(orig_adata)\n",
    "for row in vals.items():\n",
    "    print(row[0], row[1][0], row[1][1])"
   ]
  },
  {
   "cell_type": "code",
   "execution_count": null,
   "id": "9f58a244",
   "metadata": {},
   "outputs": [],
   "source": [
    "COL='hallmark_emt_scores' \n",
    "quant = 0.85\n",
    "with rc_context({'figure.figsize': (6,6)}):\n",
    "    orig_adata.obs[COL].hist(bins=100)\n",
    "    \n",
    "    quantile_85 = orig_adata.obs[COL].quantile(quant)\n",
    "    plt.axvline(quantile_85, c='r', label=f'{quant} quantile')\n",
    "    \n",
    "    vals = get_nr_cells_over_quantile(orig_adata, score_col = COL, quant=quant, celltype_col = 'celltype_broader')\n",
    "    title = f\"Distribution scores for {COL} scores.\\nCutoff {quant} quantile (={round(quantile_85, 2)}) \"\n",
    "    vals = get_nr_cells_over_quantile(orig_adata)\n",
    "    for row in vals.items():\n",
    "        title +=f'\\n{row[0]}: {row[1][0]}/{row[1][1]} ({round(row[1][0]/row[1][1]*100, 3)}%)'\n",
    "    plt.title(title)\n",
    "    plt.tight_layout()\n",
    "    if save:\n",
    "        curr_path = os.path.join(storing_path, 'plots')\n",
    "        if not os.path.exists(curr_path):\n",
    "            os.makedirs(curr_path)\n",
    "        plt.savefig(os.path.join(curr_path, f'dist_scores_hallmark_emt_quant.png'), dpi=600)"
   ]
  },
  {
   "cell_type": "markdown",
   "id": "55e686a6",
   "metadata": {
    "pycharm": {
     "name": "#%% md\n"
    }
   },
   "source": [
    "### define subsets"
   ]
  },
  {
   "cell_type": "code",
   "execution_count": null,
   "id": "55097bf8",
   "metadata": {
    "pycharm": {
     "name": "#%%\n"
    }
   },
   "outputs": [],
   "source": [
    "caf_cancer_emt_cells = orig_adata[orig_adata.obs.index.isin(barcodes_caf_emt_mes_cells),:].copy()"
   ]
  },
  {
   "cell_type": "code",
   "execution_count": null,
   "id": "7ffc40bb",
   "metadata": {},
   "outputs": [],
   "source": [
    "print(caf_cancer_emt_cells.obs.celltype_broad.value_counts())\n",
    "print(caf_cancer_emt_cells.obs.celltype.value_counts())"
   ]
  },
  {
   "cell_type": "code",
   "execution_count": null,
   "id": "4d4d450c",
   "metadata": {
    "pycharm": {
     "name": "#%%\n"
    }
   },
   "outputs": [],
   "source": [
    "print(caf_cancer_emt_cells.obs.celltype_broad.value_counts())\n",
    "print(caf_cancer_emt_cells.obs.celltype.value_counts())"
   ]
  },
  {
   "cell_type": "code",
   "execution_count": null,
   "id": "a433567e",
   "metadata": {
    "pycharm": {
     "name": "#%%\n"
    }
   },
   "outputs": [],
   "source": [
    "cancer_cells = orig_adata[orig_adata.obs.celltype=='Epi'].copy()"
   ]
  },
  {
   "cell_type": "code",
   "execution_count": null,
   "id": "0cd57c4c",
   "metadata": {},
   "outputs": [],
   "source": [
    "print(cancer_cells.obs.celltype_broad.value_counts())\n",
    "print(cancer_cells.obs.celltype.value_counts())"
   ]
  },
  {
   "cell_type": "code",
   "execution_count": null,
   "id": "ae43cc80",
   "metadata": {},
   "outputs": [],
   "source": [
    "caf_and_all_cancer = orig_adata[orig_adata.obs.celltype.isin(['Fibroblasts', 'Epi'])].copy()"
   ]
  },
  {
   "cell_type": "code",
   "execution_count": null,
   "id": "9f828212",
   "metadata": {},
   "outputs": [],
   "source": [
    "print(caf_and_all_cancer.obs.celltype_broad.value_counts())\n",
    "print(caf_and_all_cancer.obs.celltype.value_counts())"
   ]
  },
  {
   "cell_type": "markdown",
   "id": "776e7c2e",
   "metadata": {
    "pycharm": {
     "name": "#%% md\n"
    }
   },
   "source": [
    "### cancer emt vs rest 1 attempt"
   ]
  },
  {
   "cell_type": "code",
   "execution_count": null,
   "id": "55b06bff",
   "metadata": {
    "pycharm": {
     "name": "#%%\n"
    }
   },
   "outputs": [],
   "source": [
    "sc.tl.rank_genes_groups(caf_cancer_emt_cells,groupby='celltype_broad', method='wilcoxon', tie_correct=True)"
   ]
  },
  {
   "cell_type": "code",
   "execution_count": null,
   "id": "11f52cc5",
   "metadata": {
    "pycharm": {
     "name": "#%%\n"
    }
   },
   "outputs": [],
   "source": [
    "sc.tl.rank_genes_groups(cancer_cells,groupby='celltype_broad', method='wilcoxon', tie_correct=True)"
   ]
  },
  {
   "cell_type": "code",
   "execution_count": null,
   "id": "03047cb4",
   "metadata": {},
   "outputs": [],
   "source": [
    "sc.tl.rank_genes_groups(caf_and_all_cancer, groupby='celltype_broad', method='wilcoxon', tie_correct=True)"
   ]
  },
  {
   "cell_type": "code",
   "execution_count": null,
   "id": "b40fd7fb",
   "metadata": {},
   "outputs": [],
   "source": [
    "fig = sc.pl.rank_genes_groups_dotplot(caf_cancer_emt_cells,min_logfoldchange=2, n_genes=15, return_fig=True)\n",
    "if save:\n",
    "    curr_path = os.path.join(storing_path, 'plots')\n",
    "    if not os.path.exists(curr_path):\n",
    "        os.makedirs(curr_path)\n",
    "    fig.savefig(os.path.join(curr_path, f'top_marker_genes_caf_cancer_emt_cells.png'), dpi=600)"
   ]
  },
  {
   "cell_type": "code",
   "execution_count": null,
   "id": "3310d38c",
   "metadata": {},
   "outputs": [],
   "source": [
    "fig = sc.pl.rank_genes_groups_dotplot(cancer_cells,min_logfoldchange=2, n_genes=15, return_fig=True)\n",
    "if save:\n",
    "    curr_path = os.path.join(storing_path, 'plots')\n",
    "    if not os.path.exists(curr_path):\n",
    "        os.makedirs(curr_path)\n",
    "    fig.savefig(os.path.join(curr_path, f'top_marker_genes_cancer_cells.png'), dpi=600)"
   ]
  },
  {
   "cell_type": "code",
   "execution_count": null,
   "id": "741bfeb2",
   "metadata": {},
   "outputs": [],
   "source": [
    "fig = sc.pl.rank_genes_groups_dotplot(caf_and_all_cancer, min_logfoldchange=2, n_genes=20, return_fig=True)\n",
    "if save:\n",
    "    curr_path = os.path.join(storing_path, 'plots')\n",
    "    if not os.path.exists(curr_path):\n",
    "        os.makedirs(curr_path)\n",
    "    fig.savefig(os.path.join(curr_path, f'top_marker_genes_caf_and_all_cancer.png'), dpi=600)"
   ]
  },
  {
   "cell_type": "code",
   "execution_count": null,
   "id": "6bc640dc",
   "metadata": {},
   "outputs": [],
   "source": [
    "# tmp1  = sc.get.rank_genes_groups_df(caf_cancer_emt_cells, group='Epi', log2fc_min=2, pval_cutoff=0.001)\n",
    "# tmp2  = sc.get.rank_genes_groups_df(caf_cancer_emt_cells, group='Fibroblasts', log2fc_min=1, pval_cutoff=0.001)\n",
    "# tmp3  = sc.get.rank_genes_groups_df(cancer_cells, group='Epi', log2fc_min=2, pval_cutoff=0.001)\n",
    "# tmp4  = sc.get.rank_genes_groups_df(cancer_cells, group='Epi non Mes', log2fc_min=0, pval_cutoff=0.001)\n",
    "\n",
    "# A = set(tmp1.names.tolist()).union(set(tmp3.names.tolist()))\n",
    "# B = set(tmp2.names.tolist())\n",
    "# C = set(tmp4.names.tolist())\n",
    "\n",
    "# D = (A.difference(B)).difference(C)\n",
    "\n",
    "# tmp5 = pd.merge(tmp1, tmp3, on='names',how='outer')\n",
    "\n",
    "# list(D)\n",
    "\n",
    "# tmp5 = tmp5.set_index('names')\n",
    "\n",
    "# tmp5.sort_index()\n",
    "\n",
    "# tmp5 = tmp5.loc[list(D)]\n",
    "\n",
    "# tmp5.sort_values(by=['logfoldchanges_x', 'logfoldchanges_y'], ascending=False)[0:50]\n",
    "\n",
    "# tmp5[(~tmp5.logfoldchanges_x.isna())&(~tmp5.logfoldchanges_y.isna())]"
   ]
  },
  {
   "cell_type": "code",
   "execution_count": null,
   "id": "1fdfec9a",
   "metadata": {
    "pycharm": {
     "name": "#%%\n"
    }
   },
   "outputs": [],
   "source": [
    "dge_genes_cancer_emt_vs_cafs  = sc.get.rank_genes_groups_df(caf_cancer_emt_cells, group='Epi', log2fc_min=2, pval_cutoff=0.001)"
   ]
  },
  {
   "cell_type": "code",
   "execution_count": null,
   "id": "3dda8097",
   "metadata": {
    "pycharm": {
     "name": "#%%\n"
    }
   },
   "outputs": [],
   "source": [
    "dge_genes_cancer_emt_vs_cancer  = sc.get.rank_genes_groups_df(cancer_cells, group='Epi', log2fc_min=1.5, pval_cutoff=0.001)"
   ]
  },
  {
   "cell_type": "code",
   "execution_count": null,
   "id": "22d34575",
   "metadata": {
    "pycharm": {
     "name": "#%%\n"
    }
   },
   "outputs": [],
   "source": [
    "dge_genes_cancer_vs_cancer_emt  = sc.get.rank_genes_groups_df(cancer_cells, group='Epi non Mes', log2fc_min=2, pval_cutoff=0.001)"
   ]
  },
  {
   "cell_type": "code",
   "execution_count": null,
   "id": "9eb71776",
   "metadata": {
    "pycharm": {
     "name": "#%%\n"
    }
   },
   "outputs": [],
   "source": [
    "venn3(\n",
    "subsets=(\n",
    "    set(dge_genes_cancer_emt_vs_cafs.names.to_list()),\n",
    "    set(dge_genes_cancer_emt_vs_cancer.names.to_list()),\n",
    "    set(dge_genes_cancer_vs_cancer_emt.names.to_list())\n",
    "),\n",
    "set_labels=(\n",
    "    'dge_genes_cancer_emt_vs_cafs',\n",
    "    'dge_genes_cancer_emt_vs_cancer',\n",
    "    'dge_genes_cancer_vs_cancer_emt'\n",
    ")\n",
    ")\n",
    "if save:\n",
    "    curr_path = os.path.join(storing_path, 'plots')\n",
    "    if not os.path.exists(curr_path):\n",
    "        os.makedirs(curr_path)\n",
    "    plt.savefig(os.path.join(curr_path, f'venn_dgex_genes_mal_emt_vs_caf_mal.png'), dpi=600)"
   ]
  },
  {
   "cell_type": "code",
   "execution_count": null,
   "id": "b4db6d6d",
   "metadata": {
    "pycharm": {
     "name": "#%%\n"
    }
   },
   "outputs": [],
   "source": [
    "dge_genes_cancer_emt_vs_caf_and_cancer = set(dge_genes_cancer_emt_vs_cafs.names.to_list()).intersection(set(dge_genes_cancer_emt_vs_cancer.names.to_list()))"
   ]
  },
  {
   "cell_type": "code",
   "execution_count": null,
   "id": "afbba24e",
   "metadata": {
    "pycharm": {
     "name": "#%%\n"
    }
   },
   "outputs": [],
   "source": [
    "dge_genes_and_hallmark = set(dge_genes_cancer_emt_vs_caf_and_cancer).intersection(hallmark_emt_sig)\n",
    "len(dge_genes_and_hallmark)"
   ]
  },
  {
   "cell_type": "code",
   "execution_count": null,
   "id": "051b7406",
   "metadata": {
    "pycharm": {
     "name": "#%%\n"
    }
   },
   "outputs": [],
   "source": [
    "score_signature(method=\"adjusted_neighborhood_scoring\",\n",
    "                adata=orig_adata,\n",
    "                gene_list=dge_genes_cancer_emt_vs_caf_and_cancer,\n",
    "                ctrl_size=100,\n",
    "                score_name='dge_genes_cancer_emt_vs_caf_and_cancer'\n",
    "                )\n",
    "\n",
    "score_signature(method=\"adjusted_neighborhood_scoring\",\n",
    "                adata=orig_adata,\n",
    "                gene_list=dge_genes_and_hallmark,\n",
    "                ctrl_size=100,\n",
    "                score_name='dge_genes_and_hallmark'\n",
    "                )"
   ]
  },
  {
   "cell_type": "code",
   "execution_count": null,
   "id": "f9e4cbdd",
   "metadata": {
    "pycharm": {
     "name": "#%%\n"
    }
   },
   "outputs": [],
   "source": [
    "sc.pl.violin(orig_adata, keys=['hallmark_emt_scores','dge_genes_cancer_emt_vs_caf_and_cancer','dge_genes_and_hallmark'], groupby='celltype_broader', rotation=90, show=False)\n",
    "plt.gcf().tight_layout();\n",
    "if save:\n",
    "    curr_path = os.path.join(storing_path, 'plots')\n",
    "    if not os.path.exists(curr_path):\n",
    "        os.makedirs(curr_path)\n",
    "    plt.savefig(os.path.join(curr_path, f'violin_plot_approach_1.svg'), dpi=600)\n",
    "plt.show()"
   ]
  },
  {
   "cell_type": "code",
   "execution_count": null,
   "id": "17d5c476",
   "metadata": {
    "pycharm": {
     "name": "#%%\n"
    }
   },
   "outputs": [],
   "source": [
    "sc.tl.rank_genes_groups(orig_adata, groupby='celltype_broader', method='wilcoxon',reference='Epi with Mes', tie_correct=True)"
   ]
  },
  {
   "cell_type": "code",
   "execution_count": null,
   "id": "5b92c365",
   "metadata": {
    "pycharm": {
     "name": "#%%\n"
    }
   },
   "outputs": [],
   "source": [
    "dge_genes_to_avoid = set(sc.get.rank_genes_groups_df(orig_adata, group='Tcells', log2fc_min=2, pval_cutoff=0.001).names.tolist())\n",
    "for celltype in [\n",
    "#  'Fibroblasts',\n",
    "#  'Bcells',\n",
    " 'Myeloid',\n",
    "#  'Endothelial',\n",
    " 'Epi wo Mes',\n",
    "#  'Pericytes',\n",
    "#  'FRC'\n",
    "]:\n",
    "    if celltype == 'Epi wo Mes':\n",
    "        dge_genes_to_avoid = dge_genes_to_avoid.union(set((sc.get.rank_genes_groups_df(orig_adata, group=celltype, log2fc_min=0, pval_cutoff=0.001)).names.tolist()))\n",
    "    else:\n",
    "        dge_genes_to_avoid = dge_genes_to_avoid.union(set((sc.get.rank_genes_groups_df(orig_adata, group=celltype, log2fc_min=2, pval_cutoff=0.001)).names.tolist()))"
   ]
  },
  {
   "cell_type": "code",
   "execution_count": null,
   "id": "9f79bc6c",
   "metadata": {
    "pycharm": {
     "name": "#%%\n"
    }
   },
   "outputs": [],
   "source": [
    "new_dge_genes_cancer_emt_vs_caf_and_cancer =  set(dge_genes_cancer_emt_vs_caf_and_cancer).difference(set(dge_genes_to_avoid))\n",
    "len(new_dge_genes_cancer_emt_vs_caf_and_cancer)"
   ]
  },
  {
   "cell_type": "code",
   "execution_count": null,
   "id": "8d0e2770",
   "metadata": {
    "pycharm": {
     "name": "#%%\n"
    }
   },
   "outputs": [],
   "source": [
    "score_signature(method=\"adjusted_neighborhood_scoring\",\n",
    "                adata=orig_adata,\n",
    "                gene_list=new_dge_genes_cancer_emt_vs_caf_and_cancer,\n",
    "                ctrl_size=100,\n",
    "                score_name='new_dge_genes_cancer_emt_vs_caf_and_cancer'\n",
    "                )"
   ]
  },
  {
   "cell_type": "code",
   "execution_count": null,
   "id": "c71a1c96",
   "metadata": {
    "pycharm": {
     "name": "#%%\n"
    }
   },
   "outputs": [],
   "source": [
    "sc.pl.violin(orig_adata, keys=['hallmark_emt_scores','dge_genes_cancer_emt_vs_caf_and_cancer','new_dge_genes_cancer_emt_vs_caf_and_cancer','dge_genes_and_hallmark'], groupby='celltype_broader', rotation=90, show=False)\n",
    "plt.gcf().tight_layout();\n",
    "if save:\n",
    "    curr_path = os.path.join(storing_path, 'plots')\n",
    "    if not os.path.exists(curr_path):\n",
    "        os.makedirs(curr_path)\n",
    "    plt.savefig(os.path.join(curr_path, f'violin_plot_approach_2.svg'), dpi=600)\n",
    "plt.show()"
   ]
  },
  {
   "cell_type": "code",
   "execution_count": null,
   "id": "dd4ed06e",
   "metadata": {
    "pycharm": {
     "name": "#%%\n"
    }
   },
   "outputs": [],
   "source": [
    "with rc_context({'figure.figsize': (15,8)}):\n",
    "    for group in orig_adata.obs.groupby(by='celltype_broader'):\n",
    "        group[1].new_dge_genes_cancer_emt_vs_caf_and_cancer.hist(bins=100, alpha=0.5, density=True, label=group[0])\n",
    "    plt.legend()\n",
    "    if save:\n",
    "        curr_path = os.path.join(storing_path, 'plots')\n",
    "        if not os.path.exists(curr_path):\n",
    "            os.makedirs(curr_path)\n",
    "        plt.savefig(os.path.join(curr_path, f'dist_scores_new_dge_genes_cancer_emt_vs_caf_and_cancer.png'))"
   ]
  },
  {
   "cell_type": "code",
   "execution_count": null,
   "id": "39d54275",
   "metadata": {
    "pycharm": {
     "name": "#%%\n"
    }
   },
   "outputs": [],
   "source": [
    "COL='new_dge_genes_cancer_emt_vs_caf_and_cancer' \n",
    "quant = 0.95\n",
    "with rc_context({'figure.figsize': (6,6)}):\n",
    "    orig_adata.obs[COL].hist(bins=100)\n",
    "    \n",
    "    quantile_85 = orig_adata.obs[COL].quantile(quant)\n",
    "    plt.axvline(quantile_85, c='r', label=f'{quant} quantile')\n",
    "    \n",
    "    vals = get_nr_cells_over_quantile(orig_adata, score_col = COL, quant=quant, celltype_col = 'celltype_broader')\n",
    "    title = f\"Distribution scores for {COL} scores.\\nCutoff {quant} quantile (={round(quantile_85, 2)}) \"\n",
    "    for row in vals.items():\n",
    "        title +=f'\\n{row[0]}: {row[1][0]}/{row[1][1]} ({round(row[1][0]/row[1][1]*100, 3)}%)'\n",
    "    plt.title(title)\n",
    "    plt.tight_layout()\n",
    "    if save:\n",
    "        curr_path = os.path.join(storing_path, 'plots')\n",
    "        if not os.path.exists(curr_path):\n",
    "            os.makedirs(curr_path)\n",
    "        plt.savefig(os.path.join(curr_path, f'dist_scores_new_dge_genes_cancer_emt_vs_caf_and_cancer_quant.png'), dpi=600)"
   ]
  },
  {
   "cell_type": "markdown",
   "id": "df29432f",
   "metadata": {
    "pycharm": {
     "name": "#%% md\n"
    }
   },
   "source": [
    "#### look at cells that score high and do dgex on those "
   ]
  },
  {
   "cell_type": "code",
   "execution_count": null,
   "id": "4b7bda11",
   "metadata": {
    "pycharm": {
     "name": "#%%\n"
    }
   },
   "outputs": [],
   "source": [
    "epi_cells = orig_adata.obs.celltype_broader.isin(['Epi with Mes', 'Epi wo Mes']) "
   ]
  },
  {
   "cell_type": "code",
   "execution_count": null,
   "id": "54d2f216",
   "metadata": {
    "pycharm": {
     "name": "#%%\n"
    }
   },
   "outputs": [],
   "source": [
    "high_scores = orig_adata.obs['new_dge_genes_cancer_emt_vs_caf_and_cancer']>0.2"
   ]
  },
  {
   "cell_type": "code",
   "execution_count": null,
   "id": "b262806e",
   "metadata": {
    "pycharm": {
     "name": "#%%\n"
    }
   },
   "outputs": [],
   "source": [
    "epi_with_high_scores = orig_adata[epi_cells&high_scores, :].copy()"
   ]
  },
  {
   "cell_type": "code",
   "execution_count": null,
   "id": "b6a38008",
   "metadata": {
    "pycharm": {
     "name": "#%%\n"
    }
   },
   "outputs": [],
   "source": [
    "sc.tl.rank_genes_groups(epi_with_high_scores, groupby='celltype_broader', method='wilcoxon',tie_correct=True)"
   ]
  },
  {
   "cell_type": "code",
   "execution_count": null,
   "id": "8323f750",
   "metadata": {},
   "outputs": [],
   "source": [
    "epi_with_high_scores.obs.celltype_broader.value_counts()"
   ]
  },
  {
   "cell_type": "code",
   "execution_count": null,
   "id": "c6548d32",
   "metadata": {
    "pycharm": {
     "name": "#%%\n"
    }
   },
   "outputs": [],
   "source": [
    "fig = sc.pl.rank_genes_groups_dotplot(epi_with_high_scores, n_genes=10, return_fig=True)\n",
    "if save:\n",
    "    curr_path = os.path.join(storing_path, 'plots')\n",
    "    if not os.path.exists(curr_path):\n",
    "        os.makedirs(curr_path)\n",
    "    fig.savefig(os.path.join(curr_path, f'top_marker_genes_high_scoring_mal_emt_vs_mal.png'), dpi=600)"
   ]
  },
  {
   "cell_type": "code",
   "execution_count": null,
   "id": "acb0cd3d",
   "metadata": {
    "pycharm": {
     "name": "#%%\n"
    }
   },
   "outputs": [],
   "source": [
    "dge_epi_wo_mes_with_high_scores = sc.get.rank_genes_groups_df(epi_with_high_scores, group='Epi wo Mes', log2fc_min=1, pval_cutoff=1e-5)"
   ]
  },
  {
   "cell_type": "code",
   "execution_count": null,
   "id": "a24d235d",
   "metadata": {
    "pycharm": {
     "name": "#%%\n"
    }
   },
   "outputs": [],
   "source": [
    "dge_epi_with_mes_with_high_scores = sc.get.rank_genes_groups_df(epi_with_high_scores, group='Epi with Mes', log2fc_min=1, pval_cutoff=1e-5)"
   ]
  },
  {
   "cell_type": "code",
   "execution_count": null,
   "id": "a2aba4ab",
   "metadata": {
    "pycharm": {
     "name": "#%%\n"
    }
   },
   "outputs": [],
   "source": [
    "venn3(\n",
    "subsets=(\n",
    "    set(dge_epi_wo_mes_with_high_scores.names.to_list()),\n",
    "    set(dge_epi_with_mes_with_high_scores.sort_values(by='logfoldchanges', ascending=False).names.to_list()),\n",
    "    set(new_dge_genes_cancer_emt_vs_caf_and_cancer)\n",
    "),\n",
    "set_labels=(\n",
    "    'dge_epi_wo_mes_with_high_scores',\n",
    "    'dge_epi_with_mes_with_high_scores',\n",
    "    'new_dge_genes_cancer_emt_vs_caf_and_cancer'\n",
    ")\n",
    ")\n",
    "if save:\n",
    "    curr_path = os.path.join(storing_path, 'plots')\n",
    "    if not os.path.exists(curr_path):\n",
    "        os.makedirs(curr_path)\n",
    "    plt.savefig(os.path.join(curr_path, f'venn_dgex_genes_mal_emt_vs_caf_mal_high_scores.png'), dpi=600)"
   ]
  },
  {
   "cell_type": "code",
   "execution_count": null,
   "id": "7d1bfb1c",
   "metadata": {
    "pycharm": {
     "name": "#%%\n"
    }
   },
   "outputs": [],
   "source": [
    "genes_to_potentially_add = set(dge_epi_with_mes_with_high_scores.names.to_list()).difference(new_dge_genes_cancer_emt_vs_caf_and_cancer)"
   ]
  },
  {
   "cell_type": "code",
   "execution_count": null,
   "id": "f2b12e49",
   "metadata": {
    "pycharm": {
     "name": "#%%\n"
    }
   },
   "outputs": [],
   "source": [
    "orig_adata.X = orig_adata.X.tocsc()"
   ]
  },
  {
   "cell_type": "code",
   "execution_count": null,
   "id": "33e5f267",
   "metadata": {
    "pycharm": {
     "name": "#%%\n"
    }
   },
   "outputs": [],
   "source": [
    "def get_scores_for_all_sig_genes(adata, sig_genes,ctrl_size = 100):\n",
    "\n",
    "    gene_list = check_signature_genes(adata.var_names, sig_genes)\n",
    "    df_mean_var = get_mean_and_variance_gene_expression(adata,\n",
    "                                                    estim_var=False)\n",
    "    gene_means = df_mean_var['mean'].copy()\n",
    "\n",
    "    # computation of neighboring genes around each signature gene\n",
    "    sorted_gene_means = gene_means.sort_values()\n",
    "    ref_genes_means = sorted_gene_means[sorted_gene_means.index.isin(gene_list) == False]\n",
    "\n",
    "    # use sliding window to compute for each window the mean\n",
    "    rolled = ref_genes_means.rolling(ctrl_size, closed='right').mean()\n",
    "\n",
    "    control_genes = []\n",
    "    for sig_gene in gene_list:\n",
    "        curr_sig_avg = sorted_gene_means.loc[sig_gene]\n",
    "        min_val_idx = np.argmin(((rolled - curr_sig_avg).abs()))\n",
    "        sig_gene_ctrl_genes = rolled.iloc[(min_val_idx - ctrl_size + 1):min_val_idx + 1]\n",
    "        control_genes.append(list(sig_gene_ctrl_genes.index))\n",
    "    \n",
    "    \n",
    "    list_scores_per_sig_genes = []\n",
    "    for sig_gene, ctrl_genes in zip(gene_list,control_genes):\n",
    "        curr_score = adata[:,sig_gene].X - adata[:,ctrl_genes].X.mean(axis=1)\n",
    "        curr_score = (curr_score-curr_score.min())/(curr_score.max()-curr_score.min())\n",
    "#         curr_score = np.tanh(curr_score)\n",
    "        list_scores_per_sig_genes.append(pd.DataFrame\n",
    "                                         (curr_score,\n",
    "                                          index=adata.obs_names,\n",
    "                                          columns=[sig_gene+'_score']))\n",
    "    df_signature_scores = pd.concat(list_scores_per_sig_genes, axis=1)\n",
    "    \n",
    "    \n",
    "    columns_titles = df_signature_scores.columns.tolist()\n",
    "    columns_titles.sort()\n",
    "    df_signature_scores=df_signature_scores.reindex(columns=columns_titles)\n",
    "    df_signature_scores['final_score_mean'] = df_signature_scores.mean(axis=1)\n",
    "    df_signature_scores['final_score_median'] = df_signature_scores.median(axis=1)\n",
    "    df_signature_scores['celltype'] = adata.obs['celltype']\n",
    "    df_signature_scores['celltype_broad'] = adata.obs['celltype_broad']\n",
    "    df_signature_scores['celltype_broader'] = adata.obs['celltype_broader']\n",
    "    return df_signature_scores"
   ]
  },
  {
   "cell_type": "code",
   "execution_count": null,
   "id": "512fbca4",
   "metadata": {
    "pycharm": {
     "name": "#%%\n"
    }
   },
   "outputs": [],
   "source": [
    "from pandas.api.types import is_numeric_dtype\n",
    "\n",
    "def plot_heatmap_with_celltype_anno(df, label_col, palette=\"tab10\", bbox_to_anchor=(0.16,0.79),cat_title = 'celltypes',apply_tanh=False):\n",
    "    if label_col not in df:\n",
    "        raise KeyError(f'labelcol={label_col} is not a column of df')\n",
    "        \n",
    "    lut = dict(zip(df[label_col].unique(), sns.color_palette(palette)))\n",
    "    \n",
    "    row_colors = pd.DataFrame(df[label_col])[label_col].astype(str).map(lut)\n",
    "    \n",
    "    counts = dict(df[label_col].value_counts())\n",
    "    \n",
    "    categories = counts.keys()\n",
    "    \n",
    "    handles = [Patch(color=lut[category],label=category+' (%i)'%counts[category]) for category in sorted(categories)]\n",
    "    \n",
    "    tmp = df.sort_values(by=[label_col,'final_score_mean'])\n",
    "    tmp = tmp[[x for x in tmp.columns if (x!= label_col) and  (is_numeric_dtype(tmp[x]))]]\n",
    "    if apply_tanh:\n",
    "        tmp = np.tanh(tmp)\n",
    "    g = sns.clustermap(tmp, \n",
    "                   row_colors=row_colors, \n",
    "                   row_cluster=False, \n",
    "                   col_cluster=False,\n",
    "                   figsize=(50,30),\n",
    "                   cmap=\"viridis\",\n",
    "                   cbar_pos=(0.1, .1, .03, .6))\n",
    "    legend = g.fig.legend(handles=handles,title='celltypes',bbox_to_anchor=(0.16,0.79),loc='center right',bbox_transform=g.fig.transFigure,borderaxespad=0.,fontsize=18,title_fontsize=20,ncol=1)\n",
    "    g.ax_heatmap.set_title(f'Scored for each gene in hallmark_emt signature.', fontsize=22)"
   ]
  },
  {
   "cell_type": "code",
   "execution_count": null,
   "id": "ee2956ab",
   "metadata": {
    "pycharm": {
     "name": "#%%\n"
    }
   },
   "outputs": [],
   "source": [
    "genes_to_potentially_add_scores = get_scores_for_all_sig_genes(orig_adata, list(genes_to_potentially_add))"
   ]
  },
  {
   "cell_type": "code",
   "execution_count": null,
   "id": "e84a8523",
   "metadata": {
    "pycharm": {
     "name": "#%%\n"
    }
   },
   "outputs": [],
   "source": [
    "genes = []\n",
    "pvals_cancer_emt_caf = []\n",
    "pvals_cancer_emt_cancer = []\n",
    "pvals_cancer_emt_rest = []\n",
    "pvals_cancer_rest = []\n",
    "pvals_caf_rest = []\n",
    "for col in tqdm(genes_to_potentially_add_scores.columns):\n",
    "    if is_numeric_dtype(genes_to_potentially_add_scores[col]) and ('final' not in col):        \n",
    "        caf_scores = genes_to_potentially_add_scores[col][genes_to_potentially_add_scores['celltype_broad']=='Fibroblasts']\n",
    "        epi_emt_scores = genes_to_potentially_add_scores[col][genes_to_potentially_add_scores['celltype_broad']=='Epi']\n",
    "        epi_non_emt_scores = genes_to_potentially_add_scores[col][genes_to_potentially_add_scores['celltype_broad']=='Epi non Mes']\n",
    "        rest_scores = genes_to_potentially_add_scores[col][genes_to_potentially_add_scores['celltype_broad']=='rest']\n",
    "        \n",
    "        \n",
    "        genes.append(col)\n",
    "        pvals_cancer_emt_caf.append(mannwhitneyu(epi_emt_scores, caf_scores, alternative= 'greater').pvalue)\n",
    "        pvals_cancer_emt_cancer.append(mannwhitneyu(epi_emt_scores, epi_non_emt_scores, alternative= 'greater').pvalue)\n",
    "        pvals_cancer_emt_rest.append(mannwhitneyu(epi_emt_scores, rest_scores, alternative= 'greater').pvalue)"
   ]
  },
  {
   "cell_type": "code",
   "execution_count": null,
   "id": "38d2c032",
   "metadata": {
    "pycharm": {
     "name": "#%%\n"
    }
   },
   "outputs": [],
   "source": [
    "gene_cancer_emt_sig_larger_cafs = multipletests(pvals_cancer_emt_caf, alpha=1e-5,method='fdr_bh')[0].tolist()\n",
    "gene_cancer_emt_sig_larger_cafs = [x[0].split('_')[0] for x in zip(genes, gene_cancer_emt_sig_larger_cafs) if x[1]]"
   ]
  },
  {
   "cell_type": "code",
   "execution_count": null,
   "id": "4d602cff",
   "metadata": {
    "pycharm": {
     "name": "#%%\n"
    }
   },
   "outputs": [],
   "source": [
    "gene_cancer_emt_sig_larger_cancer = multipletests(pvals_cancer_emt_cancer, alpha=1e-5,method='fdr_bh')[0].tolist()\n",
    "gene_cancer_emt_sig_larger_cancer = [x[0].split('_')[0] for x in zip(genes, gene_cancer_emt_sig_larger_cancer) if x[1]]"
   ]
  },
  {
   "cell_type": "code",
   "execution_count": null,
   "id": "f91d6a0d",
   "metadata": {
    "pycharm": {
     "name": "#%%\n"
    }
   },
   "outputs": [],
   "source": [
    "gene_cancer_emt_sig_larger_rest = multipletests(pvals_cancer_emt_rest, alpha=1e-5,method='fdr_bh')[0].tolist()\n",
    "gene_cancer_emt_sig_larger_rest = [x[0].split('_')[0] for x in zip(genes, gene_cancer_emt_sig_larger_rest) if x[1]]"
   ]
  },
  {
   "cell_type": "code",
   "execution_count": null,
   "id": "d9c14fbb",
   "metadata": {
    "pycharm": {
     "name": "#%%\n"
    }
   },
   "outputs": [],
   "source": [
    "venn3(\n",
    "subsets=(\n",
    "    set(gene_cancer_emt_sig_larger_cafs),\n",
    "    set(gene_cancer_emt_sig_larger_cancer),\n",
    "    set(gene_cancer_emt_sig_larger_rest)\n",
    "),\n",
    "set_labels=(\n",
    "    'gene_cancer_emt_sig_larger_cafs',\n",
    "    'gene_cancer_emt_sig_larger_cancer',\n",
    "    'gene_cancer_emt_sig_larger_rest'\n",
    ")\n",
    ")\n",
    "if save:\n",
    "    curr_path = os.path.join(storing_path, 'plots')\n",
    "    if not os.path.exists(curr_path):\n",
    "        os.makedirs(curr_path)\n",
    "    plt.savefig(os.path.join(curr_path, f'venn_dgex_genes_mal_emt_vs_caf_mal_to_add.png'), dpi=600)"
   ]
  },
  {
   "cell_type": "code",
   "execution_count": null,
   "id": "0e3f9cf1",
   "metadata": {
    "pycharm": {
     "name": "#%%\n"
    }
   },
   "outputs": [],
   "source": [
    "refined_sig = (set(gene_cancer_emt_sig_larger_cafs).intersection(\n",
    "    set(gene_cancer_emt_sig_larger_cancer)\n",
    ").intersection(\n",
    "    set(gene_cancer_emt_sig_larger_rest)\n",
    ")).union(set(new_dge_genes_cancer_emt_vs_caf_and_cancer))\n",
    "    "
   ]
  },
  {
   "cell_type": "code",
   "execution_count": null,
   "id": "d2cf12d5",
   "metadata": {
    "pycharm": {
     "name": "#%%\n"
    }
   },
   "outputs": [],
   "source": [
    "# refined_sig = set(gene_cancer_emt_sig_larger_cafs).intersection(set(gene_cancer_emt_sig_larger_cancer)).union(set(new_dge_genes_cancer_emt_vs_caf_and_cancer))"
   ]
  },
  {
   "cell_type": "code",
   "execution_count": null,
   "id": "272b3985",
   "metadata": {
    "pycharm": {
     "name": "#%%\n"
    }
   },
   "outputs": [],
   "source": [
    "score_signature(method=\"adjusted_neighborhood_scoring\",\n",
    "                adata=orig_adata,\n",
    "                gene_list=refined_sig,\n",
    "                ctrl_size=100,\n",
    "                score_name='refined_sig'\n",
    "                )"
   ]
  },
  {
   "cell_type": "code",
   "execution_count": null,
   "id": "da06b807",
   "metadata": {
    "pycharm": {
     "name": "#%%\n"
    }
   },
   "outputs": [],
   "source": [
    "sc.pl.violin(orig_adata, keys=['hallmark_emt_scores','dge_genes_cancer_emt_vs_caf_and_cancer','new_dge_genes_cancer_emt_vs_caf_and_cancer','refined_sig'], groupby='celltype_broader', rotation=90, show=False)\n",
    "plt.gcf().tight_layout();\n",
    "if save:\n",
    "    curr_path = os.path.join(storing_path, 'plots')\n",
    "    if not os.path.exists(curr_path):\n",
    "        os.makedirs(curr_path)\n",
    "    plt.savefig(os.path.join(curr_path, f'violin_plot_approach_3.svg'), dpi=600)\n",
    "plt.show()"
   ]
  },
  {
   "cell_type": "code",
   "execution_count": null,
   "id": "b6132035",
   "metadata": {
    "pycharm": {
     "name": "#%%\n"
    }
   },
   "outputs": [],
   "source": [
    "with rc_context({'figure.figsize': (10,6)}):\n",
    "    for group in orig_adata.obs.groupby(by='celltype_broader'):\n",
    "        group[1].new_dge_genes_cancer_emt_vs_caf_and_cancer.hist(bins=100, alpha=0.5, density=True, label=group[0])\n",
    "    plt.legend()\n",
    "    plt.title('new_dge_genes_cancer_emt_vs_caf_and_cancer')\n",
    "    if save:\n",
    "        curr_path = os.path.join(storing_path, 'plots')\n",
    "        if not os.path.exists(curr_path):\n",
    "            os.makedirs(curr_path)\n",
    "        plt.savefig(os.path.join(curr_path, f'dist_scores_new_dge_genes_cancer_emt_vs_caf_and_cancer.png'), dpi=600)"
   ]
  },
  {
   "cell_type": "code",
   "execution_count": null,
   "id": "e14aa0c2",
   "metadata": {
    "pycharm": {
     "name": "#%%\n"
    }
   },
   "outputs": [],
   "source": [
    "with rc_context({'figure.figsize': (10,6)}):\n",
    "    for group in orig_adata.obs.groupby(by='celltype_broader'):\n",
    "        group[1].refined_sig.hist(bins=100, alpha=0.5, density=True, label=group[0])\n",
    "    plt.legend()\n",
    "    plt.title('refined_sig')\n",
    "    if save:\n",
    "        curr_path = os.path.join(storing_path, 'plots')\n",
    "        if not os.path.exists(curr_path):\n",
    "            os.makedirs(curr_path)\n",
    "        plt.savefig(os.path.join(curr_path, f'dist_scores_refined_sig.png'), dpi=600)"
   ]
  },
  {
   "cell_type": "code",
   "execution_count": null,
   "id": "f198ef2c",
   "metadata": {
    "pycharm": {
     "name": "#%%\n"
    }
   },
   "outputs": [],
   "source": [
    "COL='new_dge_genes_cancer_emt_vs_caf_and_cancer' \n",
    "quant = 0.95\n",
    "with rc_context({'figure.figsize': (6,6)}):\n",
    "    orig_adata.obs[COL].hist(bins=100)\n",
    "    \n",
    "    quantile_85 = orig_adata.obs[COL].quantile(quant)\n",
    "    plt.axvline(quantile_85, c='r', label=f'{quant} quantile')\n",
    "    \n",
    "    vals = get_nr_cells_over_quantile(orig_adata, score_col = COL, quant=quant, celltype_col = 'celltype_broader')\n",
    "    title = f\"Distribution scores for {COL} scores.\\nCutoff {quant} quantile (={round(quantile_85, 2)}) \"\n",
    "    for row in vals.items():\n",
    "        title +=f'\\n{row[0]}: {row[1][0]}/{row[1][1]} ({round(row[1][0]/row[1][1]*100, 3)}%)'\n",
    "    plt.title(title)\n",
    "    plt.tight_layout()\n",
    "    if save:\n",
    "        curr_path = os.path.join(storing_path, 'plots')\n",
    "        if not os.path.exists(curr_path):\n",
    "            os.makedirs(curr_path)\n",
    "        plt.savefig(os.path.join(curr_path, f'dist_scores_new_dge_genes_cancer_emt_vs_caf_and_cancer_quant.png'), dpi=600)\n",
    "\n",
    "plt.show()\n",
    "\n",
    "COL='refined_sig' \n",
    "quant = 0.95\n",
    "with rc_context({'figure.figsize': (6,6)}):\n",
    "    orig_adata.obs[COL].hist(bins=100)\n",
    "    \n",
    "    quantile_85 = orig_adata.obs[COL].quantile(quant)\n",
    "    plt.axvline(quantile_85, c='r', label=f'{quant} quantile')\n",
    "    \n",
    "    vals = get_nr_cells_over_quantile(orig_adata, score_col = COL, quant=quant, celltype_col = 'celltype_broader')\n",
    "    title = f\"Distribution scores for {COL} scores.\\nCutoff {quant} quantile (={round(quantile_85, 2)}) \"\n",
    "    for row in vals.items():\n",
    "        title +=f'\\n{row[0]}: {row[1][0]}/{row[1][1]} ({round(row[1][0]/row[1][1]*100, 3)}%)'\n",
    "    plt.title(title)\n",
    "    plt.tight_layout()\n",
    "    if save:\n",
    "        curr_path = os.path.join(storing_path, 'plots')\n",
    "        if not os.path.exists(curr_path):\n",
    "            os.makedirs(curr_path)\n",
    "        plt.savefig(os.path.join(curr_path, f'dist_scores_refined_sig_quant.png'), dpi=600)"
   ]
  },
  {
   "cell_type": "code",
   "execution_count": null,
   "id": "3c1e015c",
   "metadata": {
    "pycharm": {
     "name": "#%%\n"
    }
   },
   "outputs": [],
   "source": [
    "quant_refined_sig = orig_adata.obs['refined_sig'].quantile(0.96)"
   ]
  },
  {
   "cell_type": "code",
   "execution_count": null,
   "id": "b020b6c0",
   "metadata": {
    "pycharm": {
     "name": "#%%\n"
    }
   },
   "outputs": [],
   "source": [
    "orig_adata.obs[orig_adata.obs['refined_sig']>quant_refined_sig].celltype_broader.value_counts()"
   ]
  },
  {
   "cell_type": "code",
   "execution_count": null,
   "id": "67c1e874",
   "metadata": {
    "pycharm": {
     "name": "#%%\n"
    }
   },
   "outputs": [],
   "source": [
    "quant_some_new_dge = orig_adata.obs['new_dge_genes_cancer_emt_vs_caf_and_cancer'].quantile(0.96)"
   ]
  },
  {
   "cell_type": "code",
   "execution_count": null,
   "id": "9d8e2b09",
   "metadata": {
    "pycharm": {
     "name": "#%%\n"
    }
   },
   "outputs": [],
   "source": [
    "orig_adata.obs[orig_adata.obs['new_dge_genes_cancer_emt_vs_caf_and_cancer']>quant_some_new_dge].celltype_broader.value_counts()"
   ]
  },
  {
   "cell_type": "code",
   "execution_count": null,
   "id": "328299b5",
   "metadata": {
    "pycharm": {
     "name": "#%%\n"
    }
   },
   "outputs": [],
   "source": [
    "with rc_context({'figure.figsize': (8,8)}):\n",
    "    umap_celltypes = sc.pl.umap(orig_adata,\n",
    "                            color=['hallmark_emt_scores','dge_genes_cancer_emt_vs_caf_and_cancer','new_dge_genes_cancer_emt_vs_caf_and_cancer','refined_sig', 'celltype_broader'],\n",
    "                            ncols=3,\n",
    "                            return_fig=True,\n",
    "                            color_map = 'viridis'\n",
    "                            )\n",
    "    if save:\n",
    "        curr_path = os.path.join(storing_path, 'plots')\n",
    "        if not os.path.exists(curr_path):\n",
    "            os.makedirs(curr_path)\n",
    "        umap_celltypes.savefig(os.path.join(curr_path, f'umap_celltypes.png'), dpi=600)"
   ]
  },
  {
   "cell_type": "markdown",
   "id": "1ba3cc97",
   "metadata": {},
   "source": [
    "### Store signatures "
   ]
  },
  {
   "cell_type": "code",
   "execution_count": null,
   "id": "c2da2096",
   "metadata": {},
   "outputs": [],
   "source": [
    "len(new_dge_genes_cancer_emt_vs_caf_and_cancer),len(refined_sig)"
   ]
  },
  {
   "cell_type": "code",
   "execution_count": null,
   "id": "3bd878a6",
   "metadata": {
    "pycharm": {
     "name": "#%%\n"
    }
   },
   "outputs": [],
   "source": [
    "if save:\n",
    "    pd.Series(list(new_dge_genes_cancer_emt_vs_caf_and_cancer)).to_csv(os.path.join(storing_path, 'ESOPHAG_CANCER_EMT_SIGNATURE_1.csv'))\n",
    "    pd.Series(list(refined_sig)).to_csv(os.path.join(storing_path, 'ESOPHAG_CANCER_EMT_SIGNATURE_2.csv'))"
   ]
  },
  {
   "cell_type": "code",
   "execution_count": null,
   "id": "1fb62f32",
   "metadata": {},
   "outputs": [],
   "source": []
  }
 ],
 "metadata": {
  "kernelspec": {
   "display_name": "Python 3 (ipykernel)",
   "language": "python",
   "name": "python3"
  },
  "language_info": {
   "codemirror_mode": {
    "name": "ipython",
    "version": 3
   },
   "file_extension": ".py",
   "mimetype": "text/x-python",
   "name": "python",
   "nbconvert_exporter": "python",
   "pygments_lexer": "ipython3",
   "version": "3.8.12"
  }
 },
 "nbformat": 4,
 "nbformat_minor": 5
}
