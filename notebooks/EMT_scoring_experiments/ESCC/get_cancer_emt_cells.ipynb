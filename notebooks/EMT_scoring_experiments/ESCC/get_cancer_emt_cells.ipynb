{
 "cells": [
  {
   "cell_type": "markdown",
   "id": "a56d10f5",
   "metadata": {
    "pycharm": {
     "name": "#%% md\n"
    }
   },
   "source": [
    "## Get cancer EMT cells from ESCC\n",
    "The goal of this jupyter notebook is to get all malignant cells from ESCC that are in EMT, i.e., that express epithelial markers as well as mesenchymal markers. \n",
    "\n",
    "We test two approaches:\n",
    "1. Score the entire dataset for the mesenchymal signature and then analyze the scores for the malignant cells\n",
    "2. Score only on malignant cells and analze their scores"
   ]
  },
  {
   "cell_type": "code",
   "execution_count": null,
   "id": "b76c09fa",
   "metadata": {
    "pycharm": {
     "name": "#%%\n"
    }
   },
   "outputs": [],
   "source": [
    "from IPython.display import display, HTML\n",
    "display(HTML(\"<style>.container { width:90% !important; }</style>\"))"
   ]
  },
  {
   "cell_type": "code",
   "execution_count": null,
   "id": "e609dccf",
   "metadata": {
    "pycharm": {
     "name": "#%%\n"
    }
   },
   "outputs": [],
   "source": [
    "import os \n",
    "import sys \n",
    "\n",
    "\n",
    "import pandas as pd\n",
    "import numpy as np\n",
    "import scanpy as sc\n",
    "import matplotlib.pyplot as plt\n",
    "from matplotlib_venn import venn2\n",
    "\n",
    "import scipy\n",
    "\n",
    "sys.path.append('../../..')\n",
    "from data.load_data import load_datasets\n",
    "from data.constants import BASE_PATH_DATA, BASE_PATH_EXPERIMENTS\n",
    "\n",
    "from signaturescoring import score_signature"
   ]
  },
  {
   "cell_type": "code",
   "execution_count": null,
   "id": "8d31eac4",
   "metadata": {},
   "outputs": [],
   "source": [
    "plt.rcParams.update({'pdf.fonttype':42, 'font.family':'sans-serif', 'font.sans-serif':'Arial', 'font.size':14})"
   ]
  },
  {
   "cell_type": "code",
   "execution_count": null,
   "id": "5cc3fe1c",
   "metadata": {},
   "outputs": [],
   "source": [
    "save = True"
   ]
  },
  {
   "cell_type": "code",
   "execution_count": null,
   "id": "6e7d1256",
   "metadata": {},
   "outputs": [],
   "source": [
    "storing_path = os.path.join(BASE_PATH_EXPERIMENTS, 'EMT_signature_scoring_case_study/escc')"
   ]
  },
  {
   "cell_type": "code",
   "execution_count": null,
   "id": "ce4090e4",
   "metadata": {},
   "outputs": [],
   "source": [
    "adata = load_datasets('escc', preprocessed=True, norm_method='mean')\n",
    "if 'log1p' in adata.uns_keys():\n",
    "    adata.uns['log1p']['base'] = None\n",
    "else:\n",
    "    adata.uns['log1p'] = {'base': None}"
   ]
  },
  {
   "cell_type": "code",
   "execution_count": null,
   "id": "f12bae7e",
   "metadata": {},
   "outputs": [],
   "source": [
    "sc.tl.pca(adata)\n",
    "sc.pp.neighbors(adata)\n",
    "sc.tl.umap(adata)"
   ]
  },
  {
   "cell_type": "code",
   "execution_count": null,
   "id": "fca8c366",
   "metadata": {},
   "outputs": [],
   "source": [
    "mes_sig = pd.read_csv(os.path.join(BASE_PATH_DATA,'annotations/escc/genesig_Mes.csv')).Mes.tolist()"
   ]
  },
  {
   "cell_type": "markdown",
   "id": "bea10830",
   "metadata": {
    "pycharm": {
     "name": "#%% md\n"
    }
   },
   "source": [
    "### 1. Score on entire dataset and get cancer emt barcodes "
   ]
  },
  {
   "cell_type": "code",
   "execution_count": null,
   "id": "fe844cc6",
   "metadata": {
    "pycharm": {
     "name": "#%%\n"
    }
   },
   "outputs": [],
   "source": [
    "score_signature(method=\"adjusted_neighborhood_scoring\",\n",
    "                adata=adata,\n",
    "                gene_list=mes_sig,\n",
    "                ctrl_size=100,\n",
    "                score_name='mes_sig'\n",
    "                )"
   ]
  },
  {
   "cell_type": "code",
   "execution_count": null,
   "id": "d64bb9b0",
   "metadata": {
    "pycharm": {
     "name": "#%%\n"
    }
   },
   "outputs": [],
   "source": [
    "mal_cells = adata[adata.obs.malignant_key =='malignant', :].copy()"
   ]
  },
  {
   "cell_type": "code",
   "execution_count": null,
   "id": "a1dd7e46",
   "metadata": {
    "pycharm": {
     "name": "#%%\n"
    }
   },
   "outputs": [],
   "source": [
    "plt.rcParams.update({'pdf.fonttype':42, 'font.family':'sans-serif', 'font.sans-serif':'Arial', 'font.size':14})\n",
    "quantile_cutoff = 0.9\n",
    "\n",
    "nr_above_thresh  = len(mal_cells.obs.mes_sig[mal_cells.obs.mes_sig>=mal_cells.obs.mes_sig.quantile\n",
    "(quantile_cutoff)])\n",
    "\n",
    "mal_cells.obs.mes_sig.hist(bins=100)\n",
    "plt.axvline(mal_cells.obs.mes_sig.quantile(quantile_cutoff), label=f'{quantile_cutoff} quantile', c='r')\n",
    "plt.title(f'Distribution Mes scores (on all data),\\n{nr_above_thresh} cells above {quantile_cutoff} quantile')\n",
    "plt.legend()\n",
    "if save:\n",
    "    curr_path = os.path.join(storing_path, 'cancer_emt_barcode_selection')\n",
    "    if not os.path.exists(curr_path):\n",
    "        os.makedirs(curr_path)\n",
    "    plt.savefig(os.path.join(curr_path, f'dist_scores_on_all_data_w_quant.png'))"
   ]
  },
  {
   "cell_type": "code",
   "execution_count": null,
   "id": "731d826e",
   "metadata": {
    "pycharm": {
     "name": "#%%\n"
    }
   },
   "outputs": [],
   "source": [
    "mal_sig_above_quant_1 = mal_cells.obs.mes_sig[mal_cells.obs.mes_sig>=mal_cells.obs.mes_sig.quantile\n",
    "(quantile_cutoff)].index.to_list()"
   ]
  },
  {
   "cell_type": "markdown",
   "id": "fc0e4aee",
   "metadata": {
    "pycharm": {
     "name": "#%% md\n"
    }
   },
   "source": [
    "### 2. Score on cancer cells only and get cancer emt barcodes "
   ]
  },
  {
   "cell_type": "code",
   "execution_count": null,
   "id": "04b0a21d",
   "metadata": {
    "pycharm": {
     "name": "#%%\n"
    }
   },
   "outputs": [],
   "source": [
    "score_signature(method=\"adjusted_neighborhood_scoring\",\n",
    "                adata=mal_cells,\n",
    "                gene_list=mes_sig,\n",
    "                ctrl_size=100,\n",
    "                score_name='mes_sig_mal_cells'\n",
    "                )"
   ]
  },
  {
   "cell_type": "code",
   "execution_count": null,
   "id": "4abe8b1d",
   "metadata": {
    "pycharm": {
     "name": "#%%\n"
    }
   },
   "outputs": [],
   "source": [
    "plt.rcParams.update({'pdf.fonttype':42, 'font.family':'sans-serif', 'font.sans-serif':'Arial', 'font.size':14})\n",
    "quantile_cutoff = 0.9\n",
    "\n",
    "nr_above_thresh  = len(mal_cells.obs.mes_sig_mal_cells[mal_cells.obs.mes_sig_mal_cells>=mal_cells.obs.mes_sig_mal_cells.quantile\n",
    "(quantile_cutoff)])\n",
    "\n",
    "mal_cells.obs.mes_sig_mal_cells.hist(bins=100)\n",
    "plt.axvline(mal_cells.obs.mes_sig_mal_cells.quantile(quantile_cutoff), label=f'{quantile_cutoff} quantile', c='r')\n",
    "plt.title(f'Distribution Mes scores (only on malignant cells),\\n{nr_above_thresh} cells above {quantile_cutoff} quantile')\n",
    "plt.legend()\n",
    "if save:\n",
    "    curr_path = os.path.join(storing_path, 'cancer_emt_barcode_selection')\n",
    "    if not os.path.exists(curr_path):\n",
    "        os.makedirs(curr_path)\n",
    "    plt.savefig(os.path.join(curr_path, f'dist_scores_on_malig_cells_w_quant.png'))"
   ]
  },
  {
   "cell_type": "code",
   "execution_count": null,
   "id": "9b81d42a",
   "metadata": {
    "pycharm": {
     "name": "#%%\n"
    }
   },
   "outputs": [],
   "source": [
    "mal_sig_above_quant_2 = mal_cells.obs.mes_sig_mal_cells[mal_cells.obs.mes_sig_mal_cells>=mal_cells.obs.mes_sig_mal_cells.quantile\n",
    "(quantile_cutoff)].index.to_list()"
   ]
  },
  {
   "cell_type": "markdown",
   "id": "27781de6",
   "metadata": {
    "pycharm": {
     "name": "#%% md\n"
    }
   },
   "source": [
    "### Compare barcodes "
   ]
  },
  {
   "cell_type": "code",
   "execution_count": null,
   "id": "7da3f7ad",
   "metadata": {
    "pycharm": {
     "name": "#%%\n"
    }
   },
   "outputs": [],
   "source": [
    "mal_cells.obs['diff'] = np.abs(mal_cells.obs.mes_sig_mal_cells-mal_cells.obs.mes_sig)"
   ]
  },
  {
   "cell_type": "code",
   "execution_count": null,
   "id": "be62c3f4",
   "metadata": {
    "pycharm": {
     "name": "#%%\n"
    }
   },
   "outputs": [],
   "source": [
    "mal_cells.obs[['mes_sig', 'mes_sig_mal_cells','diff']].describe()"
   ]
  },
  {
   "cell_type": "code",
   "execution_count": null,
   "id": "751134fb",
   "metadata": {
    "pycharm": {
     "name": "#%%\n"
    }
   },
   "outputs": [],
   "source": [
    "mal_cells.obs[['mes_sig', 'mes_sig_mal_cells','diff']].hist()"
   ]
  },
  {
   "cell_type": "code",
   "execution_count": null,
   "id": "31e261cc",
   "metadata": {
    "pycharm": {
     "name": "#%%\n"
    }
   },
   "outputs": [],
   "source": [
    "plt.rcParams.update({'pdf.fonttype':42, 'font.family':'sans-serif', 'font.sans-serif':'Arial', 'font.size':14})\n",
    "mal_cells.obs['mes_sig'].hist(bins=100, alpha=0.5, label='mes_sig scores')\n",
    "mal_cells.obs['mes_sig_mal_cells'].hist(bins=100, alpha=0.5, label='mes_sig_mal_cells')\n",
    "plt.legend()\n",
    "plt.title('Scoring mesenchymal signature\\non all the data vs.only on malignant cells.')\n",
    "if save:\n",
    "    curr_path = os.path.join(storing_path, 'cancer_emt_barcode_selection')\n",
    "    if not os.path.exists(curr_path):\n",
    "        os.makedirs(curr_path)\n",
    "    plt.savefig(os.path.join(curr_path, f'diff_dist_scores_on_all_vs_on_malig_cells.png'))"
   ]
  },
  {
   "cell_type": "code",
   "execution_count": null,
   "id": "210cd8f4",
   "metadata": {
    "pycharm": {
     "name": "#%%\n"
    }
   },
   "outputs": [],
   "source": [
    "\n",
    "scipy.stats.ks_2samp(mal_cells.obs['mes_sig'], mal_cells.obs['mes_sig_mal_cells'], alternative='greater', mode='auto')"
   ]
  },
  {
   "cell_type": "code",
   "execution_count": null,
   "id": "874ad8bd",
   "metadata": {
    "pycharm": {
     "name": "#%%\n"
    }
   },
   "outputs": [],
   "source": [
    "venn2(subsets=(\n",
    "    set(mal_sig_above_quant_1),\n",
    "    set(mal_sig_above_quant_2)\n",
    "    ),\n",
    "     set_labels=(\n",
    "     'mal cells with\\nscore above 0.9 quantile\\non all data',\n",
    "     'mal cells with\\nscore above 0.9 quantile\\non mal cells',\n",
    "     ))\n",
    "if save:\n",
    "    curr_path = os.path.join(storing_path, 'cancer_emt_barcode_selection')\n",
    "    if not os.path.exists(curr_path):\n",
    "        os.makedirs(curr_path)\n",
    "    plt.savefig(os.path.join(curr_path, f'venn_barcodes_selection.png'))"
   ]
  },
  {
   "cell_type": "code",
   "execution_count": null,
   "id": "b4db6c01",
   "metadata": {
    "pycharm": {
     "name": "#%%\n"
    }
   },
   "outputs": [],
   "source": [
    "set_1 = set(mal_sig_above_quant_1).difference(set(mal_sig_above_quant_2))"
   ]
  },
  {
   "cell_type": "code",
   "execution_count": null,
   "id": "df09f9f4",
   "metadata": {
    "pycharm": {
     "name": "#%%\n"
    }
   },
   "outputs": [],
   "source": [
    "set_2 = set(mal_sig_above_quant_2).difference(set(mal_sig_above_quant_1))"
   ]
  },
  {
   "cell_type": "code",
   "execution_count": null,
   "id": "094ac9d8",
   "metadata": {
    "pycharm": {
     "name": "#%%\n"
    }
   },
   "outputs": [],
   "source": [
    "set_3 = set(mal_sig_above_quant_2).intersection(set(mal_sig_above_quant_1))"
   ]
  },
  {
   "cell_type": "code",
   "execution_count": null,
   "id": "5cd8a5dd",
   "metadata": {
    "pycharm": {
     "name": "#%%\n"
    }
   },
   "outputs": [],
   "source": [
    "mal_cells[list(set_1),:].obs.mes_sig.hist(bins=50, alpha=0.5, density=True, label='barcodes from all data')\n",
    "mal_cells[list(set_2),:].obs.mes_sig.hist(bins=50, alpha=0.5, density=True, label='barcodes from cancer data')\n",
    "# mal_cells[list(set_3),:].obs.mes_sig.hist(bins=50, alpha=0.5, density=True, label='barcodes intersection')\n",
    "plt.legend()\n",
    "plt.title(f'distribution scores of scoring on all\\nthe data for nonoverlapping barcodes.')"
   ]
  },
  {
   "cell_type": "code",
   "execution_count": null,
   "id": "bf6ddde9",
   "metadata": {
    "pycharm": {
     "name": "#%%\n"
    }
   },
   "outputs": [],
   "source": [
    "mal_cells[list(set_1),:].obs.mes_sig_mal_cells.hist(bins=50, alpha=0.5, density=True, label='barcodes from all data')\n",
    "mal_cells[list(set_2),:].obs.mes_sig_mal_cells.hist(bins=50, alpha=0.5, density=True, label='barcodes from cancer data')\n",
    "plt.legend()\n",
    "plt.title(f'distribution scores of scoring on malignant cells\\nthe data for nonoverlapping barcodes.')"
   ]
  },
  {
   "cell_type": "markdown",
   "id": "a61192da",
   "metadata": {
    "pycharm": {
     "name": "#%% md\n"
    }
   },
   "source": [
    "### Take the barcodes in the intersection of the two set of barcodes"
   ]
  },
  {
   "cell_type": "code",
   "execution_count": null,
   "id": "2d150015",
   "metadata": {
    "pycharm": {
     "name": "#%%\n"
    }
   },
   "outputs": [],
   "source": [
    "mal_cells_barcodes = list(set(mal_sig_above_quant_2).intersection(set(mal_sig_above_quant_1)))"
   ]
  },
  {
   "cell_type": "code",
   "execution_count": null,
   "id": "846bd94c",
   "metadata": {
    "pycharm": {
     "name": "#%%\n"
    }
   },
   "outputs": [],
   "source": [
    "if save:\n",
    "    pd.Series(mal_cells_barcodes).to_csv(os.path.join(storing_path, 'barcodes_cancer_emt.csv'))"
   ]
  },
  {
   "cell_type": "markdown",
   "id": "8df8e12e",
   "metadata": {},
   "source": [
    "### Get dataset statistics"
   ]
  },
  {
   "cell_type": "code",
   "execution_count": null,
   "id": "391c0bdf",
   "metadata": {},
   "outputs": [],
   "source": [
    "adata.obs['celltype_emt'] = adata.obs.celltype.copy()\n",
    "adata.obs['celltype_emt'] = adata.obs['celltype_emt'].astype(str)\n",
    "adata.obs.loc[adata.obs['celltype_emt']=='Epi', 'celltype_emt']='Malignant'\n",
    "adata.obs['celltype_emt'].value_counts().sort_index()"
   ]
  },
  {
   "cell_type": "code",
   "execution_count": null,
   "id": "1c642b87",
   "metadata": {},
   "outputs": [],
   "source": [
    "adata.obs.loc[mal_cells_barcodes, 'celltype_emt'] = 'Malignant with EMT'\n",
    "adata.obs['celltype_emt'] = adata.obs['celltype_emt'].astype('category')\n",
    "adata.obs['celltype_emt'].value_counts().sort_index()"
   ]
  },
  {
   "cell_type": "code",
   "execution_count": null,
   "id": "a6641dff",
   "metadata": {},
   "outputs": [],
   "source": [
    "adata.obs.columns"
   ]
  },
  {
   "cell_type": "code",
   "execution_count": null,
   "id": "64b8758c",
   "metadata": {},
   "outputs": [],
   "source": [
    "plt.rcParams.update({'pdf.fonttype':42, 'font.family':'sans-serif', 'font.sans-serif':'Arial', 'font.size':14})\n",
    "\n",
    "with plt.rc_context({'figure.figsize':(10,8)}):\n",
    "    umap_fig = sc.pl.umap(adata[adata.obs.celltype.isin(['Malignant', 'Fibroblasts'])], color=['sample_id', 'celltype', 'mes_sig', 'celltype_emt'],return_fig=True,cmap='viridis')\n",
    "    if save:\n",
    "        curr_path = os.path.join(storing_path, 'cancer_emt_barcode_selection')\n",
    "        if not os.path.exists(curr_path):\n",
    "            os.mkdir(curr_path)\n",
    "        umap_fig.savefig(os.path.join(curr_path, f'mal_n_caf_cells_umap_emt_sigs.png'), dpi=600)"
   ]
  },
  {
   "cell_type": "code",
   "execution_count": null,
   "id": "3a6d241d",
   "metadata": {},
   "outputs": [],
   "source": [
    "tmp = adata.obs[['sample_id','celltype_emt']]"
   ]
  },
  {
   "cell_type": "code",
   "execution_count": null,
   "id": "51ad2a84",
   "metadata": {},
   "outputs": [],
   "source": [
    "cross_tab_prop = pd.crosstab(index=tmp['sample_id'],\n",
    "                             columns=tmp['celltype_emt'],\n",
    "                             normalize=\"index\")"
   ]
  },
  {
   "cell_type": "code",
   "execution_count": null,
   "id": "669110c8",
   "metadata": {},
   "outputs": [],
   "source": [
    "cross_tab_prop = cross_tab_prop[['Malignant with EMT','Malignant', 'Fibroblasts', 'Bcells', 'Endothelial', 'FRC',\n",
    "                                 'Myeloid', 'Pericytes', 'Tcells']]\n",
    "round(cross_tab_prop*100,2)"
   ]
  },
  {
   "cell_type": "code",
   "execution_count": null,
   "id": "50dcc84a",
   "metadata": {},
   "outputs": [],
   "source": [
    "plt.rcParams.update({'pdf.fonttype':42, 'font.family':'sans-serif', 'font.sans-serif':'Arial', 'font.size':14})\n",
    "\n",
    "cross_tab_prop.plot(kind='bar', \n",
    "                    stacked=True, \n",
    "                    colormap='tab20', \n",
    "                    figsize=(15, 8))\n",
    "plt.legend(loc='center left',bbox_to_anchor=(1.0, 0.5),ncol=1)\n",
    "plt.xlabel(\"Sample ID\")\n",
    "plt.ylabel(\"Proportions\")\n",
    "plt.show()\n",
    "\n",
    "if save:\n",
    "    curr_path = os.path.join(storing_path, 'proportions')\n",
    "    if not os.path.exists(curr_path):\n",
    "        os.mkdir(curr_path)\n",
    "    plt.savefig(os.path.join(curr_path, f'distribution_celltypes.png'), dpi=600)\n",
    "    cross_tab_prop.to_csv(os.path.join(curr_path, f'proportions_celltype.csv'))"
   ]
  },
  {
   "cell_type": "code",
   "execution_count": null,
   "id": "5104eaee",
   "metadata": {},
   "outputs": [],
   "source": [
    "prop_counts = pd.crosstab(index=tmp['sample_id'],\n",
    "            columns=tmp['celltype_emt'],)\n",
    "prop_counts = prop_counts[['Malignant with EMT','Malignant', 'Fibroblasts', 'Bcells', 'Endothelial', 'FRC',\n",
    "                                 'Myeloid', 'Pericytes', 'Tcells']]\n",
    "if save:\n",
    "    curr_path = os.path.join(storing_path, 'proportions')\n",
    "    if not os.path.exists(curr_path):\n",
    "        os.mkdir(curr_path)\n",
    "    prop_counts.to_csv(os.path.join(curr_path, f'counts_celltype.csv'))\n",
    "prop_counts"
   ]
  },
  {
   "cell_type": "markdown",
   "id": "eb180ef4",
   "metadata": {
    "pycharm": {
     "name": "#%% md\n"
    }
   },
   "source": [
    "### Take barcodes from fibroblasts and concatenate with them from cancer EMT cells"
   ]
  },
  {
   "cell_type": "code",
   "execution_count": null,
   "id": "36faa625",
   "metadata": {
    "pycharm": {
     "name": "#%%\n"
    }
   },
   "outputs": [],
   "source": [
    "# caf_barcodes = adata.obs[adata.obs.celltype=='Fibroblasts'].index.to_list()"
   ]
  },
  {
   "cell_type": "code",
   "execution_count": null,
   "id": "c17a191f",
   "metadata": {
    "pycharm": {
     "name": "#%%\n"
    }
   },
   "outputs": [],
   "source": [
    "#  mal_cells_barcodes + caf_barcodes"
   ]
  }
 ],
 "metadata": {
  "kernelspec": {
   "display_name": "Python 3 (ipykernel)",
   "language": "python",
   "name": "python3"
  },
  "language_info": {
   "codemirror_mode": {
    "name": "ipython",
    "version": 3
   },
   "file_extension": ".py",
   "mimetype": "text/x-python",
   "name": "python",
   "nbconvert_exporter": "python",
   "pygments_lexer": "ipython3",
   "version": "3.8.12"
  }
 },
 "nbformat": 4,
 "nbformat_minor": 5
}
