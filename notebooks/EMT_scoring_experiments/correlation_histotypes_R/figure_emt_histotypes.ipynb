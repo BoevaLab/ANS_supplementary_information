{
 "cells": [
  {
   "cell_type": "code",
   "execution_count": null,
   "metadata": {},
   "outputs": [],
   "source": [
    "import os\n",
    "import sys\n",
    "import numpy as np\n",
    "import pandas as pd\n",
    "import seaborn as sns\n",
    "import matplotlib\n",
    "import matplotlib.pyplot as plt\n",
    "\n",
    "sys.path.append('../../..')\n",
    "from data.constants import BASE_PATH_EXPERIMENTS"
   ]
  },
  {
   "cell_type": "code",
   "execution_count": null,
   "metadata": {},
   "outputs": [],
   "source": [
    "base_path = os.path.join(BASE_PATH_EXPERIMENTS, 'EMT_signature_scoring_case_study/results/correlation_with_histotype')\n",
    "df = pd.read_csv(os.path.join(base_path, 'EMT_histotype.txt'), sep='\\t')"
   ]
  },
  {
   "cell_type": "code",
   "execution_count": null,
   "metadata": {},
   "outputs": [],
   "source": [
    "df['-log10_adj_pval'] = -np.log10(df.padjusted)"
   ]
  },
  {
   "cell_type": "code",
   "execution_count": null,
   "metadata": {},
   "outputs": [],
   "source": [
    "alpha=0.05"
   ]
  },
  {
   "cell_type": "code",
   "execution_count": null,
   "metadata": {},
   "outputs": [],
   "source": [
    "df.sort_values(by='-log10_adj_pval', inplace=True, ascending=False)"
   ]
  },
  {
   "cell_type": "code",
   "execution_count": null,
   "metadata": {},
   "outputs": [],
   "source": [
    "cutoff = (-1)*np.log10(alpha)"
   ]
  },
  {
   "cell_type": "code",
   "execution_count": null,
   "metadata": {},
   "outputs": [],
   "source": [
    "df"
   ]
  },
  {
   "cell_type": "code",
   "execution_count": null,
   "metadata": {},
   "outputs": [],
   "source": [
    "sns.set_style('ticks')"
   ]
  },
  {
   "cell_type": "code",
   "execution_count": null,
   "metadata": {},
   "outputs": [],
   "source": [
    "matplotlib.rcParams['font.family'] = 'Arial'\n",
    "\n",
    "ax = sns.catplot(data=df,\n",
    "            x='cancer',\n",
    "            y='-log10_adj_pval',\n",
    "            height=4,\n",
    "            aspect=1.75,\n",
    "            palette='tab10',\n",
    "            s=9\n",
    "            )\n",
    "\n",
    "plt.axhline(y=cutoff, color='black', linestyle=':', label=f'- log10({alpha})')\n",
    "ax.set_xlabels('TCGA cancer type', fontsize=16)\n",
    "ax.set_ylabels('-log10(q-value)', fontsize=16)\n",
    "ax.set_xticklabels(rotation=90, fontsize=14)\n",
    "ax.set_yticklabels(fontsize=14)\n",
    "plt.legend(fontsize=14)\n",
    "plt.title('Association with histological type', fontsize=16);\n",
    "plt.tight_layout()\n",
    "plt.savefig(os.path.join(base_path, 'emt_histotype_dots.pdf'), format='pdf')\n"
   ]
  },
  {
   "cell_type": "code",
   "execution_count": null,
   "metadata": {},
   "outputs": [],
   "source": [
    "df.sort_values(by='cancer', inplace=True)"
   ]
  },
  {
   "cell_type": "code",
   "execution_count": null,
   "metadata": {},
   "outputs": [],
   "source": [
    "df['-log10_adj_pval_zeroed'] = df['-log10_adj_pval'].copy()\n",
    "df.loc[df.padjusted>alpha, '-log10_adj_pval_zeroed'] = 0"
   ]
  },
  {
   "cell_type": "code",
   "execution_count": null,
   "metadata": {},
   "outputs": [],
   "source": [
    "df.set_index('cancer', inplace=True)"
   ]
  },
  {
   "cell_type": "code",
   "execution_count": null,
   "metadata": {},
   "outputs": [],
   "source": [
    "val_min = df[df['-log10_adj_pval_zeroed']!=0].min()['-log10_adj_pval_zeroed']\n",
    "val_max = df[df['-log10_adj_pval_zeroed']!=0].max()['-log10_adj_pval_zeroed']\n",
    "val_min, val_max"
   ]
  },
  {
   "cell_type": "code",
   "execution_count": null,
   "metadata": {},
   "outputs": [],
   "source": [
    "df1 = df.iloc[0:int(len(df)/2),:].copy()\n",
    "df2 = df.iloc[int(len(df)/2):,:].copy()"
   ]
  },
  {
   "cell_type": "code",
   "execution_count": null,
   "metadata": {},
   "outputs": [],
   "source": [
    "sns.set(font_scale=1.0, font='Arial', rc={\"axes.labelsize\": 16, \"axes.titlesize\": 18})\n",
    "\n",
    "f, ax = plt.subplots(nrows=2,ncols=1, figsize=(8,4))\n",
    "cmap = sns.color_palette(\"YlOrBr_r\", as_cmap=True)\n",
    "cmap.set_bad(\"white\")\n",
    "\n",
    "heatmap1 = sns.heatmap(df1[['-log10_adj_pval_zeroed']].T.replace(0, np.nan), square=True, ax=ax[0], linewidths=0.5, linecolor='black', vmin=val_min, vmax=val_max,cmap=cmap, cbar=False)\n",
    "heatmap2  =sns.heatmap(df2[['-log10_adj_pval_zeroed']].T.replace(0, np.nan), square=True, ax=ax[1], linewidths=0.5, linecolor='black', vmin=val_min, vmax=val_max,cmap=cmap, cbar=False)\n",
    "\n",
    "ax[0].tick_params(axis='x', which='major', top=True, labeltop=True, bottom=False, labelbottom=False);\n",
    "ax[0].set_xticklabels(ax[0].get_xticklabels()[0:12], rotation=45, ha='left', fontsize=16);\n",
    "ax[1].tick_params(axis='x', which='major', top=False, labeltop=False, bottom=True, labelbottom=True);\n",
    "ax[1].set_xticklabels(ax[1].get_xticklabels(), rotation=45, ha='right', fontsize=16);\n",
    "\n",
    "ax[0].set_xlabel('')\n",
    "ax[1].set_xlabel('TCGA cancer type', fontsize = 18)\n",
    "ax[0].set_ylabel('Associations with\\nhistological type', fontsize = 18)\n",
    "ax[1].set_ylabel('')\n",
    "\n",
    "ax[0].set_yticks([])\n",
    "ax[1].set_yticks([])\n",
    "\n",
    "\n",
    "# Create a shared colorbar axis\n",
    "cbar_ax = f.add_axes([0.95, 0.25, 0.03, 0.5])  # Adjust the coordinates as needed\n",
    "cbar = plt.colorbar(heatmap2.get_children()[0], cax=cbar_ax)\n",
    "cbar.ax.tick_params(labelsize=16)\n",
    "cbar.set_label('-log10(q-value)', fontsize=18)\n",
    "plt.savefig(os.path.join(base_path, 'emt_histotype_heatmap.pdf'), format='pdf')\n",
    "plt.savefig(os.path.join(base_path, 'emt_histotype_heatmap.svg'), format='svg')\n",
    "\n",
    "plt.tight_layout()"
   ]
  },
  {
   "cell_type": "code",
   "execution_count": null,
   "metadata": {},
   "outputs": [],
   "source": []
  }
 ],
 "metadata": {
  "kernelspec": {
   "display_name": "mt",
   "language": "python",
   "name": "python3"
  },
  "language_info": {
   "codemirror_mode": {
    "name": "ipython",
    "version": 3
   },
   "file_extension": ".py",
   "mimetype": "text/x-python",
   "name": "python",
   "nbconvert_exporter": "python",
   "pygments_lexer": "ipython3",
   "version": "3.8.12"
  },
  "orig_nbformat": 4
 },
 "nbformat": 4,
 "nbformat_minor": 2
}
