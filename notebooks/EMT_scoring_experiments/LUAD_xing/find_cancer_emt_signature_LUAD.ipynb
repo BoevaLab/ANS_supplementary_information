{
 "cells": [
  {
   "cell_type": "markdown",
   "id": "ddffe0cd",
   "metadata": {
    "pycharm": {
     "name": "#%% md\n"
    }
   },
   "source": [
    "## Establishment of a LUAD-specific cancer EMT signature"
   ]
  },
  {
   "cell_type": "code",
   "execution_count": null,
   "id": "5bad41b6",
   "metadata": {
    "pycharm": {
     "name": "#%%\n"
    }
   },
   "outputs": [],
   "source": [
    "from IPython.display import display, HTML\n",
    "display(HTML(\"<style>.container { width:95% !important; }</style>\"))"
   ]
  },
  {
   "cell_type": "code",
   "execution_count": null,
   "id": "d27efe5b",
   "metadata": {
    "pycharm": {
     "name": "#%%\n"
    }
   },
   "outputs": [],
   "source": [
    "import os \n",
    "import sys\n",
    "\n",
    "import pandas as pd\n",
    "import numpy as np\n",
    "import scanpy as sc\n",
    "import matplotlib.pyplot as plt\n",
    "from matplotlib.patches import Patch\n",
    "import seaborn as sns\n",
    "from matplotlib.pyplot import rc_context\n",
    "from tqdm import tqdm\n",
    "from statsmodels.stats.multitest import multipletests\n",
    "from scipy.stats import mannwhitneyu\n",
    "from matplotlib_venn import venn2\n",
    "import json\n",
    "\n",
    "sys.path.append('../../..')\n",
    "from data.load_data import load_datasets\n",
    "from data.constants import BASE_PATH_EXPERIMENTS, BASE_PATH_DATA\n",
    "\n",
    "from signaturescoring import score_signature\n",
    "from signaturescoring.utils.utils import get_mean_and_variance_gene_expression, check_signature_genes"
   ]
  },
  {
   "cell_type": "code",
   "execution_count": null,
   "id": "ac47ea27",
   "metadata": {
    "pycharm": {
     "name": "#%%\n"
    }
   },
   "outputs": [],
   "source": [
    "plt.rcParams.update({'pdf.fonttype':42, 'font.family':'sans-serif', 'font.sans-serif':'Arial', 'font.size':14})\n",
    "\n",
    "sc.settings.verbosity = 2\n",
    "\n",
    "pl_size = 6\n",
    "dataset = 'luad_xing'\n",
    "\n",
    "base_path_emt_signatures = os.path.join(BASE_PATH_DATA, f'annotations/emt')\n",
    "base_path_barcodes = os.path.join(BASE_PATH_EXPERIMENTS, f'EMT_signature_scoring_case_study/{dataset}')\n",
    "storing_path = os.path.join(base_path_barcodes, 'dataset_specific_emt_sig')\n",
    "\n",
    "if not os.path.exists(storing_path):\n",
    "    os.makedirs(storing_path)\n",
    "    sc.logging.info(f'Creating new storing folder at {storing_path}')\n",
    "\n",
    "save = True "
   ]
  },
  {
   "cell_type": "markdown",
   "id": "1c48c49d",
   "metadata": {},
   "source": [
    "Load preprocessed dataset "
   ]
  },
  {
   "cell_type": "code",
   "execution_count": null,
   "id": "4443da04",
   "metadata": {},
   "outputs": [],
   "source": [
    "orig_adata = load_datasets(dataset, preprocessed=True, norm_method='mean')\n",
    "if 'log1p' in orig_adata.uns_keys():\n",
    "    orig_adata.uns['log1p']['base'] = None\n",
    "else:\n",
    "    orig_adata.uns['log1p'] = {'base': None}"
   ]
  },
  {
   "cell_type": "code",
   "execution_count": null,
   "id": "622e75f0",
   "metadata": {},
   "outputs": [],
   "source": [
    "orig_adata.obs.celltype.value_counts()\n",
    "orig_adata = orig_adata[orig_adata.obs.celltype!='Granulocytes'].copy()"
   ]
  },
  {
   "cell_type": "markdown",
   "id": "ed0510c4",
   "metadata": {},
   "source": [
    "Load cancer EMT barcodes"
   ]
  },
  {
   "cell_type": "code",
   "execution_count": null,
   "id": "008b2ad0",
   "metadata": {},
   "outputs": [],
   "source": [
    "barcodes_cancer_emt_cells = pd.read_csv(os.path.join(base_path_barcodes, 'barcodes_cancer_emt.csv'))\n",
    "barcodes_cancer_emt_cells = barcodes_cancer_emt_cells['0']\n",
    "barcodes_cancer_emt_cells.name = 'cancer_emt_cells'"
   ]
  },
  {
   "cell_type": "code",
   "execution_count": null,
   "id": "efdf48dc",
   "metadata": {},
   "outputs": [],
   "source": [
    "barcodes_caf_emt_mes_cells = orig_adata.obs[orig_adata.obs.celltype == 'Fibroblast'].index.to_list() + barcodes_cancer_emt_cells.to_list()\n",
    "barcodes_caf_emt_mes_cells = pd.Series(barcodes_caf_emt_mes_cells)"
   ]
  },
  {
   "cell_type": "code",
   "execution_count": null,
   "id": "bf92693c",
   "metadata": {},
   "outputs": [],
   "source": [
    "orig_adata.obs['celltype_broad'] = orig_adata.obs['celltype'].copy() \n",
    "orig_adata.obs['celltype_broad'] = orig_adata.obs['celltype_broad'].astype(str)"
   ]
  },
  {
   "cell_type": "code",
   "execution_count": null,
   "id": "11219df2",
   "metadata": {},
   "outputs": [],
   "source": [
    "cells_not_cafs_and_cancer_emt = orig_adata.obs.index.isin(barcodes_caf_emt_mes_cells) == False"
   ]
  },
  {
   "cell_type": "code",
   "execution_count": null,
   "id": "4a59a5f9",
   "metadata": {},
   "outputs": [],
   "source": [
    "orig_adata.obs['celltype_broad'][barcodes_cancer_emt_cells.tolist()] = 'Malignant with EMT'\n",
    "orig_adata.obs['celltype_broad'][cells_not_cafs_and_cancer_emt & (orig_adata.obs.celltype != 'Malignant')] = 'rest'\n",
    "orig_adata.obs['celltype_broad'].value_counts().sort_index()"
   ]
  },
  {
   "cell_type": "code",
   "execution_count": null,
   "id": "19dd5be7",
   "metadata": {},
   "outputs": [],
   "source": [
    "orig_adata.obs['celltype_broader'] = orig_adata.obs['celltype'].copy() \n",
    "orig_adata.obs['celltype_broader'] = orig_adata.obs['celltype_broader'].astype('str')"
   ]
  },
  {
   "cell_type": "code",
   "execution_count": null,
   "id": "1a213fb7",
   "metadata": {},
   "outputs": [],
   "source": [
    "orig_adata.obs.loc[orig_adata.obs['celltype_broad']=='Malignant with EMT', 'celltype_broader'] = 'Malignant with EMT'\n",
    "orig_adata.obs.loc[orig_adata.obs['celltype_broad']=='Malignant', 'celltype_broader'] = 'Malignant'\n",
    "orig_adata.obs['celltype_broader'].value_counts().sort_index()"
   ]
  },
  {
   "cell_type": "markdown",
   "id": "ef3839a9",
   "metadata": {},
   "source": [
    "Prepare UMAPs"
   ]
  },
  {
   "cell_type": "code",
   "execution_count": null,
   "id": "adafb553",
   "metadata": {},
   "outputs": [],
   "source": [
    "sc.tl.pca(orig_adata)\n",
    "sc.pp.neighbors(orig_adata)\n",
    "sc.tl.umap(orig_adata)"
   ]
  },
  {
   "cell_type": "markdown",
   "id": "654c676d",
   "metadata": {
    "pycharm": {
     "name": "#%% md\n"
    }
   },
   "source": [
    "### Score for ESOPHAG_CANCER_EMT signature "
   ]
  },
  {
   "cell_type": "code",
   "execution_count": null,
   "id": "ce6d4d15",
   "metadata": {
    "pycharm": {
     "name": "#%%\n"
    }
   },
   "outputs": [],
   "source": [
    "ESOPHAG_CANCER_EMT_SIGNATURE_1 = pd.read_csv(os.path.join(os.path.dirname(os.path.dirname(storing_path)), \n",
    "                                                          'escc', 'dataset_specific_emt_sig', 'ESOPHAG_CANCER_EMT_SIGNATURE_1.csv'))\n",
    "ESOPHAG_CANCER_EMT_SIGNATURE_1 = ESOPHAG_CANCER_EMT_SIGNATURE_1.iloc[:,1].tolist()\n",
    "\n",
    "ESOPHAG_CANCER_EMT_SIGNATURE_2 = pd.read_csv(os.path.join(os.path.dirname(os.path.dirname(storing_path)), \n",
    "                                                          'escc', 'dataset_specific_emt_sig',  'ESOPHAG_CANCER_EMT_SIGNATURE_2.csv'))\n",
    "ESOPHAG_CANCER_EMT_SIGNATURE_2 = ESOPHAG_CANCER_EMT_SIGNATURE_2.iloc[:,1].tolist()\n",
    "len(ESOPHAG_CANCER_EMT_SIGNATURE_1), len(ESOPHAG_CANCER_EMT_SIGNATURE_2)"
   ]
  },
  {
   "cell_type": "code",
   "execution_count": null,
   "id": "4f03fe2b",
   "metadata": {
    "pycharm": {
     "name": "#%%\n"
    }
   },
   "outputs": [],
   "source": [
    "with open(os.path.join(base_path_emt_signatures,'HALLMARK_EPITHELIAL_MESENCHYMAL_TRANSITION.v7.5.1.json'), 'r') as f:\n",
    "    hemt = json.load(f)\n",
    "hallmark_emt = hemt['HALLMARK_EPITHELIAL_MESENCHYMAL_TRANSITION']['geneSymbols']"
   ]
  },
  {
   "cell_type": "code",
   "execution_count": null,
   "id": "ee3cf336",
   "metadata": {
    "pycharm": {
     "name": "#%%\n"
    }
   },
   "outputs": [],
   "source": [
    "GM_B_22 = pd.read_csv(os.path.join(base_path_emt_signatures,'gene_modules_from_Barkley_et_al_2022.csv'))"
   ]
  },
  {
   "cell_type": "code",
   "execution_count": null,
   "id": "c6993ed5",
   "metadata": {
    "pycharm": {
     "name": "#%%\n"
    }
   },
   "outputs": [],
   "source": [
    "mes_gm  = GM_B_22.Mesenchymal\n",
    "mes_gm = mes_gm.dropna().tolist()\n",
    "\n",
    "pEMT_gm = GM_B_22.pEMT\n",
    "pEMT_gm = pEMT_gm.dropna().tolist()\n",
    "\n",
    "cEMT = GM_B_22.cEMT\n",
    "cEMT = cEMT.dropna().tolist()\n",
    "\n",
    "pEMT = GM_B_22['pEMT.1']\n",
    "pEMT = pEMT.dropna().tolist()"
   ]
  },
  {
   "cell_type": "code",
   "execution_count": null,
   "id": "0dcabd59",
   "metadata": {
    "pycharm": {
     "name": "#%%\n"
    }
   },
   "outputs": [],
   "source": [
    "df_mean_var = get_mean_and_variance_gene_expression(orig_adata, estim_var=False)"
   ]
  },
  {
   "cell_type": "code",
   "execution_count": null,
   "id": "5895673d",
   "metadata": {},
   "outputs": [],
   "source": [
    "for sig in [('ESOPHAG_CANCER_EMT_SIGNATURE_1',ESOPHAG_CANCER_EMT_SIGNATURE_1),\n",
    "            ('ESOPHAG_CANCER_EMT_SIGNATURE_2',ESOPHAG_CANCER_EMT_SIGNATURE_2), \n",
    "            ('hallmark_emt',hallmark_emt),\n",
    "            ('pEMT_gm',pEMT_gm),\n",
    "            ('cEMT',cEMT),\n",
    "            ('mes_gm',mes_gm)]:\n",
    "    score_signature(method=\"adjusted_neighborhood_scoring\",\n",
    "                        adata=orig_adata,\n",
    "                        gene_list= sig[1],\n",
    "                        ctrl_size=100,\n",
    "                        df_mean_var = df_mean_var,\n",
    "                        score_name=sig[0])"
   ]
  },
  {
   "cell_type": "code",
   "execution_count": null,
   "id": "ea710e9a",
   "metadata": {
    "pycharm": {
     "name": "#%%\n"
    }
   },
   "outputs": [],
   "source": [
    "gt = orig_adata.obs.celltype_broader.copy()\n",
    "gt = gt.astype(str)\n",
    "\n",
    "gt[gt!='Malignant with EMT']= 'Rest'"
   ]
  },
  {
   "cell_type": "code",
   "execution_count": null,
   "id": "ac192faa",
   "metadata": {
    "pycharm": {
     "name": "#%%\n"
    }
   },
   "outputs": [],
   "source": [
    "orig_adata.obs.celltype_broader.value_counts().sort_index()"
   ]
  },
  {
   "cell_type": "code",
   "execution_count": null,
   "id": "25cd2ce9",
   "metadata": {
    "pycharm": {
     "name": "#%%\n"
    }
   },
   "outputs": [],
   "source": [
    "caf_and_cancer_emt = orig_adata.obs.celltype_broader[orig_adata.obs.celltype_broader.isin(['Malignant with EMT','Fibroblast' ])].index.tolist()\n",
    "cancer_and_cancer_emt = orig_adata.obs.celltype_broader[orig_adata.obs.celltype_broader.isin(['Malignant with EMT','Malignant' ])].index.tolist()\n",
    "cancer_emt_and_rest = orig_adata.obs.celltype_broader[~orig_adata.obs.celltype_broader.isin(['Fibroblast','Malignant' ])].index.tolist()"
   ]
  },
  {
   "cell_type": "code",
   "execution_count": null,
   "id": "16e5ec64",
   "metadata": {
    "pycharm": {
     "name": "#%%\n"
    }
   },
   "outputs": [],
   "source": [
    "len(caf_and_cancer_emt), len(cancer_and_cancer_emt), len(cancer_emt_and_rest)"
   ]
  },
  {
   "cell_type": "code",
   "execution_count": null,
   "id": "ce58dc98",
   "metadata": {},
   "outputs": [],
   "source": [
    "plt.rcParams.update({'pdf.fonttype':42, 'font.family':'sans-serif', 'font.sans-serif':'Arial', 'font.size':14})\n",
    "orig_adata.obs.ESOPHAG_CANCER_EMT_SIGNATURE_1.hist()\n",
    "plt.close()"
   ]
  },
  {
   "cell_type": "code",
   "execution_count": null,
   "id": "c43fa2e5",
   "metadata": {
    "pycharm": {
     "name": "#%%\n"
    },
    "scrolled": true
   },
   "outputs": [],
   "source": [
    "from sklearn.metrics import precision_recall_curve, auc\n",
    "\n",
    "plt.rcParams.update({'pdf.fonttype':42, 'font.family':'sans-serif', 'font.sans-serif':'Arial', 'font.size':14})\n",
    "\n",
    "for score_name in ['ESOPHAG_CANCER_EMT_SIGNATURE_1','ESOPHAG_CANCER_EMT_SIGNATURE_2','hallmark_emt','pEMT_gm','cEMT','mes_gm']:\n",
    "    plt.figure(figsize=(10,8))\n",
    "    \n",
    "    lr_precision, lr_recall, _ = precision_recall_curve(gt[cancer_emt_and_rest], orig_adata.obs.loc[cancer_emt_and_rest, score_name], pos_label='Malignant with EMT')\n",
    "    lr_auc = auc(lr_recall, lr_precision)\n",
    "    \n",
    "    lr_precision, lr_recall, _ = precision_recall_curve(gt[caf_and_cancer_emt], orig_adata.obs.loc[caf_and_cancer_emt,score_name], pos_label='Malignant with EMT')\n",
    "    lr_auc_caf_and_emt = auc(lr_recall, lr_precision)\n",
    "    \n",
    "    lr_precision, lr_recall, _ = precision_recall_curve(gt[cancer_and_cancer_emt], orig_adata.obs.loc[cancer_and_cancer_emt,score_name], pos_label='Malignant with EMT')\n",
    "    lr_auc_cancer_and_emt = auc(lr_recall, lr_precision)\n",
    "    \n",
    "    for group in orig_adata.obs.groupby('celltype_broader'):\n",
    "        group[1][score_name].hist(bins=100, density=True, alpha=0.5, label=group[0])\n",
    "    \n",
    "    plt.title(score_name+\\\n",
    "              '\\nAUCPR Malignant with EMT vs. Rest '+ str(np.round(lr_auc, decimals=3))+\\\n",
    "              '\\nAUCPR Malignant with EMT vs. CAFS '+str(np.round(lr_auc_caf_and_emt, decimals=3))+\\\n",
    "              '\\nAUCPR Malignant with EMT vs. Malignant '+str(np.round(lr_auc_cancer_and_emt, decimals=3)), fontsize=16)\n",
    "    plt.legend()\n",
    "    plt.ylim([0,20])\n",
    "    plt.tight_layout()\n",
    "    if save:\n",
    "        curr_path = os.path.join(storing_path, 'plots')\n",
    "        if not os.path.exists(curr_path):\n",
    "            os.makedirs(curr_path)\n",
    "        plt.savefig(os.path.join(curr_path, f'dist_scores_{score_name}.png'), dpi=600)\n",
    "    plt.show()"
   ]
  },
  {
   "cell_type": "code",
   "execution_count": null,
   "id": "1735674f",
   "metadata": {
    "pycharm": {
     "name": "#%%\n"
    }
   },
   "outputs": [],
   "source": [
    "sc.pl.violin(orig_adata,keys=['ESOPHAG_CANCER_EMT_SIGNATURE_1', \n",
    "                              'ESOPHAG_CANCER_EMT_SIGNATURE_2',\n",
    "                              'hallmark_emt',\n",
    "                              'pEMT_gm',\n",
    "                              'cEMT',\n",
    "                              'mes_gm'], groupby='celltype_broader', rotation=90, show=False)\n",
    "if save:\n",
    "    curr_path = os.path.join(storing_path, 'plots')\n",
    "    if not os.path.exists(curr_path):\n",
    "        os.makedirs(curr_path)\n",
    "    plt.savefig(os.path.join(curr_path, f'escc_halmark_scores.svg'), dpi=600)\n",
    "plt.show()"
   ]
  },
  {
   "cell_type": "markdown",
   "id": "98b0e0e7",
   "metadata": {
    "pycharm": {
     "name": "#%% md\n"
    }
   },
   "source": [
    "### Find cancer emt signature"
   ]
  },
  {
   "cell_type": "code",
   "execution_count": null,
   "id": "f0e7d8ae",
   "metadata": {
    "pycharm": {
     "name": "#%%\n"
    }
   },
   "outputs": [],
   "source": [
    "cancer_emt_CAFS = orig_adata[orig_adata.obs.celltype_broader.isin(['Malignant with EMT','Fibroblast'])].copy()"
   ]
  },
  {
   "cell_type": "code",
   "execution_count": null,
   "id": "beaa57fd",
   "metadata": {
    "pycharm": {
     "name": "#%%\n"
    }
   },
   "outputs": [],
   "source": [
    "cancer_emt_cancer = orig_adata[orig_adata.obs.celltype_broader.isin(['Malignant with EMT','Malignant'])].copy()"
   ]
  },
  {
   "cell_type": "code",
   "execution_count": null,
   "id": "a5ce142d",
   "metadata": {
    "pycharm": {
     "name": "#%%\n"
    }
   },
   "outputs": [],
   "source": [
    "sc.tl.rank_genes_groups(cancer_emt_CAFS, groupby='celltype_broader', method='wilcoxon', tie_correct=True)\n",
    "sc.tl.rank_genes_groups(cancer_emt_cancer, groupby='celltype_broader', method='wilcoxon', tie_correct=True)"
   ]
  },
  {
   "cell_type": "code",
   "execution_count": null,
   "id": "1a2bd081",
   "metadata": {
    "pycharm": {
     "name": "#%%\n"
    }
   },
   "outputs": [],
   "source": [
    "cancer_emt_CAFS_dge = sc.get.rank_genes_groups_df(cancer_emt_CAFS, group='Malignant with EMT', log2fc_min=2, pval_cutoff=0.001)\n",
    "cancer_emt_cancer_dge = sc.get.rank_genes_groups_df(cancer_emt_cancer, group='Malignant with EMT', log2fc_min=1, pval_cutoff=0.001)"
   ]
  },
  {
   "cell_type": "code",
   "execution_count": null,
   "id": "91c9829d",
   "metadata": {
    "pycharm": {
     "name": "#%%\n"
    }
   },
   "outputs": [],
   "source": [
    "from matplotlib_venn import venn3"
   ]
  },
  {
   "cell_type": "code",
   "execution_count": null,
   "id": "fe3d413a",
   "metadata": {
    "pycharm": {
     "name": "#%%\n"
    }
   },
   "outputs": [],
   "source": [
    "venn3(\n",
    "subsets=(\n",
    "    set(cancer_emt_CAFS_dge.names.tolist()),\n",
    "    set(cancer_emt_cancer_dge.names.tolist()),\n",
    "    set(ESOPHAG_CANCER_EMT_SIGNATURE_2)\n",
    "),\n",
    "    set_labels=(\n",
    "        'cancer_emt_CAFS_dge',\n",
    "        'cancer_emt_cancer_dge',\n",
    "        'ESOPHAG_CANCER_EMT_SIGNATURE_2'\n",
    "    )\n",
    ")\n",
    "if save:\n",
    "    curr_path = os.path.join(storing_path, 'plots')\n",
    "    if not os.path.exists(curr_path):\n",
    "        os.makedirs(curr_path)\n",
    "    plt.savefig(os.path.join(curr_path, f'venn_dgex_genes_mal_emt_vs_caf_mal_1.png'), dpi=600)"
   ]
  },
  {
   "cell_type": "code",
   "execution_count": null,
   "id": "4a53e1aa",
   "metadata": {
    "pycharm": {
     "name": "#%%\n"
    }
   },
   "outputs": [],
   "source": [
    "venn3(\n",
    "subsets=(\n",
    "    set(cancer_emt_CAFS_dge.names.tolist()),\n",
    "    set(cancer_emt_cancer_dge.names.tolist()),\n",
    "    set(pEMT_gm)\n",
    "),\n",
    "    set_labels=(\n",
    "        'cancer_emt_CAFS_dge',\n",
    "        'cancer_emt_cancer_dge',\n",
    "        'pEMT_gm'\n",
    "    )\n",
    ")\n",
    "if save:\n",
    "    curr_path = os.path.join(storing_path, 'plots')\n",
    "    if not os.path.exists(curr_path):\n",
    "        os.makedirs(curr_path)\n",
    "    plt.savefig(os.path.join(curr_path, f'venn_dgex_genes_mal_emt_vs_caf_mal_2.png'), dpi=600)"
   ]
  },
  {
   "cell_type": "code",
   "execution_count": null,
   "id": "7ffe7323",
   "metadata": {
    "pycharm": {
     "name": "#%%\n"
    }
   },
   "outputs": [],
   "source": [
    "genes_dge_cancer_emt_vs_cafs_and_cancer = set(cancer_emt_CAFS_dge.names.tolist()).intersection(set(cancer_emt_cancer_dge.names.tolist()))\n",
    "\n",
    "score_signature(method=\"adjusted_neighborhood_scoring\",\n",
    "                        adata=orig_adata,\n",
    "                        gene_list= genes_dge_cancer_emt_vs_cafs_and_cancer,\n",
    "                        ctrl_size=100,\n",
    "                        score_name='genes_dge_cancer_emt_vs_cafs_and_cancer')\n"
   ]
  },
  {
   "cell_type": "code",
   "execution_count": null,
   "id": "c37f29f7",
   "metadata": {
    "pycharm": {
     "name": "#%%\n"
    }
   },
   "outputs": [],
   "source": [
    "sc.pl.violin(orig_adata,keys=['ESOPHAG_CANCER_EMT_SIGNATURE_2', 'pEMT_gm', 'genes_dge_cancer_emt_vs_cafs_and_cancer'], groupby='celltype_broader',rotation=90, show=False)\n",
    "if save:\n",
    "    curr_path = os.path.join(storing_path, 'plots')\n",
    "    if not os.path.exists(curr_path):\n",
    "        os.makedirs(curr_path)\n",
    "    plt.savefig(os.path.join(curr_path, f'escc_pemt_scores_gdex_genes_a1.svg'), dpi=600)\n",
    "plt.show()"
   ]
  },
  {
   "cell_type": "code",
   "execution_count": null,
   "id": "3e76c1fc",
   "metadata": {
    "pycharm": {
     "name": "#%%\n"
    }
   },
   "outputs": [],
   "source": [
    "sc.tl.rank_genes_groups(orig_adata, groupby='celltype_broader', reference='Malignant with EMT', method='wilcoxon', tie_correct=True)"
   ]
  },
  {
   "cell_type": "code",
   "execution_count": null,
   "id": "ac32efd9",
   "metadata": {
    "pycharm": {
     "name": "#%%\n"
    }
   },
   "outputs": [],
   "source": [
    "genes_dge_cancer_emt_vs_cafs_and_cancer_refined = genes_dge_cancer_emt_vs_cafs_and_cancer.copy()"
   ]
  },
  {
   "cell_type": "code",
   "execution_count": null,
   "id": "b7b6d7f9",
   "metadata": {
    "pycharm": {
     "name": "#%%\n"
    }
   },
   "outputs": [],
   "source": [
    "for group in orig_adata.obs.groupby(by='celltype_broader'):\n",
    "    if group[0] == 'Malignant with EMT':\n",
    "        continue\n",
    "    wc = sc.get.rank_genes_groups_df(orig_adata, group=group[0], log2fc_min=1, pval_cutoff=0.001)\n",
    "    genes_dge_cancer_emt_vs_cafs_and_cancer_refined.difference_update(wc.names.tolist())"
   ]
  },
  {
   "cell_type": "code",
   "execution_count": null,
   "id": "cc7625f5",
   "metadata": {
    "pycharm": {
     "name": "#%%\n"
    }
   },
   "outputs": [],
   "source": [
    "len(genes_dge_cancer_emt_vs_cafs_and_cancer_refined)"
   ]
  },
  {
   "cell_type": "code",
   "execution_count": null,
   "id": "ea78e863",
   "metadata": {
    "pycharm": {
     "name": "#%%\n"
    }
   },
   "outputs": [],
   "source": [
    "score_signature(method=\"adjusted_neighborhood_scoring\",\n",
    "                        adata=orig_adata,\n",
    "                        gene_list= genes_dge_cancer_emt_vs_cafs_and_cancer_refined,\n",
    "                        ctrl_size=100,\n",
    "                        score_name='genes_dge_cancer_emt_vs_cafs_and_cancer_refined')"
   ]
  },
  {
   "cell_type": "code",
   "execution_count": null,
   "id": "08c17947",
   "metadata": {
    "pycharm": {
     "name": "#%%\n"
    }
   },
   "outputs": [],
   "source": [
    "sc.pl.violin(orig_adata,keys=['ESOPHAG_CANCER_EMT_SIGNATURE_2', 'pEMT_gm', 'genes_dge_cancer_emt_vs_cafs_and_cancer','genes_dge_cancer_emt_vs_cafs_and_cancer_refined'], groupby='celltype_broader',rotation=90, show=False)\n",
    "if save:\n",
    "    curr_path = os.path.join(storing_path, 'plots')\n",
    "    if not os.path.exists(curr_path):\n",
    "        os.makedirs(curr_path)\n",
    "    plt.savefig(os.path.join(curr_path, f'escc_pemt_scores_gdex_genes_a2.svg'), dpi=600)\n",
    "plt.show()"
   ]
  },
  {
   "cell_type": "code",
   "execution_count": null,
   "id": "2058bc15",
   "metadata": {
    "pycharm": {
     "name": "#%%\n"
    },
    "scrolled": false
   },
   "outputs": [],
   "source": [
    "from sklearn.metrics import precision_recall_curve, auc\n",
    "for score_name in ['ESOPHAG_CANCER_EMT_SIGNATURE_1','ESOPHAG_CANCER_EMT_SIGNATURE_2','pEMT_gm','genes_dge_cancer_emt_vs_cafs_and_cancer', 'genes_dge_cancer_emt_vs_cafs_and_cancer_refined']:\n",
    "    plt.figure(figsize=(10,8))\n",
    "    \n",
    "    lr_precision, lr_recall, _ = precision_recall_curve(gt[cancer_emt_and_rest], orig_adata.obs.loc[cancer_emt_and_rest, score_name], pos_label='Malignant with EMT')\n",
    "    lr_auc = auc(lr_recall, lr_precision)\n",
    "    \n",
    "    lr_precision, lr_recall, _ = precision_recall_curve(gt[caf_and_cancer_emt], orig_adata.obs.loc[caf_and_cancer_emt,score_name], pos_label='Malignant with EMT')\n",
    "    lr_auc_caf_and_emt = auc(lr_recall, lr_precision)\n",
    "    \n",
    "    lr_precision, lr_recall, _ = precision_recall_curve(gt[cancer_and_cancer_emt], orig_adata.obs.loc[cancer_and_cancer_emt,score_name], pos_label='Malignant with EMT')\n",
    "    lr_auc_cancer_and_emt = auc(lr_recall, lr_precision)\n",
    "    \n",
    "    for group in orig_adata.obs.groupby('celltype_broader'):\n",
    "        group[1][score_name].hist(bins=100, density=True, alpha=0.5, label=group[0])\n",
    "    \n",
    "    plt.title(score_name+\\\n",
    "              '\\nAUCPR Malignant with EMT vs. Rest '+ str(np.round(lr_auc, decimals=3))+\\\n",
    "              '\\nAUCPR Malignant with EMT vs. CAFS '+str(np.round(lr_auc_caf_and_emt, decimals=3))+\\\n",
    "              '\\nAUCPR Malignant with EMT vs. Malignant '+str(np.round(lr_auc_cancer_and_emt, decimals=3)), fontsize=16)\n",
    "    plt.legend()\n",
    "    plt.ylim([0,20])\n",
    "    plt.tight_layout()\n",
    "    if save:\n",
    "        curr_path = os.path.join(storing_path, 'plots')\n",
    "        if not os.path.exists(curr_path):\n",
    "            os.makedirs(curr_path)\n",
    "        plt.savefig(os.path.join(curr_path, f'dist_scores_{score_name}.png'), dpi=600)\n",
    "    plt.show()"
   ]
  },
  {
   "cell_type": "markdown",
   "id": "c163fa18",
   "metadata": {
    "pycharm": {
     "name": "#%% md\n"
    }
   },
   "source": [
    "#### refine found DGEX gene set even more "
   ]
  },
  {
   "cell_type": "code",
   "execution_count": null,
   "id": "73f742b0",
   "metadata": {
    "pycharm": {
     "name": "#%%\n"
    }
   },
   "outputs": [],
   "source": [
    "cells_epithelial_malignant = orig_adata[orig_adata.obs.celltype_broader.isin(['Epithelial','Malignant', 'Malignant with EMT'])].copy()"
   ]
  },
  {
   "cell_type": "code",
   "execution_count": null,
   "id": "1023d967",
   "metadata": {
    "pycharm": {
     "name": "#%%\n"
    }
   },
   "outputs": [],
   "source": [
    "cells_epithelial_malignant = cells_epithelial_malignant[cells_epithelial_malignant.obs.genes_dge_cancer_emt_vs_cafs_and_cancer_refined>=0.05]"
   ]
  },
  {
   "cell_type": "code",
   "execution_count": null,
   "id": "5a5fff55",
   "metadata": {
    "pycharm": {
     "name": "#%%\n"
    }
   },
   "outputs": [],
   "source": [
    "cells_epithelial_malignant.obs.celltype_broader.value_counts()"
   ]
  },
  {
   "cell_type": "code",
   "execution_count": null,
   "id": "5ecb59d4",
   "metadata": {
    "pycharm": {
     "name": "#%%\n"
    }
   },
   "outputs": [],
   "source": [
    "sc.tl.rank_genes_groups(cells_epithelial_malignant, groupby='celltype_broader', method='wilcoxon', tie_correct=True)"
   ]
  },
  {
   "cell_type": "code",
   "execution_count": null,
   "id": "950e7ab4",
   "metadata": {
    "pycharm": {
     "name": "#%%\n"
    }
   },
   "outputs": [],
   "source": [
    "dge_genes_mal_emt_vs_epithelial_and_mal_epithelial = sc.get.rank_genes_groups_df(cells_epithelial_malignant, group='Malignant with EMT', log2fc_min=2, pval_cutoff=0.001)"
   ]
  },
  {
   "cell_type": "code",
   "execution_count": null,
   "id": "3dd61b4d",
   "metadata": {
    "pycharm": {
     "name": "#%%\n"
    }
   },
   "outputs": [],
   "source": [
    "venn2(\n",
    "subsets=(\n",
    "    set(dge_genes_mal_emt_vs_epithelial_and_mal_epithelial.names.tolist()),\n",
    "    set(genes_dge_cancer_emt_vs_cafs_and_cancer_refined)\n",
    "),\n",
    "    set_labels=(\n",
    "        'dge_genes_mal_emt_vs_epithelial_and_mal_epithelial',\n",
    "        'genes_dge_cancer_emt_vs_cafs_and_cancer_refined'\n",
    "    )\n",
    ")"
   ]
  },
  {
   "cell_type": "code",
   "execution_count": null,
   "id": "6851b478",
   "metadata": {
    "pycharm": {
     "name": "#%%\n"
    }
   },
   "outputs": [],
   "source": [
    "genes_to_potentially_add = set(dge_genes_mal_emt_vs_epithelial_and_mal_epithelial.names.tolist()).difference(set(genes_dge_cancer_emt_vs_cafs_and_cancer_refined))"
   ]
  },
  {
   "cell_type": "code",
   "execution_count": null,
   "id": "f2b12e49",
   "metadata": {
    "pycharm": {
     "name": "#%%\n"
    }
   },
   "outputs": [],
   "source": [
    "orig_adata.X = orig_adata.X.tocsc()"
   ]
  },
  {
   "cell_type": "code",
   "execution_count": null,
   "id": "33e5f267",
   "metadata": {
    "pycharm": {
     "name": "#%%\n"
    }
   },
   "outputs": [],
   "source": [
    "def get_scores_for_all_sig_genes(adata, sig_genes,ctrl_size = 100):\n",
    "\n",
    "    gene_list = check_signature_genes(adata.var_names, sig_genes)\n",
    "    df_mean_var = get_mean_and_variance_gene_expression(adata,\n",
    "                                                    estim_var=False)\n",
    "    gene_means = df_mean_var['mean'].copy()\n",
    "\n",
    "    # computation of neighboring genes around each signature gene\n",
    "    sorted_gene_means = gene_means.sort_values()\n",
    "    ref_genes_means = sorted_gene_means[sorted_gene_means.index.isin(gene_list) == False]\n",
    "\n",
    "    # use sliding window to compute for each window the mean\n",
    "    rolled = ref_genes_means.rolling(ctrl_size, closed='right').mean()\n",
    "\n",
    "    control_genes = []\n",
    "    for sig_gene in gene_list:\n",
    "        curr_sig_avg = sorted_gene_means.loc[sig_gene]\n",
    "        min_val_idx = np.argmin(((rolled - curr_sig_avg).abs()))\n",
    "        sig_gene_ctrl_genes = rolled.iloc[(min_val_idx - ctrl_size + 1):min_val_idx + 1]\n",
    "        control_genes.append(list(sig_gene_ctrl_genes.index))\n",
    "    \n",
    "    \n",
    "    list_scores_per_sig_genes = []\n",
    "    for sig_gene, ctrl_genes in zip(gene_list,control_genes):\n",
    "        curr_score = adata[:,sig_gene].X - adata[:,ctrl_genes].X.mean(axis=1)\n",
    "        curr_score = (curr_score-curr_score.min())/(curr_score.max()-curr_score.min())\n",
    "#         curr_score = np.tanh(curr_score)\n",
    "        list_scores_per_sig_genes.append(pd.DataFrame\n",
    "                                         (curr_score,\n",
    "                                          index=adata.obs_names,\n",
    "                                          columns=[sig_gene+'_score']))\n",
    "    df_signature_scores = pd.concat(list_scores_per_sig_genes, axis=1)\n",
    "    \n",
    "    \n",
    "    columns_titles = df_signature_scores.columns.tolist()\n",
    "    columns_titles.sort()\n",
    "    df_signature_scores=df_signature_scores.reindex(columns=columns_titles)\n",
    "    df_signature_scores['final_score_mean'] = df_signature_scores.mean(axis=1)\n",
    "    df_signature_scores['final_score_median'] = df_signature_scores.median(axis=1)\n",
    "    df_signature_scores['celltype'] = adata.obs['celltype']\n",
    "    df_signature_scores['celltype_broad'] = adata.obs['celltype_broad']\n",
    "    df_signature_scores['celltype_broader'] = adata.obs['celltype_broader']\n",
    "    return df_signature_scores"
   ]
  },
  {
   "cell_type": "code",
   "execution_count": null,
   "id": "512fbca4",
   "metadata": {
    "pycharm": {
     "name": "#%%\n"
    }
   },
   "outputs": [],
   "source": [
    "from pandas.api.types import is_numeric_dtype\n",
    "\n",
    "def plot_heatmap_with_celltype_anno(df, label_col, palette=\"tab10\", bbox_to_anchor=(0.16,0.79),cat_title = 'celltypes',apply_tanh=False):\n",
    "    if label_col not in df:\n",
    "        raise KeyError(f'labelcol={label_col} is not a column of df')\n",
    "        \n",
    "    lut = dict(zip(df[label_col].unique(), sns.color_palette(palette)))\n",
    "    \n",
    "    row_colors = pd.DataFrame(df[label_col])[label_col].astype(str).map(lut)\n",
    "    \n",
    "    counts = dict(df[label_col].value_counts())\n",
    "    \n",
    "    categories = counts.keys()\n",
    "    \n",
    "    handles = [Patch(color=lut[category],label=category+' (%i)'%counts[category]) for category in sorted(categories)]\n",
    "    \n",
    "    tmp = df.sort_values(by=[label_col,'final_score_mean'])\n",
    "    tmp = tmp[[x for x in tmp.columns if (x!= label_col) and  (is_numeric_dtype(tmp[x]))]]\n",
    "    if apply_tanh:\n",
    "        tmp = np.tanh(tmp)\n",
    "    g = sns.clustermap(tmp, \n",
    "                   row_colors=row_colors, \n",
    "                   row_cluster=False, \n",
    "                   col_cluster=False,\n",
    "                   figsize=(50,30),\n",
    "                   cmap=\"viridis\",\n",
    "                   cbar_pos=(0.1, .1, .03, .6))\n",
    "    legend = g.fig.legend(handles=handles,title='celltypes',bbox_to_anchor=(0.16,0.79),loc='center right',bbox_transform=g.fig.transFigure,borderaxespad=0.,fontsize=18,title_fontsize=20,ncol=1)\n",
    "    g.ax_heatmap.set_title(f'Scored for each gene in hallmark_emt signature.', fontsize=22)"
   ]
  },
  {
   "cell_type": "code",
   "execution_count": null,
   "id": "ee2956ab",
   "metadata": {
    "pycharm": {
     "name": "#%%\n"
    }
   },
   "outputs": [],
   "source": [
    "genes_to_potentially_add_scores = get_scores_for_all_sig_genes(orig_adata, list(genes_to_potentially_add))"
   ]
  },
  {
   "cell_type": "code",
   "execution_count": null,
   "id": "e84a8523",
   "metadata": {
    "pycharm": {
     "name": "#%%\n"
    }
   },
   "outputs": [],
   "source": [
    "genes = []\n",
    "pvals_cancer_emt_caf = []\n",
    "pvals_cancer_emt_cancer = []\n",
    "pvals_cancer_emt_rest = []\n",
    "pvals_cancer_emt_epi = []\n",
    "pvals_caf_rest = []\n",
    "for col in tqdm(genes_to_potentially_add_scores.columns):\n",
    "    if is_numeric_dtype(genes_to_potentially_add_scores[col]) and ('final' not in col):        \n",
    "        caf_scores = genes_to_potentially_add_scores[col][genes_to_potentially_add_scores['celltype_broader']=='Fibroblast']\n",
    "        mal_emt_scores = genes_to_potentially_add_scores[col][genes_to_potentially_add_scores['celltype_broader']=='Malignant with EMT']\n",
    "        mal_non_emt_scores = genes_to_potentially_add_scores[col][genes_to_potentially_add_scores['celltype_broader']=='Malignant']\n",
    "        epi_scores = genes_to_potentially_add_scores[col][genes_to_potentially_add_scores['celltype_broader']=='Epithelial']\n",
    "        rest_scores = genes_to_potentially_add_scores[col][~genes_to_potentially_add_scores['celltype_broader'].isin(['Epithelial','Malignant', 'Malignant with EMT', 'Fibroblast'])]\n",
    "        \n",
    "        genes.append(col)\n",
    "        pvals_cancer_emt_caf.append(mannwhitneyu(mal_emt_scores, caf_scores, alternative= 'greater').pvalue)\n",
    "        pvals_cancer_emt_cancer.append(mannwhitneyu(mal_emt_scores, mal_non_emt_scores, alternative= 'greater').pvalue)\n",
    "        pvals_cancer_emt_epi.append(mannwhitneyu(mal_emt_scores, epi_scores, alternative= 'greater').pvalue)\n",
    "        pvals_cancer_emt_rest.append(mannwhitneyu(mal_emt_scores, rest_scores, alternative= 'greater').pvalue)"
   ]
  },
  {
   "cell_type": "code",
   "execution_count": null,
   "id": "38d2c032",
   "metadata": {
    "pycharm": {
     "name": "#%%\n"
    },
    "scrolled": true
   },
   "outputs": [],
   "source": [
    "gene_cancer_emt_sig_larger_cafs = multipletests(pvals_cancer_emt_caf, alpha=1e-5,method='fdr_bh')[0].tolist()\n",
    "gene_cancer_emt_sig_larger_cafs = [x[0].split('_')[0] for x in zip(genes, gene_cancer_emt_sig_larger_cafs) if x[1]]\n",
    "gene_cancer_emt_sig_larger_cafs"
   ]
  },
  {
   "cell_type": "code",
   "execution_count": null,
   "id": "4d602cff",
   "metadata": {
    "pycharm": {
     "name": "#%%\n"
    },
    "scrolled": true
   },
   "outputs": [],
   "source": [
    "gene_cancer_emt_sig_larger_cancer = multipletests(pvals_cancer_emt_cancer, alpha=1e-5,method='fdr_bh')[0].tolist()\n",
    "gene_cancer_emt_sig_larger_cancer = [x[0].split('_')[0] for x in zip(genes, gene_cancer_emt_sig_larger_cancer) if x[1]]\n",
    "gene_cancer_emt_sig_larger_cancer"
   ]
  },
  {
   "cell_type": "code",
   "execution_count": null,
   "id": "8f129687",
   "metadata": {
    "pycharm": {
     "name": "#%%\n"
    }
   },
   "outputs": [],
   "source": [
    "gene_cancer_emt_sig_larger_epi = multipletests(pvals_cancer_emt_epi, alpha=1e-5,method='fdr_bh')[0].tolist()\n",
    "gene_cancer_emt_sig_larger_epi = [x[0].split('_')[0] for x in zip(genes, gene_cancer_emt_sig_larger_epi) if x[1]]\n",
    "gene_cancer_emt_sig_larger_epi"
   ]
  },
  {
   "cell_type": "code",
   "execution_count": null,
   "id": "f91d6a0d",
   "metadata": {
    "pycharm": {
     "name": "#%%\n"
    }
   },
   "outputs": [],
   "source": [
    "gene_cancer_emt_sig_larger_rest = multipletests(pvals_cancer_emt_rest, alpha=1e-5,method='fdr_bh')[0].tolist()\n",
    "gene_cancer_emt_sig_larger_rest = [x[0].split('_')[0] for x in zip(genes, gene_cancer_emt_sig_larger_rest) if x[1]]\n",
    "gene_cancer_emt_sig_larger_rest"
   ]
  },
  {
   "cell_type": "code",
   "execution_count": null,
   "id": "d9c14fbb",
   "metadata": {
    "pycharm": {
     "name": "#%%\n"
    }
   },
   "outputs": [],
   "source": [
    "venn2(\n",
    "subsets=(\n",
    "    set(gene_cancer_emt_sig_larger_cafs),\n",
    "    set(gene_cancer_emt_sig_larger_cancer)),\n",
    "set_labels=(\n",
    "    'gene_cancer_emt_sig_larger_cafs',\n",
    "    'gene_cancer_emt_sig_larger_cancer')\n",
    ")\n",
    "if save:\n",
    "    curr_path = os.path.join(storing_path, 'plots')\n",
    "    if not os.path.exists(curr_path):\n",
    "        os.makedirs(curr_path)\n",
    "    plt.savefig(os.path.join(curr_path, f'venn_dgex_genes_refinement_1.png'), dpi=600)"
   ]
  },
  {
   "cell_type": "code",
   "execution_count": null,
   "id": "4b573877",
   "metadata": {
    "pycharm": {
     "name": "#%%\n"
    }
   },
   "outputs": [],
   "source": [
    "venn3(\n",
    "subsets=(\n",
    "    set(gene_cancer_emt_sig_larger_cafs),\n",
    "    set(gene_cancer_emt_sig_larger_cancer),\n",
    "    set(gene_cancer_emt_sig_larger_epi)\n",
    "),\n",
    "set_labels=(\n",
    "    'gene_cancer_emt_sig_larger_cafs',\n",
    "    'gene_cancer_emt_sig_larger_cancer',\n",
    "    'gene_cancer_emt_sig_larger_epi'\n",
    ")\n",
    ")\n",
    "if save:\n",
    "    curr_path = os.path.join(storing_path, 'plots')\n",
    "    if not os.path.exists(curr_path):\n",
    "        os.makedirs(curr_path)\n",
    "    plt.savefig(os.path.join(curr_path, f'venn_dgex_genes_refinement_2.png'), dpi=600)"
   ]
  },
  {
   "cell_type": "code",
   "execution_count": null,
   "id": "c16465f9",
   "metadata": {
    "pycharm": {
     "name": "#%%\n"
    }
   },
   "outputs": [],
   "source": [
    "# genes_dge_cancer_emt_vs_cafs_and_cancer_refined_2 = (set(gene_cancer_emt_sig_larger_cafs).intersection(\n",
    "#     set(gene_cancer_emt_sig_larger_cancer)\n",
    "# ).intersection(set(gene_cancer_emt_sig_larger_rest)).intersection(set(gene_cancer_emt_sig_larger_epi))).union(set(genes_dge_cancer_emt_vs_cafs_and_cancer_refined))\n",
    "\n",
    "genes_dge_cancer_emt_vs_cafs_and_cancer_refined_2 = (set(gene_cancer_emt_sig_larger_cafs).intersection(set(gene_cancer_emt_sig_larger_cancer))).union(set(genes_dge_cancer_emt_vs_cafs_and_cancer_refined))"
   ]
  },
  {
   "cell_type": "code",
   "execution_count": null,
   "id": "37600b2b",
   "metadata": {
    "pycharm": {
     "name": "#%%\n"
    }
   },
   "outputs": [],
   "source": [
    "score_signature(method=\"adjusted_neighborhood_scoring\",\n",
    "                        adata=orig_adata,\n",
    "                        gene_list= genes_dge_cancer_emt_vs_cafs_and_cancer_refined_2,\n",
    "                        ctrl_size=100,\n",
    "                        score_name='genes_dge_cancer_emt_vs_cafs_and_cancer_refined_2')"
   ]
  },
  {
   "cell_type": "code",
   "execution_count": null,
   "id": "59c9cf8d",
   "metadata": {
    "pycharm": {
     "name": "#%%\n"
    },
    "scrolled": true
   },
   "outputs": [],
   "source": [
    "from sklearn.metrics import precision_recall_curve, auc\n",
    "for score_name in ['ESOPHAG_CANCER_EMT_SIGNATURE_1','ESOPHAG_CANCER_EMT_SIGNATURE_2','pEMT_gm','genes_dge_cancer_emt_vs_cafs_and_cancer_refined','genes_dge_cancer_emt_vs_cafs_and_cancer_refined_2']:\n",
    "    plt.figure(figsize=(10,8))\n",
    "    \n",
    "    lr_precision, lr_recall, _ = precision_recall_curve(gt[cancer_emt_and_rest], orig_adata.obs.loc[cancer_emt_and_rest, score_name], pos_label='Malignant with EMT')\n",
    "    lr_auc = auc(lr_recall, lr_precision)\n",
    "    \n",
    "    lr_precision, lr_recall, _ = precision_recall_curve(gt[caf_and_cancer_emt], orig_adata.obs.loc[caf_and_cancer_emt,score_name], pos_label='Malignant with EMT')\n",
    "    lr_auc_caf_and_emt = auc(lr_recall, lr_precision)\n",
    "    \n",
    "    lr_precision, lr_recall, _ = precision_recall_curve(gt[cancer_and_cancer_emt], orig_adata.obs.loc[cancer_and_cancer_emt,score_name], pos_label='Malignant with EMT')\n",
    "    lr_auc_cancer_and_emt = auc(lr_recall, lr_precision)\n",
    "    \n",
    "    for group in orig_adata.obs.groupby('celltype_broader'):\n",
    "        group[1][score_name].hist(bins=100, density=True, alpha=0.5, label=group[0])\n",
    "    \n",
    "    plt.title(score_name+\\\n",
    "              '\\nAUCPR Malignant with EMT vs. Rest '+ str(np.round(lr_auc, decimals=3))+\\\n",
    "              '\\nAUCPR Malignant with EMT vs. CAFS '+str(np.round(lr_auc_caf_and_emt, decimals=3))+\\\n",
    "              '\\nAUCPR Malignant with EMT vs. Malignant '+str(np.round(lr_auc_cancer_and_emt, decimals=3)), fontsize=16)\n",
    "    plt.legend()\n",
    "    plt.ylim([0,20])\n",
    "    plt.tight_layout()\n",
    "    if save:\n",
    "        curr_path = os.path.join(storing_path, 'plots')\n",
    "        if not os.path.exists(curr_path):\n",
    "            os.makedirs(curr_path)\n",
    "        plt.savefig(os.path.join(curr_path, f'dist_scores_{score_name}.png'), dpi=600)\n",
    "    plt.show()"
   ]
  },
  {
   "cell_type": "code",
   "execution_count": null,
   "id": "c5bcce19",
   "metadata": {},
   "outputs": [],
   "source": [
    "with rc_context({'figure.figsize': (8,8)}):\n",
    "    umap_celltypes = sc.pl.umap(orig_adata,\n",
    "                            color=['ESOPHAG_CANCER_EMT_SIGNATURE_1','ESOPHAG_CANCER_EMT_SIGNATURE_2','hallmark_emt','pEMT_gm','genes_dge_cancer_emt_vs_cafs_and_cancer_refined','genes_dge_cancer_emt_vs_cafs_and_cancer_refined_2', 'celltype_broader'],\n",
    "                            ncols=3,\n",
    "                            return_fig=True,\n",
    "                            color_map = 'viridis'\n",
    "                            )\n",
    "    if save:\n",
    "        curr_path = os.path.join(storing_path, 'plots')\n",
    "        if not os.path.exists(curr_path):\n",
    "            os.makedirs(curr_path)\n",
    "        umap_celltypes.savefig(os.path.join(curr_path, f'umap_celltypes.png'), dpi=600)"
   ]
  },
  {
   "cell_type": "markdown",
   "id": "e8ef2a26",
   "metadata": {},
   "source": [
    "## Store cancer specific signature "
   ]
  },
  {
   "cell_type": "code",
   "execution_count": null,
   "id": "dd27d5cd",
   "metadata": {},
   "outputs": [],
   "source": [
    "len(genes_dge_cancer_emt_vs_cafs_and_cancer_refined),len(genes_dge_cancer_emt_vs_cafs_and_cancer_refined_2)"
   ]
  },
  {
   "cell_type": "code",
   "execution_count": null,
   "id": "e152e17a",
   "metadata": {
    "pycharm": {
     "name": "#%%\n"
    }
   },
   "outputs": [],
   "source": [
    "if save:\n",
    "    pd.Series(list(genes_dge_cancer_emt_vs_cafs_and_cancer_refined)).to_csv(os.path.join(storing_path, 'LUNG_CANCER_EMT_SIGNATURE_1.csv'))\n",
    "    pd.Series(list(genes_dge_cancer_emt_vs_cafs_and_cancer_refined_2)).to_csv(os.path.join(storing_path, 'LUNG_CANCER_EMT_SIGNATURE_2.csv'))"
   ]
  }
 ],
 "metadata": {
  "kernelspec": {
   "display_name": "Python 3 (ipykernel)",
   "language": "python",
   "name": "python3"
  },
  "language_info": {
   "codemirror_mode": {
    "name": "ipython",
    "version": 3
   },
   "file_extension": ".py",
   "mimetype": "text/x-python",
   "name": "python",
   "nbconvert_exporter": "python",
   "pygments_lexer": "ipython3",
   "version": "3.8.12"
  }
 },
 "nbformat": 4,
 "nbformat_minor": 5
}
