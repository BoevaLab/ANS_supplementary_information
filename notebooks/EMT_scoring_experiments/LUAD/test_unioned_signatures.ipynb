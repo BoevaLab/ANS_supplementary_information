{
 "cells": [
  {
   "cell_type": "markdown",
   "id": "ddffe0cd",
   "metadata": {
    "pycharm": {
     "name": "#%% md\n"
    }
   },
   "source": [
    "## Testing different LUAD and ESCC cancer EMT signatures"
   ]
  },
  {
   "cell_type": "code",
   "execution_count": null,
   "id": "5bad41b6",
   "metadata": {
    "pycharm": {
     "name": "#%%\n"
    }
   },
   "outputs": [],
   "source": [
    "from IPython.display import display, HTML\n",
    "display(HTML(\"<style>.container { width:95% !important; }</style>\"))"
   ]
  },
  {
   "cell_type": "code",
   "execution_count": null,
   "id": "d27efe5b",
   "metadata": {
    "pycharm": {
     "name": "#%%\n"
    }
   },
   "outputs": [],
   "source": [
    "import os \n",
    "import sys\n",
    "\n",
    "import pandas as pd\n",
    "import numpy as np\n",
    "import scanpy as sc\n",
    "import matplotlib.pyplot as plt\n",
    "\n",
    "sys.path.append('../../..')\n",
    "from data.load_data import load_datasets\n",
    "from data.constants import BASE_PATH_DATA, BASE_PATH_EXPERIMENTS\n",
    "\n",
    "from signaturescoring import score_signature\n",
    "from signaturescoring.utils.utils import get_mean_and_variance_gene_expression"
   ]
  },
  {
   "cell_type": "code",
   "execution_count": null,
   "id": "ac47ea27",
   "metadata": {
    "pycharm": {
     "name": "#%%\n"
    }
   },
   "outputs": [],
   "source": [
    "plt.rcParams.update({'pdf.fonttype':42, 'font.family':'sans-serif', 'font.sans-serif':'Arial', 'font.size':14})\n",
    "\n",
    "sc.settings.verbosity = 2\n",
    "\n",
    "pl_size = 6\n",
    "dataset = 'luad_xing'\n",
    "\n",
    "\n",
    "base_path_emt_exp = os.path.join(BASE_PATH_EXPERIMENTS, f'EMT_signature_scoring_case_study')\n",
    "\n",
    "base_path_barcodes = os.path.join(base_path_emt_exp, dataset)\n",
    "\n",
    "save = False "
   ]
  },
  {
   "cell_type": "markdown",
   "id": "1c48c49d",
   "metadata": {},
   "source": [
    "Load preprocessed dataset "
   ]
  },
  {
   "cell_type": "code",
   "execution_count": null,
   "id": "4443da04",
   "metadata": {},
   "outputs": [],
   "source": [
    "orig_adata = load_datasets(dataset, preprocessed=True, norm_method='mean')\n",
    "if 'log1p' in orig_adata.uns_keys():\n",
    "    orig_adata.uns['log1p']['base'] = None\n",
    "else:\n",
    "    orig_adata.uns['log1p'] = {'base': None}"
   ]
  },
  {
   "cell_type": "code",
   "execution_count": null,
   "id": "622e75f0",
   "metadata": {},
   "outputs": [],
   "source": [
    "orig_adata.obs.celltype.value_counts()\n",
    "orig_adata = orig_adata[orig_adata.obs.celltype!='Granulocytes'].copy()"
   ]
  },
  {
   "cell_type": "markdown",
   "id": "ed0510c4",
   "metadata": {},
   "source": [
    "Load cancer EMT barcodes"
   ]
  },
  {
   "cell_type": "code",
   "execution_count": null,
   "id": "008b2ad0",
   "metadata": {},
   "outputs": [],
   "source": [
    "barcodes_cancer_emt_cells = pd.read_csv(os.path.join(base_path_barcodes, 'barcodes_cancer_emt.csv'))\n",
    "barcodes_cancer_emt_cells = barcodes_cancer_emt_cells['0']\n",
    "barcodes_cancer_emt_cells.name = 'cancer_emt_cells'"
   ]
  },
  {
   "cell_type": "code",
   "execution_count": null,
   "id": "efdf48dc",
   "metadata": {},
   "outputs": [],
   "source": [
    "barcodes_caf_emt_mes_cells = orig_adata.obs[orig_adata.obs.celltype == 'Fibroblast'].index.to_list() + barcodes_cancer_emt_cells.to_list()\n",
    "barcodes_caf_emt_mes_cells = pd.Series(barcodes_caf_emt_mes_cells)"
   ]
  },
  {
   "cell_type": "code",
   "execution_count": null,
   "id": "bf92693c",
   "metadata": {},
   "outputs": [],
   "source": [
    "orig_adata.obs['celltype_broad'] = orig_adata.obs['celltype'].copy() \n",
    "orig_adata.obs['celltype_broad'] = orig_adata.obs['celltype_broad'].astype(str)"
   ]
  },
  {
   "cell_type": "code",
   "execution_count": null,
   "id": "11219df2",
   "metadata": {},
   "outputs": [],
   "source": [
    "cells_not_cafs_and_cancer_emt = orig_adata.obs.index.isin(barcodes_caf_emt_mes_cells) == False"
   ]
  },
  {
   "cell_type": "code",
   "execution_count": null,
   "id": "4a59a5f9",
   "metadata": {},
   "outputs": [],
   "source": [
    "orig_adata.obs['celltype_broad'][barcodes_cancer_emt_cells.tolist()] = 'Malignant with EMT'\n",
    "orig_adata.obs['celltype_broad'][cells_not_cafs_and_cancer_emt & (orig_adata.obs.celltype != 'Malignant')] = 'rest'\n",
    "orig_adata.obs['celltype_broad'].value_counts().sort_index()"
   ]
  },
  {
   "cell_type": "code",
   "execution_count": null,
   "id": "19dd5be7",
   "metadata": {},
   "outputs": [],
   "source": [
    "orig_adata.obs['celltype_broader'] = orig_adata.obs['celltype'].copy() \n",
    "orig_adata.obs['celltype_broader'] = orig_adata.obs['celltype_broader'].astype('str')"
   ]
  },
  {
   "cell_type": "code",
   "execution_count": null,
   "id": "1a213fb7",
   "metadata": {},
   "outputs": [],
   "source": [
    "orig_adata.obs.loc[orig_adata.obs['celltype_broad']=='Malignant with EMT', 'celltype_broader'] = 'Malignant with EMT'\n",
    "orig_adata.obs.loc[orig_adata.obs['celltype_broad']=='Malignant', 'celltype_broader'] = 'Malignant'\n",
    "orig_adata.obs['celltype_broader'].value_counts().sort_index()"
   ]
  },
  {
   "cell_type": "markdown",
   "id": "654c676d",
   "metadata": {
    "pycharm": {
     "name": "#%% md\n"
    }
   },
   "source": [
    "### Test existing unioned signatures  "
   ]
  },
  {
   "cell_type": "code",
   "execution_count": null,
   "id": "bfae582b",
   "metadata": {},
   "outputs": [],
   "source": [
    "sig_list = {}"
   ]
  },
  {
   "cell_type": "code",
   "execution_count": null,
   "id": "30caf241",
   "metadata": {},
   "outputs": [],
   "source": [
    "ESOPHAG_CANCER_EMT_SIGNATURE_1 = pd.read_csv(os.path.join(base_path_emt_exp,'escc', 'dataset_specific_emt_sig', 'ESOPHAG_CANCER_EMT_SIGNATURE_1.csv'))\n",
    "sig_list['ESOPHAG_CANCER_EMT_SIGNATURE_1'] = ESOPHAG_CANCER_EMT_SIGNATURE_1.iloc[:,1].tolist()\n",
    "\n",
    "ESOPHAG_CANCER_EMT_SIGNATURE_2 = pd.read_csv(os.path.join(base_path_emt_exp, 'escc', 'dataset_specific_emt_sig',  'ESOPHAG_CANCER_EMT_SIGNATURE_2.csv'))\n",
    "sig_list['ESOPHAG_CANCER_EMT_SIGNATURE_2'] = ESOPHAG_CANCER_EMT_SIGNATURE_2.iloc[:,1].tolist()\n",
    "\n",
    "LUNG_CANCER_EMT_SIGNATURE_1 = pd.read_csv(os.path.join(base_path_emt_exp, 'luad_xing', 'dataset_specific_emt_sig','LUNG_CANCER_EMT_SIGNATURE_1.csv'))\n",
    "sig_list['LUNG_CANCER_EMT_SIGNATURE_1'] = LUNG_CANCER_EMT_SIGNATURE_1.iloc[:,1].tolist()\n",
    "\n",
    "LUNG_CANCER_EMT_SIGNATURE_2 = pd.read_csv(os.path.join(base_path_emt_exp, 'luad_xing', 'dataset_specific_emt_sig','LUNG_CANCER_EMT_SIGNATURE_2.csv'))\n",
    "sig_list['LUNG_CANCER_EMT_SIGNATURE_2'] = LUNG_CANCER_EMT_SIGNATURE_2.iloc[:,1].tolist()\n",
    "\n",
    "LUNG1_ESCC2_CANCER_EMT_SIGNATURE_1 = pd.read_csv(os.path.join(base_path_emt_exp, 'escc', 'union_emt_sigs','LUNG1_ESCC2_CANCER_EMT_SIGNATURE_1.csv'))\n",
    "sig_list['LUNG1_ESCC2_CANCER_EMT_SIGNATURE_1'] = LUNG1_ESCC2_CANCER_EMT_SIGNATURE_1.iloc[:,1].tolist()\n",
    "\n",
    "LUNG1_ESCC2_CANCER_EMT_SIGNATURE_2 = pd.read_csv(os.path.join(base_path_emt_exp, 'escc', 'union_emt_sigs','LUNG1_ESCC2_CANCER_EMT_SIGNATURE_2.csv'))\n",
    "sig_list['LUNG1_ESCC2_CANCER_EMT_SIGNATURE_2'] = LUNG1_ESCC2_CANCER_EMT_SIGNATURE_2.iloc[:,1].tolist()\n",
    "\n",
    "LUNG1_ESCC2_CANCER_EMT_SIGNATURE_3 = pd.read_csv(os.path.join(base_path_emt_exp, 'escc', 'union_emt_sigs','LUNG1_ESCC2_CANCER_EMT_SIGNATURE_3.csv'))\n",
    "sig_list['LUNG1_ESCC2_CANCER_EMT_SIGNATURE_3'] = LUNG1_ESCC2_CANCER_EMT_SIGNATURE_3.iloc[:,1].tolist()\n"
   ]
  },
  {
   "cell_type": "code",
   "execution_count": null,
   "id": "0dcabd59",
   "metadata": {
    "pycharm": {
     "name": "#%%\n"
    }
   },
   "outputs": [],
   "source": [
    "df_mean_var = get_mean_and_variance_gene_expression(orig_adata, estim_var=False)"
   ]
  },
  {
   "cell_type": "code",
   "execution_count": null,
   "id": "5895673d",
   "metadata": {},
   "outputs": [],
   "source": [
    "for sig_name, sig in sig_list.items():\n",
    "    print(sig_name, len(sig))\n",
    "    score_signature(method=\"adjusted_neighborhood_scoring\",\n",
    "                        adata=orig_adata,\n",
    "                        gene_list= sig,\n",
    "                        ctrl_size=100,\n",
    "                        df_mean_var = df_mean_var,\n",
    "                        score_name=sig_name)\n",
    "    print()"
   ]
  },
  {
   "cell_type": "code",
   "execution_count": null,
   "id": "ea710e9a",
   "metadata": {
    "pycharm": {
     "name": "#%%\n"
    }
   },
   "outputs": [],
   "source": [
    "gt = orig_adata.obs.celltype_broader.copy()\n",
    "gt = gt.astype(str)\n",
    "\n",
    "gt[gt!='Malignant with EMT']= 'Rest'"
   ]
  },
  {
   "cell_type": "code",
   "execution_count": null,
   "id": "ac192faa",
   "metadata": {
    "pycharm": {
     "name": "#%%\n"
    }
   },
   "outputs": [],
   "source": [
    "orig_adata.obs.celltype_broader.value_counts().sort_index()"
   ]
  },
  {
   "cell_type": "code",
   "execution_count": null,
   "id": "25cd2ce9",
   "metadata": {
    "pycharm": {
     "name": "#%%\n"
    }
   },
   "outputs": [],
   "source": [
    "caf_and_cancer_emt = orig_adata.obs.celltype_broader[orig_adata.obs.celltype_broader.isin(['Malignant with EMT','Fibroblast' ])].index.tolist()\n",
    "cancer_and_cancer_emt = orig_adata.obs.celltype_broader[orig_adata.obs.celltype_broader.isin(['Malignant with EMT','Malignant' ])].index.tolist()"
   ]
  },
  {
   "cell_type": "code",
   "execution_count": null,
   "id": "16e5ec64",
   "metadata": {
    "pycharm": {
     "name": "#%%\n"
    }
   },
   "outputs": [],
   "source": [
    "len(caf_and_cancer_emt), len(cancer_and_cancer_emt)"
   ]
  },
  {
   "cell_type": "code",
   "execution_count": null,
   "id": "ce58dc98",
   "metadata": {},
   "outputs": [],
   "source": [
    "plt.rcParams.update({'pdf.fonttype':42, 'font.family':'sans-serif', 'font.sans-serif':'Arial', 'font.size':14})\n",
    "orig_adata.obs.ESOPHAG_CANCER_EMT_SIGNATURE_1.hist()\n",
    "plt.close()"
   ]
  },
  {
   "cell_type": "code",
   "execution_count": null,
   "id": "c43fa2e5",
   "metadata": {
    "pycharm": {
     "name": "#%%\n"
    },
    "scrolled": false
   },
   "outputs": [],
   "source": [
    "from sklearn.metrics import precision_recall_curve, auc\n",
    "\n",
    "plt.rcParams.update({'pdf.fonttype':42, 'font.family':'sans-serif', 'font.sans-serif':'Arial', 'font.size':14})\n",
    "\n",
    "pos_lbl = 'Malignant with EMT'\n",
    "\n",
    "for score_name in sig_list.keys():\n",
    "    plt.figure(figsize=(10,8))\n",
    "    \n",
    "    lr_precision, lr_recall, _ = precision_recall_curve(gt, orig_adata.obs[score_name], pos_label=pos_lbl)\n",
    "    lr_auc = auc(lr_recall, lr_precision)\n",
    "    \n",
    "    lr_precision, lr_recall, _ = precision_recall_curve(gt[caf_and_cancer_emt], orig_adata.obs.loc[caf_and_cancer_emt,score_name], pos_label=pos_lbl)\n",
    "    lr_auc_caf_and_emt = auc(lr_recall, lr_precision)\n",
    "    \n",
    "    lr_precision, lr_recall, _ = precision_recall_curve(gt[cancer_and_cancer_emt], orig_adata.obs.loc[cancer_and_cancer_emt,score_name], pos_label=pos_lbl)\n",
    "    lr_auc_cancer_and_emt = auc(lr_recall, lr_precision)\n",
    "    \n",
    "    for group in orig_adata.obs.groupby('celltype_broader'):\n",
    "        group[1][score_name].hist(bins=100, density=True, alpha=0.5, label=group[0])\n",
    "    \n",
    "    plt.title(score_name+\\\n",
    "              '\\nAUCPR Malignant with EMT vs. Rest '+ str(np.round(lr_auc, decimals=3))+\\\n",
    "              '\\nAUCPR Malignant with EMT vs. CAFS '+str(np.round(lr_auc_caf_and_emt, decimals=3))+\\\n",
    "              '\\nAUCPR Malignant with EMT vs. Malignant '+str(np.round(lr_auc_cancer_and_emt, decimals=3)), fontsize=16)\n",
    "    plt.legend()\n",
    "    plt.ylim([0,20])\n",
    "    plt.tight_layout()\n",
    "    plt.show()"
   ]
  },
  {
   "cell_type": "code",
   "execution_count": null,
   "id": "1735674f",
   "metadata": {
    "pycharm": {
     "name": "#%%\n"
    }
   },
   "outputs": [],
   "source": [
    "sc.pl.violin(orig_adata,keys=list(sig_list.keys()), groupby='celltype_broader', rotation=90, show=False)\n",
    "plt.show()"
   ]
  },
  {
   "cell_type": "code",
   "execution_count": null,
   "id": "76f353cb",
   "metadata": {},
   "outputs": [],
   "source": []
  }
 ],
 "metadata": {
  "kernelspec": {
   "display_name": "Python 3 (ipykernel)",
   "language": "python",
   "name": "python3"
  },
  "language_info": {
   "codemirror_mode": {
    "name": "ipython",
    "version": 3
   },
   "file_extension": ".py",
   "mimetype": "text/x-python",
   "name": "python",
   "nbconvert_exporter": "python",
   "pygments_lexer": "ipython3",
   "version": "3.8.12"
  }
 },
 "nbformat": 4,
 "nbformat_minor": 5
}
