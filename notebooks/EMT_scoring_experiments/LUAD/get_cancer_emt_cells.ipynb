{
 "cells": [
  {
   "cell_type": "markdown",
   "id": "66d5a3bb",
   "metadata": {
    "pycharm": {
     "name": "#%% md\n"
    }
   },
   "source": [
    "## Get cancer EMT cells for LUAD (Xing et al.)\n",
    "Score mutliple pan-cancer EMT signatures. Convert scores to rank and compute median rank per cell.\n",
    "Cancer EMT cells are sells within the 10% of cells with the smallest ranks."
   ]
  },
  {
   "cell_type": "code",
   "execution_count": null,
   "id": "5bad41b6",
   "metadata": {
    "pycharm": {
     "name": "#%%\n"
    }
   },
   "outputs": [],
   "source": [
    "from IPython.display import display, HTML\n",
    "display(HTML(\"<style>.container { width:90% !important; }</style>\"))"
   ]
  },
  {
   "cell_type": "code",
   "execution_count": null,
   "id": "d27efe5b",
   "metadata": {
    "pycharm": {
     "name": "#%%\n"
    }
   },
   "outputs": [],
   "source": [
    "import os \n",
    "import sys\n",
    "\n",
    "import pandas as pd\n",
    "import scanpy as sc\n",
    "import matplotlib.pyplot as plt\n",
    "\n",
    "sys.path.append('../../..')\n",
    "from data.load_data import load_datasets\n",
    "from data.constants import BASE_PATH_EXPERIMENTS, BASE_PATH_DATA\n",
    "\n",
    "from signaturescoring import score_signature\n",
    "from signaturescoring.utils.utils import get_mean_and_variance_gene_expression, check_signature_genes"
   ]
  },
  {
   "cell_type": "code",
   "execution_count": null,
   "id": "82faa885",
   "metadata": {},
   "outputs": [],
   "source": [
    "sc.settings.verbosity = 2\n",
    "\n",
    "pl_size = 6\n",
    "\n",
    "save = True\n",
    "\n",
    "dataset = 'luad_xing'"
   ]
  },
  {
   "cell_type": "code",
   "execution_count": null,
   "id": "8aa45176",
   "metadata": {},
   "outputs": [],
   "source": [
    "storing_path = os.path.join(BASE_PATH_EXPERIMENTS, f'EMT_signature_scoring_case_study/{dataset}')\n",
    "if not os.path.exists(storing_path):\n",
    "    os.makedirs(storing_path)\n",
    "    sc.logging.info(f'Creating new directory to store the results.')"
   ]
  },
  {
   "cell_type": "markdown",
   "id": "05332fa1",
   "metadata": {
    "pycharm": {
     "name": "#%% md\n"
    }
   },
   "source": [
    "Load preprocessed data"
   ]
  },
  {
   "cell_type": "code",
   "execution_count": null,
   "id": "a7526331",
   "metadata": {},
   "outputs": [],
   "source": [
    "adata = load_datasets(dataset, preprocessed=True, norm_method='mean')\n",
    "if 'log1p' in adata.uns_keys():\n",
    "    adata.uns['log1p']['base'] = None\n",
    "else:\n",
    "    adata.uns['log1p'] = {'base': None}"
   ]
  },
  {
   "cell_type": "code",
   "execution_count": null,
   "id": "2d642943",
   "metadata": {},
   "outputs": [],
   "source": [
    "adata.obs.celltype.value_counts().sort_index()"
   ]
  },
  {
   "cell_type": "code",
   "execution_count": null,
   "id": "16185967",
   "metadata": {
    "pycharm": {
     "name": "#%%\n"
    }
   },
   "outputs": [],
   "source": [
    "adata = adata[adata.obs.celltype!='Granulocytes'].copy()"
   ]
  },
  {
   "cell_type": "code",
   "execution_count": null,
   "id": "8a637557",
   "metadata": {},
   "outputs": [],
   "source": [
    "sc.tl.pca(adata)\n",
    "sc.pp.neighbors(adata)\n",
    "sc.tl.umap(adata)"
   ]
  },
  {
   "cell_type": "code",
   "execution_count": null,
   "id": "0027e0fd",
   "metadata": {},
   "outputs": [],
   "source": [
    "plt.rcParams.update({'pdf.fonttype':42, 'font.family':'sans-serif', 'font.sans-serif':'Arial', 'font.size':14})\n",
    "sc.pl.umap(adata, color=['sample_id','malignant_key', 'celltype', 'cell_subtype'], ncols=1)"
   ]
  },
  {
   "cell_type": "markdown",
   "id": "c471166b",
   "metadata": {
    "pycharm": {
     "name": "#%% md\n"
    }
   },
   "source": [
    "### Select cancer emt cells"
   ]
  },
  {
   "cell_type": "code",
   "execution_count": null,
   "id": "8d1188e0",
   "metadata": {
    "pycharm": {
     "name": "#%%\n"
    }
   },
   "outputs": [],
   "source": [
    "import glob\n",
    "import json\n",
    "\n",
    "def get_sig_from_emtome_sig_file(filepath):\n",
    "    assert os.path.exists(filepath)\n",
    "    with open(filepath, 'r') as f:\n",
    "        lines = f.readlines()\n",
    "        lines = lines[2:]\n",
    "        lines = [str(x[1:-1]) for x in lines]\n",
    "        \n",
    "    return lines\n",
    "\n",
    "## define ase path to emt signatures\n",
    "base_path_emt_signatures = os.path.join(BASE_PATH_DATA, 'annotations/emt')\n",
    "luad_specfic_emt_sigs = glob.glob(base_path_emt_signatures+\"/sigs_from_emtome/luad/*.txt\")\n",
    "luad_specfic_emt_sigs.sort()\n",
    "\n",
    "luad_specfic_emt_sigs = {x.split('/')[-1].split('.')[0]:x for x in luad_specfic_emt_sigs}\n",
    "luad_specfic_emt_sigs = {key:get_sig_from_emtome_sig_file(val) for key, val in luad_specfic_emt_sigs.items()}\n",
    "\n",
    "pan_cancer_emt_sigs = glob.glob(base_path_emt_signatures+\"/sigs_from_emtome/pan_cancer/*.txt\")\n",
    "pan_cancer_emt_sigs.sort()\n",
    "pan_cancer_emt_sigs = {x.split('/')[-1].split('.')[0]:x for x in pan_cancer_emt_sigs}\n",
    "pan_cancer_emt_sigs = {key:get_sig_from_emtome_sig_file(val) for key, val in pan_cancer_emt_sigs.items()}\n",
    "\n",
    "with open(base_path_emt_signatures+'/HALLMARK_EPITHELIAL_MESENCHYMAL_TRANSITION.v7.5.1.json', 'r') as f:\n",
    "    hemt = json.load(f)\n",
    "\n",
    "pan_cancer_emt_sigs['hallmark_emt'] = hemt['HALLMARK_EPITHELIAL_MESENCHYMAL_TRANSITION']['geneSymbols']"
   ]
  },
  {
   "cell_type": "code",
   "execution_count": null,
   "id": "10a8db64",
   "metadata": {
    "pycharm": {
     "name": "#%%\n"
    }
   },
   "outputs": [],
   "source": [
    "GM_B_22 = pd.read_csv(base_path_emt_signatures+'/gene_modules_from_Barkley_et_al_2022.csv')\n",
    "\n",
    "mes_gm  = GM_B_22.Mesenchymal\n",
    "mes_gm = mes_gm.dropna().tolist()\n",
    "\n",
    "pEMT_gm = GM_B_22.pEMT\n",
    "pEMT_gm = pEMT_gm.dropna().tolist()\n",
    "\n",
    "cEMT = GM_B_22.cEMT\n",
    "cEMT = cEMT.dropna().tolist()\n",
    "\n",
    "pEMT = GM_B_22['pEMT.1']\n",
    "pEMT = pEMT.dropna().tolist()"
   ]
  },
  {
   "cell_type": "code",
   "execution_count": null,
   "id": "70b56640",
   "metadata": {
    "pycharm": {
     "name": "#%%\n"
    }
   },
   "outputs": [],
   "source": [
    "pan_cancer_emt_sigs['pEMT_gm'] = pEMT_gm"
   ]
  },
  {
   "cell_type": "code",
   "execution_count": null,
   "id": "b9fb3634",
   "metadata": {},
   "outputs": [],
   "source": [
    "pan_cancer_emt_sigs.keys()"
   ]
  },
  {
   "cell_type": "code",
   "execution_count": null,
   "id": "7126640a",
   "metadata": {
    "pycharm": {
     "name": "#%%\n"
    }
   },
   "outputs": [],
   "source": [
    "df_mean_var = get_mean_and_variance_gene_expression(adata, estim_var=False)"
   ]
  },
  {
   "cell_type": "code",
   "execution_count": null,
   "id": "94f07678",
   "metadata": {
    "pycharm": {
     "name": "#%%\n"
    }
   },
   "outputs": [],
   "source": [
    "for key, val in luad_specfic_emt_sigs.items():\n",
    "    score_signature(method=\"adjusted_neighborhood_scoring\",\n",
    "                        adata=adata,\n",
    "                        gene_list= val,\n",
    "                        ctrl_size=100,\n",
    "                        df_mean_var = df_mean_var,\n",
    "                        score_name=key)"
   ]
  },
  {
   "cell_type": "code",
   "execution_count": null,
   "id": "29915e42",
   "metadata": {
    "pycharm": {
     "name": "#%%\n"
    }
   },
   "outputs": [],
   "source": [
    "for key, val in pan_cancer_emt_sigs.items():\n",
    "    score_signature(method=\"adjusted_neighborhood_scoring\",\n",
    "                        adata=adata,\n",
    "                        gene_list= val,\n",
    "                        ctrl_size=100,\n",
    "                        df_mean_var = df_mean_var,\n",
    "                        score_name=key)"
   ]
  },
  {
   "cell_type": "code",
   "execution_count": null,
   "id": "bb70dba2",
   "metadata": {
    "pycharm": {
     "name": "#%%\n"
    },
    "scrolled": true
   },
   "outputs": [],
   "source": [
    "plt.rcParams.update({'pdf.fonttype':42, 'font.family':'sans-serif', 'font.sans-serif':'Arial', 'font.size':14})\n",
    "\n",
    "with plt.rc_context({'figure.figsize':(10,8)}):\n",
    "    fig = sc.pl.umap(adata[adata.obs.malignant_key =='malignant'], \n",
    "               color=['sample_id','malignant_key', 'celltype', 'cell_subtype_clusters', 'cell_subtype']+list(luad_specfic_emt_sigs.keys())+list(pan_cancer_emt_sigs.keys()), \n",
    "               ncols=4,\n",
    "               return_fig=True)\n",
    "    if save:\n",
    "        curr_path = os.path.join(storing_path, 'cancer_emt_barcode_selection')\n",
    "        if not os.path.exists(curr_path):\n",
    "            os.mkdir(curr_path)\n",
    "        fig.savefig(os.path.join(curr_path, f'mal_cells_umap_emt_sigs.png'), dpi=600)"
   ]
  },
  {
   "cell_type": "code",
   "execution_count": null,
   "id": "c3441e50",
   "metadata": {
    "pycharm": {
     "name": "#%%\n"
    }
   },
   "outputs": [],
   "source": [
    "score_names_pan_cancer = list(pan_cancer_emt_sigs.keys())"
   ]
  },
  {
   "cell_type": "code",
   "execution_count": null,
   "id": "2f82665d",
   "metadata": {
    "pycharm": {
     "name": "#%%\n"
    }
   },
   "outputs": [],
   "source": [
    "cancer_cells  = adata[adata.obs.malignant_key=='malignant'].copy()"
   ]
  },
  {
   "cell_type": "code",
   "execution_count": null,
   "id": "73b2545d",
   "metadata": {
    "pycharm": {
     "name": "#%%\n"
    }
   },
   "outputs": [],
   "source": [
    "cell_ranks_for_score_names =[]"
   ]
  },
  {
   "cell_type": "code",
   "execution_count": null,
   "id": "01778c8b",
   "metadata": {
    "pycharm": {
     "name": "#%%\n"
    }
   },
   "outputs": [],
   "source": [
    "for col in score_names_pan_cancer:\n",
    "    cell_ranks_for_score_names.append((cancer_cells.obs[col]).rank(na_option='bottom', ascending=False))"
   ]
  },
  {
   "cell_type": "code",
   "execution_count": null,
   "id": "f2fd608b",
   "metadata": {
    "pycharm": {
     "name": "#%%\n"
    }
   },
   "outputs": [],
   "source": [
    "ranked_cells = pd.concat(cell_ranks_for_score_names, axis=1)"
   ]
  },
  {
   "cell_type": "code",
   "execution_count": null,
   "id": "93af0075",
   "metadata": {
    "pycharm": {
     "name": "#%%\n"
    }
   },
   "outputs": [],
   "source": [
    "sorted_ranks = ranked_cells.loc[ranked_cells.median(axis=1).sort_values().index,:]"
   ]
  },
  {
   "cell_type": "code",
   "execution_count": null,
   "id": "83b012c9",
   "metadata": {
    "pycharm": {
     "name": "#%%\n"
    }
   },
   "outputs": [],
   "source": [
    "sorted_ranks.median(axis=1).hist(bins=100)\n",
    "plt.axvline(sorted_ranks.median(axis=1).quantile(0.1),c='r', label='quantile 0.1')\n",
    "plt.title(f'Distribution median ranks.')\n",
    "if save:\n",
    "    curr_path = os.path.join(storing_path, 'cancer_emt_barcode_selection')\n",
    "    if not os.path.exists(curr_path):\n",
    "        os.mkdir(curr_path)\n",
    "    plt.savefig(os.path.join(curr_path, f'distr_median_ranks.png'), dpi=600)"
   ]
  },
  {
   "cell_type": "code",
   "execution_count": null,
   "id": "ee8ad958",
   "metadata": {
    "pycharm": {
     "name": "#%%\n"
    }
   },
   "outputs": [],
   "source": [
    "sorted_ranks_median = sorted_ranks.median(axis=1)"
   ]
  },
  {
   "cell_type": "code",
   "execution_count": null,
   "id": "ebb11f52",
   "metadata": {
    "pycharm": {
     "name": "#%%\n"
    }
   },
   "outputs": [],
   "source": [
    "barcodes_cancer_emt = sorted_ranks_median[sorted_ranks_median <= sorted_ranks_median.quantile(0.1)].index.tolist()"
   ]
  },
  {
   "cell_type": "code",
   "execution_count": null,
   "id": "157866dc",
   "metadata": {
    "pycharm": {
     "name": "#%%\n"
    }
   },
   "outputs": [],
   "source": [
    "## define path to store the cancer emt cell barcodes\n",
    "if save:\n",
    "    pd.Series(barcodes_cancer_emt).to_csv(os.path.join(storing_path, 'barcodes_cancer_emt.csv'))"
   ]
  },
  {
   "cell_type": "code",
   "execution_count": null,
   "id": "4f09b6db",
   "metadata": {
    "pycharm": {
     "name": "#%%\n"
    }
   },
   "outputs": [],
   "source": [
    "cancer_cells.obs.celltype.value_counts()"
   ]
  },
  {
   "cell_type": "code",
   "execution_count": null,
   "id": "d671ea9a",
   "metadata": {
    "pycharm": {
     "name": "#%%\n"
    }
   },
   "outputs": [],
   "source": [
    "adata.obs['celltype_emt'] = adata.obs.celltype.copy()\n",
    "adata.obs['celltype_emt'] = adata.obs['celltype_emt'].astype(str)"
   ]
  },
  {
   "cell_type": "code",
   "execution_count": null,
   "id": "9c8d6c3b",
   "metadata": {
    "pycharm": {
     "name": "#%%\n"
    }
   },
   "outputs": [],
   "source": [
    "adata.obs.loc[barcodes_cancer_emt, 'celltype_emt'] = 'Malignant with EMT'"
   ]
  },
  {
   "cell_type": "code",
   "execution_count": null,
   "id": "3f5f8c59",
   "metadata": {
    "pycharm": {
     "name": "#%%\n"
    }
   },
   "outputs": [],
   "source": [
    "adata.obs['celltype_emt'] = adata.obs['celltype_emt'].astype('category')"
   ]
  },
  {
   "cell_type": "code",
   "execution_count": null,
   "id": "6cfa0028",
   "metadata": {
    "pycharm": {
     "name": "#%%\n"
    }
   },
   "outputs": [],
   "source": [
    "adata.obs['celltype_emt'].value_counts().sort_index()"
   ]
  },
  {
   "cell_type": "code",
   "execution_count": null,
   "id": "7b95bb99",
   "metadata": {
    "pycharm": {
     "name": "#%%\n"
    }
   },
   "outputs": [],
   "source": [
    "plt.rcParams.update({'pdf.fonttype':42, 'font.family':'sans-serif', 'font.sans-serif':'Arial', 'font.size':14})\n",
    "\n",
    "with plt.rc_context({'figure.figsize':(10,8)}):\n",
    "    umap_fig = sc.pl.umap(adata[adata.obs.celltype.isin(['Malignant', 'Fibroblast'])], color=score_names_pan_cancer+['sample_id', 'celltype', 'celltype_emt'],return_fig=True,cmap='viridis')\n",
    "    if save:\n",
    "        curr_path = os.path.join(storing_path, 'cancer_emt_barcode_selection')\n",
    "        if not os.path.exists(curr_path):\n",
    "            os.mkdir(curr_path)\n",
    "        umap_fig.savefig(os.path.join(curr_path, f'mal_n_caf_cells_umap_emt_sigs.png'), dpi=600)"
   ]
  },
  {
   "cell_type": "code",
   "execution_count": null,
   "id": "4d99a1fd",
   "metadata": {
    "pycharm": {
     "name": "#%%\n"
    }
   },
   "outputs": [],
   "source": [
    "adata.obs.celltype_emt = adata.obs.celltype_emt.astype('category') "
   ]
  },
  {
   "cell_type": "code",
   "execution_count": null,
   "id": "7f9bb7e4",
   "metadata": {
    "pycharm": {
     "name": "#%%\n"
    }
   },
   "outputs": [],
   "source": [
    "tmp = adata.obs[['sample_id','celltype_emt']]"
   ]
  },
  {
   "cell_type": "code",
   "execution_count": null,
   "id": "93c29364",
   "metadata": {
    "pycharm": {
     "name": "#%%\n"
    }
   },
   "outputs": [],
   "source": [
    "cross_tab_prop = pd.crosstab(index=tmp['sample_id'],\n",
    "                             columns=tmp['celltype_emt'],\n",
    "                             normalize=\"index\")"
   ]
  },
  {
   "cell_type": "code",
   "execution_count": null,
   "id": "675e2f1b",
   "metadata": {},
   "outputs": [],
   "source": [
    "cross_tab_prop = cross_tab_prop[['Malignant with EMT', 'Malignant', 'Fibroblast', \n",
    "                                 'B_cell', 'Dendritic', 'Endothelial', 'Epithelial',\n",
    "                                 'Erythroblast', 'Macrophage', 'Mast', 'Monocyte', 'NK_cell', 'T_cell']]"
   ]
  },
  {
   "cell_type": "code",
   "execution_count": null,
   "id": "9ad1bea0",
   "metadata": {
    "pycharm": {
     "name": "#%%\n"
    }
   },
   "outputs": [],
   "source": [
    "plt.rcParams.update({'pdf.fonttype':42, 'font.family':'sans-serif', 'font.sans-serif':'Arial', 'font.size':14})\n",
    "\n",
    "cross_tab_prop.plot(kind='bar', \n",
    "                    stacked=True, \n",
    "                    colormap='tab20', \n",
    "                    figsize=(10, 6))\n",
    "plt.legend(loc='center left',bbox_to_anchor=(1.0, 0.5),ncol=1)\n",
    "plt.xlabel(\"Sample ID\")\n",
    "plt.ylabel(\"Proportions\")\n",
    "plt.tight_layout()\n",
    "\n",
    "if save:\n",
    "    curr_path = os.path.join(storing_path, 'proportions')\n",
    "    if not os.path.exists(curr_path):\n",
    "        os.mkdir(curr_path)\n",
    "    plt.savefig(os.path.join(curr_path, f'distribution_celltypes.svg'))\n",
    "    cross_tab_prop.to_csv(os.path.join(curr_path, f'proportions_celltype.csv'))"
   ]
  },
  {
   "cell_type": "code",
   "execution_count": null,
   "id": "61a36b15",
   "metadata": {},
   "outputs": [],
   "source": [
    "prop_counts = pd.crosstab(index=tmp['sample_id'],\n",
    "            columns=tmp['celltype_emt'],)\n",
    "prop_counts = prop_counts[['Malignant with EMT', 'Malignant', 'Fibroblast', \n",
    "                                 'B_cell', 'Dendritic', 'Endothelial', 'Epithelial',\n",
    "                                 'Erythroblast', 'Macrophage', 'Mast', 'Monocyte', 'NK_cell', 'T_cell']]\n",
    "if save:\n",
    "    curr_path = os.path.join(storing_path, 'proportions')\n",
    "    if not os.path.exists(curr_path):\n",
    "        os.mkdir(curr_path)\n",
    "    prop_counts.to_csv(os.path.join(curr_path, f'counts_celltype.csv'))"
   ]
  },
  {
   "cell_type": "code",
   "execution_count": null,
   "id": "98a4c3fc",
   "metadata": {
    "pycharm": {
     "name": "#%%\n"
    }
   },
   "outputs": [],
   "source": []
  }
 ],
 "metadata": {
  "kernelspec": {
   "display_name": "Python 3 (ipykernel)",
   "language": "python",
   "name": "python3"
  },
  "language_info": {
   "codemirror_mode": {
    "name": "ipython",
    "version": 3
   },
   "file_extension": ".py",
   "mimetype": "text/x-python",
   "name": "python",
   "nbconvert_exporter": "python",
   "pygments_lexer": "ipython3",
   "version": "3.8.12"
  }
 },
 "nbformat": 4,
 "nbformat_minor": 5
}
