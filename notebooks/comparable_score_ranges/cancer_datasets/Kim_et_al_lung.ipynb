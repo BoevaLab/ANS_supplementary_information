{
 "cells": [
  {
   "cell_type": "code",
   "id": "initial_id",
   "metadata": {
    "collapsed": true
   },
   "source": [
    "import sys\n",
    "import warnings\n",
    "from collections import defaultdict\n",
    "from pathlib import Path\n",
    "\n",
    "import matplotlib.pyplot as plt\n",
    "import numpy as np\n",
    "import pandas as pd\n",
    "import scanpy as sc\n",
    "\n",
    "sys.path.append('..')\n",
    "\n",
    "from score_with_all_methods import (\n",
    "    score_signatures_with_all_methods,\n",
    "    label_assignment_from_scores,\n",
    "    get_lbl_assignment_performance,\n",
    "    get_information_from_scores,\n",
    "    remove_overlapping_signature_genes,\n",
    "    get_violin_all_methods,\n",
    "    prepare_data_for_violin_plot,\n",
    "    save_close_or_show,\n",
    "    plot_confusion_matrix\n",
    ")\n",
    "\n",
    "warnings.simplefilter(action='ignore', category=FutureWarning)\n",
    "plt.rcParams.update({'pdf.fonttype': 42, 'font.family': 'sans-serif', 'font.sans-serif': 'Arial', 'font.size': 10})"
   ],
   "outputs": [],
   "execution_count": null
  },
  {
   "cell_type": "markdown",
   "source": [
    "# Kim et al. lung dataset\n",
    "Kim, N., Kim, H.K., Lee, K. et al. Single-cell RNA sequencing demonstrates the molecular and cellular reprogramming of metastatic lung adenocarcinoma. Nat Commun 11, 2285 (2020). https://doi.org/10.1038/s41467-020-16164-1"
   ],
   "metadata": {
    "collapsed": false
   },
   "id": "d68abfd7c5e82bd8"
  },
  {
   "cell_type": "markdown",
   "source": [
    "Storing information and global variables"
   ],
   "metadata": {
    "collapsed": false
   },
   "id": "79947bfad0c1893a"
  },
  {
   "cell_type": "code",
   "source": [
    "base_data_path = Path('/Users/lciernik/Documents/TUB/projects/ans_scoring/data/data_from_florian/')\n",
    "\n",
    "remove_overlapping_genes = True\n",
    "\n",
    "SAVE = False\n",
    "storing_path = Path('/Users/lciernik/Documents/TUB/projects/ans_scoring/results/cancer_datasets/lung')\n",
    "\n",
    "if remove_overlapping_genes:\n",
    "    storing_path = storing_path / 'signatures_without_overlapping'\n",
    "else:\n",
    "    storing_path = storing_path / 'signatures_with_overlapping'\n",
    "\n",
    "if SAVE:\n",
    "    storing_path.mkdir(parents=True, exist_ok=True)"
   ],
   "metadata": {
    "collapsed": false
   },
   "id": "2a438aeaaa416576",
   "outputs": [],
   "execution_count": null
  },
  {
   "cell_type": "markdown",
   "source": [
    "Loading data"
   ],
   "metadata": {
    "collapsed": false
   },
   "id": "251788a9063f0977"
  },
  {
   "cell_type": "code",
   "source": [
    "adata = sc.read_h5ad(base_data_path / 'data' / 'kim_lung.h5ad')"
   ],
   "metadata": {
    "collapsed": false
   },
   "id": "7a0d9f1b4b5f2a00",
   "outputs": [],
   "execution_count": null
  },
  {
   "cell_type": "code",
   "source": [
    "samples_in_adata = adata.obs.index.to_list()"
   ],
   "metadata": {
    "collapsed": false
   },
   "id": "c73e4e1d62182b8f",
   "outputs": [],
   "execution_count": null
  },
  {
   "cell_type": "code",
   "source": [
    "cell_labels = pd.read_table(base_data_path / \"labels/GSE131907_Lung_Cancer_cell_annotation.txt\")\n",
    "cell_labels['Index'] = cell_labels['Index'].str.replace('_', '-')\n",
    "cell_labels = cell_labels.set_index('Index')\n",
    "cell_labels = cell_labels.loc[samples_in_adata]"
   ],
   "metadata": {
    "collapsed": false
   },
   "id": "4653c6a922ad971b",
   "outputs": [],
   "execution_count": null
  },
  {
   "cell_type": "code",
   "source": [
    "y_true_col = 'Cell_subtype'\n",
    "sample_col = 'sample'"
   ],
   "metadata": {
    "collapsed": false
   },
   "id": "686f79491645e399",
   "outputs": [],
   "execution_count": null
  },
  {
   "cell_type": "code",
   "source": [
    "adata.obs[y_true_col] = cell_labels[y_true_col].str.lower()"
   ],
   "metadata": {
    "collapsed": false
   },
   "id": "f2de9ed0aae7e3e2",
   "outputs": [],
   "execution_count": null
  },
  {
   "cell_type": "code",
   "source": [
    "adata = adata[adata.obs[adata.obs[y_true_col].str.startswith('ts', na=False)].index]"
   ],
   "metadata": {
    "collapsed": false
   },
   "id": "f5099b359e22e315",
   "outputs": [],
   "execution_count": null
  },
  {
   "cell_type": "code",
   "source": [
    "adata.obs[y_true_col].value_counts()"
   ],
   "metadata": {
    "collapsed": false
   },
   "id": "8e034a0191806ea9",
   "outputs": [],
   "execution_count": null
  },
  {
   "cell_type": "markdown",
   "source": [
    "Loading signatures"
   ],
   "metadata": {
    "collapsed": false
   },
   "id": "d94a7ec4679d912a"
  },
  {
   "cell_type": "code",
   "source": [
    "signatures = pd.read_csv(base_data_path / 'annotations' / 'kim_3.csv')\n",
    "signatures = signatures.to_dict('series')\n",
    "signatures = {k: sorted(v.dropna().tolist()) for k, v in signatures.items()}"
   ],
   "metadata": {
    "collapsed": false
   },
   "id": "b6419107c91e89d4",
   "outputs": [],
   "execution_count": null
  },
  {
   "cell_type": "code",
   "source": [
    "if remove_overlapping_genes:\n",
    "    signatures = remove_overlapping_signature_genes(signatures)"
   ],
   "metadata": {
    "collapsed": false
   },
   "id": "c933cd6577c61f3b",
   "outputs": [],
   "execution_count": null
  },
  {
   "cell_type": "code",
   "source": [
    "order_signatures = list(signatures.keys())"
   ],
   "metadata": {
    "collapsed": false
   },
   "id": "59f1d58a187c2d46",
   "outputs": [],
   "execution_count": null
  },
  {
   "cell_type": "markdown",
   "source": [
    "Computing dimensionality reduction"
   ],
   "metadata": {
    "collapsed": false
   },
   "id": "ffe0360177166a42"
  },
  {
   "cell_type": "code",
   "source": [
    "# sc.tl.pca(adata)\n",
    "# sce.pp.harmony_integrate(adata, sample_col)\n",
    "# sc.pp.neighbors(adata, use_rep='X_pca_harmony')\n",
    "# sc.tl.umap(adata)"
   ],
   "metadata": {
    "collapsed": false
   },
   "id": "eca3487d8393afe9",
   "outputs": [],
   "execution_count": null
  },
  {
   "cell_type": "markdown",
   "source": [
    "Scoring signatures"
   ],
   "metadata": {
    "collapsed": false
   },
   "id": "cd4271b832850fcd"
  },
  {
   "cell_type": "code",
   "source": [
    "score_cols, adata = score_signatures_with_all_methods(adata, signatures)"
   ],
   "metadata": {
    "collapsed": false
   },
   "id": "b21e32efcc1cb3f9",
   "outputs": [],
   "execution_count": null
  },
  {
   "cell_type": "markdown",
   "source": [
    "Label assignment"
   ],
   "metadata": {
    "collapsed": false
   },
   "id": "7e696fd6d86d15d2"
  },
  {
   "cell_type": "code",
   "source": [
    "all_cols = []\n",
    "label_cols = {}\n",
    "for method_name, method_scores in score_cols.items():\n",
    "    adata, new_lbl_col = label_assignment_from_scores(adata, method_name, method_scores, include_undefined=False)\n",
    "    label_cols[method_name] = new_lbl_col\n",
    "    all_cols += method_scores + [new_lbl_col]"
   ],
   "metadata": {
    "collapsed": false
   },
   "id": "8bbf91ad4066225d",
   "outputs": [],
   "execution_count": null
  },
  {
   "cell_type": "markdown",
   "source": [
    "Visualizing results"
   ],
   "metadata": {
    "collapsed": false
   },
   "id": "73b68c78140ca223"
  },
  {
   "cell_type": "code",
   "source": [
    "# fig = sc.pl.umap(adata, color=all_cols + [sample_col, y_true_col], ncols=len(signatures) + 1, return_fig=True)\n",
    "# if SAVE:\n",
    "#     fig.savefig(storing_path / 'umap.png', bbox_inches='tight')\n",
    "#     fig.savefig(storing_path / 'umap.pdf', bbox_inches='tight')\n",
    "#     plt.close(fig)\n",
    "#     print(f\"Saved UMAP.\")\n",
    "# else:\n",
    "#     plt.show(fig)"
   ],
   "metadata": {
    "collapsed": false
   },
   "id": "85248b5a0ef44bd7",
   "outputs": [],
   "execution_count": null
  },
  {
   "cell_type": "code",
   "source": [
    "df_melted = prepare_data_for_violin_plot(adata, y_true_col, score_cols)"
   ],
   "metadata": {
    "collapsed": false
   },
   "id": "d6ca9e150ddb7d9c",
   "outputs": [],
   "execution_count": null
  },
  {
   "cell_type": "code",
   "source": [
    "df_melted['Signature'].unique()"
   ],
   "metadata": {
    "collapsed": false
   },
   "id": "808a0e14eb8bc0a2",
   "outputs": [],
   "execution_count": null
  },
  {
   "cell_type": "code",
   "source": [
    "### Combined violin plots\n",
    "fig = get_violin_all_methods(df_melted, y_true_col, hue_order=order_signatures, \n",
    "                              height=1.95,\n",
    "                              aspect=1.15,\n",
    "                              sharey=False,\n",
    "                              wspace=0.15,\n",
    "                              col_wrap=4,\n",
    "                              legend_bbox_anchor=(1.13, 1),\n",
    "                             )\n",
    "save_close_or_show(fig, SAVE, storing_path / \"violin_all_methods.pdf\")"
   ],
   "metadata": {
    "collapsed": false
   },
   "id": "5f08ab956aeffc53",
   "outputs": [],
   "execution_count": null
  },
  {
   "cell_type": "code",
   "source": [
    "# for method_name, method_scores in score_cols.items():\n",
    "#     df = adata.obs.loc[:, method_scores + [y_true_col]]\n",
    "#     fig = get_violin(df, method_scores, y_true_col)\n",
    "#     plt.title(f\"{method_name}\")\n",
    "#     if SAVE:\n",
    "#         fig.savefig(storing_path / f'violin_{method_name}.png', bbox_inches='tight')\n",
    "#         fig.savefig(storing_path / f'violin_{method_name}.pdf', bbox_inches='tight')\n",
    "#         plt.close(fig)\n",
    "#         print(f\"Saved violin plot for {method_name}.\")\n",
    "#     else:\n",
    "#         plt.show(fig)"
   ],
   "metadata": {
    "collapsed": false
   },
   "id": "ee41ffe27460432",
   "outputs": [],
   "execution_count": null
  },
  {
   "cell_type": "markdown",
   "source": [
    "Computing label assignment performance"
   ],
   "metadata": {
    "collapsed": false
   },
   "id": "a92a2c10ee7eaabd"
  },
  {
   "cell_type": "code",
   "source": [
    "metrics = defaultdict(dict)\n",
    "nfold = 10\n",
    "\n",
    "for method_name, method_scores in score_cols.items():\n",
    "    lbl_col = label_cols[method_name]\n",
    "    conf_mat, bal_acc, f1_val = get_lbl_assignment_performance(adata,\n",
    "                                                               y_true_col=y_true_col,\n",
    "                                                               y_pred_col=lbl_col,\n",
    "                                                               label_names=order_signatures)\n",
    "\n",
    "    scores = get_information_from_scores(adata, y_true_col=y_true_col, scores=method_scores, nfold=nfold)\n",
    "\n",
    "    metrics[method_name] = {\n",
    "        'conf_mat': conf_mat,\n",
    "        'balanced_accuracy': bal_acc,\n",
    "        'f1_score': f1_val,\n",
    "        f'logreg_balanced_accuracy_{nfold}cv': np.mean(scores),\n",
    "        f'logreg_balanced_accuracy_{nfold}cv_std': np.std(scores)\n",
    "    }\n",
    "\n",
    "    ## Confusion matrix plot\n",
    "    fig = plot_confusion_matrix(conf_mat, order_signatures, method_name)\n",
    "    save_close_or_show(fig, SAVE, storing_path / f'conf_mat_{method_name}.pdf')"
   ],
   "metadata": {
    "collapsed": false
   },
   "id": "f8796e4d445cd5f6",
   "outputs": [],
   "execution_count": null
  },
  {
   "cell_type": "code",
   "source": [
    "metrics_df = pd.DataFrame(metrics)"
   ],
   "metadata": {
    "collapsed": false
   },
   "id": "fab5bba67ae9151b",
   "outputs": [],
   "execution_count": null
  },
  {
   "cell_type": "markdown",
   "source": [
    "Saving performance metrics"
   ],
   "metadata": {
    "collapsed": false
   },
   "id": "aa5a26c22ab081"
  },
  {
   "cell_type": "code",
   "source": [
    "if SAVE:\n",
    "    metrics_df.to_csv(storing_path / 'metrics.csv')\n",
    "    print(f\"Saved metrics to {storing_path / 'metrics.csv'}.\")"
   ],
   "metadata": {
    "collapsed": false
   },
   "id": "3f7232f7061e40fb",
   "outputs": [],
   "execution_count": null
  }
 ],
 "metadata": {
  "kernelspec": {
   "display_name": "Python 3",
   "language": "python",
   "name": "python3"
  },
  "language_info": {
   "codemirror_mode": {
    "name": "ipython",
    "version": 2
   },
   "file_extension": ".py",
   "mimetype": "text/x-python",
   "name": "python",
   "nbconvert_exporter": "python",
   "pygments_lexer": "ipython2",
   "version": "2.7.6"
  }
 },
 "nbformat": 4,
 "nbformat_minor": 5
}
