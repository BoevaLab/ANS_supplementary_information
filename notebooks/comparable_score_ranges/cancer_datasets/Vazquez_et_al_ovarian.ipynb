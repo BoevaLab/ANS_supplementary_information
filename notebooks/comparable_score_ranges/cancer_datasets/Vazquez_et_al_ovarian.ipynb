{
 "cells": [
  {
   "cell_type": "code",
   "id": "initial_id",
   "metadata": {
    "collapsed": true
   },
   "source": [
    "import sys\n",
    "import warnings\n",
    "from collections import defaultdict\n",
    "from pathlib import Path\n",
    "\n",
    "import matplotlib.pyplot as plt\n",
    "import numpy as np\n",
    "import pandas as pd\n",
    "import scanpy as sc\n",
    "\n",
    "sys.path.append('..')\n",
    "\n",
    "from score_with_all_methods import (\n",
    "    score_signatures_with_all_methods,\n",
    "    label_assignment_from_scores,\n",
    "    get_lbl_assignment_performance,\n",
    "    get_information_from_scores,\n",
    "    remove_overlapping_signature_genes,\n",
    "    get_violin_all_methods,\n",
    "    prepare_data_for_violin_plot,\n",
    "    save_close_or_show,\n",
    "    plot_confusion_matrix\n",
    ")\n",
    "\n",
    "warnings.simplefilter(action='ignore', category=FutureWarning)\n",
    "plt.rcParams.update({'pdf.fonttype': 42, 'font.family': 'sans-serif', 'font.sans-serif': 'Arial', 'font.size': 10})"
   ],
   "outputs": [],
   "execution_count": null
  },
  {
   "cell_type": "markdown",
   "source": [
    "# Ovarian cancer dataset\n",
    "Vázquez-García, I., Uhlitz, F., Ceglia, N. et al. Ovarian cancer mutational processes drive site-specific immune evasion. Nature 612, 778–786 (2022). https://doi.org/10.1038/s41586-022-05496-1"
   ],
   "metadata": {
    "collapsed": false
   },
   "id": "7d8e1e993a92494a"
  },
  {
   "cell_type": "markdown",
   "source": [
    "Storing information and global variables"
   ],
   "metadata": {
    "collapsed": false
   },
   "id": "79947bfad0c1893a"
  },
  {
   "cell_type": "code",
   "source": [
    "data_path = Path('/Users/lciernik/Documents/TUB/projects/ans_scoring/data')\n",
    "remove_overlapping_genes = True\n",
    "\n",
    "SAVE = False\n",
    "storing_path = Path('/Users/lciernik/Documents/TUB/projects/ans_scoring/results/cancer_datasets/ovarian')\n",
    "\n",
    "if remove_overlapping_genes:\n",
    "    storing_path = storing_path / 'signatures_without_overlapping'\n",
    "else:\n",
    "    storing_path = storing_path / 'signatures_with_overlapping'\n",
    "\n",
    "if SAVE:\n",
    "    storing_path.mkdir(parents=True, exist_ok=True)"
   ],
   "metadata": {
    "collapsed": false
   },
   "id": "2a438aeaaa416576",
   "outputs": [],
   "execution_count": null
  },
  {
   "cell_type": "markdown",
   "source": [
    "Loading data"
   ],
   "metadata": {
    "collapsed": false
   },
   "id": "251788a9063f0977"
  },
  {
   "cell_type": "code",
   "source": [
    "def preprocess(adata):\n",
    "    # mitochondrial genes, \"MT-\" for human, \"Mt-\" for mouse\n",
    "    adata.var[\"mt\"] = adata.var_names.str.startswith(\"MT-\")\n",
    "    # ribosomal genes\n",
    "    adata.var[\"ribo\"] = adata.var_names.str.startswith((\"RPS\", \"RPL\"))\n",
    "    # hemoglobin genes\n",
    "    adata.var[\"hb\"] = adata.var_names.str.contains(\"^HB[^(P)]\")\n",
    "\n",
    "    sc.pp.calculate_qc_metrics(adata, qc_vars=[\"mt\", \"ribo\", \"hb\"], log1p=True, inplace=True)\n",
    "    sc.pp.filter_cells(adata, min_genes=100)\n",
    "    sc.pp.filter_genes(adata, min_cells=3)\n",
    "    # sc.pp.scrublet(adata, batch_key=\"patient\")\n",
    "    sc.pp.normalize_total(adata)\n",
    "    sc.pp.log1p(adata)\n",
    "    return adata"
   ],
   "metadata": {
    "collapsed": false
   },
   "id": "7a0d9f1b4b5f2a00",
   "outputs": [],
   "execution_count": null
  },
  {
   "cell_type": "code",
   "source": [
    "adata = sc.read_h5ad(data_path / 'raw_data/ovarian_malignant.h5ad')\n",
    "adata = preprocess(adata)"
   ],
   "metadata": {
    "collapsed": false
   },
   "id": "40bfaeee37f568c9",
   "outputs": [],
   "execution_count": null
  },
  {
   "metadata": {},
   "cell_type": "code",
   "source": "adata.obs['cluster_label'].value_counts(dropna=False).sort_index()",
   "id": "eef0628d7f8d9092",
   "outputs": [],
   "execution_count": null
  },
  {
   "metadata": {},
   "cell_type": "code",
   "source": "adata.shape",
   "id": "8852d064da465f74",
   "outputs": [],
   "execution_count": null
  },
  {
   "cell_type": "code",
   "source": [
    "y_true_col = 'cluster_label'\n",
    "sample_col = 'patient_id'"
   ],
   "metadata": {
    "collapsed": false
   },
   "id": "686f79491645e399",
   "outputs": [],
   "execution_count": null
  },
  {
   "metadata": {},
   "cell_type": "code",
   "source": "adata.obs[y_true_col].value_counts().sort_index()",
   "id": "1aaafb815c86324a",
   "outputs": [],
   "execution_count": null
  },
  {
   "cell_type": "markdown",
   "source": [
    "Loading signatures"
   ],
   "metadata": {
    "collapsed": false
   },
   "id": "d94a7ec4679d912a"
  },
  {
   "cell_type": "code",
   "source": "signatures = pd.read_csv(data_path / \"annotations/cancer/ovarian_vazquez/ovarian_states.csv\")",
   "metadata": {
    "collapsed": false
   },
   "id": "b6419107c91e89d4",
   "outputs": [],
   "execution_count": null
  },
  {
   "cell_type": "code",
   "source": [
    "signatures = signatures.to_dict('series')\n",
    "signatures = {k: sorted(v.dropna().tolist()) for k, v in signatures.items()}"
   ],
   "metadata": {
    "collapsed": false
   },
   "id": "98d75292e0a7d610",
   "outputs": [],
   "execution_count": null
  },
  {
   "cell_type": "code",
   "source": [
    "if remove_overlapping_genes:\n",
    "    signatures = remove_overlapping_signature_genes(signatures)"
   ],
   "metadata": {
    "collapsed": false
   },
   "id": "c933cd6577c61f3b",
   "outputs": [],
   "execution_count": null
  },
  {
   "cell_type": "code",
   "source": [
    "order_signatures = list(signatures.keys())\n",
    "order_signatures"
   ],
   "metadata": {
    "collapsed": false
   },
   "id": "bc58aeaf01176957",
   "outputs": [],
   "execution_count": null
  },
  {
   "cell_type": "markdown",
   "source": [
    "Computing dimensionality reduction"
   ],
   "metadata": {
    "collapsed": false
   },
   "id": "ffe0360177166a42"
  },
  {
   "cell_type": "code",
   "source": [
    "# sc.tl.pca(adata)\n",
    "# sce.pp.harmony_integrate(adata, sample_col)\n",
    "# sc.pp.neighbors(adata, use_rep='X_pca_harmony')\n",
    "# sc.tl.umap(adata)"
   ],
   "metadata": {
    "collapsed": false
   },
   "id": "eca3487d8393afe9",
   "outputs": [],
   "execution_count": null
  },
  {
   "cell_type": "markdown",
   "source": [
    "Scoring signatures"
   ],
   "metadata": {
    "collapsed": false
   },
   "id": "cd4271b832850fcd"
  },
  {
   "cell_type": "code",
   "source": [
    "score_cols, adata = score_signatures_with_all_methods(adata, signatures)"
   ],
   "metadata": {
    "collapsed": false
   },
   "id": "b21e32efcc1cb3f9",
   "outputs": [],
   "execution_count": null
  },
  {
   "cell_type": "markdown",
   "source": [
    "Label assignment"
   ],
   "metadata": {
    "collapsed": false
   },
   "id": "7e696fd6d86d15d2"
  },
  {
   "cell_type": "code",
   "source": [
    "all_cols = []\n",
    "label_cols = {}\n",
    "for method_name, method_scores in score_cols.items():\n",
    "    adata, new_lbl_col = label_assignment_from_scores(adata, method_name, method_scores, include_undefined=False)\n",
    "    label_cols[method_name] = new_lbl_col\n",
    "    all_cols += method_scores + [new_lbl_col]"
   ],
   "metadata": {
    "collapsed": false
   },
   "id": "8bbf91ad4066225d",
   "outputs": [],
   "execution_count": null
  },
  {
   "cell_type": "markdown",
   "source": [
    "Visualizing results"
   ],
   "metadata": {
    "collapsed": false
   },
   "id": "73b68c78140ca223"
  },
  {
   "cell_type": "code",
   "source": [
    "# fig = sc.pl.umap(adata, color=all_cols + [sample_col, y_true_col], ncols=len(signatures) + 1, return_fig=True)\n",
    "# if SAVE:\n",
    "#     fig.savefig(storing_path / 'umap.png', bbox_inches='tight')\n",
    "#     fig.savefig(storing_path / 'umap.pdf', bbox_inches='tight')\n",
    "#     plt.close(fig)\n",
    "#     print(f\"Saved UMAP.\")\n",
    "# else:\n",
    "#     plt.show(fig)"
   ],
   "metadata": {
    "collapsed": false
   },
   "id": "85248b5a0ef44bd7",
   "outputs": [],
   "execution_count": null
  },
  {
   "cell_type": "code",
   "source": [
    "df_melted = prepare_data_for_violin_plot(adata, y_true_col, score_cols)"
   ],
   "metadata": {
    "collapsed": false
   },
   "id": "30aedff5b97712",
   "outputs": [],
   "execution_count": null
  },
  {
   "cell_type": "code",
   "source": [
    "### Combined violin plots\n",
    "fig = get_violin_all_methods(df_melted, \n",
    "                             y_true_col, \n",
    "                             hue_order=order_signatures, \n",
    "                             textwrap_width=7, \n",
    "                             height=2, aspect=2.5, \n",
    "                             sharey=False,\n",
    "                             col_wrap=2,\n",
    "                             legend_bbox_anchor=(1, 1),\n",
    "                             fontsizes={'title': 12, 'labels': 10, 'ticks': 10, 'legend': 10})\n",
    "save_close_or_show(fig, SAVE, storing_path / \"violin_all_methods.pdf\")"
   ],
   "metadata": {
    "collapsed": false
   },
   "id": "d265c872fc3e1da0",
   "outputs": [],
   "execution_count": null
  },
  {
   "cell_type": "code",
   "source": [
    "# for method_name, method_scores in score_cols.items():\n",
    "#     df = adata.obs.loc[:, method_scores + [y_true_col]]\n",
    "#     fig = get_violin(df, method_scores, y_true_col)\n",
    "#     plt.title(f\"{method_name}\")\n",
    "#     if SAVE:\n",
    "#         fig.savefig(storing_path / f'violin_{method_name}.png', bbox_inches='tight')\n",
    "#         fig.savefig(storing_path / f'violin_{method_name}.pdf', bbox_inches='tight')\n",
    "#         plt.close(fig)\n",
    "#         print(f\"Saved violin plot for {method_name}.\")\n",
    "#     else:\n",
    "#         plt.show(fig)"
   ],
   "metadata": {
    "collapsed": false
   },
   "id": "ee41ffe27460432",
   "outputs": [],
   "execution_count": null
  },
  {
   "cell_type": "markdown",
   "source": [
    "Computing label assignment performance"
   ],
   "metadata": {
    "collapsed": false
   },
   "id": "a92a2c10ee7eaabd"
  },
  {
   "cell_type": "code",
   "source": [
    "metrics = defaultdict(dict)\n",
    "nfold = 10\n",
    "\n",
    "for method_name, method_scores in score_cols.items():\n",
    "    lbl_col = label_cols[method_name]\n",
    "    conf_mat, bal_acc, f1_val = get_lbl_assignment_performance(adata,\n",
    "                                                               y_true_col=y_true_col,\n",
    "                                                               y_pred_col=lbl_col,\n",
    "                                                               label_names=order_signatures)\n",
    "\n",
    "    scores = get_information_from_scores(adata, y_true_col=y_true_col, scores=method_scores, nfold=nfold)\n",
    "\n",
    "    metrics[method_name] = {\n",
    "        'conf_mat': conf_mat,\n",
    "        'balanced_accuracy': bal_acc,\n",
    "        'f1_score': f1_val,\n",
    "        f'logreg_balanced_accuracy_{nfold}cv': np.mean(scores),\n",
    "        f'logreg_balanced_accuracy_{nfold}cv_std': np.std(scores)\n",
    "    }\n",
    "\n",
    "    ## Confusion matrix plot\n",
    "    fig = plot_confusion_matrix(conf_mat, order_signatures, method_name, figsize=(4, 4), textwrap_width=7,\n",
    "                                xrotation=45, cbar=False)\n",
    "    save_close_or_show(fig, SAVE, storing_path / f'conf_mat_{method_name}.pdf')"
   ],
   "metadata": {
    "collapsed": false
   },
   "id": "f8796e4d445cd5f6",
   "outputs": [],
   "execution_count": null
  },
  {
   "cell_type": "code",
   "source": [
    "metrics_df = pd.DataFrame(metrics)"
   ],
   "metadata": {
    "collapsed": false
   },
   "id": "fab5bba67ae9151b",
   "outputs": [],
   "execution_count": null
  },
  {
   "cell_type": "markdown",
   "source": [],
   "metadata": {
    "collapsed": false
   },
   "id": "1300b5190c0a56d9"
  },
  {
   "cell_type": "markdown",
   "source": [
    "Saving performance metrics"
   ],
   "metadata": {
    "collapsed": false
   },
   "id": "aa5a26c22ab081"
  },
  {
   "cell_type": "code",
   "source": [
    "if SAVE:\n",
    "    metrics_df.to_csv(storing_path / 'metrics.csv')\n",
    "    print(f\"Saved metrics to {storing_path / 'metrics.csv'}.\")"
   ],
   "metadata": {
    "collapsed": false
   },
   "id": "3f7232f7061e40fb",
   "outputs": [],
   "execution_count": null
  }
 ],
 "metadata": {
  "kernelspec": {
   "display_name": "Python 3",
   "language": "python",
   "name": "python3"
  },
  "language_info": {
   "codemirror_mode": {
    "name": "ipython",
    "version": 2
   },
   "file_extension": ".py",
   "mimetype": "text/x-python",
   "name": "python",
   "nbconvert_exporter": "python",
   "pygments_lexer": "ipython2",
   "version": "2.7.6"
  }
 },
 "nbformat": 4,
 "nbformat_minor": 5
}
