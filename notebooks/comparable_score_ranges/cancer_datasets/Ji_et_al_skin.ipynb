{
 "cells": [
  {
   "cell_type": "code",
   "id": "initial_id",
   "metadata": {
    "collapsed": true
   },
   "source": [
    "import sys\n",
    "import warnings\n",
    "from collections import defaultdict\n",
    "from pathlib import Path\n",
    "\n",
    "import decoupler as dc\n",
    "import matplotlib.pyplot as plt\n",
    "import numpy as np\n",
    "import pandas as pd\n",
    "import scanpy as sc\n",
    "\n",
    "sys.path.append('..')\n",
    "\n",
    "from score_with_all_methods import (\n",
    "    score_signatures_with_all_methods,\n",
    "    label_assignment_from_scores,\n",
    "    get_lbl_assignment_performance,\n",
    "    get_information_from_scores,\n",
    "    remove_overlapping_signature_genes,\n",
    "    get_violin_all_methods,\n",
    "    prepare_data_for_violin_plot,\n",
    "    save_close_or_show,\n",
    "    plot_confusion_matrix\n",
    ")\n",
    "\n",
    "warnings.simplefilter(action='ignore', category=FutureWarning)\n",
    "plt.rcParams.update({'pdf.fonttype': 42, 'font.family': 'sans-serif', 'font.sans-serif': 'Arial', 'font.size': 10})"
   ],
   "outputs": [],
   "execution_count": null
  },
  {
   "cell_type": "markdown",
   "source": [
    "# Ji et al. 2020 skin dataset\n",
    "Ji AL, Rubin AJ, Thrane K, Jiang S, Reynolds DL, Meyers RM, Guo MG, George BM, Mollbrink A, Bergenstråhle J, Larsson L, Bai Y, Zhu B, Bhaduri A, Meyers JM, Rovira-Clavé X, Hollmig ST, Aasi SZ, Nolan GP, Lundeberg J, Khavari PA. Multimodal Analysis of Composition and Spatial Architecture in Human Squamous Cell Carcinoma. Cell. 2020 Jul 23;182(2):497-514.e22. doi: 10.1016/j.cell.2020.05.039. Epub 2020 Jun 23. Erratum in: Cell. 2020 Sep 17;182(6):1661-1662. doi: 10.1016/j.cell.2020.08.043. PMID: 32579974; PMCID: PMC7391009."
   ],
   "metadata": {
    "collapsed": false
   },
   "id": "28f471af173dbb6c"
  },
  {
   "cell_type": "markdown",
   "source": [
    "Storing information and global variables"
   ],
   "metadata": {
    "collapsed": false
   },
   "id": "79947bfad0c1893a"
  },
  {
   "cell_type": "code",
   "source": [
    "# base_data_path = Path('/Users/lciernik/Documents/TUB/projects/ans_scoring/data/data_from_florian/')\n",
    "\n",
    "remove_overlapping_genes = True\n",
    "\n",
    "SAVE = False\n",
    "storing_path = Path('/Users/lciernik/Documents/TUB/projects/ans_scoring/results/cancer_datasets/skin')\n",
    "\n",
    "if remove_overlapping_genes:\n",
    "    storing_path = storing_path / 'signatures_without_overlapping'\n",
    "else:\n",
    "    storing_path = storing_path / 'signatures_with_overlapping'\n",
    "\n",
    "if SAVE:\n",
    "    storing_path.mkdir(parents=True, exist_ok=True)"
   ],
   "metadata": {
    "collapsed": false
   },
   "id": "2a438aeaaa416576",
   "outputs": [],
   "execution_count": null
  },
  {
   "cell_type": "markdown",
   "source": [
    "Loading data"
   ],
   "metadata": {
    "collapsed": false
   },
   "id": "251788a9063f0977"
  },
  {
   "cell_type": "code",
   "source": [
    "def load_skin():\n",
    "    adata = sc.read(\n",
    "        '/Users/lciernik/Documents/TUB/projects/ans_scoring/data/raw_data/Ji_et_al_2020/GSE144236_cSCC_counts.txt',\n",
    "        delimiter='\\t')\n",
    "\n",
    "    metadata = pd.read_table(\n",
    "        '/Users/lciernik/Documents/TUB/projects/ans_scoring/data/raw_data/Ji_et_al_2020/GSE144236_patient_metadata_new.txt',\n",
    "        delimiter='\\t')\n",
    "\n",
    "    adata = adata.transpose()\n",
    "    adata.obs[metadata.columns.to_list()] = metadata.copy()\n",
    "    adata = adata[:, 2:].copy()\n",
    "    return adata\n",
    "\n",
    "\n",
    "def preprocess(adata):\n",
    "    # mitochondrial genes, \"MT-\" for human, \"Mt-\" for mouse\n",
    "    adata.var[\"mt\"] = adata.var_names.str.startswith(\"MT-\")\n",
    "    # ribosomal genes\n",
    "    adata.var[\"ribo\"] = adata.var_names.str.startswith((\"RPS\", \"RPL\"))\n",
    "    # hemoglobin genes\n",
    "    adata.var[\"hb\"] = adata.var_names.str.contains(\"^HB[^(P)]\")\n",
    "\n",
    "    sc.pp.calculate_qc_metrics(adata, qc_vars=[\"mt\", \"ribo\", \"hb\"], log1p=True, inplace=True)\n",
    "    sc.pp.filter_genes(adata, min_cells=3)\n",
    "    # sc.pp.scrublet(adata, batch_key=\"patient\")\n",
    "    adata.layers[\"counts\"] = adata.X.copy()\n",
    "    sc.pp.normalize_total(adata)\n",
    "    sc.pp.log1p(adata) \n",
    "    return adata"
   ],
   "metadata": {
    "collapsed": false
   },
   "id": "7a0d9f1b4b5f2a00",
   "outputs": [],
   "execution_count": null
  },
  {
   "cell_type": "code",
   "source": [
    "adata = load_skin()\n",
    "print(adata.shape)\n",
    "# adata = preprocess(adata)\n",
    "# print(adata.shape)"
   ],
   "metadata": {},
   "id": "91c03b0490771648",
   "outputs": [],
   "execution_count": null
  },
  {
   "cell_type": "code",
   "source": [
    "y_true_col = 'level2_celltype'\n",
    "sample_col = 'patient'"
   ],
   "metadata": {
    "collapsed": false
   },
   "id": "686f79491645e399",
   "outputs": [],
   "execution_count": null
  },
  {
   "cell_type": "code",
   "source": [
    "# Filter tumor cells\n",
    "adata = adata[adata.obs[y_true_col].isin(['TSK', 'Tumor_KC_Basal', 'Tumor_KC_Cyc', 'Tumor_KC_Diff'])].copy()\n",
    "adata.shape"
   ],
   "metadata": {
    "collapsed": false
   },
   "id": "f2de9ed0aae7e3e2",
   "outputs": [],
   "execution_count": null
  },
  {
   "metadata": {},
   "cell_type": "code",
   "source": "adata.obs[y_true_col].value_counts().sort_index()",
   "id": "9ba5f4b050486a45",
   "outputs": [],
   "execution_count": null
  },
  {
   "cell_type": "code",
   "source": [
    "adata.obs[y_true_col] = adata.obs[y_true_col].astype(str)\n",
    "adata.obs.loc[adata.obs[y_true_col] == 'Tumor_KC_Cyc', y_true_col] = 'Tumor KC Cycling'\n",
    "adata.obs[y_true_col] = adata.obs[y_true_col].astype('category')"
   ],
   "metadata": {
    "collapsed": false
   },
   "id": "12f05bc98d44b712",
   "outputs": [],
   "execution_count": null
  },
  {
   "cell_type": "code",
   "source": [
    "adata.obs[y_true_col] = adata.obs[y_true_col].map(\n",
    "    {val: val.replace('_', ' ') for val in adata.obs[y_true_col].unique()})"
   ],
   "metadata": {
    "collapsed": false
   },
   "id": "f5099b359e22e315",
   "outputs": [],
   "execution_count": null
  },
  {
   "cell_type": "code",
   "source": [
    "adata.obs[y_true_col].value_counts().sort_index()"
   ],
   "metadata": {
    "collapsed": false
   },
   "id": "8e034a0191806ea9",
   "outputs": [],
   "execution_count": null
  },
  {
   "metadata": {},
   "cell_type": "code",
   "source": [
    "adata = preprocess(adata)\n",
    "adata.shape"
   ],
   "id": "cd5b5b0da66fb264",
   "outputs": [],
   "execution_count": null
  },
  {
   "cell_type": "markdown",
   "source": [
    "Loading signatures"
   ],
   "metadata": {
    "collapsed": false
   },
   "id": "d94a7ec4679d912a"
  },
  {
   "cell_type": "code",
   "source": [
    "gmt_file = '/Users/lciernik/Documents/TUB/projects/ans_scoring/data/raw_data/Ji_et_al_2020/gene_sets.gmt'\n",
    "signatures = dc.read_gmt(gmt_file)"
   ],
   "metadata": {
    "collapsed": false
   },
   "id": "b6419107c91e89d4",
   "outputs": [],
   "execution_count": null
  },
  {
   "cell_type": "code",
   "source": [
    "signatures = signatures.groupby('source').target.apply(lambda x: sorted(x.unique()))\n",
    "type(signatures)\n",
    "\n",
    "signatures = signatures.to_dict()\n",
    "print(signatures.keys())"
   ],
   "metadata": {
    "collapsed": false
   },
   "id": "582489974bba937e",
   "outputs": [],
   "execution_count": null
  },
  {
   "cell_type": "code",
   "source": [
    "if remove_overlapping_genes:\n",
    "    signatures = remove_overlapping_signature_genes(signatures)"
   ],
   "metadata": {
    "collapsed": false
   },
   "id": "c933cd6577c61f3b",
   "outputs": [],
   "execution_count": null
  },
  {
   "cell_type": "code",
   "source": [
    "signatures = {k.replace('_', ' '):v for k, v in signatures.items()}\n",
    "list(signatures.keys())"
   ],
   "metadata": {
    "collapsed": false
   },
   "id": "8e1287fc9d17aa18",
   "outputs": [],
   "execution_count": null
  },
  {
   "cell_type": "code",
   "source": [
    "order_signatures = ['Tumor KC Basal', 'Tumor KC Cycling', 'Tumor KC Diff', 'TSK']"
   ],
   "metadata": {
    "collapsed": false
   },
   "id": "829e81e7624dede5",
   "outputs": [],
   "execution_count": null
  },
  {
   "cell_type": "markdown",
   "source": [
    "Computing dimensionality reduction"
   ],
   "metadata": {
    "collapsed": false
   },
   "id": "ffe0360177166a42"
  },
  {
   "cell_type": "code",
   "source": [
    "# sc.tl.pca(adata)\n",
    "# sce.pp.harmony_integrate(adata, sample_col)\n",
    "# sc.pp.neighbors(adata, use_rep='X_pca_harmony')\n",
    "# sc.tl.umap(adata)"
   ],
   "metadata": {
    "collapsed": false
   },
   "id": "eca3487d8393afe9",
   "outputs": [],
   "execution_count": null
  },
  {
   "cell_type": "markdown",
   "source": [
    "Scoring signatures"
   ],
   "metadata": {
    "collapsed": false
   },
   "id": "cd4271b832850fcd"
  },
  {
   "cell_type": "code",
   "source": [
    "score_cols, adata = score_signatures_with_all_methods(adata, signatures)"
   ],
   "metadata": {
    "collapsed": false
   },
   "id": "b21e32efcc1cb3f9",
   "outputs": [],
   "execution_count": null
  },
  {
   "cell_type": "markdown",
   "source": [
    "Label assignment"
   ],
   "metadata": {
    "collapsed": false
   },
   "id": "7e696fd6d86d15d2"
  },
  {
   "cell_type": "code",
   "source": [
    "all_cols = []\n",
    "label_cols = {}\n",
    "for method_name, method_scores in score_cols.items():\n",
    "    adata, new_lbl_col = label_assignment_from_scores(adata, method_name, method_scores, include_undefined=False)\n",
    "    label_cols[method_name] = new_lbl_col\n",
    "    all_cols += method_scores + [new_lbl_col]"
   ],
   "metadata": {
    "collapsed": false
   },
   "id": "8bbf91ad4066225d",
   "outputs": [],
   "execution_count": null
  },
  {
   "cell_type": "markdown",
   "source": [
    "Visualizing results"
   ],
   "metadata": {
    "collapsed": false
   },
   "id": "73b68c78140ca223"
  },
  {
   "cell_type": "code",
   "source": [
    "# fig = sc.pl.umap(adata, color=all_cols + [sample_col, y_true_col], ncols=len(signatures) + 1, return_fig=True)\n",
    "# if SAVE:\n",
    "#     fig.savefig(storing_path / 'umap.png', bbox_inches='tight')\n",
    "#     fig.savefig(storing_path / 'umap.pdf', bbox_inches='tight')\n",
    "#     plt.close(fig)\n",
    "#     print(f\"Saved UMAP.\")\n",
    "# else:\n",
    "#     plt.show(fig)"
   ],
   "metadata": {
    "collapsed": false
   },
   "id": "85248b5a0ef44bd7",
   "outputs": [],
   "execution_count": null
  },
  {
   "cell_type": "code",
   "source": [
    "df_melted = prepare_data_for_violin_plot(adata, y_true_col, score_cols)"
   ],
   "metadata": {
    "collapsed": false
   },
   "id": "d7aafe3596261415",
   "outputs": [],
   "execution_count": null
  },
  {
   "cell_type": "code",
   "source": [
    "df_melted['Signature'].unique()"
   ],
   "metadata": {
    "collapsed": false
   },
   "id": "2ef695f1d0420b05",
   "outputs": [],
   "execution_count": null
  },
  {
   "cell_type": "code",
   "source": [
    "### Combined violin plots\n",
    "fig = get_violin_all_methods(df_melted, y_true_col, \n",
    "                             hue_order=order_signatures, \n",
    "                             textwrap_width=9, \n",
    "                             sharey=False, \n",
    "                             height=1.95, aspect=1.75, \n",
    "                             wspace=0.125,\n",
    "                             legend_bbox_anchor=(1.025, 1),\n",
    "                             fontsizes=dict(title=12, labels=11, ticks=10, legend=11)\n",
    "                             )\n",
    "save_close_or_show(fig, SAVE, storing_path / \"violin_all_methods.pdf\")"
   ],
   "metadata": {
    "collapsed": false
   },
   "id": "3350e341c18b4b22",
   "outputs": [],
   "execution_count": null
  },
  {
   "cell_type": "code",
   "source": [
    "# for method_name, method_scores in score_cols.items():\n",
    "#     df = adata.obs.loc[:, method_scores + [y_true_col]]\n",
    "#     fig = get_violin(df, method_scores, y_true_col)\n",
    "#     plt.title(f\"{method_name}\")\n",
    "#     if SAVE:\n",
    "#         fig.savefig(storing_path / f'violin_{method_name}.png', bbox_inches='tight')\n",
    "#         fig.savefig(storing_path / f'violin_{method_name}.pdf', bbox_inches='tight')\n",
    "#         plt.close(fig)\n",
    "#         print(f\"Saved violin plot for {method_name}.\")\n",
    "#     else:\n",
    "#         plt.show(fig)"
   ],
   "metadata": {
    "collapsed": false
   },
   "id": "ee41ffe27460432",
   "outputs": [],
   "execution_count": null
  },
  {
   "cell_type": "markdown",
   "source": [
    "Computing label assignment performance"
   ],
   "metadata": {
    "collapsed": false
   },
   "id": "a92a2c10ee7eaabd"
  },
  {
   "cell_type": "code",
   "source": [
    "metrics = defaultdict(dict)\n",
    "nfold = 10\n",
    "\n",
    "for method_name, method_scores in score_cols.items():\n",
    "    lbl_col = label_cols[method_name]\n",
    "    conf_mat, bal_acc, f1_val = get_lbl_assignment_performance(adata,\n",
    "                                                               y_true_col=y_true_col,\n",
    "                                                               y_pred_col=lbl_col,\n",
    "                                                               label_names=order_signatures)\n",
    "    scores = get_information_from_scores(adata, y_true_col=y_true_col, scores=method_scores, nfold=nfold)\n",
    "\n",
    "    metrics[method_name] = {\n",
    "        'conf_mat': conf_mat,\n",
    "        'balanced_accuracy': bal_acc,\n",
    "        'f1_score': f1_val,\n",
    "        f'logreg_balanced_accuracy_{nfold}cv': np.mean(scores),\n",
    "        f'logreg_balanced_accuracy_{nfold}cv_std': np.std(scores)\n",
    "    }\n",
    "\n",
    "    ## Confusion matrix plot\n",
    "    # fig = plot_confusion_matrix(conf_mat, order_signatures, method_name, figsize=(3, 3), textwrap_width=7,\n",
    "    #                             xrotation=45, cbar=False)\n",
    "    fig = plot_confusion_matrix(conf_mat, order_signatures, method_name, base_size=0.9, textwrap_width=8, fontsizes={'title': 12, 'labels': 11, 'ticks': 10, 'legend': 11})\n",
    "    save_close_or_show(fig, SAVE, storing_path / f'conf_mat_{method_name}.pdf')"
   ],
   "metadata": {
    "collapsed": false
   },
   "id": "f8796e4d445cd5f6",
   "outputs": [],
   "execution_count": null
  },
  {
   "cell_type": "code",
   "source": [
    "metrics_df = pd.DataFrame(metrics)"
   ],
   "metadata": {
    "collapsed": false
   },
   "id": "fab5bba67ae9151b",
   "outputs": [],
   "execution_count": null
  },
  {
   "cell_type": "markdown",
   "source": [],
   "metadata": {
    "collapsed": false
   },
   "id": "1300b5190c0a56d9"
  },
  {
   "cell_type": "markdown",
   "source": [
    "Saving performance metrics"
   ],
   "metadata": {
    "collapsed": false
   },
   "id": "aa5a26c22ab081"
  },
  {
   "cell_type": "code",
   "source": [
    "if SAVE:\n",
    "    metrics_df.to_csv(storing_path / 'metrics.csv')\n",
    "    print(f\"Saved metrics to {storing_path / 'metrics.csv'}.\")"
   ],
   "metadata": {
    "collapsed": false
   },
   "id": "3f7232f7061e40fb",
   "outputs": [],
   "execution_count": null
  }
 ],
 "metadata": {
  "kernelspec": {
   "display_name": "Python 3",
   "language": "python",
   "name": "python3"
  },
  "language_info": {
   "codemirror_mode": {
    "name": "ipython",
    "version": 2
   },
   "file_extension": ".py",
   "mimetype": "text/x-python",
   "name": "python",
   "nbconvert_exporter": "python",
   "pygments_lexer": "ipython2",
   "version": "2.7.6"
  }
 },
 "nbformat": 4,
 "nbformat_minor": 5
}
