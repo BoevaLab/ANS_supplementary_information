{
 "cells": [
  {
   "cell_type": "code",
   "id": "initial_id",
   "metadata": {
    "collapsed": true
   },
   "source": [
    "%load_ext autoreload\n",
    "%autoreload 2\n",
    "import sys\n",
    "import warnings\n",
    "from collections import defaultdict\n",
    "from pathlib import Path\n",
    "\n",
    "import matplotlib.pyplot as plt\n",
    "import numpy as np\n",
    "import pandas as pd\n",
    "\n",
    "sys.path.append('/Users/lciernik/Documents/TUB/projects/ans_scoring/ANS_supplementary_information')\n",
    "from data.load_data import load_datasets\n",
    "\n",
    "sys.path.append('..')\n",
    "\n",
    "from score_with_all_methods import (\n",
    "    score_signatures_with_all_methods,\n",
    "    label_assignment_from_scores,\n",
    "    get_lbl_assignment_performance,\n",
    "    get_information_from_scores,\n",
    "    remove_overlapping_signature_genes,\n",
    "    get_violin_all_methods,\n",
    "    prepare_data_for_violin_plot,\n",
    "    save_close_or_show,\n",
    "    plot_confusion_matrix\n",
    ")\n",
    "\n",
    "warnings.simplefilter(action='ignore', category=FutureWarning)\n",
    "plt.rcParams.update({'pdf.fonttype': 42, 'font.family': 'sans-serif', 'font.sans-serif': 'Arial', 'font.size': 10})"
   ],
   "outputs": [],
   "execution_count": null
  },
  {
   "cell_type": "markdown",
   "source": [
    "# Wu et al. breast cancer dataset\n",
    "Wu, S.Z., Al-Eryani, G., Roden, D.L. et al. A single-cell and spatially resolved atlas of human breast cancers. Nat Genet 53, 1334–1347 (2021). https://doi.org/10.1038/s41588-021-00911-1"
   ],
   "metadata": {
    "collapsed": false
   },
   "id": "497bb0608e57c2f"
  },
  {
   "cell_type": "markdown",
   "source": [
    "Storing information and global variables"
   ],
   "metadata": {
    "collapsed": false
   },
   "id": "6e097e3b0c8aa2f2"
  },
  {
   "cell_type": "code",
   "source": [
    "base_data_path = Path('/Users/lciernik/Documents/TUB/projects/ans_scoring/data/data_from_florian/')\n",
    "\n",
    "remove_overlapping_genes = True\n",
    "\n",
    "SAVE = False\n",
    "storing_path = Path('/Users/lciernik/Documents/TUB/projects/ans_scoring/results/cancer_datasets/breast')\n",
    "\n",
    "if remove_overlapping_genes:\n",
    "    storing_path = storing_path / 'signatures_without_overlapping'\n",
    "else:\n",
    "    storing_path = storing_path / 'signatures_with_overlapping'\n",
    "\n",
    "if SAVE:\n",
    "    storing_path.mkdir(parents=True, exist_ok=True)"
   ],
   "metadata": {
    "collapsed": false
   },
   "id": "c78d7ae49d8d2142",
   "outputs": [],
   "execution_count": null
  },
  {
   "cell_type": "markdown",
   "source": [
    "Loading data"
   ],
   "metadata": {
    "collapsed": false
   },
   "id": "2c8d1890d0577e9"
  },
  {
   "cell_type": "code",
   "source": [
    "adata = load_datasets('breast_malignant')\n",
    "adata"
   ],
   "metadata": {
    "collapsed": false
   },
   "id": "ec2633b219a43f2d",
   "outputs": [],
   "execution_count": null
  },
  {
   "cell_type": "code",
   "source": [
    "y_true_col = 'gene_module'\n",
    "sample_col = 'Patient'"
   ],
   "metadata": {
    "collapsed": false
   },
   "id": "c09438321bf62425",
   "outputs": [],
   "execution_count": null
  },
  {
   "cell_type": "code",
   "source": [
    "adata.obs[y_true_col] = adata.obs[y_true_col].map({str(i): f'GM{i}' for i in range(1, 8)})"
   ],
   "metadata": {
    "collapsed": false
   },
   "id": "f953ae3ebb2130f9",
   "outputs": [],
   "execution_count": null
  },
  {
   "cell_type": "code",
   "source": [
    "adata.obs[y_true_col].value_counts().sort_index()"
   ],
   "metadata": {
    "collapsed": false
   },
   "id": "58bb2464ee28ddc8",
   "outputs": [],
   "execution_count": null
  },
  {
   "cell_type": "markdown",
   "source": [
    "Computing dimensionality reduction"
   ],
   "metadata": {
    "collapsed": false
   },
   "id": "c0ca21e19af3a30f"
  },
  {
   "cell_type": "code",
   "source": [
    "# sc.tl.pca(adata)\n",
    "# sce.pp.harmony_integrate(adata, sample_col)\n",
    "# sc.pp.neighbors(adata, use_rep='X_pca_harmony')\n",
    "# sc.tl.umap(adata)"
   ],
   "metadata": {
    "collapsed": false
   },
   "id": "157e95dd568f42cb",
   "outputs": [],
   "execution_count": null
  },
  {
   "cell_type": "code",
   "source": [
    "# fig = sc.pl.umap(adata, color=['celltype_minor', 'subtype','gene_module',sample_col], ncols=1, return_fig=True)\n",
    "# if SAVE:\n",
    "#     fig.savefig(storing_path / 'umap.png', bbox_inches='tight')\n",
    "#     fig.savefig(storing_path / 'umap.pdf', bbox_inches='tight')"
   ],
   "metadata": {
    "collapsed": false
   },
   "id": "86048f5b74539c65",
   "outputs": [],
   "execution_count": null
  },
  {
   "cell_type": "markdown",
   "source": [
    "Load signatures"
   ],
   "metadata": {
    "collapsed": false
   },
   "id": "1e710ba29559199f"
  },
  {
   "cell_type": "code",
   "source": [
    "include_undefined = False"
   ],
   "metadata": {
    "collapsed": false
   },
   "id": "7d50ab90e90daf85",
   "outputs": [],
   "execution_count": null
  },
  {
   "cell_type": "code",
   "source": [
    "signatures = pd.read_csv(base_data_path / 'annotations' / 'wu_6.csv')\n",
    "signatures = signatures.to_dict('series')\n",
    "signatures = {k: sorted(v.dropna().tolist()) for k, v in signatures.items()}\n",
    "for cell_type, genes in signatures.items():\n",
    "    print(cell_type, ' with signature length: ', len(genes))"
   ],
   "metadata": {
    "collapsed": false
   },
   "id": "ba3497122a8ad620",
   "outputs": [],
   "execution_count": null
  },
  {
   "cell_type": "code",
   "source": [
    "if remove_overlapping_genes:\n",
    "    signatures = remove_overlapping_signature_genes(signatures)"
   ],
   "metadata": {
    "collapsed": false
   },
   "id": "5d70ca32c4133534",
   "outputs": [],
   "execution_count": null
  },
  {
   "cell_type": "code",
   "source": [
    "order_signatures = list(signatures.keys())"
   ],
   "metadata": {
    "collapsed": false
   },
   "id": "9904d1df57b3ea32",
   "outputs": [],
   "execution_count": null
  },
  {
   "cell_type": "markdown",
   "source": [
    "Scoring signatures"
   ],
   "metadata": {
    "collapsed": false
   },
   "id": "e146dba28a13095a"
  },
  {
   "cell_type": "code",
   "source": [
    "score_cols, adata = score_signatures_with_all_methods(adata, signatures)"
   ],
   "metadata": {
    "collapsed": false
   },
   "id": "389d832f113ff868",
   "outputs": [],
   "execution_count": null
  },
  {
   "cell_type": "markdown",
   "source": [
    "Label assignment"
   ],
   "metadata": {
    "collapsed": false
   },
   "id": "385b1e0b61d26a4a"
  },
  {
   "cell_type": "code",
   "source": [
    "all_cols = []\n",
    "label_cols = {}\n",
    "for method_name, method_scores in score_cols.items():\n",
    "    adata, new_lbl_col = label_assignment_from_scores(adata, method_name, method_scores, include_undefined=False)\n",
    "    label_cols[method_name] = new_lbl_col\n",
    "    all_cols += method_scores + [new_lbl_col]"
   ],
   "metadata": {
    "collapsed": false
   },
   "id": "bf2f780fc4a59ad5",
   "outputs": [],
   "execution_count": null
  },
  {
   "metadata": {},
   "cell_type": "code",
   "source": "score_cols, label_cols",
   "id": "601030ea93efd14d",
   "outputs": [],
   "execution_count": null
  },
  {
   "cell_type": "markdown",
   "source": [
    "Visualizing results"
   ],
   "metadata": {
    "collapsed": false
   },
   "id": "aff662eaa7657930"
  },
  {
   "cell_type": "code",
   "source": [
    "# fig = sc.pl.umap(adata, color=all_cols + [sample_col, y_true_col], ncols=len(signatures) + 1, return_fig=True)\n",
    "# if SAVE:\n",
    "#     fig.savefig(storing_path / 'umap.png', bbox_inches='tight')\n",
    "#     fig.savefig(storing_path / 'umap.pdf', bbox_inches='tight')\n",
    "#     plt.close(fig)\n",
    "#     print(f\"Saved UMAP.\")\n",
    "# else:\n",
    "#     plt.show(fig)"
   ],
   "metadata": {
    "collapsed": false
   },
   "id": "7d20a48c26c0bd38",
   "outputs": [],
   "execution_count": null
  },
  {
   "cell_type": "code",
   "source": [
    "df_melted = prepare_data_for_violin_plot(adata, y_true_col, score_cols)"
   ],
   "metadata": {
    "collapsed": false
   },
   "id": "e855b1250b84541b",
   "outputs": [],
   "execution_count": null
  },
  {
   "cell_type": "code",
   "source": [
    "df_melted['Signature'].unique()"
   ],
   "metadata": {
    "collapsed": false
   },
   "id": "6d84cfbc3d0737d4",
   "outputs": [],
   "execution_count": null
  },
  {
   "cell_type": "code",
   "source": [
    "### Combined violin plots\n",
    "fig = get_violin_all_methods(df_melted, \n",
    "                             y_true_col, \n",
    "                             hue_order=order_signatures, \n",
    "                             textwrap_width=7,\n",
    "                             sharey=False, \n",
    "                             height=1.95, \n",
    "                             aspect=2.5, \n",
    "                             wspace=0.075,\n",
    "                             col_wrap=2,\n",
    "                             legend_bbox_anchor=(1.125, 1,))\n",
    "plt.show(fig)\n",
    "# save_close_or_show(fig, SAVE, storing_path / \"violin_all_methods.pdf\")"
   ],
   "metadata": {
    "collapsed": false
   },
   "id": "84d91bfb5d884ed",
   "outputs": [],
   "execution_count": null
  },
  {
   "cell_type": "code",
   "source": [
    "# for method_name, method_scores in score_cols.items():\n",
    "#     df = adata.obs.loc[:, method_scores + [y_true_col]]\n",
    "#     fig = get_violin(df, method_scores, y_true_col)\n",
    "#     plt.title(f\"{method_name}\")\n",
    "#     if SAVE:\n",
    "#         fig.savefig(storing_path / f'violin_{method_name}.png', bbox_inches='tight')\n",
    "#         fig.savefig(storing_path / f'violin_{method_name}.pdf', bbox_inches='tight')\n",
    "#         plt.close(fig)\n",
    "#         print(f\"Saved violin plot for {method_name}.\")\n",
    "#     else:\n",
    "#         plt.show(fig)"
   ],
   "metadata": {
    "collapsed": false
   },
   "id": "6819f7e2c390a2a8",
   "outputs": [],
   "execution_count": null
  },
  {
   "cell_type": "markdown",
   "source": [
    "Computing label assignment performance"
   ],
   "metadata": {
    "collapsed": false
   },
   "id": "598e8d0b23a2b3d"
  },
  {
   "cell_type": "code",
   "source": [
    "metrics = defaultdict(dict)\n",
    "nfold = 10\n",
    "\n",
    "for method_name, method_scores in score_cols.items():\n",
    "    lbl_col = label_cols[method_name]\n",
    "    conf_mat, bal_acc, f1_val = get_lbl_assignment_performance(adata,\n",
    "                                                               y_true_col=y_true_col,\n",
    "                                                               y_pred_col=lbl_col,\n",
    "                                                               label_names=order_signatures)\n",
    "    print(f\"{method_name} - balanced accuracy: {bal_acc:.3f}, f1 score: {f1_val:.3f}\")\n",
    "    scores = get_information_from_scores(adata, y_true_col=y_true_col, scores=method_scores, nfold=nfold)\n",
    "\n",
    "    metrics[method_name] = {\n",
    "        'conf_mat': conf_mat,\n",
    "        'balanced_accuracy': bal_acc,\n",
    "        'f1_score': f1_val,\n",
    "        f'logreg_balanced_accuracy_{nfold}cv': np.mean(scores),\n",
    "        f'logreg_balanced_accuracy_{nfold}cv_std': np.std(scores)\n",
    "    }\n",
    "\n",
    "    ## Confusion matrix plot\n",
    "\n",
    "    fig = plot_confusion_matrix(conf_mat, order_signatures, method_name)\n",
    "    save_close_or_show(fig, SAVE, storing_path / f'conf_mat_{method_name}.pdf')"
   ],
   "metadata": {
    "collapsed": false
   },
   "id": "5041a5e3c9dbc5cb",
   "outputs": [],
   "execution_count": null
  },
  {
   "metadata": {
    "collapsed": false
   },
   "cell_type": "code",
   "source": "metrics_df = pd.DataFrame(metrics)",
   "id": "da940b899e4c9347",
   "outputs": [],
   "execution_count": null
  },
  {
   "cell_type": "markdown",
   "source": [
    "Saving performance metrics"
   ],
   "metadata": {
    "collapsed": false
   },
   "id": "2779d1e90681e900"
  },
  {
   "cell_type": "code",
   "source": [
    "if SAVE:\n",
    "    metrics_df.to_csv(storing_path / 'metrics.csv')\n",
    "    print(f\"Saved metrics to {storing_path / 'metrics.csv'}.\")"
   ],
   "metadata": {
    "collapsed": false
   },
   "id": "227e3372b50d0212",
   "outputs": [],
   "execution_count": null
  }
 ],
 "metadata": {
  "kernelspec": {
   "display_name": "Python 3",
   "language": "python",
   "name": "python3"
  },
  "language_info": {
   "codemirror_mode": {
    "name": "ipython",
    "version": 2
   },
   "file_extension": ".py",
   "mimetype": "text/x-python",
   "name": "python",
   "nbconvert_exporter": "python",
   "pygments_lexer": "ipython2",
   "version": "2.7.6"
  }
 },
 "nbformat": 4,
 "nbformat_minor": 5
}
