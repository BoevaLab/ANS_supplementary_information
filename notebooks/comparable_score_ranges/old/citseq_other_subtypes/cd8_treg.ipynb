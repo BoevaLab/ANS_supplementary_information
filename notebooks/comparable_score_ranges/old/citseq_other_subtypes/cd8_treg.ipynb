{
 "cells": [
  {
   "cell_type": "code",
   "id": "initial_id",
   "metadata": {
    "collapsed": true,
    "jupyter": {
     "outputs_hidden": true
    }
   },
   "source": [
    "import sys\n",
    "import warnings\n",
    "from collections import defaultdict\n",
    "from pathlib import Path\n",
    "\n",
    "import matplotlib.pyplot as plt\n",
    "import numpy as np\n",
    "import pandas as pd\n",
    "\n",
    "from pbmc_helper import load_dex_genes\n",
    "\n",
    "sys.path.append('..')\n",
    "sys.path.append('/Users/lciernik/Documents/TUB/projects/ans_scoring/ANS_supplementary_information')\n",
    "from data.load_data import load_datasets\n",
    "\n",
    "from score_with_all_methods import (\n",
    "    score_signatures_with_all_methods,\n",
    "    label_assignment_from_scores,\n",
    "    get_lbl_assignment_performance,\n",
    "    get_information_from_scores,\n",
    "    remove_overlapping_signature_genes,\n",
    "    get_violin_all_methods,\n",
    "    prepare_data_for_violin_plot,\n",
    "    save_close_or_show,\n",
    "    plot_confusion_matrix\n",
    ")\n",
    "\n",
    "warnings.simplefilter(action='ignore', category=FutureWarning)\n",
    "plt.rcParams.update({'pdf.fonttype': 42, 'font.family': 'sans-serif', 'font.sans-serif': 'Arial', 'font.size': 10})"
   ],
   "outputs": [],
   "execution_count": null
  },
  {
   "cell_type": "markdown",
   "id": "6e097e3b0c8aa2f2",
   "metadata": {
    "collapsed": false,
    "jupyter": {
     "outputs_hidden": false
    }
   },
   "source": [
    "Storing information and global variables"
   ]
  },
  {
   "cell_type": "code",
   "id": "c78d7ae49d8d2142",
   "metadata": {
    "collapsed": false,
    "jupyter": {
     "outputs_hidden": false
    }
   },
   "source": [
    "remove_overlapping_genes = True\n",
    "\n",
    "SAVE = False\n",
    "storing_path = Path('/Users/lciernik/Documents/TUB/projects/ans_scoring/results/citeseq/cd8_subtypes')\n",
    "\n",
    "if remove_overlapping_genes:\n",
    "    storing_path = storing_path / 'signatures_without_overlapping'\n",
    "else:\n",
    "    storing_path = storing_path / 'signatures_with_overlapping'\n",
    "\n",
    "if SAVE:\n",
    "    storing_path.mkdir(parents=True, exist_ok=True)"
   ],
   "outputs": [],
   "execution_count": null
  },
  {
   "cell_type": "markdown",
   "id": "2c8d1890d0577e9",
   "metadata": {
    "collapsed": false,
    "jupyter": {
     "outputs_hidden": false
    }
   },
   "source": [
    "Loading data"
   ]
  },
  {
   "cell_type": "code",
   "id": "ec2633b219a43f2d",
   "metadata": {
    "collapsed": false,
    "jupyter": {
     "outputs_hidden": false
    }
   },
   "source": [
    "adata = load_datasets('pbmc_cd8_subtypes')\n",
    "adata"
   ],
   "outputs": [],
   "execution_count": null
  },
  {
   "cell_type": "code",
   "id": "c09438321bf62425",
   "metadata": {
    "collapsed": false,
    "jupyter": {
     "outputs_hidden": false
    }
   },
   "source": [
    "y_true_col = 'celltype.l2'\n",
    "sample_col = 'orig.ident'"
   ],
   "outputs": [],
   "execution_count": null
  },
  {
   "cell_type": "code",
   "id": "58bb2464ee28ddc8",
   "metadata": {
    "collapsed": false,
    "jupyter": {
     "outputs_hidden": false
    }
   },
   "source": [
    "adata.obs[y_true_col].value_counts().sort_index()"
   ],
   "outputs": [],
   "execution_count": null
  },
  {
   "cell_type": "markdown",
   "id": "c0ca21e19af3a30f",
   "metadata": {
    "collapsed": false,
    "jupyter": {
     "outputs_hidden": false
    }
   },
   "source": [
    "Computing dimensionality reduction"
   ]
  },
  {
   "cell_type": "code",
   "id": "157e95dd568f42cb",
   "metadata": {
    "collapsed": false,
    "jupyter": {
     "outputs_hidden": false
    }
   },
   "source": [
    "# sc.tl.pca(adata)\n",
    "# sc.pp.neighbors(adata)\n",
    "# sc.tl.umap(adata)"
   ],
   "outputs": [],
   "execution_count": null
  },
  {
   "cell_type": "markdown",
   "id": "1e710ba29559199f",
   "metadata": {
    "collapsed": false,
    "jupyter": {
     "outputs_hidden": false
    }
   },
   "source": [
    "Load signatures"
   ]
  },
  {
   "cell_type": "code",
   "id": "7d50ab90e90daf85",
   "metadata": {
    "collapsed": false,
    "jupyter": {
     "outputs_hidden": false
    }
   },
   "source": [
    "DE_of_celltypes = load_dex_genes(filter_genes=True, threshold_pval=0.01, threshold_log2fc=0.5)"
   ],
   "outputs": [],
   "execution_count": null
  },
  {
   "cell_type": "code",
   "id": "7f84162a3ca97a88",
   "metadata": {
    "collapsed": false,
    "jupyter": {
     "outputs_hidden": false
    }
   },
   "source": [
    "subtypes_per_cell_type = adata.obs.groupby('celltype.l2')['celltype.l3'].apply(lambda x: list(x.unique()))"
   ],
   "outputs": [],
   "execution_count": null
  },
  {
   "metadata": {},
   "cell_type": "code",
   "source": "subtypes_per_cell_type.to_dict()",
   "id": "74091dcb4b8c9b14",
   "outputs": [],
   "execution_count": null
  },
  {
   "cell_type": "code",
   "id": "e72c33ce290db68f",
   "metadata": {
    "collapsed": false,
    "jupyter": {
     "outputs_hidden": false
    }
   },
   "source": [
    "signatures = {}\n",
    "for row in subtypes_per_cell_type.items():\n",
    "    cell_type, subtypes = row\n",
    "    signatures[cell_type] = sorted(\n",
    "        list(set(DE_of_celltypes[DE_of_celltypes['Cell Type'].isin(subtypes)]['Gene'].tolist())))"
   ],
   "outputs": [],
   "execution_count": null
  },
  {
   "cell_type": "code",
   "id": "432b74084b40bc02",
   "metadata": {
    "collapsed": false,
    "jupyter": {
     "outputs_hidden": false
    }
   },
   "source": [
    "for k, v in signatures.items():\n",
    "    print(k, len(v))"
   ],
   "outputs": [],
   "execution_count": null
  },
  {
   "cell_type": "code",
   "id": "5d70ca32c4133534",
   "metadata": {
    "collapsed": false,
    "jupyter": {
     "outputs_hidden": false
    }
   },
   "source": [
    "if remove_overlapping_genes:\n",
    "    signatures = remove_overlapping_signature_genes(signatures)"
   ],
   "outputs": [],
   "execution_count": null
  },
  {
   "cell_type": "code",
   "id": "942925c7656156d9",
   "metadata": {
    "collapsed": false,
    "jupyter": {
     "outputs_hidden": false
    }
   },
   "source": [
    "order_signatures = ['CD8 Naive', 'CD8 TCM', 'CD8 TEM', 'CD8 Proliferating']"
   ],
   "outputs": [],
   "execution_count": null
  },
  {
   "cell_type": "markdown",
   "id": "e146dba28a13095a",
   "metadata": {
    "collapsed": false,
    "jupyter": {
     "outputs_hidden": false
    }
   },
   "source": [
    "Scoring signatures"
   ]
  },
  {
   "cell_type": "code",
   "id": "389d832f113ff868",
   "metadata": {
    "collapsed": false,
    "jupyter": {
     "outputs_hidden": false
    }
   },
   "source": [
    "score_cols, adata = score_signatures_with_all_methods(adata, signatures, verbose=True)"
   ],
   "outputs": [],
   "execution_count": null
  },
  {
   "cell_type": "markdown",
   "id": "385b1e0b61d26a4a",
   "metadata": {
    "collapsed": false,
    "jupyter": {
     "outputs_hidden": false
    }
   },
   "source": [
    "Label assignment"
   ]
  },
  {
   "cell_type": "code",
   "id": "bf2f780fc4a59ad5",
   "metadata": {
    "collapsed": false,
    "jupyter": {
     "outputs_hidden": false
    }
   },
   "source": [
    "all_cols = []\n",
    "label_cols = {}\n",
    "for method_name, method_scores in score_cols.items():\n",
    "    adata, new_lbl_col = label_assignment_from_scores(adata, method_name, method_scores, include_undefined=False)\n",
    "    label_cols[method_name] = new_lbl_col\n",
    "    all_cols += method_scores + [new_lbl_col]"
   ],
   "outputs": [],
   "execution_count": null
  },
  {
   "cell_type": "markdown",
   "id": "aff662eaa7657930",
   "metadata": {
    "collapsed": false,
    "jupyter": {
     "outputs_hidden": false
    }
   },
   "source": [
    "Visualizing results"
   ]
  },
  {
   "cell_type": "code",
   "id": "7d20a48c26c0bd38",
   "metadata": {
    "collapsed": false,
    "jupyter": {
     "outputs_hidden": false
    }
   },
   "source": [
    "### UMAP\n",
    "# fig = sc.pl.umap(adata, color=all_cols + [sample_col, y_true_col, 'celltype.l1', 'celltype.l3'],\n",
    "#                  ncols=len(signatures) + 1, return_fig=True)\n",
    "# save_close_or_show(fig, SAVE, storing_path / 'umap.pdf')"
   ],
   "outputs": [],
   "execution_count": null
  },
  {
   "cell_type": "code",
   "id": "bf10305e445f92fc",
   "metadata": {
    "collapsed": false,
    "jupyter": {
     "outputs_hidden": false
    }
   },
   "source": [
    "df_melted = prepare_data_for_violin_plot(adata, y_true_col, score_cols)"
   ],
   "outputs": [],
   "execution_count": null
  },
  {
   "cell_type": "code",
   "id": "2135d8f1d32ee187",
   "metadata": {
    "collapsed": false,
    "jupyter": {
     "outputs_hidden": false
    }
   },
   "source": [
    "### Combined violin plots\n",
    "fig = get_violin_all_methods(\n",
    "    df_melted, \n",
    "    y_true_col, \n",
    "    hue_order=order_signatures,\n",
    "    aspect=1.5, \n",
    "    col_wrap=2,\n",
    "    textwrap_width=5,\n",
    "    wspace=0.2,\n",
    "    legend_bbox_anchor=(1.05, 1),\n",
    ")\n",
    "\n",
    "save_close_or_show(fig, SAVE, storing_path / \"violin_all_methods.pdf\")"
   ],
   "outputs": [],
   "execution_count": null
  },
  {
   "cell_type": "code",
   "id": "6819f7e2c390a2a8",
   "metadata": {
    "collapsed": false,
    "jupyter": {
     "outputs_hidden": false
    }
   },
   "source": [
    "### Single violin plots\n",
    "\n",
    "# for method_name, method_scores in score_cols.items():\n",
    "#     df = adata.obs.loc[:, method_scores + [y_true_col]]\n",
    "#     fig = get_violin(df, method_scores, y_true_col)\n",
    "#     plt.title(f\"{method_name}\")\n",
    "#     save_close_or_show(fig, SAVE, storing_path / f'violin_{method_name}.pdf')"
   ],
   "outputs": [],
   "execution_count": null
  },
  {
   "cell_type": "markdown",
   "id": "598e8d0b23a2b3d",
   "metadata": {
    "collapsed": false,
    "jupyter": {
     "outputs_hidden": false
    }
   },
   "source": [
    "Computing label assignment performance"
   ]
  },
  {
   "cell_type": "code",
   "id": "5041a5e3c9dbc5cb",
   "metadata": {
    "collapsed": false,
    "jupyter": {
     "outputs_hidden": false
    }
   },
   "source": [
    "metrics = defaultdict(dict)\n",
    "nfold = 10\n",
    "\n",
    "for method_name, method_scores in score_cols.items():\n",
    "    lbl_col = label_cols[method_name]\n",
    "    conf_mat, bal_acc, f1_val = get_lbl_assignment_performance(adata,\n",
    "                                                                    y_true_col=y_true_col,\n",
    "                                                                    y_pred_col=lbl_col,\n",
    "                                                                    label_names=order_signatures)\n",
    "\n",
    "    scores = get_information_from_scores(adata, y_true_col=y_true_col, scores=method_scores, nfold=nfold)\n",
    "\n",
    "    metrics[method_name] = {\n",
    "        'conf_mat': conf_mat,\n",
    "        'balanced_accuracy': bal_acc,\n",
    "        'f1_score': f1_val,\n",
    "        f'logreg_balanced_accuracy_{nfold}cv': np.mean(scores),\n",
    "        f'logreg_balanced_accuracy_{nfold}cv_std': np.std(scores)\n",
    "    }\n",
    "    fig = plot_confusion_matrix(conf_mat, order_signatures, method_name)\n",
    "    save_close_or_show(fig, SAVE, storing_path / f'conf_mat_{method_name}.pdf')"
   ],
   "outputs": [],
   "execution_count": null
  },
  {
   "cell_type": "code",
   "id": "da940b899e4c9347",
   "metadata": {
    "collapsed": false,
    "jupyter": {
     "outputs_hidden": false
    }
   },
   "source": [
    "metrics_df = pd.DataFrame(metrics)"
   ],
   "outputs": [],
   "execution_count": null
  },
  {
   "cell_type": "markdown",
   "id": "2779d1e90681e900",
   "metadata": {
    "collapsed": false,
    "jupyter": {
     "outputs_hidden": false
    }
   },
   "source": [
    "Saving performance metrics"
   ]
  },
  {
   "cell_type": "code",
   "id": "227e3372b50d0212",
   "metadata": {
    "collapsed": false,
    "jupyter": {
     "outputs_hidden": false
    }
   },
   "source": [
    "if SAVE:\n",
    "    metrics_df.to_csv(storing_path / 'metrics.csv')\n",
    "    print(f\"Saved metrics to {storing_path / 'metrics.csv'}.\")"
   ],
   "outputs": [],
   "execution_count": null
  }
 ],
 "metadata": {
  "kernelspec": {
   "display_name": "Python 3 (ipykernel)",
   "language": "python",
   "name": "python3"
  },
  "language_info": {
   "codemirror_mode": {
    "name": "ipython",
    "version": 3
   },
   "file_extension": ".py",
   "mimetype": "text/x-python",
   "name": "python",
   "nbconvert_exporter": "python",
   "pygments_lexer": "ipython3",
   "version": "3.9.18"
  }
 },
 "nbformat": 4,
 "nbformat_minor": 5
}
