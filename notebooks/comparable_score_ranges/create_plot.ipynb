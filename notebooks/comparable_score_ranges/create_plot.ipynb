{
 "cells": [
  {
   "cell_type": "markdown",
   "id": "2c548554184d35e9",
   "metadata": {},
   "source": [
    "# This notebook creates the plots for the comparability evaluation of the different scoring methods.\n",
    "This notebook is structured as follows:\n",
    "1. Load the results of the comparability evaluation. **NOTE**: The results are not provided in the repository. Need to run the evaluation first: `experiments/run_comp_range_exp.sh`\n",
    "2. Create confusion matrix plots (Suppl. Figure S7 & S10)\n",
    "3. Create performance overview tables (Suppl. Table S2 & S3)\n",
    "4. Show the difference in performance for cansig pp and non-canisg pp (Suppl. Figure S12)\n",
    "5. Compute performance plots for main text Figure 2 (Scatter plot & Bar plot)"
   ]
  },
  {
   "cell_type": "code",
   "execution_count": 1,
   "id": "initial_id",
   "metadata": {
    "ExecuteTime": {
     "end_time": "2025-02-25T15:55:12.216052Z",
     "start_time": "2025-02-25T15:55:12.212580Z"
    }
   },
   "outputs": [],
   "source": [
    "from io import StringIO\n",
    "from pathlib import Path\n",
    "\n",
    "import matplotlib.path as mpath\n",
    "import matplotlib.pyplot as plt\n",
    "import numpy as np\n",
    "import pandas as pd\n",
    "import seaborn as sns\n",
    "from sympy import print_tree\n",
    "\n",
    "from old.score_with_all_methods import save_close_or_show\n",
    "\n",
    "sns.set_style('ticks')\n",
    "\n",
    "plt.rcParams.update({'pdf.fonttype': 42, 'font.family': 'sans-serif', 'font.sans-serif': 'Arial', 'font.size': 10})"
   ]
  },
  {
   "cell_type": "code",
   "execution_count": 2,
   "id": "92afa7f13361f53d",
   "metadata": {
    "ExecuteTime": {
     "end_time": "2025-02-25T15:55:12.234150Z",
     "start_time": "2025-02-25T15:55:12.232104Z"
    }
   },
   "outputs": [],
   "source": [
    "# from ANS_supplementary_information.data.constants import BASE_PATH_RESULTS\n",
    "# from ANS_supplementary_information.data.load_data import load_signatures\n",
    "from data.constants import BASE_PATH_RESULTS\n",
    "from data.load_data import load_signatures"
   ]
  },
  {
   "cell_type": "code",
   "execution_count": 3,
   "id": "358dfd8da4148966",
   "metadata": {
    "ExecuteTime": {
     "end_time": "2025-02-25T15:55:12.252414Z",
     "start_time": "2025-02-25T15:55:12.250083Z"
    }
   },
   "outputs": [],
   "source": [
    "exp_path = Path(BASE_PATH_RESULTS) / 'comparable_score_ranges'\n",
    "\n",
    "storing_path = exp_path / 'plots'\n",
    "SAVE = True\n",
    "if SAVE:\n",
    "    storing_path.mkdir(parents=True, exist_ok=True)\n"
   ]
  },
  {
   "cell_type": "code",
   "execution_count": 4,
   "id": "2b7f2b540214a1ff",
   "metadata": {
    "ExecuteTime": {
     "end_time": "2025-02-25T15:55:12.338917Z",
     "start_time": "2025-02-25T15:55:12.266036Z"
    }
   },
   "outputs": [],
   "source": [
    "dfs = []\n",
    "for path in exp_path.glob('**/metrics.csv'):\n",
    "    tt, gene_pool, overlapping_genes = path.parts[-4:-1]\n",
    "    df = pd.read_csv(path, index_col=0)\n",
    "    df = df.reset_index(names='metric')\n",
    "    df['cell_type'] = tt\n",
    "    df['tissue_type'] = 'PBMC' if 'pbmc' in tt else 'Cancer'\n",
    "    df['use_gene_pool'] = False if 'without' in gene_pool else True\n",
    "    df[\n",
    "        'signatures'] = 'Signatures without overlapping genes' if 'without' in overlapping_genes else 'Original signatures'\n",
    "    dfs.append(df)\n",
    "all_ds = pd.concat(dfs)"
   ]
  },
  {
   "cell_type": "code",
   "execution_count": 5,
   "id": "8b98028d00a26f8c",
   "metadata": {
    "ExecuteTime": {
     "end_time": "2025-02-25T15:55:12.354628Z",
     "start_time": "2025-02-25T15:55:12.350265Z"
    }
   },
   "outputs": [],
   "source": [
    "all_ds = pd.melt(\n",
    "    all_ds,\n",
    "    id_vars=['metric', 'cell_type', 'tissue_type', 'use_gene_pool', 'signatures'],\n",
    "    var_name='scoring_method',\n",
    "    value_name='value'\n",
    ")"
   ]
  },
  {
   "cell_type": "code",
   "execution_count": 6,
   "id": "4e63c8ba0fb42287",
   "metadata": {
    "ExecuteTime": {
     "end_time": "2025-02-25T15:55:12.370620Z",
     "start_time": "2025-02-25T15:55:12.365250Z"
    }
   },
   "outputs": [],
   "source": [
    "all_ds = pd.pivot(all_ds,\n",
    "                  index=['cell_type', 'tissue_type', 'use_gene_pool', 'signatures', 'scoring_method'],\n",
    "                  columns='metric',\n",
    "                  values='value').reset_index()"
   ]
  },
  {
   "cell_type": "code",
   "execution_count": 7,
   "id": "61d23ae36fa3364e",
   "metadata": {
    "ExecuteTime": {
     "end_time": "2025-02-25T15:55:12.386872Z",
     "start_time": "2025-02-25T15:55:12.381919Z"
    }
   },
   "outputs": [],
   "source": [
    "float_cols = ['balanced_accuracy', 'f1_score', 'gmm_balanced_accuracy',\n",
    "              'gmm_f1_score', 'gmm_jaccard_score', 'jaccard_score',\n",
    "              'logreg_balanced_accuracy_10cv_mean',\n",
    "              'logreg_balanced_accuracy_10cv_std', 'logreg_f1_weighted_10cv_mean',\n",
    "              'logreg_f1_weighted_10cv_std', 'logreg_jaccard_weighted_10cv_mean',\n",
    "              'logreg_jaccard_weighted_10cv_std']\n",
    "all_ds[float_cols] = all_ds[float_cols].astype(float)"
   ]
  },
  {
   "cell_type": "code",
   "execution_count": 8,
   "id": "3100c9bcab3c728",
   "metadata": {
    "ExecuteTime": {
     "end_time": "2025-02-25T15:55:12.400670Z",
     "start_time": "2025-02-25T15:55:12.398859Z"
    }
   },
   "outputs": [],
   "source": [
    "style_order = [\n",
    "    'ANS',\n",
    "    'Seurat',\n",
    "    'Seurat_AG',\n",
    "    'Seurat_LVG',\n",
    "    'Scanpy',\n",
    "    'Jasmine_LH',\n",
    "    'Jasmine_OR',\n",
    "    'UCell'\n",
    "]"
   ]
  },
  {
   "cell_type": "code",
   "execution_count": 9,
   "id": "c77e2d3dcb0995f6",
   "metadata": {
    "ExecuteTime": {
     "end_time": "2025-02-25T15:55:12.415091Z",
     "start_time": "2025-02-25T15:55:12.412384Z"
    }
   },
   "outputs": [],
   "source": [
    "all_ds['cell_type_pp'] = all_ds.cell_type.map({\"breast_malignant\": 'BRCA (6 states)',\n",
    "                                               'luad_kim_malignant': 'LUAD (3 states)',\n",
    "                                               'luad_kim_malignant_2': 'LUAD (3 states, 3ca)',\n",
    "                                               'ovarian_malignant': 'HGSOC (8 states)',\n",
    "                                               'ovarian_malignant_bak': 'HGSOC (8 states, bak)',\n",
    "                                               'ovarian_malignant_2': 'HGSOC (8 states, cellxgene)',\n",
    "                                               'skin_malignant': 'cSCC (4 states, self-pp)',\n",
    "                                               'skin_malignant_2': 'cSCC (4 states)',\n",
    "                                               'pbmc_b_mono_nk': 'B, Monocytes, NK cells',\n",
    "                                               'pbmc_b_subtypes': 'B-cell subtypes',\n",
    "                                               'pbmc_cd4_subtypes': 'CD4 T-cell subtypes',\n",
    "                                               'pbmc_cd8_subtypes': 'CD8 T-cell subtypes',\n",
    "                                               })"
   ]
  },
  {
   "cell_type": "markdown",
   "id": "1b22e1884fbc001e",
   "metadata": {
    "jp-MarkdownHeadingCollapsed": true
   },
   "source": [
    "## Create confusion matrix plots"
   ]
  },
  {
   "cell_type": "code",
   "execution_count": null,
   "id": "c0afd2b9063138d7",
   "metadata": {},
   "outputs": [],
   "source": [
    "con_mat_cols = set(all_ds.columns) - {'gmm_balanced_accuracy', 'gmm_f1_score', 'gmm_jaccard_score', 'jaccard_score',\n",
    "                                      'logreg_balanced_accuracy_10cv_mean', 'logreg_balanced_accuracy_10cv_std',\n",
    "                                      'logreg_f1_weighted_10cv_mean', 'logreg_f1_weighted_10cv_std',\n",
    "                                      'logreg_jaccard_weighted_10cv_mean', 'logreg_jaccard_weighted_10cv_std'}\n",
    "conf_mat_data = all_ds[sorted(list(con_mat_cols))].copy()\n",
    "conf_mat_data.columns"
   ]
  },
  {
   "cell_type": "code",
   "execution_count": null,
   "id": "ef621243786bf4b9",
   "metadata": {},
   "outputs": [],
   "source": [
    "# conf_mat_data.groupby(['cell_type','cell_type_pp', 'tissue_type', 'use_gene_pool', 'signatures']).size()"
   ]
  },
  {
   "cell_type": "code",
   "execution_count": null,
   "id": "3800b77eeee22e36",
   "metadata": {},
   "outputs": [],
   "source": [
    "def parse_matrix_str(matrix_str):\n",
    "    cleaned = matrix_str.replace('\\n  ', ' ').replace('[', '').replace(']', '')\n",
    "    return np.loadtxt(StringIO(cleaned))"
   ]
  },
  {
   "cell_type": "code",
   "execution_count": null,
   "id": "dacbd761e16fa4f7",
   "metadata": {},
   "outputs": [],
   "source": [
    "conf_mat_data['conf_mat'] = conf_mat_data['conf_mat'].apply(parse_matrix_str)"
   ]
  },
  {
   "cell_type": "code",
   "execution_count": null,
   "id": "8ba6e61d438fb805",
   "metadata": {},
   "outputs": [],
   "source": [
    "conf_mat_data['cell_type'].unique()"
   ]
  },
  {
   "cell_type": "code",
   "execution_count": null,
   "id": "20369947841a04c3",
   "metadata": {},
   "outputs": [],
   "source": [
    "sigs = {}\n",
    "for ds in conf_mat_data.cell_type.unique():\n",
    "    sigs[ds] = list(sorted(load_signatures(ds).keys()))"
   ]
  },
  {
   "cell_type": "code",
   "execution_count": null,
   "id": "6d107567553985aa",
   "metadata": {},
   "outputs": [],
   "source": [
    "import textwrap\n",
    "\n",
    "width_text_wrap = 7\n",
    "\n",
    "\n",
    "def pp_lbl(ds, lbl):\n",
    "    if 'ovarian' in ds:\n",
    "        return lbl.replace('cell.', '').replace('cancer.', 'C.').replace('Cancer.', 'C.').replace('Cycling.', 'Cyc.')\n",
    "    elif 'skin' in ds:\n",
    "        return lbl.replace('Cycling', 'Cyc.').replace('Tumor', 'Tum.')\n",
    "    elif 'b_subtypes' in ds:\n",
    "        return lbl.replace('intermediate', 'interm.').replace('memory', 'mem.').replace('Cancer.', 'C.')\n",
    "    elif 'cd4_subtypes' in ds:\n",
    "        return lbl.replace('Proliferating', 'Prolif.')\n",
    "    elif 'cd8_subtypes' in ds:\n",
    "        return lbl.replace('Proliferating', 'Prolif.')\n",
    "    return lbl\n",
    "\n",
    "\n",
    "for k, v in sigs.items():\n",
    "    sigs[k] = [textwrap.fill(pp_lbl(k, curr_sig), width=width_text_wrap) for curr_sig in v]\n"
   ]
  },
  {
   "cell_type": "code",
   "execution_count": null,
   "id": "1eee3e4c1caf72ae",
   "metadata": {},
   "outputs": [],
   "source": [
    "subfig_size = 4.2\n",
    "for key, data in conf_mat_data.groupby(['tissue_type', 'use_gene_pool', 'signatures']):\n",
    "    if key[0] == 'Cancer':\n",
    "        continue\n",
    "    # filter out the different preprocessing strategies\n",
    "    if key[0] == 'Cancer':\n",
    "        data = data[~ data['cell_type_pp'].str.contains(', ')].copy()\n",
    "\n",
    "    # get the number of different scoring methods and datasets\n",
    "    n_sc_methods = data['scoring_method'].nunique()\n",
    "    n_ds = data['cell_type_pp'].nunique()\n",
    "\n",
    "    fig, axes = plt.subplots(nrows=n_sc_methods, ncols=n_ds, figsize=(n_ds * subfig_size, n_sc_methods * subfig_size),\n",
    "                             sharey=False, sharex='col')\n",
    "\n",
    "    axes = axes.flatten()\n",
    "    for i, (sc_method, sc_data) in enumerate(data.groupby(['scoring_method', 'cell_type', 'cell_type_pp'])):\n",
    "        assert len(sc_data) == 1\n",
    "        ax = axes[i]\n",
    "        conf_map = sc_data['conf_mat'].iloc[0]\n",
    "        bal_acc = sc_data['balanced_accuracy'].iloc[0]\n",
    "\n",
    "        sns.heatmap(conf_map, ax=ax, annot=True, fmt='.2f', cmap='coolwarm', cbar=False, vmin=0, vmax=1)\n",
    "        ax.set_title(f'{sc_method[2]} – {bal_acc:.2f} bal. acc.', fontsize=11, weight='bold')\n",
    "        if i % n_ds == 0:\n",
    "            ax.set_ylabel(sc_method[0], fontsize=11, weight='bold')\n",
    "\n",
    "\n",
    "        # set tick labels\n",
    "        def pp_lbl(lbl):\n",
    "            if 'HGSOC' in sc_method[2]:\n",
    "                return lbl.replace('cell.', '').replace('cancer.', 'C.').replace('Cancer.', 'C.')\n",
    "            return lbl\n",
    "\n",
    "\n",
    "        tick_lbls = sigs[sc_data['cell_type'].iloc[0]]\n",
    "        ax.set_xticks(np.arange(len(tick_lbls)) + 0.5, tick_lbls)\n",
    "        ax.set_yticks(np.arange(len(tick_lbls)) + 0.5, tick_lbls, rotation=0)\n",
    "    fig.tight_layout()\n",
    "\n",
    "    wspace = 0.21 if key[0] == 'Cancer' else 0.25\n",
    "    fig.subplots_adjust(wspace=wspace, hspace=0.15)\n",
    "\n",
    "    suffix = f\"{key[0].lower()}_{'with' if key[1] else 'without'}_gene_pool_{key[2].replace(' ', '_').lower()}\"\n",
    "    save_close_or_show(fig, SAVE, save_path=storing_path / f'conf_mats_{suffix}.pdf')\n",
    "    save_close_or_show(fig, SAVE, save_path=storing_path / f'conf_mats_{suffix}.svg')"
   ]
  },
  {
   "cell_type": "markdown",
   "id": "b657efc5bf742c32",
   "metadata": {},
   "source": [
    "## Create performance overview table"
   ]
  },
  {
   "cell_type": "code",
   "execution_count": 10,
   "id": "763a1a11ff546894",
   "metadata": {
    "ExecuteTime": {
     "end_time": "2025-02-25T15:55:18.069276Z",
     "start_time": "2025-02-25T15:55:18.063788Z"
    }
   },
   "outputs": [],
   "source": [
    "all_ds = all_ds.sort_values(by=['signatures', 'use_gene_pool', 'tissue_type', 'cell_type_pp'])"
   ]
  },
  {
   "cell_type": "code",
   "execution_count": 11,
   "id": "f70d0453-15da-429c-bebc-3359cdd8818a",
   "metadata": {},
   "outputs": [
    {
     "name": "stderr",
     "output_type": "stream",
     "text": [
      "/var/folders/_b/04dk8b115h509q_pyr_p34780000gn/T/ipykernel_51308/502590020.py:1: UserWarning: This pattern is interpreted as a regular expression, and has match groups. To actually get the groups, use str.extract.\n",
      "  curr_ds = all_ds[~all_ds['cell_type_pp'].str.contains(f'(\\d states, .+)')]\n"
     ]
    }
   ],
   "source": [
    "curr_ds = all_ds[~all_ds['cell_type_pp'].str.contains(f'(\\d states, .+)')]"
   ]
  },
  {
   "cell_type": "code",
   "execution_count": 12,
   "id": "77f4c6df89080c15",
   "metadata": {
    "ExecuteTime": {
     "end_time": "2025-02-25T15:55:18.378072Z",
     "start_time": "2025-02-25T15:55:18.374484Z"
    }
   },
   "outputs": [],
   "source": [
    "grouped_all_ds = curr_ds.groupby(['signatures', 'use_gene_pool'])"
   ]
  },
  {
   "cell_type": "code",
   "execution_count": 13,
   "id": "10efcedd0db45b0d",
   "metadata": {
    "ExecuteTime": {
     "end_time": "2025-02-25T15:55:18.592995Z",
     "start_time": "2025-02-25T15:55:18.589523Z"
    }
   },
   "outputs": [],
   "source": [
    "def metric_type(x):\n",
    "    if 'balanced_accuracy' in x:\n",
    "        return 'Balanced Accuracy'\n",
    "    if 'f1_score' in x:\n",
    "        return 'F1 Score'\n",
    "    if 'f1_weighted' in x:\n",
    "        return 'F1 Score'\n",
    "    return x\n",
    "\n",
    "\n",
    "def lbl_method(x):\n",
    "    if 'gmm' in x:\n",
    "        return 'Rediscovery score'\n",
    "    elif 'logreg' in x:\n",
    "        return 'Information quantity (logistic regression 10-fold CV)'\n",
    "    else:\n",
    "        return 'Hard labeling score'\n",
    "\n",
    "def h_max(s):\n",
    "    if s.apply(type).unique().item() == str:\n",
    "        s_float = s.apply(lambda x: float(x.split('\\n')[0]))\n",
    "    else:\n",
    "        s_float = s\n",
    "    is_max = s == s.max()\n",
    "    return ['font-weight: bold' if cell else '' for cell in is_max]"
   ]
  },
  {
   "cell_type": "code",
   "execution_count": 16,
   "id": "6f00d4faaf123e10",
   "metadata": {
    "ExecuteTime": {
     "end_time": "2025-02-25T16:30:58.553941Z",
     "start_time": "2025-02-25T16:30:58.516479Z"
    }
   },
   "outputs": [
    {
     "name": "stdout",
     "output_type": "stream",
     "text": [
      "('Original signatures', False)\n",
      "\n",
      "\n",
      "('Original signatures', True)\n",
      "\n",
      "\n",
      "('Signatures without overlapping genes', False)\n",
      "\n",
      "\n",
      "('Signatures without overlapping genes', True)\n",
      "\n",
      "\n"
     ]
    }
   ],
   "source": [
    "from pandas import ExcelWriter\n",
    "\n",
    "for group, data in grouped_all_ds:\n",
    "    print(group)\n",
    "    data['logreg_balanced_accuracy_10cv_mean_n_std'] = data['logreg_balanced_accuracy_10cv_mean'].round(3).astype(\n",
    "        str) + '\\n(' + data['logreg_balanced_accuracy_10cv_std'].round(3).astype(str) + ')'\n",
    "    data['logreg_f1_weighted_10cv_mean_n_std'] = data['logreg_f1_weighted_10cv_mean'].round(3).astype(\n",
    "        str) + '\\n(' + data['logreg_f1_weighted_10cv_std'].round(3).astype(str) + ')'\n",
    "\n",
    "    data = data.drop(columns=['conf_mat',\n",
    "                              'gmm_balanced_accuracy',\n",
    "                              'gmm_f1_score',\n",
    "                              'gmm_jaccard_score',\n",
    "                              'jaccard_score',\n",
    "                              'logreg_balanced_accuracy_10cv_mean',\n",
    "                              'logreg_balanced_accuracy_10cv_std',\n",
    "                              'logreg_f1_weighted_10cv_mean',\n",
    "                              'logreg_f1_weighted_10cv_std',\n",
    "                              'logreg_jaccard_weighted_10cv_mean',\n",
    "                              'logreg_jaccard_weighted_10cv_std'])\n",
    "\n",
    "    melted_data = pd.melt(\n",
    "        data,\n",
    "        id_vars=['cell_type', 'tissue_type', 'use_gene_pool', 'signatures',\n",
    "                 'scoring_method', 'cell_type_pp'],\n",
    "        var_name='metric',\n",
    "        value_name='value'\n",
    "    )\n",
    "    melted_data['metric_type'] = melted_data['metric'].apply(metric_type)\n",
    "    melted_data['labeling_method'] = melted_data['metric'].apply(lbl_method)\n",
    "\n",
    "    perf_table = pd.pivot(\n",
    "        melted_data,\n",
    "        index=['metric_type', 'scoring_method'],\n",
    "        columns=['labeling_method', 'tissue_type', 'cell_type_pp'],\n",
    "        values='value'\n",
    "    ).T\n",
    "    \n",
    "    table_bal_acc = perf_table[[col for col in perf_table.columns if 'Balanced Accuracy' in col[0]]].style.apply(h_max, axis=1)\n",
    "    table_f1 = perf_table[[col for col in perf_table.columns if 'F1 Score' in col[0]]].style.apply(h_max, axis=1)\n",
    "    \n",
    "    fn = storing_path / f'overview_table_{group[0].replace(\" \", \"_\").lower()}_{\"with\" if group[1] else \"without\"}_gene_pool.xlsx'\n",
    "    fn1 = storing_path / f'overview_table_{group[0].replace(\" \", \"_\").lower()}_{\"with\" if group[1] else \"without\"}_gene_pool_bal_acc.xlsx'\n",
    "    fn2 = storing_path / f'overview_table_{group[0].replace(\" \", \"_\").lower()}_{\"with\" if group[1] else \"without\"}_gene_pool_f1.xlsx'\n",
    "\n",
    "    \n",
    "    if SAVE:\n",
    "        with ExcelWriter(fn, engine='xlsxwriter') as writer:\n",
    "            table_bal_acc.to_excel(writer, sheet_name='Balanced Accuracy')\n",
    "            table_f1.to_excel(writer, sheet_name='F1 Score')\n",
    "            workbook = writer.book\n",
    "            format_font = workbook.add_format({'font_size': 9.5, 'text_wrap': True})\n",
    "            for worksheet in writer.sheets.values():\n",
    "                worksheet.set_column('A:Z', None, format_font)  # Apply to all columns A through Z\n",
    "        print(f\"Stored Excel file at {fn=}\")\n",
    "\n",
    "    print()\n",
    "    print()"
   ]
  },
  {
   "cell_type": "markdown",
   "id": "351cb9caa38214d",
   "metadata": {
    "jp-MarkdownHeadingCollapsed": true
   },
   "source": [
    "## Show difference in performance for cansig pp and non-canisg pp"
   ]
  },
  {
   "cell_type": "code",
   "execution_count": null,
   "id": "daed08e89fe4de0e",
   "metadata": {},
   "outputs": [],
   "source": [
    "def compare_two_scoring_methods(res_df):\n",
    "    g = sns.catplot(\n",
    "        res_df,\n",
    "        x='scoring_method',\n",
    "        y='balanced_accuracy',\n",
    "        hue='cell_type_pp',\n",
    "        row='signatures',\n",
    "        col='use_gene_pool',\n",
    "        kind='bar',\n",
    "        height=3,\n",
    "        aspect=1.5\n",
    "    )\n",
    "    # Rotate labels before setting titles\n",
    "    for ax in g.axes.flat:\n",
    "        plt.sca(ax)\n",
    "        plt.xticks(rotation=30, ha='right')\n",
    "\n",
    "    title_template = \"{row_name}\\n Use gene_pol={col_name}\"\n",
    "    g.set_titles(title_template, fontsize=10)\n",
    "    g.set_axis_labels('', 'Balanced Accuracy', fontsize=10)\n",
    "\n",
    "    g.set(ylim=(res_df['balanced_accuracy'].min() - 0.01, res_df['balanced_accuracy'].max() + 0.01))\n",
    "\n",
    "    g.fig.subplots_adjust(hspace=0.25)\n",
    "    g._legend.set_title('Cell Type')\n",
    "\n",
    "    return g.fig\n"
   ]
  },
  {
   "cell_type": "code",
   "execution_count": null,
   "id": "94ec0315377f1f69",
   "metadata": {},
   "outputs": [],
   "source": [
    "luad_results = all_ds[all_ds.cell_type.str.contains('luad_kim')].copy()\n",
    "fig = compare_two_scoring_methods(luad_results)\n",
    "save_close_or_show(fig, SAVE, save_path=storing_path / 'luad_ds_pp_diff.pdf')\n",
    "save_close_or_show(fig, SAVE, save_path=storing_path / 'luad_ds_pp_diff.svg')"
   ]
  },
  {
   "cell_type": "code",
   "execution_count": null,
   "id": "36806b219e992284",
   "metadata": {},
   "outputs": [],
   "source": [
    "skin_results = all_ds[all_ds.cell_type.str.contains('skin')].copy()\n",
    "fig = compare_two_scoring_methods(skin_results)\n",
    "save_close_or_show(fig, SAVE, save_path=storing_path / 'skin_ds_pp_diff.pdf')\n",
    "save_close_or_show(fig, SAVE, save_path=storing_path / 'skin_ds_pp_diff.svg')"
   ]
  },
  {
   "cell_type": "code",
   "execution_count": null,
   "id": "8745f719ac7efcad",
   "metadata": {},
   "outputs": [],
   "source": [
    "ovarian_results = all_ds[all_ds.cell_type.str.contains('ovarian')].copy()\n",
    "ovarian_results = ovarian_results[~ovarian_results.cell_type.str.contains('_bak')].copy()\n",
    "fig = compare_two_scoring_methods(ovarian_results)\n",
    "save_close_or_show(fig, SAVE, save_path=storing_path / 'ovarian_ds_pp_diff.pdf')\n",
    "save_close_or_show(fig, SAVE, save_path=storing_path / 'ovarian_ds_pp_diff.svg')"
   ]
  },
  {
   "cell_type": "markdown",
   "id": "e2d4302b4f9e131",
   "metadata": {
    "jp-MarkdownHeadingCollapsed": true
   },
   "source": [
    "## Compute performance plots"
   ]
  },
  {
   "cell_type": "markdown",
   "id": "21264a15a48f72b0",
   "metadata": {},
   "source": [
    "### Scatter plot"
   ]
  },
  {
   "cell_type": "code",
   "execution_count": null,
   "id": "542f492107904727",
   "metadata": {},
   "outputs": [],
   "source": [
    "all_ds = all_ds[~ all_ds['cell_type_pp'].str.contains(r', .+\\)')].copy()"
   ]
  },
  {
   "cell_type": "code",
   "execution_count": null,
   "id": "ed33106f74dc8545",
   "metadata": {},
   "outputs": [],
   "source": [
    "all_ds['Score imbalance'] = all_ds['logreg_balanced_accuracy_10cv_mean'] - all_ds['balanced_accuracy']"
   ]
  },
  {
   "cell_type": "code",
   "execution_count": null,
   "id": "ceac950fb11ed8c",
   "metadata": {},
   "outputs": [],
   "source": [
    "style_order = [\n",
    "    'ANS',\n",
    "    'Seurat',\n",
    "    'Seurat_AG',\n",
    "    'Seurat_LVG',\n",
    "    'Scanpy',\n",
    "    'Jasmine_LH',\n",
    "    'Jasmine_OR',\n",
    "    'UCell'\n",
    "]\n"
   ]
  },
  {
   "cell_type": "code",
   "execution_count": null,
   "id": "da3d111fee59a82e",
   "metadata": {},
   "outputs": [],
   "source": [
    "from matplotlib.colors import LinearSegmentedColormap\n",
    "\n",
    "\n",
    "def plot_scatter(df, scale_imbalance):\n",
    "    df = df.copy()\n",
    "    df['Scoring Method'] = df['scoring_method']\n",
    "    df['Cell types'] = df['cell_type_pp']\n",
    "    hue_order = df.sort_values(['tissue_type', 'Cell types'])['Cell types'].unique()\n",
    "    g = sns.relplot(\n",
    "        data=df,\n",
    "        x='balanced_accuracy',\n",
    "        y='logreg_balanced_accuracy_10cv_mean',\n",
    "        style='Scoring Method',\n",
    "        style_order=style_order,\n",
    "        hue='Cell types',\n",
    "        hue_order=hue_order,\n",
    "        # col='tissue_type',\n",
    "        # row='signatures',\n",
    "        col='signatures',\n",
    "        row='tissue_type',\n",
    "        height=2.5,\n",
    "        aspect=1.2,\n",
    "        s=100,\n",
    "        alpha=0.7,\n",
    "        facet_kws={'sharey': False, 'sharex': False},\n",
    "    )\n",
    "\n",
    "    # title_template = \"{col_name}\"\n",
    "    title_template = \"{row_name}\"\n",
    "    g.set_titles(title_template, fontsize=10)\n",
    "    g.set_axis_labels('Balanced Accuracy', 'Information quantity (logreg)', fontsize=10)\n",
    "\n",
    "    for ax in g.axes.flatten():\n",
    "        # Define the range for the line\n",
    "        vmin = min(ax.get_xlim()[0], ax.get_ylim()[0])\n",
    "        vmax = max(ax.get_xlim()[1], ax.get_ylim()[1])\n",
    "\n",
    "        x_values = np.linspace(vmin, vmax, 100)\n",
    "        y_values = x_values  # f(x) = x\n",
    "\n",
    "        # Plot the line\n",
    "        ax.plot(x_values, y_values, color='grey', linestyle='--', alpha=0.5)\n",
    "\n",
    "    # plt.tight_layout()\n",
    "    g.fig.subplots_adjust(hspace=0.25)\n",
    "\n",
    "    rectangle = mpath.Path([\n",
    "        (-1.5, -0.5), (1.5, -0.5), (1.5, 0.5), (-1.5, 0.5), (-1.5, -0.5)\n",
    "    ], [mpath.Path.MOVETO, mpath.Path.LINETO, mpath.Path.LINETO, mpath.Path.LINETO, mpath.Path.CLOSEPOLY])\n",
    "\n",
    "    for i in range(1, 9):\n",
    "        g.legend.get_lines()[i].set_marker(rectangle)\n",
    "        g.legend.get_lines()[i].set_markersize(17)\n",
    "\n",
    "    edge_colors = ['black'] + ['lightgrey'] * 7\n",
    "    for ax in g.axes.flatten():\n",
    "        nr_colors = ax.collections[0].get_facecolors().shape[0] // len(style_order)\n",
    "        ax.collections[0].set_edgecolor(edge_colors * nr_colors)\n",
    "\n",
    "    for ax in g.axes.flat:\n",
    "        for spine in ax.spines.values():\n",
    "            spine.set_linewidth(0.85)  # Set axis line width\n",
    "\n",
    "    for ax in g.axes.flat:\n",
    "        ax.tick_params(axis='y', labelsize=9, length=2.5, width=0.85)\n",
    "        ax.tick_params(axis='x', labelsize=9, length=2.5, width=0.85)\n",
    "\n",
    "    sns.move_legend(g, \"upper left\", bbox_to_anchor=(0.65, 0.99), frameon=False, fontsize=10, ncols=2)\n",
    "\n",
    "    table = g.axes.flat[1].table(\n",
    "        cellText=scale_imbalance.loc[style_order, :].values,\n",
    "        rowLabels=scale_imbalance.loc[style_order, :].index,\n",
    "        colLabels=scale_imbalance.loc[style_order, :].columns,\n",
    "        fontsize=10,\n",
    "        cellLoc='center',\n",
    "        bbox=[1.7, 0, 1.1, 1.1],  # Adjust [x, y, width, height] of the table\n",
    "\n",
    "    )\n",
    "    for key, cell in table.get_celld().items():\n",
    "        cell.set_linewidth(0.85)  # Set the line width for all cells\n",
    "\n",
    "    colors = ['#00CED1', 'white']  # White to turquoise\n",
    "    custom_cmap = LinearSegmentedColormap.from_list('custom', colors)\n",
    "\n",
    "    for ax in g.axes.flatten():\n",
    "        xlim = ax.get_xlim()\n",
    "        ylim = ax.get_ylim()\n",
    "        x = np.linspace(xlim[0], xlim[1], 100)\n",
    "        y = np.linspace(ylim[0], ylim[1], 100)\n",
    "        xx, yy = np.meshgrid(x, y)\n",
    "        gradient = (xx + yy) / np.sqrt(2)\n",
    "        mask = np.flipud(yy > xx)\n",
    "        gradient[~mask] = np.nan\n",
    "        ax.imshow(gradient,\n",
    "                  extent=[ax.get_xlim()[0], ax.get_xlim()[1],\n",
    "                          ax.get_ylim()[0], ax.get_ylim()[1]],\n",
    "                  cmap=custom_cmap, alpha=0.2, aspect='auto',\n",
    "                  zorder=0)\n",
    "\n",
    "        tx_st = xlim[0] + (xlim[1] - xlim[0]) * 0.35\n",
    "        tx_end = ylim[1] - (ylim[1] - ylim[0]) * 0.1\n",
    "        ax.text(tx_st,\n",
    "                tx_end,\n",
    "                'Scale imbalance',\n",
    "                ha='center',\n",
    "                color='black',\n",
    "                fontsize=9)\n",
    "\n",
    "        # Then add arrow below\n",
    "        ax.arrow((tx_st + (tx_end - tx_st) * 0.25),  # x start \n",
    "                 ylim[1] - (ylim[1] - ylim[0]) * 0.15,  # y start\n",
    "                 -(xlim[1] - xlim[0]) * 0.3,  # dx (negative for leftward)\n",
    "                 0,  # dy\n",
    "                 head_width=(xlim[1] - xlim[0]) * 0.04,\n",
    "                 head_length=(ylim[1] - ylim[0]) * 0.04,\n",
    "                 fc='black',\n",
    "                 ec='black',\n",
    "                 alpha=0.5)\n",
    "    return g.fig\n",
    "\n",
    "\n",
    "def get_scale_imbalance(df):\n",
    "    scale_imbalance = df.groupby(['tissue_type', 'scoring_method'])['Score imbalance'].describe().reset_index()\n",
    "    scale_imbalance = scale_imbalance[['tissue_type', 'scoring_method', 'mean', 'std']]\n",
    "    scale_imbalance['mean_std'] = scale_imbalance['mean'].round(3).astype(str) + ' ± ' + scale_imbalance['std'].round(\n",
    "        3).astype(str)\n",
    "    scale_imbalance_pivot = pd.pivot(scale_imbalance, columns='tissue_type', index='scoring_method', values='mean_std')\n",
    "    return scale_imbalance_pivot"
   ]
  },
  {
   "cell_type": "code",
   "execution_count": null,
   "id": "28047ac3e879969",
   "metadata": {},
   "outputs": [],
   "source": [
    "for key, data in all_ds.groupby(['use_gene_pool', 'signatures']):\n",
    "    print(key)\n",
    "    scale_imbalance_pivot = get_scale_imbalance(data)\n",
    "    fig = plot_scatter(data, scale_imbalance_pivot)\n",
    "    use_gp, sig_pp = key\n",
    "    suffix = f\"{'with' if use_gp else 'without'}_gene_pool_{sig_pp.replace(' ', '_').lower()}\"\n",
    "    save_close_or_show(fig, SAVE, save_path=storing_path / f'perf_overview_{suffix}.pdf')\n",
    "    save_close_or_show(fig, SAVE, save_path=storing_path / f'perf_overview_{suffix}.svg')"
   ]
  },
  {
   "cell_type": "markdown",
   "id": "4cef25b8abe6ac98",
   "metadata": {},
   "source": [
    "### Bar plot"
   ]
  },
  {
   "cell_type": "code",
   "execution_count": null,
   "id": "5458feb994edb4b",
   "metadata": {},
   "outputs": [],
   "source": [
    "def plot_balanced_accuracy_barplot(dat, style_order, width_cm=18, height_cm=7.5):\n",
    "    # Convert cm to inches\n",
    "    width_inches = width_cm * 0.393701\n",
    "    height_inches = height_cm * 0.393701\n",
    "\n",
    "    # Create figure\n",
    "    fig = plt.figure(figsize=(width_inches, height_inches))\n",
    "\n",
    "    # Create the main barplot\n",
    "    ax = sns.barplot(\n",
    "        data=dat,\n",
    "        y='balanced_accuracy',\n",
    "        x='cell_type_pp',\n",
    "        order=dat.sort_values(['tissue_type', 'cell_type_pp'])['cell_type_pp'].unique(),\n",
    "        hue='scoring_method',\n",
    "        hue_order=style_order,\n",
    "        dodge=True,\n",
    "        linewidth=0.01\n",
    "    )\n",
    "\n",
    "    # Customize the plot\n",
    "    plt.xticks(rotation=45, ha='right', fontsize=10)\n",
    "    plt.yticks(fontsize=9)\n",
    "    plt.grid(axis='y', linestyle='--', alpha=0.7)\n",
    "\n",
    "    # Adjust labels\n",
    "    plt.xlabel('', fontsize=10)\n",
    "    plt.ylabel('Balanced Accuracy', fontsize=10)\n",
    "\n",
    "    # Customize legend\n",
    "    plt.legend(\n",
    "        title='Scoring Method',\n",
    "        bbox_to_anchor=(1.01, 1),\n",
    "        loc='upper left',\n",
    "        borderaxespad=0,\n",
    "        fontsize=10,\n",
    "        title_fontsize=10,\n",
    "        edgecolor='white'\n",
    "    )\n",
    "\n",
    "    # Adjust layout\n",
    "    plt.tight_layout()\n",
    "\n",
    "    # Set y-axis limits\n",
    "    spread = dat['balanced_accuracy'].max() - dat['balanced_accuracy'].min()\n",
    "    plt.ylim(\n",
    "        dat['balanced_accuracy'].min() - 0.05 * spread,\n",
    "        dat['balanced_accuracy'].max() + 0.05 * spread\n",
    "    )\n",
    "\n",
    "    return fig, ax"
   ]
  },
  {
   "cell_type": "code",
   "execution_count": null,
   "id": "2d33cde7d829869c",
   "metadata": {},
   "outputs": [],
   "source": [
    "for key, data in all_ds.groupby(['use_gene_pool', 'signatures']):\n",
    "    fig, ax = plot_balanced_accuracy_barplot(data, style_order)\n",
    "    use_gp, sig_pp = key\n",
    "    suffix = f\"{'with' if use_gp else 'without'}_gene_pool_{sig_pp.replace(' ', '_').lower()}\"\n",
    "    save_close_or_show(fig, SAVE, save_path=storing_path / f'perf_bar_{suffix}.pdf')\n",
    "    save_close_or_show(fig, SAVE, save_path=storing_path / f'perf_bar_{suffix}.svg')\n"
   ]
  }
 ],
 "metadata": {
  "kernelspec": {
   "display_name": "Python 3 (ipykernel)",
   "language": "python",
   "name": "python3"
  },
  "language_info": {
   "codemirror_mode": {
    "name": "ipython",
    "version": 3
   },
   "file_extension": ".py",
   "mimetype": "text/x-python",
   "name": "python",
   "nbconvert_exporter": "python",
   "pygments_lexer": "ipython3",
   "version": "3.9.18"
  }
 },
 "nbformat": 4,
 "nbformat_minor": 5
}
