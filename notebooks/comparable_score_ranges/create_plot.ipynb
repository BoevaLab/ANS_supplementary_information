{
 "cells": [
  {
   "cell_type": "code",
   "id": "initial_id",
   "metadata": {
    "collapsed": true,
    "ExecuteTime": {
     "end_time": "2024-12-05T13:34:30.782007Z",
     "start_time": "2024-12-05T13:34:28.972056Z"
    }
   },
   "source": [
    "from pathlib import Path\n",
    "\n",
    "import matplotlib.path as mpath\n",
    "import matplotlib.pyplot as plt\n",
    "import numpy as np\n",
    "import pandas as pd\n",
    "import seaborn as sns\n",
    "\n",
    "from old.score_with_all_methods import save_close_or_show\n",
    "\n",
    "sns.set_style('ticks')\n",
    "\n",
    "plt.rcParams.update({'pdf.fonttype': 42, 'font.family': 'sans-serif', 'font.sans-serif': 'Arial', 'font.size': 10})"
   ],
   "outputs": [],
   "execution_count": 1
  },
  {
   "metadata": {
    "ExecuteTime": {
     "end_time": "2024-12-05T13:34:30.838803Z",
     "start_time": "2024-12-05T13:34:30.829090Z"
    }
   },
   "cell_type": "code",
   "source": "from ANS_supplementary_information.data.constants import BASE_PATH_RESULTS",
   "id": "92afa7f13361f53d",
   "outputs": [],
   "execution_count": 2
  },
  {
   "metadata": {
    "ExecuteTime": {
     "end_time": "2024-12-05T13:34:30.848555Z",
     "start_time": "2024-12-05T13:34:30.845553Z"
    }
   },
   "cell_type": "code",
   "source": [
    "exp_path = Path(BASE_PATH_RESULTS) / 'comparable_score_ranges'\n",
    "\n",
    "storing_path = exp_path / 'plots'\n",
    "SAVE = False\n",
    "if SAVE:\n",
    "    storing_path.mkdir(parents=True, exist_ok=True)\n"
   ],
   "id": "358dfd8da4148966",
   "outputs": [],
   "execution_count": 3
  },
  {
   "metadata": {
    "ExecuteTime": {
     "end_time": "2024-12-05T13:34:31.127799Z",
     "start_time": "2024-12-05T13:34:31.039116Z"
    }
   },
   "cell_type": "code",
   "source": [
    "dfs = []\n",
    "for path in exp_path.glob('**/metrics.csv'):\n",
    "    tt, gene_pool, overlapping_genes = path.parts[-4:-1]\n",
    "    df = pd.read_csv(path, index_col=0)\n",
    "    df = df.reset_index(names='metric')\n",
    "    df['cell_type'] = tt\n",
    "    df['tissue_type'] = 'PBMC' if 'pbmc' in tt else 'Cancer'\n",
    "    df['use_gene_pool'] = False if 'without' in gene_pool else True\n",
    "    df[\n",
    "        'signatures'] = 'Signatures without overlapping genes' if 'without' in overlapping_genes else 'Original signatures'\n",
    "    dfs.append(df)\n",
    "all_ds = pd.concat(dfs)"
   ],
   "id": "2b7f2b540214a1ff",
   "outputs": [],
   "execution_count": 4
  },
  {
   "metadata": {
    "ExecuteTime": {
     "end_time": "2024-12-05T13:34:31.145691Z",
     "start_time": "2024-12-05T13:34:31.141057Z"
    }
   },
   "cell_type": "code",
   "source": "all_ds.columns",
   "id": "ba59486a3ed4a244",
   "outputs": [
    {
     "data": {
      "text/plain": [
       "Index(['metric', 'ANS', 'Seurat', 'Seurat_AG', 'Seurat_LVG', 'Scanpy',\n",
       "       'Jasmine_LH', 'Jasmine_OR', 'UCell', 'cell_type', 'tissue_type',\n",
       "       'use_gene_pool', 'signatures'],\n",
       "      dtype='object')"
      ]
     },
     "execution_count": 5,
     "metadata": {},
     "output_type": "execute_result"
    }
   ],
   "execution_count": 5
  },
  {
   "metadata": {
    "ExecuteTime": {
     "end_time": "2024-12-05T13:34:31.242987Z",
     "start_time": "2024-12-05T13:34:31.235626Z"
    }
   },
   "cell_type": "code",
   "source": [
    "all_ds = pd.melt(\n",
    "    all_ds,\n",
    "    id_vars=['metric', 'cell_type', 'tissue_type', 'use_gene_pool', 'signatures'],\n",
    "    var_name='scoring_method',\n",
    "    value_name='value'\n",
    ")"
   ],
   "id": "8b98028d00a26f8c",
   "outputs": [],
   "execution_count": 6
  },
  {
   "metadata": {
    "ExecuteTime": {
     "end_time": "2024-12-05T13:34:31.265611Z",
     "start_time": "2024-12-05T13:34:31.255300Z"
    }
   },
   "cell_type": "code",
   "source": [
    "all_ds = pd.pivot(all_ds,\n",
    "                  index=['cell_type', 'tissue_type', 'use_gene_pool', 'signatures', 'scoring_method'],\n",
    "                  columns='metric',\n",
    "                  values='value').reset_index()"
   ],
   "id": "4e63c8ba0fb42287",
   "outputs": [],
   "execution_count": 7
  },
  {
   "metadata": {
    "ExecuteTime": {
     "end_time": "2024-12-05T13:34:31.282554Z",
     "start_time": "2024-12-05T13:34:31.276950Z"
    }
   },
   "cell_type": "code",
   "source": [
    "float_cols = ['balanced_accuracy', 'f1_score', 'gmm_balanced_accuracy',\n",
    "              'gmm_f1_score', 'gmm_jaccard_score', 'jaccard_score',\n",
    "              'logreg_balanced_accuracy_10cv_mean',\n",
    "              'logreg_balanced_accuracy_10cv_std', 'logreg_f1_weighted_10cv_mean',\n",
    "              'logreg_f1_weighted_10cv_std', 'logreg_jaccard_weighted_10cv_mean',\n",
    "              'logreg_jaccard_weighted_10cv_std']\n",
    "all_ds[float_cols] = all_ds[float_cols].astype(float)"
   ],
   "id": "61d23ae36fa3364e",
   "outputs": [],
   "execution_count": 8
  },
  {
   "metadata": {
    "ExecuteTime": {
     "end_time": "2024-12-05T13:34:31.296844Z",
     "start_time": "2024-12-05T13:34:31.294768Z"
    }
   },
   "cell_type": "code",
   "source": [
    "style_order = [\n",
    "    'ANS',\n",
    "    'Seurat',\n",
    "    'Seurat_AG',\n",
    "    'Seurat_LVG',\n",
    "    'Scanpy',\n",
    "    'Jasmine_LH',\n",
    "    'Jasmine_OR',\n",
    "    'UCell'\n",
    "]"
   ],
   "id": "3100c9bcab3c728",
   "outputs": [],
   "execution_count": 9
  },
  {
   "metadata": {
    "ExecuteTime": {
     "end_time": "2024-12-05T13:34:31.311296Z",
     "start_time": "2024-12-05T13:34:31.308148Z"
    }
   },
   "cell_type": "code",
   "source": [
    "all_ds['cell_type_pp'] = all_ds.cell_type.map({\"breast_malignant\": 'BRCA (6 states)',\n",
    "                                               'luad_kim_malignant': 'LUAD (3 states)',\n",
    "                                               'luad_kim_malignant_2': 'LUAD (3 states, 3ca)',\n",
    "                                               'ovarian_malignant': 'HGSOC (8 states)',\n",
    "                                               'skin_malignant': 'cSCC (4 states, self-pp)',\n",
    "                                               'skin_malignant_2': 'cSCC (4 states)',\n",
    "                                               'pbmc_b_mono_nk': 'B, Monocytes, NK cells',\n",
    "                                               'pbmc_b_subtypes': 'B-cell subtypes',\n",
    "                                               'pbmc_cd4_subtypes': 'CD4 T-cell subtypes',\n",
    "                                               'pbmc_cd8_subtypes': 'CD8 T-cell subtypes',\n",
    "                                               })"
   ],
   "id": "c77e2d3dcb0995f6",
   "outputs": [],
   "execution_count": 10
  },
  {
   "metadata": {},
   "cell_type": "markdown",
   "source": "#### Create performance overview table",
   "id": "b657efc5bf742c32"
  },
  {
   "metadata": {
    "ExecuteTime": {
     "end_time": "2024-12-05T14:50:38.326036Z",
     "start_time": "2024-12-05T14:50:38.320123Z"
    }
   },
   "cell_type": "code",
   "source": "all_ds = all_ds.sort_values(by=['signatures', 'use_gene_pool', 'tissue_type', 'cell_type_pp'])",
   "id": "763a1a11ff546894",
   "outputs": [],
   "execution_count": 96
  },
  {
   "metadata": {
    "ExecuteTime": {
     "end_time": "2024-12-05T14:50:39.569076Z",
     "start_time": "2024-12-05T14:50:39.566659Z"
    }
   },
   "cell_type": "code",
   "source": "grouped_all_ds = all_ds.groupby(['signatures', 'use_gene_pool'])",
   "id": "77f4c6df89080c15",
   "outputs": [],
   "execution_count": 98
  },
  {
   "metadata": {},
   "cell_type": "code",
   "outputs": [],
   "execution_count": null,
   "source": [
    "def metric_type(x):\n",
    "    if 'balanced_accuracy' in x:\n",
    "        return 'Balanced Accuracy'\n",
    "    if 'f1_score' in x:\n",
    "        return 'F1 Score'\n",
    "    if 'f1_weighted' in x:\n",
    "        return 'F1 Score'\n",
    "    return x\n",
    "\n",
    "\n",
    "def lbl_method(x):\n",
    "    if 'gmm' in x:\n",
    "        return 'Rediscovery score'\n",
    "    elif 'logreg' in x:\n",
    "        return 'Information quantity'\n",
    "    else:\n",
    "        return 'Hard labeling score'"
   ],
   "id": "10efcedd0db45b0d"
  },
  {
   "metadata": {},
   "cell_type": "code",
   "outputs": [],
   "execution_count": null,
   "source": [
    "for group, data in grouped_all_ds:\n",
    "    print(group)\n",
    "    print(data.head())\n",
    "    fn = storing_path / f'overview_table_{group[0].replace(\" \", \"_\").lower()}_{\"with\" if group[1] else \"without\"}_gene_pool.xlsx'\n",
    "\n",
    "    data = data.drop(columns=['conf_mat',\n",
    "                              'logreg_balanced_accuracy_10cv_std', 'logreg_f1_weighted_10cv_std',\n",
    "                              'jaccard_score', 'gmm_jaccard_score', 'logreg_jaccard_weighted_10cv_mean',\n",
    "                              'logreg_jaccard_weighted_10cv_std']\n",
    "                     )\n",
    "\n",
    "    melted_data = pd.melt(\n",
    "        data,\n",
    "        id_vars=['cell_type', 'tissue_type', 'use_gene_pool', 'signatures',\n",
    "                 'scoring_method', 'cell_type_pp'],\n",
    "        var_name='metric',\n",
    "        value_name='value'\n",
    "    )\n",
    "    print(melted_data.metric.unique())\n",
    "\n",
    "    melted_data['metric_type'] = melted_data['metric'].apply(metric_type)\n",
    "    melted_data['labeling_method'] = melted_data['metric'].apply(lbl_method)\n",
    "    perf_table = pd.pivot(\n",
    "        melted_data,\n",
    "        index=['metric_type', 'scoring_method'],\n",
    "        columns=['labeling_method', 'tissue_type', 'cell_type_pp'],\n",
    "        values='value'\n",
    "    ).T\n",
    "\n",
    "    if SAVE:\n",
    "        perf_table.to_excel(storing_path / fn)\n",
    "        print(f'Stored {storing_path / fn}')"
   ],
   "id": "6f00d4faaf123e10"
  },
  {
   "metadata": {},
   "cell_type": "markdown",
   "source": "#### Show difference in performance for cansig pp and non-canisg pp",
   "id": "351cb9caa38214d"
  },
  {
   "metadata": {},
   "cell_type": "code",
   "source": [
    "def compare_two_scoring_methods(res_df):\n",
    "    g = sns.catplot(\n",
    "        res_df,\n",
    "        x='scoring_method',\n",
    "        y='balanced_accuracy',\n",
    "        hue='cell_type_pp',\n",
    "        row='signatures',\n",
    "        col='use_gene_pool',\n",
    "        kind='bar',\n",
    "        height=3,\n",
    "        aspect=1.5\n",
    "    )\n",
    "    # Rotate labels before setting titles\n",
    "    for ax in g.axes.flat:\n",
    "        plt.sca(ax)\n",
    "        plt.xticks(rotation=30, ha='right')\n",
    "\n",
    "    title_template = \"{row_name}\\n Use gene_pol={col_name}\"\n",
    "    g.set_titles(title_template, fontsize=10)\n",
    "    g.set_axis_labels('', 'Balanced Accuracy', fontsize=10)\n",
    "\n",
    "    g.set(ylim=(res_df['balanced_accuracy'].min() - 0.01, res_df['balanced_accuracy'].max() + 0.01))\n",
    "\n",
    "    g.fig.subplots_adjust(hspace=0.25)\n",
    "    g._legend.set_title('Cell Type')\n",
    "\n",
    "    return g.fig\n"
   ],
   "id": "daed08e89fe4de0e",
   "outputs": [],
   "execution_count": null
  },
  {
   "metadata": {},
   "cell_type": "code",
   "source": [
    "luad_results = all_ds[all_ds.cell_type.str.contains('luad_kim')].copy()\n",
    "fig = compare_two_scoring_methods(luad_results)\n",
    "save_close_or_show(fig, SAVE, save_path=storing_path / 'luad_ds_pp_diff.svg')"
   ],
   "id": "94ec0315377f1f69",
   "outputs": [],
   "execution_count": null
  },
  {
   "metadata": {},
   "cell_type": "code",
   "source": [
    "skin_results = all_ds[all_ds.cell_type.str.contains('skin')].copy()\n",
    "fig = compare_two_scoring_methods(skin_results)\n",
    "save_close_or_show(fig, SAVE, save_path=storing_path / 'skin_ds_pp_diff.svg')"
   ],
   "id": "36806b219e992284",
   "outputs": [],
   "execution_count": null
  },
  {
   "metadata": {},
   "cell_type": "markdown",
   "source": "### Compute performance plots",
   "id": "e2d4302b4f9e131"
  },
  {
   "metadata": {},
   "cell_type": "code",
   "source": "all_ds = all_ds[~ all_ds['cell_type_pp'].str.contains(r', .+\\)')].copy()",
   "id": "542f492107904727",
   "outputs": [],
   "execution_count": null
  },
  {
   "metadata": {},
   "cell_type": "code",
   "source": "all_ds['Score imbalance'] = all_ds['logreg_balanced_accuracy_10cv_mean'] - all_ds['balanced_accuracy']",
   "id": "ed33106f74dc8545",
   "outputs": [],
   "execution_count": null
  },
  {
   "metadata": {},
   "cell_type": "code",
   "source": [
    "style_order = [\n",
    "    'ANS',\n",
    "    'Seurat',\n",
    "    'Seurat_AG',\n",
    "    'Seurat_LVG',\n",
    "    'Scanpy',\n",
    "    'Jasmine_LH',\n",
    "    'Jasmine_OR',\n",
    "    'UCell'\n",
    "]"
   ],
   "id": "ceac950fb11ed8c",
   "outputs": [],
   "execution_count": null
  },
  {
   "metadata": {},
   "cell_type": "code",
   "source": [
    "from matplotlib.colors import LinearSegmentedColormap\n",
    "\n",
    "\n",
    "def plot_scatter(df, scale_imbalance):\n",
    "    df = df.copy()\n",
    "    df['Scoring Method'] = df['scoring_method']\n",
    "    df['Cell types'] = df['cell_type_pp']\n",
    "    g = sns.relplot(\n",
    "        data=df,\n",
    "        x='balanced_accuracy',\n",
    "        y='logreg_balanced_accuracy_10cv_mean',\n",
    "        style='Scoring Method',\n",
    "        style_order=style_order,\n",
    "        hue='Cell types',\n",
    "        # col='tissue_type',\n",
    "        # row='signatures',\n",
    "        col='signatures',\n",
    "        row='tissue_type',\n",
    "        height=2.5,\n",
    "        aspect=1.2,\n",
    "        s=100,\n",
    "        alpha=0.7,\n",
    "        facet_kws={'sharey': False, 'sharex': False},\n",
    "    )\n",
    "\n",
    "    # title_template = \"{col_name}\"\n",
    "    title_template = \"{row_name}\"\n",
    "    g.set_titles(title_template, fontsize=10)\n",
    "    g.set_axis_labels('Balanced Accuracy', 'Information quantity (logreg)', fontsize=10)\n",
    "\n",
    "    for ax in g.axes.flatten():\n",
    "        # Define the range for the line\n",
    "        vmin = min(ax.get_xlim()[0], ax.get_ylim()[0])\n",
    "        vmax = max(ax.get_xlim()[1], ax.get_ylim()[1])\n",
    "\n",
    "        x_values = np.linspace(vmin, vmax, 100)\n",
    "        y_values = x_values  # f(x) = x\n",
    "\n",
    "        # Plot the line\n",
    "        ax.plot(x_values, y_values, color='grey', linestyle='--', alpha=0.5)\n",
    "\n",
    "    # plt.tight_layout()\n",
    "    g.fig.subplots_adjust(hspace=0.25)\n",
    "\n",
    "    rectangle = mpath.Path([\n",
    "        (-1.5, -0.5), (1.5, -0.5), (1.5, 0.5), (-1.5, 0.5), (-1.5, -0.5)\n",
    "    ], [mpath.Path.MOVETO, mpath.Path.LINETO, mpath.Path.LINETO, mpath.Path.LINETO, mpath.Path.CLOSEPOLY])\n",
    "\n",
    "    for i in range(1, 9):\n",
    "        g.legend.get_lines()[i].set_marker(rectangle)\n",
    "        g.legend.get_lines()[i].set_markersize(17)\n",
    "\n",
    "    edge_colors = ['black'] + ['lightgrey'] * 7\n",
    "    for ax in g.axes.flatten():\n",
    "        nr_colors = ax.collections[0].get_facecolors().shape[0] // len(style_order)\n",
    "        ax.collections[0].set_edgecolor(edge_colors * nr_colors)\n",
    "\n",
    "    for ax in g.axes.flat:\n",
    "        for spine in ax.spines.values():\n",
    "            spine.set_linewidth(0.85)  # Set axis line width\n",
    "\n",
    "    for ax in g.axes.flat:\n",
    "        ax.tick_params(axis='y', labelsize=9, length=2.5, width=0.85)\n",
    "        ax.tick_params(axis='x', labelsize=9, length=2.5, width=0.85)\n",
    "\n",
    "    sns.move_legend(g, \"upper left\", bbox_to_anchor=(0.65, 0.99), frameon=False, fontsize=10, ncols=2)\n",
    "\n",
    "    table = g.axes.flat[1].table(\n",
    "        cellText=scale_imbalance.loc[style_order, :].values,\n",
    "        rowLabels=scale_imbalance.loc[style_order, :].index,\n",
    "        colLabels=scale_imbalance.loc[style_order, :].columns,\n",
    "        fontsize=10,\n",
    "        cellLoc='center',\n",
    "        bbox=[1.7, 0, 1.1, 1.1],  # Adjust [x, y, width, height] of the table\n",
    "\n",
    "    )\n",
    "    for key, cell in table.get_celld().items():\n",
    "        cell.set_linewidth(0.85)  # Set the line width for all cells\n",
    "\n",
    "    colors = ['#00CED1', 'white']  # White to turquoise\n",
    "    custom_cmap = LinearSegmentedColormap.from_list('custom', colors)\n",
    "\n",
    "    for ax in g.axes.flatten():\n",
    "        xlim = ax.get_xlim()\n",
    "        ylim = ax.get_ylim()\n",
    "        x = np.linspace(xlim[0], xlim[1], 100)\n",
    "        y = np.linspace(ylim[0], ylim[1], 100)\n",
    "        xx, yy = np.meshgrid(x, y)\n",
    "        gradient = (xx + yy) / np.sqrt(2)\n",
    "        mask = np.flipud(yy > xx)\n",
    "        gradient[~mask] = np.nan\n",
    "        ax.imshow(gradient,\n",
    "                  extent=[ax.get_xlim()[0], ax.get_xlim()[1],\n",
    "                          ax.get_ylim()[0], ax.get_ylim()[1]],\n",
    "                  cmap=custom_cmap, alpha=0.2, aspect='auto',\n",
    "                  zorder=0)\n",
    "\n",
    "        tx_st = xlim[0] + (xlim[1] - xlim[0]) * 0.35\n",
    "        tx_end = ylim[1] - (ylim[1] - ylim[0]) * 0.1\n",
    "        ax.text(tx_st,\n",
    "                tx_end,\n",
    "                'Scale imbalance',\n",
    "                ha='center',\n",
    "                color='black',\n",
    "                fontsize=9)\n",
    "\n",
    "        # Then add arrow below\n",
    "        ax.arrow((tx_st + (tx_end - tx_st) * 0.25),  # x start \n",
    "                 ylim[1] - (ylim[1] - ylim[0]) * 0.15,  # y start\n",
    "                 -(xlim[1] - xlim[0]) * 0.3,  # dx (negative for leftward)\n",
    "                 0,  # dy\n",
    "                 head_width=(xlim[1] - xlim[0]) * 0.04,\n",
    "                 head_length=(ylim[1] - ylim[0]) * 0.04,\n",
    "                 fc='black',\n",
    "                 ec='black',\n",
    "                 alpha=0.5)\n",
    "    return g.fig\n",
    "\n",
    "\n",
    "def get_scale_imbalance(df):\n",
    "    scale_imbalance = df.groupby(['tissue_type', 'scoring_method'])['Score imbalance'].describe().reset_index()\n",
    "    scale_imbalance = scale_imbalance[['tissue_type', 'scoring_method', 'mean', 'std']]\n",
    "    scale_imbalance['mean_std'] = scale_imbalance['mean'].round(3).astype(str) + ' ± ' + scale_imbalance['std'].round(\n",
    "        3).astype(str)\n",
    "    scale_imbalance_pivot = pd.pivot(scale_imbalance, columns='tissue_type', index='scoring_method', values='mean_std')\n",
    "    return scale_imbalance_pivot"
   ],
   "id": "da3d111fee59a82e",
   "outputs": [],
   "execution_count": null
  },
  {
   "metadata": {},
   "cell_type": "code",
   "source": [
    "for key, data in all_ds.groupby(['use_gene_pool', 'signatures']):\n",
    "    print(key)\n",
    "    scale_imbalance_pivot = get_scale_imbalance(data)\n",
    "    fig = plot_scatter(data, scale_imbalance_pivot)\n",
    "    use_gp, sig_pp = key\n",
    "    suffix = f\"{'with' if use_gp else 'without'}_gene_pool_{sig_pp.replace(' ', '_').lower()}\"\n",
    "    save_close_or_show(fig, SAVE, save_path=storing_path / f'perf_overview_{suffix}.svg')"
   ],
   "id": "28047ac3e879969",
   "outputs": [],
   "execution_count": null
  }
 ],
 "metadata": {
  "kernelspec": {
   "display_name": "Python 3",
   "language": "python",
   "name": "python3"
  },
  "language_info": {
   "codemirror_mode": {
    "name": "ipython",
    "version": 2
   },
   "file_extension": ".py",
   "mimetype": "text/x-python",
   "name": "python",
   "nbconvert_exporter": "python",
   "pygments_lexer": "ipython2",
   "version": "2.7.6"
  }
 },
 "nbformat": 4,
 "nbformat_minor": 5
}
