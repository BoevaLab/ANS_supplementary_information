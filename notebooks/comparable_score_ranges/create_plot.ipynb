{
 "cells": [
  {
   "cell_type": "code",
   "execution_count": 178,
   "id": "initial_id",
   "metadata": {
    "collapsed": true,
    "ExecuteTime": {
     "end_time": "2024-08-15T06:13:28.184369Z",
     "start_time": "2024-08-15T06:13:28.129683Z"
    }
   },
   "outputs": [],
   "source": [
    "from pathlib import Path\n",
    "\n",
    "import matplotlib.path as mpath\n",
    "import matplotlib.pyplot as plt\n",
    "import numpy as np\n",
    "import pandas as pd\n",
    "import seaborn as sns\n",
    "\n",
    "from score_with_all_methods import save_close_or_show\n",
    "\n",
    "sns.set_style('ticks')\n",
    "\n",
    "plt.rcParams.update({'pdf.fonttype': 42, 'font.family': 'sans-serif', 'font.sans-serif': 'Arial', 'font.size': 10})"
   ]
  },
  {
   "cell_type": "code",
   "outputs": [],
   "source": [
    "res_root = Path('/Users/lciernik/Documents/TUB/projects/ans_scoring/results')\n",
    "SAVE = True"
   ],
   "metadata": {
    "collapsed": false,
    "ExecuteTime": {
     "end_time": "2024-08-15T06:13:28.199783Z",
     "start_time": "2024-08-15T06:13:28.188625Z"
    }
   },
   "id": "cefa4127e6d11186",
   "execution_count": 179
  },
  {
   "cell_type": "code",
   "outputs": [],
   "source": [
    "def load_results(res_root):\n",
    "    res = []\n",
    "    for f in res_root.glob('**/metrics.csv'):\n",
    "        df = pd.read_csv(f)\n",
    "\n",
    "        if 'signatures_with_overlapping' in str(f):\n",
    "            df['signatures'] = 'Original signatures'\n",
    "        else:\n",
    "            df['signatures'] = 'Signatures without overlapping genes'\n",
    "\n",
    "        if 'scored_on_all' in str(f):\n",
    "            df['scored_on'] = 'Scoring on all cells'\n",
    "        else:\n",
    "            df['scored_on'] = 'Scoring on subtypes'\n",
    "\n",
    "        if 'cancer' in str(f):\n",
    "            df['tissue_type'] = 'Cancer'\n",
    "        else:\n",
    "            df['tissue_type'] = 'PBMC'\n",
    "\n",
    "        if 'cd4' in str(f):\n",
    "            df['Cell type'] = 'CD4 T-cell subtypes'\n",
    "        elif 'cd8' in str(f):\n",
    "            df['Cell type'] = 'CD8 T-cell subtypes'\n",
    "        elif 'b_subtypes' in str(f):\n",
    "            df['Cell type'] = 'B-cell subtypes'\n",
    "        elif 'b_mono_nk' in str(f):\n",
    "            df['Cell type'] = 'B, Monocytes, NK cells'\n",
    "        elif 'breast' in str(f):\n",
    "            df['Cell type'] = 'BRCA (6 states)'\n",
    "        elif 'skin' in str(f):\n",
    "            df['Cell type'] = 'cSCC (4 states)'\n",
    "        elif 'lung' in str(f):\n",
    "            df['Cell type'] = 'LUAD (3 states)'\n",
    "        elif 'ovarian' in str(f):\n",
    "            df['Cell type'] = 'HGSOC (8 states)'\n",
    "        else:\n",
    "            df['Cell type'] = 'Unknown'\n",
    "\n",
    "        df.columns = ['metric'] + list(df.columns[1:])\n",
    "        df = pd.melt(\n",
    "            df,\n",
    "            id_vars=[df.columns[0]] + list(df.columns[-4:]),\n",
    "            value_vars=df.columns[1:-4],\n",
    "            var_name='Scoring method',\n",
    "            value_name='metric_value'\n",
    "\n",
    "        )\n",
    "        df = df[df['metric'] != 'conf_mat']\n",
    "        res.append(df)\n",
    "    return pd.concat(res)"
   ],
   "metadata": {
    "collapsed": false,
    "ExecuteTime": {
     "end_time": "2024-08-15T06:13:28.262424Z",
     "start_time": "2024-08-15T06:13:28.201798Z"
    }
   },
   "id": "d155651a63f893bd",
   "execution_count": 180
  },
  {
   "cell_type": "code",
   "outputs": [],
   "source": [
    "res_cancer = load_results(res_root / \"cancer_datasets_bak\")\n",
    "res_pbmc = load_results(res_root / \"citeseq\")\n",
    "\n",
    "res = pd.concat([res_cancer, res_pbmc])"
   ],
   "metadata": {
    "collapsed": false,
    "ExecuteTime": {
     "end_time": "2024-08-15T06:13:28.463988Z",
     "start_time": "2024-08-15T06:13:28.264780Z"
    }
   },
   "id": "ff83bdc1bbd4a922",
   "execution_count": 181
  },
  {
   "cell_type": "code",
   "outputs": [],
   "source": [
    "# res.columns = ['metric', 'ANS', 'Scanpy', 'signatures', 'scored_on', 'Cell type']\n",
    "# res = res[['Cell type', 'scored_on', 'signatures', 'metric', 'ANS', 'Scanpy']]"
   ],
   "metadata": {
    "collapsed": false,
    "ExecuteTime": {
     "end_time": "2024-08-15T06:13:28.474809Z",
     "start_time": "2024-08-15T06:13:28.470481Z"
    }
   },
   "id": "d8462026c6f96887",
   "execution_count": 183
  },
  {
   "cell_type": "code",
   "outputs": [
    {
     "data": {
      "text/plain": "(384, 7)"
     },
     "execution_count": 184,
     "metadata": {},
     "output_type": "execute_result"
    }
   ],
   "source": [
    "res['metric_value'] = res['metric_value'].astype(float)\n",
    "res = res[~res.metric.str.contains('std')]\n",
    "res.shape"
   ],
   "metadata": {
    "collapsed": false,
    "ExecuteTime": {
     "end_time": "2024-08-15T06:13:28.496213Z",
     "start_time": "2024-08-15T06:13:28.476240Z"
    }
   },
   "id": "eb4eb4583e3cdcaa",
   "execution_count": 184
  },
  {
   "cell_type": "code",
   "outputs": [],
   "source": [
    "res = pd.pivot(res,\n",
    "               index=['tissue_type', 'Cell type', 'scored_on', 'signatures', 'Scoring method'],\n",
    "               columns='metric',\n",
    "               values='metric_value').reset_index()\n",
    "res.index.name = None"
   ],
   "metadata": {
    "collapsed": false,
    "ExecuteTime": {
     "end_time": "2024-08-15T06:13:28.510724Z",
     "start_time": "2024-08-15T06:13:28.497240Z"
    }
   },
   "id": "90b450e557521e04",
   "execution_count": 185
  },
  {
   "cell_type": "code",
   "outputs": [],
   "source": [
    "# allowed_scoring_methods = ['ANS', 'Scanpy', 'UCell']\n",
    "allowed_scoring_methods = list(res['Scoring method'].unique())\n",
    "res_plt = res[res['Scoring method'].isin(allowed_scoring_methods)]\n",
    "\n",
    "res_plt['Score imbalance'] = res_plt['logreg_balanced_accuracy_10cv'] - res_plt['balanced_accuracy']"
   ],
   "metadata": {
    "collapsed": false,
    "ExecuteTime": {
     "end_time": "2024-08-15T06:13:28.527756Z",
     "start_time": "2024-08-15T06:13:28.517816Z"
    }
   },
   "id": "85d90bf742ece5aa",
   "execution_count": 187
  },
  {
   "cell_type": "code",
   "outputs": [],
   "source": [
    "style_order = [\n",
    "    'ANS',\n",
    "    'Seurat',\n",
    "    'Seurat_AG',\n",
    "    'Seurat_LVG',\n",
    "    'Scanpy',\n",
    "    'Jasmine_LH',\n",
    "    'Jasmine_OR',\n",
    "    'UCell'\n",
    "]"
   ],
   "metadata": {
    "collapsed": false,
    "ExecuteTime": {
     "end_time": "2024-08-15T06:13:28.530403Z",
     "start_time": "2024-08-15T06:13:28.528494Z"
    }
   },
   "id": "d75c3dcaebb95f6a",
   "execution_count": 188
  },
  {
   "cell_type": "markdown",
   "source": [
    "## Plotting"
   ],
   "metadata": {
    "collapsed": false
   },
   "id": "bab6d579385eddf4"
  },
  {
   "cell_type": "code",
   "outputs": [],
   "source": [
    "def plot_scatter(df, scale_imbalance):\n",
    "    g = sns.relplot(\n",
    "        data=df,\n",
    "        x='balanced_accuracy',\n",
    "        y='logreg_balanced_accuracy_10cv',\n",
    "        style='Scoring method',\n",
    "        style_order=style_order,\n",
    "        hue='Cell type',\n",
    "        # col='tissue_type',\n",
    "        # row='signatures',\n",
    "        col='signatures',\n",
    "        row='tissue_type',\n",
    "        height=2.5,\n",
    "        aspect=1.2,\n",
    "        s=100,\n",
    "        alpha=0.7,\n",
    "        facet_kws={'sharey': False, 'sharex': False},\n",
    "    )\n",
    "\n",
    "    # title_template = \"{col_name}\"\n",
    "    title_template = \"{row_name}\"\n",
    "    g.set_titles(title_template, fontsize=10)\n",
    "    g.set_axis_labels('Balanced Accuracy', 'Information quantity (logreg)', fontsize=10)\n",
    "\n",
    "    for ax in g.axes.flatten():\n",
    "        # Define the range for the line\n",
    "        vmin = min(ax.get_xlim()[0], ax.get_ylim()[0])\n",
    "        vmax = max(ax.get_xlim()[1], ax.get_ylim()[1])\n",
    "\n",
    "        x_values = np.linspace(vmin, vmax, 100)\n",
    "        y_values = x_values  # f(x) = x\n",
    "\n",
    "        # Plot the line\n",
    "        ax.plot(x_values, y_values, color='grey', linestyle='--', alpha=0.5)\n",
    "\n",
    "    # plt.tight_layout()\n",
    "    g.fig.subplots_adjust(hspace=0.25)\n",
    "\n",
    "    rectangle = mpath.Path([\n",
    "        (-1.5, -0.5), (1.5, -0.5), (1.5, 0.5), (-1.5, 0.5), (-1.5, -0.5)\n",
    "    ], [mpath.Path.MOVETO, mpath.Path.LINETO, mpath.Path.LINETO, mpath.Path.LINETO, mpath.Path.CLOSEPOLY])\n",
    "\n",
    "    for i in range(1, 9):\n",
    "        g.legend.get_lines()[i].set_marker(rectangle)\n",
    "        g.legend.get_lines()[i].set_markersize(17)\n",
    "\n",
    "    edge_colors = ['black'] + ['lightgrey'] * 7\n",
    "    for ax in g.axes.flatten():\n",
    "        nr_colors = ax.collections[0].get_facecolors().shape[0] // len(style_order)\n",
    "        ax.collections[0].set_edgecolor(edge_colors * nr_colors)\n",
    "        \n",
    "    for ax in g.axes.flat:\n",
    "        for spine in ax.spines.values():\n",
    "            spine.set_linewidth(0.85)  # Set axis line width\n",
    "    \n",
    "    for ax in g.axes.flat:\n",
    "        ax.tick_params(axis='y', labelsize=8, length=2.5, width=0.85)\n",
    "        ax.tick_params(axis='x', labelsize=8, length=2.5, width=0.85)\n",
    "    \n",
    "    sns.move_legend(g, \"upper left\", bbox_to_anchor=(0.65, 0.99), frameon=False, fontsize=10, ncols=2)\n",
    "    \n",
    "    table = g.axes.flat[1].table(\n",
    "        cellText=scale_imbalance.loc[style_order, :].values, \n",
    "        rowLabels=scale_imbalance.loc[style_order, :].index, \n",
    "        colLabels=scale_imbalance.loc[style_order, :].columns, \n",
    "        fontsize=10,\n",
    "        cellLoc='center',\n",
    "        bbox=[1.7,0, 1.1, 1.1],  # Adjust [x, y, width, height] of the table\n",
    "        # bbox=[1.7,0, 3, 3],  # Adjust [x, y, width, height] of the table\n",
    "\n",
    "    )\n",
    "    for key, cell in table.get_celld().items():\n",
    "        cell.set_linewidth(0.85)  # Set the line width for all cells\n",
    "        \n",
    "    return g.fig\n",
    "\n",
    "\n",
    "def get_scale_imbalance(df):\n",
    "    scale_imbalance = df.groupby(['tissue_type', 'Scoring method'])['Score imbalance'].describe().reset_index()\n",
    "    scale_imbalance = scale_imbalance[['tissue_type', 'Scoring method', 'mean', 'std']]\n",
    "    scale_imbalance['mean_std'] = scale_imbalance['mean'].round(3).astype(str) + ' ± ' + scale_imbalance['std'].round(3).astype(str)\n",
    "    scale_imbalance_pivot = pd.pivot(scale_imbalance, columns='tissue_type', index='Scoring method', values='mean_std')\n",
    "    return scale_imbalance_pivot\n"
   ],
   "metadata": {
    "collapsed": false,
    "ExecuteTime": {
     "end_time": "2024-08-15T06:13:28.546359Z",
     "start_time": "2024-08-15T06:13:28.531166Z"
    }
   },
   "id": "db8615033147ba96",
   "execution_count": 189
  },
  {
   "cell_type": "code",
   "outputs": [],
   "source": [
    "sc_methods = '_'.join(allowed_scoring_methods) if len(allowed_scoring_methods) != res['Scoring method'].nunique() else 'all'"
   ],
   "metadata": {
    "collapsed": false,
    "ExecuteTime": {
     "end_time": "2024-08-15T06:13:28.549326Z",
     "start_time": "2024-08-15T06:13:28.547173Z"
    }
   },
   "id": "90a25390dda0abc9",
   "execution_count": 190
  },
  {
   "cell_type": "markdown",
   "source": [
    "### Overlapping gene signatures"
   ],
   "metadata": {
    "collapsed": false
   },
   "id": "aab40934364c0220"
  },
  {
   "cell_type": "code",
   "outputs": [
    {
     "name": "stdout",
     "output_type": "stream",
     "text": [
      "Saved figure at /Users/lciernik/Documents/TUB/projects/ans_scoring/results/metrics_all_orig_sigs.pdf.\n"
     ]
    }
   ],
   "source": [
    "res_w_overlapping = res_plt[res_plt['signatures'] == 'Original signatures'].copy()\n",
    "scale_imbalance_pivot = get_scale_imbalance(res_w_overlapping)\n",
    "\n",
    "fig = plot_scatter(res_w_overlapping, scale_imbalance_pivot)\n",
    "save_close_or_show(fig, SAVE, res_root / f'metrics_{sc_methods}_orig_sigs.pdf')\n"
   ],
   "metadata": {
    "collapsed": false,
    "ExecuteTime": {
     "end_time": "2024-08-15T06:13:29.239577Z",
     "start_time": "2024-08-15T06:13:28.549837Z"
    }
   },
   "id": "f394e7f355c7a8f6",
   "execution_count": 191
  },
  {
   "cell_type": "markdown",
   "source": [
    "### Non-overlapping gene signatures"
   ],
   "metadata": {
    "collapsed": false
   },
   "id": "b5b7c4795184c93b"
  },
  {
   "cell_type": "code",
   "outputs": [
    {
     "name": "stdout",
     "output_type": "stream",
     "text": [
      "Saved figure at /Users/lciernik/Documents/TUB/projects/ans_scoring/results/metrics_all_wo_overlap_sigs.pdf.\n"
     ]
    }
   ],
   "source": [
    "res_wo_overlapping = res_plt[res_plt['signatures'] == 'Signatures without overlapping genes'].copy()\n",
    "scale_imbalance_pivot = get_scale_imbalance(res_wo_overlapping)\n",
    "fig = plot_scatter(res_wo_overlapping, scale_imbalance_pivot)\n",
    "\n",
    "save_close_or_show(fig, SAVE, res_root / f'metrics_{sc_methods}_wo_overlap_sigs.pdf')"
   ],
   "metadata": {
    "collapsed": false,
    "ExecuteTime": {
     "end_time": "2024-08-15T06:13:29.697201Z",
     "start_time": "2024-08-15T06:13:29.240386Z"
    }
   },
   "id": "75c93c3d755d4a43",
   "execution_count": 192
  },
  {
   "cell_type": "code",
   "outputs": [],
   "source": [
    "# fig = plt.figure(\n",
    "#     figsize=(8, 6)\n",
    "# )\n",
    "# g= sns.boxplot(\n",
    "#     res_wo_overlapping,\n",
    "#     x='Scoring method',\n",
    "#     y='Score imbalance',\n",
    "#     hue='tissue_type',\n",
    "#     order=style_order,\n",
    "# )\n",
    "# g.set_ylabel('Score imbalance (logreg - balanced accuracy)');\n",
    "# plt.xticks(rotation=45);\n",
    "# g.get_legend().set_title(\"\")\n",
    "# plt.tight_layout()"
   ],
   "metadata": {
    "collapsed": false,
    "ExecuteTime": {
     "end_time": "2024-08-15T06:13:29.699718Z",
     "start_time": "2024-08-15T06:13:29.697953Z"
    }
   },
   "id": "c9c70d4b25898c06",
   "execution_count": 193
  }
 ],
 "metadata": {
  "kernelspec": {
   "display_name": "Python 3",
   "language": "python",
   "name": "python3"
  },
  "language_info": {
   "codemirror_mode": {
    "name": "ipython",
    "version": 2
   },
   "file_extension": ".py",
   "mimetype": "text/x-python",
   "name": "python",
   "nbconvert_exporter": "python",
   "pygments_lexer": "ipython2",
   "version": "2.7.6"
  }
 },
 "nbformat": 4,
 "nbformat_minor": 5
}
