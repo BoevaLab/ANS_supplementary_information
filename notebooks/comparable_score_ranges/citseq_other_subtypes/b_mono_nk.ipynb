{
 "cells": [
  {
   "cell_type": "code",
   "id": "initial_id",
   "metadata": {
    "collapsed": true,
    "ExecuteTime": {
     "end_time": "2024-11-27T14:41:05.769063Z",
     "start_time": "2024-11-27T14:41:03.312716Z"
    }
   },
   "source": [
    "import sys\n",
    "import warnings\n",
    "from collections import defaultdict\n",
    "from pathlib import Path\n",
    "\n",
    "import matplotlib.pyplot as plt\n",
    "import numpy as np\n",
    "import pandas as pd\n",
    "\n",
    "from pbmc_helper import load_dex_genes\n",
    "\n",
    "sys.path.append('..')\n",
    "sys.path.append('/Users/lciernik/Documents/TUB/projects/ans_scoring/ANS_supplementary_information')\n",
    "from data.load_data import load_datasets\n",
    "\n",
    "from score_with_all_methods import (\n",
    "    score_signatures_with_all_methods,\n",
    "    label_assignment_from_scores,\n",
    "    get_lbl_assignment_performance,\n",
    "    get_information_from_scores,\n",
    "    remove_overlapping_signature_genes,\n",
    "    get_violin_all_methods,\n",
    "    prepare_data_for_violin_plot,\n",
    "    save_close_or_show,\n",
    "    plot_confusion_matrix\n",
    ")\n",
    "\n",
    "warnings.simplefilter(action='ignore', category=FutureWarning)\n",
    "\n",
    "plt.rcParams.update({'pdf.fonttype': 42, 'font.family': 'sans-serif', 'font.sans-serif': 'Arial', 'font.size': 10})"
   ],
   "outputs": [],
   "execution_count": 1
  },
  {
   "cell_type": "markdown",
   "source": [
    "Storing information and global variables"
   ],
   "metadata": {
    "collapsed": false
   },
   "id": "6e097e3b0c8aa2f2"
  },
  {
   "cell_type": "code",
   "source": [
    "remove_overlapping_genes = True\n",
    "\n",
    "SAVE = False\n",
    "storing_path = Path('/Users/lciernik/Documents/TUB/projects/ans_scoring/results/citeseq/b_mono_nk')\n",
    "\n",
    "if remove_overlapping_genes:\n",
    "    storing_path = storing_path / 'signatures_without_overlapping'\n",
    "else:\n",
    "    storing_path = storing_path / 'signatures_with_overlapping'\n",
    "\n",
    "if SAVE:\n",
    "    storing_path.mkdir(parents=True, exist_ok=True)"
   ],
   "metadata": {
    "collapsed": false,
    "ExecuteTime": {
     "end_time": "2024-11-27T14:41:05.798500Z",
     "start_time": "2024-11-27T14:41:05.786777Z"
    }
   },
   "id": "c78d7ae49d8d2142",
   "outputs": [],
   "execution_count": 2
  },
  {
   "cell_type": "markdown",
   "source": [
    "Loading data"
   ],
   "metadata": {
    "collapsed": false
   },
   "id": "2c8d1890d0577e9"
  },
  {
   "cell_type": "code",
   "source": [
    "adata = load_datasets('pbmc_b_mono_nk')\n",
    "adata"
   ],
   "metadata": {
    "collapsed": false,
    "ExecuteTime": {
     "end_time": "2024-11-27T14:41:07.275632Z",
     "start_time": "2024-11-27T14:41:05.957149Z"
    }
   },
   "id": "ec2633b219a43f2d",
   "outputs": [
    {
     "data": {
      "text/plain": [
       "AnnData object with n_obs × n_vars = 68574 × 12127\n",
       "    obs: 'nCount_ADT', 'nFeature_ADT', 'nCount_RNA', 'nFeature_RNA', 'orig.ident', 'lane', 'donor', 'time', 'celltype.l1', 'celltype.l2', 'celltype.l3', 'Phase', 'nCount_SCT', 'nFeature_SCT', 'n_genes_by_counts', 'log1p_n_genes_by_counts', 'total_counts', 'log1p_total_counts', 'pct_counts_in_top_20_genes', 'total_counts_mt', 'log1p_total_counts_mt', 'pct_counts_mt', 'total_counts_ribo', 'log1p_total_counts_ribo', 'pct_counts_ribo', 'total_counts_hb', 'log1p_total_counts_hb', 'pct_counts_hb', 'outlier', 'mt_outlier'\n",
       "    var: 'gene_names', 'mt', 'ribo', 'hb', 'n_cells_by_counts', 'mean_counts', 'log1p_mean_counts', 'pct_dropout_by_counts', 'total_counts', 'log1p_total_counts'\n",
       "    uns: 'log1p'\n",
       "    obsm: 'X_apca', 'X_aumap', 'X_pca', 'X_spca', 'X_umap', 'X_wnn.umap'\n",
       "    layers: 'counts'"
      ]
     },
     "execution_count": 3,
     "metadata": {},
     "output_type": "execute_result"
    }
   ],
   "execution_count": 3
  },
  {
   "cell_type": "code",
   "source": [
    "y_true_col = 'celltype.l1'\n",
    "sample_col = 'orig.ident'"
   ],
   "metadata": {
    "collapsed": false,
    "ExecuteTime": {
     "end_time": "2024-11-27T14:41:07.293422Z",
     "start_time": "2024-11-27T14:41:07.290809Z"
    }
   },
   "id": "c09438321bf62425",
   "outputs": [],
   "execution_count": 4
  },
  {
   "cell_type": "code",
   "source": [
    "adata.obs[y_true_col].value_counts().sort_index()"
   ],
   "metadata": {
    "collapsed": false,
    "ExecuteTime": {
     "end_time": "2024-11-27T14:41:07.309790Z",
     "start_time": "2024-11-27T14:41:07.303492Z"
    }
   },
   "id": "58bb2464ee28ddc8",
   "outputs": [
    {
     "data": {
      "text/plain": [
       "B       10613\n",
       "Mono    43553\n",
       "NK      14408\n",
       "Name: celltype.l1, dtype: int64"
      ]
     },
     "execution_count": 5,
     "metadata": {},
     "output_type": "execute_result"
    }
   ],
   "execution_count": 5
  },
  {
   "cell_type": "markdown",
   "source": [
    "Computing dimensionality reduction"
   ],
   "metadata": {
    "collapsed": false
   },
   "id": "c0ca21e19af3a30f"
  },
  {
   "cell_type": "code",
   "source": [
    "# sc.tl.pca(adata)\n",
    "# sc.pp.neighbors(adata)\n",
    "# sc.tl.umap(adata)"
   ],
   "metadata": {
    "collapsed": false,
    "ExecuteTime": {
     "end_time": "2024-11-27T14:41:07.351047Z",
     "start_time": "2024-11-27T14:41:07.348878Z"
    }
   },
   "id": "157e95dd568f42cb",
   "outputs": [],
   "execution_count": 6
  },
  {
   "cell_type": "markdown",
   "source": [
    "Load signatures"
   ],
   "metadata": {
    "collapsed": false
   },
   "id": "1e710ba29559199f"
  },
  {
   "cell_type": "code",
   "source": [
    "DE_of_celltypes = load_dex_genes(filter_genes=True, threshold_pval=0.01, threshold_log2fc=0.5)"
   ],
   "metadata": {
    "collapsed": false,
    "ExecuteTime": {
     "end_time": "2024-11-27T14:41:07.400854Z",
     "start_time": "2024-11-27T14:41:07.389777Z"
    }
   },
   "id": "7d50ab90e90daf85",
   "outputs": [
    {
     "name": "stdout",
     "output_type": "stream",
     "text": [
      "Shape DEX genes BEFORE filtering (11811, 4)\n",
      "Shape DEX genes AFTER filtering (6288, 4)\n"
     ]
    }
   ],
   "execution_count": 7
  },
  {
   "cell_type": "code",
   "source": [
    "subtypes_per_cell_type = adata.obs.groupby('celltype.l1')['celltype.l3'].apply(lambda x: list(x.unique()))"
   ],
   "metadata": {
    "collapsed": false,
    "ExecuteTime": {
     "end_time": "2024-11-27T14:41:07.474644Z",
     "start_time": "2024-11-27T14:41:07.469175Z"
    }
   },
   "id": "7f84162a3ca97a88",
   "outputs": [],
   "execution_count": 8
  },
  {
   "metadata": {
    "ExecuteTime": {
     "end_time": "2024-11-27T14:41:07.498843Z",
     "start_time": "2024-11-27T14:41:07.495778Z"
    }
   },
   "cell_type": "code",
   "source": "subtypes_per_cell_type.to_dict()",
   "id": "2410339d5c1338d",
   "outputs": [
    {
     "data": {
      "text/plain": [
       "{'B': ['B naive kappa',\n",
       "  'B memory kappa',\n",
       "  'B naive lambda',\n",
       "  'B memory lambda',\n",
       "  'B intermediate kappa',\n",
       "  'B intermediate lambda',\n",
       "  'Plasma',\n",
       "  'Plasmablast'],\n",
       " 'Mono': ['CD14 Mono', 'CD16 Mono'],\n",
       " 'NK': ['NK_2', 'NK_4', 'NK_1', 'NK_3', 'NK_CD56bright', 'NK Proliferating']}"
      ]
     },
     "execution_count": 9,
     "metadata": {},
     "output_type": "execute_result"
    }
   ],
   "execution_count": 9
  },
  {
   "cell_type": "code",
   "outputs": [],
   "source": [
    "signatures = {}\n",
    "for row in subtypes_per_cell_type.items():\n",
    "    cell_type, subtypes = row\n",
    "    signatures[cell_type] = sorted(\n",
    "        list(set(DE_of_celltypes[DE_of_celltypes['Cell Type'].isin(subtypes)]['Gene'].tolist())))"
   ],
   "metadata": {
    "collapsed": false,
    "ExecuteTime": {
     "end_time": "2024-08-15T06:12:35.370342Z",
     "start_time": "2024-08-15T06:12:35.367074Z"
    }
   },
   "id": "e72c33ce290db68f",
   "execution_count": 9
  },
  {
   "cell_type": "code",
   "outputs": [
    {
     "name": "stdout",
     "output_type": "stream",
     "text": [
      "Removed {'HSP90AA1', 'CARHSP1', 'HLA-DRB5', 'NUCKS1', 'RRM1', 'BLOC1S1', 'SSRP1', 'CENPE', 'CKS1B', 'H2AFV', 'HLA-DMA', 'STK17A', 'CX3CR1', 'RAP1B', 'CXXC5', 'TSC22D3', 'LSM3', 'CBX5', 'LAPTM5', 'MZT2B', 'COX8A', 'MCM7', 'PCNA', 'RAN', 'TPM3', 'HMGB1', 'TK1', 'SNRNP25', 'LY6E', 'HIST1H1B', 'PARK7', 'RHOC', 'TUBB', 'ATP6V0B', 'SNRPB', 'RHOQ', 'MTPN', 'CENPM', 'HIST1H1D', 'HLA-DRA', 'TOP2A', 'PLEK', 'PDIA3', 'C12orf75', 'SRSF2', 'GSTP1', 'RNASEH2C', 'SEC11A', 'FCER1G', 'CYBA', 'MCM4', 'MCM3', 'HMGN1', 'HIST1H4C', 'ANXA2', 'UTRN', 'FCGR3A', 'IDH2', 'SLC25A5', 'ARPC2', 'HNRNPA3', 'HMGN3', 'STMN1', 'BIRC5', 'PSME2', 'SMC2', 'MAD2L1', 'SIVA1', 'LDHA', 'PSMA4', 'PHF19', 'PARP1', 'PLAC8', 'ATP1B3', 'H2AFZ', 'LCP1', 'CD74', 'CLIC1', 'PRKDC', 'SRSF10', 'SPN', 'ALYREF', 'DBI', 'HLA-DPA1', 'SERBP1', 'GAPDH', 'CHCHD2', 'ACTB', 'TYMS', 'NUSAP1', 'CD63', 'PSMD8', 'EBP', 'NOP56', 'RRM2', 'POU2F2', 'COX5A', 'SRSF3', 'SMAP2', 'GMNN', 'IFITM2', 'ANP32B', 'SERP1', 'RBX1', 'UBE2S', 'DUT', 'MSN', 'CLSPN', 'SMC4', 'HNRNPD', 'HLA-DQB1', 'CFL1', 'SNX2', 'LMNB1', 'NCF1', 'ENO1', 'PCLAF', 'YBX1', 'CD38', 'PSMA7', 'EZH2', 'PRDM1', 'CENPU', 'EFHD2', 'XRCC5', 'PPM1G', 'NUCB2', 'JPT1', 'HMGB2', 'HIST1H1C', 'PSMB9', 'CALR', 'CTSH', 'H2AFX', 'HELLS', 'NCL', 'TPX2', 'TPI1', 'PTTG1', 'TUBA1B', 'TMPO', 'PTPRC', 'PTMA', 'GINS2', 'TUBB4B', 'DDX39A', 'LBR', 'PRELID1', 'ZNF706', 'HLA-DRB1', 'ZWINT', 'SNRPF', 'COX7B', 'YBX3', 'ATP5F1B', 'CENPF', 'KIF20B', 'SUZ12', 'FEN1', 'MKI67', 'CTSC', 'KNL1', 'ITGAL', 'FDPS', 'DNAJC9', 'RANBP1', 'CBX3', 'SEC14L1', 'COX6C', 'CACYBP', 'ITGB2', 'CKS2', 'DTYMK', 'SET', 'CCDC167', 'HLA-DMB', 'PPIA', 'MCM5', 'CHCHD10', '1-Mar', 'ASPM', 'ATAD5', 'RAD21', 'HLA-DPB1', 'HNRNPAB', 'USP1', 'HLA-DQA1', 'SNRPD3', 'ATAD2', 'SNRPD1', 'PDIA6', 'PSMB8', 'PFN1', 'HNRNPR', 'APOBEC3G', 'CD79B', 'NASP', 'HMGN2', 'NDUFB7', 'CD300A', 'REL', 'MEF2C', 'ITGB1', 'RPA3', 'MT2A', 'ANP32E'} overlapping genes.\n",
      "Signature B length: before=599, after=422\n",
      "Signature Mono length: before=512, after=436\n",
      "Signature NK length: before=366, after=195\n"
     ]
    }
   ],
   "source": [
    "if remove_overlapping_genes:\n",
    "    signatures = remove_overlapping_signature_genes(signatures)"
   ],
   "metadata": {
    "collapsed": false,
    "ExecuteTime": {
     "end_time": "2024-08-15T06:12:35.372874Z",
     "start_time": "2024-08-15T06:12:35.370909Z"
    }
   },
   "id": "5d70ca32c4133534",
   "execution_count": 10
  },
  {
   "cell_type": "code",
   "outputs": [],
   "source": [
    "order_signatures = ['B', 'Mono', 'NK']"
   ],
   "metadata": {
    "collapsed": false,
    "ExecuteTime": {
     "end_time": "2024-08-15T06:12:35.375382Z",
     "start_time": "2024-08-15T06:12:35.373753Z"
    }
   },
   "id": "e154377df31f3a26",
   "execution_count": 11
  },
  {
   "cell_type": "markdown",
   "source": [
    "Scoring signatures"
   ],
   "metadata": {
    "collapsed": false
   },
   "id": "e146dba28a13095a"
  },
  {
   "cell_type": "code",
   "outputs": [
    {
     "name": "stdout",
     "output_type": "stream",
     "text": [
      "Scoring B with adjusted_neighborhood_scoring\n",
      "WARNING: genes are not in var_names and ignored: ['BUB1', 'CCNB2', 'CDK1', 'DLGAP5', 'GTSE1', 'HIST1H3B', 'HIST1H3G', 'HMMR', 'UBE2C']\n",
      "Scoring B with seurat_scoring\n",
      "WARNING: genes are not in var_names and ignored: ['BUB1', 'CCNB2', 'CDK1', 'DLGAP5', 'GTSE1', 'HIST1H3B', 'HIST1H3G', 'HMMR', 'UBE2C']\n",
      "Scoring B with seurat_ag_scoring\n",
      "WARNING: genes are not in var_names and ignored: ['BUB1', 'CCNB2', 'CDK1', 'DLGAP5', 'GTSE1', 'HIST1H3B', 'HIST1H3G', 'HMMR', 'UBE2C']\n",
      "Scoring B with seurat_lvg_scoring\n",
      "WARNING: genes are not in var_names and ignored: ['BUB1', 'CCNB2', 'CDK1', 'DLGAP5', 'GTSE1', 'HIST1H3B', 'HIST1H3G', 'HMMR', 'UBE2C']\n",
      "Scoring B with scanpy_scoring\n",
      "WARNING: genes are not in var_names and ignored: ['HIST1H3B', 'HMMR', 'BUB1', 'UBE2C', 'DLGAP5', 'CDK1', 'GTSE1', 'HIST1H3G', 'CCNB2']\n",
      "Scoring B with jasmine_scoring\n",
      "WARNING: genes are not in var_names and ignored: ['BUB1', 'CCNB2', 'CDK1', 'DLGAP5', 'GTSE1', 'HIST1H3B', 'HIST1H3G', 'HMMR', 'UBE2C']\n",
      "Scoring B with jasmine_scoring\n",
      "WARNING: genes are not in var_names and ignored: ['BUB1', 'CCNB2', 'CDK1', 'DLGAP5', 'GTSE1', 'HIST1H3B', 'HIST1H3G', 'HMMR', 'UBE2C']\n",
      "Scoring B with ucell_scoring\n",
      "WARNING: genes are not in var_names and ignored: ['BUB1', 'CCNB2', 'CDK1', 'DLGAP5', 'GTSE1', 'HIST1H3B', 'HIST1H3G', 'HMMR', 'UBE2C']\n",
      "Scoring Mono with adjusted_neighborhood_scoring\n",
      "Scoring Mono with seurat_scoring\n",
      "Scoring Mono with seurat_ag_scoring\n",
      "Scoring Mono with seurat_lvg_scoring\n",
      "Scoring Mono with scanpy_scoring\n",
      "Scoring Mono with jasmine_scoring\n",
      "Scoring Mono with jasmine_scoring\n",
      "Scoring Mono with ucell_scoring\n",
      "Scoring NK with adjusted_neighborhood_scoring\n",
      "WARNING: genes are not in var_names and ignored: ['7-Sep', 'CDT1']\n",
      "Scoring NK with seurat_scoring\n",
      "WARNING: genes are not in var_names and ignored: ['7-Sep', 'CDT1']\n",
      "Scoring NK with seurat_ag_scoring\n",
      "WARNING: genes are not in var_names and ignored: ['7-Sep', 'CDT1']\n",
      "Scoring NK with seurat_lvg_scoring\n",
      "WARNING: genes are not in var_names and ignored: ['7-Sep', 'CDT1']\n",
      "Scoring NK with scanpy_scoring\n",
      "WARNING: genes are not in var_names and ignored: ['7-Sep', 'CDT1']\n",
      "Scoring NK with jasmine_scoring\n",
      "WARNING: genes are not in var_names and ignored: ['7-Sep', 'CDT1']\n",
      "Scoring NK with jasmine_scoring\n",
      "WARNING: genes are not in var_names and ignored: ['7-Sep', 'CDT1']\n",
      "Scoring NK with ucell_scoring\n",
      "WARNING: genes are not in var_names and ignored: ['7-Sep', 'CDT1']\n"
     ]
    }
   ],
   "source": [
    "score_cols, adata = score_signatures_with_all_methods(adata, signatures, verbose=True)"
   ],
   "metadata": {
    "collapsed": false,
    "ExecuteTime": {
     "end_time": "2024-08-15T06:15:38.682343Z",
     "start_time": "2024-08-15T06:12:35.376177Z"
    }
   },
   "id": "389d832f113ff868",
   "execution_count": 12
  },
  {
   "cell_type": "markdown",
   "source": [
    "Label assignment"
   ],
   "metadata": {
    "collapsed": false
   },
   "id": "385b1e0b61d26a4a"
  },
  {
   "cell_type": "code",
   "outputs": [],
   "source": [
    "all_cols = []\n",
    "label_cols = {}\n",
    "for method_name, method_scores in score_cols.items():\n",
    "    adata, new_lbl_col = label_assignment_from_scores(adata, method_name, method_scores, include_undefined=False)\n",
    "    label_cols[method_name] = new_lbl_col\n",
    "    all_cols += method_scores + [new_lbl_col]"
   ],
   "metadata": {
    "collapsed": false,
    "ExecuteTime": {
     "end_time": "2024-08-15T06:15:39.042441Z",
     "start_time": "2024-08-15T06:15:38.683078Z"
    }
   },
   "id": "bf2f780fc4a59ad5",
   "execution_count": 13
  },
  {
   "cell_type": "markdown",
   "source": [
    "Visualizing results"
   ],
   "metadata": {
    "collapsed": false
   },
   "id": "aff662eaa7657930"
  },
  {
   "cell_type": "code",
   "outputs": [],
   "source": [
    "# fig = sc.pl.umap(adata, color=all_cols + [sample_col, y_true_col, 'celltype.l2', 'celltype.l3'],\n",
    "#                  ncols=len(signatures) + 1, return_fig=True)\n",
    "# save_close_or_show(fig, SAVE, storing_path / 'umap.pdf')"
   ],
   "metadata": {
    "collapsed": false,
    "ExecuteTime": {
     "end_time": "2024-08-15T06:15:39.046725Z",
     "start_time": "2024-08-15T06:15:39.044985Z"
    }
   },
   "id": "7d20a48c26c0bd38",
   "execution_count": 14
  },
  {
   "cell_type": "code",
   "outputs": [],
   "source": [
    "df_melted = prepare_data_for_violin_plot(adata, y_true_col, score_cols)"
   ],
   "metadata": {
    "collapsed": false,
    "ExecuteTime": {
     "end_time": "2024-08-15T06:15:39.142267Z",
     "start_time": "2024-08-15T06:15:39.047545Z"
    }
   },
   "id": "7c81303c47c3045c",
   "execution_count": 15
  },
  {
   "cell_type": "code",
   "outputs": [
    {
     "name": "stdout",
     "output_type": "stream",
     "text": [
      "Saved figure at /Users/lciernik/Documents/TUB/projects/ans_scoring/results/citeseq/b_mono_nk/signatures_without_overlapping/violin_all_methods.pdf.\n"
     ]
    }
   ],
   "source": [
    "fig = get_violin_all_methods(df_melted, y_true_col, hue_order=order_signatures, textwrap_width=7, height=1.8, aspect=1, sharey=True)\n",
    "save_close_or_show(fig, SAVE, storing_path/\"violin_all_methods.pdf\")"
   ],
   "metadata": {
    "collapsed": false,
    "ExecuteTime": {
     "end_time": "2024-08-15T06:45:06.476559Z",
     "start_time": "2024-08-15T06:45:02.522289Z"
    }
   },
   "id": "be5e8daf5c5a9894",
   "execution_count": 26
  },
  {
   "cell_type": "code",
   "outputs": [],
   "source": [
    "# for method_name, method_scores in score_cols.items():\n",
    "#     df = adata.obs.loc[:, method_scores + [y_true_col]]\n",
    "#     fig = get_violin(df, method_scores, y_true_col)\n",
    "#     plt.title(f\"{method_name}\")\n",
    "#     save_close_or_show(fig, SAVE, storing_path / f'violin_{method_name}.pdf')"
   ],
   "metadata": {
    "collapsed": false,
    "ExecuteTime": {
     "end_time": "2024-08-15T06:15:44.915865Z",
     "start_time": "2024-08-15T06:15:44.913873Z"
    }
   },
   "id": "6819f7e2c390a2a8",
   "execution_count": 17
  },
  {
   "cell_type": "markdown",
   "source": [
    "Computing label assignment performance"
   ],
   "metadata": {
    "collapsed": false
   },
   "id": "598e8d0b23a2b3d"
  },
  {
   "cell_type": "code",
   "outputs": [
    {
     "name": "stdout",
     "output_type": "stream",
     "text": [
      "Saved figure at /Users/lciernik/Documents/TUB/projects/ans_scoring/results/citeseq/b_mono_nk/signatures_without_overlapping/conf_mat_ANS.pdf.\n",
      "Saved figure at /Users/lciernik/Documents/TUB/projects/ans_scoring/results/citeseq/b_mono_nk/signatures_without_overlapping/conf_mat_Seurat.pdf.\n",
      "Saved figure at /Users/lciernik/Documents/TUB/projects/ans_scoring/results/citeseq/b_mono_nk/signatures_without_overlapping/conf_mat_Seurat_AG.pdf.\n",
      "Saved figure at /Users/lciernik/Documents/TUB/projects/ans_scoring/results/citeseq/b_mono_nk/signatures_without_overlapping/conf_mat_Seurat_LVG.pdf.\n",
      "Saved figure at /Users/lciernik/Documents/TUB/projects/ans_scoring/results/citeseq/b_mono_nk/signatures_without_overlapping/conf_mat_Scanpy.pdf.\n",
      "Saved figure at /Users/lciernik/Documents/TUB/projects/ans_scoring/results/citeseq/b_mono_nk/signatures_without_overlapping/conf_mat_Jasmine_LH.pdf.\n",
      "Saved figure at /Users/lciernik/Documents/TUB/projects/ans_scoring/results/citeseq/b_mono_nk/signatures_without_overlapping/conf_mat_Jasmine_OR.pdf.\n",
      "Saved figure at /Users/lciernik/Documents/TUB/projects/ans_scoring/results/citeseq/b_mono_nk/signatures_without_overlapping/conf_mat_UCell.pdf.\n"
     ]
    }
   ],
   "source": [
    "metrics = defaultdict(dict)\n",
    "nfold = 10\n",
    "\n",
    "for method_name, method_scores in score_cols.items():\n",
    "    lbl_col = label_cols[method_name]\n",
    "    conf_mat, bal_acc, f1_val = get_lbl_assignment_performance(adata,\n",
    "                                                                    y_true_col=y_true_col,\n",
    "                                                                    y_pred_col=lbl_col,\n",
    "                                                                    label_names=order_signatures)\n",
    "\n",
    "    scores = get_information_from_scores(adata, y_true_col=y_true_col, scores=method_scores, nfold=nfold)\n",
    "\n",
    "    metrics[method_name] = {\n",
    "        'conf_mat': conf_mat,\n",
    "        'balanced_accuracy': bal_acc,\n",
    "        'f1_score': f1_val,\n",
    "        f'logreg_balanced_accuracy_{nfold}cv': np.mean(scores),\n",
    "        f'logreg_balanced_accuracy_{nfold}cv_std': np.std(scores)\n",
    "    }\n",
    "    fig = plot_confusion_matrix(conf_mat, order_signatures, method_name, figsize=(2.5, 2.5), textwrap_width=7,\n",
    "                                xrotation=45, cbar=False)\n",
    "    save_close_or_show(fig, SAVE, storing_path / f'conf_mat_{method_name}.pdf')"
   ],
   "metadata": {
    "collapsed": false,
    "ExecuteTime": {
     "end_time": "2024-08-15T06:16:28.049405Z",
     "start_time": "2024-08-15T06:15:44.916564Z"
    }
   },
   "id": "5041a5e3c9dbc5cb",
   "execution_count": 18
  },
  {
   "cell_type": "code",
   "outputs": [],
   "source": [
    "metrics_df = pd.DataFrame(metrics)"
   ],
   "metadata": {
    "collapsed": false,
    "ExecuteTime": {
     "end_time": "2024-08-15T06:16:28.057349Z",
     "start_time": "2024-08-15T06:16:28.052266Z"
    }
   },
   "id": "da940b899e4c9347",
   "execution_count": 19
  },
  {
   "cell_type": "markdown",
   "source": [
    "Saving performance metrics"
   ],
   "metadata": {
    "collapsed": false
   },
   "id": "2779d1e90681e900"
  },
  {
   "cell_type": "code",
   "outputs": [
    {
     "name": "stdout",
     "output_type": "stream",
     "text": [
      "Saved metrics to /Users/lciernik/Documents/TUB/projects/ans_scoring/results/citeseq/b_mono_nk/signatures_without_overlapping/metrics.csv.\n"
     ]
    }
   ],
   "source": [
    "if SAVE:\n",
    "    metrics_df.to_csv(storing_path / 'metrics.csv')\n",
    "    print(f\"Saved metrics to {storing_path / 'metrics.csv'}.\")"
   ],
   "metadata": {
    "collapsed": false,
    "ExecuteTime": {
     "end_time": "2024-08-15T06:16:28.067098Z",
     "start_time": "2024-08-15T06:16:28.060438Z"
    }
   },
   "id": "227e3372b50d0212",
   "execution_count": 20
  }
 ],
 "metadata": {
  "kernelspec": {
   "display_name": "Python 3",
   "language": "python",
   "name": "python3"
  },
  "language_info": {
   "codemirror_mode": {
    "name": "ipython",
    "version": 2
   },
   "file_extension": ".py",
   "mimetype": "text/x-python",
   "name": "python",
   "nbconvert_exporter": "python",
   "pygments_lexer": "ipython2",
   "version": "2.7.6"
  }
 },
 "nbformat": 4,
 "nbformat_minor": 5
}
