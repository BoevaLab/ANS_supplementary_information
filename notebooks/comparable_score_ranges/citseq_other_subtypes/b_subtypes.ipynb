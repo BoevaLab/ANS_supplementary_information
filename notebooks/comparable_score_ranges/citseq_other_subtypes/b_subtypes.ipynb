{
 "cells": [
  {
   "cell_type": "code",
   "id": "initial_id",
   "metadata": {
    "collapsed": true,
    "ExecuteTime": {
     "end_time": "2024-11-27T14:38:50.420014Z",
     "start_time": "2024-11-27T14:38:47.772483Z"
    }
   },
   "source": [
    "import sys\n",
    "import warnings\n",
    "from collections import defaultdict\n",
    "from pathlib import Path\n",
    "\n",
    "import matplotlib.pyplot as plt\n",
    "import numpy as np\n",
    "import pandas as pd\n",
    "\n",
    "from pbmc_helper import load_dex_genes\n",
    "\n",
    "sys.path.append('..')\n",
    "sys.path.append('/Users/lciernik/Documents/TUB/projects/ans_scoring/ANS_supplementary_information')\n",
    "from data.load_data import load_datasets\n",
    "\n",
    "from score_with_all_methods import (\n",
    "    score_signatures_with_all_methods,\n",
    "    label_assignment_from_scores,\n",
    "    get_lbl_assignment_performance,\n",
    "    get_information_from_scores,\n",
    "    remove_overlapping_signature_genes,\n",
    "    get_violin_all_methods,\n",
    "    prepare_data_for_violin_plot,\n",
    "    save_close_or_show,\n",
    "    plot_confusion_matrix\n",
    ")\n",
    "\n",
    "warnings.simplefilter(action='ignore', category=FutureWarning)\n",
    "plt.rcParams.update({'pdf.fonttype': 42, 'font.family': 'sans-serif', 'font.sans-serif': 'Arial', 'font.size': 10})"
   ],
   "outputs": [],
   "execution_count": 1
  },
  {
   "cell_type": "markdown",
   "source": [
    "Storing information and global variables"
   ],
   "metadata": {
    "collapsed": false
   },
   "id": "6e097e3b0c8aa2f2"
  },
  {
   "cell_type": "code",
   "source": [
    "remove_overlapping_genes = True\n",
    "\n",
    "SAVE = False\n",
    "storing_path = Path('/Users/lciernik/Documents/TUB/projects/ans_scoring/results/citeseq/b_subtypes')\n",
    "\n",
    "if remove_overlapping_genes:\n",
    "    storing_path = storing_path / 'signatures_without_overlapping'\n",
    "else:\n",
    "    storing_path = storing_path / 'signatures_with_overlapping'\n",
    "\n",
    "if SAVE:\n",
    "    storing_path.mkdir(parents=True, exist_ok=True)"
   ],
   "metadata": {
    "collapsed": false,
    "ExecuteTime": {
     "end_time": "2024-11-27T14:38:54.546968Z",
     "start_time": "2024-11-27T14:38:54.544172Z"
    }
   },
   "id": "c78d7ae49d8d2142",
   "outputs": [],
   "execution_count": 3
  },
  {
   "cell_type": "markdown",
   "source": [
    "Loading data"
   ],
   "metadata": {
    "collapsed": false
   },
   "id": "2c8d1890d0577e9"
  },
  {
   "cell_type": "code",
   "source": [
    "adata = load_datasets('pbmc_b_subtypes')\n",
    "adata"
   ],
   "metadata": {
    "collapsed": false,
    "ExecuteTime": {
     "end_time": "2024-11-27T14:39:01.069770Z",
     "start_time": "2024-11-27T14:39:00.873239Z"
    }
   },
   "id": "ec2633b219a43f2d",
   "outputs": [
    {
     "data": {
      "text/plain": [
       "AnnData object with n_obs × n_vars = 11329 × 11258\n",
       "    obs: 'nCount_ADT', 'nFeature_ADT', 'nCount_RNA', 'nFeature_RNA', 'orig.ident', 'lane', 'donor', 'time', 'celltype.l1', 'celltype.l2', 'celltype.l3', 'Phase', 'nCount_SCT', 'nFeature_SCT', 'n_genes_by_counts', 'log1p_n_genes_by_counts', 'total_counts', 'log1p_total_counts', 'pct_counts_in_top_20_genes', 'total_counts_mt', 'log1p_total_counts_mt', 'pct_counts_mt', 'total_counts_ribo', 'log1p_total_counts_ribo', 'pct_counts_ribo', 'total_counts_hb', 'log1p_total_counts_hb', 'pct_counts_hb', 'outlier', 'mt_outlier'\n",
       "    var: 'gene_names', 'mt', 'ribo', 'hb', 'n_cells_by_counts', 'mean_counts', 'log1p_mean_counts', 'pct_dropout_by_counts', 'total_counts', 'log1p_total_counts'\n",
       "    uns: 'log1p'\n",
       "    obsm: 'X_apca', 'X_aumap', 'X_pca', 'X_spca', 'X_umap', 'X_wnn.umap'\n",
       "    layers: 'counts'"
      ]
     },
     "execution_count": 4,
     "metadata": {},
     "output_type": "execute_result"
    }
   ],
   "execution_count": 4
  },
  {
   "cell_type": "code",
   "source": [
    "y_true_col = 'celltype.l2'\n",
    "sample_col = 'orig.ident'"
   ],
   "metadata": {
    "collapsed": false,
    "ExecuteTime": {
     "end_time": "2024-11-27T14:39:03.108715Z",
     "start_time": "2024-11-27T14:39:03.105822Z"
    }
   },
   "id": "c09438321bf62425",
   "outputs": [],
   "execution_count": 5
  },
  {
   "cell_type": "code",
   "source": [
    "adata.obs[y_true_col].value_counts().sort_index()"
   ],
   "metadata": {
    "collapsed": false,
    "ExecuteTime": {
     "end_time": "2024-11-27T14:39:03.542773Z",
     "start_time": "2024-11-27T14:39:03.537275Z"
    }
   },
   "id": "58bb2464ee28ddc8",
   "outputs": [
    {
     "data": {
      "text/plain": [
       "B intermediate    2033\n",
       "B memory          2893\n",
       "B naive           6403\n",
       "Name: celltype.l2, dtype: int64"
      ]
     },
     "execution_count": 6,
     "metadata": {},
     "output_type": "execute_result"
    }
   ],
   "execution_count": 6
  },
  {
   "cell_type": "markdown",
   "source": [
    "Computing dimensionality reduction"
   ],
   "metadata": {
    "collapsed": false
   },
   "id": "c0ca21e19af3a30f"
  },
  {
   "cell_type": "code",
   "source": [
    "# sc.tl.pca(adata)\n",
    "# sc.pp.neighbors(adata)\n",
    "# sc.tl.umap(adata)"
   ],
   "metadata": {
    "collapsed": false,
    "ExecuteTime": {
     "end_time": "2024-11-27T14:39:06.112596Z",
     "start_time": "2024-11-27T14:39:06.110462Z"
    }
   },
   "id": "157e95dd568f42cb",
   "outputs": [],
   "execution_count": 7
  },
  {
   "cell_type": "markdown",
   "source": [
    "Load signatures"
   ],
   "metadata": {
    "collapsed": false
   },
   "id": "1e710ba29559199f"
  },
  {
   "cell_type": "code",
   "source": [
    "DE_of_celltypes = load_dex_genes(filter_genes=True, threshold_pval=0.01, threshold_log2fc=0.5)"
   ],
   "metadata": {
    "collapsed": false,
    "ExecuteTime": {
     "end_time": "2024-11-27T14:39:07.410773Z",
     "start_time": "2024-11-27T14:39:07.398728Z"
    }
   },
   "id": "7d50ab90e90daf85",
   "outputs": [
    {
     "name": "stdout",
     "output_type": "stream",
     "text": [
      "Shape DEX genes BEFORE filtering (11811, 4)\n",
      "Shape DEX genes AFTER filtering (6288, 4)\n"
     ]
    }
   ],
   "execution_count": 8
  },
  {
   "cell_type": "code",
   "source": [
    "subtypes_per_cell_type = adata.obs.groupby('celltype.l2')['celltype.l3'].apply(lambda x: list(x.unique()))"
   ],
   "metadata": {
    "collapsed": false,
    "ExecuteTime": {
     "end_time": "2024-11-27T14:39:09.739007Z",
     "start_time": "2024-11-27T14:39:09.731383Z"
    }
   },
   "id": "7f84162a3ca97a88",
   "outputs": [],
   "execution_count": 9
  },
  {
   "metadata": {
    "ExecuteTime": {
     "end_time": "2024-11-27T14:39:19.623269Z",
     "start_time": "2024-11-27T14:39:19.618825Z"
    }
   },
   "cell_type": "code",
   "source": "subtypes_per_cell_type.to_dict()",
   "id": "cb1c989736a7a6d1",
   "outputs": [
    {
     "data": {
      "text/plain": [
       "{'B intermediate': ['B intermediate kappa', 'B intermediate lambda'],\n",
       " 'B memory': ['B memory kappa', 'B memory lambda'],\n",
       " 'B naive': ['B naive kappa', 'B naive lambda']}"
      ]
     },
     "execution_count": 11,
     "metadata": {},
     "output_type": "execute_result"
    }
   ],
   "execution_count": 11
  },
  {
   "cell_type": "code",
   "outputs": [],
   "source": [
    "signatures = {}\n",
    "for row in subtypes_per_cell_type.items():\n",
    "    cell_type, subtypes = row\n",
    "    signatures[cell_type] = sorted(\n",
    "        list(set(DE_of_celltypes[DE_of_celltypes['Cell Type'].isin(subtypes)]['Gene'].tolist())))"
   ],
   "metadata": {
    "collapsed": false,
    "ExecuteTime": {
     "end_time": "2024-08-15T06:06:27.173198Z",
     "start_time": "2024-08-15T06:06:27.169727Z"
    }
   },
   "id": "e72c33ce290db68f",
   "execution_count": 31
  },
  {
   "cell_type": "code",
   "outputs": [
    {
     "name": "stdout",
     "output_type": "stream",
     "text": [
      "B intermediate 90\n",
      "B memory 84\n",
      "B naive 95\n"
     ]
    }
   ],
   "source": [
    "for k, v in signatures.items():\n",
    "    print(k, len(v))"
   ],
   "metadata": {
    "collapsed": false,
    "ExecuteTime": {
     "end_time": "2024-08-15T06:06:27.175519Z",
     "start_time": "2024-08-15T06:06:27.173737Z"
    }
   },
   "id": "9e53020023d345d1",
   "execution_count": 32
  },
  {
   "cell_type": "code",
   "outputs": [
    {
     "name": "stdout",
     "output_type": "stream",
     "text": [
      "Removed {'AIM2', 'BIRC3', 'PAX5', 'IGKC', 'HLA-DMA', 'STX7', 'RPS11', 'BCL11A', 'HLA-DQA1', 'RPS27', 'FAM129C', 'CD74', 'HLA-DPB1', 'RALGPS2', 'POU2AF1', 'TNFRSF13C', 'IGLC2', 'HLA-DRA', 'CD79A', 'SNX2', 'AFF3', 'TNFRSF13B', 'IGHM', 'IRF8', 'TCF4', 'CXXC5', 'SP110', 'EEF1B2', 'CD52', 'RPS5', 'IKZF3', 'MBD4', 'MEF2C', 'BTG1', 'PRKCB', 'BLK', 'HLA-DRB5', 'CD82', 'RPL8', 'SWAP70', 'TSC22D3', 'COBLL1', 'EZR', 'RPL13A', 'LTB', 'VPREB3', 'CCDC50', 'CD79B', 'P2RX5', 'CD22', 'HLA-DQB1', 'CD37', 'HLA-DMB', 'MS4A1', 'LINC00926', 'IGLC3', 'SPIB', 'SP140', 'CD24', 'OSBPL10', 'CD40', 'SP100', 'FCMR', 'HLA-DRB1', 'JCHAIN', 'STRBP', 'RPSA', 'FCRL5', 'IGHD', 'ADAM28', 'HLA-DPA1', 'JUND', 'RPS18', 'BANK1', 'PDLIM1', '1-Mar', 'RPS23', 'TXNIP', 'CYB561A3'} overlapping genes.\n",
      "Signature B intermediate length: before=90, after=16\n",
      "Signature B memory length: before=84, after=19\n",
      "Signature B naive length: before=95, after=34\n"
     ]
    }
   ],
   "source": [
    "if remove_overlapping_genes:\n",
    "    signatures = remove_overlapping_signature_genes(signatures)"
   ],
   "metadata": {
    "collapsed": false,
    "ExecuteTime": {
     "end_time": "2024-08-15T06:06:27.177634Z",
     "start_time": "2024-08-15T06:06:27.176105Z"
    }
   },
   "id": "5d70ca32c4133534",
   "execution_count": 33
  },
  {
   "cell_type": "code",
   "outputs": [],
   "source": [
    "order_signatures = ['B naive', 'B intermediate', 'B memory']"
   ],
   "metadata": {
    "collapsed": false,
    "ExecuteTime": {
     "end_time": "2024-08-15T06:06:27.181167Z",
     "start_time": "2024-08-15T06:06:27.179525Z"
    }
   },
   "id": "c9913c95a013116f",
   "execution_count": 34
  },
  {
   "cell_type": "markdown",
   "source": [
    "Scoring signatures"
   ],
   "metadata": {
    "collapsed": false
   },
   "id": "e146dba28a13095a"
  },
  {
   "cell_type": "code",
   "outputs": [],
   "source": [
    "score_cols, adata = score_signatures_with_all_methods(adata, signatures)"
   ],
   "metadata": {
    "collapsed": false,
    "ExecuteTime": {
     "end_time": "2024-08-15T06:07:00.031295Z",
     "start_time": "2024-08-15T06:06:27.181663Z"
    }
   },
   "id": "389d832f113ff868",
   "execution_count": 35
  },
  {
   "cell_type": "markdown",
   "source": [
    "Label assignment"
   ],
   "metadata": {
    "collapsed": false
   },
   "id": "385b1e0b61d26a4a"
  },
  {
   "cell_type": "code",
   "outputs": [],
   "source": [
    "all_cols = []\n",
    "label_cols = {}\n",
    "for method_name, method_scores in score_cols.items():\n",
    "    adata, new_lbl_col = label_assignment_from_scores(adata, method_name, method_scores, include_undefined=False)\n",
    "    label_cols[method_name] = new_lbl_col\n",
    "    all_cols += method_scores + [new_lbl_col]"
   ],
   "metadata": {
    "collapsed": false,
    "ExecuteTime": {
     "end_time": "2024-08-15T06:07:00.110877Z",
     "start_time": "2024-08-15T06:07:00.032446Z"
    }
   },
   "id": "bf2f780fc4a59ad5",
   "execution_count": 36
  },
  {
   "cell_type": "markdown",
   "source": [
    "Visualizing results"
   ],
   "metadata": {
    "collapsed": false
   },
   "id": "aff662eaa7657930"
  },
  {
   "cell_type": "code",
   "outputs": [],
   "source": [
    "### UMAP\n",
    "# fig = sc.pl.umap(adata, color=all_cols + [sample_col, y_true_col, 'celltype.l1', 'celltype.l3'],\n",
    "#                  ncols=len(signatures) + 1, return_fig=True)\n",
    "# save_close_or_show(fig, SAVE, storing_path / 'umap.pdf')"
   ],
   "metadata": {
    "collapsed": false,
    "ExecuteTime": {
     "end_time": "2024-08-15T06:07:00.116401Z",
     "start_time": "2024-08-15T06:07:00.111693Z"
    }
   },
   "id": "7d20a48c26c0bd38",
   "execution_count": 37
  },
  {
   "cell_type": "code",
   "outputs": [],
   "source": [
    "df_melted = prepare_data_for_violin_plot(adata, y_true_col, score_cols)"
   ],
   "metadata": {
    "collapsed": false,
    "ExecuteTime": {
     "end_time": "2024-08-15T06:07:00.140111Z",
     "start_time": "2024-08-15T06:07:00.117615Z"
    }
   },
   "id": "c0b4eeb0d875b8a2",
   "execution_count": 38
  },
  {
   "cell_type": "code",
   "outputs": [
    {
     "data": {
      "text/plain": "array(['B intermediate', 'B memory', 'B naive'], dtype=object)"
     },
     "execution_count": 39,
     "metadata": {},
     "output_type": "execute_result"
    }
   ],
   "source": [
    "df_melted['Signature'].unique()"
   ],
   "metadata": {
    "collapsed": false,
    "ExecuteTime": {
     "end_time": "2024-08-15T06:07:00.149899Z",
     "start_time": "2024-08-15T06:07:00.140788Z"
    }
   },
   "id": "4d9404fd5fc6acd5",
   "execution_count": 39
  },
  {
   "cell_type": "code",
   "outputs": [
    {
     "name": "stdout",
     "output_type": "stream",
     "text": [
      "Saved figure at /Users/lciernik/Documents/TUB/projects/ans_scoring/results/citeseq/b_subtypes/signatures_without_overlapping/violin_all_methods.pdf.\n"
     ]
    }
   ],
   "source": [
    "### Combined violin plots\n",
    "fig = get_violin_all_methods(df_melted, y_true_col, hue_order=order_signatures, textwrap_width=7, height=1.8, aspect=0.975, sharey=True)\n",
    "save_close_or_show(fig, SAVE, storing_path / \"violin_all_methods.pdf\")"
   ],
   "metadata": {
    "collapsed": false,
    "ExecuteTime": {
     "end_time": "2024-08-15T06:48:30.921836Z",
     "start_time": "2024-08-15T06:48:29.308376Z"
    }
   },
   "id": "d43a03da2066a840",
   "execution_count": 51
  },
  {
   "cell_type": "code",
   "outputs": [],
   "source": [
    "### Single violin plots\n",
    "# for method_name, method_scores in score_cols.items():\n",
    "#     df = adata.obs.loc[:, method_scores + [y_true_col]]\n",
    "#     fig = get_violin(df, method_scores, y_true_col)\n",
    "#     plt.title(f\"{method_name}\")\n",
    "#     save_close_or_show(fig, SAVE, storing_path / f'violin_{method_name}.pdf')"
   ],
   "metadata": {
    "collapsed": false,
    "ExecuteTime": {
     "end_time": "2024-08-15T06:07:06.644674Z",
     "start_time": "2024-08-15T06:07:06.638026Z"
    }
   },
   "id": "6819f7e2c390a2a8",
   "execution_count": 41
  },
  {
   "cell_type": "markdown",
   "source": [
    "Computing label assignment performance"
   ],
   "metadata": {
    "collapsed": false
   },
   "id": "598e8d0b23a2b3d"
  },
  {
   "cell_type": "code",
   "outputs": [
    {
     "name": "stdout",
     "output_type": "stream",
     "text": [
      "Saved figure at /Users/lciernik/Documents/TUB/projects/ans_scoring/results/citeseq/b_subtypes/signatures_without_overlapping/conf_mat_ANS.pdf.\n",
      "Saved figure at /Users/lciernik/Documents/TUB/projects/ans_scoring/results/citeseq/b_subtypes/signatures_without_overlapping/conf_mat_Seurat.pdf.\n",
      "Saved figure at /Users/lciernik/Documents/TUB/projects/ans_scoring/results/citeseq/b_subtypes/signatures_without_overlapping/conf_mat_Seurat_AG.pdf.\n",
      "Saved figure at /Users/lciernik/Documents/TUB/projects/ans_scoring/results/citeseq/b_subtypes/signatures_without_overlapping/conf_mat_Seurat_LVG.pdf.\n",
      "Saved figure at /Users/lciernik/Documents/TUB/projects/ans_scoring/results/citeseq/b_subtypes/signatures_without_overlapping/conf_mat_Scanpy.pdf.\n",
      "Saved figure at /Users/lciernik/Documents/TUB/projects/ans_scoring/results/citeseq/b_subtypes/signatures_without_overlapping/conf_mat_Jasmine_LH.pdf.\n",
      "Saved figure at /Users/lciernik/Documents/TUB/projects/ans_scoring/results/citeseq/b_subtypes/signatures_without_overlapping/conf_mat_Jasmine_OR.pdf.\n",
      "Saved figure at /Users/lciernik/Documents/TUB/projects/ans_scoring/results/citeseq/b_subtypes/signatures_without_overlapping/conf_mat_UCell.pdf.\n"
     ]
    }
   ],
   "source": [
    "metrics = defaultdict(dict)\n",
    "nfold = 10\n",
    "overall_min = np.inf\n",
    "overall_max = -np.inf\n",
    "\n",
    "for method_name, method_scores in score_cols.items():\n",
    "    lbl_col = label_cols[method_name]\n",
    "    conf_mat, bal_acc, f1_val = get_lbl_assignment_performance(adata,\n",
    "                                                               y_true_col=y_true_col,\n",
    "                                                               y_pred_col=lbl_col,\n",
    "                                                               label_names=order_signatures)\n",
    "\n",
    "    scores = get_information_from_scores(adata, y_true_col=y_true_col, scores=method_scores, nfold=nfold)\n",
    "\n",
    "    metrics[method_name] = {\n",
    "        'conf_mat': conf_mat,\n",
    "        'balanced_accuracy': bal_acc,\n",
    "        'f1_score': f1_val,\n",
    "        f'logreg_balanced_accuracy_{nfold}cv': np.mean(scores),\n",
    "        f'logreg_balanced_accuracy_{nfold}cv_std': np.std(scores)\n",
    "    }\n",
    "\n",
    "    ## Confusion matrix plot\n",
    "    fig = plot_confusion_matrix(conf_mat, order_signatures, method_name, figsize=(2.3, 2.3), textwrap_width=7,\n",
    "                                xrotation=45, cbar=False)\n",
    "    save_close_or_show(fig, SAVE, storing_path / f'conf_mat_{method_name}.pdf')"
   ],
   "metadata": {
    "collapsed": false,
    "ExecuteTime": {
     "end_time": "2024-08-15T06:07:13.327825Z",
     "start_time": "2024-08-15T06:07:06.647936Z"
    }
   },
   "id": "5041a5e3c9dbc5cb",
   "execution_count": 42
  },
  {
   "cell_type": "code",
   "outputs": [],
   "source": [
    "metrics_df = pd.DataFrame(metrics)"
   ],
   "metadata": {
    "collapsed": false,
    "ExecuteTime": {
     "end_time": "2024-08-15T06:07:13.334887Z",
     "start_time": "2024-08-15T06:07:13.330285Z"
    }
   },
   "id": "da940b899e4c9347",
   "execution_count": 43
  },
  {
   "cell_type": "markdown",
   "source": [
    "Saving performance metrics"
   ],
   "metadata": {
    "collapsed": false
   },
   "id": "2779d1e90681e900"
  },
  {
   "cell_type": "code",
   "outputs": [
    {
     "name": "stdout",
     "output_type": "stream",
     "text": [
      "Saved metrics to /Users/lciernik/Documents/TUB/projects/ans_scoring/results/citeseq/b_subtypes/signatures_without_overlapping/metrics.csv.\n"
     ]
    }
   ],
   "source": [
    "if SAVE:\n",
    "    metrics_df.to_csv(storing_path / 'metrics.csv')\n",
    "    print(f\"Saved metrics to {storing_path / 'metrics.csv'}.\")"
   ],
   "metadata": {
    "collapsed": false,
    "ExecuteTime": {
     "end_time": "2024-08-15T06:07:13.346639Z",
     "start_time": "2024-08-15T06:07:13.338155Z"
    }
   },
   "id": "227e3372b50d0212",
   "execution_count": 44
  }
 ],
 "metadata": {
  "kernelspec": {
   "display_name": "Python 3",
   "language": "python",
   "name": "python3"
  },
  "language_info": {
   "codemirror_mode": {
    "name": "ipython",
    "version": 2
   },
   "file_extension": ".py",
   "mimetype": "text/x-python",
   "name": "python",
   "nbconvert_exporter": "python",
   "pygments_lexer": "ipython2",
   "version": "2.7.6"
  }
 },
 "nbformat": 4,
 "nbformat_minor": 5
}
