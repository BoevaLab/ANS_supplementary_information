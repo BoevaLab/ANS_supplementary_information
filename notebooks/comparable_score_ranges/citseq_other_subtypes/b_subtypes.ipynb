{
 "cells": [
  {
   "cell_type": "code",
   "id": "initial_id",
   "metadata": {
    "collapsed": true
   },
   "source": [
    "import sys\n",
    "import warnings\n",
    "from collections import defaultdict\n",
    "from pathlib import Path\n",
    "\n",
    "import matplotlib.pyplot as plt\n",
    "import numpy as np\n",
    "import pandas as pd\n",
    "\n",
    "from pbmc_helper import load_dex_genes\n",
    "\n",
    "sys.path.append('..')\n",
    "sys.path.append('/Users/lciernik/Documents/TUB/projects/ans_scoring/ANS_supplementary_information')\n",
    "from data.load_data import load_datasets\n",
    "\n",
    "from score_with_all_methods import (\n",
    "    score_signatures_with_all_methods,\n",
    "    label_assignment_from_scores,\n",
    "    get_lbl_assignment_performance,\n",
    "    get_information_from_scores,\n",
    "    remove_overlapping_signature_genes,\n",
    "    get_violin_all_methods,\n",
    "    prepare_data_for_violin_plot,\n",
    "    save_close_or_show,\n",
    "    plot_confusion_matrix\n",
    ")\n",
    "\n",
    "warnings.simplefilter(action='ignore', category=FutureWarning)\n",
    "plt.rcParams.update({'pdf.fonttype': 42, 'font.family': 'sans-serif', 'font.sans-serif': 'Arial', 'font.size': 10})"
   ],
   "outputs": [],
   "execution_count": null
  },
  {
   "cell_type": "markdown",
   "source": [
    "Storing information and global variables"
   ],
   "metadata": {
    "collapsed": false
   },
   "id": "6e097e3b0c8aa2f2"
  },
  {
   "cell_type": "code",
   "source": [
    "remove_overlapping_genes = True\n",
    "\n",
    "SAVE = False\n",
    "storing_path = Path('/Users/lciernik/Documents/TUB/projects/ans_scoring/results/citeseq/b_subtypes')\n",
    "\n",
    "if remove_overlapping_genes:\n",
    "    storing_path = storing_path / 'signatures_without_overlapping'\n",
    "else:\n",
    "    storing_path = storing_path / 'signatures_with_overlapping'\n",
    "\n",
    "if SAVE:\n",
    "    storing_path.mkdir(parents=True, exist_ok=True)"
   ],
   "metadata": {
    "collapsed": false
   },
   "id": "c78d7ae49d8d2142",
   "outputs": [],
   "execution_count": null
  },
  {
   "cell_type": "markdown",
   "source": [
    "Loading data"
   ],
   "metadata": {
    "collapsed": false
   },
   "id": "2c8d1890d0577e9"
  },
  {
   "cell_type": "code",
   "source": [
    "adata = load_datasets('pbmc_b_subtypes')\n",
    "adata"
   ],
   "metadata": {
    "collapsed": false
   },
   "id": "ec2633b219a43f2d",
   "outputs": [],
   "execution_count": null
  },
  {
   "cell_type": "code",
   "source": [
    "y_true_col = 'celltype.l2'\n",
    "sample_col = 'orig.ident'"
   ],
   "metadata": {
    "collapsed": false
   },
   "id": "c09438321bf62425",
   "outputs": [],
   "execution_count": null
  },
  {
   "cell_type": "code",
   "source": [
    "adata.obs[y_true_col].value_counts().sort_index()"
   ],
   "metadata": {
    "collapsed": false
   },
   "id": "58bb2464ee28ddc8",
   "outputs": [],
   "execution_count": null
  },
  {
   "cell_type": "markdown",
   "source": [
    "Computing dimensionality reduction"
   ],
   "metadata": {
    "collapsed": false
   },
   "id": "c0ca21e19af3a30f"
  },
  {
   "cell_type": "code",
   "source": [
    "# sc.tl.pca(adata)\n",
    "# sc.pp.neighbors(adata)\n",
    "# sc.tl.umap(adata)"
   ],
   "metadata": {
    "collapsed": false
   },
   "id": "157e95dd568f42cb",
   "outputs": [],
   "execution_count": null
  },
  {
   "cell_type": "markdown",
   "source": [
    "Load signatures"
   ],
   "metadata": {
    "collapsed": false
   },
   "id": "1e710ba29559199f"
  },
  {
   "cell_type": "code",
   "source": [
    "DE_of_celltypes = load_dex_genes(filter_genes=True, threshold_pval=0.01, threshold_log2fc=0.5)"
   ],
   "metadata": {
    "collapsed": false
   },
   "id": "7d50ab90e90daf85",
   "outputs": [],
   "execution_count": null
  },
  {
   "cell_type": "code",
   "source": [
    "subtypes_per_cell_type = adata.obs.groupby('celltype.l2')['celltype.l3'].apply(lambda x: list(x.unique()))"
   ],
   "metadata": {
    "collapsed": false
   },
   "id": "7f84162a3ca97a88",
   "outputs": [],
   "execution_count": null
  },
  {
   "metadata": {},
   "cell_type": "code",
   "source": "subtypes_per_cell_type.to_dict()",
   "id": "cb1c989736a7a6d1",
   "outputs": [],
   "execution_count": null
  },
  {
   "cell_type": "code",
   "source": [
    "signatures = {}\n",
    "for row in subtypes_per_cell_type.items():\n",
    "    cell_type, subtypes = row\n",
    "    signatures[cell_type] = sorted(\n",
    "        list(set(DE_of_celltypes[DE_of_celltypes['Cell Type'].isin(subtypes)]['Gene'].tolist())))"
   ],
   "metadata": {
    "collapsed": false
   },
   "id": "e72c33ce290db68f",
   "outputs": [],
   "execution_count": null
  },
  {
   "cell_type": "code",
   "source": [
    "for k, v in signatures.items():\n",
    "    print(k, len(v))"
   ],
   "metadata": {
    "collapsed": false
   },
   "id": "9e53020023d345d1",
   "outputs": [],
   "execution_count": null
  },
  {
   "cell_type": "code",
   "source": [
    "if remove_overlapping_genes:\n",
    "    signatures = remove_overlapping_signature_genes(signatures)"
   ],
   "metadata": {
    "collapsed": false
   },
   "id": "5d70ca32c4133534",
   "outputs": [],
   "execution_count": null
  },
  {
   "cell_type": "code",
   "source": [
    "order_signatures = ['B naive', 'B intermediate', 'B memory']"
   ],
   "metadata": {
    "collapsed": false
   },
   "id": "c9913c95a013116f",
   "outputs": [],
   "execution_count": null
  },
  {
   "cell_type": "markdown",
   "source": [
    "Scoring signatures"
   ],
   "metadata": {
    "collapsed": false
   },
   "id": "e146dba28a13095a"
  },
  {
   "cell_type": "code",
   "source": [
    "score_cols, adata = score_signatures_with_all_methods(adata, signatures)"
   ],
   "metadata": {
    "collapsed": false
   },
   "id": "389d832f113ff868",
   "outputs": [],
   "execution_count": null
  },
  {
   "cell_type": "markdown",
   "source": [
    "Label assignment"
   ],
   "metadata": {
    "collapsed": false
   },
   "id": "385b1e0b61d26a4a"
  },
  {
   "cell_type": "code",
   "source": [
    "all_cols = []\n",
    "label_cols = {}\n",
    "for method_name, method_scores in score_cols.items():\n",
    "    adata, new_lbl_col = label_assignment_from_scores(adata, method_name, method_scores, include_undefined=False)\n",
    "    label_cols[method_name] = new_lbl_col\n",
    "    all_cols += method_scores + [new_lbl_col]"
   ],
   "metadata": {
    "collapsed": false
   },
   "id": "bf2f780fc4a59ad5",
   "outputs": [],
   "execution_count": null
  },
  {
   "cell_type": "markdown",
   "source": [
    "Visualizing results"
   ],
   "metadata": {
    "collapsed": false
   },
   "id": "aff662eaa7657930"
  },
  {
   "cell_type": "code",
   "source": [
    "### UMAP\n",
    "# fig = sc.pl.umap(adata, color=all_cols + [sample_col, y_true_col, 'celltype.l1', 'celltype.l3'],\n",
    "#                  ncols=len(signatures) + 1, return_fig=True)\n",
    "# save_close_or_show(fig, SAVE, storing_path / 'umap.pdf')"
   ],
   "metadata": {
    "collapsed": false
   },
   "id": "7d20a48c26c0bd38",
   "outputs": [],
   "execution_count": null
  },
  {
   "cell_type": "code",
   "source": [
    "df_melted = prepare_data_for_violin_plot(adata, y_true_col, score_cols)"
   ],
   "metadata": {
    "collapsed": false
   },
   "id": "c0b4eeb0d875b8a2",
   "outputs": [],
   "execution_count": null
  },
  {
   "cell_type": "code",
   "source": [
    "df_melted['Signature'].unique()"
   ],
   "metadata": {
    "collapsed": false
   },
   "id": "4d9404fd5fc6acd5",
   "outputs": [],
   "execution_count": null
  },
  {
   "cell_type": "code",
   "source": [
    "### Combined violin plots\n",
    "fig = get_violin_all_methods(\n",
    "    df_melted, \n",
    "    y_true_col, \n",
    "    hue_order=order_signatures, \n",
    "    textwrap_width=7, \n",
    "    aspect=1.05, \n",
    "    sharey=True,\n",
    "    legend_bbox_anchor=(1.075, 1),\n",
    "    fontsizes={'title': 12, 'labels': 11, 'ticks': 10, 'legend': 11}\n",
    ")\n",
    "save_close_or_show(fig, SAVE, storing_path / \"violin_all_methods.pdf\")"
   ],
   "metadata": {
    "collapsed": false
   },
   "id": "d43a03da2066a840",
   "outputs": [],
   "execution_count": null
  },
  {
   "cell_type": "code",
   "source": [
    "### Single violin plots\n",
    "# for method_name, method_scores in score_cols.items():\n",
    "#     df = adata.obs.loc[:, method_scores + [y_true_col]]\n",
    "#     fig = get_violin(df, method_scores, y_true_col)\n",
    "#     plt.title(f\"{method_name}\")\n",
    "#     save_close_or_show(fig, SAVE, storing_path / f'violin_{method_name}.pdf')"
   ],
   "metadata": {
    "collapsed": false
   },
   "id": "6819f7e2c390a2a8",
   "outputs": [],
   "execution_count": null
  },
  {
   "cell_type": "markdown",
   "source": [
    "Computing label assignment performance"
   ],
   "metadata": {
    "collapsed": false
   },
   "id": "598e8d0b23a2b3d"
  },
  {
   "cell_type": "code",
   "source": [
    "metrics = defaultdict(dict)\n",
    "nfold = 10\n",
    "overall_min = np.inf\n",
    "overall_max = -np.inf\n",
    "\n",
    "for method_name, method_scores in score_cols.items():\n",
    "    lbl_col = label_cols[method_name]\n",
    "    conf_mat, bal_acc, f1_val = get_lbl_assignment_performance(adata,\n",
    "                                                               y_true_col=y_true_col,\n",
    "                                                               y_pred_col=lbl_col,\n",
    "                                                               label_names=order_signatures)\n",
    "\n",
    "    scores = get_information_from_scores(adata, y_true_col=y_true_col, scores=method_scores, nfold=nfold)\n",
    "\n",
    "    metrics[method_name] = {\n",
    "        'conf_mat': conf_mat,\n",
    "        'balanced_accuracy': bal_acc,\n",
    "        'f1_score': f1_val,\n",
    "        f'logreg_balanced_accuracy_{nfold}cv': np.mean(scores),\n",
    "        f'logreg_balanced_accuracy_{nfold}cv_std': np.std(scores)\n",
    "    }\n",
    "\n",
    "    ## Confusion matrix plot\n",
    "    # fig = plot_confusion_matrix(conf_mat, order_signatures, method_name, figsize=(2.3, 2.3), textwrap_width=7,\n",
    "    #                             xrotation=45, cbar=False)\n",
    "    fig = plot_confusion_matrix(conf_mat, order_signatures, method_name)\n",
    "    save_close_or_show(fig, SAVE, storing_path / f'conf_mat_{method_name}.pdf')"
   ],
   "metadata": {
    "collapsed": false
   },
   "id": "5041a5e3c9dbc5cb",
   "outputs": [],
   "execution_count": null
  },
  {
   "cell_type": "code",
   "source": [
    "metrics_df = pd.DataFrame(metrics)"
   ],
   "metadata": {
    "collapsed": false
   },
   "id": "da940b899e4c9347",
   "outputs": [],
   "execution_count": null
  },
  {
   "cell_type": "markdown",
   "source": [
    "Saving performance metrics"
   ],
   "metadata": {
    "collapsed": false
   },
   "id": "2779d1e90681e900"
  },
  {
   "cell_type": "code",
   "source": [
    "if SAVE:\n",
    "    metrics_df.to_csv(storing_path / 'metrics.csv')\n",
    "    print(f\"Saved metrics to {storing_path / 'metrics.csv'}.\")"
   ],
   "metadata": {
    "collapsed": false
   },
   "id": "227e3372b50d0212",
   "outputs": [],
   "execution_count": null
  }
 ],
 "metadata": {
  "kernelspec": {
   "display_name": "Python 3",
   "language": "python",
   "name": "python3"
  },
  "language_info": {
   "codemirror_mode": {
    "name": "ipython",
    "version": 2
   },
   "file_extension": ".py",
   "mimetype": "text/x-python",
   "name": "python",
   "nbconvert_exporter": "python",
   "pygments_lexer": "ipython2",
   "version": "2.7.6"
  }
 },
 "nbformat": 4,
 "nbformat_minor": 5
}
