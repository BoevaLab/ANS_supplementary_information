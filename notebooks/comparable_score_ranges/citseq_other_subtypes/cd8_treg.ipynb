{
 "cells": [
  {
   "cell_type": "code",
   "id": "initial_id",
   "metadata": {
    "collapsed": true,
    "jupyter": {
     "outputs_hidden": true
    },
    "ExecuteTime": {
     "end_time": "2024-11-27T14:45:02.252194Z",
     "start_time": "2024-11-27T14:44:59.817534Z"
    }
   },
   "source": [
    "import sys\n",
    "import warnings\n",
    "from collections import defaultdict\n",
    "from pathlib import Path\n",
    "\n",
    "import matplotlib.pyplot as plt\n",
    "import numpy as np\n",
    "import pandas as pd\n",
    "\n",
    "from pbmc_helper import load_dex_genes\n",
    "\n",
    "sys.path.append('..')\n",
    "sys.path.append('/Users/lciernik/Documents/TUB/projects/ans_scoring/ANS_supplementary_information')\n",
    "from data.load_data import load_datasets\n",
    "\n",
    "from score_with_all_methods import (\n",
    "    score_signatures_with_all_methods,\n",
    "    label_assignment_from_scores,\n",
    "    get_lbl_assignment_performance,\n",
    "    get_information_from_scores,\n",
    "    remove_overlapping_signature_genes,\n",
    "    get_violin_all_methods,\n",
    "    prepare_data_for_violin_plot,\n",
    "    save_close_or_show,\n",
    "    plot_confusion_matrix\n",
    ")\n",
    "\n",
    "warnings.simplefilter(action='ignore', category=FutureWarning)\n",
    "plt.rcParams.update({'pdf.fonttype': 42, 'font.family': 'sans-serif', 'font.sans-serif': 'Arial', 'font.size': 10})"
   ],
   "outputs": [],
   "execution_count": 1
  },
  {
   "cell_type": "markdown",
   "id": "6e097e3b0c8aa2f2",
   "metadata": {
    "collapsed": false,
    "jupyter": {
     "outputs_hidden": false
    }
   },
   "source": [
    "Storing information and global variables"
   ]
  },
  {
   "cell_type": "code",
   "id": "c78d7ae49d8d2142",
   "metadata": {
    "collapsed": false,
    "jupyter": {
     "outputs_hidden": false
    },
    "ExecuteTime": {
     "end_time": "2024-11-27T14:45:02.281540Z",
     "start_time": "2024-11-27T14:45:02.270972Z"
    }
   },
   "source": [
    "remove_overlapping_genes = False\n",
    "\n",
    "SAVE = False\n",
    "storing_path = Path('/Users/lciernik/Documents/TUB/projects/ans_scoring/results/citeseq/cd8_subtypes')\n",
    "\n",
    "if remove_overlapping_genes:\n",
    "    storing_path = storing_path / 'signatures_without_overlapping'\n",
    "else:\n",
    "    storing_path = storing_path / 'signatures_with_overlapping'\n",
    "\n",
    "if SAVE:\n",
    "    storing_path.mkdir(parents=True, exist_ok=True)"
   ],
   "outputs": [],
   "execution_count": 2
  },
  {
   "cell_type": "markdown",
   "id": "2c8d1890d0577e9",
   "metadata": {
    "collapsed": false,
    "jupyter": {
     "outputs_hidden": false
    }
   },
   "source": [
    "Loading data"
   ]
  },
  {
   "cell_type": "code",
   "id": "ec2633b219a43f2d",
   "metadata": {
    "collapsed": false,
    "jupyter": {
     "outputs_hidden": false
    },
    "ExecuteTime": {
     "end_time": "2024-11-27T14:45:02.932805Z",
     "start_time": "2024-11-27T14:45:02.397819Z"
    }
   },
   "source": [
    "adata = load_datasets('pbmc_cd8_subtypes')\n",
    "adata"
   ],
   "outputs": [
    {
     "data": {
      "text/plain": [
       "AnnData object with n_obs × n_vars = 22815 × 11147\n",
       "    obs: 'nCount_ADT', 'nFeature_ADT', 'nCount_RNA', 'nFeature_RNA', 'orig.ident', 'lane', 'donor', 'time', 'celltype.l1', 'celltype.l2', 'celltype.l3', 'Phase', 'nCount_SCT', 'nFeature_SCT', 'n_genes_by_counts', 'log1p_n_genes_by_counts', 'total_counts', 'log1p_total_counts', 'pct_counts_in_top_20_genes', 'total_counts_mt', 'log1p_total_counts_mt', 'pct_counts_mt', 'total_counts_ribo', 'log1p_total_counts_ribo', 'pct_counts_ribo', 'total_counts_hb', 'log1p_total_counts_hb', 'pct_counts_hb', 'outlier', 'mt_outlier'\n",
       "    var: 'gene_names', 'mt', 'ribo', 'hb', 'n_cells_by_counts', 'mean_counts', 'log1p_mean_counts', 'pct_dropout_by_counts', 'total_counts', 'log1p_total_counts'\n",
       "    uns: 'log1p'\n",
       "    obsm: 'X_apca', 'X_aumap', 'X_pca', 'X_spca', 'X_umap', 'X_wnn.umap'\n",
       "    layers: 'counts'"
      ]
     },
     "execution_count": 3,
     "metadata": {},
     "output_type": "execute_result"
    }
   ],
   "execution_count": 3
  },
  {
   "cell_type": "code",
   "id": "c09438321bf62425",
   "metadata": {
    "collapsed": false,
    "jupyter": {
     "outputs_hidden": false
    },
    "ExecuteTime": {
     "end_time": "2024-11-27T14:45:02.951930Z",
     "start_time": "2024-11-27T14:45:02.949681Z"
    }
   },
   "source": [
    "y_true_col = 'celltype.l2'\n",
    "sample_col = 'orig.ident'"
   ],
   "outputs": [],
   "execution_count": 4
  },
  {
   "cell_type": "code",
   "id": "58bb2464ee28ddc8",
   "metadata": {
    "collapsed": false,
    "jupyter": {
     "outputs_hidden": false
    },
    "ExecuteTime": {
     "end_time": "2024-11-27T14:45:02.969908Z",
     "start_time": "2024-11-27T14:45:02.963718Z"
    }
   },
   "source": [
    "adata.obs[y_true_col].value_counts().sort_index()"
   ],
   "outputs": [
    {
     "data": {
      "text/plain": [
       "CD8 Naive            10236\n",
       "CD8 Proliferating       38\n",
       "CD8 TCM               2708\n",
       "CD8 TEM               9833\n",
       "Name: celltype.l2, dtype: int64"
      ]
     },
     "execution_count": 5,
     "metadata": {},
     "output_type": "execute_result"
    }
   ],
   "execution_count": 5
  },
  {
   "cell_type": "markdown",
   "id": "c0ca21e19af3a30f",
   "metadata": {
    "collapsed": false,
    "jupyter": {
     "outputs_hidden": false
    }
   },
   "source": [
    "Computing dimensionality reduction"
   ]
  },
  {
   "cell_type": "code",
   "id": "157e95dd568f42cb",
   "metadata": {
    "collapsed": false,
    "jupyter": {
     "outputs_hidden": false
    },
    "ExecuteTime": {
     "end_time": "2024-11-27T14:45:03.013054Z",
     "start_time": "2024-11-27T14:45:03.010975Z"
    }
   },
   "source": [
    "# sc.tl.pca(adata)\n",
    "# sc.pp.neighbors(adata)\n",
    "# sc.tl.umap(adata)"
   ],
   "outputs": [],
   "execution_count": 6
  },
  {
   "cell_type": "markdown",
   "id": "1e710ba29559199f",
   "metadata": {
    "collapsed": false,
    "jupyter": {
     "outputs_hidden": false
    }
   },
   "source": [
    "Load signatures"
   ]
  },
  {
   "cell_type": "code",
   "id": "7d50ab90e90daf85",
   "metadata": {
    "collapsed": false,
    "jupyter": {
     "outputs_hidden": false
    },
    "ExecuteTime": {
     "end_time": "2024-11-27T14:45:03.060991Z",
     "start_time": "2024-11-27T14:45:03.049411Z"
    }
   },
   "source": [
    "DE_of_celltypes = load_dex_genes(filter_genes=True, threshold_pval=0.01, threshold_log2fc=0.5)"
   ],
   "outputs": [
    {
     "name": "stdout",
     "output_type": "stream",
     "text": [
      "Shape DEX genes BEFORE filtering (11811, 4)\n",
      "Shape DEX genes AFTER filtering (6288, 4)\n"
     ]
    }
   ],
   "execution_count": 7
  },
  {
   "cell_type": "code",
   "id": "7f84162a3ca97a88",
   "metadata": {
    "collapsed": false,
    "jupyter": {
     "outputs_hidden": false
    },
    "ExecuteTime": {
     "end_time": "2024-11-27T14:45:03.135292Z",
     "start_time": "2024-11-27T14:45:03.130982Z"
    }
   },
   "source": [
    "subtypes_per_cell_type = adata.obs.groupby('celltype.l2')['celltype.l3'].apply(lambda x: list(x.unique()))"
   ],
   "outputs": [],
   "execution_count": 8
  },
  {
   "metadata": {
    "ExecuteTime": {
     "end_time": "2024-11-27T14:45:03.162302Z",
     "start_time": "2024-11-27T14:45:03.159006Z"
    }
   },
   "cell_type": "code",
   "source": "subtypes_per_cell_type.to_dict()",
   "id": "74091dcb4b8c9b14",
   "outputs": [
    {
     "data": {
      "text/plain": [
       "{'CD8 Naive': ['CD8 Naive', 'CD8 Naive_2'],\n",
       " 'CD8 Proliferating': ['CD8 Proliferating'],\n",
       " 'CD8 TCM': ['CD8 TCM_1', 'CD8 TCM_3', 'CD8 TCM_2'],\n",
       " 'CD8 TEM': ['CD8 TEM_2',\n",
       "  'CD8 TEM_1',\n",
       "  'CD8 TEM_4',\n",
       "  'CD8 TEM_5',\n",
       "  'CD8 TEM_6',\n",
       "  'CD8 TEM_3']}"
      ]
     },
     "execution_count": 9,
     "metadata": {},
     "output_type": "execute_result"
    }
   ],
   "execution_count": 9
  },
  {
   "cell_type": "code",
   "execution_count": 9,
   "id": "e72c33ce290db68f",
   "metadata": {
    "ExecuteTime": {
     "end_time": "2024-08-14T14:50:43.816154Z",
     "start_time": "2024-08-14T14:50:43.812413Z"
    },
    "collapsed": false,
    "jupyter": {
     "outputs_hidden": false
    }
   },
   "outputs": [],
   "source": [
    "signatures = {}\n",
    "for row in subtypes_per_cell_type.items():\n",
    "    cell_type, subtypes = row\n",
    "    signatures[cell_type] = sorted(\n",
    "        list(set(DE_of_celltypes[DE_of_celltypes['Cell Type'].isin(subtypes)]['Gene'].tolist())))"
   ]
  },
  {
   "cell_type": "code",
   "execution_count": 10,
   "id": "432b74084b40bc02",
   "metadata": {
    "ExecuteTime": {
     "end_time": "2024-08-14T14:50:43.820163Z",
     "start_time": "2024-08-14T14:50:43.818343Z"
    },
    "collapsed": false,
    "jupyter": {
     "outputs_hidden": false
    }
   },
   "outputs": [
    {
     "name": "stdout",
     "output_type": "stream",
     "text": [
      "CD8 Naive 100\n",
      "CD8 Proliferating 292\n",
      "CD8 TCM 57\n",
      "CD8 TEM 106\n"
     ]
    }
   ],
   "source": [
    "for k, v in signatures.items():\n",
    "    print(k, len(v))"
   ]
  },
  {
   "cell_type": "code",
   "execution_count": 11,
   "id": "5d70ca32c4133534",
   "metadata": {
    "ExecuteTime": {
     "end_time": "2024-08-14T14:50:43.822504Z",
     "start_time": "2024-08-14T14:50:43.820893Z"
    },
    "collapsed": false,
    "jupyter": {
     "outputs_hidden": false
    }
   },
   "outputs": [],
   "source": [
    "if remove_overlapping_genes:\n",
    "    signatures = remove_overlapping_signature_genes(signatures)"
   ]
  },
  {
   "cell_type": "code",
   "execution_count": 12,
   "id": "942925c7656156d9",
   "metadata": {
    "ExecuteTime": {
     "end_time": "2024-08-14T14:50:43.824796Z",
     "start_time": "2024-08-14T14:50:43.823256Z"
    },
    "collapsed": false,
    "jupyter": {
     "outputs_hidden": false
    }
   },
   "outputs": [],
   "source": [
    "order_signatures = ['CD8 Naive', 'CD8 TCM', 'CD8 TEM', 'CD8 Proliferating']"
   ]
  },
  {
   "cell_type": "markdown",
   "id": "e146dba28a13095a",
   "metadata": {
    "collapsed": false,
    "jupyter": {
     "outputs_hidden": false
    }
   },
   "source": [
    "Scoring signatures"
   ]
  },
  {
   "cell_type": "code",
   "execution_count": 13,
   "id": "389d832f113ff868",
   "metadata": {
    "ExecuteTime": {
     "end_time": "2024-08-14T14:51:57.006679Z",
     "start_time": "2024-08-14T14:50:43.825413Z"
    },
    "collapsed": false,
    "jupyter": {
     "outputs_hidden": false
    }
   },
   "outputs": [
    {
     "name": "stdout",
     "output_type": "stream",
     "text": [
      "Scoring CD8 Naive with adjusted_neighborhood_scoring\n",
      "WARNING: genes are not in var_names and ignored: ['6-Sep']\n",
      "Scoring CD8 Naive with seurat_scoring\n",
      "WARNING: genes are not in var_names and ignored: ['6-Sep']\n",
      "Scoring CD8 Naive with seurat_ag_scoring\n",
      "WARNING: genes are not in var_names and ignored: ['6-Sep']\n",
      "Scoring CD8 Naive with seurat_lvg_scoring\n",
      "WARNING: genes are not in var_names and ignored: ['6-Sep']\n",
      "Scoring CD8 Naive with scanpy_scoring\n",
      "WARNING: genes are not in var_names and ignored: ['6-Sep']\n",
      "Scoring CD8 Naive with jasmine_scoring\n",
      "WARNING: genes are not in var_names and ignored: ['6-Sep']\n",
      "Scoring CD8 Naive with jasmine_scoring\n",
      "WARNING: genes are not in var_names and ignored: ['6-Sep']\n",
      "Scoring CD8 Naive with ucell_scoring\n",
      "WARNING: genes are not in var_names and ignored: ['6-Sep']\n",
      "Scoring CD8 Proliferating with adjusted_neighborhood_scoring\n",
      "WARNING: genes are not in var_names and ignored: ['7-Sep', 'BIRC5', 'CDT1', 'CLSPN', 'E2F1', 'GINS2', 'RRM2', 'TK1', 'TYMS']\n",
      "Scoring CD8 Proliferating with seurat_scoring\n",
      "WARNING: genes are not in var_names and ignored: ['7-Sep', 'BIRC5', 'CDT1', 'CLSPN', 'E2F1', 'GINS2', 'RRM2', 'TK1', 'TYMS']\n",
      "Scoring CD8 Proliferating with seurat_ag_scoring\n",
      "WARNING: genes are not in var_names and ignored: ['7-Sep', 'BIRC5', 'CDT1', 'CLSPN', 'E2F1', 'GINS2', 'RRM2', 'TK1', 'TYMS']\n",
      "Scoring CD8 Proliferating with seurat_lvg_scoring\n",
      "WARNING: genes are not in var_names and ignored: ['7-Sep', 'BIRC5', 'CDT1', 'CLSPN', 'E2F1', 'GINS2', 'RRM2', 'TK1', 'TYMS']\n",
      "Scoring CD8 Proliferating with scanpy_scoring\n",
      "WARNING: genes are not in var_names and ignored: ['7-Sep', 'BIRC5', 'CDT1', 'CLSPN', 'E2F1', 'GINS2', 'RRM2', 'TK1', 'TYMS']\n",
      "Scoring CD8 Proliferating with jasmine_scoring\n",
      "WARNING: genes are not in var_names and ignored: ['7-Sep', 'BIRC5', 'CDT1', 'CLSPN', 'E2F1', 'GINS2', 'RRM2', 'TK1', 'TYMS']\n",
      "Scoring CD8 Proliferating with jasmine_scoring\n",
      "WARNING: genes are not in var_names and ignored: ['7-Sep', 'BIRC5', 'CDT1', 'CLSPN', 'E2F1', 'GINS2', 'RRM2', 'TK1', 'TYMS']\n",
      "Scoring CD8 Proliferating with ucell_scoring\n",
      "WARNING: genes are not in var_names and ignored: ['7-Sep', 'BIRC5', 'CDT1', 'CLSPN', 'E2F1', 'GINS2', 'RRM2', 'TK1', 'TYMS']\n",
      "Scoring CD8 TCM with adjusted_neighborhood_scoring\n",
      "Scoring CD8 TCM with seurat_scoring\n",
      "Scoring CD8 TCM with seurat_ag_scoring\n",
      "Scoring CD8 TCM with seurat_lvg_scoring\n",
      "Scoring CD8 TCM with scanpy_scoring\n",
      "Scoring CD8 TCM with jasmine_scoring\n",
      "Scoring CD8 TCM with jasmine_scoring\n",
      "Scoring CD8 TCM with ucell_scoring\n",
      "Scoring CD8 TEM with adjusted_neighborhood_scoring\n",
      "WARNING: genes are not in var_names and ignored: ['7-Sep']\n",
      "Scoring CD8 TEM with seurat_scoring\n",
      "WARNING: genes are not in var_names and ignored: ['7-Sep']\n",
      "Scoring CD8 TEM with seurat_ag_scoring\n",
      "WARNING: genes are not in var_names and ignored: ['7-Sep']\n",
      "Scoring CD8 TEM with seurat_lvg_scoring\n",
      "WARNING: genes are not in var_names and ignored: ['7-Sep']\n",
      "Scoring CD8 TEM with scanpy_scoring\n",
      "WARNING: genes are not in var_names and ignored: ['7-Sep']\n",
      "Scoring CD8 TEM with jasmine_scoring\n",
      "WARNING: genes are not in var_names and ignored: ['7-Sep']\n",
      "Scoring CD8 TEM with jasmine_scoring\n",
      "WARNING: genes are not in var_names and ignored: ['7-Sep']\n",
      "Scoring CD8 TEM with ucell_scoring\n",
      "WARNING: genes are not in var_names and ignored: ['7-Sep']\n"
     ]
    }
   ],
   "source": [
    "score_cols, adata = score_signatures_with_all_methods(adata, signatures, verbose=True)"
   ]
  },
  {
   "cell_type": "markdown",
   "id": "385b1e0b61d26a4a",
   "metadata": {
    "collapsed": false,
    "jupyter": {
     "outputs_hidden": false
    }
   },
   "source": [
    "Label assignment"
   ]
  },
  {
   "cell_type": "code",
   "execution_count": 14,
   "id": "bf2f780fc4a59ad5",
   "metadata": {
    "ExecuteTime": {
     "end_time": "2024-08-14T14:51:57.143558Z",
     "start_time": "2024-08-14T14:51:57.007842Z"
    },
    "collapsed": false,
    "jupyter": {
     "outputs_hidden": false
    }
   },
   "outputs": [],
   "source": [
    "all_cols = []\n",
    "label_cols = {}\n",
    "for method_name, method_scores in score_cols.items():\n",
    "    adata, new_lbl_col = label_assignment_from_scores(adata, method_name, method_scores, include_undefined=False)\n",
    "    label_cols[method_name] = new_lbl_col\n",
    "    all_cols += method_scores + [new_lbl_col]"
   ]
  },
  {
   "cell_type": "markdown",
   "id": "aff662eaa7657930",
   "metadata": {
    "collapsed": false,
    "jupyter": {
     "outputs_hidden": false
    }
   },
   "source": [
    "Visualizing results"
   ]
  },
  {
   "cell_type": "code",
   "execution_count": 15,
   "id": "7d20a48c26c0bd38",
   "metadata": {
    "ExecuteTime": {
     "end_time": "2024-08-14T14:51:57.146355Z",
     "start_time": "2024-08-14T14:51:57.144485Z"
    },
    "collapsed": false,
    "jupyter": {
     "outputs_hidden": false
    }
   },
   "outputs": [],
   "source": [
    "### UMAP\n",
    "# fig = sc.pl.umap(adata, color=all_cols + [sample_col, y_true_col, 'celltype.l1', 'celltype.l3'],\n",
    "#                  ncols=len(signatures) + 1, return_fig=True)\n",
    "# save_close_or_show(fig, SAVE, storing_path / 'umap.pdf')"
   ]
  },
  {
   "cell_type": "code",
   "execution_count": 16,
   "id": "bf10305e445f92fc",
   "metadata": {
    "ExecuteTime": {
     "end_time": "2024-08-14T14:51:57.188008Z",
     "start_time": "2024-08-14T14:51:57.147109Z"
    },
    "collapsed": false,
    "jupyter": {
     "outputs_hidden": false
    }
   },
   "outputs": [],
   "source": [
    "df_melted = prepare_data_for_violin_plot(adata, y_true_col, score_cols)"
   ]
  },
  {
   "cell_type": "code",
   "execution_count": 17,
   "id": "2135d8f1d32ee187",
   "metadata": {
    "ExecuteTime": {
     "end_time": "2024-08-14T14:52:03.137712Z",
     "start_time": "2024-08-14T14:51:57.188813Z"
    },
    "collapsed": false,
    "jupyter": {
     "outputs_hidden": false
    }
   },
   "outputs": [
    {
     "name": "stdout",
     "output_type": "stream",
     "text": [
      "Saved figure at /Users/lciernik/Documents/TUB/projects/ans_scoring/results/citeseq/cd8_subtypes/signatures_with_overlapping/violin_all_methods.pdf.\n"
     ]
    }
   ],
   "source": [
    "### Combined violin plots\n",
    "fig = get_violin_all_methods(df_melted, y_true_col, height=1.95, aspect=1.1, hue_order=order_signatures, textwrap_width=6)\n",
    "\n",
    "save_close_or_show(fig, SAVE, storing_path / \"violin_all_methods.pdf\")"
   ]
  },
  {
   "cell_type": "code",
   "execution_count": 18,
   "id": "6819f7e2c390a2a8",
   "metadata": {
    "ExecuteTime": {
     "end_time": "2024-08-14T14:52:03.140863Z",
     "start_time": "2024-08-14T14:52:03.138957Z"
    },
    "collapsed": false,
    "jupyter": {
     "outputs_hidden": false
    }
   },
   "outputs": [],
   "source": [
    "### Single violin plots\n",
    "\n",
    "# for method_name, method_scores in score_cols.items():\n",
    "#     df = adata.obs.loc[:, method_scores + [y_true_col]]\n",
    "#     fig = get_violin(df, method_scores, y_true_col)\n",
    "#     plt.title(f\"{method_name}\")\n",
    "#     save_close_or_show(fig, SAVE, storing_path / f'violin_{method_name}.pdf')"
   ]
  },
  {
   "cell_type": "markdown",
   "id": "598e8d0b23a2b3d",
   "metadata": {
    "collapsed": false,
    "jupyter": {
     "outputs_hidden": false
    }
   },
   "source": [
    "Computing label assignment performance"
   ]
  },
  {
   "cell_type": "code",
   "execution_count": 19,
   "id": "5041a5e3c9dbc5cb",
   "metadata": {
    "ExecuteTime": {
     "end_time": "2024-08-14T14:52:33.799070Z",
     "start_time": "2024-08-14T14:52:03.141718Z"
    },
    "collapsed": false,
    "jupyter": {
     "outputs_hidden": false
    }
   },
   "outputs": [
    {
     "name": "stdout",
     "output_type": "stream",
     "text": [
      "Saved figure at /Users/lciernik/Documents/TUB/projects/ans_scoring/results/citeseq/cd8_subtypes/signatures_with_overlapping/conf_mat_ANS.pdf.\n",
      "Saved figure at /Users/lciernik/Documents/TUB/projects/ans_scoring/results/citeseq/cd8_subtypes/signatures_with_overlapping/conf_mat_Seurat.pdf.\n",
      "Saved figure at /Users/lciernik/Documents/TUB/projects/ans_scoring/results/citeseq/cd8_subtypes/signatures_with_overlapping/conf_mat_Seurat_AG.pdf.\n",
      "Saved figure at /Users/lciernik/Documents/TUB/projects/ans_scoring/results/citeseq/cd8_subtypes/signatures_with_overlapping/conf_mat_Seurat_LVG.pdf.\n",
      "Saved figure at /Users/lciernik/Documents/TUB/projects/ans_scoring/results/citeseq/cd8_subtypes/signatures_with_overlapping/conf_mat_Scanpy.pdf.\n",
      "Saved figure at /Users/lciernik/Documents/TUB/projects/ans_scoring/results/citeseq/cd8_subtypes/signatures_with_overlapping/conf_mat_Jasmine_LH.pdf.\n",
      "Saved figure at /Users/lciernik/Documents/TUB/projects/ans_scoring/results/citeseq/cd8_subtypes/signatures_with_overlapping/conf_mat_Jasmine_OR.pdf.\n",
      "Saved figure at /Users/lciernik/Documents/TUB/projects/ans_scoring/results/citeseq/cd8_subtypes/signatures_with_overlapping/conf_mat_UCell.pdf.\n"
     ]
    }
   ],
   "source": [
    "metrics = defaultdict(dict)\n",
    "nfold = 10\n",
    "\n",
    "for method_name, method_scores in score_cols.items():\n",
    "    lbl_col = label_cols[method_name]\n",
    "    conf_mat, bal_acc, f1_val = get_lbl_assignment_performance(adata,\n",
    "                                                                    y_true_col=y_true_col,\n",
    "                                                                    y_pred_col=lbl_col,\n",
    "                                                                    label_names=order_signatures)\n",
    "\n",
    "    scores = get_information_from_scores(adata, y_true_col=y_true_col, scores=method_scores, nfold=nfold)\n",
    "\n",
    "    metrics[method_name] = {\n",
    "        'conf_mat': conf_mat,\n",
    "        'balanced_accuracy': bal_acc,\n",
    "        'f1_score': f1_val,\n",
    "        f'logreg_balanced_accuracy_{nfold}cv': np.mean(scores),\n",
    "        f'logreg_balanced_accuracy_{nfold}cv_std': np.std(scores)\n",
    "    }\n",
    "    fig = plot_confusion_matrix(conf_mat, order_signatures, method_name, figsize=(2.66, 2.66), textwrap_width=6,\n",
    "                                xrotation=45, cbar=False)\n",
    "    save_close_or_show(fig, SAVE, storing_path / f'conf_mat_{method_name}.pdf')"
   ]
  },
  {
   "cell_type": "code",
   "execution_count": 20,
   "id": "da940b899e4c9347",
   "metadata": {
    "ExecuteTime": {
     "end_time": "2024-08-14T14:52:33.814007Z",
     "start_time": "2024-08-14T14:52:33.804798Z"
    },
    "collapsed": false,
    "jupyter": {
     "outputs_hidden": false
    }
   },
   "outputs": [],
   "source": [
    "metrics_df = pd.DataFrame(metrics)"
   ]
  },
  {
   "cell_type": "markdown",
   "id": "2779d1e90681e900",
   "metadata": {
    "collapsed": false,
    "jupyter": {
     "outputs_hidden": false
    }
   },
   "source": [
    "Saving performance metrics"
   ]
  },
  {
   "cell_type": "code",
   "execution_count": 21,
   "id": "227e3372b50d0212",
   "metadata": {
    "ExecuteTime": {
     "end_time": "2024-08-14T14:52:33.827057Z",
     "start_time": "2024-08-14T14:52:33.815859Z"
    },
    "collapsed": false,
    "jupyter": {
     "outputs_hidden": false
    }
   },
   "outputs": [
    {
     "name": "stdout",
     "output_type": "stream",
     "text": [
      "Saved metrics to /Users/lciernik/Documents/TUB/projects/ans_scoring/results/citeseq/cd8_subtypes/signatures_with_overlapping/metrics.csv.\n"
     ]
    }
   ],
   "source": [
    "if SAVE:\n",
    "    metrics_df.to_csv(storing_path / 'metrics.csv')\n",
    "    print(f\"Saved metrics to {storing_path / 'metrics.csv'}.\")"
   ]
  }
 ],
 "metadata": {
  "kernelspec": {
   "display_name": "Python 3 (ipykernel)",
   "language": "python",
   "name": "python3"
  },
  "language_info": {
   "codemirror_mode": {
    "name": "ipython",
    "version": 3
   },
   "file_extension": ".py",
   "mimetype": "text/x-python",
   "name": "python",
   "nbconvert_exporter": "python",
   "pygments_lexer": "ipython3",
   "version": "3.9.18"
  }
 },
 "nbformat": 4,
 "nbformat_minor": 5
}
