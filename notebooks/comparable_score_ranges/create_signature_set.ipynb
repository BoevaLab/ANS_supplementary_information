{
 "cells": [
  {
   "cell_type": "code",
   "id": "initial_id",
   "metadata": {
    "collapsed": true,
    "jupyter": {
     "is_executing": true
    }
   },
   "source": [
    "from pathlib import Path\n",
    "\n",
    "import matplotlib.path as mpath\n",
    "import matplotlib.pyplot as plt\n",
    "import numpy as np\n",
    "import pandas as pd\n",
    "import seaborn as sns\n",
    "from old.score_with_all_methods import save_close_or_show\n",
    "import pandas as pd\n",
    "from typing import Dict, Any\n",
    "import json\n",
    "\n",
    "sns.set_style('ticks')\n",
    "\n",
    "plt.rcParams.update({'pdf.fonttype': 42, 'font.family': 'sans-serif', 'font.sans-serif': 'Arial', 'font.size': 10})"
   ],
   "outputs": [],
   "execution_count": null
  },
  {
   "metadata": {},
   "cell_type": "code",
   "source": "from ANS_supplementary_information.data.constants import BASE_PATH_RESULTS",
   "id": "92afa7f13361f53d",
   "outputs": [],
   "execution_count": null
  },
  {
   "metadata": {},
   "cell_type": "code",
   "source": [
    "exp_path = Path(BASE_PATH_RESULTS) / 'comparable_score_ranges'\n",
    "\n",
    "storing_path =  exp_path / 'plots'\n",
    "SAVE = False\n",
    "if SAVE:\n",
    "    storing_path.mkdir(parents=True, exist_ok=True)\n"
   ],
   "id": "358dfd8da4148966",
   "outputs": [],
   "execution_count": null
  },
  {
   "metadata": {},
   "cell_type": "code",
   "source": [
    "def load_dict_json(filepath):\n",
    "    try:\n",
    "        with open(filepath, 'r', encoding='utf-8') as f:\n",
    "            return json.load(f)\n",
    "    except Exception as e:\n",
    "        print(f\"Error loading dictionary: {e}\")\n",
    "        return None\n",
    "\n",
    "def extend_to_max_len(bs):\n",
    "    max_sig_len = max([len(v) for v in bs.values()])\n",
    "    for key in bs:\n",
    "        current_len = len(bs[key])\n",
    "        if current_len < max_sig_len:\n",
    "            padding = [np.nan] * (max_sig_len - current_len)\n",
    "            bs[key].extend(padding)\n",
    "    return bs\n",
    "\n",
    "def dict_to_excel(data: Dict[str, Dict[str, Any]], filepath: str) -> None:\n",
    "    try:\n",
    "        with pd.ExcelWriter(filepath, engine='openpyxl') as writer:\n",
    "            for sheet_name, sheet_data in data.items():\n",
    "                df = pd.DataFrame(sheet_data)\n",
    "                df.to_excel(writer, sheet_name=sheet_name, index=False)\n",
    "                \n",
    "        print(f\"Successfully saved to {filepath}\")\n",
    "        \n",
    "    except Exception as e:\n",
    "        print(f\"Error saving to Excel: {e}\")"
   ],
   "id": "aebfd5ff920ad27c",
   "outputs": [],
   "execution_count": null
  },
  {
   "metadata": {},
   "cell_type": "code",
   "source": [
    "signatures = {}\n",
    "for path in exp_path.rglob('*_signautres.json'):\n",
    "    sig_dicts = load_dict_json(path)\n",
    "    signatures[path.name.split('_signautres.json')[0]] = sig_dicts"
   ],
   "id": "838c10d568f758c9",
   "outputs": [],
   "execution_count": null
  },
  {
   "metadata": {},
   "cell_type": "code",
   "source": [
    "for key, value in signatures.keys():\n",
    "    signatures[key] = extend_to_max_len(value)"
   ],
   "id": "60f4f1d763c4193a",
   "outputs": [],
   "execution_count": null
  },
  {
   "metadata": {},
   "cell_type": "code",
   "source": "dict_to_excel(signatures, exp_path / 'signature_sets.xlsx')",
   "id": "610aa86aa4a7469f",
   "outputs": [],
   "execution_count": null
  }
 ],
 "metadata": {
  "kernelspec": {
   "display_name": "Python 3",
   "language": "python",
   "name": "python3"
  },
  "language_info": {
   "codemirror_mode": {
    "name": "ipython",
    "version": 2
   },
   "file_extension": ".py",
   "mimetype": "text/x-python",
   "name": "python",
   "nbconvert_exporter": "python",
   "pygments_lexer": "ipython2",
   "version": "2.7.6"
  }
 },
 "nbformat": 4,
 "nbformat_minor": 5
}
