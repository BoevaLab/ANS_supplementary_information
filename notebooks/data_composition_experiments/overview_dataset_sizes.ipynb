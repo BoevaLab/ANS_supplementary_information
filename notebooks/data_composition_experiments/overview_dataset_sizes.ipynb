{
 "cells": [
  {
   "cell_type": "code",
   "execution_count": null,
   "id": "87b127b8-de31-4743-9fb9-8d9af86394a7",
   "metadata": {},
   "outputs": [],
   "source": [
    "from pathlib import Path\n",
    "import scanpy as sc\n",
    "import sys\n",
    "sys.path.append('../..')\n",
    "from data.load_data import load_datasets"
   ]
  },
  {
   "cell_type": "code",
   "execution_count": null,
   "id": "2549466d-0b2a-483b-8d5a-2897ea31dd5e",
   "metadata": {},
   "outputs": [],
   "source": [
    "datasets = ['crc', 'escc', 'luad_xing', 'breast_small', 'breast_malignant',\n",
    "            'melanoma', 'luad_kim_malignant', 'luad_kim_malignant_2', 'skin_malignant', 'skin_malignant_2',\n",
    "            'ovarian_malignant', 'ovarian_malignant_2',\n",
    "            'pbmc_b_mono_nk', 'pbmc_b_subtypes', 'pbmc_cd4_subtypes', 'pbmc_cd8_subtypes', 'pbmc']"
   ]
  },
  {
   "cell_type": "code",
   "execution_count": null,
   "id": "1b521be6-0988-4e21-95b0-428591246b02",
   "metadata": {},
   "outputs": [],
   "source": [
    "for ds in datasets:\n",
    "    adata = load_datasets(ds, preprocessed=True, norm_method='mean')\n",
    "    print(ds)\n",
    "    print(f\"{adata.shape[0]} cells\")\n",
    "    if 'pbmc' in ds:\n",
    "        print()\n",
    "        print()\n",
    "        continue \n",
    "        \n",
    "    print()\n",
    "    print()"
   ]
  }
 ],
 "metadata": {
  "kernelspec": {
   "display_name": "Python 3 (ipykernel)",
   "language": "python",
   "name": "python3"
  },
  "language_info": {
   "codemirror_mode": {
    "name": "ipython",
    "version": 3
   },
   "file_extension": ".py",
   "mimetype": "text/x-python",
   "name": "python",
   "nbconvert_exporter": "python",
   "pygments_lexer": "ipython3",
   "version": "3.9.18"
  }
 },
 "nbformat": 4,
 "nbformat_minor": 5
}
