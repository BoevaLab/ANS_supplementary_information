{
 "cells": [
  {
   "cell_type": "markdown",
   "id": "46e3f78d",
   "metadata": {},
   "source": [
    "### Notebook to generate UMAPs of CRC datasets"
   ]
  },
  {
   "cell_type": "code",
   "execution_count": null,
   "id": "99a6acc9",
   "metadata": {},
   "outputs": [],
   "source": [
    "import sys\n",
    "import os\n",
    "import pandas as pd\n",
    "import numpy as np\n",
    "import scanpy as sc\n",
    "import matplotlib.pyplot as plt\n",
    "import seaborn as sns\n",
    "from tqdm import tqdm\n",
    "from pathlib import Path\n",
    "\n",
    "sys.path.append('../..')\n",
    "from data.load_data import load_datasets\n",
    "from data.constants import BASE_PATH_EXPERIMENTS"
   ]
  },
  {
   "cell_type": "code",
   "execution_count": null,
   "id": "504af2d2",
   "metadata": {},
   "outputs": [],
   "source": [
    "save = True\n",
    "storing_path = Path(BASE_PATH_EXPERIMENTS, \"data_composition_experiments\", \"crc_umaps\")\n",
    "if save:\n",
    "    storing_path.mkdir(parents=True, exist_ok=True)"
   ]
  },
  {
   "cell_type": "code",
   "execution_count": null,
   "id": "dbed2188",
   "metadata": {},
   "outputs": [],
   "source": [
    "adata = load_datasets('crc')"
   ]
  },
  {
   "cell_type": "code",
   "execution_count": null,
   "id": "ec514a4d",
   "metadata": {},
   "outputs": [],
   "source": [
    "adata"
   ]
  },
  {
   "cell_type": "code",
   "execution_count": null,
   "id": "cc040c52",
   "metadata": {},
   "outputs": [],
   "source": [
    "sc.pp.neighbors(adata)\n",
    "sc.tl.umap(adata)"
   ]
  },
  {
   "cell_type": "code",
   "execution_count": null,
   "id": "2f7db658",
   "metadata": {},
   "outputs": [],
   "source": [
    "fig = sc.pl.umap(adata, color=['sample_id','SINGLECELL_TYPE', 'celltype'], ncols=1, return_fig=True)\n",
    "\n",
    "if save:\n",
    "    fn = storing_path / \"crc_umap.png\"\n",
    "    fig.savefig(fn, dpi=600, bbox_inches='tight')\n",
    "    fn = storing_path / \"crc_umap.pdf\"\n",
    "    fig.savefig(fn, bbox_inches='tight')\n",
    "    fn = storing_path / \"crc_umap.svg\"\n",
    "    fig.savefig(fn, bbox_inches='tight')\n",
    "    plt.close(fig)\n",
    "    print(f\"Saved umap to {fn}\")\n",
    "else:\n",
    "    plt.show(fig)\n",
    "\n"
   ]
  }
 ],
 "metadata": {
  "kernelspec": {
   "display_name": "ans_scoring",
   "language": "python",
   "name": "python3"
  },
  "language_info": {
   "codemirror_mode": {
    "name": "ipython",
    "version": 3
   },
   "file_extension": ".py",
   "mimetype": "text/x-python",
   "name": "python",
   "nbconvert_exporter": "python",
   "pygments_lexer": "ipython3",
   "version": "3.9.18"
  }
 },
 "nbformat": 4,
 "nbformat_minor": 5
}
