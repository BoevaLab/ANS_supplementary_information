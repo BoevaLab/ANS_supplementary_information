{
 "cells": [
  {
   "cell_type": "code",
   "execution_count": null,
   "id": "15719977",
   "metadata": {},
   "outputs": [],
   "source": [
    "import os \n",
    "import sys\n",
    "import pandas as pd\n",
    "import seaborn as sns\n",
    "import matplotlib.pyplot as plt\n",
    "\n",
    "sys.path.append('../..')\n",
    "\n",
    "from data.constants import BASE_PATH_EXPERIMENTS, BASE_PATH_DRIVE"
   ]
  },
  {
   "cell_type": "code",
   "execution_count": null,
   "id": "0499b1b7",
   "metadata": {},
   "outputs": [],
   "source": [
    "crc_scores = pd.read_csv(os.path.join(BASE_PATH_EXPERIMENTS, 'data_composition_experiments/crc/mean_norm/dgex_on_pseudobulk/crc_adata_obs.csv'))"
   ]
  },
  {
   "cell_type": "code",
   "execution_count": null,
   "id": "b4253efa",
   "metadata": {},
   "outputs": [],
   "source": [
    "escc_scores = pd.read_csv(os.path.join(BASE_PATH_EXPERIMENTS, 'data_composition_experiments/escc/mean_norm/dgex_on_pseudobulk/escc_adata_obs.csv'))"
   ]
  },
  {
   "cell_type": "code",
   "execution_count": null,
   "id": "5a9ef45c",
   "metadata": {},
   "outputs": [],
   "source": [
    "subnames = ['Scanpy', 'Tirosh', 'ANS', 'Jasmine', 'UCell']\n",
    "crc_scores_cols = [col for col in crc_scores.columns if any(map(col.__contains__, subnames))]\n",
    "escc_scores_cols = [col for col in escc_scores.columns if any(map(col.__contains__, subnames))]"
   ]
  },
  {
   "cell_type": "code",
   "execution_count": null,
   "id": "3b7d44f3",
   "metadata": {},
   "outputs": [],
   "source": [
    "crc_scores.SINGLECELL_TYPE.value_counts()"
   ]
  },
  {
   "cell_type": "code",
   "execution_count": null,
   "id": "d44bdd40",
   "metadata": {},
   "outputs": [],
   "source": [
    "crc_SC3Pv2_scores = crc_scores[crc_scores.SINGLECELL_TYPE == 'SC3Pv2' ][['malignant_key'] + crc_scores_cols].copy()\n",
    "crc_SC3Pv2_scores['dataset'] = 'CRC_SC3Pv2'\n",
    "crc_SC3Pv3_scores = crc_scores[crc_scores.SINGLECELL_TYPE == 'SC3Pv3' ][['malignant_key'] + crc_scores_cols].copy()\n",
    "crc_SC3Pv3_scores['dataset'] = 'CRC_SC3Pv3'\n",
    "escc_scores_cols = escc_scores[['malignant_key'] + escc_scores_cols].copy()\n",
    "escc_scores_cols['dataset'] = 'ESCC'"
   ]
  },
  {
   "cell_type": "code",
   "execution_count": null,
   "id": "d754e962",
   "metadata": {},
   "outputs": [],
   "source": [
    "data = pd.concat([crc_SC3Pv2_scores, crc_SC3Pv3_scores, escc_scores_cols], axis=0)"
   ]
  },
  {
   "cell_type": "code",
   "execution_count": null,
   "id": "73006f5b",
   "metadata": {},
   "outputs": [],
   "source": [
    "data"
   ]
  },
  {
   "cell_type": "code",
   "execution_count": null,
   "id": "f376618f",
   "metadata": {},
   "outputs": [],
   "source": [
    "data = data.groupby(['dataset', 'malignant_key']).var()"
   ]
  },
  {
   "cell_type": "code",
   "execution_count": null,
   "id": "8fb2bd27",
   "metadata": {},
   "outputs": [],
   "source": [
    "data = data.reset_index()"
   ]
  },
  {
   "cell_type": "code",
   "execution_count": null,
   "id": "f1482efd",
   "metadata": {},
   "outputs": [],
   "source": [
    "data = data.melt(id_vars=['dataset', 'malignant_key'],\n",
    "                 var_name='scoring_method',\n",
    "                 value_name='score')"
   ]
  },
  {
   "cell_type": "code",
   "execution_count": null,
   "id": "df7cfbaf",
   "metadata": {},
   "outputs": [],
   "source": [
    "# name_mapping = {'all_samples': 'Scoring all samples together',\n",
    "#                     'si_ppas': 'Scoring each sample individually (preprocessed together)',\n",
    "#                     'si_ppsi': 'Scoring each sample individually (preprocessed independently)',\n",
    "#                     }\n",
    "name_mapping = {'all_samples': 'Scoring all samples together',\n",
    "                    'si_ppas': 'not_used',\n",
    "                    'si_ppsi': 'Scoring each sample individually',\n",
    "                    }\n",
    "\n",
    "data['scoring_mode'] = data.scoring_method.apply(lambda x: name_mapping['_'.join(x.split('_')[-2:])])\n",
    "data['scoring_method'] = data.scoring_method.apply(lambda x: '_'.join(x.split('_')[0:-4]))\n",
    "data = data[data.scoring_mode!='not_used'].copy()"
   ]
  },
  {
   "cell_type": "code",
   "execution_count": null,
   "id": "531fd9df",
   "metadata": {},
   "outputs": [],
   "source": [
    "data.scoring_method.unique()"
   ]
  },
  {
   "cell_type": "code",
   "execution_count": null,
   "id": "174b1500",
   "metadata": {},
   "outputs": [],
   "source": [
    "sc_method_name_mapping = {\n",
    "    'ANS':'ANS', \n",
    "    'Tirosh':'Seurat',\n",
    "    'Tirosh_AG':'Seurat_AG',\n",
    "    'Tirosh_LVG':'Seurat_LVG',\n",
    "    'Scanpy':'Scanpy',\n",
    "    'Jasmine_LH':'Jasmine_LH',\n",
    "    'Jasmine_OR':'Jasmine_OR',\n",
    "    'UCell':'UCell',\n",
    "}\n",
    "data['scoring_method'] = data['scoring_method'].map(sc_method_name_mapping)"
   ]
  },
  {
   "cell_type": "code",
   "execution_count": null,
   "id": "7234f57e",
   "metadata": {},
   "outputs": [],
   "source": [
    "data['ds_method'] = data.apply(lambda x: f\"{x.dataset}_{x.scoring_method}\", axis=1)"
   ]
  },
  {
   "cell_type": "code",
   "execution_count": null,
   "id": "259ce723",
   "metadata": {},
   "outputs": [],
   "source": [
    "data.scoring_mode.unique()"
   ]
  },
  {
   "cell_type": "code",
   "execution_count": null,
   "id": "e320c94c",
   "metadata": {},
   "outputs": [],
   "source": [
    "# order=['Scoring each sample individually (preprocessed independently)',\n",
    "#                        'Scoring each sample individually (preprocessed together)',\n",
    "#                        'Scoring all samples together']\n",
    "order=['Scoring each sample individually',\n",
    "       'Scoring all samples together']"
   ]
  },
  {
   "cell_type": "code",
   "execution_count": null,
   "id": "988d9b7b",
   "metadata": {},
   "outputs": [],
   "source": [
    "data.groupby(['dataset', 'scoring_method', 'malignant_key']).apply(print)"
   ]
  },
  {
   "cell_type": "code",
   "execution_count": null,
   "id": "89d31963",
   "metadata": {},
   "outputs": [],
   "source": [
    "tmp = data.groupby(['dataset', 'scoring_method', 'malignant_key']).apply(lambda x: x.score.diff().values[1])"
   ]
  },
  {
   "cell_type": "code",
   "execution_count": null,
   "id": "9ac0b023",
   "metadata": {},
   "outputs": [],
   "source": [
    "display(tmp)"
   ]
  },
  {
   "cell_type": "code",
   "execution_count": null,
   "id": "83bdbf65",
   "metadata": {},
   "outputs": [],
   "source": [
    "import textwrap\n",
    "\n",
    "def wrap_labels(ax, width, break_long_words=False):\n",
    "    \"\"\"\n",
    "    Method to wrap ticklabels to a certain length.\n",
    "    Args:\n",
    "        ax: Figure axis\n",
    "        width: Desired max width of a label before breaking.\n",
    "        break_long_words: Indicate whether long words should be broken.\n",
    "    \"\"\"\n",
    "    labels = []\n",
    "    for label in ax.get_xticklabels():\n",
    "        text = label.get_text()\n",
    "        labels.append(textwrap.fill(text, width=width,\n",
    "                                    break_long_words=break_long_words))\n",
    "    ax.set_xticklabels(labels, rotation=0)"
   ]
  },
  {
   "cell_type": "code",
   "execution_count": null,
   "id": "584f2675",
   "metadata": {},
   "outputs": [],
   "source": [
    "row_order = ['ANS', 'Seurat', 'Seurat_AG','Seurat_LVG','Scanpy' ,'Jasmine_LH','Jasmine_OR', 'UCell']\n",
    "cm = 1 / 2.54  # centimeters in inches"
   ]
  },
  {
   "cell_type": "code",
   "execution_count": null,
   "id": "fed0a073",
   "metadata": {
    "scrolled": false
   },
   "outputs": [],
   "source": [
    "plt.rcParams.update({'pdf.fonttype':42, 'font.family':'sans-serif', 'font.sans-serif':'Arial', 'font.size':10})\n",
    "\n",
    "g = sns.catplot(data=data, \n",
    "                x=\"scoring_mode\", \n",
    "                y=\"score\", \n",
    "                hue=\"dataset\", \n",
    "                row = 'scoring_method',\n",
    "                row_order = row_order,\n",
    "                col='malignant_key', \n",
    "                kind=\"point\",\n",
    "                order=order,\n",
    "                height=3*cm,\n",
    "                aspect=1.5,\n",
    "               )\n",
    "for ax in g.axes[-1,:]:\n",
    "        wrap_labels(ax, 15, break_long_words=False)\n",
    "        \n",
    "g.set_xlabels(\"\")\n",
    "# g.set_ylabels(\"Variance\")\n",
    "g.set_titles(\"\")\n",
    "g.axes[0,0].set_title('Malignant cells',fontsize=10)\n",
    "g.axes[0,1].set_title('Non-malignant cells',fontsize=10)\n",
    "\n",
    "for ax, title in zip(g.axes[:,0], row_order):\n",
    "    ax.set_ylabel(f\"{title} \\nscore std\", fontsize=10, rotation=90)\n",
    "#     ax.yaxis.set_label_position(\"right\")\n",
    "    \n",
    "plt.subplots_adjust(wspace=0.4)\n",
    "plt.subplots_adjust(hspace=0.6)\n",
    "\n",
    "g.fig.tight_layout()\n",
    "\n",
    "g.fig.savefig(os.path.join(BASE_PATH_DRIVE,'figures/supplementary/benchmark/score_variances.pdf', format='pdf'))"
   ]
  },
  {
   "cell_type": "code",
   "execution_count": null,
   "id": "4a4b2ed5",
   "metadata": {},
   "outputs": [],
   "source": []
  }
 ],
 "metadata": {
  "kernelspec": {
   "display_name": "Python 3 (ipykernel)",
   "language": "python",
   "name": "python3"
  },
  "language_info": {
   "codemirror_mode": {
    "name": "ipython",
    "version": 3
   },
   "file_extension": ".py",
   "mimetype": "text/x-python",
   "name": "python",
   "nbconvert_exporter": "python",
   "pygments_lexer": "ipython3",
   "version": "3.8.12"
  }
 },
 "nbformat": 4,
 "nbformat_minor": 5
}
