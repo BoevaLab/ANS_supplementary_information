{
 "cells": [
  {
   "cell_type": "code",
   "execution_count": null,
   "id": "80a0b1dd",
   "metadata": {
    "ExecuteTime": {
     "end_time": "2023-06-09T14:22:39.826086690Z",
     "start_time": "2023-06-09T14:22:39.152540287Z"
    }
   },
   "outputs": [],
   "source": [
    "import sys\n",
    "import scanpy as sc \n",
    "import random\n",
    "import glob\n",
    "import os\n",
    "import scipy as sp\n",
    "import csv\n",
    "\n",
    "import pandas as pd\n",
    "import seaborn as sns \n",
    "import matplotlib.pyplot as plt\n",
    "import pyreadr\n",
    "\n",
    "from signaturescoring import score_signature\n",
    "\n",
    "sys.path.append('../..')\n",
    "from data.load_data import load_datasets, load_dgex_genes_for_mal_cells\n",
    "from data.constants import BASE_PATH_DATA, BASE_PATH_EXPERIMENTS\n",
    "\n",
    "sc.settings.verbosity = 2"
   ]
  },
  {
   "cell_type": "code",
   "execution_count": null,
   "id": "02396c01",
   "metadata": {
    "ExecuteTime": {
     "end_time": "2023-06-09T14:22:39.826307982Z",
     "start_time": "2023-06-09T14:22:39.817442199Z"
    }
   },
   "outputs": [],
   "source": [
    "datasets = ['crc', 'escc','luad']"
   ]
  },
  {
   "cell_type": "code",
   "execution_count": null,
   "id": "84c80138",
   "metadata": {
    "ExecuteTime": {
     "end_time": "2023-06-09T14:22:39.852624460Z",
     "start_time": "2023-06-09T14:22:39.824225455Z"
    }
   },
   "outputs": [],
   "source": [
    "def load_adata_gene_list(dataset, sig_len=100):\n",
    "    adata = load_datasets(dataset)\n",
    "    wc = load_dgex_genes_for_mal_cells(dataset)\n",
    "    wc = wc.sort_values(by=['padj', 'log2FoldChange'], ascending=[True, False])\n",
    "    gene_list = wc[0:sig_len].genes.tolist()\n",
    "    return adata, gene_list"
   ]
  },
  {
   "cell_type": "code",
   "execution_count": null,
   "id": "50ee57fc",
   "metadata": {
    "ExecuteTime": {
     "end_time": "2023-06-09T14:24:34.530841530Z",
     "start_time": "2023-06-09T14:22:39.841113100Z"
    }
   },
   "outputs": [],
   "source": [
    "adatas = {}\n",
    "gene_lists = {}\n",
    "for ds in datasets:\n",
    "    adatas[ds], gene_lists[ds] = load_adata_gene_list(ds)"
   ]
  },
  {
   "cell_type": "code",
   "execution_count": null,
   "id": "3ca1fd0c",
   "metadata": {
    "ExecuteTime": {
     "end_time": "2023-06-09T14:24:34.534693730Z",
     "start_time": "2023-06-09T14:24:34.532753415Z"
    }
   },
   "outputs": [],
   "source": [
    "base_path = os.path.join(BASE_PATH_EXPERIMENTS,'construction_scoring_methods/')"
   ]
  },
  {
   "cell_type": "code",
   "execution_count": null,
   "id": "b20bc728",
   "metadata": {
    "ExecuteTime": {
     "end_time": "2023-06-09T14:24:34.645209614Z",
     "start_time": "2023-06-09T14:24:34.534955162Z"
    }
   },
   "outputs": [],
   "source": [
    "fns = glob.glob(os.path.join(base_path, '*_sample_cells.csv'))\n",
    "fns.sort()\n",
    "fns\n",
    "for fn in fns:\n",
    "    ds = (os.path.basename(fn)).split('_')[0]\n",
    "    if ds not in datasets:\n",
    "        continue\n",
    "    samples = pd.read_csv(fn).columns.tolist()\n",
    "    adatas[ds] = adatas[ds][samples,:].copy()"
   ]
  },
  {
   "cell_type": "code",
   "execution_count": null,
   "id": "33225956",
   "metadata": {
    "ExecuteTime": {
     "end_time": "2023-06-09T14:24:34.645447968Z",
     "start_time": "2023-06-09T14:24:34.643332093Z"
    }
   },
   "outputs": [],
   "source": [
    "for ds in datasets:\n",
    "    print(ds, adatas[ds].shape)"
   ]
  },
  {
   "cell_type": "markdown",
   "id": "9ad18ba2",
   "metadata": {},
   "source": [
    "### Load data from R"
   ]
  },
  {
   "cell_type": "code",
   "execution_count": null,
   "id": "82644085",
   "metadata": {
    "ExecuteTime": {
     "end_time": "2023-06-09T14:24:34.692248069Z",
     "start_time": "2023-06-09T14:24:34.647101974Z"
    }
   },
   "outputs": [],
   "source": [
    "def get_ranked_data(dataset):\n",
    "    path = os.path.join(BASE_PATH_EXPERIMENTS, f'construction_scoring_methods/{dataset}_debug_data_ranked.rds')\n",
    "    result = pyreadr.read_r(path) # also works for RData\n",
    "    df = result[None]\n",
    "    df = df.set_index('rn')\n",
    "    return df.T\n",
    "\n",
    "def get_ucell_scores_R(dataset):\n",
    "    path = os.path.join(BASE_PATH_EXPERIMENTS, f'construction_scoring_methods/{dataset}_debug_ucell_scores.csv')\n",
    "    df = pd.read_csv(path)\n",
    "    df = df.set_index('Unnamed: 0')\n",
    "    df.index.name = None\n",
    "    return df"
   ]
  },
  {
   "cell_type": "code",
   "execution_count": null,
   "id": "c2792954",
   "metadata": {
    "ExecuteTime": {
     "end_time": "2023-06-09T14:24:34.856855432Z",
     "start_time": "2023-06-09T14:24:34.689882146Z"
    }
   },
   "outputs": [],
   "source": [
    "ranked_data = {}\n",
    "for ds in datasets:\n",
    "    ranked_df = get_ranked_data(ds)\n",
    "    ranked_df.columns.name = None\n",
    "    ranked_data[ds] = ranked_df"
   ]
  },
  {
   "cell_type": "code",
   "execution_count": null,
   "id": "39239a5f",
   "metadata": {
    "ExecuteTime": {
     "end_time": "2023-06-09T14:24:34.902074338Z",
     "start_time": "2023-06-09T14:24:34.859071176Z"
    }
   },
   "outputs": [],
   "source": [
    "for ds in datasets:\n",
    "    adatas[ds].obs['UCell_R'] = get_ucell_scores_R(ds)"
   ]
  },
  {
   "cell_type": "markdown",
   "id": "459c49c6",
   "metadata": {},
   "source": [
    "## Load ranks from UCell_python"
   ]
  },
  {
   "cell_type": "code",
   "execution_count": null,
   "id": "31276457",
   "metadata": {
    "ExecuteTime": {
     "end_time": "2023-06-09T14:24:34.902239481Z",
     "start_time": "2023-06-09T14:24:34.901922529Z"
    }
   },
   "outputs": [],
   "source": [
    "def get_ranked_data_python(dataset):\n",
    "    path = os.path.join(BASE_PATH_EXPERIMENTS,f'construction_scoring_methods/ranks_python_{dataset}.csv')\n",
    "    df = pd.read_csv(path)\n",
    "    df = df.set_index(df.columns[0])\n",
    "    df.index.name = None\n",
    "    return df"
   ]
  },
  {
   "cell_type": "code",
   "execution_count": null,
   "id": "2351de4f",
   "metadata": {
    "ExecuteTime": {
     "end_time": "2023-06-09T14:24:36.698190037Z",
     "start_time": "2023-06-09T14:24:34.902184649Z"
    }
   },
   "outputs": [],
   "source": [
    "ranked_data_python = {}\n",
    "for ds in datasets:\n",
    "    ranked_df = get_ranked_data_python(ds)\n",
    "    ranked_data_python[ds] = ranked_df"
   ]
  },
  {
   "cell_type": "markdown",
   "id": "23454959",
   "metadata": {},
   "source": [
    "Check rank matrices"
   ]
  },
  {
   "cell_type": "code",
   "execution_count": null,
   "id": "9114a065",
   "metadata": {
    "ExecuteTime": {
     "end_time": "2023-06-09T14:24:36.698676847Z",
     "start_time": "2023-06-09T14:24:36.690179579Z"
    }
   },
   "outputs": [],
   "source": [
    "def get_rank_mat(dataset):\n",
    "    r_vers = ranked_data[dataset]\n",
    "    py_vers = ranked_data_python[dataset]\n",
    "    if dataset=='luad':\n",
    "        r_vers.columns = r_vers.columns.str.replace('-ENS','_ENS')\n",
    "    if dataset=='escc':\n",
    "        r_vers.columns = r_vers.columns.str.replace('--B.1','__B.1')\n",
    "    return r_vers, py_vers\n",
    "\n",
    "def compare_rank_mat(dataset):\n",
    "    r_vers, py_vers = get_rank_mat(dataset)\n",
    "\n",
    "    print(r_vers.shape, py_vers.shape)\n",
    "    cell_intesec = len(set(r_vers.index).intersection(py_vers.index))\n",
    "    gene_intersec = len(set(r_vers.columns).intersection(py_vers.columns))\n",
    "    print(cell_intesec, gene_intersec)\n",
    "    if (cell_intesec, gene_intersec) == r_vers.shape:\n",
    "        print(all(py_vers == r_vers))\n",
    "    else:\n",
    "        print(set(r_vers.index).difference(py_vers.index))\n",
    "        print(set(py_vers.index).difference(r_vers.index))\n",
    "        print(set(r_vers.columns).difference(py_vers.columns))\n",
    "        print(set(py_vers.columns).difference(r_vers.columns))"
   ]
  },
  {
   "cell_type": "code",
   "execution_count": null,
   "id": "394483f2",
   "metadata": {
    "ExecuteTime": {
     "end_time": "2023-06-09T14:24:36.738793921Z",
     "start_time": "2023-06-09T14:24:36.693340243Z"
    }
   },
   "outputs": [],
   "source": [
    "for ds in datasets:\n",
    "    print(f'Dataset {ds.upper()}')\n",
    "    compare_rank_mat(ds)"
   ]
  },
  {
   "cell_type": "code",
   "execution_count": null,
   "id": "67c6c058",
   "metadata": {
    "ExecuteTime": {
     "end_time": "2023-06-09T14:24:36.738895821Z",
     "start_time": "2023-06-09T14:24:36.737296695Z"
    }
   },
   "outputs": [],
   "source": [
    "curr_ds = 'escc'"
   ]
  },
  {
   "cell_type": "code",
   "execution_count": null,
   "id": "21c0f7c9",
   "metadata": {
    "ExecuteTime": {
     "end_time": "2023-06-09T14:24:36.785304999Z",
     "start_time": "2023-06-09T14:24:36.739732247Z"
    }
   },
   "outputs": [],
   "source": [
    "r_vers, py_vers = get_rank_mat(curr_ds)"
   ]
  },
  {
   "cell_type": "code",
   "execution_count": null,
   "id": "03ca682e",
   "metadata": {
    "ExecuteTime": {
     "end_time": "2023-06-09T14:24:36.785458220Z",
     "start_time": "2023-06-09T14:24:36.781885646Z"
    }
   },
   "outputs": [],
   "source": [
    "gls = gene_lists[curr_ds]"
   ]
  },
  {
   "cell_type": "code",
   "execution_count": null,
   "id": "928e0ece",
   "metadata": {},
   "outputs": [],
   "source": [
    "import numpy as np"
   ]
  },
  {
   "cell_type": "code",
   "execution_count": null,
   "id": "a7b694da",
   "metadata": {
    "ExecuteTime": {
     "end_time": "2023-06-09T14:24:36.840788599Z",
     "start_time": "2023-06-09T14:24:36.781966536Z"
    }
   },
   "outputs": [],
   "source": [
    "def u_stat(rank_value, maxRank=1500):\n",
    "    \"\"\"\n",
    "    The method computes the U statistic on signature gene ranks.\n",
    "    Args:\n",
    "        rank_value: Ranks of the signature genes.\n",
    "        maxRank: Cutoff for maximum rank allowed.\n",
    "\n",
    "    Returns:\n",
    "        The U statistic for given signature gene ranks.\n",
    "    \"\"\"\n",
    "    \n",
    "    insig = rank_value > maxRank\n",
    "    print(insig)\n",
    "    if np.all(insig):\n",
    "        return 0\n",
    "    else:\n",
    "        rank_value[insig] = maxRank + 1       \n",
    "        rank_sum = rank_value.sum()\n",
    "        len_sig = len(rank_value)\n",
    "        u_value = rank_sum - (len_sig * (len_sig + 1)) / 2\n",
    "        auc = 1 - u_value / (len_sig * maxRank)\n",
    "        print(auc)\n",
    "        return auc"
   ]
  },
  {
   "cell_type": "code",
   "execution_count": null,
   "id": "b5515ed6",
   "metadata": {},
   "outputs": [],
   "source": [
    "cell_id = 'P83T-E-GGTATTGCACCGTTGG-3-P83T'\n",
    "# cell_id = 'P128T-I-GGTGAAGTCCTCTAGC-5-P128T'"
   ]
  },
  {
   "cell_type": "code",
   "execution_count": null,
   "id": "0b662032",
   "metadata": {
    "ExecuteTime": {
     "end_time": "2023-06-09T14:24:36.845108008Z",
     "start_time": "2023-06-09T14:24:36.825867624Z"
    }
   },
   "outputs": [],
   "source": [
    "res = py_vers[gls].copy()\n",
    "# res = py_vers[gls].iloc[[0],:].copy()\n",
    "# res = py_vers[gls].loc[[cell_id],:].copy()\n",
    "\n",
    "score_raw = res.apply(\n",
    "    func=(lambda x: u_stat(x, maxRank=1500)),\n",
    "    axis=1,\n",
    "    raw=True,\n",
    ")\n",
    "print('No raw')\n",
    "res = py_vers[gls].copy()\n",
    "# res = py_vers[gls].iloc[[0],:].copy()\n",
    "# res = py_vers[gls].loc[[cell_id],:].copy()\n",
    "\n",
    "score_pd = res.apply(\n",
    "    func=(lambda x: u_stat(x, maxRank=1500)),\n",
    "    axis=1,\n",
    "    raw=False\n",
    ")\n"
   ]
  },
  {
   "cell_type": "code",
   "execution_count": null,
   "id": "4290ee8c",
   "metadata": {},
   "outputs": [],
   "source": [
    "score_raw"
   ]
  },
  {
   "cell_type": "code",
   "execution_count": null,
   "id": "d4d9302b",
   "metadata": {},
   "outputs": [],
   "source": [
    "score_raw.value_counts()"
   ]
  },
  {
   "cell_type": "code",
   "execution_count": null,
   "id": "472c5c7f",
   "metadata": {},
   "outputs": [],
   "source": [
    "score_raw, score_pd"
   ]
  },
  {
   "cell_type": "code",
   "execution_count": null,
   "id": "6fa4d928",
   "metadata": {},
   "outputs": [],
   "source": [
    "score_raw.loc[cell_id], score_pd.loc[cell_id]"
   ]
  },
  {
   "cell_type": "code",
   "execution_count": null,
   "id": "cdf46470",
   "metadata": {},
   "outputs": [],
   "source": [
    "u_stat(np.array(res.loc[cell_id].to_list()))"
   ]
  },
  {
   "cell_type": "code",
   "execution_count": null,
   "id": "e1792dbd",
   "metadata": {},
   "outputs": [],
   "source": [
    "u_stat(res.loc[cell_id])"
   ]
  },
  {
   "cell_type": "code",
   "execution_count": null,
   "id": "0b8ee4d3",
   "metadata": {},
   "outputs": [],
   "source": [
    "score_raw.compare(score_pd)"
   ]
  },
  {
   "cell_type": "code",
   "execution_count": null,
   "id": "2126a8a0",
   "metadata": {
    "ExecuteTime": {
     "end_time": "2023-06-09T14:24:36.845193792Z",
     "start_time": "2023-06-09T14:24:36.825986812Z"
    }
   },
   "outputs": [],
   "source": [
    "sum(score_raw!=adatas[curr_ds].obs.UCell_R), sum(score_pd!=adatas[curr_ds].obs.UCell_R)"
   ]
  },
  {
   "cell_type": "code",
   "execution_count": null,
   "id": "c6ae9216",
   "metadata": {
    "ExecuteTime": {
     "end_time": "2023-06-09T14:24:36.877308877Z",
     "start_time": "2023-06-09T14:24:36.826042096Z"
    }
   },
   "outputs": [],
   "source": [
    "(score_raw-adatas[curr_ds].obs.UCell_R).abs().max(), (score_pd-adatas[curr_ds].obs.UCell_R).abs().max()"
   ]
  },
  {
   "cell_type": "code",
   "execution_count": null,
   "id": "b5a7ee3f",
   "metadata": {},
   "outputs": [],
   "source": [
    "(score_raw-adatas[curr_ds].obs.UCell_R).abs().argmax()"
   ]
  },
  {
   "cell_type": "code",
   "execution_count": null,
   "id": "ea3e63c8",
   "metadata": {},
   "outputs": [],
   "source": [
    "score_raw.iloc[96] - adatas[curr_ds].obs.UCell_R.iloc[96]"
   ]
  },
  {
   "cell_type": "code",
   "execution_count": null,
   "id": "0487b8c3",
   "metadata": {},
   "outputs": [],
   "source": []
  },
  {
   "cell_type": "code",
   "execution_count": null,
   "id": "125adb9c",
   "metadata": {},
   "outputs": [],
   "source": []
  },
  {
   "cell_type": "code",
   "execution_count": null,
   "id": "57b66377",
   "metadata": {},
   "outputs": [],
   "source": []
  },
  {
   "cell_type": "code",
   "execution_count": null,
   "id": "d5e63d87",
   "metadata": {},
   "outputs": [],
   "source": []
  },
  {
   "cell_type": "code",
   "execution_count": null,
   "id": "62a1b30e",
   "metadata": {},
   "outputs": [],
   "source": []
  },
  {
   "cell_type": "code",
   "execution_count": null,
   "id": "654a211d",
   "metadata": {},
   "outputs": [],
   "source": []
  },
  {
   "cell_type": "code",
   "execution_count": null,
   "id": "d90fba8a",
   "metadata": {
    "ExecuteTime": {
     "end_time": "2023-06-09T14:24:36.877451269Z",
     "start_time": "2023-06-09T14:24:36.869857324Z"
    }
   },
   "outputs": [],
   "source": [
    "cell_id = 'C171_TA_1_1_1_c1_v3_id-GAGGGTACAAGAGTTA-C171'"
   ]
  },
  {
   "cell_type": "code",
   "execution_count": null,
   "id": "7e6a5959",
   "metadata": {
    "ExecuteTime": {
     "end_time": "2023-06-09T14:24:36.888418299Z",
     "start_time": "2023-06-09T14:24:36.869943809Z"
    }
   },
   "outputs": [],
   "source": [
    "all(r_vers.loc[cell_id] == py_vers.loc[cell_id])"
   ]
  },
  {
   "cell_type": "code",
   "execution_count": null,
   "id": "6a98d615",
   "metadata": {
    "ExecuteTime": {
     "end_time": "2023-06-09T14:24:36.916592543Z",
     "start_time": "2023-06-09T14:24:36.883923733Z"
    }
   },
   "outputs": [],
   "source": [
    "r_vers.loc[cell_id, gls]"
   ]
  },
  {
   "cell_type": "code",
   "execution_count": null,
   "id": "a2808f0f",
   "metadata": {
    "ExecuteTime": {
     "end_time": "2023-06-09T14:24:36.948506860Z",
     "start_time": "2023-06-09T14:24:36.900962772Z"
    }
   },
   "outputs": [],
   "source": [
    "score.loc[cell_id]"
   ]
  },
  {
   "cell_type": "code",
   "execution_count": null,
   "id": "15742c67",
   "metadata": {
    "ExecuteTime": {
     "end_time": "2023-06-09T14:24:36.948649664Z",
     "start_time": "2023-06-09T14:24:36.941816382Z"
    }
   },
   "outputs": [],
   "source": [
    "adatas[curr_ds].obs.UCell_R.loc[cell_id]"
   ]
  },
  {
   "cell_type": "code",
   "execution_count": null,
   "id": "362b8281",
   "metadata": {
    "ExecuteTime": {
     "end_time": "2023-06-09T14:24:36.991127693Z",
     "start_time": "2023-06-09T14:24:36.941901653Z"
    }
   },
   "outputs": [],
   "source": [
    "rank_value = r_vers.loc[cell_id, gls]\n",
    "maxRank = 1500"
   ]
  },
  {
   "cell_type": "code",
   "execution_count": null,
   "id": "8d46ce9c",
   "metadata": {
    "ExecuteTime": {
     "end_time": "2023-06-09T14:24:36.991258032Z",
     "start_time": "2023-06-09T14:24:36.989847603Z"
    }
   },
   "outputs": [],
   "source": [
    "insig = rank_value > maxRank\n",
    "if all(insig):\n",
    "    print(0)\n",
    "else:\n",
    "    rank_value[insig] = maxRank + 1\n",
    "    rank_sum = rank_value.sum()\n",
    "    len_sig = len(rank_value)\n",
    "    u_value = rank_sum - (len_sig * (len_sig + 1)) / 2\n",
    "    auc = 1 - u_value / (len_sig * maxRank)\n",
    "    print(auc)"
   ]
  },
  {
   "cell_type": "code",
   "execution_count": null,
   "id": "fbb1f9da",
   "metadata": {
    "ExecuteTime": {
     "end_time": "2023-06-09T14:24:37.047626097Z",
     "start_time": "2023-06-09T14:24:36.989929886Z"
    }
   },
   "outputs": [],
   "source": []
  },
  {
   "cell_type": "code",
   "execution_count": null,
   "id": "9683c662",
   "metadata": {
    "ExecuteTime": {
     "end_time": "2023-06-09T14:24:37.096742336Z",
     "start_time": "2023-06-09T14:24:37.042314487Z"
    }
   },
   "outputs": [],
   "source": []
  },
  {
   "cell_type": "code",
   "execution_count": null,
   "id": "11ab91d7",
   "metadata": {
    "ExecuteTime": {
     "end_time": "2023-06-09T14:24:37.096960694Z",
     "start_time": "2023-06-09T14:24:37.085915026Z"
    }
   },
   "outputs": [],
   "source": []
  },
  {
   "cell_type": "code",
   "execution_count": null,
   "id": "6ffbb019",
   "metadata": {
    "ExecuteTime": {
     "end_time": "2023-06-09T14:24:37.159447513Z",
     "start_time": "2023-06-09T14:24:37.085995953Z"
    }
   },
   "outputs": [],
   "source": []
  },
  {
   "cell_type": "code",
   "execution_count": null,
   "id": "13320203",
   "metadata": {
    "ExecuteTime": {
     "end_time": "2023-06-09T14:26:04.058949381Z",
     "start_time": "2023-06-09T14:26:04.055157917Z"
    }
   },
   "outputs": [],
   "source": [
    "import warnings\n",
    "from typing import Optional, List\n",
    "\n",
    "import numpy as np\n",
    "import pandas as pd\n",
    "import scanpy as sc\n",
    "from anndata import AnnData\n",
    "from joblib import Parallel, delayed\n",
    "from scanpy._utils import _check_use_raw\n",
    "from scipy.sparse import issparse, csr_matrix, isspmatrix_csr\n",
    "from scipy.stats import rankdata\n",
    "\n",
    "from signaturescoring.utils.utils import check_signature_genes\n",
    "\n",
    "\n",
    "def u_stat(rank_value, maxRank=1500):\n",
    "    \"\"\"\n",
    "    The method computes the U statistic on signature gene ranks.\n",
    "    Args:\n",
    "        rank_value: Ranks of the signature genes.\n",
    "        maxRank: Cutoff for maximum rank allowed.\n",
    "\n",
    "    Returns:\n",
    "        The U statistic for given signature gene ranks.\n",
    "    \"\"\"\n",
    "    insig = rank_value > maxRank\n",
    "    if all(insig):\n",
    "        return 0\n",
    "    else:\n",
    "        rank_value[insig] = maxRank + 1\n",
    "        rank_sum = rank_value.sum()\n",
    "        len_sig = len(rank_value)\n",
    "        u_value = rank_sum - (len_sig * (len_sig + 1)) / 2\n",
    "        auc = 1 - u_value / (len_sig * maxRank)\n",
    "        return auc\n",
    "\n",
    "\n",
    "def compute_ranks_and_ustat(X_data, index, columns, gene_list, X_indices=None, X_indptr=None, X_shape=None,\n",
    "                            maxRank=1500):\n",
    "    \"\"\"\n",
    "    The following method computes for each cell in `X_data` the UCell score.\n",
    "    Args:\n",
    "        X_data: Current batch of gene expression data.\n",
    "        index: Index of cells.\n",
    "        columns: Names of genes.\n",
    "        gene_list: Signature genes.\n",
    "        X_indices: For sparse matrix reconstruction indices. If None, method assumes `X_data` to be a dense matrix.\n",
    "        X_indptr: For sparse matrix reconstruction index pointers. If None, method assumes `X_data` to be a dense matrix.\n",
    "        X_shape: For sparse matrix reconstruction shape of original matrix. If None, method assumes `X_data` to be\n",
    "            a dense matrix.\n",
    "        maxRank:  Cutoff for maximum rank allowed.\n",
    "\n",
    "    Returns:\n",
    "        For each cell in X_data the method returns the UCell score.\n",
    "    \"\"\"\n",
    "    if any([x is None for x in [X_indices, X_indptr, X_shape]]):\n",
    "        data_df = pd.DataFrame(\n",
    "            X_data, index=index, columns=columns\n",
    "        )\n",
    "    else:\n",
    "        data_df = pd.DataFrame(\n",
    "            csr_matrix((X_data, X_indices, X_indptr), X_shape, copy=False).todense(), index=index, columns=columns\n",
    "        )\n",
    "\n",
    "    res = (data_df.apply(\n",
    "        lambda x: rankdata(-x),\n",
    "        axis=1,\n",
    "        raw=True\n",
    "    ))[gene_list]\n",
    "\n",
    "    del data_df\n",
    "\n",
    "    score = res.apply(\n",
    "        func=(lambda x: u_stat(x, maxRank=maxRank)),\n",
    "        axis=1,\n",
    "        raw=True\n",
    "    )\n",
    "    return score\n",
    "\n",
    "\n",
    "def score_genes(\n",
    "        adata: AnnData,\n",
    "        gene_list: List[str],\n",
    "        maxRank: int = 1500,\n",
    "        bs: int = 500,\n",
    "        score_name: str = \"UCell_score\",\n",
    "        random_state: Optional[int] = None,\n",
    "        copy: bool = False,\n",
    "        use_raw: Optional[bool] = None,\n",
    "        verbose: int = 0,\n",
    "        joblib_kwargs: dict = {'n_jobs': 4}\n",
    ") -> Optional[AnnData]:\n",
    "    \"\"\"\n",
    "\n",
    "    UCell signature scoring method is a Python implementation of the scoring method proposed by Andreatta et al. 2021.\n",
    "\n",
    "    Massimo Andreatta and Santiago J Carmona. „UCell: Robust and scalable single-cell\n",
    "    gene signature scoring“. en. In: Comput. Struct. Biotechnol. J. 19 (June 2021),\n",
    "    pp. 3796–3798 (cit. on pp. iii, 2, 9, 15, 16).\n",
    "\n",
    "    Implementation is inspired by score_genes method of Scanpy\n",
    "    (https://scanpy.readthedocs.io/en/latest/generated/scanpy.tl.score_genes.html#scanpy.tl.score_genes)\n",
    "\n",
    "    Args:\n",
    "        adata: AnnData object containing the gene expression data.\n",
    "        gene_list: A list of genes (signature) for which the cells are scored for.\n",
    "        maxRank: Cutoff for maximum rank allowed.\n",
    "        bs: The number of cells in a processing batch.\n",
    "        score_name: Column name for scores added in `.obs` of data.\n",
    "        random_state: Seed for random state.\n",
    "        copy: Indicates whether original or a copy of `adata` is modified.\n",
    "        use_raw: Whether to compute gene signature score on raw data stored in `.raw` attribute of `adata`\n",
    "        verbose: If verbose is larger than 0, print statements are shown.\n",
    "        joblib_kwargs: Keyword argument for parallel execution with joblib.\n",
    "\n",
    "    Returns:\n",
    "        If copy=True, the method returns a copy of the original data with stored UCell scores in `.obs`, otherwise\n",
    "        None is returned.\n",
    "    \"\"\"\n",
    "    start = sc.logging.info(f\"computing score {score_name!r}\")\n",
    "    if verbose > 0:\n",
    "        print(f\"computing score {score_name!r}\")\n",
    "\n",
    "    adata = adata.copy() if copy else adata\n",
    "\n",
    "    use_raw = _check_use_raw(adata, use_raw)\n",
    "\n",
    "    _adata = adata.raw if use_raw else adata\n",
    "\n",
    "    if random_state is not None:\n",
    "        np.random.seed(random_state)\n",
    "\n",
    "    # remove genes from gene_list not available in the data\n",
    "    gene_list = check_signature_genes(_adata.var_names, gene_list)\n",
    "\n",
    "    # check type of rank\n",
    "    if not isinstance(maxRank, int):\n",
    "        raise ValueError(f\"maxRank {maxRank} must be of type int\")\n",
    "\n",
    "    # check maxRank is not larger than available nr. of genes\n",
    "    if maxRank > len(_adata.var_names):\n",
    "        print(\n",
    "            f\"Provided maxRank is larger than the number of available genes. Set maxRank=len(adata.var_names)\"\n",
    "        )\n",
    "        maxRank = len(_adata.var_names)\n",
    "\n",
    "    # check that signature is not longer than maxRank\n",
    "    if maxRank < len(gene_list) <= len(_adata.var_names):\n",
    "        warnings.warn(\n",
    "            f\"The provided signature contains more genes than the maxRank parameter. maxRank is increased to \"\n",
    "            f\"signature length \"\n",
    "        )\n",
    "        maxRank = len(gene_list)\n",
    "\n",
    "    sparse_X = issparse(_adata.X)\n",
    "    if sparse_X and not isspmatrix_csr(adata.X):\n",
    "        adata.X = adata.X.tocsr()\n",
    "        warnings.warn(\"Chaning adata.X format to CSR format\")\n",
    "        # create groups of managable sizes\n",
    "    bss = pd.cut(np.arange(_adata.obs.shape[0]), (_adata.obs.shape[0] // bs + 1), labels=False)\n",
    "\n",
    "    scores = Parallel(**joblib_kwargs)(\n",
    "        delayed(compute_ranks_and_ustat)(\n",
    "            X_data=_adata[group[1].index,].X.data if sparse_X else _adata[group[1].index,].X,\n",
    "            X_indices=_adata[group[1].index,].X.indices if sparse_X else None,\n",
    "            X_indptr=_adata[group[1].index,].X.indptr if sparse_X else None,\n",
    "            X_shape=_adata[group[1].index,].X.shape if sparse_X else None,\n",
    "            index=group[1].index,\n",
    "            columns=_adata.var_names,\n",
    "            gene_list=gene_list,\n",
    "            maxRank=maxRank) for group in _adata.obs.groupby(bss))\n",
    "    scores = pd.concat(scores)\n",
    "\n",
    "    adata.obs[score_name] = scores\n",
    "\n",
    "    sc.logging.info(\n",
    "        \"    finished\",\n",
    "        time=start,\n",
    "        deep=(\"added\\n\" f\"    {score_name!r}, score of gene set (adata.obs).\"),\n",
    "    )\n",
    "    return adata if copy else None"
   ]
  },
  {
   "cell_type": "code",
   "execution_count": null,
   "id": "968b6b5e",
   "metadata": {
    "ExecuteTime": {
     "end_time": "2023-06-09T14:26:05.022446397Z",
     "start_time": "2023-06-09T14:26:05.018101658Z"
    }
   },
   "outputs": [],
   "source": []
  }
 ],
 "metadata": {
  "kernelspec": {
   "display_name": "Python 3 (ipykernel)",
   "language": "python",
   "name": "python3"
  },
  "language_info": {
   "codemirror_mode": {
    "name": "ipython",
    "version": 3
   },
   "file_extension": ".py",
   "mimetype": "text/x-python",
   "name": "python",
   "nbconvert_exporter": "python",
   "pygments_lexer": "ipython3",
   "version": "3.8.12"
  }
 },
 "nbformat": 4,
 "nbformat_minor": 5
}
