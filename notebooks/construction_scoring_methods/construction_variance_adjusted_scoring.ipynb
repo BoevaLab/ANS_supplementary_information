{
 "cells": [
  {
   "cell_type": "markdown",
   "source": [
    "The goal of this notebook is to construct the gene signature scoring add-on to correct for signature gene variance. The idea is that if we correct for signature gene variance the scores might become more comparable for different signatures. Especially, if the signatures contain genes, which show clear difference in the signature gene variances."
   ],
   "metadata": {
    "collapsed": false,
    "pycharm": {
     "name": "#%% md\n"
    }
   }
  },
  {
   "cell_type": "code",
   "execution_count": 1,
   "outputs": [],
   "source": [
    "import sys\n",
    "\n",
    "import numpy as np\n",
    "import pandas as pd\n",
    "import scanpy as sc\n",
    "from matplotlib import pyplot as plt\n",
    "from scanpy.preprocessing._utils import _get_mean_var\n",
    "from sklearn.linear_model import LinearRegression\n",
    "from sklearn.metrics import r2_score\n",
    "from skmisc.loess import loess\n",
    "\n",
    "sys.path.append('../..')\n",
    "\n",
    "from data.load_esophageal_data import load_esophageal_data\n",
    "from src.data.preprocess_data import preprocess\n",
    "from src.utils.utils import get_gene_list_real_data, check_signature_genes\n",
    "\n",
    "sc.settings.verbosity = 3"
   ],
   "metadata": {
    "collapsed": false,
    "pycharm": {
     "name": "#%%\n"
    }
   }
  },
  {
   "cell_type": "markdown",
   "source": [
    "## Load and preprocess the data"
   ],
   "metadata": {
    "collapsed": false,
    "pycharm": {
     "name": "#%% md\n"
    }
   }
  },
  {
   "cell_type": "code",
   "execution_count": 2,
   "outputs": [
    {
     "name": "stdout",
     "output_type": "stream",
     "text": [
      "Load data and separate data per sample\n"
     ]
    }
   ],
   "source": [
    "dict_samples = load_esophageal_data(small=True)"
   ],
   "metadata": {
    "collapsed": false,
    "pycharm": {
     "name": "#%%\n"
    }
   }
  },
  {
   "cell_type": "code",
   "execution_count": 3,
   "outputs": [
    {
     "data": {
      "text/plain": "{'P23T': AnnData object with n_obs × n_vars = 3478 × 14201\n     obs: 'sample_id', 'celltype', 'batch', 'healthy_annotation', 'reference', 'barcode', 'n_counts', 'log_counts', 'n_genes', 'pct_zero_genes', 'n_genes_by_counts', 'total_counts', 'total_counts_mt', 'pct_counts_mt', 'reference_type', 'healthy_cnv', 'healthy', 'S_score', 'G2M_score', 'phase', 'apoptosis_score', 'oxphos', 'AP', 'Cycling', 'Epi1', 'Epi2', 'Mes', 'Mucosal', 'Oxd', 'Stress', 'subclonal'\n     var: 'mt', 'n_cells_by_counts', 'mean_counts', 'pct_dropout_by_counts', 'total_counts', 'chromosome', 'start', 'end', 'cutoff'\n     uns: 'cnv', 'reference_cat', 'reference_info'\n     obsm: 'X_cnv',\n 'P61T': AnnData object with n_obs × n_vars = 2763 × 14201\n     obs: 'sample_id', 'celltype', 'batch', 'healthy_annotation', 'reference', 'barcode', 'n_counts', 'log_counts', 'n_genes', 'pct_zero_genes', 'n_genes_by_counts', 'total_counts', 'total_counts_mt', 'pct_counts_mt', 'reference_type', 'healthy_cnv', 'healthy', 'S_score', 'G2M_score', 'phase', 'apoptosis_score', 'oxphos', 'AP', 'Cycling', 'Epi1', 'Epi2', 'Mes', 'Mucosal', 'Oxd', 'Stress', 'subclonal'\n     var: 'mt', 'n_cells_by_counts', 'mean_counts', 'pct_dropout_by_counts', 'total_counts', 'chromosome', 'start', 'end', 'cutoff'\n     uns: 'cnv', 'reference_cat', 'reference_info'\n     obsm: 'X_cnv',\n 'P62T': AnnData object with n_obs × n_vars = 2635 × 14201\n     obs: 'sample_id', 'celltype', 'batch', 'healthy_annotation', 'reference', 'barcode', 'n_counts', 'log_counts', 'n_genes', 'pct_zero_genes', 'n_genes_by_counts', 'total_counts', 'total_counts_mt', 'pct_counts_mt', 'reference_type', 'healthy_cnv', 'healthy', 'S_score', 'G2M_score', 'phase', 'apoptosis_score', 'oxphos', 'AP', 'Cycling', 'Epi1', 'Epi2', 'Mes', 'Mucosal', 'Oxd', 'Stress', 'subclonal'\n     var: 'mt', 'n_cells_by_counts', 'mean_counts', 'pct_dropout_by_counts', 'total_counts', 'chromosome', 'start', 'end', 'cutoff'\n     uns: 'cnv', 'reference_cat', 'reference_info'\n     obsm: 'X_cnv'}"
     },
     "execution_count": 3,
     "metadata": {},
     "output_type": "execute_result"
    }
   ],
   "source": [
    "dict_samples"
   ],
   "metadata": {
    "collapsed": false,
    "pycharm": {
     "name": "#%%\n"
    }
   }
  },
  {
   "cell_type": "code",
   "execution_count": 4,
   "outputs": [
    {
     "name": "stdout",
     "output_type": "stream",
     "text": [
      "filtered out 27 genes that are detected in less than 5 cells\n",
      "normalizing counts per cell\n",
      "    finished (0:00:00)\n",
      "filtered out 116 genes that are detected in less than 5 cells\n",
      "normalizing counts per cell\n",
      "    finished (0:00:00)\n",
      "filtered out 100 genes that are detected in less than 5 cells\n",
      "normalizing counts per cell\n",
      "    finished (0:00:00)\n"
     ]
    }
   ],
   "source": [
    "for key, val in dict_samples.items():\n",
    "    preprocess(val,\n",
    "               min_genes=500,\n",
    "               min_cells=5,\n",
    "               target_sum=1e4,\n",
    "               verbose=0)"
   ],
   "metadata": {
    "collapsed": false,
    "pycharm": {
     "name": "#%%\n"
    }
   }
  },
  {
   "cell_type": "code",
   "execution_count": 5,
   "outputs": [],
   "source": [
    "adata = sc.concat(dict_samples.values(), join='inner', merge='same')"
   ],
   "metadata": {
    "collapsed": false,
    "pycharm": {
     "name": "#%%\n"
    }
   }
  },
  {
   "cell_type": "code",
   "execution_count": 6,
   "outputs": [],
   "source": [
    "# adata = sc.read_h5ad('../data/synthetic_data/5vs95_w_batch_effect/dataset.hdf5')"
   ],
   "metadata": {
    "collapsed": false,
    "pycharm": {
     "name": "#%%\n"
    }
   }
  },
  {
   "cell_type": "code",
   "execution_count": 343,
   "outputs": [],
   "source": [
    "# # adata"
   ],
   "metadata": {
    "collapsed": false,
    "pycharm": {
     "name": "#%%\n"
    }
   }
  },
  {
   "cell_type": "code",
   "execution_count": 344,
   "outputs": [],
   "source": [
    "# dict_samples = {}\n",
    "# for group in adata.obs.groupby('Batch'):\n",
    "#     tmp_data = adata[group[1].index,:].copy()\n",
    "#     preprocess(tmp_data,\n",
    "#                min_genes=200,\n",
    "#                min_cells=3,\n",
    "#                target_sum=1e4,\n",
    "#                verbose=0)\n",
    "#\n",
    "#     dict_samples[group[0]] =tmp_data\n",
    "#"
   ],
   "metadata": {
    "collapsed": false,
    "pycharm": {
     "name": "#%%\n"
    }
   }
  },
  {
   "cell_type": "code",
   "execution_count": 345,
   "outputs": [],
   "source": [
    "# adata = sc.concat(dict_samples.values(), join='inner', merge='same')"
   ],
   "metadata": {
    "collapsed": false,
    "pycharm": {
     "name": "#%%\n"
    }
   }
  },
  {
   "cell_type": "markdown",
   "source": [
    "### Construct smoothed variance on log-normalized data"
   ],
   "metadata": {
    "collapsed": false,
    "pycharm": {
     "name": "#%% md\n"
    }
   }
  },
  {
   "cell_type": "code",
   "execution_count": 7,
   "outputs": [],
   "source": [
    "var_names = adata.var_names.tolist()"
   ],
   "metadata": {
    "collapsed": false,
    "pycharm": {
     "name": "#%%\n"
    }
   }
  },
  {
   "cell_type": "code",
   "execution_count": 8,
   "outputs": [],
   "source": [
    "df = pd.DataFrame()\n",
    "df['mean'], df['var'] = _get_mean_var(adata.X)\n",
    "df = df.set_index(adata.var_names)\n",
    "df = df.sort_values(by='mean')"
   ],
   "metadata": {
    "collapsed": false,
    "pycharm": {
     "name": "#%%\n"
    }
   }
  },
  {
   "cell_type": "code",
   "execution_count": 9,
   "outputs": [],
   "source": [
    "#reg = LinearRegression().fit(np.log10(df['mean'].to_numpy().reshape(-1, 1)), np.log10(df['var']))\n",
    "reg = LinearRegression().fit(df['mean'].to_numpy().reshape(-1, 1),df['var'])"
   ],
   "metadata": {
    "collapsed": false,
    "pycharm": {
     "name": "#%%\n"
    }
   }
  },
  {
   "cell_type": "code",
   "execution_count": 10,
   "outputs": [
    {
     "name": "stdout",
     "output_type": "stream",
     "text": [
      "-4.711815972652098\n"
     ]
    }
   ],
   "source": [
    "estimated_var = reg.predict(df['mean'].to_numpy().reshape(-1, 1))\n",
    "print(r2_score(np.log10(df['var']),estimated_var))\n",
    "estimated_var = 10 ** estimated_var\n",
    "df['estimat_std_reg'] = np.sqrt(estimated_var)\n",
    "df['estimat_var_reg'] = estimated_var"
   ],
   "metadata": {
    "collapsed": false,
    "pycharm": {
     "name": "#%%\n"
    }
   }
  },
  {
   "cell_type": "code",
   "execution_count": 11,
   "outputs": [
    {
     "data": {
      "text/plain": "<Figure size 432x288 with 1 Axes>",
      "image/png": "[encoded data removed]"
     },
     "metadata": {
      "needs_background": "light"
     },
     "output_type": "display_data"
    },
    {
     "data": {
      "text/plain": "<Figure size 432x288 with 1 Axes>",
      "image/png": "[encoded data removed]"
     },
     "metadata": {
      "needs_background": "light"
     },
     "output_type": "display_data"
    }
   ],
   "source": [
    "plt.scatter(df['mean'], df['var'])\n",
    "plt.show()\n",
    "plt.scatter(np.log10(df['mean']), np.log10(df['var']))\n",
    "plt.show()"
   ],
   "metadata": {
    "collapsed": false,
    "pycharm": {
     "name": "#%%\n"
    }
   }
  },
  {
   "cell_type": "code",
   "execution_count": 12,
   "outputs": [],
   "source": [
    "not_const = df['var'] > 0\n",
    "estimat_var = np.zeros(adata.X.shape[1], dtype=np.float64)\n",
    "\n",
    "y = np.log10(df['var'][not_const])\n",
    "x = np.log10(df['mean'][not_const])\n",
    "model = loess(x, y, span=0.3, degree=2)\n",
    "model.fit()\n",
    "estimat_var[not_const] = model.outputs.fitted_values\n",
    "reg_std = np.sqrt(10**estimat_var)\n",
    "df['estimat_std_loess'] = reg_std\n",
    "df['estimat_var_loess'] = 10**estimat_var"
   ],
   "metadata": {
    "collapsed": false,
    "pycharm": {
     "name": "#%%\n"
    }
   }
  },
  {
   "cell_type": "code",
   "execution_count": 13,
   "outputs": [
    {
     "data": {
      "text/plain": "0.9721523509565587"
     },
     "execution_count": 13,
     "metadata": {},
     "output_type": "execute_result"
    }
   ],
   "source": [
    "r2_score(y,estimat_var[not_const])"
   ],
   "metadata": {
    "collapsed": false,
    "pycharm": {
     "name": "#%%\n"
    }
   }
  },
  {
   "cell_type": "code",
   "execution_count": 14,
   "outputs": [
    {
     "data": {
      "text/plain": "<Figure size 432x288 with 1 Axes>",
      "image/png": "[encoded data removed]"
     },
     "metadata": {
      "needs_background": "light"
     },
     "output_type": "display_data"
    },
    {
     "data": {
      "text/plain": "<Figure size 432x288 with 1 Axes>",
      "image/png": "[encoded data removed]"
     },
     "metadata": {
      "needs_background": "light"
     },
     "output_type": "display_data"
    },
    {
     "data": {
      "text/plain": "Text(0.5, 1.0, 'Avg. gene expression (log-normalized) with estimated std of loess')"
     },
     "execution_count": 14,
     "metadata": {},
     "output_type": "execute_result"
    },
    {
     "data": {
      "text/plain": "<Figure size 432x288 with 1 Axes>",
      "image/png": "[encoded data removed]"
     },
     "metadata": {
      "needs_background": "light"
     },
     "output_type": "display_data"
    }
   ],
   "source": [
    "(df['mean']).plot()\n",
    "(df['mean'] + np.sqrt(df['var'])).plot()\n",
    "(df['mean'] - np.sqrt(df['var'])).plot()\n",
    "plt.title('Avg. gene expression (log-normalized) with true std')\n",
    "plt.show()\n",
    "(df['mean']).plot()\n",
    "(df['mean'] + df['estimat_std_reg']).plot()\n",
    "(df['mean'] - df['estimat_std_reg']).plot()\n",
    "plt.title('Avg. gene expression (log-normalized) with estimated std of linear regression')\n",
    "plt.show()\n",
    "(df['mean']).plot()\n",
    "(df['mean'] + df['estimat_std_loess']).plot()\n",
    "(df['mean'] - df['estimat_std_loess']).plot()\n",
    "plt.title('Avg. gene expression (log-normalized) with estimated std of loess')"
   ],
   "metadata": {
    "collapsed": false,
    "pycharm": {
     "name": "#%%\n"
    }
   }
  },
  {
   "cell_type": "markdown",
   "source": [
    "### Construct smoothed variance on normalized data"
   ],
   "metadata": {
    "collapsed": false,
    "pycharm": {
     "name": "#%% md\n"
    }
   }
  },
  {
   "cell_type": "code",
   "execution_count": 328,
   "outputs": [],
   "source": [
    "df = pd.DataFrame()\n",
    "df['mean'], df['var'] = _get_mean_var(np.expm1(adata.X))\n",
    "df = df.set_index(adata.var_names)\n",
    "df = df.sort_values(by='mean')"
   ],
   "metadata": {
    "collapsed": false,
    "pycharm": {
     "name": "#%%\n"
    }
   }
  },
  {
   "cell_type": "code",
   "execution_count": 329,
   "outputs": [],
   "source": [
    "reg = LinearRegression().fit(np.log10(df['mean'].to_numpy().reshape(-1, 1)), np.log10(df['var']))"
   ],
   "metadata": {
    "collapsed": false,
    "pycharm": {
     "name": "#%%\n"
    }
   }
  },
  {
   "cell_type": "code",
   "execution_count": 330,
   "outputs": [],
   "source": [
    "estimated_var = reg.predict(np.log10(df['mean'].to_numpy().reshape(-1, 1)))\n",
    "r2_score(np.log10(df['var']), estimated_var)\n",
    "estimated_var = 10 ** estimated_var\n",
    "df['estimat_std_reg'] = np.sqrt(estimated_var)\n",
    "df['estimat_var_reg'] = estimated_var"
   ],
   "metadata": {
    "collapsed": false,
    "pycharm": {
     "name": "#%%\n"
    }
   }
  },
  {
   "cell_type": "code",
   "execution_count": 331,
   "outputs": [
    {
     "data": {
      "text/plain": "<Figure size 432x288 with 1 Axes>",
      "image/png": "[encoded data removed]"
     },
     "metadata": {
      "needs_background": "light"
     },
     "output_type": "display_data"
    },
    {
     "data": {
      "text/plain": "<Figure size 432x288 with 1 Axes>",
      "image/png": "[encoded data removed]"
     },
     "metadata": {
      "needs_background": "light"
     },
     "output_type": "display_data"
    }
   ],
   "source": [
    "plt.scatter(df['mean'], df['var'])\n",
    "plt.show()\n",
    "plt.scatter(np.log10(df['mean']), np.log10(df['var']))\n",
    "plt.show()"
   ],
   "metadata": {
    "collapsed": false,
    "pycharm": {
     "name": "#%%\n"
    }
   }
  },
  {
   "cell_type": "code",
   "execution_count": 332,
   "outputs": [],
   "source": [
    "not_const = df['var'] > 0\n",
    "estimat_var = np.zeros(adata.X.shape[1], dtype=np.float64)\n",
    "\n",
    "y = np.log10(df['var'][not_const])\n",
    "x = np.log10(df['mean'][not_const])\n",
    "model = loess(x, y)\n",
    "model.fit()\n",
    "estimat_var[not_const] = model.outputs.fitted_values\n",
    "reg_std = np.sqrt(10**estimat_var)\n",
    "df['estimat_std_loess'] = reg_std\n",
    "df['estimat_var_loess'] = 10**estimat_var"
   ],
   "metadata": {
    "collapsed": false,
    "pycharm": {
     "name": "#%%\n"
    }
   }
  },
  {
   "cell_type": "code",
   "execution_count": 333,
   "outputs": [
    {
     "data": {
      "text/plain": "0.9278276412327555"
     },
     "execution_count": 333,
     "metadata": {},
     "output_type": "execute_result"
    }
   ],
   "source": [
    "r2_score(y,estimat_var[not_const])"
   ],
   "metadata": {
    "collapsed": false,
    "pycharm": {
     "name": "#%%\n"
    }
   }
  },
  {
   "cell_type": "code",
   "execution_count": 334,
   "outputs": [
    {
     "data": {
      "text/plain": "<Figure size 432x288 with 1 Axes>",
      "image/png": "[encoded data removed]"
     },
     "metadata": {
      "needs_background": "light"
     },
     "output_type": "display_data"
    },
    {
     "data": {
      "text/plain": "<Figure size 432x288 with 1 Axes>",
      "image/png": "[encoded data removed]"
     },
     "metadata": {
      "needs_background": "light"
     },
     "output_type": "display_data"
    },
    {
     "data": {
      "text/plain": "Text(0.5, 1.0, 'Avg. gene expression (normalized) with estimated std of loess')"
     },
     "execution_count": 334,
     "metadata": {},
     "output_type": "execute_result"
    },
    {
     "data": {
      "text/plain": "<Figure size 432x288 with 1 Axes>",
      "image/png": "[encoded data removed]"
     },
     "metadata": {
      "needs_background": "light"
     },
     "output_type": "display_data"
    }
   ],
   "source": [
    "(df['mean']).plot()\n",
    "(df['mean'] + np.sqrt(df['var'])).plot()\n",
    "(df['mean'] - np.sqrt(df['var'])).plot()\n",
    "plt.title('Avg. gene expression (normalized) with true std')\n",
    "plt.show()\n",
    "(df['mean']).plot()\n",
    "(df['mean'] + df['estimat_std_reg']).plot()\n",
    "(df['mean'] - df['estimat_std_reg']).plot()\n",
    "plt.title('Avg. gene expression (normalized) with estimated std of linear regression')\n",
    "plt.show()\n",
    "(df['mean']).plot()\n",
    "(df['mean'] + df['estimat_std_loess']).plot()\n",
    "(df['mean'] - df['estimat_std_loess']).plot()\n",
    "plt.title('Avg. gene expression (normalized) with estimated std of loess')"
   ],
   "metadata": {
    "collapsed": false,
    "pycharm": {
     "name": "#%%\n"
    }
   }
  },
  {
   "cell_type": "code",
   "execution_count": 335,
   "outputs": [],
   "source": [
    "df = df.apply(lambda x: np.log1p(x), axis=1)"
   ],
   "metadata": {
    "collapsed": false,
    "pycharm": {
     "name": "#%%\n"
    }
   }
  },
  {
   "cell_type": "code",
   "execution_count": 336,
   "outputs": [
    {
     "data": {
      "text/plain": "<Figure size 432x288 with 1 Axes>",
      "image/png": "[encoded data removed]"
     },
     "metadata": {
      "needs_background": "light"
     },
     "output_type": "display_data"
    },
    {
     "data": {
      "text/plain": "<Figure size 432x288 with 1 Axes>",
      "image/png": "[encoded data removed]"
     },
     "metadata": {
      "needs_background": "light"
     },
     "output_type": "display_data"
    },
    {
     "data": {
      "text/plain": "Text(0.5, 1.0, 'Avg. gene expression (normalized) with estimated std of loess')"
     },
     "execution_count": 336,
     "metadata": {},
     "output_type": "execute_result"
    },
    {
     "data": {
      "text/plain": "<Figure size 432x288 with 1 Axes>",
      "image/png": "[encoded data removed]"
     },
     "metadata": {
      "needs_background": "light"
     },
     "output_type": "display_data"
    }
   ],
   "source": [
    "(df['mean']).plot()\n",
    "(df['mean'] + np.sqrt(df['var'])).plot()\n",
    "(df['mean'] - np.sqrt(df['var'])).plot()\n",
    "plt.title('Avg. gene expression (normalized) with true std')\n",
    "plt.show()\n",
    "(df['mean']).plot()\n",
    "(df['mean'] + df['estimat_std_reg']).plot()\n",
    "(df['mean'] - df['estimat_std_reg']).plot()\n",
    "plt.title('Avg. gene expression (normalized) with estimated std of linear regression')\n",
    "plt.show()\n",
    "(df['mean']).plot()\n",
    "(df['mean'] + df['estimat_std_loess']).plot()\n",
    "(df['mean'] - df['estimat_std_loess']).plot()\n",
    "plt.title('Avg. gene expression (normalized) with estimated std of loess')"
   ],
   "metadata": {
    "collapsed": false,
    "pycharm": {
     "name": "#%%\n"
    }
   }
  },
  {
   "cell_type": "code",
   "execution_count": null,
   "outputs": [],
   "source": [],
   "metadata": {
    "collapsed": false,
    "pycharm": {
     "name": "#%%\n"
    }
   }
  },
  {
   "cell_type": "code",
   "execution_count": null,
   "outputs": [],
   "source": [],
   "metadata": {
    "collapsed": false,
    "pycharm": {
     "name": "#%%\n"
    }
   }
  },
  {
   "cell_type": "code",
   "execution_count": null,
   "outputs": [],
   "source": [],
   "metadata": {
    "collapsed": false,
    "pycharm": {
     "name": "#%%\n"
    }
   }
  },
  {
   "cell_type": "code",
   "execution_count": null,
   "outputs": [],
   "source": [],
   "metadata": {
    "collapsed": false,
    "pycharm": {
     "name": "#%%\n"
    }
   }
  },
  {
   "cell_type": "code",
   "execution_count": null,
   "outputs": [],
   "source": [],
   "metadata": {
    "collapsed": false,
    "pycharm": {
     "name": "#%%\n"
    }
   }
  },
  {
   "cell_type": "code",
   "execution_count": null,
   "outputs": [],
   "source": [],
   "metadata": {
    "collapsed": false,
    "pycharm": {
     "name": "#%%\n"
    }
   }
  },
  {
   "cell_type": "code",
   "execution_count": null,
   "outputs": [],
   "source": [],
   "metadata": {
    "collapsed": false,
    "pycharm": {
     "name": "#%%\n"
    }
   }
  },
  {
   "cell_type": "markdown",
   "source": [
    "### Get Signature separating for healthy and unhealthy cells"
   ],
   "metadata": {
    "collapsed": false,
    "pycharm": {
     "name": "#%% md\n"
    }
   }
  },
  {
   "cell_type": "code",
   "execution_count": 15,
   "outputs": [
    {
     "name": "stdout",
     "output_type": "stream",
     "text": [
      "ranking genes\n"
     ]
    },
    {
     "name": "stderr",
     "output_type": "stream",
     "text": [
      "/anaconda3/envs/mt/lib/python3.8/site-packages/anndata/_core/anndata.py:1228: FutureWarning: The `inplace` parameter in pandas.Categorical.reorder_categories is deprecated and will be removed in a future version. Reordering categories will always return a new Categorical object.\n",
      "  c.reorder_categories(natsorted(c.categories), inplace=True)\n",
      "... storing 'sample_id' as categorical\n",
      "/anaconda3/envs/mt/lib/python3.8/site-packages/anndata/_core/anndata.py:1228: FutureWarning: The `inplace` parameter in pandas.Categorical.reorder_categories is deprecated and will be removed in a future version. Reordering categories will always return a new Categorical object.\n",
      "  c.reorder_categories(natsorted(c.categories), inplace=True)\n",
      "... storing 'subclonal' as categorical\n"
     ]
    },
    {
     "name": "stdout",
     "output_type": "stream",
     "text": [
      "    finished: added to `.uns['wilcoxon']`\n",
      "    'names', sorted np.recarray to be indexed by group ids\n",
      "    'scores', sorted np.recarray to be indexed by group ids\n",
      "    'logfoldchanges', sorted np.recarray to be indexed by group ids\n",
      "    'pvals', sorted np.recarray to be indexed by group ids\n",
      "    'pvals_adj', sorted np.recarray to be indexed by group ids (0:02:46)\n"
     ]
    }
   ],
   "source": [
    "gene_list = get_gene_list_real_data(\n",
    "    adata,\n",
    "    dge_pval_cutoff=0.01,\n",
    "    dge_log2fc_min=0.01,\n",
    "    nr_de_genes=50,\n",
    "    mode='random',\n",
    ")"
   ],
   "metadata": {
    "collapsed": false,
    "pycharm": {
     "name": "#%%\n"
    }
   }
  },
  {
   "cell_type": "markdown",
   "source": [
    "## Construction scoring with signature gene variance adustment"
   ],
   "metadata": {
    "collapsed": false,
    "pycharm": {
     "name": "#%% md\n"
    }
   }
  },
  {
   "cell_type": "code",
   "execution_count": 16,
   "outputs": [],
   "source": [
    "var_names = adata.var_names.tolist()\n",
    "gene_list = check_signature_genes(var_names, gene_list)"
   ],
   "metadata": {
    "collapsed": false,
    "pycharm": {
     "name": "#%%\n"
    }
   }
  },
  {
   "cell_type": "code",
   "execution_count": 17,
   "outputs": [],
   "source": [
    "df = pd.DataFrame()"
   ],
   "metadata": {
    "collapsed": false,
    "pycharm": {
     "name": "#%%\n"
    }
   }
  },
  {
   "cell_type": "code",
   "execution_count": 18,
   "outputs": [],
   "source": [
    "df['mean'], df['var'] = _get_mean_var(adata.X)\n",
    "df = df.set_index(adata.var_names)\n",
    "df = df.sort_values(by='mean')"
   ],
   "metadata": {
    "collapsed": false,
    "pycharm": {
     "name": "#%%\n"
    }
   }
  },
  {
   "cell_type": "code",
   "execution_count": 19,
   "outputs": [],
   "source": [
    "not_const = df['var'] > 0\n",
    "estimat_var = np.zeros(adata.X.shape[1], dtype=np.float64)\n",
    "\n",
    "y = np.log10(df['var'][not_const])\n",
    "x = np.log10(df['mean'][not_const])\n",
    "model = loess(x, y, span= 0.3,degree=2)\n",
    "model.fit()\n",
    "estimat_var[not_const] = model.outputs.fitted_values\n",
    "reg_std = np.sqrt(10**estimat_var)\n",
    "df['estimate_std'] = reg_std\n",
    "df['estimate_var'] = 10**estimat_var"
   ],
   "metadata": {
    "collapsed": false,
    "pycharm": {
     "name": "#%%\n"
    }
   }
  },
  {
   "cell_type": "code",
   "execution_count": 53,
   "outputs": [
    {
     "data": {
      "text/plain": "(13983,)"
     },
     "execution_count": 53,
     "metadata": {},
     "output_type": "execute_result"
    }
   ],
   "source": [
    "x.shape"
   ],
   "metadata": {
    "collapsed": false,
    "pycharm": {
     "name": "#%%\n"
    }
   }
  },
  {
   "cell_type": "code",
   "execution_count": 20,
   "outputs": [
    {
     "data": {
      "text/plain": "True"
     },
     "execution_count": 20,
     "metadata": {},
     "output_type": "execute_result"
    }
   ],
   "source": [
    "hasattr(df, 'attrs')"
   ],
   "metadata": {
    "collapsed": false,
    "pycharm": {
     "name": "#%%\n"
    }
   }
  },
  {
   "cell_type": "code",
   "execution_count": 21,
   "outputs": [],
   "source": [
    "df.attrs['loess_r2_score'] = r2_score(y, model.outputs.fitted_values)"
   ],
   "metadata": {
    "collapsed": false,
    "pycharm": {
     "name": "#%%\n"
    }
   }
  },
  {
   "cell_type": "code",
   "execution_count": 22,
   "outputs": [
    {
     "data": {
      "text/plain": "{'loess_r2_score': 0.9721523509565587}"
     },
     "execution_count": 22,
     "metadata": {},
     "output_type": "execute_result"
    }
   ],
   "source": [
    "df.attrs"
   ],
   "metadata": {
    "collapsed": false,
    "pycharm": {
     "name": "#%%\n"
    }
   }
  },
  {
   "cell_type": "code",
   "execution_count": 23,
   "outputs": [
    {
     "data": {
      "text/plain": "Text(0.5, 1.0, 'Relationship mean vs. var/ estimated var, R2-score:0.972')"
     },
     "execution_count": 23,
     "metadata": {},
     "output_type": "execute_result"
    },
    {
     "data": {
      "text/plain": "<Figure size 720x576 with 1 Axes>",
      "image/png": "[encoded data removed]"
     },
     "metadata": {
      "needs_background": "light"
     },
     "output_type": "display_data"
    }
   ],
   "source": [
    "fig = plt.figure(figsize=(10,8))\n",
    "plt.scatter(x,y, label='log10(mean) vs. log10(var)')\n",
    "plt.scatter(x,estimat_var[not_const],marker='.',label='log10(mean) vs. log10(estimated var)')\n",
    "plt.legend(fontsize=14)\n",
    "plt.title(f'Relationship mean vs. var/ estimated var, R2-score:{str(np.round(r2_score(y, model.outputs.fitted_values), decimals=3))}', fontsize=16)"
   ],
   "metadata": {
    "collapsed": false,
    "pycharm": {
     "name": "#%%\n"
    }
   }
  },
  {
   "cell_type": "code",
   "execution_count": 60,
   "outputs": [],
   "source": [
    "fig.savefig('../plots/mean_var_realationship_2.png', format='png')"
   ],
   "metadata": {
    "collapsed": false,
    "pycharm": {
     "name": "#%%\n"
    }
   }
  },
  {
   "cell_type": "code",
   "execution_count": 24,
   "outputs": [],
   "source": [
    "gene_means = df['mean']\n",
    "ref_gene_means = gene_means[gene_means.index.isin(gene_list) == False]"
   ],
   "metadata": {
    "collapsed": false,
    "pycharm": {
     "name": "#%%\n"
    }
   }
  },
  {
   "cell_type": "code",
   "execution_count": 25,
   "outputs": [],
   "source": [
    "rolled = ref_gene_means.rolling(100, closed='right').mean()"
   ],
   "metadata": {
    "collapsed": false,
    "pycharm": {
     "name": "#%%\n"
    }
   }
  },
  {
   "cell_type": "code",
   "execution_count": 26,
   "outputs": [],
   "source": [
    "control_genes = []\n",
    "for sig_gene in gene_list:\n",
    "    curr_sig_avg = gene_means.loc[sig_gene]\n",
    "    min_val_idx = np.argmin(((rolled - curr_sig_avg).abs()))\n",
    "    sig_gene_ctrl_genes = rolled.iloc[(min_val_idx - 100 + 1):min_val_idx + 1]\n",
    "    control_genes.append(list(sig_gene_ctrl_genes.index))"
   ],
   "metadata": {
    "collapsed": false,
    "pycharm": {
     "name": "#%%\n"
    }
   }
  },
  {
   "cell_type": "code",
   "execution_count": 27,
   "outputs": [
    {
     "data": {
      "text/plain": "0.10091962228442057"
     },
     "execution_count": 27,
     "metadata": {},
     "output_type": "execute_result"
    }
   ],
   "source": [
    "df.loc['METTL20',:].estimate_std"
   ],
   "metadata": {
    "collapsed": false,
    "pycharm": {
     "name": "#%%\n"
    }
   }
  },
  {
   "cell_type": "markdown",
   "source": [
    "Here we want to check whether the std of the mean is the same as the mean of the std"
   ],
   "metadata": {
    "collapsed": false,
    "pycharm": {
     "name": "#%% md\n"
    }
   }
  },
  {
   "cell_type": "code",
   "execution_count": 64,
   "outputs": [],
   "source": [
    "last_sig_gene_ctrl_set = control_genes[25]"
   ],
   "metadata": {
    "collapsed": false,
    "pycharm": {
     "name": "#%%\n"
    }
   }
  },
  {
   "cell_type": "code",
   "execution_count": 65,
   "outputs": [
    {
     "data": {
      "text/plain": "['TIGD6',\n 'ACRC',\n 'KCNK12',\n 'PEX11G',\n 'NCS1',\n 'CTD-3131K8.2',\n 'CEP72',\n 'CNIH3',\n 'DEPDC1',\n 'CCL8',\n 'TRGV7',\n 'ZNF367',\n 'ZNF283',\n 'KLHL35',\n 'SYNC',\n 'NKX3-1',\n 'ATP10A',\n 'KIF5C',\n 'REEP2',\n 'ZNF626',\n 'HIST1H2AB',\n 'ZC4H2',\n 'FAM110C',\n 'PPM1N',\n 'SLC16A14',\n 'ZNF347',\n 'LRRC49',\n 'ZNF596',\n 'TRIM61',\n 'SLC22A4',\n 'AGAP1',\n 'ZNF582',\n 'DNAH1',\n 'ZNF540',\n 'FPGT',\n 'FOXRED2',\n 'PTK6',\n 'AC011043.1',\n 'FCRLB',\n 'CCR10',\n 'USP51',\n 'UFSP1',\n 'SLC4A8',\n 'RP11-473M20.9',\n 'RP11-426C22.5',\n 'ZBED6',\n 'ZNF354C',\n 'NPTX2',\n 'RP11-77K12.1',\n 'FAXDC2',\n 'TRO',\n 'CES4A',\n 'TMEM231',\n 'P2RX7',\n 'LYPD5',\n 'RP11-817O13.8',\n 'ZNF222',\n 'RAD54B',\n 'HGF',\n 'RP11-392P7.6',\n 'TFPI2',\n 'INTU',\n 'ACOT11',\n 'RP11-24F11.2',\n 'SLC16A4',\n 'INTS6-AS1',\n 'ELOVL4',\n 'PPIL6',\n 'STBD1',\n 'APOM',\n 'THRB',\n 'RFESD',\n 'FANCE',\n 'ZNF528',\n 'MMACHC',\n 'CTD-2341M24.1',\n 'SCARF2',\n 'FAM169A',\n 'TIGD2',\n 'AC024592.12',\n 'TNFRSF8',\n 'NUDT6',\n 'GALNT4',\n 'NEK2',\n 'CTTNBP2',\n 'DLG4',\n 'LRRC29',\n 'DYX1C1',\n 'ZNF81',\n 'CTB-119C2.1',\n 'ZNF257',\n 'AC002310.12',\n 'RP11-572O17.1',\n 'NHSL1',\n 'ESCO2',\n 'BOLA3-AS1',\n 'POLR3G',\n 'EPDR1',\n 'RP11-338I21.1',\n 'RP11-634H22.1']"
     },
     "execution_count": 65,
     "metadata": {},
     "output_type": "execute_result"
    }
   ],
   "source": [
    "last_sig_gene_ctrl_set"
   ],
   "metadata": {
    "collapsed": false,
    "pycharm": {
     "name": "#%%\n"
    }
   }
  },
  {
   "cell_type": "code",
   "execution_count": 66,
   "outputs": [
    {
     "data": {
      "text/plain": "                   mean       var  estimate_std  estimate_var\nTIGD6          0.015813  0.011589      0.112876      0.012741\nACRC           0.015816  0.015561      0.112886      0.012743\nKCNK12         0.015817  0.014966      0.112891      0.012744\nPEX11G         0.015821  0.010250      0.112904      0.012747\nNCS1           0.015835  0.011739      0.112954      0.012759\n...                 ...       ...           ...           ...\nBOLA3-AS1      0.016696  0.013340      0.115992      0.013454\nPOLR3G         0.016699  0.010039      0.116005      0.013457\nEPDR1          0.016708  0.014903      0.116033      0.013464\nRP11-338I21.1  0.016709  0.019587      0.116040      0.013465\nRP11-634H22.1  0.016724  0.017769      0.116092      0.013477\n\n[100 rows x 4 columns]",
      "text/html": "<div>\n<style scoped>\n    .dataframe tbody tr th:only-of-type {\n        vertical-align: middle;\n    }\n\n    .dataframe tbody tr th {\n        vertical-align: top;\n    }\n\n    .dataframe thead th {\n        text-align: right;\n    }\n</style>\n<table border=\"1\" class=\"dataframe\">\n  <thead>\n    <tr style=\"text-align: right;\">\n      <th></th>\n      <th>mean</th>\n      <th>var</th>\n      <th>estimate_std</th>\n      <th>estimate_var</th>\n    </tr>\n  </thead>\n  <tbody>\n    <tr>\n      <th>TIGD6</th>\n      <td>0.015813</td>\n      <td>0.011589</td>\n      <td>0.112876</td>\n      <td>0.012741</td>\n    </tr>\n    <tr>\n      <th>ACRC</th>\n      <td>0.015816</td>\n      <td>0.015561</td>\n      <td>0.112886</td>\n      <td>0.012743</td>\n    </tr>\n    <tr>\n      <th>KCNK12</th>\n      <td>0.015817</td>\n      <td>0.014966</td>\n      <td>0.112891</td>\n      <td>0.012744</td>\n    </tr>\n    <tr>\n      <th>PEX11G</th>\n      <td>0.015821</td>\n      <td>0.010250</td>\n      <td>0.112904</td>\n      <td>0.012747</td>\n    </tr>\n    <tr>\n      <th>NCS1</th>\n      <td>0.015835</td>\n      <td>0.011739</td>\n      <td>0.112954</td>\n      <td>0.012759</td>\n    </tr>\n    <tr>\n      <th>...</th>\n      <td>...</td>\n      <td>...</td>\n      <td>...</td>\n      <td>...</td>\n    </tr>\n    <tr>\n      <th>BOLA3-AS1</th>\n      <td>0.016696</td>\n      <td>0.013340</td>\n      <td>0.115992</td>\n      <td>0.013454</td>\n    </tr>\n    <tr>\n      <th>POLR3G</th>\n      <td>0.016699</td>\n      <td>0.010039</td>\n      <td>0.116005</td>\n      <td>0.013457</td>\n    </tr>\n    <tr>\n      <th>EPDR1</th>\n      <td>0.016708</td>\n      <td>0.014903</td>\n      <td>0.116033</td>\n      <td>0.013464</td>\n    </tr>\n    <tr>\n      <th>RP11-338I21.1</th>\n      <td>0.016709</td>\n      <td>0.019587</td>\n      <td>0.116040</td>\n      <td>0.013465</td>\n    </tr>\n    <tr>\n      <th>RP11-634H22.1</th>\n      <td>0.016724</td>\n      <td>0.017769</td>\n      <td>0.116092</td>\n      <td>0.013477</td>\n    </tr>\n  </tbody>\n</table>\n<p>100 rows × 4 columns</p>\n</div>"
     },
     "execution_count": 66,
     "metadata": {},
     "output_type": "execute_result"
    }
   ],
   "source": [
    "df.loc[last_sig_gene_ctrl_set,:]"
   ],
   "metadata": {
    "collapsed": false,
    "pycharm": {
     "name": "#%%\n"
    }
   }
  },
  {
   "cell_type": "code",
   "execution_count": 67,
   "outputs": [],
   "source": [
    "new_point = np.ndarray(shape=(1,) )"
   ],
   "metadata": {
    "collapsed": false,
    "pycharm": {
     "name": "#%%\n"
    }
   }
  },
  {
   "cell_type": "code",
   "execution_count": 68,
   "outputs": [],
   "source": [
    "new_point[0] = np.log10(df.loc[last_sig_gene_ctrl_set,:]['mean'].mean())"
   ],
   "metadata": {
    "collapsed": false,
    "pycharm": {
     "name": "#%%\n"
    }
   }
  },
  {
   "cell_type": "code",
   "execution_count": 69,
   "outputs": [
    {
     "data": {
      "text/plain": "array([-1.78924252])"
     },
     "execution_count": 69,
     "metadata": {},
     "output_type": "execute_result"
    }
   ],
   "source": [
    "new_point"
   ],
   "metadata": {
    "collapsed": false,
    "pycharm": {
     "name": "#%%\n"
    }
   }
  },
  {
   "cell_type": "code",
   "execution_count": 70,
   "outputs": [],
   "source": [
    "prediction_new_point = model.predict(newdata=new_point)"
   ],
   "metadata": {
    "collapsed": false,
    "pycharm": {
     "name": "#%%\n"
    }
   }
  },
  {
   "cell_type": "code",
   "execution_count": 71,
   "outputs": [],
   "source": [
    "estim_var = 10 ** prediction_new_point.values"
   ],
   "metadata": {
    "collapsed": false,
    "pycharm": {
     "name": "#%%\n"
    }
   }
  },
  {
   "cell_type": "code",
   "execution_count": 72,
   "outputs": [],
   "source": [
    "estim_std = np.sqrt(estim_var)"
   ],
   "metadata": {
    "collapsed": false,
    "pycharm": {
     "name": "#%%\n"
    }
   }
  },
  {
   "cell_type": "code",
   "execution_count": 73,
   "outputs": [
    {
     "data": {
      "text/plain": "0.11441707827334702"
     },
     "execution_count": 73,
     "metadata": {},
     "output_type": "execute_result"
    }
   ],
   "source": [
    "estim_std[0]"
   ],
   "metadata": {
    "collapsed": false,
    "pycharm": {
     "name": "#%%\n"
    }
   }
  },
  {
   "cell_type": "code",
   "execution_count": 74,
   "outputs": [
    {
     "data": {
      "text/plain": "0.11441243777763997"
     },
     "execution_count": 74,
     "metadata": {},
     "output_type": "execute_result"
    }
   ],
   "source": [
    "(df.loc[last_sig_gene_ctrl_set,:]['estimate_std']).mean()"
   ],
   "metadata": {
    "collapsed": false,
    "pycharm": {
     "name": "#%%\n"
    }
   }
  },
  {
   "cell_type": "code",
   "execution_count": null,
   "outputs": [],
   "source": [
    "from src.utils.utils import nanmean\n",
    "\n",
    "scores_per_sig_gene = []\n",
    "for sig_gene, ctrl_genes in zip(gene_list,control_genes):\n",
    "    O = nanmean(adata[:, sig_gene].X, axis=1, dtype=\"float64\")\n",
    "    E = nanmean(adata[:, ctrl_genes].X, axis=1, dtype=\"float64\")\n",
    "    scores_per_sig_gene.append((O-E)/df.loc[sig_gene,'estimate_std'])"
   ],
   "metadata": {
    "collapsed": false,
    "pycharm": {
     "name": "#%%\n",
     "is_executing": true
    }
   }
  },
  {
   "cell_type": "code",
   "execution_count": null,
   "outputs": [],
   "source": [
    "df['estimate_std']"
   ],
   "metadata": {
    "collapsed": false,
    "pycharm": {
     "name": "#%%\n",
     "is_executing": true
    }
   }
  },
  {
   "cell_type": "code",
   "execution_count": null,
   "outputs": [],
   "source": [
    "isinstance(df,pd.core.frame.DataFrame)"
   ],
   "metadata": {
    "collapsed": false,
    "pycharm": {
     "name": "#%%\n",
     "is_executing": true
    }
   }
  },
  {
   "cell_type": "code",
   "execution_count": null,
   "outputs": [],
   "source": [
    "all(x in df['estimate_std'].index for x in gene_list)"
   ],
   "metadata": {
    "collapsed": false,
    "pycharm": {
     "name": "#%%\n",
     "is_executing": true
    }
   }
  },
  {
   "cell_type": "code",
   "execution_count": null,
   "outputs": [],
   "source": [
    "scores_per_sig_gene = np.vstack(scores_per_sig_gene)\n",
    "scores_per_sig_gene = scores_per_sig_gene.T"
   ],
   "metadata": {
    "collapsed": false,
    "pycharm": {
     "name": "#%%\n",
     "is_executing": true
    }
   }
  },
  {
   "cell_type": "code",
   "execution_count": null,
   "outputs": [],
   "source": [
    "scores_per_sig_gene"
   ],
   "metadata": {
    "collapsed": false,
    "pycharm": {
     "name": "#%%\n",
     "is_executing": true
    }
   }
  },
  {
   "cell_type": "code",
   "execution_count": null,
   "outputs": [],
   "source": [
    "scores_per_sig_gene.shape"
   ],
   "metadata": {
    "collapsed": false,
    "pycharm": {
     "name": "#%%\n",
     "is_executing": true
    }
   }
  },
  {
   "cell_type": "code",
   "execution_count": null,
   "outputs": [],
   "source": [
    "scores_mean = np.mean(scores_per_sig_gene, axis=1)\n",
    "scores_median = np.median(scores_per_sig_gene, axis=1)"
   ],
   "metadata": {
    "collapsed": false,
    "pycharm": {
     "name": "#%%\n",
     "is_executing": true
    }
   }
  },
  {
   "cell_type": "code",
   "execution_count": null,
   "outputs": [],
   "source": [
    "adata.obs.healthy"
   ],
   "metadata": {
    "collapsed": false,
    "pycharm": {
     "name": "#%%\n",
     "is_executing": true
    }
   }
  },
  {
   "cell_type": "code",
   "execution_count": null,
   "outputs": [],
   "source": [
    "plt.hist(scores_mean[adata.obs.healthy=='healthy'], bins = 20, alpha = 0.5, density = True, label='healthy')\n",
    "plt.hist(scores_mean[adata.obs.healthy=='unhealthy'], bins = 20, alpha = 0.5, density = True, label='unhealthy')\n",
    "plt.legend()"
   ],
   "metadata": {
    "collapsed": false,
    "pycharm": {
     "name": "#%%\n",
     "is_executing": true
    }
   }
  },
  {
   "cell_type": "code",
   "execution_count": null,
   "outputs": [],
   "source": [
    "plt.hist(scores_median[adata.obs.healthy=='healthy'], bins = 20, alpha = 0.5, density = True, label='healthy')\n",
    "plt.hist(scores_median[adata.obs.healthy=='unhealthy'], bins = 20, alpha = 0.5, density = True, label='unhealthy')\n",
    "plt.legend()"
   ],
   "metadata": {
    "collapsed": false,
    "pycharm": {
     "name": "#%%\n",
     "is_executing": true
    }
   }
  },
  {
   "cell_type": "code",
   "execution_count": null,
   "outputs": [],
   "source": [
    "from src.scoring_methods.gene_signature_scoring import score_signature\n",
    "\n",
    "score_signature(\n",
    "    method = 'adjusted_neighborhood_scoring',\n",
    "    adata=adata,\n",
    "    gene_list = gene_list,\n",
    "    ctrl_size = 100,\n",
    "    score_name = 'wo-var-adjustment'\n",
    ")\n"
   ],
   "metadata": {
    "collapsed": false,
    "pycharm": {
     "name": "#%%\n",
     "is_executing": true
    }
   }
  },
  {
   "cell_type": "code",
   "execution_count": null,
   "outputs": [],
   "source": [
    "plt.hist(adata.obs[adata.obs.healthy=='healthy']['wo-var-adjustment'], bins = 20, alpha = 0.5, density = True, label='healthy')\n",
    "plt.hist(adata.obs[adata.obs.healthy=='unhealthy']['wo-var-adjustment'], bins = 20, alpha = 0.5, density = True, label='unhealthy')\n",
    "plt.legend()"
   ],
   "metadata": {
    "collapsed": false,
    "pycharm": {
     "name": "#%%\n",
     "is_executing": true
    }
   }
  },
  {
   "cell_type": "code",
   "execution_count": null,
   "outputs": [],
   "source": [
    "from sklearn.metrics import roc_auc_score, f1_score\n",
    "\n",
    "AUCS = [roc_auc_score(adata.obs.healthy, scores_mean),\n",
    "        roc_auc_score(adata.obs.healthy, scores_median),\n",
    "        roc_auc_score(adata.obs.healthy, adata.obs['wo-var-adjustment']),]\n",
    "\n",
    "scores_mean_labels = adata.obs.healthy.copy()\n",
    "scores_mean_labels[scores_mean>0] = 'unhealthy'\n",
    "scores_mean_labels[scores_mean<=0] = 'healthy'\n",
    "scores_median_labels = adata.obs.healthy.copy()\n",
    "scores_median_labels[scores_median>0] = 'unhealthy'\n",
    "scores_median_labels[scores_median<=0] = 'healthy'\n",
    "scores_wo_var_mean_labels = adata.obs.healthy.copy()\n",
    "scores_wo_var_mean_labels[adata.obs['wo-var-adjustment']>0] = 'unhealthy'\n",
    "scores_wo_var_mean_labels[adata.obs['wo-var-adjustment']<=0] = 'healthy'\n",
    "\n",
    "F1S = [f1_score(adata.obs.healthy, scores_mean_labels, pos_label='unhealthy'),\n",
    "       f1_score(adata.obs.healthy, scores_median_labels, pos_label='unhealthy'),\n",
    "       f1_score(adata.obs.healthy, scores_wo_var_mean_labels, pos_label='unhealthy'),]\n",
    "\n",
    "\n",
    "print(F1S,AUCS)"
   ],
   "metadata": {
    "collapsed": false,
    "pycharm": {
     "name": "#%%\n"
    }
   }
  },
  {
   "cell_type": "code",
   "execution_count": null,
   "outputs": [],
   "source": [
    "adata.obs['wo-var-adjustment']"
   ],
   "metadata": {
    "collapsed": false,
    "pycharm": {
     "name": "#%%\n"
    }
   }
  },
  {
   "cell_type": "code",
   "execution_count": null,
   "outputs": [],
   "source": [
    "curr_gt = scores_mean_labels.copy().astype(str)"
   ],
   "metadata": {
    "collapsed": false,
    "pycharm": {
     "name": "#%%\n"
    }
   }
  },
  {
   "cell_type": "code",
   "execution_count": null,
   "outputs": [],
   "source": [
    "label_of_interest = 'unhealthy'"
   ],
   "metadata": {
    "collapsed": false,
    "pycharm": {
     "name": "#%%\n"
    }
   }
  },
  {
   "cell_type": "code",
   "execution_count": null,
   "outputs": [],
   "source": [
    "curr_gt.loc[curr_gt != label_of_interest] = 'not ' + label_of_interest"
   ],
   "metadata": {
    "collapsed": false,
    "pycharm": {
     "name": "#%%\n"
    }
   }
  },
  {
   "cell_type": "code",
   "execution_count": null,
   "outputs": [],
   "source": [
    "curr_gt"
   ],
   "metadata": {
    "collapsed": false,
    "pycharm": {
     "name": "#%%\n"
    }
   }
  },
  {
   "cell_type": "code",
   "execution_count": null,
   "outputs": [],
   "source": [],
   "metadata": {
    "collapsed": false,
    "pycharm": {
     "name": "#%%\n"
    }
   }
  },
  {
   "cell_type": "markdown",
   "source": [
    "### Test Adjusted Neighborhood scoring for new way to compute mean and variance"
   ],
   "metadata": {
    "collapsed": false,
    "pycharm": {
     "name": "#%% md\n"
    }
   }
  },
  {
   "cell_type": "code",
   "execution_count": null,
   "outputs": [],
   "source": [
    "score_signature(\n",
    "    method = 'adjusted_neighborhood_scoring',\n",
    "    adata=adata,\n",
    "    gene_list = gene_list,\n",
    "    ctrl_size = 100,\n",
    "    score_name = 'ANS'\n",
    ")"
   ],
   "metadata": {
    "collapsed": false,
    "pycharm": {
     "name": "#%%\n"
    }
   }
  },
  {
   "cell_type": "code",
   "execution_count": 12,
   "outputs": [
    {
     "name": "stdout",
     "output_type": "stream",
     "text": [
      "computing score 'ANS_w_std_adjustment_std'\n",
      "    finished: added\n",
      "    'ANS_w_std_adjustment_std', score of gene set (adata.obs).\n",
      "    50 total control genes are used. (0:00:09)\n",
      "computing score 'ANS_w_std_adjustment_std_var_1p'\n",
      "    finished: added\n",
      "    'ANS_w_std_adjustment_std_var_1p', score of gene set (adata.obs).\n",
      "    50 total control genes are used. (0:00:08)\n"
     ]
    }
   ],
   "source": [
    "score_signature(\n",
    "    method = 'adjusted_neighborhood_scoring',\n",
    "    adata=adata,\n",
    "    gene_list = gene_list,\n",
    "    ctrl_size = 100,\n",
    "    score_name = 'ANS_w_std_adjustment_std',\n",
    "    adjust_for_gene_std = True,\n",
    "    adjust_for_all_genes = False,\n",
    "    adjust_for_gene_std_var_1p = False,\n",
    "    store_path_mean_var_data = r'/Users/laure.ciernik/Library/Mobile Documents/com~apple~CloudDocs/Masterarbeit/mt_gene_signature_scoring/plots'\n",
    ")\n",
    "\n",
    "score_signature(\n",
    "    method = 'adjusted_neighborhood_scoring',\n",
    "    adata=adata,\n",
    "    gene_list = gene_list,\n",
    "    ctrl_size = 100,\n",
    "    score_name = 'ANS_w_std_adjustment_std_var_1p',\n",
    "    adjust_for_gene_std = True,\n",
    "    adjust_for_all_genes = False,\n",
    "    adjust_for_gene_std_var_1p = True,\n",
    "    store_path_mean_var_data = r'/Users/laure.ciernik/Library/Mobile Documents/com~apple~CloudDocs/Masterarbeit/mt_gene_signature_scoring/plots'\n",
    ")"
   ],
   "metadata": {
    "collapsed": false,
    "pycharm": {
     "name": "#%%\n"
    }
   }
  },
  {
   "cell_type": "code",
   "execution_count": 25,
   "outputs": [
    {
     "name": "stdout",
     "output_type": "stream",
     "text": [
      "computing score 'ANS_w_std_adjustment_all'\n",
      "    finished: added\n",
      "    'ANS_w_std_adjustment_all', score of gene set (adata.obs).\n",
      "    50 total control genes are used. (0:00:04)\n",
      "computing score 'ANS_w_std_adjustment_all_var_1p'\n",
      "    finished: added\n",
      "    'ANS_w_std_adjustment_all_var_1p', score of gene set (adata.obs).\n",
      "    50 total control genes are used. (0:00:03)\n"
     ]
    }
   ],
   "source": [
    "score_signature(\n",
    "    method = 'adjusted_neighborhood_scoring',\n",
    "    adata=adata,\n",
    "    gene_list = gene_list,\n",
    "    ctrl_size = 100,\n",
    "    score_name = 'ANS_w_std_adjustment_all',\n",
    "    adjust_for_gene_std = True,\n",
    "    adjust_for_all_genes = True,\n",
    "    adjust_for_gene_std_var_1p = False,\n",
    "    store_path_mean_var_data = r'/Users/laure.ciernik/Library/Mobile Documents/com~apple~CloudDocs/Masterarbeit/mt_gene_signature_scoring/plots'\n",
    ")\n",
    "score_signature(\n",
    "    method = 'adjusted_neighborhood_scoring',\n",
    "    adata=adata,\n",
    "    gene_list = gene_list,\n",
    "    ctrl_size = 100,\n",
    "    score_name = 'ANS_w_std_adjustment_all_var_1p',\n",
    "    adjust_for_gene_std = True,\n",
    "    adjust_for_all_genes = True,\n",
    "    adjust_for_gene_std_var_1p = True,\n",
    "    store_path_mean_var_data = r'/Users/laure.ciernik/Library/Mobile Documents/com~apple~CloudDocs/Masterarbeit/mt_gene_signature_scoring/plots'\n",
    ")"
   ],
   "metadata": {
    "collapsed": false,
    "pycharm": {
     "name": "#%%\n"
    }
   }
  },
  {
   "cell_type": "markdown",
   "source": [
    "### Test scoring for tirosch and other scoring functions"
   ],
   "metadata": {
    "collapsed": false,
    "pycharm": {
     "name": "#%% md\n"
    }
   }
  },
  {
   "cell_type": "code",
   "execution_count": 12,
   "outputs": [
    {
     "name": "stdout",
     "output_type": "stream",
     "text": [
      "computing score 'TS_old_version'\n",
      "No store_path indicated, thus no data stored.\n",
      "    finished: added\n",
      "    'TS_old_version', score of gene set (adata.obs).\n",
      "    5000 total control genes are used. (0:00:06)\n",
      "computing score 'TS_new_version'\n",
      "No store_path indicated, thus no data stored.\n",
      "    finished: added\n",
      "    'TS_new_version', score of gene set (adata.obs).\n",
      "    5000 total control genes are used. (0:00:00)\n"
     ]
    }
   ],
   "source": [
    "score_signature(\n",
    "    method = 'tirosh_scoring',\n",
    "    adata=adata,\n",
    "    gene_list = gene_list,\n",
    "    ctrl_size = 100,\n",
    "    n_bins = 25,\n",
    "    score_name = 'TS_old_version',\n",
    "    old_version = True\n",
    ")\n",
    "\n",
    "score_signature(\n",
    "    method = 'tirosh_scoring',\n",
    "    adata=adata,\n",
    "    gene_list = gene_list,\n",
    "    ctrl_size = 100,\n",
    "    n_bins = 25,\n",
    "    score_name = 'TS_new_version',\n",
    "    old_version = False\n",
    ")"
   ],
   "metadata": {
    "collapsed": false,
    "pycharm": {
     "name": "#%%\n"
    }
   }
  },
  {
   "cell_type": "code",
   "execution_count": 16,
   "outputs": [
    {
     "data": {
      "text/plain": "                               self     other\nindex                                        \nP23T-I-AAACGGGAGGCCATAG-0  0.016066  0.016066\nP23T-I-AAAGATGAGCACACAG-0  0.101435  0.101435\nP23T-I-AAAGCAACAGCGTTCG-0  0.026990  0.026990\nP23T-I-AAAGCAATCAGTGCAT-0  0.024823  0.024823\nP23T-I-AAAGTAGTCGTCTGAA-0  0.011998  0.011998\n...                             ...       ...\nP62T-I-TTTGCGCGTTTGACAC-7 -0.039232 -0.039232\nP62T-I-TTTGCGCTCCTTTACA-7 -0.052816 -0.052816\nP62T-I-TTTGGTTAGTAGATGT-7  0.079957  0.079957\nP62T-I-TTTGGTTGTGGTAACG-7 -0.008764 -0.008764\nP62T-I-TTTGTCACAGGGATTG-7 -0.062447 -0.062447\n\n[8873 rows x 2 columns]",
      "text/html": "<div>\n<style scoped>\n    .dataframe tbody tr th:only-of-type {\n        vertical-align: middle;\n    }\n\n    .dataframe tbody tr th {\n        vertical-align: top;\n    }\n\n    .dataframe thead th {\n        text-align: right;\n    }\n</style>\n<table border=\"1\" class=\"dataframe\">\n  <thead>\n    <tr style=\"text-align: right;\">\n      <th></th>\n      <th>self</th>\n      <th>other</th>\n    </tr>\n    <tr>\n      <th>index</th>\n      <th></th>\n      <th></th>\n    </tr>\n  </thead>\n  <tbody>\n    <tr>\n      <th>P23T-I-AAACGGGAGGCCATAG-0</th>\n      <td>0.016066</td>\n      <td>0.016066</td>\n    </tr>\n    <tr>\n      <th>P23T-I-AAAGATGAGCACACAG-0</th>\n      <td>0.101435</td>\n      <td>0.101435</td>\n    </tr>\n    <tr>\n      <th>P23T-I-AAAGCAACAGCGTTCG-0</th>\n      <td>0.026990</td>\n      <td>0.026990</td>\n    </tr>\n    <tr>\n      <th>P23T-I-AAAGCAATCAGTGCAT-0</th>\n      <td>0.024823</td>\n      <td>0.024823</td>\n    </tr>\n    <tr>\n      <th>P23T-I-AAAGTAGTCGTCTGAA-0</th>\n      <td>0.011998</td>\n      <td>0.011998</td>\n    </tr>\n    <tr>\n      <th>...</th>\n      <td>...</td>\n      <td>...</td>\n    </tr>\n    <tr>\n      <th>P62T-I-TTTGCGCGTTTGACAC-7</th>\n      <td>-0.039232</td>\n      <td>-0.039232</td>\n    </tr>\n    <tr>\n      <th>P62T-I-TTTGCGCTCCTTTACA-7</th>\n      <td>-0.052816</td>\n      <td>-0.052816</td>\n    </tr>\n    <tr>\n      <th>P62T-I-TTTGGTTAGTAGATGT-7</th>\n      <td>0.079957</td>\n      <td>0.079957</td>\n    </tr>\n    <tr>\n      <th>P62T-I-TTTGGTTGTGGTAACG-7</th>\n      <td>-0.008764</td>\n      <td>-0.008764</td>\n    </tr>\n    <tr>\n      <th>P62T-I-TTTGTCACAGGGATTG-7</th>\n      <td>-0.062447</td>\n      <td>-0.062447</td>\n    </tr>\n  </tbody>\n</table>\n<p>8873 rows × 2 columns</p>\n</div>"
     },
     "execution_count": 16,
     "metadata": {},
     "output_type": "execute_result"
    }
   ],
   "source": [
    "adata.obs['TS_new_version'].compare(adata.obs['TS_old_version'])"
   ],
   "metadata": {
    "collapsed": false,
    "pycharm": {
     "name": "#%%\n"
    }
   }
  },
  {
   "cell_type": "code",
   "execution_count": 14,
   "outputs": [
    {
     "data": {
      "text/plain": "<matplotlib.legend.Legend at 0x149b42310>"
     },
     "execution_count": 14,
     "metadata": {},
     "output_type": "execute_result"
    },
    {
     "data": {
      "text/plain": "<Figure size 432x288 with 1 Axes>",
      "image/png": "[encoded data removed]"
     },
     "metadata": {
      "needs_background": "light"
     },
     "output_type": "display_data"
    }
   ],
   "source": [
    "adata.obs['TS_new_version'].hist(bins=50, alpha = 0.5, label='new')\n",
    "adata.obs['TS_old_version'].hist(bins=50, alpha = 0.5, label='old')\n",
    "plt.legend()"
   ],
   "metadata": {
    "collapsed": false,
    "pycharm": {
     "name": "#%%\n"
    }
   }
  },
  {
   "cell_type": "code",
   "execution_count": 17,
   "outputs": [
    {
     "data": {
      "text/plain": "   Scoring method Test method  Statistic  pvalue scoring_for\n0  ts_old_version         auc   0.917104     NaN   unhealthy\n1  ts_old_version    auc-dist   0.938141     NaN   unhealthy\n2  ts_old_version          f1   0.519251     NaN   unhealthy\n3  ts_new_version         auc   0.917104     NaN   unhealthy\n4  ts_new_version    auc-dist   0.938141     NaN   unhealthy\n5  ts_new_version          f1   0.519251     NaN   unhealthy",
      "text/html": "<div>\n<style scoped>\n    .dataframe tbody tr th:only-of-type {\n        vertical-align: middle;\n    }\n\n    .dataframe tbody tr th {\n        vertical-align: top;\n    }\n\n    .dataframe thead th {\n        text-align: right;\n    }\n</style>\n<table border=\"1\" class=\"dataframe\">\n  <thead>\n    <tr style=\"text-align: right;\">\n      <th></th>\n      <th>Scoring method</th>\n      <th>Test method</th>\n      <th>Statistic</th>\n      <th>pvalue</th>\n      <th>scoring_for</th>\n    </tr>\n  </thead>\n  <tbody>\n    <tr>\n      <th>0</th>\n      <td>ts_old_version</td>\n      <td>auc</td>\n      <td>0.917104</td>\n      <td>NaN</td>\n      <td>unhealthy</td>\n    </tr>\n    <tr>\n      <th>1</th>\n      <td>ts_old_version</td>\n      <td>auc-dist</td>\n      <td>0.938141</td>\n      <td>NaN</td>\n      <td>unhealthy</td>\n    </tr>\n    <tr>\n      <th>2</th>\n      <td>ts_old_version</td>\n      <td>f1</td>\n      <td>0.519251</td>\n      <td>NaN</td>\n      <td>unhealthy</td>\n    </tr>\n    <tr>\n      <th>3</th>\n      <td>ts_new_version</td>\n      <td>auc</td>\n      <td>0.917104</td>\n      <td>NaN</td>\n      <td>unhealthy</td>\n    </tr>\n    <tr>\n      <th>4</th>\n      <td>ts_new_version</td>\n      <td>auc-dist</td>\n      <td>0.938141</td>\n      <td>NaN</td>\n      <td>unhealthy</td>\n    </tr>\n    <tr>\n      <th>5</th>\n      <td>ts_new_version</td>\n      <td>f1</td>\n      <td>0.519251</td>\n      <td>NaN</td>\n      <td>unhealthy</td>\n    </tr>\n  </tbody>\n</table>\n</div>"
     },
     "execution_count": 17,
     "metadata": {},
     "output_type": "execute_result"
    }
   ],
   "source": [
    "from src.utils.metrics import get_AUC_and_F1_performance\n",
    "\n",
    "get_AUC_and_F1_performance(\n",
    "    adata,\n",
    "    scoring_names = ['TS_new_version','TS_old_version']\n",
    ")"
   ],
   "metadata": {
    "collapsed": false,
    "pycharm": {
     "name": "#%%\n"
    }
   }
  },
  {
   "cell_type": "code",
   "execution_count": null,
   "outputs": [],
   "source": [],
   "metadata": {
    "collapsed": false,
    "pycharm": {
     "name": "#%%\n"
    }
   }
  }
 ],
 "metadata": {
  "kernelspec": {
   "display_name": "Python 3",
   "language": "python",
   "name": "python3"
  },
  "language_info": {
   "codemirror_mode": {
    "name": "ipython",
    "version": 2
   },
   "file_extension": ".py",
   "mimetype": "text/x-python",
   "name": "python",
   "nbconvert_exporter": "python",
   "pygments_lexer": "ipython2",
   "version": "2.7.6"
  }
 },
 "nbformat": 4,
 "nbformat_minor": 0
}