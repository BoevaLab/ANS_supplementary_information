{
 "cells": [
  {
   "cell_type": "markdown",
   "id": "123ade2e",
   "metadata": {},
   "source": [
    "# Comparison scores computed with Python or R: UCell, Jasmine, Seurat\n",
    "The aim of this notebook is to analyze the behaviour between the Python and R implementation of the UCell, Jasmine and Seurat gene signature scoring methods.\n",
    "We score CRC, ESCC and LUAD for a signature for malignant cells of length 100, i.e., 100 genes with smallest adjusted p-val and log2FC>2. See `scoring_ith_ucell_jasmine_seurat.R` (in the same folder) for details on scoring with R. "
   ]
  },
  {
   "cell_type": "code",
   "execution_count": null,
   "id": "63f17c09",
   "metadata": {},
   "outputs": [],
   "source": [
    "import sys\n",
    "import scanpy as sc \n",
    "import random\n",
    "import glob\n",
    "import os\n",
    "import scipy as sp\n",
    "import csv\n",
    "\n",
    "import pandas as pd\n",
    "import seaborn as sns \n",
    "import matplotlib.pyplot as plt\n",
    "\n",
    "from signaturescoring import score_signature\n",
    "\n",
    "sys.path.append('../..')\n",
    "from data.load_data import load_datasets, load_dgex_genes_for_mal_cells\n",
    "from data.constants import BASE_PATH_EXPERIMENTS, BASE_PATH_DATA\n",
    "\n",
    "sc.settings.verbosity = 2\n",
    "\n",
    "appendix = '_wo_luad'"
   ]
  },
  {
   "cell_type": "markdown",
   "id": "3cfd972c",
   "metadata": {},
   "source": [
    "### Store CRC, ESCC and LUAD datasets as SingleCellExperiments "
   ]
  },
  {
   "cell_type": "code",
   "execution_count": null,
   "id": "d5f54179",
   "metadata": {},
   "outputs": [],
   "source": [
    "# import scanpy\n",
    "# import anndata2ri\n",
    "# anndata2ri.activate()\n",
    "# %load_ext rpy2.ipython"
   ]
  },
  {
   "cell_type": "code",
   "execution_count": null,
   "id": "c6869bce",
   "metadata": {},
   "outputs": [],
   "source": [
    "# crc_data = load_datasets('crc')"
   ]
  },
  {
   "cell_type": "code",
   "execution_count": null,
   "id": "2908d753",
   "metadata": {},
   "outputs": [],
   "source": [
    "# %%R -i crc_data\n",
    "# saveRDS(crc_data, os.path.join(BASE_PATH_DATA, \"preprocessed_seurat/pp_crc.rds\"))"
   ]
  },
  {
   "cell_type": "code",
   "execution_count": null,
   "id": "9cb62f6a",
   "metadata": {},
   "outputs": [],
   "source": [
    "# del crc_data"
   ]
  },
  {
   "cell_type": "code",
   "execution_count": null,
   "id": "da51226d",
   "metadata": {},
   "outputs": [],
   "source": [
    "# escc_data = load_datasets('escc')"
   ]
  },
  {
   "cell_type": "code",
   "execution_count": null,
   "id": "54e43c1f",
   "metadata": {},
   "outputs": [],
   "source": [
    "# %%R -i escc_data\n",
    "# saveRDS(escc_data, os.path.join(BASE_PATH_DATA, \"preprocessed_seurat/pp_escc.rds\"))"
   ]
  },
  {
   "cell_type": "code",
   "execution_count": null,
   "id": "3dde7cf7",
   "metadata": {},
   "outputs": [],
   "source": [
    "# del escc_data"
   ]
  },
  {
   "cell_type": "code",
   "execution_count": null,
   "id": "06eae6ff",
   "metadata": {},
   "outputs": [],
   "source": [
    "# luad_data = load_datasets('luad')"
   ]
  },
  {
   "cell_type": "code",
   "execution_count": null,
   "id": "5a9000d1",
   "metadata": {},
   "outputs": [],
   "source": [
    "# %%R -i luad_data\n",
    "# saveRDS(luad_data, os.path.join(BASE_PATH_DATA, \"preprocessed_seurat/pp_luad.rds\"))"
   ]
  },
  {
   "cell_type": "code",
   "execution_count": null,
   "id": "ec8b0f6a",
   "metadata": {},
   "outputs": [],
   "source": [
    "# del luad_data"
   ]
  },
  {
   "cell_type": "markdown",
   "id": "ca142d92",
   "metadata": {},
   "source": [
    "### Score CRC, ESCC and LUAD for malignant signature with 100 genes"
   ]
  },
  {
   "cell_type": "code",
   "execution_count": null,
   "id": "d936fc6f",
   "metadata": {
    "code_folding": []
   },
   "outputs": [],
   "source": [
    "SCORING_METHODS = [\n",
    "    {\n",
    "       \"scoring_method\": \"adjusted_neighborhood_scoring\",\n",
    "        \"sc_params\": {\n",
    "            \"ctrl_size\": 100,\n",
    "            \"score_name\": \"ANS_Python\",\n",
    "        }, \n",
    "    },\n",
    "    {\n",
    "        \"scoring_method\": \"seurat_scoring\",\n",
    "        \"sc_params\": {\n",
    "            \"ctrl_size\": 100,\n",
    "            \"n_bins\": 25,\n",
    "            \"score_name\": \"Seurat_Python\",\n",
    "        },\n",
    "    },\n",
    "    {\n",
    "        \"scoring_method\": \"scanpy_scoring\",\n",
    "        \"sc_params\": {\n",
    "            \"ctrl_size\": 100,\n",
    "            \"n_bins\": 25,\n",
    "            \"score_name\": \"Scanpy_Python\",\n",
    "        },\n",
    "    },\n",
    "\n",
    "    {\n",
    "        \"scoring_method\": \"jasmine_scoring\",\n",
    "        \"sc_params\": {\n",
    "            \"score_method\": 'likelihood',\n",
    "            \"score_name\": \"Jasmine_LH_Python\",\n",
    "        },\n",
    "    },\n",
    "    {\n",
    "        \"scoring_method\": \"jasmine_scoring\",\n",
    "        \"sc_params\": {\n",
    "            \"score_method\": 'oddsratio',\n",
    "            \"score_name\": \"Jasmine_OR_Python\",\n",
    "        },\n",
    "    },\n",
    "    {\n",
    "        \"scoring_method\": \"ucell_scoring\",\n",
    "        \"sc_params\": {\n",
    "            \"score_name\": \"UCell_Python\",\n",
    "            \"maxRank\": 1500,\n",
    "        },\n",
    "    },\n",
    "]"
   ]
  },
  {
   "cell_type": "code",
   "execution_count": null,
   "id": "077f27cb",
   "metadata": {},
   "outputs": [],
   "source": [
    "def load_adata_gene_list(dataset, sig_len=100):\n",
    "    adata = load_datasets(dataset)\n",
    "    wc = load_dgex_genes_for_mal_cells(dataset)\n",
    "    wc = wc.sort_values(by=['padj', 'log2FoldChange'], ascending=[True, False])\n",
    "    gene_list = wc[0:sig_len].genes.tolist()\n",
    "    return adata, gene_list\n",
    "    \n",
    "\n",
    "def score_data(adata, gene_list):\n",
    "    for sc_method in SCORING_METHODS:\n",
    "        scoring_method = sc_method['scoring_method']\n",
    "        sc.logging.info(f'Scoring with {scoring_method}')\n",
    "        sc_params = sc_method['sc_params']\n",
    "        random.seed(123) # Use the same seed as in R \n",
    "        score_signature(method=scoring_method,\n",
    "                        adata=adata,\n",
    "                        gene_list=gene_list,\n",
    "                        **sc_params)"
   ]
  },
  {
   "cell_type": "code",
   "execution_count": null,
   "id": "3c0fe45d",
   "metadata": {},
   "outputs": [],
   "source": [
    "crc_data, crc_gene_list = load_adata_gene_list('crc')\n",
    "escc_data, escc_gene_list = load_adata_gene_list('escc')\n",
    "# luad_data, luad_gene_list = load_adata_gene_list('luad')"
   ]
  },
  {
   "cell_type": "code",
   "execution_count": null,
   "id": "c0da646c",
   "metadata": {},
   "outputs": [],
   "source": [
    "score_data(crc_data, crc_gene_list)"
   ]
  },
  {
   "cell_type": "code",
   "execution_count": null,
   "id": "e3ee4de0",
   "metadata": {},
   "outputs": [],
   "source": [
    "score_data(escc_data, escc_gene_list)"
   ]
  },
  {
   "cell_type": "code",
   "execution_count": null,
   "id": "09339339",
   "metadata": {},
   "outputs": [],
   "source": [
    "# score_data(luad_data, luad_gene_list)"
   ]
  },
  {
   "cell_type": "markdown",
   "id": "346e91e9",
   "metadata": {},
   "source": [
    "### Import scores computed with R methods"
   ]
  },
  {
   "cell_type": "code",
   "execution_count": null,
   "id": "48128638",
   "metadata": {},
   "outputs": [],
   "source": [
    "base_path = os.path.join(BASE_PATH_EXPERIMENTS, \"construction_scoring_methods\")"
   ]
  },
  {
   "cell_type": "code",
   "execution_count": null,
   "id": "92852ef0",
   "metadata": {},
   "outputs": [],
   "source": [
    "def get_name(dataset, name):\n",
    "    name_mapping={\n",
    "        f'{dataset}_ans_scores.csv':'ANS_R',\n",
    "        f'{dataset}_addmodulescore_scores.csv': 'AddModuleScore_R',\n",
    "        f'{dataset}_jas_lh_scores.csv': 'Jasmine_LH_R',\n",
    "        f'{dataset}_jas_or_scores.csv': 'Jasmine_OR_R',\n",
    "        f'{dataset}_ucell_scores.csv': 'UCell_R',\n",
    "    }\n",
    "    return name_mapping[name]\n",
    "    \n",
    "    \n",
    "\n",
    "def get_scores(dataset, base_path):\n",
    "    fns = glob.glob(os.path.join(base_path, dataset ,'*.csv'))\n",
    "    fns.sort()\n",
    "    dfs = []\n",
    "    for fn in fns:\n",
    "        file = os.path.basename(fn)\n",
    "        df = pd.read_csv(fn)\n",
    "        df.columns = ['cell_names', get_name(dataset, file)]\n",
    "        df = df.set_index('cell_names')\n",
    "        df.index.name = None\n",
    "        dfs.append(df)\n",
    "    return pd.concat(dfs, axis=1)\n"
   ]
  },
  {
   "cell_type": "code",
   "execution_count": null,
   "id": "1cce3d0a",
   "metadata": {},
   "outputs": [],
   "source": [
    "## CRC \n",
    "crc_R_scores = get_scores('crc', base_path)\n",
    "crc_data.obs[crc_R_scores.columns] = crc_R_scores"
   ]
  },
  {
   "cell_type": "code",
   "execution_count": null,
   "id": "97a9e082",
   "metadata": {},
   "outputs": [],
   "source": [
    "## ESCC \n",
    "escc_R_scores = get_scores('escc', base_path)\n",
    "escc_data.obs[escc_R_scores.columns] = escc_R_scores"
   ]
  },
  {
   "cell_type": "code",
   "execution_count": null,
   "id": "b6f0c209",
   "metadata": {},
   "outputs": [],
   "source": [
    "# ## LUAD \n",
    "# luad_R_scores = get_scores('luad', base_path)\n",
    "# luad_data.obs[luad_R_scores.columns] = luad_R_scores"
   ]
  },
  {
   "cell_type": "markdown",
   "id": "103d263d",
   "metadata": {},
   "source": [
    "### plotting function "
   ]
  },
  {
   "cell_type": "code",
   "execution_count": null,
   "id": "b2910e7b",
   "metadata": {},
   "outputs": [],
   "source": [
    "def plot_scatter(xaxis, yaxis):\n",
    "    cols = ['malignant_key', xaxis, yaxis]\n",
    "    small_crc = crc_data.obs[cols].copy()\n",
    "    small_crc['dataset'] = 'CRC'\n",
    "    small_escc = escc_data.obs[cols].copy()\n",
    "    small_escc['dataset'] = 'ESCC'\n",
    "#     small_luad = luad_data.obs[cols].copy()\n",
    "#     small_luad['dataset'] = 'LUAD'\n",
    "\n",
    "#     df = pd.concat([small_crc, small_escc, small_luad], axis=0)\n",
    "    df = pd.concat([small_crc, small_escc], axis=0)\n",
    "    g = sns.relplot(\n",
    "        data=df, x=xaxis, y=yaxis,\n",
    "        col=\"dataset\", hue=\"malignant_key\",\n",
    "        kind=\"scatter\"\n",
    "    )\n",
    "    \n",
    "    r_crc, p_crc = sp.stats.pearsonr(x=small_crc[xaxis], y=small_crc[yaxis])\n",
    "    r_escc, p_escc = sp.stats.pearsonr(x=small_escc[xaxis], y=small_escc[yaxis])\n",
    "#     r_luad, p_luad = sp.stats.pearsonr(x=small_luad[xaxis], y=small_luad[yaxis])\n",
    "    \n",
    "#     for ax, r in zip(g.axes[0], [r_crc, r_escc, r_luad]):\n",
    "    for ax, r in zip(g.axes[0], [r_crc, r_escc]):\n",
    "        plt.text(.05, .8, \"Pearson's r ={:.3f}\".format(r), transform=ax.transAxes)\n",
    "    \n",
    "    \n",
    "    return plt.gcf()"
   ]
  },
  {
   "cell_type": "code",
   "execution_count": null,
   "id": "ee142fa1",
   "metadata": {},
   "outputs": [],
   "source": [
    "pairs = [['UCell_R', 'UCell_Python'],\n",
    "['Jasmine_LH_R', 'Jasmine_LH_Python'],\n",
    "['Jasmine_OR_R', 'Jasmine_OR_Python'],\n",
    "['AddModuleScore_R', 'Seurat_Python'],\n",
    "['AddModuleScore_R', 'Scanpy_Python'],\n",
    "['ANS_R', 'ANS_Python'],]"
   ]
  },
  {
   "cell_type": "markdown",
   "id": "0a35e06d-f7bb-4f09-8ef1-fffddd2381a0",
   "metadata": {},
   "source": [
    "### Plot individual pairs"
   ]
  },
  {
   "cell_type": "code",
   "execution_count": null,
   "id": "e081b569",
   "metadata": {},
   "outputs": [],
   "source": [
    "plt.rcParams.update({'pdf.fonttype':42, 'font.family':'sans-serif', 'font.sans-serif':'Arial', 'font.size':16})\n",
    "for lbls in pairs:\n",
    "    plt.rcParams.update({'pdf.fonttype':42, 'font.family':'sans-serif', 'font.sans-serif':'Arial', 'font.size':16})\n",
    "    fig = plot_scatter(*lbls)\n",
    "    fig.suptitle(f'{lbls[0]} vs. {lbls[1]}', fontsize=18, y=1.075)\n",
    "    name_1 = lbls[0].rsplit('_', 1)[0]\n",
    "    name_2 = lbls[1].rsplit('_', 1)[0]\n",
    "    fig.savefig(os.path.join(base_path, 'plots', f'scatter_{name_1}_vs_{name_2}{appendix}.png'), dpi=300)\n",
    "    plt.show(fig)"
   ]
  },
  {
   "cell_type": "markdown",
   "id": "5e762f56-7ff0-4f82-b96c-60eb29100cbf",
   "metadata": {},
   "source": [
    "### Plot all together"
   ]
  },
  {
   "cell_type": "code",
   "execution_count": null,
   "id": "b6f57110",
   "metadata": {},
   "outputs": [],
   "source": [
    "pairs = ['dataset', 'UCell_R', 'UCell_Python','Jasmine_LH_R', 'Jasmine_LH_Python','Jasmine_OR_R', 'Jasmine_OR_Python','AddModuleScore_R', 'Seurat_Python','ANS_R', 'ANS_Python']"
   ]
  },
  {
   "cell_type": "code",
   "execution_count": null,
   "id": "a16ef12c",
   "metadata": {},
   "outputs": [],
   "source": [
    "crc_data.obs['dataset'] = 'CRC'\n",
    "escc_data.obs['dataset'] = 'ESCC'\n",
    "# luad_data.obs['dataset'] = 'LUAD'\n",
    "\n",
    "# df = pd.concat([crc_data.obs[pairs], \n",
    "#                 escc_data.obs[pairs], \n",
    "#                 luad_data.obs[pairs]], axis=0)\n",
    "df = pd.concat([crc_data.obs[pairs], \n",
    "                escc_data.obs[pairs]], axis=0)\n",
    "df['Seurat_R'] = df['AddModuleScore_R'].copy()"
   ]
  },
  {
   "cell_type": "code",
   "execution_count": null,
   "id": "bd2b2bd5",
   "metadata": {},
   "outputs": [],
   "source": [
    "df.drop(columns='AddModuleScore_R', inplace=True)"
   ]
  },
  {
   "cell_type": "code",
   "execution_count": null,
   "id": "99c127db",
   "metadata": {},
   "outputs": [],
   "source": [
    "df = df.reset_index().melt(id_vars=['index', 'dataset'],\n",
    "                     var_name='scoring_method',\n",
    "                     value_name='score')"
   ]
  },
  {
   "cell_type": "code",
   "execution_count": null,
   "id": "ef539875",
   "metadata": {},
   "outputs": [],
   "source": [
    "df['method'] = df.scoring_method.apply(lambda x: x.rsplit('_', 1)[0])\n",
    "df['language'] = df.scoring_method.apply(lambda x: x.rsplit('_', 1)[1])"
   ]
  },
  {
   "cell_type": "code",
   "execution_count": null,
   "id": "628107f3",
   "metadata": {},
   "outputs": [],
   "source": [
    "df = df.pivot(index=['index', 'dataset', 'method'],\n",
    "         columns=['language'],\n",
    "         values=['score']).reset_index()"
   ]
  },
  {
   "cell_type": "code",
   "execution_count": null,
   "id": "df4bf45d",
   "metadata": {},
   "outputs": [],
   "source": [
    "df.columns = ['sample_id', 'dataset', 'method', 'Python', 'R']\n",
    "df.index.name = None"
   ]
  },
  {
   "cell_type": "code",
   "execution_count": null,
   "id": "5d22d48c",
   "metadata": {},
   "outputs": [],
   "source": [
    "# row_order=['CRC', 'ESCC', 'LUAD']\n",
    "row_order=['CRC', 'ESCC']\n",
    "col_order=['ANS', 'Seurat', 'Jasmine_LH', 'Jasmine_OR', 'UCell']\n",
    "col=\"method\"\n",
    "row=\"dataset\""
   ]
  },
  {
   "cell_type": "code",
   "execution_count": null,
   "id": "b3db9608",
   "metadata": {},
   "outputs": [],
   "source": [
    "sns.set_theme(style='white')"
   ]
  },
  {
   "cell_type": "code",
   "execution_count": null,
   "id": "843c851f",
   "metadata": {
    "scrolled": true
   },
   "outputs": [],
   "source": [
    "g = sns.relplot(data=df, x=\"R\", y=\"Python\",col=col, row=row, \n",
    "                row_order=row_order,\n",
    "                col_order=col_order,\n",
    "                facet_kws={'sharey': False, 'sharex': False},\n",
    "                height=2, \n",
    "                aspect=1,\n",
    "                s=30\n",
    "               )\n",
    "g.set(xticks=[], yticks=[], xlabel=None, ylabel=None)\n",
    "# Remove the default titles\n",
    "g.set_titles(\"\")\n",
    "\n",
    "# Set new titles for the columns\n",
    "for ax, title in zip(g.axes[0,:], col_order):\n",
    "    ax.set_title(title, fontsize=18)\n",
    "\n",
    "# Set new titles for the rows\n",
    "for ax, title in zip(g.axes[:,-1], row_order):\n",
    "    ax.set_ylabel(title, fontsize=18, rotation=0)\n",
    "    ax.yaxis.set_label_position(\"right\")\n",
    "    \n",
    "\n",
    "g.fig.supxlabel(\"R\", y=0.025, fontsize=18)\n",
    "g.fig.supylabel(\"Python\", x=0.05, fontsize=18)\n",
    "\n",
    "    \n",
    "for curr_row,row_name in zip(g.axes,row_order):\n",
    "    for ax, col_name in zip(curr_row, col_order):\n",
    "        val = df[(df[row]==row_name)&(df[col]==col_name)]\n",
    "        r, p = sp.stats.pearsonr(x=val['Python'], y=val['R'])\n",
    "        # Add the correlation coefficient as text annotation\n",
    "        ax.annotate(f\"R = {r:.3f}\", xy=(0.1, 0.8), xycoords='axes fraction',fontsize=14)\n",
    "\n",
    "g.fig.tight_layout()\n",
    "\n",
    "# g.fig.savefig(os.path.join(base_path, 'plots', f'all_methods{appendix}.svg'))\n",
    "g.fig.savefig(os.path.join(base_path, 'plots', f'all_methods{appendix}.png'), dpi=600)"
   ]
  },
  {
   "cell_type": "code",
   "execution_count": null,
   "id": "5c33d9b2",
   "metadata": {},
   "outputs": [],
   "source": [
    "col_order=['CRC', 'ESCC']\n",
    "row_order=['ANS', 'Seurat', 'Jasmine_LH', 'Jasmine_OR', 'UCell']\n",
    "row=\"method\"\n",
    "col=\"dataset\""
   ]
  },
  {
   "cell_type": "code",
   "execution_count": null,
   "id": "cd7101ed-73a7-4f19-a6d8-fb1bb902baf1",
   "metadata": {},
   "outputs": [],
   "source": [
    "stat_df = []"
   ]
  },
  {
   "cell_type": "code",
   "execution_count": null,
   "id": "c5da2eac",
   "metadata": {},
   "outputs": [],
   "source": [
    "import numpy as np \n",
    "g = sns.relplot(data=df, x=\"R\", y=\"Python\",col=col, row=row, \n",
    "                row_order=row_order,\n",
    "                col_order=col_order,\n",
    "                facet_kws={'sharey': False, 'sharex': False},\n",
    "                height=1.5, \n",
    "                aspect=1.5,\n",
    "                s=30\n",
    "               )\n",
    "g.set(xticks=[], yticks=[], xlabel=None, ylabel=None)\n",
    "# Remove the default titles\n",
    "g.set_titles(\"\")\n",
    "\n",
    "# Set new titles for the columns\n",
    "for ax, title in zip(g.axes[0,:], col_order):\n",
    "    ax.set_title(title, fontsize=18)\n",
    "\n",
    "# Set new titles for the rows\n",
    "for ax, title in zip(g.axes[:,-1], row_order):\n",
    "    ax.set_ylabel(title, fontsize=18, rotation=0)\n",
    "    ax.yaxis.set_label_position(\"right\")\n",
    "    \n",
    "g.fig.supxlabel(\"R\", y=0.025, fontsize=18)\n",
    "g.fig.supylabel(\"Python\", x=0.05, fontsize=18)\n",
    "   \n",
    "for curr_row,row_name in zip(g.axes,row_order):\n",
    "    for ax, col_name in zip(curr_row, col_order):\n",
    "        val = df[(df[row]==row_name)&(df[col]==col_name)]\n",
    "        r, p = sp.stats.pearsonr(x=val['Python'], y=val['R'])\n",
    "        # Add the correlation coefficient as text annotation\n",
    "        ax.annotate(f\"R = {r:.3f}\", xy=(0.1, 0.8), xycoords='axes fraction',fontsize=14)\n",
    "\n",
    "        # Sample size and degrees of freedom\n",
    "        n = len(val['Python'])\n",
    "        df_stat = n - 2\n",
    "        \n",
    "        # Calculate 95% confidence intervals\n",
    "        z = np.arctanh(r)\n",
    "        se = 1/np.sqrt(n-3)\n",
    "        ci_lower = np.tanh(z - 1.96*se)\n",
    "        ci_upper = np.tanh(z + 1.96*se)\n",
    "\n",
    "        stat_df.append(\n",
    "            {\n",
    "            'Scoring method': row_name,\n",
    "            'Dataset': col_name,\n",
    "            'r': r,\n",
    "            'p': p,\n",
    "            'df': df_stat,\n",
    "            'ci_lower': ci_lower,\n",
    "            'ci_upper': ci_upper,\n",
    "        }\n",
    "        )\n",
    "\n",
    "g.fig.tight_layout()\n",
    "\n",
    "g.fig.savefig(os.path.join(base_path, 'plots', f'all_methods{appendix}_vertical.png'), dpi=600)"
   ]
  },
  {
   "cell_type": "code",
   "execution_count": null,
   "id": "b0e6ece2-1c27-48cc-bca6-6d860bbfdf6b",
   "metadata": {},
   "outputs": [],
   "source": [
    "stat_df = pd.DataFrame(stat_df)"
   ]
  },
  {
   "cell_type": "code",
   "execution_count": null,
   "id": "47eabe26-7cdf-4592-bae7-ae0be7280fda",
   "metadata": {},
   "outputs": [],
   "source": [
    "stat_df.to_csv(os.path.join(base_path,'plots', 'statistics.csv'))"
   ]
  },
  {
   "cell_type": "markdown",
   "id": "358f89d8",
   "metadata": {},
   "source": [
    "### Find subset in CRC, ESCC, and LUAD that don't match in UCell for R and Python "
   ]
  },
  {
   "cell_type": "code",
   "execution_count": null,
   "id": "df114ef9",
   "metadata": {},
   "outputs": [],
   "source": [
    "def ucell_diff(df, nr_samples=100, ratio=0.75):\n",
    "    ucell_diff = (df.UCell_R - df.UCell_Python).abs()\n",
    "    cells_same = ucell_diff[ucell_diff==0].index.tolist()\n",
    "    cells_not_same = ucell_diff[ucell_diff>0.03].index.tolist()\n",
    "    nr_same = int(nr_samples * (1-ratio))\n",
    "    nr_not_same = int(nr_samples * ratio)\n",
    "    random.seed(123)\n",
    "    return random.sample(cells_same, nr_same) + random.sample(cells_not_same, nr_not_same)\n",
    "\n",
    "def store_list_cells(datasset, list_cells):\n",
    "    curr_path = os.path.join(base_path, f'{dataset}_sample_cells.csv')\n",
    "    with open(curr_path, 'w', newline='') as file:\n",
    "        writer = csv.writer(file)\n",
    "        writer.writerow(list_cells)\n",
    "    print(f'Storing sample cells in {}')"
   ]
  },
  {
   "cell_type": "code",
   "execution_count": null,
   "id": "8158cecb",
   "metadata": {},
   "outputs": [],
   "source": [
    "crc_sample = ucell_diff(crc_data.obs)"
   ]
  },
  {
   "cell_type": "code",
   "execution_count": null,
   "id": "1f6ca56a",
   "metadata": {},
   "outputs": [],
   "source": [
    "escc_sample = ucell_diff(escc_data.obs)"
   ]
  },
  {
   "cell_type": "code",
   "execution_count": null,
   "id": "29bc0207",
   "metadata": {},
   "outputs": [],
   "source": [
    "# luad_sample = ucell_diff(luad_data.obs)"
   ]
  }
 ],
 "metadata": {
  "kernelspec": {
   "display_name": "Python 3 (ipykernel)",
   "language": "python",
   "name": "python3"
  },
  "language_info": {
   "codemirror_mode": {
    "name": "ipython",
    "version": 3
   },
   "file_extension": ".py",
   "mimetype": "text/x-python",
   "name": "python",
   "nbconvert_exporter": "python",
   "pygments_lexer": "ipython3",
   "version": "3.9.18"
  }
 },
 "nbformat": 4,
 "nbformat_minor": 5
}
