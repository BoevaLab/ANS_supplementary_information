{
 "cells": [
  {
   "cell_type": "code",
   "execution_count": null,
   "id": "3a4a8baf",
   "metadata": {
    "pycharm": {
     "name": "#%%\n"
    }
   },
   "outputs": [],
   "source": [
    "import os\n",
    "import sys\n",
    "import pandas as pd\n",
    "import scanpy as sc\n",
    "\n",
    "sys.path.append(\"../..\")\n",
    "\n",
    "from src.utils.utils import get_gene_list_real_data\n",
    "from src.data.preprocess_data import preprocess\n",
    "from src.scoring_methods.gene_signature_scoring import score_signature\n",
    "from data.constants import BASE_PATH_DATA, BASE_PATH_EXPERIMENTS\n",
    "\n",
    "sc.settings.verbosity = 1\n"
   ]
  },
  {
   "cell_type": "markdown",
   "metadata": {
    "pycharm": {
     "name": "#%% md\n"
    }
   },
   "source": [
    "## First attempt for construction \n",
    "Densify entire matrix and compute rank and or/likelihood measure on it.\n",
    "NOTE: does not scale if we want to score multiple sampples at the same time"
   ]
  },
  {
   "cell_type": "code",
   "execution_count": null,
   "id": "6a5767d7",
   "metadata": {
    "pycharm": {
     "name": "#%%\n"
    }
   },
   "outputs": [],
   "source": [
    "adata = sc.read_h5ad('../data/real_data/P23T_adata.h5ad')\n",
    "adata = adata[adata.obs['healthy'] != 'undecided', :]\n"
   ]
  },
  {
   "cell_type": "code",
   "execution_count": null,
   "id": "baf4e36b",
   "metadata": {
    "pycharm": {
     "name": "#%%\n"
    }
   },
   "outputs": [],
   "source": [
    "preprocess(adata, \n",
    "           min_genes=500, \n",
    "           min_cells=10,\n",
    "           target_sum=1e4, \n",
    "           copy=False, \n",
    "           verbose=1, \n",
    "           log=None)\n"
   ]
  },
  {
   "cell_type": "code",
   "execution_count": null,
   "id": "62cfe1b2",
   "metadata": {
    "pycharm": {
     "name": "#%%\n"
    }
   },
   "outputs": [],
   "source": [
    "gene_list = get_gene_list_real_data(\n",
    "    adata,\n",
    "    dge_method=\"wilcoxon\",\n",
    "    dge_key=\"wilcoxon\",\n",
    "    dge_pval_cutoff=0.01,\n",
    "    dge_log2fc_min=0.0025,\n",
    "    nr_de_genes=100,\n",
    "    mode=\"random\",\n",
    "    log='get_gene_list',\n",
    "    copy=False,\n",
    "    verbose=1\n",
    ")\n"
   ]
  },
  {
   "cell_type": "code",
   "execution_count": null,
   "metadata": {
    "pycharm": {
     "name": "#%%\n"
    }
   },
   "outputs": [],
   "source": [
    "data_df = pd.DataFrame(adata.X.todense(), index=adata.obs_names, columns=adata.var_names)"
   ]
  },
  {
   "cell_type": "code",
   "execution_count": null,
   "metadata": {
    "pycharm": {
     "name": "#%%\n"
    }
   },
   "outputs": [],
   "source": [
    "def rank_calculation(cell_data, genes):\n",
    "    subdata = cell_data[cell_data!=0]\n",
    "    cell_data_ranked = subdata.rank(na_option='bottom')\n",
    "    sig_data_ranked = cell_data_ranked[cell_data_ranked.index.isin(genes)]\n",
    "    if len(sig_data_ranked)>0:\n",
    "        cumsum = sig_data_ranked.mean(skipna=True)\n",
    "    else:\n",
    "        cumsum =0 \n",
    "    return (cumsum/len(subdata))"
   ]
  },
  {
   "cell_type": "code",
   "execution_count": null,
   "metadata": {
    "pycharm": {
     "name": "#%%\n"
    }
   },
   "outputs": [],
   "source": [
    "def or_calculation(data, genes):\n",
    "    ge  = data.loc[:,data.columns.isin(genes)]\n",
    "    nge = data.loc[:,data.columns.isin(genes)==False] \n",
    "\n",
    "    SigGenesExp = ge.apply(func=(lambda x: len(x[x!=0])), axis=1)\n",
    "    NSigGenesExp =nge.apply(func=(lambda x: len(x[x!=0])), axis=1)\n",
    "\n",
    "    SigGenesNE = ge.shape[1] - SigGenesExp\n",
    "    SigGenesNE = SigGenesNE.replace(0,1)\n",
    "\n",
    "    NSigGenesExp = NSigGenesExp.replace(0,1)\n",
    "\n",
    "    NSigGenesNE = nge.shape[1] - (SigGenesExp + NSigGenesExp)\n",
    "    NSigGenesNE = NSigGenesNE - SigGenesNE\n",
    "\n",
    "    OR_score = (SigGenesExp * NSigGenesNE) / (SigGenesNE * NSigGenesExp)\n",
    "\n",
    "    return OR_score\n",
    "\n"
   ]
  },
  {
   "cell_type": "code",
   "execution_count": null,
   "metadata": {
    "pycharm": {
     "name": "#%%\n"
    }
   },
   "outputs": [],
   "source": [
    "def likelihood_calculation(data, genes):\n",
    "    ge  = data.loc[:,data.columns.isin(genes)]\n",
    "    nge = data.loc[:,data.columns.isin(genes)==False] \n",
    "\n",
    "    SigGenesExp = ge.apply(func=(lambda x: len(x[x!=0])), axis=1)\n",
    "    NSigGenesExp =nge.apply(func=(lambda x: len(x[x!=0])), axis=1)\n",
    "\n",
    "    SigGenesNE = ge.shape[1] - SigGenesExp\n",
    "    SigGenesNE = SigGenesNE.replace(0,1)\n",
    "\n",
    "    NSigGenesExp = NSigGenesExp.replace(0,1)\n",
    "\n",
    "    NSigGenesNE = nge.shape[1] - (SigGenesExp + NSigGenesExp)\n",
    "    NSigGenesNE = NSigGenesNE - SigGenesNE\n",
    "\n",
    "    LR_one = SigGenesExp * (NSigGenesExp + NSigGenesNE)\n",
    "    LR_two = NSigGenesExp * (SigGenesExp + SigGenesNE)\n",
    "    LR_score = LR_one/LR_two\n",
    "\n",
    "    return LR_score\n",
    "\n"
   ]
  },
  {
   "cell_type": "code",
   "execution_count": null,
   "metadata": {
    "pycharm": {
     "name": "#%%\n"
    }
   },
   "outputs": [],
   "source": [
    "ranked_data_df = data_df.apply(func=(lambda x: rank_calculation(x, gene_list)), axis=1)"
   ]
  },
  {
   "cell_type": "code",
   "execution_count": null,
   "metadata": {
    "pycharm": {
     "name": "#%%\n"
    }
   },
   "outputs": [],
   "source": [
    "#normalize\n",
    "ranked_data_df = (ranked_data_df - ranked_data_df.min())/(ranked_data_df.max()- ranked_data_df.min())"
   ]
  },
  {
   "cell_type": "code",
   "execution_count": null,
   "metadata": {
    "pycharm": {
     "name": "#%%\n"
    }
   },
   "outputs": [],
   "source": [
    "or_scores = or_calculation(data_df, gene_list)\n",
    "or_scores = (or_scores-or_scores.min())/(or_scores.max()-or_scores.min())"
   ]
  },
  {
   "cell_type": "code",
   "execution_count": null,
   "metadata": {
    "pycharm": {
     "name": "#%%\n"
    }
   },
   "outputs": [],
   "source": [
    "lr_scores = likelihood_calculation(data_df, gene_list)\n",
    "lr_scores = (lr_scores-lr_scores.min())/(lr_scores.max()-lr_scores.min())"
   ]
  },
  {
   "cell_type": "code",
   "execution_count": null,
   "metadata": {
    "pycharm": {
     "name": "#%%\n"
    }
   },
   "outputs": [],
   "source": [
    "JAS_Scores_1 = (or_scores + ranked_data_df)/2"
   ]
  },
  {
   "cell_type": "code",
   "execution_count": null,
   "metadata": {
    "pycharm": {
     "name": "#%%\n"
    }
   },
   "outputs": [],
   "source": [
    "JAS_Scores_2 = (lr_scores + ranked_data_df)/2"
   ]
  },
  {
   "cell_type": "code",
   "execution_count": null,
   "metadata": {
    "pycharm": {
     "name": "#%%\n"
    }
   },
   "outputs": [],
   "source": [
    "print(JAS_Scores_1)\n",
    "print(JAS_Scores_2)"
   ]
  },
  {
   "cell_type": "code",
   "execution_count": null,
   "metadata": {
    "pycharm": {
     "name": "#%%\n"
    }
   },
   "outputs": [],
   "source": [
    "adata.obs['JAS_Scores_1'] = JAS_Scores_1\n",
    "adata.obs['JAS_Scores_2'] = JAS_Scores_2"
   ]
  },
  {
   "cell_type": "code",
   "execution_count": null,
   "metadata": {
    "pycharm": {
     "name": "#%%\n"
    }
   },
   "outputs": [],
   "source": [
    "from src.utils.utils import get_test_statistics\n",
    "from src.scoring_methods.gene_signature_scoring import score_signature"
   ]
  },
  {
   "cell_type": "code",
   "execution_count": null,
   "metadata": {
    "pycharm": {
     "name": "#%%\n"
    }
   },
   "outputs": [],
   "source": [
    "score_signature(\n",
    "    method='jasmine_scoring',\n",
    "    adata=adata,\n",
    "    gene_list=gene_list,\n",
    "    score_method = 'likelihood', \n",
    "    score_name = 'jasmine_lh'\n",
    ")\n",
    "score_signature(\n",
    "    method='jasmine_scoring',\n",
    "    adata=adata,\n",
    "    gene_list=gene_list,\n",
    "    score_method = 'oddsratio', \n",
    "    score_name = 'jasmine_or'\n",
    ")"
   ]
  },
  {
   "cell_type": "code",
   "execution_count": null,
   "metadata": {
    "pycharm": {
     "name": "#%%\n"
    }
   },
   "outputs": [],
   "source": [
    "test_stat = get_test_statistics(adata,\n",
    "                                ['JAS_Scores_1','jasmine_or' , 'JAS_Scores_2','jasmine_lh' ],\n",
    "                                test_method=\"auc\",\n",
    "                                label_col='healthy',\n",
    "                                label_whsc='unhealthy',\n",
    "                                save=False,\n",
    "                                store_data_path=None)\n",
    "test_stat"
   ]
  },
  {
   "cell_type": "markdown",
   "metadata": {
    "pycharm": {
     "name": "#%% md\n"
    }
   },
   "source": [
    "## Second attempt for construction \n",
    "Goal: We want to be able to run jasmine scoring on all the data\n",
    "How to: We work on a large dataset "
   ]
  },
  {
   "cell_type": "code",
   "execution_count": null,
   "metadata": {
    "pycharm": {
     "name": "#%%\n"
    }
   },
   "outputs": [],
   "source": [
    "adata = sc.read_h5ad(os.path.join(BASE_PATH_DATA,'real_data/multi.h5ad'))\n",
    "adata = adata.raw.to_adata()\n",
    "adata.var_names = adata.var['_index']\n",
    "adata.var_names.name = None"
   ]
  },
  {
   "cell_type": "code",
   "execution_count": null,
   "metadata": {
    "pycharm": {
     "name": "#%%\n"
    }
   },
   "outputs": [],
   "source": [
    "# TODO define path\n",
    "#adata = sc.read_h5ad('../data/synthetic_data/8B_diff_groups_ratio_w_BE/dataset.hdf5')"
   ]
  },
  {
   "cell_type": "code",
   "execution_count": null,
   "metadata": {
    "pycharm": {
     "name": "#%%\n"
    }
   },
   "outputs": [],
   "source": [
    "adatas = {}\n",
    "for group in adata.obs.groupby('orig.ident'):\n",
    "#for group in adata.obs.groupby('Batch'):\n",
    "    adatas[group[0]] = adata[group[1].index,].copy()\n",
    "del adata\n",
    "\n",
    "for key, adata in adatas.items():\n",
    "    preprocess(adata,\n",
    "               min_genes=500,\n",
    "               min_cells=5,\n",
    "               target_sum=1e4)"
   ]
  },
  {
   "cell_type": "code",
   "execution_count": null,
   "metadata": {
    "pycharm": {
     "name": "#%%\n"
    }
   },
   "outputs": [],
   "source": [
    "adata = sc.concat(list(adatas.values()), merge='same',join='inner')\n",
    "adata"
   ]
  },
  {
   "cell_type": "code",
   "execution_count": null,
   "metadata": {
    "pycharm": {
     "name": "#%%\n"
    }
   },
   "outputs": [],
   "source": [
    "#adata.obs.Batch.astype('category')"
   ]
  },
  {
   "cell_type": "code",
   "execution_count": null,
   "metadata": {
    "pycharm": {
     "name": "#%%\n"
    }
   },
   "outputs": [],
   "source": [
    "curr_adata = adatas['P1_0']\n",
    "del adatas"
   ]
  },
  {
   "cell_type": "code",
   "execution_count": null,
   "metadata": {
    "pycharm": {
     "name": "#%%\n"
    }
   },
   "outputs": [],
   "source": [
    "#gene_list = adata.var.DEFacGroup1.nlargest(20).index.tolist()"
   ]
  },
  {
   "cell_type": "code",
   "execution_count": null,
   "metadata": {
    "pycharm": {
     "name": "#%%\n"
    }
   },
   "outputs": [],
   "source": [
    "DE_of_celltypes = pd.read_csv(os.path.join(BASE_PATH_DATA, 'real_data/DE_by_celltype.csv'))\n",
    "gene_list = DE_of_celltypes[DE_of_celltypes['Cell Type']=='CD4 Proliferating'].nlargest(20, columns=['Average Log Fold Change'])['Gene'].values.tolist()\n",
    "gene_list"
   ]
  },
  {
   "cell_type": "markdown",
   "metadata": {
    "pycharm": {
     "name": "#%% md\n"
    }
   },
   "source": [
    "Rank sparse matrix"
   ]
  },
  {
   "cell_type": "code",
   "execution_count": null,
   "metadata": {
    "pycharm": {
     "name": "#%%\n"
    }
   },
   "outputs": [],
   "source": [
    "from scipy.stats import rankdata\n",
    "import numpy as np\n",
    "from scipy.sparse import issparse"
   ]
  },
  {
   "cell_type": "code",
   "execution_count": null,
   "metadata": {
    "pycharm": {
     "name": "#%%\n"
    }
   },
   "outputs": [],
   "source": [
    "curr_adata.X.nonzero()"
   ]
  },
  {
   "cell_type": "code",
   "execution_count": null,
   "metadata": {
    "pycharm": {
     "name": "#%%\n"
    }
   },
   "outputs": [],
   "source": [
    "gene_list_idx = np.where(adata.var_names.isin(gene_list))[0]"
   ]
  },
  {
   "cell_type": "code",
   "execution_count": null,
   "metadata": {
    "collapsed": true,
    "pycharm": {
     "name": "#%%\n"
    }
   },
   "outputs": [],
   "source": [
    "%%time\n",
    "avg_sig_ranks = np.zeros(curr_adata.X.shape[0])\n",
    "for i in range(curr_adata.X.shape[0]):\n",
    "    curr_row = curr_adata.X[i,:]\n",
    "    print(curr_row.getnnz())\n",
    "    ranked_data = rankdata(curr_row.data)\n",
    "    curr_row_sig_idx = [x in gene_list_idx for x in curr_row.indices]\n",
    "    \n",
    "    sig_genes_ranks = ranked_data[curr_row_sig_idx]\n",
    "    \n",
    "    if len(sig_genes_ranks) > 0:\n",
    "        cumsum = np.nanmean(sig_genes_ranks)\n",
    "    else:\n",
    "        cumsum = 0\n",
    "    \n",
    "    avg_sig_ranks[i] = cumsum / len(curr_row.nonzero()[1])\n",
    "    \n",
    "#this is quite slow "
   ]
  },
  {
   "cell_type": "code",
   "execution_count": null,
   "metadata": {
    "pycharm": {
     "name": "#%%\n"
    }
   },
   "outputs": [],
   "source": [
    "def rank_calculation(cell_data, genes):\n",
    "    subdata = cell_data[cell_data != 0]\n",
    "    cell_data_ranked = subdata.rank(na_option='bottom')\n",
    "    sig_data_ranked = cell_data_ranked[cell_data_ranked.index.isin(genes)]\n",
    "    if len(sig_data_ranked) > 0:\n",
    "        cumsum = np.nanmean(sig_data_ranked)\n",
    "    else:\n",
    "        cumsum = 0\n",
    "    return cumsum / len(subdata)"
   ]
  },
  {
   "cell_type": "code",
   "execution_count": null,
   "metadata": {
    "pycharm": {
     "name": "#%%\n"
    }
   },
   "outputs": [],
   "source": [
    "%%time\n",
    "sparse_X = issparse(adata.X)\n",
    "\n",
    "# create groups of managable sizes\n",
    "bss = pd.cut(np.arange(adata.obs.shape[0]), (adata.obs.shape[0] // 1000 + 1), labels=False)\n",
    "\n",
    "# for each group compute for each cell the ranks of the genes and select the ranks that belong to the signature\n",
    "# genes\n",
    "avg_sig_ranks = []\n",
    "for group in adata.obs.groupby(bss):\n",
    "    if sparse_X:\n",
    "        data_df = pd.DataFrame(\n",
    "            adata[group[1].index,].X.todense(), index=group[1].index, columns=adata.var_names\n",
    "        )\n",
    "    else:\n",
    "        data_df = pd.DataFrame(\n",
    "            adata[group[1].index,].X, index=group[1].index, columns=adata.var_names\n",
    "        )\n",
    "    res = data_df.apply(func=(lambda x: rank_calculation(x, gene_list)), axis=1)\n",
    "    avg_sig_ranks.append(res)\n",
    "del data_df\n",
    "del res\n",
    "del bss"
   ]
  },
  {
   "cell_type": "code",
   "execution_count": null,
   "metadata": {
    "pycharm": {
     "name": "#%%\n"
    }
   },
   "outputs": [],
   "source": [
    "avg_sig_ranks = pd.concat(avg_sig_ranks, axis=0)\n",
    "avg_sig_ranks = (avg_sig_ranks - avg_sig_ranks.min()) / (avg_sig_ranks.max() - avg_sig_ranks.min())"
   ]
  },
  {
   "cell_type": "code",
   "execution_count": null,
   "metadata": {
    "pycharm": {
     "name": "#%%\n"
    }
   },
   "outputs": [],
   "source": [
    "def preparation(adata, genes):\n",
    "    \n",
    "    SG_X = adata[:,gene_list].X\n",
    "    NSG_X = adata[:,adata.var_names.isin(gene_list)==False].X\n",
    "    \n",
    "    NSG = list(set(adata.var_names).difference(set(gene_list)))\n",
    "    \n",
    "    if sparse_X: \n",
    "        ge = pd.DataFrame.sparse.from_spmatrix(SG_X, index=adata.obs_names, columns=gene_list)\n",
    "        nge = pd.DataFrame.sparse.from_spmatrix(NSG_X, index=adata.obs_names, columns=NSG)\n",
    "    else:\n",
    "        ge = pd.DataFrame(SG_X, index=adata.obs_names, columns=gene_list)\n",
    "        nge = pd.DataFrame(NSG_X, index=adata.obs_names, columns=NSG)\n",
    "    \n",
    "    SigGenesExp = ge.astype(bool).sum(axis=1)\n",
    "    NSigGenesExp = nge.astype(bool).sum(axis=1)\n",
    "    \n",
    "    SigGenesNE = ge.shape[1] - SigGenesExp\n",
    "    SigGenesNE = SigGenesNE.replace(0, 1)\n",
    "\n",
    "    NSigGenesExp = NSigGenesExp.replace(0, 1)\n",
    "\n",
    "    NSigGenesNE = nge.shape[1] - (SigGenesExp + NSigGenesExp)\n",
    "    NSigGenesNE = NSigGenesNE - SigGenesNE\n",
    "\n",
    "    return SigGenesExp, SigGenesNE, NSigGenesExp, NSigGenesNE\n",
    "\n",
    "\n",
    "def or_calculation(adata, genes):\n",
    "    SigGenesExp, SigGenesNE, NSigGenesExp, NSigGenesNE = preparation(adata, genes)\n",
    "\n",
    "    OR_score = (SigGenesExp * NSigGenesNE) / (SigGenesNE * NSigGenesExp)\n",
    "\n",
    "    return OR_score\n",
    "\n",
    "\n",
    "def likelihood_calculation(adata, genes):\n",
    "    SigGenesExp, SigGenesNE, NSigGenesExp, NSigGenesNE = preparation(adata, genes)\n",
    "\n",
    "    LR_one = SigGenesExp * (NSigGenesExp + NSigGenesNE)\n",
    "    LR_two = NSigGenesExp * (SigGenesExp + SigGenesNE)\n",
    "    LR_score = LR_one / LR_two\n",
    "\n",
    "    return LR_score"
   ]
  },
  {
   "cell_type": "code",
   "execution_count": null,
   "metadata": {
    "pycharm": {
     "name": "#%%\n"
    }
   },
   "outputs": [],
   "source": [
    "%%time\n",
    "scores = or_calculation(adata, gene_list)"
   ]
  },
  {
   "cell_type": "code",
   "execution_count": null,
   "metadata": {
    "pycharm": {
     "name": "#%%\n"
    }
   },
   "outputs": [],
   "source": [
    "scores = (scores - scores.min()) / (scores.max() - scores.min())\n",
    "score = (scores + avg_sig_ranks) / 2"
   ]
  },
  {
   "cell_type": "code",
   "execution_count": null,
   "metadata": {
    "pycharm": {
     "name": "#%%\n"
    }
   },
   "outputs": [],
   "source": [
    "score[adata.obs['celltype.l3']=='CD4 Proliferating'].hist(density=True, alpha=0.5, label='CD4 Proliferating')\n",
    "score[adata.obs['celltype.l3']!='CD4 Proliferating'].hist(density=True, alpha=0.5, label=' not CD4 Proliferating')"
   ]
  },
  {
   "cell_type": "code",
   "execution_count": null,
   "metadata": {
    "pycharm": {
     "name": "#%%\n"
    }
   },
   "outputs": [],
   "source": [
    "%%time\n",
    "scores = likelihood_calculation(adata, gene_list)"
   ]
  },
  {
   "cell_type": "code",
   "execution_count": null,
   "metadata": {
    "pycharm": {
     "name": "#%%\n"
    }
   },
   "outputs": [],
   "source": [
    "scores = (scores - scores.min()) / (scores.max() - scores.min())\n",
    "score = (scores + avg_sig_ranks) / 2"
   ]
  },
  {
   "cell_type": "code",
   "execution_count": null,
   "metadata": {
    "pycharm": {
     "name": "#%%\n"
    }
   },
   "outputs": [],
   "source": [
    "score[adata.obs['celltype.l3']=='CD4 Proliferating'].hist(density=True, alpha=0.5, label='CD4 Proliferating')\n",
    "score[adata.obs['celltype.l3']!='CD4 Proliferating'].hist(density=True, alpha=0.5, label=' not CD4 Proliferating')"
   ]
  },
  {
   "cell_type": "markdown",
   "metadata": {
    "pycharm": {
     "name": "#%% md\n"
    }
   },
   "source": [
    "### Paralellizing scoring _method"
   ]
  },
  {
   "cell_type": "code",
   "execution_count": null,
   "metadata": {
    "pycharm": {
     "name": "#%%\n"
    }
   },
   "outputs": [],
   "source": [
    "from IPython.core.display import display, HTML\n",
    "display(HTML(\"<style>.container { width:90% !important; }</style>\"))"
   ]
  },
  {
   "cell_type": "code",
   "execution_count": null,
   "metadata": {
    "pycharm": {
     "name": "#%%\n"
    }
   },
   "outputs": [],
   "source": [
    "orig_adata = sc.read_h5ad(os.path.join(BASE_PATH_DATA, 'real_data/esophag/preoprocessed_data.h5ad'))\n",
    "\n",
    "mes_sig = pd.read_csv(os.path.join(BASE_PATH_DATA, 'annotations/esophag/genesig_Mes.csv')).Mes.tolist()"
   ]
  },
  {
   "cell_type": "code",
   "execution_count": null,
   "metadata": {
    "pycharm": {
     "name": "#%%\n"
    }
   },
   "outputs": [],
   "source": [
    "%%time\n",
    "score_signature(method=\"jasmine_scoring\",\n",
    "                adata=orig_adata,\n",
    "                gene_list=mes_sig,\n",
    "                score_method = 'likelihood',\n",
    "                score_name='mes_sig_scores_lh'\n",
    "                )"
   ]
  },
  {
   "cell_type": "code",
   "execution_count": null,
   "metadata": {
    "pycharm": {
     "name": "#%%\n"
    }
   },
   "outputs": [],
   "source": [
    "%%time\n",
    "score_signature(method=\"jasmine_scoring\",\n",
    "                adata=orig_adata,\n",
    "                gene_list=mes_sig,\n",
    "                score_method = 'oddsratio',\n",
    "                score_name='mes_sig_scores_or'\n",
    "                )"
   ]
  },
  {
   "cell_type": "code",
   "execution_count": null,
   "metadata": {
    "pycharm": {
     "name": "#%%\n"
    }
   },
   "outputs": [],
   "source": [
    "import sys\n",
    "from typing import Optional, Sequence\n",
    "\n",
    "import numpy as np\n",
    "import pandas as pd\n",
    "import scanpy as sc\n",
    "from anndata import AnnData\n",
    "from scanpy._utils import AnyRandom, _check_use_raw\n",
    "from scipy.sparse import issparse, isspmatrix_csr,isspmatrix_csc, csr_matrix\n",
    "import multiprocessing\n",
    "from joblib import Parallel, delayed\n",
    "import warnings\n",
    "\n",
    "sys.path.append(\"../..\")\n",
    "\n",
    "from src.utils.utils import check_signature_genes\n",
    "\n",
    "\n",
    "def rank_calculation(cell_data, genes):\n",
    "    subdata = cell_data[cell_data != 0]\n",
    "    cell_data_ranked = subdata.rank(na_option='bottom')\n",
    "    sig_data_ranked = cell_data_ranked[cell_data_ranked.index.isin(genes)]\n",
    "    if len(sig_data_ranked) > 0:\n",
    "        cumsum = sig_data_ranked.mean(skipna=True)\n",
    "    else:\n",
    "        cumsum = 0\n",
    "    return cumsum / len(subdata)\n",
    "\n",
    "def compute_avg_ranks_sig_subset(X_data, index, columns,gene_list,X_indices=None,X_indptr=None,X_shape=None):\n",
    "    \n",
    "    if any([x is None for x in [X_indices,X_indptr, X_shape]]):\n",
    "        data_df = pd.DataFrame(\n",
    "            X_data, index=index, columns=columns\n",
    "        )\n",
    "    else:\n",
    "        data_df = pd.DataFrame(\n",
    "            csr_matrix((X_data, X_indices,X_indptr),X_shape, copy=True).todense(), index=index, columns=columns\n",
    "        )\n",
    "\n",
    "    return data_df.apply(func=(lambda x: rank_calculation(x, gene_list)), axis=1)\n",
    "\n",
    "def compute_avg_ranks_signature(adata,sparse_X,gene_list, bs, joblib_kwargs):\n",
    "    # create groups of managable sizes --> for each group compute for each cell the ranks of the genes and select the\n",
    "    # ranks that belong to the signature genes\n",
    "    # create groups of managable sizes\n",
    "    bss = pd.cut(np.arange(adata.obs.shape[0]), (adata.obs.shape[0] // bs + 1), labels=False)\n",
    "    \n",
    "    num_cores = multiprocessing.cpu_count()\n",
    "                                \n",
    "    avg_sig_ranks = Parallel(**joblib_kwargs)(\n",
    "        delayed(compute_avg_ranks_sig_subset)(X_data=adata[group[1].index,].X.data if sparse_X else adata[group[1].index,].X,\n",
    "                                         X_indices=adata[group[1].index,].X.indices if sparse_X else None,\n",
    "                                         X_indptr=adata[group[1].index,].X.indptr if sparse_X else None,\n",
    "                                         X_shape = adata[group[1].index,].X.shape  if sparse_X else None,\n",
    "                                         index = group[1].index,\n",
    "                                         columns = adata.var_names,\n",
    "                                         gene_list = gene_list) for group in adata.obs.groupby(bss))\n",
    "    avg_sig_ranks = pd.concat(avg_sig_ranks, axis=0)\n",
    "    return avg_sig_ranks\n",
    "\n",
    "def preparation(adata, genes):\n",
    "    sg_x = adata[:, genes].X\n",
    "    nsg_x = adata[:, adata.var_names.isin(genes) == False].X\n",
    "\n",
    "    nsg = list(set(adata.var_names).difference(set(genes)))\n",
    "\n",
    "    if issparse(adata.X):\n",
    "        ge = pd.DataFrame.sparse.from_spmatrix(sg_x, index=adata.obs_names, columns=genes)\n",
    "        nge = pd.DataFrame.sparse.from_spmatrix(nsg_x, index=adata.obs_names, columns=nsg)\n",
    "    else:\n",
    "        ge = pd.DataFrame(sg_x, index=adata.obs_names, columns=genes)\n",
    "        nge = pd.DataFrame(nsg_x, index=adata.obs_names, columns=nsg)\n",
    "\n",
    "    sig_genes_exp = ge.astype(bool).sum(axis=1)\n",
    "    n_sig_genes_exp = nge.astype(bool).sum(axis=1)\n",
    "\n",
    "    sig_genes_ne = ge.shape[1] - sig_genes_exp\n",
    "    sig_genes_ne = sig_genes_ne.replace(0, 1)\n",
    "\n",
    "    n_sig_genes_exp = n_sig_genes_exp.replace(0, 1)\n",
    "\n",
    "    n_sig_genes_ne = nge.shape[1] - (sig_genes_exp + n_sig_genes_exp)\n",
    "    n_sig_genes_ne = n_sig_genes_ne - sig_genes_ne\n",
    "\n",
    "    return sig_genes_exp, sig_genes_ne, n_sig_genes_exp, n_sig_genes_ne\n",
    "\n",
    "\n",
    "def or_calculation(adata, genes):\n",
    "    sig_genes_exp, sig_genes_ne, n_sig_genes_exp, n_sig_genes_ne = preparation(adata, genes)\n",
    "\n",
    "    or_score = (sig_genes_exp * n_sig_genes_ne) / (sig_genes_ne * n_sig_genes_exp)\n",
    "\n",
    "    return or_score\n",
    "\n",
    "\n",
    "def likelihood_calculation(adata, genes):\n",
    "    sig_genes_exp, sig_genes_ne, n_sig_genes_exp, n_sig_genes_ne = preparation(adata, genes)\n",
    "\n",
    "    lr_one = sig_genes_exp * (n_sig_genes_exp + n_sig_genes_ne)\n",
    "    lr_two = n_sig_genes_exp * (sig_genes_exp + sig_genes_ne)\n",
    "    lr_score = lr_one / lr_two\n",
    "\n",
    "    return lr_score\n",
    "\n",
    "\n",
    "def score_genes(\n",
    "        adata: AnnData,\n",
    "        gene_list: Sequence[str],\n",
    "        score_method: str = 'likelihood',\n",
    "        bs: int = 500,\n",
    "        score_name: str = \"score\",\n",
    "        random_state: AnyRandom = 0,\n",
    "        copy: bool = False,\n",
    "        use_raw: Optional[bool] = None,\n",
    "        verbose: int = 0,\n",
    "        joblib_kwargs: dict = {'n_jobs':multiprocessing.cpu_count()}\n",
    ") -> Optional[AnnData]:\n",
    "    start = sc.logging.info(f\"computing score {score_name!r}\")\n",
    "    if verbose > 0:\n",
    "        print(f\"computing score {score_name!r}\")\n",
    "\n",
    "    adata = adata.copy() if copy else adata\n",
    "\n",
    "    use_raw = _check_use_raw(adata, use_raw)\n",
    "\n",
    "    _adata = adata.raw if use_raw else adata\n",
    "\n",
    "    if random_state is not None:\n",
    "        np.random.seed(random_state)\n",
    "\n",
    "    # remove genes from gene_list not available in the data\n",
    "    gene_list = check_signature_genes(_adata.var_names, gene_list)\n",
    "\n",
    "    # check type of rank\n",
    "    if score_method not in ['oddsratio', 'likelihood']:\n",
    "        raise ValueError(f\"method {score_method} must be one of the obptions ['oddsratio','likelihood']\")\n",
    "    elif score_method == 'oddsratio':\n",
    "        f_score_method = or_calculation\n",
    "    else:\n",
    "        f_score_method = likelihood_calculation\n",
    "        \n",
    "    sparse_X = issparse(_adata.X)\n",
    "    \n",
    "    if not sparse_X:\n",
    "        avg_sig_ranks = compute_avg_ranks_signature(_adata,sparse_X,gene_list, bs, joblib_kwargs)\n",
    "        scores = f_score_method(_adata, gene_list)\n",
    "    elif sparse_X and isspmatrix_csc(_adata.X):\n",
    "        scores = f_score_method(_adata, gene_list)\n",
    "        _adata.X = _adata.X.tocsr()\n",
    "        avg_sig_ranks = compute_avg_ranks_signature(_adata,sparse_X,gene_list, bs, joblib_kwargs)\n",
    "        warnings.warn(f'Changed sparse format to CSR for performance reasons')\n",
    "    elif sparse_X and isspmatrix_csr(_adata.X):\n",
    "        avg_sig_ranks = compute_avg_ranks_signature(_adata,sparse_X,gene_list, bs, joblib_kwargs)\n",
    "        _adata.X = _adata.X.tocsc()\n",
    "        scores = f_score_method(_adata, gene_list)\n",
    "        warnings.warn(f'Changed sparse format to CSC for performance reasons')\n",
    "    else:\n",
    "        raise ValueError('Unknown sparse matrix format. Allowd are CSR and CSC')\n",
    "    \n",
    "    \n",
    "    avg_sig_ranks = (avg_sig_ranks - avg_sig_ranks.min()) / (avg_sig_ranks.max() - avg_sig_ranks.min())\n",
    "    scores = (scores - scores.min()) / (scores.max() - scores.min())\n",
    "\n",
    "    score = (scores + avg_sig_ranks) / 2\n",
    "\n",
    "    adata.obs[score_name] = score\n",
    "\n",
    "    sc.logging.info(\n",
    "        \"    finished\",\n",
    "        time=start,\n",
    "        deep=(\"added\\n\" f\"    {score_name!r}, score of gene set (adata.obs).\"),\n",
    "    )\n",
    "    return adata if copy else None\n"
   ]
  },
  {
   "cell_type": "code",
   "execution_count": null,
   "metadata": {
    "pycharm": {
     "name": "#%%\n"
    }
   },
   "outputs": [],
   "source": [
    "%%time\n",
    "scores=score_genes(orig_adata, mes_sig, score_method = 'likelihood',\n",
    "                score_name='mes_sig_scores_lh_refactored')"
   ]
  },
  {
   "cell_type": "code",
   "execution_count": null,
   "metadata": {
    "pycharm": {
     "name": "#%%\n"
    }
   },
   "outputs": [],
   "source": [
    "%%time\n",
    "scores=score_genes(orig_adata, mes_sig, score_method = 'oddsratio',\n",
    "                score_name='mes_sig_scores_or_refactored')"
   ]
  },
  {
   "cell_type": "code",
   "execution_count": null,
   "metadata": {
    "pycharm": {
     "name": "#%%\n"
    }
   },
   "outputs": [],
   "source": [
    "100*30*20/60/60"
   ]
  },
  {
   "cell_type": "code",
   "execution_count": null,
   "metadata": {
    "pycharm": {
     "name": "#%%\n"
    }
   },
   "outputs": [],
   "source": [
    "all(orig_adata.obs.mes_sig_scores_lh_refactored==orig_adata.obs.mes_sig_scores_lh)"
   ]
  },
  {
   "cell_type": "code",
   "execution_count": null,
   "metadata": {
    "pycharm": {
     "name": "#%%\n"
    }
   },
   "outputs": [],
   "source": [
    "all(orig_adata.obs.mes_sig_scores_or_refactored==orig_adata.obs.mes_sig_scores_or)"
   ]
  },
  {
   "cell_type": "code",
   "execution_count": null,
   "metadata": {
    "pycharm": {
     "name": "#%%\n"
    }
   },
   "outputs": [],
   "source": []
  }
 ],
 "metadata": {
  "interpreter": {
   "hash": "9cda4755ffec0f6188ae38f1914eb21e27e8749c7814e4a77540112a27804b1a"
  },
  "kernelspec": {
   "display_name": "Python 3 (ipykernel)",
   "language": "python",
   "name": "python3"
  },
  "language_info": {
   "codemirror_mode": {
    "name": "ipython",
    "version": 3
   },
   "file_extension": ".py",
   "mimetype": "text/x-python",
   "name": "python",
   "nbconvert_exporter": "python",
   "pygments_lexer": "ipython3",
   "version": "3.8.12"
  }
 },
 "nbformat": 4,
 "nbformat_minor": 2
}
