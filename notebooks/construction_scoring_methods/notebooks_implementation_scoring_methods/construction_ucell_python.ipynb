{
 "cells": [
  {
   "cell_type": "code",
   "execution_count": null,
   "id": "3a4a8baf",
   "metadata": {
    "pycharm": {
     "name": "#%%\n"
    }
   },
   "outputs": [],
   "source": [
    "import itertools\n",
    "import sys\n",
    "import os\n",
    "\n",
    "sys.path.append(\"../..\")\n",
    "\n",
    "import numpy as np\n",
    "import pandas as pd\n",
    "import scanpy as sc\n",
    "from src.data.preprocess_data import preprocess\n",
    "from matplotlib import pyplot as plt\n",
    "from scanpy._utils import _check_use_raw\n",
    "from src.utils.utils import get_gene_list_real_data, get_test_statistics\n",
    "from src.scoring_methods.gene_signature_scoring import score_signature\n",
    "from data.constants import BASE_PATH_DATA, BASE_PATH_EXPERIMENTS\n",
    "\n",
    "sc.settings.verbosity = 1"
   ]
  },
  {
   "cell_type": "code",
   "execution_count": null,
   "id": "bd78f98a",
   "metadata": {
    "pycharm": {
     "name": "#%%\n"
    }
   },
   "outputs": [],
   "source": [
    "# adata_healthy = sc.read_h5ad('../data/real_data/healthy.h5ad')\n",
    "# adata_unhealthy = sc.read_h5ad('../data/real_data/unhealthy.h5ad')\n",
    "# adata = adata_healthy.concatenate(adata_unhealthy)\n"
   ]
  },
  {
   "cell_type": "code",
   "execution_count": null,
   "id": "b836de0f",
   "metadata": {
    "pycharm": {
     "name": "#%%\n"
    }
   },
   "outputs": [],
   "source": [
    "# dict_samples = {}\n"
   ]
  },
  {
   "cell_type": "code",
   "execution_count": null,
   "id": "75009909",
   "metadata": {
    "pycharm": {
     "name": "#%%\n"
    }
   },
   "outputs": [],
   "source": [
    "# for group in adata.obs.groupby(by='sample_id'):\n",
    "#     dict_samples[group[0]] = adata[group[1].index, :].copy()\n"
   ]
  },
  {
   "cell_type": "code",
   "execution_count": null,
   "id": "2ce5c0d0",
   "metadata": {
    "pycharm": {
     "name": "#%%\n"
    }
   },
   "outputs": [],
   "source": [
    "# del adata\n",
    "# del adata_unhealthy\n",
    "# del adata_healthy\n"
   ]
  },
  {
   "cell_type": "code",
   "execution_count": null,
   "id": "d7c54745",
   "metadata": {
    "pycharm": {
     "name": "#%%\n"
    }
   },
   "outputs": [],
   "source": [
    "# dict_samples.keys()\n"
   ]
  },
  {
   "cell_type": "code",
   "execution_count": null,
   "id": "6a5767d7",
   "metadata": {
    "pycharm": {
     "name": "#%%\n"
    }
   },
   "outputs": [],
   "source": [
    "# adata = dict_samples['P23T']\n",
    "adata = sc.read_h5ad('../data/real_data/P23T_adata.h5ad')\n"
   ]
  },
  {
   "cell_type": "code",
   "execution_count": null,
   "id": "66595275",
   "metadata": {
    "pycharm": {
     "name": "#%%\n"
    }
   },
   "outputs": [],
   "source": [
    "adata = adata[adata.obs['healthy'] != 'undecided', :]\n"
   ]
  },
  {
   "cell_type": "code",
   "execution_count": null,
   "id": "baf4e36b",
   "metadata": {
    "pycharm": {
     "name": "#%%\n"
    }
   },
   "outputs": [],
   "source": [
    "preprocess(adata, min_genes=500, min_cells=10,\n",
    "           target_sum=1e4, copy=False, verbose=1, log=None)\n"
   ]
  },
  {
   "cell_type": "code",
   "execution_count": null,
   "id": "62cfe1b2",
   "metadata": {
    "pycharm": {
     "name": "#%%\n"
    }
   },
   "outputs": [],
   "source": [
    "gene_list = get_gene_list_real_data(\n",
    "    adata,\n",
    "    dge_method=\"wilcoxon\",\n",
    "    dge_key=\"wilcoxon\",\n",
    "    dge_pval_cutoff=0.01,\n",
    "    dge_log2fc_min=0.0025,\n",
    "    nr_de_genes=100,\n",
    "    mode=\"random\",\n",
    "    log='get_gene_list',\n",
    "    copy=False,\n",
    "    verbose=1\n",
    ")\n"
   ]
  },
  {
   "cell_type": "code",
   "execution_count": null,
   "metadata": {
    "pycharm": {
     "name": "#%%\n"
    }
   },
   "outputs": [],
   "source": [
    "# precalc_ranks = None\n",
    "maxRank = 1500\n",
    "# w_neg = 1\n",
    "# name = \"_UCell\"\n",
    "# assay = \"counts\"\n",
    "# chunk_size = 1000\n",
    "# BPPARAM = None\n",
    "# ncores = 1\n",
    "ties_method = \"average\"\n",
    "# force_gc = False\n",
    "copy = False\n",
    "use_raw = False\n",
    "random_state = 5\n"
   ]
  },
  {
   "cell_type": "code",
   "execution_count": null,
   "metadata": {
    "pycharm": {
     "name": "#%%\n"
    }
   },
   "outputs": [],
   "source": [
    "adata = adata.copy() if copy else adata\n",
    "use_raw = _check_use_raw(adata, use_raw)\n",
    "\n",
    "if random_state is not None:\n",
    "    np.random.seed(random_state)\n",
    "\n",
    "# remove genes from gene_list not available in the data\n",
    "var_names = adata.raw.var_names if use_raw else adata.var_names\n",
    "var_names = var_names.tolist()\n",
    "gene_list = list((set(var_names)).intersection(set(gene_list)))\n",
    "genes_to_ignore = list((set(gene_list)).difference(set(var_names)))\n",
    "if len(genes_to_ignore) > 0:\n",
    "    sc.logging.warning(f\"genes are not in var_names and ignored: {genes_to_ignore}\")\n",
    "if len(gene_list) == 0:\n",
    "    raise ValueError(\"No valid genes were passed for scoring.\")"
   ]
  },
  {
   "cell_type": "code",
   "execution_count": null,
   "metadata": {
    "pycharm": {
     "name": "#%%\n"
    }
   },
   "outputs": [],
   "source": [
    "len(adata.var_names)"
   ]
  },
  {
   "cell_type": "code",
   "execution_count": null,
   "metadata": {
    "pycharm": {
     "name": "#%%\n"
    }
   },
   "outputs": [],
   "source": [
    "if not isinstance(maxRank, int):\n",
    "    raise ValueError(f'maxRank {maxRank} must be of type int')"
   ]
  },
  {
   "cell_type": "code",
   "execution_count": null,
   "metadata": {
    "pycharm": {
     "name": "#%%\n"
    }
   },
   "outputs": [],
   "source": [
    "if maxRank > len(adata.var_names):\n",
    "    print(f'Provided maxRank is larger than the number of available genes. Set maxRank=len(adata.var_names)')\n",
    "    maxRank=len(adata.var_names)"
   ]
  },
  {
   "cell_type": "code",
   "execution_count": null,
   "metadata": {
    "pycharm": {
     "name": "#%%\n"
    }
   },
   "outputs": [],
   "source": [
    "if len(gene_list)> maxRank:\n",
    "    raise ValueError(f'The provided signature contains more genes than the maxRank parameter. Increase the maxRank parameter or choose a shorter signature.')"
   ]
  },
  {
   "cell_type": "markdown",
   "metadata": {
    "pycharm": {
     "name": "#%% md\n"
    }
   },
   "source": [
    "Apply the scoring functionality on adata.X . For know we avaid the following usage:\n",
    "- reuse of precomputed ranks\n",
    "- parallelization of score computation for different chunks of the data \n",
    "- use of forced garbage collector, i.e., the direct deletion of unused variable for memory \n",
    "- negative weighted signatures"
   ]
  },
  {
   "cell_type": "code",
   "execution_count": null,
   "metadata": {
    "pycharm": {
     "name": "#%%\n"
    }
   },
   "outputs": [],
   "source": [
    "data_df = pd.DataFrame(adata.X.todense(), index=adata.obs_names, columns=adata.var_names)"
   ]
  },
  {
   "cell_type": "code",
   "execution_count": null,
   "metadata": {
    "pycharm": {
     "name": "#%%\n"
    }
   },
   "outputs": [],
   "source": [
    "data_df_small = data_df.iloc[0:10, 0:10]"
   ]
  },
  {
   "cell_type": "code",
   "execution_count": null,
   "metadata": {
    "pycharm": {
     "name": "#%%\n"
    }
   },
   "outputs": [],
   "source": [
    "data_df_small"
   ]
  },
  {
   "cell_type": "code",
   "execution_count": null,
   "metadata": {
    "pycharm": {
     "name": "#%%\n"
    }
   },
   "outputs": [],
   "source": [
    "# get ranks data table\n",
    "ranked_data_df = data_df_small.apply(func=(lambda x: x.rank(ascending=False, na_option='bottom')), axis=1)\n"
   ]
  },
  {
   "cell_type": "code",
   "execution_count": null,
   "metadata": {
    "pycharm": {
     "name": "#%%\n"
    }
   },
   "outputs": [],
   "source": [
    "ranked_data_df"
   ]
  },
  {
   "cell_type": "code",
   "execution_count": null,
   "metadata": {
    "pycharm": {
     "name": "#%%\n"
    }
   },
   "outputs": [],
   "source": [
    "ranked_data_df = data_df.apply(func=(lambda x: x.rank(ascending=False, na_option='bottom')), axis=1)"
   ]
  },
  {
   "cell_type": "code",
   "execution_count": null,
   "metadata": {
    "pycharm": {
     "name": "#%%\n"
    }
   },
   "outputs": [],
   "source": [
    "for i in np.random.randint(low=0, high=ranked_data_df.shape[0], size=5):\n",
    "    # print(ranked_data_df.iloc[i,:].describe())\n",
    "    ranked_data_df.iloc[i,:].hist(bins = 50)\n",
    "    plt.show()"
   ]
  },
  {
   "cell_type": "code",
   "execution_count": null,
   "metadata": {
    "pycharm": {
     "name": "#%%\n"
    }
   },
   "outputs": [],
   "source": [
    "min_rank = np.inf\n",
    "max_rank = -np.inf\n",
    "index_max_rank = None\n",
    "for index, row in ranked_data_df.iterrows():\n",
    "    row_max_rank = row[row<7000].max()\n",
    "    row_min_rank = row[row<7000].min()\n",
    "    if row_min_rank < min_rank:\n",
    "        min_rank = row_min_rank\n",
    "    if row_max_rank > max_rank:\n",
    "        max_rank = row_max_rank\n",
    "        index_max_rank = index\n",
    "\n",
    "print('index maxRank: ', index_max_rank)\n",
    "print(min_rank, max_rank)"
   ]
  },
  {
   "cell_type": "code",
   "execution_count": null,
   "metadata": {
    "pycharm": {
     "name": "#%%\n"
    }
   },
   "outputs": [],
   "source": [
    "ranked_data_df.loc['P23T-E-AGCTCTCTCTCAAGTG-1',:].hist()"
   ]
  },
  {
   "cell_type": "code",
   "execution_count": null,
   "metadata": {
    "pycharm": {
     "name": "#%%\n"
    }
   },
   "outputs": [],
   "source": [
    "# get u_stat for signature \n",
    "ranked_data_df_signature = ranked_data_df.loc[:,gene_list]"
   ]
  },
  {
   "cell_type": "code",
   "execution_count": null,
   "metadata": {
    "pycharm": {
     "name": "#%%\n"
    }
   },
   "outputs": [],
   "source": [
    "ranked_data_df_signature"
   ]
  },
  {
   "cell_type": "code",
   "execution_count": null,
   "metadata": {
    "pycharm": {
     "name": "#%%\n"
    }
   },
   "outputs": [],
   "source": [
    "def u_stat(rank_value, maxRank=1500):\n",
    "    insig = rank_value > maxRank\n",
    "    if all(insig):\n",
    "        return 0 \n",
    "    else:\n",
    "        rank_value[insig] = maxRank+1\n",
    "        rank_sum = rank_value.sum()\n",
    "        len_sig  = len(rank_value)\n",
    "        u_value = rank_sum - (len_sig * (len_sig + 1))/2\n",
    "        auc = 1 - u_value/(len_sig * maxRank)\n",
    "        return auc"
   ]
  },
  {
   "cell_type": "code",
   "execution_count": null,
   "metadata": {
    "pycharm": {
     "name": "#%%\n"
    }
   },
   "outputs": [],
   "source": [
    "scores = ranked_data_df_signature.apply(func=(lambda x: u_stat(x, maxRank=1500)),axis=1)"
   ]
  },
  {
   "cell_type": "code",
   "execution_count": null,
   "metadata": {
    "pycharm": {
     "name": "#%%\n"
    }
   },
   "outputs": [],
   "source": [
    "adata.obs['UCell scoring'] = scores"
   ]
  },
  {
   "cell_type": "code",
   "execution_count": null,
   "metadata": {
    "pycharm": {
     "name": "#%%\n"
    }
   },
   "outputs": [],
   "source": [
    "# scores[adata.obs['healthy']=='healthy'].hist(density=True, label = 'healthy', alpha=0.75)\n",
    "# scores[adata.obs['healthy']=='unhealthy'].hist(density=True, label='unhealthy', alpha=0.75)\n",
    "# plt.title(\"UCell scores for random upregulated signature genes.\")\n",
    "# plt.legend()\n"
   ]
  },
  {
   "cell_type": "code",
   "execution_count": null,
   "metadata": {
    "pycharm": {
     "name": "#%%\n"
    }
   },
   "outputs": [],
   "source": [
    "from src.scoring_methods.tirosh_signature_scoring import score_genes as tirosh_scoring\n",
    "from src.scoring_methods.ucell_signature_scoring import score_genes as ucell_scoring"
   ]
  },
  {
   "cell_type": "code",
   "execution_count": null,
   "metadata": {
    "pycharm": {
     "name": "#%%\n"
    }
   },
   "outputs": [],
   "source": [
    "tirosh_scoring(\n",
    "        adata,\n",
    "        gene_list,\n",
    "        n_bins=25,\n",
    "        ctrl_size=100,\n",
    "        verbose=0,\n",
    "        score_name=\"Tirosh scoring\",\n",
    "        random_state=5,\n",
    "    )"
   ]
  },
  {
   "cell_type": "code",
   "execution_count": null,
   "metadata": {
    "pycharm": {
     "name": "#%%\n"
    }
   },
   "outputs": [],
   "source": [
    "ucell_scoring(\n",
    "        adata,\n",
    "        gene_list,\n",
    "        maxRank= 1500,\n",
    "        ties_method= \"average\",\n",
    "        verbose=0,\n",
    "        score_name=\"UCell scoring 2\",\n",
    "        random_state=5,\n",
    "    )"
   ]
  },
  {
   "cell_type": "code",
   "execution_count": null,
   "metadata": {
    "pycharm": {
     "name": "#%%\n"
    }
   },
   "outputs": [],
   "source": [
    "adata.obs[\"UCell scoring\"][adata.obs[\"healthy\"]=='healthy'].hist(bins=50, density=True, label=\"healthy cells\", alpha=0.5)\n",
    "adata.obs[\"UCell scoring\"][adata.obs[\"healthy\"]=='unhealthy'].hist(bins=50,density=True, label=\"unhealthy cells\", alpha=0.5)\n",
    "plt.legend()"
   ]
  },
  {
   "cell_type": "code",
   "execution_count": null,
   "metadata": {
    "pycharm": {
     "name": "#%%\n"
    }
   },
   "outputs": [],
   "source": [
    "adata.obs[\"UCell scoring 2\"][adata.obs[\"healthy\"]=='healthy'].hist(bins=50, density=True, label=\"healthy cells\", alpha=0.5)\n",
    "adata.obs[\"UCell scoring 2\"][adata.obs[\"healthy\"]=='unhealthy'].hist(bins=50,density=True, label=\"unhealthy cells\", alpha=0.5)\n",
    "plt.legend()"
   ]
  },
  {
   "cell_type": "code",
   "execution_count": null,
   "metadata": {
    "pycharm": {
     "name": "#%%\n"
    }
   },
   "outputs": [],
   "source": [
    "adata.obs[\"Tirosh scoring\"][adata.obs[\"healthy\"]=='healthy'].hist(bins=50, density=True, label=\"healthy cells\", alpha=0.5)\n",
    "adata.obs[\"Tirosh scoring\"][adata.obs[\"healthy\"]=='unhealthy'].hist(bins=50,density=True, label=\"unhealthy cells\", alpha=0.5)\n",
    "plt.legend()"
   ]
  },
  {
   "cell_type": "code",
   "execution_count": null,
   "metadata": {
    "pycharm": {
     "name": "#%%\n"
    }
   },
   "outputs": [],
   "source": [
    "test_stat = get_test_statistics(adata,\n",
    "                                ['Tirosh scoring', 'UCell scoring', 'UCell scoring 2'],\n",
    "                                test_method=\"auc\",\n",
    "                                label_col='healthy',\n",
    "                                label_whsc='unhealthy',\n",
    "                                save=False,\n",
    "                                store_data_path=None)"
   ]
  },
  {
   "cell_type": "code",
   "execution_count": null,
   "metadata": {
    "pycharm": {
     "name": "#%%\n"
    }
   },
   "outputs": [],
   "source": [
    "test_stat"
   ]
  },
  {
   "cell_type": "markdown",
   "metadata": {
    "pycharm": {
     "name": "#%% md\n"
    }
   },
   "source": [
    "The following section compares differemnt maxRank values"
   ]
  },
  {
   "cell_type": "code",
   "execution_count": null,
   "metadata": {
    "pycharm": {
     "name": "#%%\n"
    }
   },
   "outputs": [],
   "source": [
    "from src.scoring_methods.ucell_signature_scoring import score_genes as ucell_scoring"
   ]
  },
  {
   "cell_type": "code",
   "execution_count": null,
   "metadata": {
    "pycharm": {
     "name": "#%%\n"
    }
   },
   "outputs": [],
   "source": [
    "maxRanks = [1000, 1500, 2000, 2500, 3000, 3500, 4000, 4500, 5000, 5500]"
   ]
  },
  {
   "cell_type": "code",
   "execution_count": null,
   "metadata": {
    "pycharm": {
     "name": "#%%\n"
    }
   },
   "outputs": [],
   "source": [
    "for maxRank in maxRanks:\n",
    "    ucell_scoring(\n",
    "            adata,\n",
    "            gene_list,\n",
    "            maxRank= maxRank,\n",
    "            ties_method= \"average\",\n",
    "            verbose=0,\n",
    "            score_name=\"UCell_\"+str(maxRank),\n",
    "            random_state=5,\n",
    "        )"
   ]
  },
  {
   "cell_type": "code",
   "execution_count": null,
   "metadata": {
    "pycharm": {
     "name": "#%%\n"
    }
   },
   "outputs": [],
   "source": [
    "sc_name = [\"UCell_\"+str(maxRank) for maxRank in maxRanks]"
   ]
  },
  {
   "cell_type": "code",
   "execution_count": null,
   "metadata": {
    "pycharm": {
     "name": "#%%\n"
    }
   },
   "outputs": [],
   "source": [
    "test_stat = get_test_statistics(adata,\n",
    "                                sc_name,\n",
    "                                test_method=\"auc\",\n",
    "                                label_col='healthy',\n",
    "                                label_whsc='unhealthy',\n",
    "                                save=False,\n",
    "                                store_data_path=None)"
   ]
  },
  {
   "cell_type": "code",
   "execution_count": null,
   "metadata": {
    "pycharm": {
     "name": "#%%\n"
    }
   },
   "outputs": [],
   "source": [
    "test_stat.sort_values(by='Statistic', ascending=False)"
   ]
  },
  {
   "cell_type": "code",
   "execution_count": null,
   "metadata": {
    "pycharm": {
     "name": "#%%\n"
    }
   },
   "outputs": [],
   "source": [
    "test_stat.loc[test_stat['Scoring method']==sc_n.lower(),:]['Statistic']"
   ]
  },
  {
   "cell_type": "code",
   "execution_count": null,
   "metadata": {
    "pycharm": {
     "name": "#%%\n"
    }
   },
   "outputs": [],
   "source": [
    "for sc_n in sc_name:\n",
    "    plt.hist(adata.obs[sc_n][adata.obs['healthy']=='healthy'], alpha=0.5, density=True,label='healthy')\n",
    "    plt.hist(adata.obs[sc_n][adata.obs['healthy']=='unhealthy'], alpha=0.5, density=True,label='unhealthy')\n",
    "    plt.legend()\n",
    "    plt.title(f\"{sc_n} achieved AUC of {test_stat.loc[test_stat['Scoring method']==sc_n.lower(),:]['Statistic']}\")\n",
    "    plt.show()"
   ]
  },
  {
   "cell_type": "markdown",
   "metadata": {
    "pycharm": {
     "name": "#%% md\n"
    }
   },
   "source": [
    "### Construct UCell scoring for sparse matrix"
   ]
  },
  {
   "cell_type": "code",
   "execution_count": null,
   "metadata": {
    "pycharm": {
     "name": "#%%\n"
    }
   },
   "outputs": [],
   "source": [
    "adata = sc.read_h5ad(os.path.join(BASE_PATH_DATA, 'real_data/multi.h5ad'))\n",
    "adata = adata.raw.to_adata()\n",
    "adata.var_names = adata.var['_index']\n",
    "adata.var_names.name = None"
   ]
  },
  {
   "cell_type": "code",
   "execution_count": null,
   "metadata": {
    "pycharm": {
     "name": "#%%\n"
    }
   },
   "outputs": [],
   "source": [
    "adatas = {}\n",
    "for group in adata.obs.groupby('orig.ident'):\n",
    "    adatas[group[0]] = adata[group[1].index,].copy()\n",
    "del adata\n",
    "\n",
    "for key, adata in adatas.items():\n",
    "    preprocess(adata,\n",
    "               min_genes=500,\n",
    "               min_cells=5,\n",
    "               target_sum=1e4)"
   ]
  },
  {
   "cell_type": "code",
   "execution_count": null,
   "metadata": {
    "pycharm": {
     "name": "#%%\n"
    }
   },
   "outputs": [],
   "source": [
    "adata = sc.concat(list(adatas.values()), join='inner')"
   ]
  },
  {
   "cell_type": "code",
   "execution_count": null,
   "metadata": {
    "pycharm": {
     "name": "#%%\n"
    }
   },
   "outputs": [],
   "source": [
    "adata"
   ]
  },
  {
   "cell_type": "code",
   "execution_count": null,
   "metadata": {
    "pycharm": {
     "name": "#%%\n"
    }
   },
   "outputs": [],
   "source": [
    "curr_adata = adatas['P1_0']\n",
    "del adatas"
   ]
  },
  {
   "cell_type": "code",
   "execution_count": null,
   "metadata": {
    "pycharm": {
     "name": "#%%\n"
    }
   },
   "outputs": [],
   "source": [
    "DE_of_celltypes = pd.read_csv(os.path.join(BASE_PATH_DATA, 'real_data/DE_by_celltype.csv'))"
   ]
  },
  {
   "cell_type": "code",
   "execution_count": null,
   "metadata": {
    "pycharm": {
     "name": "#%%\n"
    }
   },
   "outputs": [],
   "source": [
    "gene_list = DE_of_celltypes[DE_of_celltypes['Cell Type']=='CD4 Proliferating'].nlargest(20, columns=['Average Log Fold Change'])['Gene'].values.tolist()"
   ]
  },
  {
   "cell_type": "code",
   "execution_count": null,
   "metadata": {
    "pycharm": {
     "name": "#%%\n"
    }
   },
   "outputs": [],
   "source": [
    "gene_list"
   ]
  },
  {
   "cell_type": "code",
   "execution_count": null,
   "metadata": {
    "pycharm": {
     "name": "#%%\n"
    }
   },
   "outputs": [],
   "source": [
    "from scipy.sparse import issparse\n",
    "from tqdm import tqdm\n",
    "from scipy.stats import rankdata\n",
    "from datetime import datetime\n",
    "\n"
   ]
  },
  {
   "cell_type": "markdown",
   "metadata": {
    "pycharm": {
     "name": "#%% md\n"
    }
   },
   "source": [
    "Compare method on 1 sample"
   ]
  },
  {
   "cell_type": "code",
   "execution_count": null,
   "metadata": {
    "pycharm": {
     "name": "#%%\n"
    }
   },
   "outputs": [],
   "source": [
    "curr_adata.X"
   ]
  },
  {
   "cell_type": "code",
   "execution_count": null,
   "metadata": {
    "pycharm": {
     "name": "#%%\n"
    }
   },
   "outputs": [],
   "source": [
    "data_df = pd.DataFrame.sparse.from_spmatrix(curr_adata.X, index=curr_adata.obs_names, columns=curr_adata.var_names)"
   ]
  },
  {
   "cell_type": "code",
   "execution_count": null,
   "metadata": {
    "pycharm": {
     "name": "#%%\n"
    }
   },
   "outputs": [],
   "source": [
    "gene_list_idx = np.where(data_df.columns.isin(gene_list))[0]\n",
    "gene_list_idx"
   ]
  },
  {
   "cell_type": "code",
   "execution_count": null,
   "metadata": {
    "collapsed": true,
    "pycharm": {
     "name": "#%%\n"
    }
   },
   "outputs": [],
   "source": [
    "%%time \n",
    "\n",
    "res = data_df.apply(\n",
    "    lambda x: x.sparse.to_dense().rank(method='average', ascending=False, na_option=\"bottom\"),\n",
    "    axis=1,\n",
    "    raw=False\n",
    ")\n",
    "\n",
    "# does not terminate in 2 min, one sample"
   ]
  },
  {
   "cell_type": "code",
   "execution_count": null,
   "metadata": {
    "pycharm": {
     "name": "#%%\n"
    }
   },
   "outputs": [],
   "source": [
    "%%time \n",
    "\n",
    "res = data_df.apply(\n",
    "    lambda x: rankdata(-x),\n",
    "    axis=1,\n",
    "    raw=True,\n",
    "    result_type='expand'\n",
    ")\n",
    "# using raw one sample, one sample"
   ]
  },
  {
   "cell_type": "code",
   "execution_count": null,
   "metadata": {
    "pycharm": {
     "name": "#%%\n"
    }
   },
   "outputs": [],
   "source": [
    "from datetime import datetime\n",
    "\n",
    "for bs in [1000, 1500, 2000, 2500,3000,3500, 4000, 4500, 5000, 5500, 6000, 6500, 7000]:\n",
    "    start = datetime.now()\n",
    "    groupsi = pd.cut(np.arange(curr_adata.obs.shape[0]),(curr_adata.obs.shape[0]//bs +1), labels=False)\n",
    "    rankes = []\n",
    "    for group in tqdm(curr_adata.obs.groupby(groupsi)):\n",
    "        data_df = pd.DataFrame.sparse.from_spmatrix(curr_adata[group[1].index,].X, index=group[1].index, columns=curr_adata.var_names)\n",
    "        res = data_df.apply(\n",
    "            lambda x: rankdata(-x),\n",
    "            axis=1,\n",
    "            raw=True\n",
    "        )\n",
    "        rankes.append(res[gene_list])\n",
    "    end = datetime.now()\n",
    "    print(f'for bs={bs} needed {end-start} time')\n",
    "\n",
    "    \n",
    "# using one sample with raw but separate sample into managable batches --> find best batch size"
   ]
  },
  {
   "cell_type": "code",
   "execution_count": null,
   "metadata": {
    "pycharm": {
     "name": "#%%\n"
    }
   },
   "outputs": [],
   "source": [
    "for bs in [1000, 1500, 2000, 2500,3000,3500, 4000, 4500, 5000, 5500, 6000, 6500, 7000]:\n",
    "    start = datetime.now()\n",
    "    groupsi = pd.cut(np.arange(curr_adata.obs.shape[0]),(curr_adata.obs.shape[0]//bs +1), labels=False)\n",
    "    rankes = []\n",
    "    for group in tqdm(curr_adata.obs.groupby(groupsi)):\n",
    "        data_df = pd.DataFrame(\n",
    "            adata[group[1].index,].X.todense(), index=group[1].index, columns=adata.var_names\n",
    "        )\n",
    "        res = data_df.apply(\n",
    "            lambda x: rankdata(-x),\n",
    "            axis=1,\n",
    "            raw=True\n",
    "        )\n",
    "        rankes.append(res[gene_list])\n",
    "    end = datetime.now()\n",
    "    print(f'for bs={bs} needed {end-start} time')\n",
    "\n",
    "    \n",
    "# using one sample with raw but separate sample into managable batches --> find best batch size"
   ]
  },
  {
   "cell_type": "markdown",
   "metadata": {
    "pycharm": {
     "name": "#%% md\n"
    }
   },
   "source": [
    "Switch from one sample to all the batches together"
   ]
  },
  {
   "cell_type": "code",
   "execution_count": null,
   "metadata": {
    "pycharm": {
     "name": "#%%\n"
    }
   },
   "outputs": [],
   "source": [
    "for bs in [6000, 6500, 7000]:\n",
    "    start = datetime.now()\n",
    "    \n",
    "    groupsi = pd.cut(np.arange(adata.obs.shape[0]),(adata.obs.shape[0]//bs +1), labels=False)\n",
    "\n",
    "    rankes = []\n",
    "    for group in tqdm(adata.obs.groupby(groupsi)):\n",
    "        data_df = pd.DataFrame.sparse.from_spmatrix(adata[group[1].index,].X, index=group[1].index, columns=adata.var_names)\n",
    "        res = data_df.apply(\n",
    "            lambda x: rankdata(-x),\n",
    "            axis=1,\n",
    "            raw=True\n",
    "        )\n",
    "        rankes.append(res[gene_list])\n",
    "    \n",
    "    end = datetime.now()\n",
    "    print(f'for bs={bs} needed {end-start} time')\n",
    "\n",
    "## creating DataFrame.sparse for each partition"
   ]
  },
  {
   "cell_type": "code",
   "execution_count": null,
   "metadata": {
    "pycharm": {
     "name": "#%%\n"
    }
   },
   "outputs": [],
   "source": [
    "#for bs in [4000, 4500, 5000, 5500, 6000, 6500, 7000]:\n",
    "#for bs in [500, 750, 1000,1250,1500,5500]:\n",
    "for bs in [1000]:\n",
    "    start = datetime.now()\n",
    "    \n",
    "    groupsi = pd.cut(np.arange(adata.obs.shape[0]),(adata.obs.shape[0]//bs +1), labels=False)\n",
    "\n",
    "    rankes = []\n",
    "    for group in tqdm(adata.obs.groupby(groupsi)):\n",
    "        \n",
    "        data_df = pd.DataFrame(\n",
    "            adata[group[1].index,].X.todense(), index=group[1].index, columns=adata.var_names\n",
    "        )\n",
    "        res = data_df.apply(\n",
    "            lambda x: rankdata(-x),\n",
    "            axis=1,\n",
    "            raw=True\n",
    "        )\n",
    "        rankes.append(res[gene_list])\n",
    "    \n",
    "    end = datetime.now()\n",
    "    print(f'for bs={bs} needed {end-start} time')\n",
    "\n",
    "## creating DataFrame for each densified partition"
   ]
  },
  {
   "cell_type": "markdown",
   "metadata": {
    "pycharm": {
     "name": "#%% md\n"
    }
   },
   "source": [
    "Compute ustat and scores on the ranks"
   ]
  },
  {
   "cell_type": "code",
   "execution_count": null,
   "metadata": {
    "pycharm": {
     "name": "#%%\n"
    }
   },
   "outputs": [],
   "source": [
    "def u_stat(rank_value, maxRank=1500):\n",
    "    insig = rank_value > maxRank\n",
    "    if all(insig):\n",
    "        return 0\n",
    "    else:\n",
    "        rank_value[insig] = maxRank + 1\n",
    "        rank_sum = rank_value.sum()\n",
    "        len_sig = len(rank_value)\n",
    "        u_value = rank_sum - (len_sig * (len_sig + 1)) / 2\n",
    "        auc = 1 - u_value / (len_sig * maxRank)\n",
    "        return auc"
   ]
  },
  {
   "cell_type": "code",
   "execution_count": null,
   "metadata": {
    "pycharm": {
     "name": "#%%\n"
    }
   },
   "outputs": [],
   "source": [
    "# get ranks for signautre genes\n",
    "ranked_data_df_signature = pd.concat(rankes, axis=0)"
   ]
  },
  {
   "cell_type": "code",
   "execution_count": null,
   "metadata": {
    "pycharm": {
     "name": "#%%\n"
    }
   },
   "outputs": [],
   "source": [
    "# compute u_stat for each cell over all genes\n",
    "score = ranked_data_df_signature.apply(\n",
    "    func=(lambda x: u_stat(x, maxRank=1500)), \n",
    "    axis=1,\n",
    "    raw=True\n",
    ")"
   ]
  },
  {
   "cell_type": "code",
   "execution_count": null,
   "metadata": {
    "pycharm": {
     "name": "#%%\n"
    }
   },
   "outputs": [],
   "source": [
    "score"
   ]
  },
  {
   "cell_type": "code",
   "execution_count": null,
   "metadata": {
    "pycharm": {
     "name": "#%%\n"
    }
   },
   "outputs": [],
   "source": [
    "score[adata.obs['celltype.l3']=='CD4 Proliferating'].hist(density=True, alpha=0.5, label='CD4 Proliferating')\n",
    "score[adata.obs['celltype.l3']!='CD4 Proliferating'].hist(density=True, alpha=0.5, label=' not CD4 Proliferating')"
   ]
  },
  {
   "cell_type": "code",
   "execution_count": null,
   "metadata": {
    "pycharm": {
     "name": "#%%\n"
    }
   },
   "outputs": [],
   "source": [
    "adata.obs['ucell_manual'] = score"
   ]
  },
  {
   "cell_type": "code",
   "execution_count": null,
   "metadata": {
    "pycharm": {
     "name": "#%%\n"
    }
   },
   "outputs": [],
   "source": [
    "%%time\n",
    "score_signature('ucell_scoring', adata, gene_list, score_name='ucell_new')"
   ]
  },
  {
   "cell_type": "code",
   "execution_count": null,
   "metadata": {
    "pycharm": {
     "name": "#%%\n"
    }
   },
   "outputs": [],
   "source": [
    "from IPython.core.display import display, HTML\n",
    "display(HTML(\"<style>.container { width:90% !important; }</style>\"))"
   ]
  },
  {
   "cell_type": "markdown",
   "metadata": {
    "pycharm": {
     "name": "#%% md\n"
    }
   },
   "source": [
    "### Make Ucell faster"
   ]
  },
  {
   "cell_type": "code",
   "execution_count": null,
   "metadata": {
    "pycharm": {
     "name": "#%%\n"
    }
   },
   "outputs": [],
   "source": [
    "# orig_adata = sc.read_h5ad(os.path.join(BASE_PATH_DATA, 'real_data/esophag/data.h5ad'))\n",
    "# orig_adata = orig_adata[orig_adata.obs.malignant_key != 'undecided', :]\n",
    "# orig_adata"
   ]
  },
  {
   "cell_type": "code",
   "execution_count": null,
   "metadata": {
    "pycharm": {
     "name": "#%%\n"
    }
   },
   "outputs": [],
   "source": [
    "# adatas = {}\n",
    "# for group in orig_adata.obs.groupby('sample_id'):\n",
    "#     adatas[group[0]] = orig_adata[group[1].index,].copy()\n",
    "\n",
    "# del orig_adata\n",
    "# for key, adata in adatas.items():\n",
    "#     preprocess(adata,\n",
    "#                min_genes=200,\n",
    "#                min_cells=1,\n",
    "#                target_sum=1e4)\n",
    "# orig_adata = sc.concat(list(adatas.values()), join='inner', merge='same')\n",
    "# del adatas, adata\n",
    "# orig_adata"
   ]
  },
  {
   "cell_type": "code",
   "execution_count": null,
   "metadata": {
    "pycharm": {
     "name": "#%%\n"
    }
   },
   "outputs": [],
   "source": [
    "# sc.tl.pca(orig_adata)\n",
    "# sc.pp.neighbors(orig_adata)\n",
    "# sc.tl.umap(orig_adata)"
   ]
  },
  {
   "cell_type": "code",
   "execution_count": null,
   "metadata": {
    "pycharm": {
     "name": "#%%\n"
    }
   },
   "outputs": [],
   "source": [
    "# orig_adata.write_h5ad(os.path.join(BASE_PATH_DATA, 'real_data/esophag/preoprocessed_data.h5ad'))"
   ]
  },
  {
   "cell_type": "code",
   "execution_count": null,
   "metadata": {
    "pycharm": {
     "name": "#%%\n"
    }
   },
   "outputs": [],
   "source": [
    "orig_adata = sc.read_h5ad(os.path.join(BASE_PATH_DATA, 'real_data/esophag/preoprocessed_data.h5ad'))"
   ]
  },
  {
   "cell_type": "code",
   "execution_count": null,
   "metadata": {
    "pycharm": {
     "name": "#%%\n"
    }
   },
   "outputs": [],
   "source": [
    "mes_sig = pd.read_csv(os.path.join(BASE_PATH_DATA, 'annotations/esophag/genesig_Mes.csv')).Mes.tolist()"
   ]
  },
  {
   "cell_type": "code",
   "execution_count": null,
   "metadata": {
    "pycharm": {
     "name": "#%%\n"
    }
   },
   "outputs": [],
   "source": [
    "%%time\n",
    "score_signature(method=\"ucell_scoring\",\n",
    "                adata=orig_adata,\n",
    "                gene_list=mes_sig,\n",
    "                score_name='mes_sig_scores'\n",
    "                )"
   ]
  },
  {
   "cell_type": "code",
   "execution_count": null,
   "metadata": {
    "pycharm": {
     "name": "#%%\n"
    }
   },
   "outputs": [],
   "source": [
    "import sys\n",
    "from typing import Optional, Sequence\n",
    "\n",
    "import numpy as np\n",
    "import pandas as pd\n",
    "import scanpy as sc\n",
    "from anndata import AnnData\n",
    "from scanpy._utils import AnyRandom, _check_use_raw\n",
    "from scipy.sparse import issparse, csr_matrix\n",
    "from scipy.stats import rankdata\n",
    "import multiprocessing\n",
    "from joblib import Parallel, delayed\n",
    "import warnings\n",
    "import os, psutil\n",
    "from memory_profiler import memory_usage\n",
    "\n",
    "sys.path.append(\"../..\")\n",
    "\n",
    "from src.utils.utils import check_signature_genes\n",
    "\n",
    "\n",
    "def u_stat(rank_value, maxRank=1500):\n",
    "    insig = rank_value > maxRank\n",
    "    if all(insig):\n",
    "        return 0\n",
    "    else:\n",
    "        rank_value[insig] = maxRank + 1\n",
    "        rank_sum = rank_value.sum()\n",
    "        len_sig = len(rank_value)\n",
    "        u_value = rank_sum - (len_sig * (len_sig + 1)) / 2\n",
    "        auc = 1 - u_value / (len_sig * maxRank)\n",
    "        return auc\n",
    "\n",
    "def compute_ranks_and_ustat(X_data, index, columns,gene_list,X_indices=None,X_indptr=None,X_shape=None,maxRank=1500):\n",
    "    \n",
    "    if any([x is None for x in [X_indices,X_indptr, X_shape]]):\n",
    "        ptint('we should not enter here')\n",
    "        data_df = pd.DataFrame(\n",
    "            X_data, index=index, columns=columns\n",
    "        )\n",
    "    else:\n",
    "        data_df = pd.DataFrame(\n",
    "            csr_matrix((X_data, X_indices,X_indptr),X_shape, copy=True).todense(), index=index, columns=columns\n",
    "        )\n",
    "\n",
    "    res = (data_df.apply(\n",
    "        lambda x: rankdata(-x),\n",
    "        axis=1,\n",
    "        raw=True\n",
    "    ))[gene_list]\n",
    "    \n",
    "    del data_df\n",
    "    \n",
    "    score = res.apply(\n",
    "        func=(lambda x: u_stat(x, maxRank=maxRank)),\n",
    "        axis=1,\n",
    "        raw=True\n",
    "    )\n",
    "    return score\n",
    "\n",
    "def score_genes(\n",
    "        adata: AnnData,\n",
    "        gene_list: Sequence[str],\n",
    "        maxRank: int = 1500,\n",
    "        bs: int = 500,\n",
    "        score_name: str = \"score\",\n",
    "        random_state: AnyRandom = 0,\n",
    "        copy: bool = False,\n",
    "        use_raw: Optional[bool] = None,\n",
    "        verbose: int = 0,\n",
    ") -> Optional[AnnData]:\n",
    "    start = sc.logging.info(f\"computing score {score_name!r}\")\n",
    "    if verbose > 0:\n",
    "        print(f\"computing score {score_name!r}\")\n",
    "\n",
    "    adata = adata.copy() if copy else adata\n",
    "\n",
    "    use_raw = _check_use_raw(adata, use_raw)\n",
    "\n",
    "    _adata = adata.raw if use_raw else adata\n",
    "\n",
    "    if random_state is not None:\n",
    "        np.random.seed(random_state)\n",
    "\n",
    "    # remove genes from gene_list not available in the data\n",
    "    gene_list = check_signature_genes(_adata.var_names, gene_list)\n",
    "\n",
    "    # check type of rank\n",
    "    if not isinstance(maxRank, int):\n",
    "        raise ValueError(f\"maxRank {maxRank} must be of type int\")\n",
    "\n",
    "    # check maxRank is not larger than available nr. of genes\n",
    "    if maxRank > len(_adata.var_names):\n",
    "        print(\n",
    "            f\"Provided maxRank is larger than the number of available genes. Set maxRank=len(adata.var_names)\"\n",
    "        )\n",
    "        maxRank = len(_adata.var_names)\n",
    "\n",
    "    # check that signature is not longer than maxRank\n",
    "    if len(gene_list) > maxRank and len(gene_list) <= len(_adata.var_names):\n",
    "        warnings.warn(\n",
    "            f\"The provided signature contains more genes than the maxRank parameter. maxRank is increased to signature length\"\n",
    "        )\n",
    "        maxRank = len(gene_list)\n",
    "        \n",
    "\n",
    "    sparse_X = issparse(_adata.X)\n",
    "\n",
    "    # create groups of managable sizes\n",
    "    bss = pd.cut(np.arange(_adata.obs.shape[0]), (_adata.obs.shape[0] // bs + 1), labels=False)\n",
    "    \n",
    "    num_cores = multiprocessing.cpu_count()\n",
    "#     num_cores = 4\n",
    "                           \n",
    "    scores = Parallel(n_jobs=num_cores, require='sharedmem')(\n",
    "        delayed(compute_ranks_and_ustat)(X_data=_adata[group[1].index,].X.data if sparse_X else _adata[group[1].index,].X,\n",
    "                                         X_indices=_adata[group[1].index,].X.indices if sparse_X else None,\n",
    "                                         X_indptr=_adata[group[1].index,].X.indptr if sparse_X else None,\n",
    "                                         X_shape = _adata[group[1].index,].X.shape  if sparse_X else None,\n",
    "                                         index = group[1].index,\n",
    "                                         columns = _adata.var_names,\n",
    "                                         gene_list = gene_list, \n",
    "                                         maxRank = maxRank) for group in _adata.obs.groupby(bss))\n",
    "\n",
    "    scores = pd.concat(scores)\n",
    "    \n",
    "    adata.obs[score_name] = scores\n",
    "\n",
    "    sc.logging.info(\n",
    "        \"    finished\",\n",
    "        time=start,\n",
    "        deep=(\"added\\n\" f\"    {score_name!r}, score of gene set (adata.obs).\"),\n",
    "    )\n",
    "    return adata if copy else None"
   ]
  },
  {
   "cell_type": "code",
   "execution_count": null,
   "metadata": {
    "pycharm": {
     "name": "#%%\n"
    }
   },
   "outputs": [],
   "source": [
    "%%time\n",
    "scores=score_genes(orig_adata, mes_sig, score_name='mes_sig_scores_refactored')\n",
    "# memory_usage((score_genes, [orig_adata, mes_sig],{'score_name':'mes_sig_scores_refactored'}))"
   ]
  },
  {
   "cell_type": "code",
   "execution_count": null,
   "metadata": {
    "pycharm": {
     "name": "#%%\n"
    }
   },
   "outputs": [],
   "source": []
  }
 ],
 "metadata": {
  "interpreter": {
   "hash": "9cda4755ffec0f6188ae38f1914eb21e27e8749c7814e4a77540112a27804b1a"
  },
  "kernelspec": {
   "display_name": "Python 3 (ipykernel)",
   "language": "python",
   "name": "python3"
  },
  "language_info": {
   "codemirror_mode": {
    "name": "ipython",
    "version": 3
   },
   "file_extension": ".py",
   "mimetype": "text/x-python",
   "name": "python",
   "nbconvert_exporter": "python",
   "pygments_lexer": "ipython3",
   "version": "3.8.12"
  }
 },
 "nbformat": 4,
 "nbformat_minor": 2
}
