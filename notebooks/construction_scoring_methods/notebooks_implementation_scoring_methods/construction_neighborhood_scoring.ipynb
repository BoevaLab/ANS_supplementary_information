{
 "cells": [
  {
   "cell_type": "code",
   "execution_count": 2,
   "id": "3a4a8baf",
   "metadata": {
    "pycharm": {
     "name": "#%%\n"
    }
   },
   "outputs": [],
   "source": [
    "import sys\n",
    "sys.path.append(\"../..\")\n",
    "import itertools\n",
    "\n",
    "import numpy as np\n",
    "import pandas as pd\n",
    "import scanpy as sc\n",
    "from matplotlib import pyplot as plt\n",
    "\n",
    "from src.data.preprocess_data import preprocess\n",
    "from src.utils.utils import get_gene_list_real_data, nanmean,get_test_statistics\n",
    "\n",
    "sc.settings.verbosity = 1"
   ]
  },
  {
   "cell_type": "code",
   "execution_count": 3,
   "id": "bd78f98a",
   "metadata": {
    "pycharm": {
     "name": "#%%\n"
    }
   },
   "outputs": [],
   "source": [
    "# adata_healthy = sc.read_h5ad('../data/real_data/healthy.h5ad')\n",
    "# adata_unhealthy = sc.read_h5ad('../data/real_data/unhealthy.h5ad')\n",
    "# adata = adata_healthy.concatenate(adata_unhealthy)"
   ]
  },
  {
   "cell_type": "code",
   "execution_count": 4,
   "id": "b836de0f",
   "metadata": {
    "pycharm": {
     "name": "#%%\n"
    }
   },
   "outputs": [],
   "source": [
    "# dict_samples = {}"
   ]
  },
  {
   "cell_type": "code",
   "execution_count": 5,
   "id": "75009909",
   "metadata": {
    "pycharm": {
     "name": "#%%\n"
    }
   },
   "outputs": [],
   "source": [
    "# for group in adata.obs.groupby(by='sample_id'):\n",
    "#     dict_samples[group[0]] = adata[group[1].index, :].copy()"
   ]
  },
  {
   "cell_type": "code",
   "execution_count": 6,
   "id": "2ce5c0d0",
   "metadata": {
    "pycharm": {
     "name": "#%%\n"
    }
   },
   "outputs": [],
   "source": [
    "# del adata\n",
    "# del adata_unhealthy\n",
    "# del adata_healthy"
   ]
  },
  {
   "cell_type": "code",
   "execution_count": 7,
   "id": "d7c54745",
   "metadata": {
    "pycharm": {
     "name": "#%%\n"
    }
   },
   "outputs": [],
   "source": [
    "# dict_samples.keys()"
   ]
  },
  {
   "cell_type": "code",
   "execution_count": 8,
   "id": "6a5767d7",
   "metadata": {
    "pycharm": {
     "name": "#%%\n"
    }
   },
   "outputs": [],
   "source": [
    "# adata = dict_samples['P23T']\n",
    "adata = sc.read_h5ad('../data/real_data/P23T_adata.h5ad')"
   ]
  },
  {
   "cell_type": "code",
   "execution_count": 9,
   "id": "66595275",
   "metadata": {
    "pycharm": {
     "name": "#%%\n"
    }
   },
   "outputs": [],
   "source": [
    "adata = adata[adata.obs['healthy']!='undecided',:]"
   ]
  },
  {
   "cell_type": "code",
   "execution_count": 10,
   "id": "baf4e36b",
   "metadata": {
    "pycharm": {
     "name": "#%%\n"
    }
   },
   "outputs": [
    {
     "name": "stderr",
     "output_type": "stream",
     "text": [
      "Trying to set attribute `.obs` of view, copying.\n"
     ]
    }
   ],
   "source": [
    "preprocess(adata, min_genes=500, min_cells=10, target_sum=1e4, copy=False, verbose=1, log=None)"
   ]
  },
  {
   "cell_type": "code",
   "execution_count": 11,
   "id": "62cfe1b2",
   "metadata": {
    "pycharm": {
     "name": "#%%\n"
    }
   },
   "outputs": [
    {
     "data": {
      "text/plain": "<Figure size 576x360 with 1 Axes>",
      "image/png": "[encoded data removed]"
     },
     "metadata": {
      "needs_background": "light"
     },
     "output_type": "display_data"
    }
   ],
   "source": [
    "gene_list = get_gene_list_real_data(\n",
    "    adata,\n",
    "    dge_method=\"wilcoxon\",\n",
    "    dge_key=\"wilcoxon\",\n",
    "    dge_pval_cutoff=0.01,\n",
    "    dge_log2fc_min=0.0025,\n",
    "    nr_de_genes=100,\n",
    "    mode=\"random\",\n",
    "    log='get_gene_list',\n",
    "    copy=False,\n",
    "    verbose=1\n",
    ")"
   ]
  },
  {
   "cell_type": "code",
   "execution_count": 12,
   "id": "1e12d837",
   "metadata": {
    "pycharm": {
     "name": "#%%\n"
    }
   },
   "outputs": [],
   "source": [
    "all_diffexp = sc.get.rank_genes_groups_df(\n",
    "    adata,\n",
    "    group=\"unhealthy\",\n",
    "    key='wilcoxon'\n",
    ")"
   ]
  },
  {
   "cell_type": "code",
   "execution_count": 13,
   "id": "16364921",
   "metadata": {
    "pycharm": {
     "name": "#%%\n"
    }
   },
   "outputs": [],
   "source": [
    "all_diffexp = all_diffexp.sort_values(by='names',ascending=True)"
   ]
  },
  {
   "cell_type": "code",
   "execution_count": 14,
   "id": "5a085099",
   "metadata": {
    "pycharm": {
     "name": "#%%\n"
    }
   },
   "outputs": [
    {
     "data": {
      "text/plain": "AnnData object with n_obs × n_vars = 3478 × 14044\n    obs: 'sample_id', 'celltype', 'batch', 'healthy_annotation', 'reference', 'barcode', 'n_counts', 'log_counts', 'n_genes', 'pct_zero_genes', 'n_genes_by_counts', 'total_counts', 'total_counts_mt', 'pct_counts_mt', 'reference_type', 'healthy_cnv', 'healthy', 'S_score', 'G2M_score', 'phase', 'apoptosis_score', 'oxphos', 'AP', 'Cycling', 'Epi1', 'Epi2', 'Mes', 'Mucosal', 'Oxd', 'Stress', 'subclonal'\n    var: 'mt', 'n_cells_by_counts', 'mean_counts', 'pct_dropout_by_counts', 'total_counts', 'chromosome', 'start', 'end', 'cutoff', 'n_cells'\n    uns: 'cnv', 'reference_cat', 'reference_info', 'log1p', 'wilcoxon'\n    obsm: 'X_cnv'"
     },
     "execution_count": 14,
     "metadata": {},
     "output_type": "execute_result"
    }
   ],
   "source": [
    "adata"
   ]
  },
  {
   "cell_type": "markdown",
   "id": "bcb74c1f",
   "metadata": {
    "pycharm": {
     "name": "#%% md\n"
    }
   },
   "source": [
    "Get ranked means, take neighbors"
   ]
  },
  {
   "cell_type": "code",
   "execution_count": 15,
   "id": "4224c9ce",
   "metadata": {
    "pycharm": {
     "name": "#%%\n"
    }
   },
   "outputs": [],
   "source": [
    "obs_avg = pd.Series(nanmean(adata.X, axis=0), index=adata.var_names)\n",
    "obs_avg = obs_avg[np.isfinite(obs_avg)]\n",
    "\n",
    "# correct computations of cuts\n",
    "ranked_obs_avg = obs_avg.rank(method=\"min\").sort_values()"
   ]
  },
  {
   "cell_type": "code",
   "execution_count": 16,
   "id": "7ea8096f",
   "metadata": {
    "pycharm": {
     "name": "#%%\n"
    }
   },
   "outputs": [],
   "source": [
    "ranked_ref_genes = ranked_obs_avg[ranked_obs_avg.index.isin(gene_list)==False]"
   ]
  },
  {
   "cell_type": "code",
   "execution_count": 17,
   "id": "848ada18",
   "metadata": {
    "pycharm": {
     "name": "#%%\n"
    }
   },
   "outputs": [],
   "source": [
    "ctrl_genes = 100"
   ]
  },
  {
   "cell_type": "code",
   "execution_count": 18,
   "id": "fc103cf9",
   "metadata": {
    "pycharm": {
     "name": "#%%\n"
    }
   },
   "outputs": [],
   "source": [
    "ctrl_genes_half = int(np.round(ctrl_genes/2))"
   ]
  },
  {
   "cell_type": "code",
   "execution_count": 19,
   "id": "5e46ddd6",
   "metadata": {
    "pycharm": {
     "name": "#%%\n"
    }
   },
   "outputs": [],
   "source": [
    "ctrl_genes_list = []\n",
    "for val in ranked_obs_avg.loc[gene_list]:\n",
    "    idx_where_insert = ranked_ref_genes.searchsorted(val)\n",
    "    lower = idx_where_insert-ctrl_genes_half\n",
    "    upper = idx_where_insert+ctrl_genes_half\n",
    "    if lower <0:\n",
    "        lower = 0\n",
    "    if upper > ranked_ref_genes.shape[0]:\n",
    "        upper = ranked_ref_genes.shape[0]\n",
    "    ctrl_genes =  ranked_ref_genes.iloc[lower: upper]\n",
    "    ctrl_genes_list.append(ctrl_genes.index.tolist())"
   ]
  },
  {
   "cell_type": "code",
   "execution_count": 20,
   "id": "afdd49f0",
   "metadata": {
    "pycharm": {
     "name": "#%%\n"
    }
   },
   "outputs": [],
   "source": [
    "ctrl_genes_list = list(itertools.chain(*ctrl_genes_list))"
   ]
  },
  {
   "cell_type": "code",
   "execution_count": 21,
   "id": "52f0232d",
   "metadata": {
    "pycharm": {
     "name": "#%%\n"
    }
   },
   "outputs": [],
   "source": [
    "X_list = adata[:, gene_list].X\n",
    "X_list = nanmean(X_list, axis=1, dtype=\"float64\")\n",
    "\n",
    "X_control = adata[:, ctrl_genes_list].X\n",
    "X_control = nanmean(X_control, axis=1, dtype=\"float64\")\n",
    "\n",
    "score = X_list - X_control"
   ]
  },
  {
   "cell_type": "code",
   "execution_count": 22,
   "id": "d46ffd78",
   "metadata": {
    "pycharm": {
     "name": "#%%\n"
    }
   },
   "outputs": [
    {
     "data": {
      "text/plain": "array([-0.01949321, -0.03499063, -0.02355757, ..., -0.00992444,\n        0.0304405 , -0.00997081])"
     },
     "execution_count": 22,
     "metadata": {},
     "output_type": "execute_result"
    }
   ],
   "source": [
    "score"
   ]
  },
  {
   "cell_type": "code",
   "execution_count": 23,
   "id": "5cf38d6c",
   "metadata": {
    "pycharm": {
     "name": "#%%\n"
    }
   },
   "outputs": [],
   "source": [
    "adata.obs[\"no_binning\"] = pd.Series(\n",
    "        np.array(score).ravel(), index=adata.obs_names, dtype=\"float64\"\n",
    "    )"
   ]
  },
  {
   "cell_type": "code",
   "execution_count": 24,
   "id": "976c344b",
   "metadata": {
    "pycharm": {
     "name": "#%%\n"
    }
   },
   "outputs": [],
   "source": [
    "from src.scoring_methods.tirosh_signature_scoring import score_genes as tirosh_scoring\n",
    "from src.scoring_methods.neighborhood_signature_scoring import score_genes as neighborhood_scoring"
   ]
  },
  {
   "cell_type": "code",
   "execution_count": 25,
   "id": "1b29b0db",
   "metadata": {
    "pycharm": {
     "name": "#%%\n"
    }
   },
   "outputs": [],
   "source": [
    "tirosh_scoring(\n",
    "        adata,\n",
    "        gene_list,\n",
    "        n_bins=25,\n",
    "        ctrl_size=100,\n",
    "        verbose=0,\n",
    "        score_name=\"Tirosh scoring\",\n",
    "        random_state=5,\n",
    "    )"
   ]
  },
  {
   "cell_type": "code",
   "execution_count": 26,
   "id": "126359cf",
   "metadata": {
    "pycharm": {
     "name": "#%%\n"
    }
   },
   "outputs": [
    {
     "data": {
      "text/plain": "<matplotlib.legend.Legend at 0x14c2794c0>"
     },
     "execution_count": 26,
     "metadata": {},
     "output_type": "execute_result"
    },
    {
     "data": {
      "text/plain": "<Figure size 432x288 with 1 Axes>",
      "image/png": "[encoded data removed]"
     },
     "metadata": {
      "needs_background": "light"
     },
     "output_type": "display_data"
    }
   ],
   "source": [
    "adata.obs[\"no_binning\"][adata.obs[\"healthy\"]=='healthy'].hist(bins=50, density=True, label=\"healthy cells\", alpha=0.5)\n",
    "adata.obs[\"no_binning\"][adata.obs[\"healthy\"]=='unhealthy'].hist(bins=50,density=True, label=\"unhealthy cells\", alpha=0.5)\n",
    "plt.legend()"
   ]
  },
  {
   "cell_type": "code",
   "execution_count": 27,
   "id": "befbd7bc",
   "metadata": {
    "pycharm": {
     "name": "#%%\n"
    }
   },
   "outputs": [
    {
     "data": {
      "text/plain": "<matplotlib.legend.Legend at 0x14c66e5e0>"
     },
     "execution_count": 27,
     "metadata": {},
     "output_type": "execute_result"
    },
    {
     "data": {
      "text/plain": "<Figure size 432x288 with 1 Axes>",
      "image/png": "[encoded data removed]"
     },
     "metadata": {
      "needs_background": "light"
     },
     "output_type": "display_data"
    }
   ],
   "source": [
    "adata.obs[\"Tirosh scoring\"][adata.obs[\"healthy\"]=='healthy'].hist(bins=50, density=True, label=\"healthy cells\", alpha=0.5)\n",
    "adata.obs[\"Tirosh scoring\"][adata.obs[\"healthy\"]=='unhealthy'].hist(bins=50,density=True, label=\"unhealthy cells\", alpha=0.5)\n",
    "plt.legend()"
   ]
  },
  {
   "cell_type": "code",
   "execution_count": 28,
   "id": "a3b3d9f3",
   "metadata": {
    "pycharm": {
     "name": "#%%\n"
    }
   },
   "outputs": [],
   "source": [
    "neighborhood_scoring(\n",
    "        adata,\n",
    "        gene_list,\n",
    "        ctrl_size=100,\n",
    "        verbose=0,\n",
    "        score_name=\"no_binning_2\",\n",
    "        random_state=1000,\n",
    "    )"
   ]
  },
  {
   "cell_type": "code",
   "execution_count": 29,
   "id": "b59b730a",
   "metadata": {
    "pycharm": {
     "name": "#%%\n"
    }
   },
   "outputs": [
    {
     "data": {
      "text/plain": "                           no_binning  no_binning_2\nindex                                              \nP23T-I-AAACGGGAGGCCATAG-0   -0.019493     -0.019493\nP23T-I-AAAGATGAGCACACAG-0   -0.034991     -0.034990\nP23T-I-AAAGCAACAGCGTTCG-0   -0.023558     -0.023557\nP23T-I-AAAGCAATCAGTGCAT-0   -0.005874     -0.005874\nP23T-I-AAAGTAGTCGTCTGAA-0   -0.051732     -0.051732\n...                               ...           ...\nP23T-E-TTGGAACAGAATGTGT-7   -0.007081     -0.007081\nP23T-E-TTGGAACAGTGTCCAT-7    0.013008      0.013009\nP23T-E-TTGTAGGAGTCCATAC-7   -0.009924     -0.009925\nP23T-E-TTTGGTTTCAATACCG-7    0.030440      0.030439\nP23T-E-TTTGGTTTCCTGCAGG-7   -0.009971     -0.009970\n\n[3478 rows x 2 columns]",
      "text/html": "<div>\n<style scoped>\n    .dataframe tbody tr th:only-of-type {\n        vertical-align: middle;\n    }\n\n    .dataframe tbody tr th {\n        vertical-align: top;\n    }\n\n    .dataframe thead th {\n        text-align: right;\n    }\n</style>\n<table border=\"1\" class=\"dataframe\">\n  <thead>\n    <tr style=\"text-align: right;\">\n      <th></th>\n      <th>no_binning</th>\n      <th>no_binning_2</th>\n    </tr>\n    <tr>\n      <th>index</th>\n      <th></th>\n      <th></th>\n    </tr>\n  </thead>\n  <tbody>\n    <tr>\n      <th>P23T-I-AAACGGGAGGCCATAG-0</th>\n      <td>-0.019493</td>\n      <td>-0.019493</td>\n    </tr>\n    <tr>\n      <th>P23T-I-AAAGATGAGCACACAG-0</th>\n      <td>-0.034991</td>\n      <td>-0.034990</td>\n    </tr>\n    <tr>\n      <th>P23T-I-AAAGCAACAGCGTTCG-0</th>\n      <td>-0.023558</td>\n      <td>-0.023557</td>\n    </tr>\n    <tr>\n      <th>P23T-I-AAAGCAATCAGTGCAT-0</th>\n      <td>-0.005874</td>\n      <td>-0.005874</td>\n    </tr>\n    <tr>\n      <th>P23T-I-AAAGTAGTCGTCTGAA-0</th>\n      <td>-0.051732</td>\n      <td>-0.051732</td>\n    </tr>\n    <tr>\n      <th>...</th>\n      <td>...</td>\n      <td>...</td>\n    </tr>\n    <tr>\n      <th>P23T-E-TTGGAACAGAATGTGT-7</th>\n      <td>-0.007081</td>\n      <td>-0.007081</td>\n    </tr>\n    <tr>\n      <th>P23T-E-TTGGAACAGTGTCCAT-7</th>\n      <td>0.013008</td>\n      <td>0.013009</td>\n    </tr>\n    <tr>\n      <th>P23T-E-TTGTAGGAGTCCATAC-7</th>\n      <td>-0.009924</td>\n      <td>-0.009925</td>\n    </tr>\n    <tr>\n      <th>P23T-E-TTTGGTTTCAATACCG-7</th>\n      <td>0.030440</td>\n      <td>0.030439</td>\n    </tr>\n    <tr>\n      <th>P23T-E-TTTGGTTTCCTGCAGG-7</th>\n      <td>-0.009971</td>\n      <td>-0.009970</td>\n    </tr>\n  </tbody>\n</table>\n<p>3478 rows × 2 columns</p>\n</div>"
     },
     "execution_count": 29,
     "metadata": {},
     "output_type": "execute_result"
    }
   ],
   "source": [
    "adata.obs[[\"no_binning\",\"no_binning_2\"]]"
   ]
  },
  {
   "cell_type": "code",
   "execution_count": 30,
   "id": "51d8aca7",
   "metadata": {
    "pycharm": {
     "name": "#%%\n"
    }
   },
   "outputs": [
    {
     "data": {
      "text/plain": "   Scoring method   Test method     Statistic  pvalue\n0  tirosh_scoring           auc  9.951947e-01     NaN\n1      no_binning           auc  9.958651e-01     NaN\n2    no_binning_2           auc  9.958651e-01     NaN\n3  tirosh_scoring        kstest  0.000000e+00     1.0\n4      no_binning        kstest  0.000000e+00     1.0\n5    no_binning_2        kstest  0.000000e+00     1.0\n6  tirosh_scoring  mannwhitneyu  2.304032e+06     0.0\n7      no_binning  mannwhitneyu  2.305584e+06     0.0\n8    no_binning_2  mannwhitneyu  2.305584e+06     0.0",
      "text/html": "<div>\n<style scoped>\n    .dataframe tbody tr th:only-of-type {\n        vertical-align: middle;\n    }\n\n    .dataframe tbody tr th {\n        vertical-align: top;\n    }\n\n    .dataframe thead th {\n        text-align: right;\n    }\n</style>\n<table border=\"1\" class=\"dataframe\">\n  <thead>\n    <tr style=\"text-align: right;\">\n      <th></th>\n      <th>Scoring method</th>\n      <th>Test method</th>\n      <th>Statistic</th>\n      <th>pvalue</th>\n    </tr>\n  </thead>\n  <tbody>\n    <tr>\n      <th>0</th>\n      <td>tirosh_scoring</td>\n      <td>auc</td>\n      <td>9.951947e-01</td>\n      <td>NaN</td>\n    </tr>\n    <tr>\n      <th>1</th>\n      <td>no_binning</td>\n      <td>auc</td>\n      <td>9.958651e-01</td>\n      <td>NaN</td>\n    </tr>\n    <tr>\n      <th>2</th>\n      <td>no_binning_2</td>\n      <td>auc</td>\n      <td>9.958651e-01</td>\n      <td>NaN</td>\n    </tr>\n    <tr>\n      <th>3</th>\n      <td>tirosh_scoring</td>\n      <td>kstest</td>\n      <td>0.000000e+00</td>\n      <td>1.0</td>\n    </tr>\n    <tr>\n      <th>4</th>\n      <td>no_binning</td>\n      <td>kstest</td>\n      <td>0.000000e+00</td>\n      <td>1.0</td>\n    </tr>\n    <tr>\n      <th>5</th>\n      <td>no_binning_2</td>\n      <td>kstest</td>\n      <td>0.000000e+00</td>\n      <td>1.0</td>\n    </tr>\n    <tr>\n      <th>6</th>\n      <td>tirosh_scoring</td>\n      <td>mannwhitneyu</td>\n      <td>2.304032e+06</td>\n      <td>0.0</td>\n    </tr>\n    <tr>\n      <th>7</th>\n      <td>no_binning</td>\n      <td>mannwhitneyu</td>\n      <td>2.305584e+06</td>\n      <td>0.0</td>\n    </tr>\n    <tr>\n      <th>8</th>\n      <td>no_binning_2</td>\n      <td>mannwhitneyu</td>\n      <td>2.305584e+06</td>\n      <td>0.0</td>\n    </tr>\n  </tbody>\n</table>\n</div>"
     },
     "execution_count": 30,
     "metadata": {},
     "output_type": "execute_result"
    }
   ],
   "source": [
    "test_stat = get_test_statistics(adata,\n",
    "                                ['Tirosh scoring', 'no_binning', 'no_binning_2'],\n",
    "                                test_method=\"auc\",\n",
    "                                label_col='healthy',\n",
    "                                label_whsc='unhealthy',\n",
    "                                save=False,\n",
    "                                store_data_path=None)\n",
    "test_stat = get_test_statistics(adata,\n",
    "                                ['Tirosh scoring', 'no_binning', 'no_binning_2'],\n",
    "                                test_method=\"kstest\",\n",
    "                                label_col='healthy',\n",
    "                                label_whsc='unhealthy',\n",
    "                                old_df = test_stat,\n",
    "                                save=False,\n",
    "                                store_data_path=None)\n",
    "test_stat = get_test_statistics(adata,\n",
    "                                ['Tirosh scoring', 'no_binning', 'no_binning_2'],\n",
    "                                test_method='mannwhitneyu',\n",
    "                                label_col='healthy',\n",
    "                                label_whsc='unhealthy',\n",
    "                                old_df = test_stat,\n",
    "                                save=False,\n",
    "                                store_data_path=None)\n",
    "test_stat"
   ]
  },
  {
   "cell_type": "code",
   "execution_count": 30,
   "id": "475441ef",
   "metadata": {
    "pycharm": {
     "name": "#%%\n"
    }
   },
   "outputs": [],
   "source": []
  }
 ],
 "metadata": {
  "kernelspec": {
   "display_name": "Python 3 (ipykernel)",
   "language": "python",
   "name": "python3"
  },
  "language_info": {
   "codemirror_mode": {
    "name": "ipython",
    "version": 3
   },
   "file_extension": ".py",
   "mimetype": "text/x-python",
   "name": "python",
   "nbconvert_exporter": "python",
   "pygments_lexer": "ipython3",
   "version": "3.8.12"
  }
 },
 "nbformat": 4,
 "nbformat_minor": 5
}