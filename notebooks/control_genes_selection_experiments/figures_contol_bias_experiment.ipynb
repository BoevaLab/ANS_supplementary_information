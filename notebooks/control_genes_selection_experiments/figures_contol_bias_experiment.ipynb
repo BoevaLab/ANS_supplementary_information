{
 "cells": [
  {
   "cell_type": "code",
   "execution_count": null,
   "id": "089a7bb6",
   "metadata": {},
   "outputs": [],
   "source": [
    "import os\n",
    "import sys\n",
    "import matplotlib.pyplot as plt\n",
    "import seaborn as sns\n",
    "from pathlib import Path\n",
    "import pandas as pd\n",
    "from tqdm import tqdm\n",
    "\n",
    "sys.path.append('../..')\n",
    "from data.constants import BASE_PATH_EXPERIMENTS, BASE_PATH_DATA"
   ]
  },
  {
   "cell_type": "code",
   "execution_count": null,
   "id": "6305cab8",
   "metadata": {},
   "outputs": [],
   "source": [
    "plt.rcParams.update({'pdf.fonttype':42, 'font.family':'sans-serif', 'font.sans-serif':'Arial', 'font.size':14})"
   ]
  },
  {
   "cell_type": "code",
   "execution_count": null,
   "id": "9611104d",
   "metadata": {},
   "outputs": [],
   "source": [
    "root_exp_dir = Path(os.path.join(BASE_PATH_EXPERIMENTS, 'control_genes_selection/mean_var_per_gene_scores'))\n",
    "storing_path = root_exp_dir / 'plots'\n",
    "\n",
    "# Create the directory if it doesn't exist\n",
    "storing_path.mkdir(parents=True, exist_ok=True)"
   ]
  },
  {
   "cell_type": "markdown",
   "id": "8d5513e9",
   "metadata": {},
   "source": [
    "The following simply checks if the produces data in the `control_bias` is of correct shape"
   ]
  },
  {
   "cell_type": "code",
   "execution_count": null,
   "id": "f98def56",
   "metadata": {},
   "outputs": [],
   "source": [
    "# # Define a function to process files\n",
    "# def _check_file(file_path):\n",
    "#     df = pd.read_csv(file_path)\n",
    "#     return df.shape\n",
    "    \n",
    "    \n",
    "# def _process_folder(folder_path):\n",
    "#     df_shape = []\n",
    "#     i=0\n",
    "#     for file in folder_path.glob('*.csv'):\n",
    "#         df_shape.append(_check_file(file))\n",
    "#         i+=1\n",
    "        \n",
    "#     return all(item == df_shape[0] for item in df_shape) and i==5"
   ]
  },
  {
   "cell_type": "code",
   "execution_count": null,
   "id": "7c75f93d",
   "metadata": {},
   "outputs": [],
   "source": [
    "# for curr_path in root_exp_dir.rglob('*'):\n",
    "#     if curr_path.is_dir():\n",
    "#         res = _process_folder(curr_path)\n",
    "#         if res:\n",
    "#             print(f'All files are ok for subtype {curr_path.name}')\n",
    "#         else:\n",
    "#             print(f'Some files are not ok for subtype {curr_path.name}')"
   ]
  },
  {
   "cell_type": "markdown",
   "id": "1a2a37a1",
   "metadata": {},
   "source": [
    "Create the visualization for one folder and then upscale to all folders. "
   ]
  },
  {
   "cell_type": "code",
   "execution_count": null,
   "id": "6e539495",
   "metadata": {},
   "outputs": [],
   "source": [
    "def _create_and_store_plot(folder_path, storing_path, show=True):\n",
    "    # define name mapping \n",
    "    sc_method_name_mapping= {\n",
    "        'adjusted_neighborhood_scoring':'ANS',\n",
    "        'seurat_scoring':'Seurat',\n",
    "        'seurat_ag_scoring':'Seurat_AG',\n",
    "        'seurat_lvg_scoring':'Seurat_LVG',\n",
    "        'scanpy_scoring':'Scanpy',\n",
    "    }\n",
    "    hue_order = list(sc_method_name_mapping.values())\n",
    "    \n",
    "    # read all .csv files containing cell scores \n",
    "    dfs = []\n",
    "    for file in folder_path.glob('*.csv'):\n",
    "        df = pd.read_csv(file)\n",
    "        dfs.append(df.copy())\n",
    "    all_scores = pd.concat(dfs, axis=0)\n",
    "    all_scores.columns = ['sample_id']+list(all_scores.columns)[1:]\n",
    "    \n",
    "    # melt all scores to make it ready for seaborn lineplot\n",
    "    melted_all_scores = pd.melt(all_scores, id_vars=['sample_id', 'scoring_method'],\n",
    "                                var_name='gene', value_name='score')\n",
    "    \n",
    "    melted_all_scores.scoring_method = melted_all_scores.scoring_method.map(sc_method_name_mapping)\n",
    "    \n",
    "    # plot score lines \n",
    "    cm = 1/2.54  # centimeters in inches\n",
    "    plt.figure(figsize=(12*cm, 6*cm))\n",
    "    ax = sns.lineplot(data=melted_all_scores, x=\"gene\", y=\"score\", hue='scoring_method', hue_order=hue_order)\n",
    "    \n",
    "    ax.set_title(f'Control selection bias for subtype {folder_path.name}', fontsize=10)\n",
    "    plt.xlabel('Genes in last two expression bins.', fontsize=10)\n",
    "    plt.ylabel('Score', fontsize=10)\n",
    "    \n",
    "    plt.xticks(rotation=90, fontsize=8)\n",
    "    plt.yticks(fontsize=8)\n",
    "    \n",
    "    all_xticks = ax.get_xticks()\n",
    "    subset_x_ticks = all_xticks[::50]\n",
    "    ax.set_xticks(subset_x_ticks)\n",
    "    \n",
    "    # store figure\n",
    "#     plt.savefig(storing_path/f\"bias_{folder_path.name.replace(\" \", \"_\")}.pdf\", format=pdf)\n",
    "    print(storing_path/f\"bias_{folder_path.name.replace(' ', '_')}.pdf\")\n",
    "\n",
    "    # show or close figure\n",
    "    if show:\n",
    "        plt.show()\n",
    "    else:\n",
    "        plt.close()\n"
   ]
  },
  {
   "cell_type": "code",
   "execution_count": null,
   "id": "45864af0",
   "metadata": {},
   "outputs": [],
   "source": [
    "plt.rcParams.update({'pdf.fonttype':42, 'font.family':'sans-serif', 'font.sans-serif':'Arial', 'font.size':10})"
   ]
  },
  {
   "cell_type": "code",
   "execution_count": null,
   "id": "ca49f20d",
   "metadata": {},
   "outputs": [],
   "source": [
    "test_folder = root_exp_dir / 'NK_1'"
   ]
  },
  {
   "cell_type": "code",
   "execution_count": null,
   "id": "32567b64",
   "metadata": {},
   "outputs": [],
   "source": [
    "_create_and_store_plot(test_folder, storing_path)"
   ]
  },
  {
   "cell_type": "code",
   "execution_count": null,
   "id": "8dab23d6",
   "metadata": {},
   "outputs": [],
   "source": [
    "plt.rcParams.update({'pdf.fonttype':42, 'font.family':'sans-serif', 'font.sans-serif':'Arial', 'font.size':10})"
   ]
  },
  {
   "cell_type": "code",
   "execution_count": null,
   "id": "07c6c97b",
   "metadata": {},
   "outputs": [],
   "source": [
    "for folder_path  in tqdm(root_exp_dir.rglob('*')):\n",
    "    _create_and_store_plot(folder_path, storing_path, show=False)"
   ]
  },
  {
   "cell_type": "code",
   "execution_count": null,
   "id": "6db5b071",
   "metadata": {},
   "outputs": [],
   "source": []
  },
  {
   "cell_type": "code",
   "execution_count": null,
   "id": "8df7d923",
   "metadata": {},
   "outputs": [],
   "source": []
  },
  {
   "cell_type": "code",
   "execution_count": null,
   "id": "87233be5",
   "metadata": {},
   "outputs": [],
   "source": []
  },
  {
   "cell_type": "code",
   "execution_count": null,
   "id": "cad40d5f",
   "metadata": {},
   "outputs": [],
   "source": []
  },
  {
   "cell_type": "code",
   "execution_count": null,
   "id": "26d2b292",
   "metadata": {},
   "outputs": [],
   "source": []
  },
  {
   "cell_type": "code",
   "execution_count": null,
   "id": "bf12aff1",
   "metadata": {},
   "outputs": [],
   "source": []
  },
  {
   "cell_type": "code",
   "execution_count": null,
   "id": "03690894",
   "metadata": {},
   "outputs": [],
   "source": [
    "import argparse\n",
    "import json\n",
    "import os\n",
    "import sys\n",
    "from datetime import datetime\n",
    "\n",
    "import pandas as pd\n",
    "import scanpy as sc\n",
    "from signaturescoring import score_signature\n",
    "from signaturescoring.utils.utils import (\n",
    "    get_bins_wrt_avg_gene_expression, get_mean_and_variance_gene_expression)\n",
    "\n",
    "sys.path.append(\"../..\")\n",
    "from data.constants import DATASETS\n",
    "from data.load_data import load_datasets\n",
    "from data.preprocess_pbmc_helper import preprocess_dataset\n",
    "from experiments.experiment_utils import (AttributeDict,\n",
    "                                          get_scoring_method_params)\n",
    "\n",
    "\n",
    "def load_pbmc_data():\n",
    "    fn_data = os.path.join(BASE_PATH_DATA, 'raw_data/pbmc_citeseq.h5ad')\n",
    "    adata = sc.read_h5ad(fn_data)\n",
    "\n",
    "    adata = adata.raw.to_adata()\n",
    "    adata.var_names = adata.var['_index']\n",
    "    adata.var_names.name = None\n",
    "    adata.var.columns = ['gene_names']\n",
    "\n",
    "    if 'mt' not in adata.var:\n",
    "        # get mitochondrial genes\n",
    "        adata.var[\"mt\"] = adata.var_names.str.startswith(\"MT-\")\n",
    "    if 'ribo' not in adata.var:         \n",
    "        # get ribosomal genes\n",
    "        adata.var[\"ribo\"] = adata.var_names.str.startswith((\"RPS\", \"RPL\"))\n",
    "    if 'hb' not in adata.var:\n",
    "        # get hemoglobin genes.\n",
    "        adata.var[\"hb\"] = adata.var_names.str.contains((\"^HB[^(P)]\"))\n",
    "\n",
    "    return adata\n",
    "\n",
    "\n",
    "n_bins = 25"
   ]
  },
  {
   "cell_type": "code",
   "execution_count": null,
   "id": "73262123",
   "metadata": {},
   "outputs": [],
   "source": [
    "subtype = 'NK_1'\n",
    "print('Load entire PBMC dataset.')\n",
    "adata = load_pbmc_data()\n",
    "adata = adata[adata.obs['celltype.l3']==subtype,:].copy()\n",
    "\n",
    "# preprocess dataset\n",
    "print(f'Preprocessing data with cell-type {subtype}.')\n",
    "adata = preprocess_dataset(adata,\n",
    "                           params_cell_filtering=dict(mad_tot_cnt=5, \n",
    "                                                      mad_ngenes_cnt=5, \n",
    "                                                      nr_top_genes=20,\n",
    "                                                      mad_pct_cnt_top_genes=5,\n",
    "                                                      mad_pct_mt=5,\n",
    "                                                      min_pct_mt=9),\n",
    "                            )\n",
    "\n",
    "df_mean_var = get_mean_and_variance_gene_expression(adata)\n",
    "df_mean_var = df_mean_var.sort_values(by=\"mean\", ascending=True)\n",
    "gene_bins = get_bins_wrt_avg_gene_expression(df_mean_var[\"mean\"], n_bins)\n",
    "genes_2nd_last = gene_bins[gene_bins == (n_bins - 2)].index.tolist()\n",
    "genes_last = gene_bins[gene_bins == (n_bins - 1)].index.tolist()\n",
    "genes_of_lat_2_bins = gene_bins[(gene_bins == (n_bins - 1)) | (gene_bins == (n_bins - 2))].index.tolist()"
   ]
  },
  {
   "cell_type": "code",
   "execution_count": null,
   "id": "12934de9",
   "metadata": {},
   "outputs": [],
   "source": [
    "all((genes_of_lat_2_bins[0:len(genes_of_lat_2_bins)//2] == genes_2nd_last, genes_of_lat_2_bins[len(genes_of_lat_2_bins)//2:] == genes_last))"
   ]
  },
  {
   "cell_type": "code",
   "execution_count": null,
   "id": "b78a9649",
   "metadata": {},
   "outputs": [],
   "source": [
    "print('Load entire PBMC dataset.')\n",
    "entire_adata = load_pbmc_data()"
   ]
  },
  {
   "cell_type": "code",
   "execution_count": null,
   "id": "42ef844e",
   "metadata": {},
   "outputs": [],
   "source": [
    "def _check_bin_jump(list_subtypes):\n",
    "    for subtype in list_subtypes:\n",
    "        adata = entire_adata[entire_adata.obs['celltype.l3']==subtype,:].copy()\n",
    "        adata = preprocess_dataset(adata,\n",
    "                           params_cell_filtering=dict(mad_tot_cnt=5, \n",
    "                                                      mad_ngenes_cnt=5, \n",
    "                                                      nr_top_genes=20,\n",
    "                                                      mad_pct_cnt_top_genes=5,\n",
    "                                                      mad_pct_mt=5,\n",
    "                                                      min_pct_mt=9),\n",
    "                            )\n",
    "\n",
    "        df_mean_var = get_mean_and_variance_gene_expression(adata)\n",
    "        df_mean_var = df_mean_var.sort_values(by=\"mean\", ascending=True)\n",
    "        gene_bins = get_bins_wrt_avg_gene_expression(df_mean_var[\"mean\"], n_bins)\n",
    "        genes_2nd_last = gene_bins[gene_bins == (n_bins - 2)].index.tolist()\n",
    "        genes_last = gene_bins[gene_bins == (n_bins - 1)].index.tolist()\n",
    "        genes_of_lat_2_bins = gene_bins[(gene_bins == (n_bins - 1)) | (gene_bins == (n_bins - 2))].index.tolist()\n",
    "        middle_separating_two_bins = all((genes_of_lat_2_bins[0:len(genes_of_lat_2_bins)//2] == genes_2nd_last, genes_of_lat_2_bins[len(genes_of_lat_2_bins)//2:] == genes_last))\n",
    "        if middle_separating_two_bins:\n",
    "            print(f'For subtype {subtype} the index of length//2 is separating the two bins')\n",
    "        else:\n",
    "            mid_p_1 = (len(genes_of_lat_2_bins)//2)+1\n",
    "            mid_m_1 = (len(genes_of_lat_2_bins)//2)-1\n",
    "            mid_p_1_separating_two_bins = all((genes_of_lat_2_bins[0:mid_p_1] == genes_2nd_last, genes_of_lat_2_bins[mid_p_1:] == genes_last))\n",
    "            mid_m_1_separating_two_bins = all((genes_of_lat_2_bins[0:mid_m_1] == genes_2nd_last, genes_of_lat_2_bins[mid_m_1:] == genes_last))            \n",
    "            \n",
    "            if mid_p_1:\n",
    "                print(f'For subtype {subtype} the index of length//2 +1 is separating the two bins')\n",
    "            elif mid_m_1:\n",
    "                print(f'For subtype {subtype} the index of length//2 -1 is separating the two bins')\n",
    "            else:\n",
    "                print(f'I AM LOST')\n",
    "                "
   ]
  },
  {
   "cell_type": "code",
   "execution_count": null,
   "id": "44911e40",
   "metadata": {},
   "outputs": [],
   "source": [
    "import random\n",
    "\n",
    "my_list = ['B memory kappa', 'B naive kappa', 'B naive lambda', 'CD14 Mono', 'CD16 Mono', 'CD4 CTL', 'CD4 Naive', 'CD4 TCM_1', 'CD4 TCM_3', 'CD4 TEM_1', 'CD4 TEM_3', 'CD8 Naive', 'CD8 TEM_1', 'CD8 TEM_2', 'CD8 TEM_4', 'CD8 TEM_5', 'MAIT', 'NK_1', 'NK_2', 'NK_3', 'Platelet', 'cDC2_2']\n",
    "\n",
    "# Specify the number of elements you want to sample\n",
    "sample_size = 5\n",
    "\n",
    "# Use random.sample to get a random subset of the list\n",
    "sampled_subset = random.sample(my_list, sample_size)\n",
    "\n",
    "print(sampled_subset)"
   ]
  },
  {
   "cell_type": "code",
   "execution_count": null,
   "id": "211183be",
   "metadata": {},
   "outputs": [],
   "source": [
    "_check_bin_jump(sampled_subset)"
   ]
  },
  {
   "cell_type": "code",
   "execution_count": null,
   "id": "5b29e324",
   "metadata": {},
   "outputs": [],
   "source": []
  }
 ],
 "metadata": {
  "kernelspec": {
   "display_name": "Python 3 (ipykernel)",
   "language": "python",
   "name": "python3"
  },
  "language_info": {
   "codemirror_mode": {
    "name": "ipython",
    "version": 3
   },
   "file_extension": ".py",
   "mimetype": "text/x-python",
   "name": "python",
   "nbconvert_exporter": "python",
   "pygments_lexer": "ipython3",
   "version": "3.8.12"
  }
 },
 "nbformat": 4,
 "nbformat_minor": 5
}
