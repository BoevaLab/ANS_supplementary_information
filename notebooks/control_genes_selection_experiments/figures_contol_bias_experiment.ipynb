{
 "cells": [
  {
   "cell_type": "code",
   "execution_count": 12,
   "id": "089a7bb6",
   "metadata": {},
   "outputs": [],
   "source": [
    "import os\n",
    "import sys\n",
    "import matplotlib.pyplot as plt\n",
    "import seaborn as sns\n",
    "from pathlib import Path\n",
    "import pandas as pd\n",
    "from tqdm import tqdm\n",
    "\n",
    "sys.path.append('../..')\n",
    "from data.constants import BASE_PATH_EXPERIMENTS, BASE_PATH_DATA"
   ]
  },
  {
   "cell_type": "code",
   "execution_count": 13,
   "id": "6305cab8",
   "metadata": {},
   "outputs": [],
   "source": [
    "plt.rcParams.update({'pdf.fonttype':42, 'font.family':'sans-serif', 'font.sans-serif':'Arial', 'font.size':14})"
   ]
  },
  {
   "cell_type": "code",
   "execution_count": 14,
   "id": "9611104d",
   "metadata": {},
   "outputs": [],
   "source": [
    "root_exp_dir = Path(os.path.join(BASE_PATH_EXPERIMENTS, 'control_genes_selection/mean_var_per_gene_scores'))\n",
    "storing_path = root_exp_dir / 'plots'\n",
    "\n",
    "# Create the directory if it doesn't exist\n",
    "storing_path.mkdir(parents=True, exist_ok=True)"
   ]
  },
  {
   "cell_type": "markdown",
   "id": "8d5513e9",
   "metadata": {},
   "source": [
    "The following simply checks if the produces data in the `control_bias` is of correct shape"
   ]
  },
  {
   "cell_type": "code",
   "execution_count": 15,
   "id": "f98def56",
   "metadata": {},
   "outputs": [],
   "source": [
    "# # Define a function to process files\n",
    "# def _check_file(file_path):\n",
    "#     df = pd.read_csv(file_path)\n",
    "#     return df.shape\n",
    "    \n",
    "    \n",
    "# def _process_folder(folder_path):\n",
    "#     df_shape = []\n",
    "#     i=0\n",
    "#     for file in folder_path.glob('*.csv'):\n",
    "#         df_shape.append(_check_file(file))\n",
    "#         i+=1\n",
    "        \n",
    "#     return all(item == df_shape[0] for item in df_shape) and i==5"
   ]
  },
  {
   "cell_type": "code",
   "execution_count": 16,
   "id": "7c75f93d",
   "metadata": {},
   "outputs": [],
   "source": [
    "# for curr_path in root_exp_dir.rglob('*'):\n",
    "#     if curr_path.is_dir():\n",
    "#         res = _process_folder(curr_path)\n",
    "#         if res:\n",
    "#             print(f'All files are ok for subtype {curr_path.name}')\n",
    "#         else:\n",
    "#             print(f'Some files are not ok for subtype {curr_path.name}')"
   ]
  },
  {
   "cell_type": "markdown",
   "id": "1a2a37a1",
   "metadata": {},
   "source": [
    "Create the visualization for one folder and then upscale to all folders. "
   ]
  },
  {
   "cell_type": "code",
   "execution_count": 17,
   "id": "6e539495",
   "metadata": {},
   "outputs": [],
   "source": [
    "def _create_and_store_plot(folder_path, storing_path, show=True):\n",
    "    # define name mapping \n",
    "    sc_method_name_mapping= {\n",
    "        'adjusted_neighborhood_scoring':'ANS',\n",
    "        'seurat_scoring':'Seurat',\n",
    "        'seurat_ag_scoring':'Seurat_AG',\n",
    "        'seurat_lvg_scoring':'Seurat_LVG',\n",
    "        'scanpy_scoring':'Scanpy',\n",
    "    }\n",
    "    hue_order = list(sc_method_name_mapping.values())\n",
    "    \n",
    "    # read all .csv files containing cell scores \n",
    "    dfs = []\n",
    "    for file in folder_path.glob('*.csv'):\n",
    "        df = pd.read_csv(file)\n",
    "        dfs.append(df.copy())\n",
    "    all_scores = pd.concat(dfs, axis=0)\n",
    "    all_scores.columns = ['sample_id']+list(all_scores.columns)[1:]\n",
    "    \n",
    "    # melt all scores to make it ready for seaborn lineplot\n",
    "    melted_all_scores = pd.melt(all_scores, id_vars=['sample_id', 'scoring_method'],\n",
    "                                var_name='gene', value_name='score')\n",
    "    \n",
    "    melted_all_scores.scoring_method = melted_all_scores.scoring_method.map(sc_method_name_mapping)\n",
    "    \n",
    "    # plot score lines \n",
    "    cm = 1/2.54  # centimeters in inches\n",
    "    plt.figure(figsize=(12*cm, 6*cm))\n",
    "    ax = sns.lineplot(data=melted_all_scores, x=\"gene\", y=\"score\", hue='scoring_method', hue_order=hue_order)\n",
    "    \n",
    "    ax.set_title(f'Control selection bias for subtype {folder_path.name}', fontsize=10)\n",
    "    plt.xlabel('Genes in last two expression bins.', fontsize=10)\n",
    "    plt.ylabel('Score', fontsize=10)\n",
    "    \n",
    "    plt.xticks(rotation=90, fontsize=8)\n",
    "    plt.yticks(fontsize=8)\n",
    "    \n",
    "    all_xticks = ax.get_xticks()\n",
    "    subset_x_ticks = all_xticks[::50]\n",
    "    ax.set_xticks(subset_x_ticks)\n",
    "    \n",
    "    # store figure\n",
    "#     plt.savefig(storing_path/f\"bias_{folder_path.name.replace(\" \", \"_\")}.pdf\", format=pdf)\n",
    "    print(storing_path/f\"bias_{folder_path.name.replace(' ', '_')}.pdf\")\n",
    "\n",
    "    # show or close figure\n",
    "    if show:\n",
    "        plt.show()\n",
    "    else:\n",
    "        plt.close()\n"
   ]
  },
  {
   "cell_type": "code",
   "execution_count": 18,
   "id": "45864af0",
   "metadata": {},
   "outputs": [],
   "source": [
    "plt.rcParams.update({'pdf.fonttype':42, 'font.family':'sans-serif', 'font.sans-serif':'Arial', 'font.size':10})"
   ]
  },
  {
   "cell_type": "code",
   "execution_count": 21,
   "id": "31ae6953",
   "metadata": {},
   "outputs": [
    {
     "data": {
      "text/plain": [
       "PosixPath('/Users/lciernik/Documents/TUB/projects/ans_scoring/reproduce_project/experiments/control_genes_selection/mean_var_per_gene_scores')"
      ]
     },
     "execution_count": 21,
     "metadata": {},
     "output_type": "execute_result"
    }
   ],
   "source": [
    "root_exp_dir"
   ]
  },
  {
   "cell_type": "code",
   "execution_count": 19,
   "id": "ca49f20d",
   "metadata": {},
   "outputs": [],
   "source": [
    "test_folder = root_exp_dir / 'NK_1'"
   ]
  },
  {
   "cell_type": "code",
   "execution_count": 20,
   "id": "32567b64",
   "metadata": {},
   "outputs": [
    {
     "ename": "ValueError",
     "evalue": "No objects to concatenate",
     "output_type": "error",
     "traceback": [
      "\u001b[0;31m---------------------------------------------------------------------------\u001b[0m",
      "\u001b[0;31mValueError\u001b[0m                                Traceback (most recent call last)",
      "Cell \u001b[0;32mIn[20], line 1\u001b[0m\n\u001b[0;32m----> 1\u001b[0m \u001b[43m_create_and_store_plot\u001b[49m\u001b[43m(\u001b[49m\u001b[43mtest_folder\u001b[49m\u001b[43m,\u001b[49m\u001b[43m \u001b[49m\u001b[43mstoring_path\u001b[49m\u001b[43m)\u001b[49m\n",
      "Cell \u001b[0;32mIn[17], line 17\u001b[0m, in \u001b[0;36m_create_and_store_plot\u001b[0;34m(folder_path, storing_path, show)\u001b[0m\n\u001b[1;32m     15\u001b[0m     df \u001b[38;5;241m=\u001b[39m pd\u001b[38;5;241m.\u001b[39mread_csv(file)\n\u001b[1;32m     16\u001b[0m     dfs\u001b[38;5;241m.\u001b[39mappend(df\u001b[38;5;241m.\u001b[39mcopy())\n\u001b[0;32m---> 17\u001b[0m all_scores \u001b[38;5;241m=\u001b[39m \u001b[43mpd\u001b[49m\u001b[38;5;241;43m.\u001b[39;49m\u001b[43mconcat\u001b[49m\u001b[43m(\u001b[49m\u001b[43mdfs\u001b[49m\u001b[43m,\u001b[49m\u001b[43m \u001b[49m\u001b[43maxis\u001b[49m\u001b[38;5;241;43m=\u001b[39;49m\u001b[38;5;241;43m0\u001b[39;49m\u001b[43m)\u001b[49m\n\u001b[1;32m     18\u001b[0m all_scores\u001b[38;5;241m.\u001b[39mcolumns \u001b[38;5;241m=\u001b[39m [\u001b[38;5;124m'\u001b[39m\u001b[38;5;124msample_id\u001b[39m\u001b[38;5;124m'\u001b[39m]\u001b[38;5;241m+\u001b[39m\u001b[38;5;28mlist\u001b[39m(all_scores\u001b[38;5;241m.\u001b[39mcolumns)[\u001b[38;5;241m1\u001b[39m:]\n\u001b[1;32m     20\u001b[0m \u001b[38;5;66;03m# melt all scores to make it ready for seaborn lineplot\u001b[39;00m\n",
      "File \u001b[0;32m~/miniforge3/envs/ans_scoring/lib/python3.9/site-packages/pandas/util/_decorators.py:331\u001b[0m, in \u001b[0;36mdeprecate_nonkeyword_arguments.<locals>.decorate.<locals>.wrapper\u001b[0;34m(*args, **kwargs)\u001b[0m\n\u001b[1;32m    325\u001b[0m \u001b[38;5;28;01mif\u001b[39;00m \u001b[38;5;28mlen\u001b[39m(args) \u001b[38;5;241m>\u001b[39m num_allow_args:\n\u001b[1;32m    326\u001b[0m     warnings\u001b[38;5;241m.\u001b[39mwarn(\n\u001b[1;32m    327\u001b[0m         msg\u001b[38;5;241m.\u001b[39mformat(arguments\u001b[38;5;241m=\u001b[39m_format_argument_list(allow_args)),\n\u001b[1;32m    328\u001b[0m         \u001b[38;5;167;01mFutureWarning\u001b[39;00m,\n\u001b[1;32m    329\u001b[0m         stacklevel\u001b[38;5;241m=\u001b[39mfind_stack_level(),\n\u001b[1;32m    330\u001b[0m     )\n\u001b[0;32m--> 331\u001b[0m \u001b[38;5;28;01mreturn\u001b[39;00m \u001b[43mfunc\u001b[49m\u001b[43m(\u001b[49m\u001b[38;5;241;43m*\u001b[39;49m\u001b[43margs\u001b[49m\u001b[43m,\u001b[49m\u001b[43m \u001b[49m\u001b[38;5;241;43m*\u001b[39;49m\u001b[38;5;241;43m*\u001b[39;49m\u001b[43mkwargs\u001b[49m\u001b[43m)\u001b[49m\n",
      "File \u001b[0;32m~/miniforge3/envs/ans_scoring/lib/python3.9/site-packages/pandas/core/reshape/concat.py:368\u001b[0m, in \u001b[0;36mconcat\u001b[0;34m(objs, axis, join, ignore_index, keys, levels, names, verify_integrity, sort, copy)\u001b[0m\n\u001b[1;32m    146\u001b[0m \u001b[38;5;129m@deprecate_nonkeyword_arguments\u001b[39m(version\u001b[38;5;241m=\u001b[39m\u001b[38;5;28;01mNone\u001b[39;00m, allowed_args\u001b[38;5;241m=\u001b[39m[\u001b[38;5;124m\"\u001b[39m\u001b[38;5;124mobjs\u001b[39m\u001b[38;5;124m\"\u001b[39m])\n\u001b[1;32m    147\u001b[0m \u001b[38;5;28;01mdef\u001b[39;00m \u001b[38;5;21mconcat\u001b[39m(\n\u001b[1;32m    148\u001b[0m     objs: Iterable[NDFrame] \u001b[38;5;241m|\u001b[39m Mapping[HashableT, NDFrame],\n\u001b[0;32m   (...)\u001b[0m\n\u001b[1;32m    157\u001b[0m     copy: \u001b[38;5;28mbool\u001b[39m \u001b[38;5;241m=\u001b[39m \u001b[38;5;28;01mTrue\u001b[39;00m,\n\u001b[1;32m    158\u001b[0m ) \u001b[38;5;241m-\u001b[39m\u001b[38;5;241m>\u001b[39m DataFrame \u001b[38;5;241m|\u001b[39m Series:\n\u001b[1;32m    159\u001b[0m \u001b[38;5;250m    \u001b[39m\u001b[38;5;124;03m\"\"\"\u001b[39;00m\n\u001b[1;32m    160\u001b[0m \u001b[38;5;124;03m    Concatenate pandas objects along a particular axis.\u001b[39;00m\n\u001b[1;32m    161\u001b[0m \n\u001b[0;32m   (...)\u001b[0m\n\u001b[1;32m    366\u001b[0m \u001b[38;5;124;03m    1   3   4\u001b[39;00m\n\u001b[1;32m    367\u001b[0m \u001b[38;5;124;03m    \"\"\"\u001b[39;00m\n\u001b[0;32m--> 368\u001b[0m     op \u001b[38;5;241m=\u001b[39m \u001b[43m_Concatenator\u001b[49m\u001b[43m(\u001b[49m\n\u001b[1;32m    369\u001b[0m \u001b[43m        \u001b[49m\u001b[43mobjs\u001b[49m\u001b[43m,\u001b[49m\n\u001b[1;32m    370\u001b[0m \u001b[43m        \u001b[49m\u001b[43maxis\u001b[49m\u001b[38;5;241;43m=\u001b[39;49m\u001b[43maxis\u001b[49m\u001b[43m,\u001b[49m\n\u001b[1;32m    371\u001b[0m \u001b[43m        \u001b[49m\u001b[43mignore_index\u001b[49m\u001b[38;5;241;43m=\u001b[39;49m\u001b[43mignore_index\u001b[49m\u001b[43m,\u001b[49m\n\u001b[1;32m    372\u001b[0m \u001b[43m        \u001b[49m\u001b[43mjoin\u001b[49m\u001b[38;5;241;43m=\u001b[39;49m\u001b[43mjoin\u001b[49m\u001b[43m,\u001b[49m\n\u001b[1;32m    373\u001b[0m \u001b[43m        \u001b[49m\u001b[43mkeys\u001b[49m\u001b[38;5;241;43m=\u001b[39;49m\u001b[43mkeys\u001b[49m\u001b[43m,\u001b[49m\n\u001b[1;32m    374\u001b[0m \u001b[43m        \u001b[49m\u001b[43mlevels\u001b[49m\u001b[38;5;241;43m=\u001b[39;49m\u001b[43mlevels\u001b[49m\u001b[43m,\u001b[49m\n\u001b[1;32m    375\u001b[0m \u001b[43m        \u001b[49m\u001b[43mnames\u001b[49m\u001b[38;5;241;43m=\u001b[39;49m\u001b[43mnames\u001b[49m\u001b[43m,\u001b[49m\n\u001b[1;32m    376\u001b[0m \u001b[43m        \u001b[49m\u001b[43mverify_integrity\u001b[49m\u001b[38;5;241;43m=\u001b[39;49m\u001b[43mverify_integrity\u001b[49m\u001b[43m,\u001b[49m\n\u001b[1;32m    377\u001b[0m \u001b[43m        \u001b[49m\u001b[43mcopy\u001b[49m\u001b[38;5;241;43m=\u001b[39;49m\u001b[43mcopy\u001b[49m\u001b[43m,\u001b[49m\n\u001b[1;32m    378\u001b[0m \u001b[43m        \u001b[49m\u001b[43msort\u001b[49m\u001b[38;5;241;43m=\u001b[39;49m\u001b[43msort\u001b[49m\u001b[43m,\u001b[49m\n\u001b[1;32m    379\u001b[0m \u001b[43m    \u001b[49m\u001b[43m)\u001b[49m\n\u001b[1;32m    381\u001b[0m     \u001b[38;5;28;01mreturn\u001b[39;00m op\u001b[38;5;241m.\u001b[39mget_result()\n",
      "File \u001b[0;32m~/miniforge3/envs/ans_scoring/lib/python3.9/site-packages/pandas/core/reshape/concat.py:425\u001b[0m, in \u001b[0;36m_Concatenator.__init__\u001b[0;34m(self, objs, axis, join, keys, levels, names, ignore_index, verify_integrity, copy, sort)\u001b[0m\n\u001b[1;32m    422\u001b[0m     objs \u001b[38;5;241m=\u001b[39m \u001b[38;5;28mlist\u001b[39m(objs)\n\u001b[1;32m    424\u001b[0m \u001b[38;5;28;01mif\u001b[39;00m \u001b[38;5;28mlen\u001b[39m(objs) \u001b[38;5;241m==\u001b[39m \u001b[38;5;241m0\u001b[39m:\n\u001b[0;32m--> 425\u001b[0m     \u001b[38;5;28;01mraise\u001b[39;00m \u001b[38;5;167;01mValueError\u001b[39;00m(\u001b[38;5;124m\"\u001b[39m\u001b[38;5;124mNo objects to concatenate\u001b[39m\u001b[38;5;124m\"\u001b[39m)\n\u001b[1;32m    427\u001b[0m \u001b[38;5;28;01mif\u001b[39;00m keys \u001b[38;5;129;01mis\u001b[39;00m \u001b[38;5;28;01mNone\u001b[39;00m:\n\u001b[1;32m    428\u001b[0m     objs \u001b[38;5;241m=\u001b[39m \u001b[38;5;28mlist\u001b[39m(com\u001b[38;5;241m.\u001b[39mnot_none(\u001b[38;5;241m*\u001b[39mobjs))\n",
      "\u001b[0;31mValueError\u001b[0m: No objects to concatenate"
     ]
    }
   ],
   "source": [
    "_create_and_store_plot(test_folder, storing_path)"
   ]
  },
  {
   "cell_type": "code",
   "execution_count": 10,
   "id": "8dab23d6",
   "metadata": {},
   "outputs": [],
   "source": [
    "plt.rcParams.update({'pdf.fonttype':42, 'font.family':'sans-serif', 'font.sans-serif':'Arial', 'font.size':10})"
   ]
  },
  {
   "cell_type": "code",
   "execution_count": 11,
   "id": "07c6c97b",
   "metadata": {},
   "outputs": [
    {
     "name": "stderr",
     "output_type": "stream",
     "text": [
      "0it [00:00, ?it/s]\n"
     ]
    },
    {
     "ename": "ValueError",
     "evalue": "No objects to concatenate",
     "output_type": "error",
     "traceback": [
      "\u001b[0;31m---------------------------------------------------------------------------\u001b[0m",
      "\u001b[0;31mValueError\u001b[0m                                Traceback (most recent call last)",
      "Cell \u001b[0;32mIn[11], line 2\u001b[0m\n\u001b[1;32m      1\u001b[0m \u001b[38;5;28;01mfor\u001b[39;00m folder_path  \u001b[38;5;129;01min\u001b[39;00m tqdm(root_exp_dir\u001b[38;5;241m.\u001b[39mrglob(\u001b[38;5;124m'\u001b[39m\u001b[38;5;124m*\u001b[39m\u001b[38;5;124m'\u001b[39m)):\n\u001b[0;32m----> 2\u001b[0m     \u001b[43m_create_and_store_plot\u001b[49m\u001b[43m(\u001b[49m\u001b[43mfolder_path\u001b[49m\u001b[43m,\u001b[49m\u001b[43m \u001b[49m\u001b[43mstoring_path\u001b[49m\u001b[43m,\u001b[49m\u001b[43m \u001b[49m\u001b[43mshow\u001b[49m\u001b[38;5;241;43m=\u001b[39;49m\u001b[38;5;28;43;01mFalse\u001b[39;49;00m\u001b[43m)\u001b[49m\n",
      "Cell \u001b[0;32mIn[6], line 17\u001b[0m, in \u001b[0;36m_create_and_store_plot\u001b[0;34m(folder_path, storing_path, show)\u001b[0m\n\u001b[1;32m     15\u001b[0m     df \u001b[38;5;241m=\u001b[39m pd\u001b[38;5;241m.\u001b[39mread_csv(file)\n\u001b[1;32m     16\u001b[0m     dfs\u001b[38;5;241m.\u001b[39mappend(df\u001b[38;5;241m.\u001b[39mcopy())\n\u001b[0;32m---> 17\u001b[0m all_scores \u001b[38;5;241m=\u001b[39m \u001b[43mpd\u001b[49m\u001b[38;5;241;43m.\u001b[39;49m\u001b[43mconcat\u001b[49m\u001b[43m(\u001b[49m\u001b[43mdfs\u001b[49m\u001b[43m,\u001b[49m\u001b[43m \u001b[49m\u001b[43maxis\u001b[49m\u001b[38;5;241;43m=\u001b[39;49m\u001b[38;5;241;43m0\u001b[39;49m\u001b[43m)\u001b[49m\n\u001b[1;32m     18\u001b[0m all_scores\u001b[38;5;241m.\u001b[39mcolumns \u001b[38;5;241m=\u001b[39m [\u001b[38;5;124m'\u001b[39m\u001b[38;5;124msample_id\u001b[39m\u001b[38;5;124m'\u001b[39m]\u001b[38;5;241m+\u001b[39m\u001b[38;5;28mlist\u001b[39m(all_scores\u001b[38;5;241m.\u001b[39mcolumns)[\u001b[38;5;241m1\u001b[39m:]\n\u001b[1;32m     20\u001b[0m \u001b[38;5;66;03m# melt all scores to make it ready for seaborn lineplot\u001b[39;00m\n",
      "File \u001b[0;32m~/miniforge3/envs/ans_scoring/lib/python3.9/site-packages/pandas/util/_decorators.py:331\u001b[0m, in \u001b[0;36mdeprecate_nonkeyword_arguments.<locals>.decorate.<locals>.wrapper\u001b[0;34m(*args, **kwargs)\u001b[0m\n\u001b[1;32m    325\u001b[0m \u001b[38;5;28;01mif\u001b[39;00m \u001b[38;5;28mlen\u001b[39m(args) \u001b[38;5;241m>\u001b[39m num_allow_args:\n\u001b[1;32m    326\u001b[0m     warnings\u001b[38;5;241m.\u001b[39mwarn(\n\u001b[1;32m    327\u001b[0m         msg\u001b[38;5;241m.\u001b[39mformat(arguments\u001b[38;5;241m=\u001b[39m_format_argument_list(allow_args)),\n\u001b[1;32m    328\u001b[0m         \u001b[38;5;167;01mFutureWarning\u001b[39;00m,\n\u001b[1;32m    329\u001b[0m         stacklevel\u001b[38;5;241m=\u001b[39mfind_stack_level(),\n\u001b[1;32m    330\u001b[0m     )\n\u001b[0;32m--> 331\u001b[0m \u001b[38;5;28;01mreturn\u001b[39;00m \u001b[43mfunc\u001b[49m\u001b[43m(\u001b[49m\u001b[38;5;241;43m*\u001b[39;49m\u001b[43margs\u001b[49m\u001b[43m,\u001b[49m\u001b[43m \u001b[49m\u001b[38;5;241;43m*\u001b[39;49m\u001b[38;5;241;43m*\u001b[39;49m\u001b[43mkwargs\u001b[49m\u001b[43m)\u001b[49m\n",
      "File \u001b[0;32m~/miniforge3/envs/ans_scoring/lib/python3.9/site-packages/pandas/core/reshape/concat.py:368\u001b[0m, in \u001b[0;36mconcat\u001b[0;34m(objs, axis, join, ignore_index, keys, levels, names, verify_integrity, sort, copy)\u001b[0m\n\u001b[1;32m    146\u001b[0m \u001b[38;5;129m@deprecate_nonkeyword_arguments\u001b[39m(version\u001b[38;5;241m=\u001b[39m\u001b[38;5;28;01mNone\u001b[39;00m, allowed_args\u001b[38;5;241m=\u001b[39m[\u001b[38;5;124m\"\u001b[39m\u001b[38;5;124mobjs\u001b[39m\u001b[38;5;124m\"\u001b[39m])\n\u001b[1;32m    147\u001b[0m \u001b[38;5;28;01mdef\u001b[39;00m \u001b[38;5;21mconcat\u001b[39m(\n\u001b[1;32m    148\u001b[0m     objs: Iterable[NDFrame] \u001b[38;5;241m|\u001b[39m Mapping[HashableT, NDFrame],\n\u001b[0;32m   (...)\u001b[0m\n\u001b[1;32m    157\u001b[0m     copy: \u001b[38;5;28mbool\u001b[39m \u001b[38;5;241m=\u001b[39m \u001b[38;5;28;01mTrue\u001b[39;00m,\n\u001b[1;32m    158\u001b[0m ) \u001b[38;5;241m-\u001b[39m\u001b[38;5;241m>\u001b[39m DataFrame \u001b[38;5;241m|\u001b[39m Series:\n\u001b[1;32m    159\u001b[0m \u001b[38;5;250m    \u001b[39m\u001b[38;5;124;03m\"\"\"\u001b[39;00m\n\u001b[1;32m    160\u001b[0m \u001b[38;5;124;03m    Concatenate pandas objects along a particular axis.\u001b[39;00m\n\u001b[1;32m    161\u001b[0m \n\u001b[0;32m   (...)\u001b[0m\n\u001b[1;32m    366\u001b[0m \u001b[38;5;124;03m    1   3   4\u001b[39;00m\n\u001b[1;32m    367\u001b[0m \u001b[38;5;124;03m    \"\"\"\u001b[39;00m\n\u001b[0;32m--> 368\u001b[0m     op \u001b[38;5;241m=\u001b[39m \u001b[43m_Concatenator\u001b[49m\u001b[43m(\u001b[49m\n\u001b[1;32m    369\u001b[0m \u001b[43m        \u001b[49m\u001b[43mobjs\u001b[49m\u001b[43m,\u001b[49m\n\u001b[1;32m    370\u001b[0m \u001b[43m        \u001b[49m\u001b[43maxis\u001b[49m\u001b[38;5;241;43m=\u001b[39;49m\u001b[43maxis\u001b[49m\u001b[43m,\u001b[49m\n\u001b[1;32m    371\u001b[0m \u001b[43m        \u001b[49m\u001b[43mignore_index\u001b[49m\u001b[38;5;241;43m=\u001b[39;49m\u001b[43mignore_index\u001b[49m\u001b[43m,\u001b[49m\n\u001b[1;32m    372\u001b[0m \u001b[43m        \u001b[49m\u001b[43mjoin\u001b[49m\u001b[38;5;241;43m=\u001b[39;49m\u001b[43mjoin\u001b[49m\u001b[43m,\u001b[49m\n\u001b[1;32m    373\u001b[0m \u001b[43m        \u001b[49m\u001b[43mkeys\u001b[49m\u001b[38;5;241;43m=\u001b[39;49m\u001b[43mkeys\u001b[49m\u001b[43m,\u001b[49m\n\u001b[1;32m    374\u001b[0m \u001b[43m        \u001b[49m\u001b[43mlevels\u001b[49m\u001b[38;5;241;43m=\u001b[39;49m\u001b[43mlevels\u001b[49m\u001b[43m,\u001b[49m\n\u001b[1;32m    375\u001b[0m \u001b[43m        \u001b[49m\u001b[43mnames\u001b[49m\u001b[38;5;241;43m=\u001b[39;49m\u001b[43mnames\u001b[49m\u001b[43m,\u001b[49m\n\u001b[1;32m    376\u001b[0m \u001b[43m        \u001b[49m\u001b[43mverify_integrity\u001b[49m\u001b[38;5;241;43m=\u001b[39;49m\u001b[43mverify_integrity\u001b[49m\u001b[43m,\u001b[49m\n\u001b[1;32m    377\u001b[0m \u001b[43m        \u001b[49m\u001b[43mcopy\u001b[49m\u001b[38;5;241;43m=\u001b[39;49m\u001b[43mcopy\u001b[49m\u001b[43m,\u001b[49m\n\u001b[1;32m    378\u001b[0m \u001b[43m        \u001b[49m\u001b[43msort\u001b[49m\u001b[38;5;241;43m=\u001b[39;49m\u001b[43msort\u001b[49m\u001b[43m,\u001b[49m\n\u001b[1;32m    379\u001b[0m \u001b[43m    \u001b[49m\u001b[43m)\u001b[49m\n\u001b[1;32m    381\u001b[0m     \u001b[38;5;28;01mreturn\u001b[39;00m op\u001b[38;5;241m.\u001b[39mget_result()\n",
      "File \u001b[0;32m~/miniforge3/envs/ans_scoring/lib/python3.9/site-packages/pandas/core/reshape/concat.py:425\u001b[0m, in \u001b[0;36m_Concatenator.__init__\u001b[0;34m(self, objs, axis, join, keys, levels, names, ignore_index, verify_integrity, copy, sort)\u001b[0m\n\u001b[1;32m    422\u001b[0m     objs \u001b[38;5;241m=\u001b[39m \u001b[38;5;28mlist\u001b[39m(objs)\n\u001b[1;32m    424\u001b[0m \u001b[38;5;28;01mif\u001b[39;00m \u001b[38;5;28mlen\u001b[39m(objs) \u001b[38;5;241m==\u001b[39m \u001b[38;5;241m0\u001b[39m:\n\u001b[0;32m--> 425\u001b[0m     \u001b[38;5;28;01mraise\u001b[39;00m \u001b[38;5;167;01mValueError\u001b[39;00m(\u001b[38;5;124m\"\u001b[39m\u001b[38;5;124mNo objects to concatenate\u001b[39m\u001b[38;5;124m\"\u001b[39m)\n\u001b[1;32m    427\u001b[0m \u001b[38;5;28;01mif\u001b[39;00m keys \u001b[38;5;129;01mis\u001b[39;00m \u001b[38;5;28;01mNone\u001b[39;00m:\n\u001b[1;32m    428\u001b[0m     objs \u001b[38;5;241m=\u001b[39m \u001b[38;5;28mlist\u001b[39m(com\u001b[38;5;241m.\u001b[39mnot_none(\u001b[38;5;241m*\u001b[39mobjs))\n",
      "\u001b[0;31mValueError\u001b[0m: No objects to concatenate"
     ]
    }
   ],
   "source": [
    "for folder_path  in tqdm(root_exp_dir.rglob('*')):\n",
    "    _create_and_store_plot(folder_path, storing_path, show=False)"
   ]
  },
  {
   "cell_type": "code",
   "execution_count": null,
   "id": "6db5b071",
   "metadata": {},
   "outputs": [],
   "source": []
  },
  {
   "cell_type": "code",
   "execution_count": null,
   "id": "8df7d923",
   "metadata": {},
   "outputs": [],
   "source": []
  },
  {
   "cell_type": "code",
   "execution_count": null,
   "id": "87233be5",
   "metadata": {},
   "outputs": [],
   "source": []
  },
  {
   "cell_type": "code",
   "execution_count": null,
   "id": "cad40d5f",
   "metadata": {},
   "outputs": [],
   "source": []
  },
  {
   "cell_type": "code",
   "execution_count": null,
   "id": "26d2b292",
   "metadata": {},
   "outputs": [],
   "source": []
  },
  {
   "cell_type": "code",
   "execution_count": null,
   "id": "bf12aff1",
   "metadata": {},
   "outputs": [],
   "source": []
  },
  {
   "cell_type": "code",
   "execution_count": null,
   "id": "03690894",
   "metadata": {},
   "outputs": [],
   "source": [
    "import argparse\n",
    "import json\n",
    "import os\n",
    "import sys\n",
    "from datetime import datetime\n",
    "\n",
    "import pandas as pd\n",
    "import scanpy as sc\n",
    "from signaturescoring import score_signature\n",
    "from signaturescoring.utils.utils import (\n",
    "    get_bins_wrt_avg_gene_expression, get_mean_and_variance_gene_expression)\n",
    "\n",
    "sys.path.append(\"../..\")\n",
    "from data.constants import DATASETS\n",
    "from data.load_data import load_datasets\n",
    "from data.preprocess_pbmc_helper import preprocess_dataset\n",
    "from experiments.experiment_utils import (AttributeDict,\n",
    "                                          get_scoring_method_params)\n",
    "\n",
    "\n",
    "def load_pbmc_data():\n",
    "    fn_data = os.path.join(BASE_PATH_DATA, 'raw_data/pbmc_citeseq.h5ad')\n",
    "    adata = sc.read_h5ad(fn_data)\n",
    "\n",
    "    adata = adata.raw.to_adata()\n",
    "    adata.var_names = adata.var['_index']\n",
    "    adata.var_names.name = None\n",
    "    adata.var.columns = ['gene_names']\n",
    "\n",
    "    if 'mt' not in adata.var:\n",
    "        # get mitochondrial genes\n",
    "        adata.var[\"mt\"] = adata.var_names.str.startswith(\"MT-\")\n",
    "    if 'ribo' not in adata.var:         \n",
    "        # get ribosomal genes\n",
    "        adata.var[\"ribo\"] = adata.var_names.str.startswith((\"RPS\", \"RPL\"))\n",
    "    if 'hb' not in adata.var:\n",
    "        # get hemoglobin genes.\n",
    "        adata.var[\"hb\"] = adata.var_names.str.contains((\"^HB[^(P)]\"))\n",
    "\n",
    "    return adata\n",
    "\n",
    "\n",
    "n_bins = 25"
   ]
  },
  {
   "cell_type": "code",
   "execution_count": null,
   "id": "73262123",
   "metadata": {},
   "outputs": [],
   "source": [
    "subtype = 'NK_1'\n",
    "print('Load entire PBMC dataset.')\n",
    "adata = load_pbmc_data()\n",
    "adata = adata[adata.obs['celltype.l3']==subtype,:].copy()\n",
    "\n",
    "# preprocess dataset\n",
    "print(f'Preprocessing data with cell-type {subtype}.')\n",
    "adata = preprocess_dataset(adata,\n",
    "                           params_cell_filtering=dict(mad_tot_cnt=5, \n",
    "                                                      mad_ngenes_cnt=5, \n",
    "                                                      nr_top_genes=20,\n",
    "                                                      mad_pct_cnt_top_genes=5,\n",
    "                                                      mad_pct_mt=5,\n",
    "                                                      min_pct_mt=9),\n",
    "                            )\n",
    "\n",
    "df_mean_var = get_mean_and_variance_gene_expression(adata)\n",
    "df_mean_var = df_mean_var.sort_values(by=\"mean\", ascending=True)\n",
    "gene_bins = get_bins_wrt_avg_gene_expression(df_mean_var[\"mean\"], n_bins)\n",
    "genes_2nd_last = gene_bins[gene_bins == (n_bins - 2)].index.tolist()\n",
    "genes_last = gene_bins[gene_bins == (n_bins - 1)].index.tolist()\n",
    "genes_of_lat_2_bins = gene_bins[(gene_bins == (n_bins - 1)) | (gene_bins == (n_bins - 2))].index.tolist()"
   ]
  },
  {
   "cell_type": "code",
   "execution_count": null,
   "id": "12934de9",
   "metadata": {},
   "outputs": [],
   "source": [
    "all((genes_of_lat_2_bins[0:len(genes_of_lat_2_bins)//2] == genes_2nd_last, genes_of_lat_2_bins[len(genes_of_lat_2_bins)//2:] == genes_last))"
   ]
  },
  {
   "cell_type": "code",
   "execution_count": null,
   "id": "b78a9649",
   "metadata": {},
   "outputs": [],
   "source": [
    "print('Load entire PBMC dataset.')\n",
    "entire_adata = load_pbmc_data()"
   ]
  },
  {
   "cell_type": "code",
   "execution_count": null,
   "id": "42ef844e",
   "metadata": {},
   "outputs": [],
   "source": [
    "def _check_bin_jump(list_subtypes):\n",
    "    for subtype in list_subtypes:\n",
    "        adata = entire_adata[entire_adata.obs['celltype.l3']==subtype,:].copy()\n",
    "        adata = preprocess_dataset(adata,\n",
    "                           params_cell_filtering=dict(mad_tot_cnt=5, \n",
    "                                                      mad_ngenes_cnt=5, \n",
    "                                                      nr_top_genes=20,\n",
    "                                                      mad_pct_cnt_top_genes=5,\n",
    "                                                      mad_pct_mt=5,\n",
    "                                                      min_pct_mt=9),\n",
    "                            )\n",
    "\n",
    "        df_mean_var = get_mean_and_variance_gene_expression(adata)\n",
    "        df_mean_var = df_mean_var.sort_values(by=\"mean\", ascending=True)\n",
    "        gene_bins = get_bins_wrt_avg_gene_expression(df_mean_var[\"mean\"], n_bins)\n",
    "        genes_2nd_last = gene_bins[gene_bins == (n_bins - 2)].index.tolist()\n",
    "        genes_last = gene_bins[gene_bins == (n_bins - 1)].index.tolist()\n",
    "        genes_of_lat_2_bins = gene_bins[(gene_bins == (n_bins - 1)) | (gene_bins == (n_bins - 2))].index.tolist()\n",
    "        middle_separating_two_bins = all((genes_of_lat_2_bins[0:len(genes_of_lat_2_bins)//2] == genes_2nd_last, genes_of_lat_2_bins[len(genes_of_lat_2_bins)//2:] == genes_last))\n",
    "        if middle_separating_two_bins:\n",
    "            print(f'For subtype {subtype} the index of length//2 is separating the two bins')\n",
    "        else:\n",
    "            mid_p_1 = (len(genes_of_lat_2_bins)//2)+1\n",
    "            mid_m_1 = (len(genes_of_lat_2_bins)//2)-1\n",
    "            mid_p_1_separating_two_bins = all((genes_of_lat_2_bins[0:mid_p_1] == genes_2nd_last, genes_of_lat_2_bins[mid_p_1:] == genes_last))\n",
    "            mid_m_1_separating_two_bins = all((genes_of_lat_2_bins[0:mid_m_1] == genes_2nd_last, genes_of_lat_2_bins[mid_m_1:] == genes_last))            \n",
    "            \n",
    "            if mid_p_1:\n",
    "                print(f'For subtype {subtype} the index of length//2 +1 is separating the two bins')\n",
    "            elif mid_m_1:\n",
    "                print(f'For subtype {subtype} the index of length//2 -1 is separating the two bins')\n",
    "            else:\n",
    "                print(f'I AM LOST')\n",
    "                "
   ]
  },
  {
   "cell_type": "code",
   "execution_count": null,
   "id": "44911e40",
   "metadata": {},
   "outputs": [],
   "source": [
    "import random\n",
    "\n",
    "my_list = ['B memory kappa', 'B naive kappa', 'B naive lambda', 'CD14 Mono', 'CD16 Mono', 'CD4 CTL', 'CD4 Naive', 'CD4 TCM_1', 'CD4 TCM_3', 'CD4 TEM_1', 'CD4 TEM_3', 'CD8 Naive', 'CD8 TEM_1', 'CD8 TEM_2', 'CD8 TEM_4', 'CD8 TEM_5', 'MAIT', 'NK_1', 'NK_2', 'NK_3', 'Platelet', 'cDC2_2']\n",
    "\n",
    "# Specify the number of elements you want to sample\n",
    "sample_size = 5\n",
    "\n",
    "# Use random.sample to get a random subset of the list\n",
    "sampled_subset = random.sample(my_list, sample_size)\n",
    "\n",
    "print(sampled_subset)"
   ]
  },
  {
   "cell_type": "code",
   "execution_count": null,
   "id": "211183be",
   "metadata": {},
   "outputs": [],
   "source": [
    "_check_bin_jump(sampled_subset)"
   ]
  },
  {
   "cell_type": "code",
   "execution_count": null,
   "id": "5b29e324",
   "metadata": {},
   "outputs": [],
   "source": []
  }
 ],
 "metadata": {
  "kernelspec": {
   "display_name": "ans_scoring",
   "language": "python",
   "name": "python3"
  },
  "language_info": {
   "codemirror_mode": {
    "name": "ipython",
    "version": 3
   },
   "file_extension": ".py",
   "mimetype": "text/x-python",
   "name": "python",
   "nbconvert_exporter": "python",
   "pygments_lexer": "ipython3",
   "version": "3.9.18"
  }
 },
 "nbformat": 4,
 "nbformat_minor": 5
}
