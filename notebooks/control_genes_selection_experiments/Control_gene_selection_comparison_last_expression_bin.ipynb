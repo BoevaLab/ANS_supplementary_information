{
 "cells": [
  {
   "cell_type": "markdown",
   "id": "1d331b10",
   "metadata": {
    "pycharm": {
     "name": "#%% md\n"
    }
   },
   "source": [
    "## Experiment on influence of control genes selection in gene signature scoring in last experession bin of the CRC and ESCC dataset.\n",
    "In this jupyter notebook we explored the influence, i.e., the bias, that control gene selection can have on signature scoring. We explore the absolute distance between the average expression of each gene in the last expression bin of the CRC and ESCC dataset and the mean value of the control genes' expressions."
   ]
  },
  {
   "cell_type": "code",
   "execution_count": null,
   "id": "a1f759e2",
   "metadata": {
    "pycharm": {
     "name": "#%%\n"
    }
   },
   "outputs": [],
   "source": [
    "from IPython.display import display, HTML\n",
    "display(HTML(\"<style>.container { width:90% !important; }</style>\"))"
   ]
  },
  {
   "cell_type": "code",
   "execution_count": null,
   "id": "d646c968",
   "metadata": {
    "pycharm": {
     "name": "#%%\n"
    }
   },
   "outputs": [],
   "source": [
    "import sys\n",
    "import os\n",
    "import pandas as pd\n",
    "import numpy as np\n",
    "import scanpy as sc\n",
    "import matplotlib.pyplot as plt\n",
    "import seaborn as sns\n",
    "\n",
    "sys.path.append('../..')\n",
    "from data.load_data import load_datasets\n",
    "from data.constants import BASE_PATH_EXPERIMENTS\n",
    "\n",
    "\n",
    "from signaturescoring.utils.utils import get_mean_and_variance_gene_expression, get_bins_wrt_avg_gene_expression,get_least_variable_genes_per_bin_v1\n",
    "sc.settings.verbosity = 0"
   ]
  },
  {
   "cell_type": "code",
   "execution_count": null,
   "id": "96c1510e",
   "metadata": {},
   "outputs": [],
   "source": [
    "sns.set_style('ticks')"
   ]
  },
  {
   "cell_type": "code",
   "execution_count": null,
   "id": "696d8452",
   "metadata": {},
   "outputs": [],
   "source": [
    "plt.rcParams.update({'pdf.fonttype':42, 'font.family':'sans-serif', 'font.sans-serif':'Arial', 'font.size':14})"
   ]
  },
  {
   "cell_type": "code",
   "execution_count": null,
   "id": "39b12d96",
   "metadata": {},
   "outputs": [],
   "source": [
    "save = True\n",
    "show = True"
   ]
  },
  {
   "cell_type": "markdown",
   "id": "36c9d719",
   "metadata": {},
   "source": [
    "Uncomment the desired data path and dataset. "
   ]
  },
  {
   "cell_type": "code",
   "execution_count": null,
   "id": "f381a696",
   "metadata": {
    "pycharm": {
     "name": "#%%\n"
    }
   },
   "outputs": [],
   "source": [
    "## define the path to the preprocessed CRC dataset\n",
    "dataset = 'luad' # 'crc' 'escc' 'luad'\n",
    "adata = load_datasets(dataset)\n",
    "\n",
    "### define path to the folder where data an visualizations should be stored\n",
    "storing_path = os.path.join(BASE_PATH_EXPERIMENTS,'control_genes_selection')"
   ]
  },
  {
   "cell_type": "code",
   "execution_count": null,
   "id": "6c4e317e",
   "metadata": {
    "pycharm": {
     "name": "#%%\n"
    }
   },
   "outputs": [],
   "source": [
    "df_mean_var = get_mean_and_variance_gene_expression(\n",
    "    adata,\n",
    "    estim_var=True,\n",
    "    show_plots=True,\n",
    "    store_path=None,\n",
    ")"
   ]
  },
  {
   "cell_type": "code",
   "execution_count": null,
   "id": "7631f347",
   "metadata": {
    "pycharm": {
     "name": "#%%\n"
    }
   },
   "outputs": [],
   "source": [
    "ctrl_size = 100\n",
    "nr_bins=25"
   ]
  },
  {
   "cell_type": "code",
   "execution_count": null,
   "id": "1c5a2dff",
   "metadata": {
    "pycharm": {
     "name": "#%%\n"
    }
   },
   "outputs": [],
   "source": [
    "gene_bins = get_bins_wrt_avg_gene_expression(df_mean_var['mean'], nr_bins)"
   ]
  },
  {
   "cell_type": "code",
   "execution_count": null,
   "id": "710663b0",
   "metadata": {
    "pycharm": {
     "name": "#%%\n"
    }
   },
   "outputs": [],
   "source": [
    "gene_bins.value_counts().sort_index()"
   ]
  },
  {
   "cell_type": "code",
   "execution_count": null,
   "id": "6911a79c",
   "metadata": {},
   "outputs": [],
   "source": [
    "plt.rcParams.update({'pdf.fonttype':42, 'font.family':'sans-serif', 'font.sans-serif':'Arial', 'font.size':14})"
   ]
  },
  {
   "cell_type": "code",
   "execution_count": null,
   "id": "739bc167",
   "metadata": {
    "pycharm": {
     "name": "#%%\n"
    }
   },
   "outputs": [],
   "source": [
    "plt.figure(figsize=(10, 6))\n",
    "for val in np.where(gene_bins.values[:-1] != gene_bins.values[1:])[0]:\n",
    "    plt.axvline(val, c='g', lw=2)\n",
    "plt.axvline(val, c='g', lw=2, label='expression bins')\n",
    "\n",
    "plt.plot(df_mean_var['mean'].values, lw=3, label='sorted avg. gene epxression')\n",
    "plt.legend(fontsize=14)\n",
    "plt.title(f'Sorted average gene expression with expression bins of {dataset.upper()}',fontsize=16)\n",
    "if save:\n",
    "    plt.savefig(os.path.join(storing_path, f'avg_gene_epxression_{dataset}.svg'),format='svg')\n",
    "    plt.savefig(os.path.join(storing_path, f'avg_gene_epxression_{dataset}.png'),format='png',dpi=300)\n",
    "if show:\n",
    "    plt.show()\n",
    "else:\n",
    "    plt.close()"
   ]
  },
  {
   "cell_type": "code",
   "execution_count": null,
   "id": "6fab7748",
   "metadata": {
    "pycharm": {
     "name": "#%%\n"
    }
   },
   "outputs": [],
   "source": [
    "genes_last_bin = gene_bins[gene_bins==24].index.tolist()"
   ]
  },
  {
   "cell_type": "code",
   "execution_count": null,
   "id": "db801e0c",
   "metadata": {
    "pycharm": {
     "name": "#%%\n"
    }
   },
   "outputs": [],
   "source": [
    "plt.figure(figsize=(10, 6))\n",
    "plt.plot(df_mean_var.loc[genes_last_bin,'mean'].values, lw=3, label='sorted avg. gene epxression')\n",
    "plt.title(f'Sorted average gene expression of last expresion bin {dataset.upper()}',fontsize=16)\n",
    "if save:\n",
    "    plt.savefig(os.path.join(storing_path, f'avg_gene_epxression_in_last_bin_{dataset}.svg'),format='svg')\n",
    "    plt.savefig(os.path.join(storing_path, f'avg_gene_epxression_in_last_bin_{dataset}.png'),format='png',dpi=300)\n",
    "if show:\n",
    "    plt.show()\n",
    "else:\n",
    "    plt.close()"
   ]
  },
  {
   "cell_type": "code",
   "execution_count": null,
   "id": "448bf58a",
   "metadata": {
    "pycharm": {
     "name": "#%%\n"
    }
   },
   "outputs": [],
   "source": [
    "df_mean_var.loc[genes_last_bin,'mean']"
   ]
  },
  {
   "cell_type": "code",
   "execution_count": null,
   "id": "77778951",
   "metadata": {
    "pycharm": {
     "name": "#%%\n"
    }
   },
   "outputs": [],
   "source": [
    "# We remove genes at the boeader for which ANS could not create a valid control set, since we only consider the last expression bin\n",
    "sig_genes_to_test_for = genes_last_bin[50:-50]"
   ]
  },
  {
   "cell_type": "code",
   "execution_count": null,
   "id": "7ac4dd01",
   "metadata": {
    "pycharm": {
     "name": "#%%\n"
    }
   },
   "outputs": [],
   "source": [
    "avg_exprs_last_expression_bin = df_mean_var.loc[genes_last_bin,'mean']"
   ]
  },
  {
   "cell_type": "code",
   "execution_count": null,
   "id": "cbeb3b6d",
   "metadata": {
    "pycharm": {
     "name": "#%%\n"
    }
   },
   "outputs": [],
   "source": [
    "avg_exprs_last_expression_bin"
   ]
  },
  {
   "cell_type": "code",
   "execution_count": null,
   "id": "377f7dec",
   "metadata": {
    "pycharm": {
     "name": "#%%\n"
    }
   },
   "outputs": [],
   "source": [
    "rows_abs_diff = []"
   ]
  },
  {
   "cell_type": "code",
   "execution_count": null,
   "id": "5438c447",
   "metadata": {
    "pycharm": {
     "name": "#%%\n"
    }
   },
   "outputs": [],
   "source": [
    "from tqdm import tqdm"
   ]
  },
  {
   "cell_type": "code",
   "execution_count": null,
   "id": "e004baca",
   "metadata": {},
   "outputs": [],
   "source": [
    "%reload_ext memory_profiler"
   ]
  },
  {
   "cell_type": "code",
   "execution_count": null,
   "id": "bc0b36cb",
   "metadata": {},
   "outputs": [],
   "source": [
    "def ANS_control_genes(ref_genes, avg_expr_sig_gene):\n",
    "    ref_genes_means = avg_exprs_last_expression_bin[ref_genes]\n",
    "    ref_genes_means = ref_genes_means.sort_values()\n",
    "    rolled = ref_genes_means.rolling(ctrl_size, closed='right').mean()\n",
    "    min_val_idx = np.argmin(((rolled - avg_expr_sig_gene).abs()))\n",
    "    sig_gene_ctrl_genes = rolled.iloc[(min_val_idx - ctrl_size + 1):min_val_idx + 1]\n",
    "    return avg_exprs_last_expression_bin[sig_gene_ctrl_genes.index].mean()"
   ]
  },
  {
   "cell_type": "code",
   "execution_count": null,
   "id": "ffefb4d2",
   "metadata": {},
   "outputs": [],
   "source": [
    "Seurat_AG = []\n",
    "for sig_gene in tqdm(sig_genes_to_test_for):\n",
    "    \n",
    "    ref_genes = list(set(avg_exprs_last_expression_bin.index).difference(set([sig_gene])))\n",
    "    \n",
    "#     avg_expr_sig_gene = avg_exprs_last_expression_bin[sig_gene]\n",
    "    # Seurat_AG control genes\n",
    "    Seurat_AG_mean_control = avg_exprs_last_expression_bin[ref_genes].mean()\n",
    "#     Seurat_AG.append(np.abs(avg_expr_sig_gene - Seurat_AG_mean_control))\n",
    "    Seurat_AG.append(Seurat_AG_mean_control)"
   ]
  },
  {
   "cell_type": "code",
   "execution_count": null,
   "id": "b1b6eee7",
   "metadata": {},
   "outputs": [],
   "source": [
    "ANS = []\n",
    "for sig_gene in tqdm(sig_genes_to_test_for):\n",
    "    \n",
    "    ref_genes = list(set(avg_exprs_last_expression_bin.index).difference(set([sig_gene])))\n",
    "    \n",
    "    avg_expr_sig_gene = avg_exprs_last_expression_bin[sig_gene]\n",
    "    # ANS control genes\n",
    "    ANS_mean_control = ANS_control_genes(ref_genes, avg_expr_sig_gene)\n",
    "#     ANS.append(np.abs(avg_expr_sig_gene - ANS_mean_control))\n",
    "    ANS.append(ANS_mean_control)    "
   ]
  },
  {
   "cell_type": "code",
   "execution_count": null,
   "id": "c2ec3e3a",
   "metadata": {},
   "outputs": [],
   "source": [
    "Seurat = []\n",
    "for sig_gene in tqdm(sig_genes_to_test_for):\n",
    "    \n",
    "    ref_genes = list(set(avg_exprs_last_expression_bin.index).difference(set([sig_gene])))\n",
    "    \n",
    "#     avg_expr_sig_gene = avg_exprs_last_expression_bin[sig_gene]\n",
    "    # Seurat et al. control genes \n",
    "    r_genes = ref_genes.copy()\n",
    "    np.random.shuffle(r_genes)\n",
    "    Seurat_mean_control = avg_exprs_last_expression_bin[r_genes[:ctrl_size]].mean()\n",
    "#     Seurat.append(np.abs(avg_expr_sig_gene - Seurat_mean_control))\n",
    "    Seurat.append(Seurat_mean_control)    "
   ]
  },
  {
   "cell_type": "code",
   "execution_count": null,
   "id": "ddc5b156",
   "metadata": {},
   "outputs": [],
   "source": [
    "adata.uns['log1p']['base']=None"
   ]
  },
  {
   "cell_type": "code",
   "execution_count": null,
   "id": "26234aaf",
   "metadata": {},
   "outputs": [],
   "source": [
    "least_variable_genes_per_bin = get_least_variable_genes_per_bin_v1(\n",
    "            adata,\n",
    "            gene_bins,\n",
    "            ctrl_size+1,\n",
    "            method='seurat',\n",
    "        )"
   ]
  },
  {
   "cell_type": "code",
   "execution_count": null,
   "id": "de55600d",
   "metadata": {},
   "outputs": [],
   "source": [
    "Seurat_LVG = []\n",
    "for sig_gene in tqdm(sig_genes_to_test_for):\n",
    "    \n",
    "    ref_genes = list(set(avg_exprs_last_expression_bin.index).difference(set([sig_gene])))\n",
    "    \n",
    "#     avg_expr_sig_gene = avg_exprs_last_expression_bin[sig_gene]\n",
    "    # LVCGS control genes \n",
    "    if len(set(least_variable_genes_per_bin[24]).difference([sig_gene]))==(ctrl_size+1):\n",
    "        curr_contol = least_variable_genes_per_bin[24][0:-1]\n",
    "    elif len(set(least_variable_genes_per_bin[24]).difference([sig_gene]))==(ctrl_size):\n",
    "        curr_contol = list(set(least_variable_genes_per_bin[24]).difference([sig_gene]))\n",
    "    else:\n",
    "        raise ValueError\n",
    "    Seurat_LVG_mean_control = avg_exprs_last_expression_bin[curr_contol].mean()\n",
    "#     Seurat_LVG.append(np.abs(avg_expr_sig_gene - Seurat_mean_control))\n",
    "    Seurat_LVG.append(Seurat_LVG_mean_control)"
   ]
  },
  {
   "cell_type": "code",
   "execution_count": null,
   "id": "157f0b76",
   "metadata": {},
   "outputs": [],
   "source": [
    "df = pd.DataFrame({'ANS':ANS, 'Seurat':Seurat, 'Seurat_AG':Seurat_AG, 'Seurat_LVG':Seurat_LVG}, index = sig_genes_to_test_for)\n",
    "if save:\n",
    "    df.to_csv(os.path.join(storing_path, f'abs_diffs_control_to_sig_average_expression_{dataset}.csv'))"
   ]
  },
  {
   "cell_type": "code",
   "execution_count": null,
   "id": "d392dde0",
   "metadata": {},
   "outputs": [],
   "source": [
    "df"
   ]
  },
  {
   "cell_type": "code",
   "execution_count": null,
   "id": "54f11ed0",
   "metadata": {},
   "outputs": [],
   "source": [
    "plt.figure(figsize=(10, 6))\n",
    "avg_exprs_last_expression_bin[sig_genes_to_test_for].plot(label='average gene expression (AGE)', ls=':', dashes=(5, 1))\n",
    "df['ANS'].plot(label='mean control values of ANS', ls=':', dashes=(5, 4))\n",
    "df['Seurat'].plot(label='mean control values of Seurat', ls='--')\n",
    "df['Seurat_AG'].plot(label='mean control values of Seurat_AG', ls='--')\n",
    "df['Seurat_LVG'].plot(label='mean control values of Seurat_LVG', ls='--')\n",
    "plt.legend(fontsize=14)\n",
    "plt.title(f'Avg. gene expression and mean control values for each gene in last expression bin ({dataset.upper()})', fontsize=16);\n",
    "plt.xlabel('Genes in last expression bin sorted by average expression.', fontsize=16);\n",
    "plt.xticks((plt.gca().get_xticks()[[1, -2]]),\n",
    "          [plt.gca().get_xticklabels()[1], plt.gca().get_xticklabels()[-2]], fontsize=16);\n",
    "plt.ylabel('Log-Normalized expression.', fontsize=16);\n",
    "plt.tight_layout()\n",
    "\n",
    "if save:\n",
    "    plt.savefig(os.path.join(storing_path, f'abs_diffs_control_to_sig_average_expression_{dataset}.png'), dpi=300)\n",
    "    plt.savefig(os.path.join(storing_path, f'abs_diffs_control_to_sig_average_expression_{dataset}.svg'))\n",
    "\n",
    "if show:\n",
    "    plt.show()\n",
    "else:\n",
    "    plt.close()"
   ]
  },
  {
   "cell_type": "code",
   "execution_count": null,
   "id": "b4e05745",
   "metadata": {},
   "outputs": [],
   "source": [
    "raise ValueError()"
   ]
  },
  {
   "cell_type": "code",
   "execution_count": null,
   "id": "614f72b8",
   "metadata": {
    "pycharm": {
     "name": "#%%\n"
    }
   },
   "outputs": [],
   "source": [
    "# plt.figure(figsize=(10, 6))\n",
    "# avg_exprs_last_expression_bin[sig_genes_to_test_for].plot(label='average gene expression (AGE)')\n",
    "# df['ANS'].plot(label='abs. difference AGE and ANS control')\n",
    "# df['Seurat'].plot(label='abs. difference AGE and Seurat control')\n",
    "# df['Seurat_AG'].plot(label='abs. difference AGE and Seurat_AG control')\n",
    "# df['Seurat_LVG'].plot(label='abs. difference AGE and Seurat_LVG control')\n",
    "# plt.legend(fontsize=14)\n",
    "# plt.title(f'Absolute distance between genes and controls for last expression bin ({dataset})', fontsize=16);\n",
    "# plt.xlabel('Genes in last expression bin sorted by average expression.');\n",
    "# plt.xticks((plt.gca().get_xticks()[[1, -2]]),\n",
    "#           [plt.gca().get_xticklabels()[1], plt.gca().get_xticklabels()[-2]]);\n",
    "# plt.tight_layout()\n",
    "# plt.savefig(os.path.join(storing_path, f'abs_diffs_control_to_sig_average_expression_{dataset}.png'), dpi=300)\n",
    "# plt.savefig(os.path.join(storing_path, f'abs_diffs_control_to_sig_average_expression_{dataset}.svg'))"
   ]
  },
  {
   "cell_type": "code",
   "execution_count": null,
   "id": "603f2e34",
   "metadata": {
    "pycharm": {
     "name": "#%%\n"
    }
   },
   "outputs": [],
   "source": [
    "if save:\n",
    "    df.describe().to_csv(os.path.join(storing_path, f'summarized_distances_{dataset}.csv'))"
   ]
  },
  {
   "cell_type": "code",
   "execution_count": null,
   "id": "633ed5f1",
   "metadata": {},
   "outputs": [],
   "source": []
  }
 ],
 "metadata": {
  "kernelspec": {
   "display_name": "Python 3 (ipykernel)",
   "language": "python",
   "name": "python3"
  },
  "language_info": {
   "codemirror_mode": {
    "name": "ipython",
    "version": 3
   },
   "file_extension": ".py",
   "mimetype": "text/x-python",
   "name": "python",
   "nbconvert_exporter": "python",
   "pygments_lexer": "ipython3",
   "version": "3.8.12"
  }
 },
 "nbformat": 4,
 "nbformat_minor": 5
}
