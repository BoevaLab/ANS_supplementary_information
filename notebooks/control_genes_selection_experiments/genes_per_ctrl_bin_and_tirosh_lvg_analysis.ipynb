{
 "cells": [
  {
   "cell_type": "code",
   "execution_count": null,
   "id": "71e489e4",
   "metadata": {},
   "outputs": [],
   "source": [
    "import sys\n",
    "import scanpy as sc \n",
    "import random\n",
    "import glob\n",
    "import os\n",
    "import scipy as sp\n",
    "import csv\n",
    "\n",
    "import pandas as pd\n",
    "import numpy as np\n",
    "import seaborn as sns \n",
    "import matplotlib.pyplot as plt\n",
    "\n",
    "from signaturescoring import score_signature\n",
    "from signaturescoring.utils.utils import get_least_variable_genes_per_bin_v1\n",
    "\n",
    "from scanpy.preprocessing._utils import _get_mean_var\n",
    "\n",
    "sys.path.append('../..')\n",
    "from data.load_data import load_datasets, load_dgex_genes_for_mal_cells\n",
    "\n",
    "sc.settings.verbosity = 2"
   ]
  },
  {
   "cell_type": "code",
   "execution_count": null,
   "id": "141adfc5",
   "metadata": {},
   "outputs": [],
   "source": [
    "adata = load_datasets('luad')\n",
    "if 'log1p' in adata.uns_keys():\n",
    "    adata.uns['log1p']['base'] = None\n",
    "else:\n",
    "    adata.uns['log1p'] = {'base': None}"
   ]
  },
  {
   "cell_type": "code",
   "execution_count": null,
   "id": "e3f18805",
   "metadata": {},
   "outputs": [],
   "source": [
    "def get_bins_info(adata, nbins=25):\n",
    "    X = adata.X\n",
    "    df = pd.DataFrame()\n",
    "    # compute mean and variance\n",
    "    df['mean'], df['var'] = _get_mean_var(X)\n",
    "    df = df.set_index(adata.var_names)\n",
    "    df = df.sort_values(by='mean')\n",
    "    \n",
    "    gene_means = df['mean']\n",
    "    \n",
    "    ranked_gene_means = gene_means.rank(method=\"min\")\n",
    "    gene_bins = pd.cut(ranked_gene_means, 25, labels=False)\n",
    "    \n",
    "    bin_info =  pd.concat([\n",
    "        gene_bins.value_counts().sort_index(),\n",
    "        round(gene_bins.value_counts().sort_index() / len(gene_means) * 100, 2)\n",
    "    ],axis=1)\n",
    "    bin_info.columns = ['nr_genes', 'percent_tot_genes']\n",
    "    \n",
    "    \n",
    "    return bin_info, gene_means, gene_bins"
   ]
  },
  {
   "cell_type": "code",
   "execution_count": null,
   "id": "d893c61e",
   "metadata": {},
   "outputs": [],
   "source": [
    "bin_info, gene_means, gene_bins = get_bins_info(adata)\n",
    "bin_info"
   ]
  },
  {
   "cell_type": "code",
   "execution_count": null,
   "id": "14666874",
   "metadata": {},
   "outputs": [],
   "source": [
    "least_variable_genes_per_bin = get_least_variable_genes_per_bin_v1(adata, gene_bins, 100, method='seurat')"
   ]
  },
  {
   "cell_type": "code",
   "execution_count": null,
   "id": "046f91f8",
   "metadata": {},
   "outputs": [],
   "source": [
    "least_variable_genes_per_bin"
   ]
  },
  {
   "cell_type": "code",
   "execution_count": null,
   "id": "cf7a03ad",
   "metadata": {},
   "outputs": [],
   "source": [
    "gene_bins_diff = gene_bins.diff(1)"
   ]
  },
  {
   "cell_type": "code",
   "execution_count": null,
   "id": "a49b022b",
   "metadata": {},
   "outputs": [],
   "source": [
    "bin_idx = np.where(gene_bins_diff == 1)[0]"
   ]
  },
  {
   "cell_type": "code",
   "execution_count": null,
   "id": "0381a620",
   "metadata": {},
   "outputs": [],
   "source": [
    "bin_idx = np.append(bin_idx, len(gene_bins))\n",
    "bin_idx"
   ]
  },
  {
   "cell_type": "code",
   "execution_count": null,
   "id": "3bcfe487",
   "metadata": {},
   "outputs": [],
   "source": [
    "gene_means = gene_means.sort_values()"
   ]
  },
  {
   "cell_type": "code",
   "execution_count": null,
   "id": "14c50c34",
   "metadata": {
    "scrolled": false
   },
   "outputs": [],
   "source": [
    "for i,(key, val) in enumerate(least_variable_genes_per_bin.items()):\n",
    "    if i==0:\n",
    "        curr_idx = 0\n",
    "    else:\n",
    "        curr_idx = bin_idx[i-1]\n",
    "    next_idex = bin_idx[i]\n",
    "    plt.figure(figsize=(10,5))\n",
    "    tmp = gene_means.iloc[curr_idx:next_idex]\n",
    "    tmp.plot()\n",
    "    for y in val:\n",
    "        plt.axvline(tmp.index.get_loc(y), c='r', ls=':')\n",
    "    plt.title(f'Expression bin {key}.')"
   ]
  },
  {
   "cell_type": "code",
   "execution_count": null,
   "id": "f9bfda1f",
   "metadata": {},
   "outputs": [],
   "source": []
  }
 ],
 "metadata": {
  "kernelspec": {
   "display_name": "Python 3 (ipykernel)",
   "language": "python",
   "name": "python3"
  },
  "language_info": {
   "codemirror_mode": {
    "name": "ipython",
    "version": 3
   },
   "file_extension": ".py",
   "mimetype": "text/x-python",
   "name": "python",
   "nbconvert_exporter": "python",
   "pygments_lexer": "ipython3",
   "version": "3.8.12"
  }
 },
 "nbformat": 4,
 "nbformat_minor": 5
}
