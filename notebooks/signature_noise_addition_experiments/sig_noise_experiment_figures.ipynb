{
 "cells": [
  {
   "cell_type": "code",
   "execution_count": null,
   "metadata": {},
   "outputs": [],
   "source": [
    "import os\n",
    "import sys\n",
    "import pandas as pd \n",
    "import glob\n",
    "import seaborn as sns\n",
    "import matplotlib.pyplot as plt\n",
    "\n",
    "sys.path.append('../..')\n",
    "from data.constants import BASE_PATH_EXPERIMENTS\n",
    "\n",
    "plt.rcParams.update({'pdf.fonttype':42, 'font.family':'sans-serif', 'font.sans-serif':'Arial', 'font.size':14})\n"
   ]
  },
  {
   "cell_type": "code",
   "execution_count": null,
   "metadata": {},
   "outputs": [],
   "source": [
    "plt.rcParams.update({'pdf.fonttype':42, 'font.family':'sans-serif', 'font.sans-serif':'Arial', 'font.size':14})\n",
    "\n",
    "base_path = os.path.join(BASE_PATH_EXPERIMENTS, \"/signature_noise_addition_experiments/\")\n",
    "\n",
    "sc_names = ['ANS','Seurat', 'Seurat_AG','Seurat_LVG','Scanpy', 'Jasmine_LH', 'Jasmine_OR','UCell']\n",
    "\n",
    "max_abs_log2fc = 0.5\n",
    "min_pval = 0.01\n",
    "# max_abs_log2fc = None\n",
    "# min_pval = None\n",
    "\n",
    "if max_abs_log2fc is None and min_pval is None:\n",
    "    suffix = 'noise_genes_all_remaining'\n",
    "elif max_abs_log2fc is None and min_pval is not None:\n",
    "    suffix = f'noise_genes_min_pval_{min_pval}'\n",
    "elif max_abs_log2fc is not None and min_pval is None:\n",
    "    suffix = f'noise_genes_max_abs_log2fc_{max_abs_log2fc}'\n",
    "else:\n",
    "    suffix = f'noise_genes_max_abs_log2fc_{max_abs_log2fc}_min_pval_{min_pval}'\n",
    "\n",
    "name_map={\n",
    "    f'AUCROC_20sims_adjusted_neighborhood_scoring_{suffix}.csv':'ANS',\n",
    "    f'AUCROC_20sims_jasmine_scoring_lh_{suffix}.csv':'Jasmine_LH',\n",
    "    f'AUCROC_20sims_jasmine_scoring_or_{suffix}.csv':'Jasmine_OR',\n",
    "    f'AUCROC_20sims_scanpy_scoring_{suffix}.csv':'Scanpy',\n",
    "    f'AUCROC_20sims_seurat_ag_scoring_{suffix}.csv':'Seurat_AG',\n",
    "    f'AUCROC_20sims_seurat_lvg_scoring_{suffix}.csv':'Seurat_LVG',\n",
    "    f'AUCROC_20sims_seurat_scoring_{suffix}.csv':'Seurat',\n",
    "    f'AUCROC_20sims_ucell_scoring_{suffix}.csv':'UCell',\n",
    "}\n",
    "\n",
    "def load_results(list_fns):\n",
    "    dfs_roc = []\n",
    "    dfs_pr = []\n",
    "    for fn in list_fns:\n",
    "        df = pd.read_csv(fn)\n",
    "        df_aucroc = df[['purity'] + [x for x in df.columns if 'AUCROC' in x]].copy()\n",
    "        df_aucpr = df[['purity'] + [x for x in df.columns if 'AUCPR' in x]].copy()\n",
    "\n",
    "        df_aucroc.columns = ['purity'] + ['sim_'+x.split('_')[1]for x in df_aucroc.columns[1:]]\n",
    "        df_aucpr.columns = ['purity'] + ['sim_'+x.split('_')[1]for x in df_aucpr.columns[1:]]\n",
    "\n",
    "        df_aucroc = df_aucroc.melt(id_vars=['purity'],\n",
    "                                   var_name='simulation',\n",
    "                                   value_name='AUCROC',\n",
    "                                )\n",
    "        df_aucpr = df_aucpr.melt(id_vars=['purity'],\n",
    "                                 var_name='simulation',\n",
    "                                 value_name='AUCPR',\n",
    "                            )\n",
    "        \n",
    "        df_aucroc['scoring_method'] = name_map[os.path.basename(fn)]\n",
    "        df_aucpr['scoring_method'] = name_map[os.path.basename(fn)]\n",
    "        \n",
    "        df_aucroc.simulation = df_aucroc.simulation.apply(lambda x: int(x.split('_')[1]))\n",
    "        df_aucroc.purity = (df_aucroc.purity / df_aucroc.purity.max() )*100\n",
    "\n",
    "        df_aucpr.simulation = df_aucpr.simulation.apply(lambda x: int(x.split('_')[1]))\n",
    "        df_aucpr.purity = (df_aucroc.purity / df_aucroc.purity.max() )*100\n",
    "\n",
    "        \n",
    "        dfs_roc.append(df_aucroc)\n",
    "        dfs_pr.append(df_aucpr)\n",
    "    \n",
    "    return pd.concat(dfs_roc, axis=0).reset_index(drop=True), pd.concat(dfs_pr, axis=0).reset_index(drop=True)\n",
    "\n",
    "\n",
    "def draw_lines(df, auc_col='AUCROC', dataset='crc', figsize=(12,5)):\n",
    "    plt.figure(figsize=figsize)\n",
    "    g = sns.lineplot(\n",
    "        data = df, \n",
    "        x = 'pct_noise',\n",
    "        y = auc_col,\n",
    "        hue = 'scoring_method',\n",
    "        hue_order = sc_names,\n",
    "        legend=True\n",
    "    )\n",
    "    #g.invert_xaxis()\n",
    "    g.set_title(f'Signal-to-noise ratio on {dataset.upper()}');\n",
    "    g.set_xlabel(f'Noise in signature (%)');\n",
    "    g.axhline(0.9, label='0.9 AUC',ls=':', c='grey',  zorder=1);\n",
    "    \n",
    "    tmp = df.groupby(['scoring_method', 'pct_noise'])[auc_col].mean().reset_index()\n",
    "    thresh = round(tmp.groupby('scoring_method').apply(lambda x: x[x[auc_col]>0.9].pct_noise.max()).median())\n",
    "    g.axvline(thresh, label=f'{thresh}% noise',ls=':', c='grey',  zorder=1);\n",
    "    plt.legend()\n",
    "\n",
    "    return plt.gcf()"
   ]
  },
  {
   "cell_type": "markdown",
   "metadata": {},
   "source": [
    "## CRC"
   ]
  },
  {
   "cell_type": "code",
   "execution_count": null,
   "metadata": {},
   "outputs": [],
   "source": [
    "dataset = 'crc'\n",
    "storing_path = os.path.join(base_path, dataset)"
   ]
  },
  {
   "cell_type": "markdown",
   "metadata": {},
   "source": [
    "#### Signature length 100"
   ]
  },
  {
   "cell_type": "code",
   "execution_count": null,
   "metadata": {},
   "outputs": [],
   "source": [
    "sig_length = 100\n",
    "auc_paths = os.path.join(base_path, dataset, 'AUCROCS', f'sig_len_{sig_length}')\n",
    "print('Storing_path: ', storing_path)\n",
    "print('auc_paths:', auc_paths)"
   ]
  },
  {
   "cell_type": "code",
   "execution_count": null,
   "metadata": {},
   "outputs": [],
   "source": [
    "AUC_fns = glob.glob(os.path.join(auc_paths,f'*_{suffix}.csv'))\n",
    "AUC_fns"
   ]
  },
  {
   "cell_type": "code",
   "execution_count": null,
   "metadata": {},
   "outputs": [],
   "source": [
    "df_aucroc, df_aucpr = load_results(AUC_fns)"
   ]
  },
  {
   "cell_type": "code",
   "execution_count": null,
   "metadata": {},
   "outputs": [],
   "source": [
    "df_aucroc['pct_noise'] = 100-df_aucroc.purity\n",
    "df_aucpr['pct_noise'] = 100-df_aucpr.purity"
   ]
  },
  {
   "cell_type": "code",
   "execution_count": null,
   "metadata": {},
   "outputs": [],
   "source": [
    "plt.rcParams.update({'pdf.fonttype':42, 'font.family':'sans-serif', 'font.sans-serif':'Arial', 'font.size':14})\n",
    "\n",
    "fig = draw_lines(df_aucroc, auc_col='AUCROC', dataset=dataset, figsize=(12,5))\n",
    "fig.savefig(os.path.join(storing_path, f'signal2noise_AUCROC_sig_len_{sig_length}_{suffix}.svg'))\n",
    "plt.show()\n",
    "\n",
    "fig = draw_lines(df_aucpr, auc_col='AUCPR', dataset=dataset, figsize=(12,5))\n",
    "fig.savefig(os.path.join(storing_path, f'signal2noise_AUCPR_sig_len_{sig_length}_{suffix}.svg'))\n",
    "plt.show()"
   ]
  },
  {
   "cell_type": "markdown",
   "metadata": {},
   "source": [
    "#### Signature length 650"
   ]
  },
  {
   "cell_type": "code",
   "execution_count": null,
   "metadata": {},
   "outputs": [],
   "source": [
    "sig_length = 650\n",
    "auc_paths = os.path.join(base_path, dataset, 'AUCROCS', f'sig_len_{sig_length}')\n",
    "print('Storing_path: ', storing_path)"
   ]
  },
  {
   "cell_type": "code",
   "execution_count": null,
   "metadata": {},
   "outputs": [],
   "source": [
    "AUC_fns = glob.glob(os.path.join(auc_paths,f'*_{suffix}.csv'))\n",
    "AUC_fns"
   ]
  },
  {
   "cell_type": "code",
   "execution_count": null,
   "metadata": {},
   "outputs": [],
   "source": [
    "df_aucroc, df_aucpr =load_results(AUC_fns)"
   ]
  },
  {
   "cell_type": "code",
   "execution_count": null,
   "metadata": {},
   "outputs": [],
   "source": [
    "fig = draw_lines(df_aucroc, auc_col='AUCROC', dataset=dataset, figsize=(12,5))\n",
    "fig.savefig(os.path.join(storing_path, f'signal2noise_AUCROC_sig_len_{sig_length}_{suffix}.svg'))\n",
    "plt.show()\n",
    "\n",
    "fig = draw_lines(df_aucpr, auc_col='AUCPR', dataset=dataset, figsize=(12,5))\n",
    "fig.savefig(os.path.join(storing_path, f'signal2noise_AUCPR_sig_len_{sig_length}_{suffix}.svg'))\n",
    "plt.show()"
   ]
  },
  {
   "cell_type": "markdown",
   "metadata": {},
   "source": [
    "## ESCC"
   ]
  },
  {
   "cell_type": "code",
   "execution_count": null,
   "metadata": {},
   "outputs": [],
   "source": [
    "dataset = 'escc'\n",
    "storing_path = os.path.join(base_path, dataset)"
   ]
  },
  {
   "cell_type": "markdown",
   "metadata": {},
   "source": [
    "#### Signature length 100"
   ]
  },
  {
   "cell_type": "code",
   "execution_count": null,
   "metadata": {},
   "outputs": [],
   "source": [
    "sig_length = 100\n",
    "auc_paths = os.path.join(base_path, dataset, 'AUCROCS', f'sig_len_{sig_length}')\n",
    "print('Storing_path: ', storing_path)"
   ]
  },
  {
   "cell_type": "code",
   "execution_count": null,
   "metadata": {},
   "outputs": [],
   "source": [
    "AUC_fns = glob.glob(os.path.join(auc_paths,f'*_{suffix}.csv'))\n",
    "df_aucroc, df_aucpr =load_results(AUC_fns)"
   ]
  },
  {
   "cell_type": "code",
   "execution_count": null,
   "metadata": {},
   "outputs": [],
   "source": [
    "df_aucroc['pct_noise'] = 100-df_aucroc.purity\n",
    "df_aucpr['pct_noise'] = 100-df_aucpr.purity"
   ]
  },
  {
   "cell_type": "code",
   "execution_count": null,
   "metadata": {},
   "outputs": [],
   "source": [
    "fig = draw_lines(df_aucroc, auc_col='AUCROC', dataset=dataset, figsize=(12,5))\n",
    "fig.savefig(os.path.join(storing_path, f'signal2noise_AUCROC_sig_len_{sig_length}_{suffix}.svg'))\n",
    "plt.show()\n",
    "\n",
    "fig = draw_lines(df_aucpr, auc_col='AUCPR', dataset=dataset, figsize=(12,5))\n",
    "fig.savefig(os.path.join(storing_path, f'signal2noise_AUCPR_sig_len_{sig_length}_{suffix}.svg'))\n",
    "plt.show()"
   ]
  },
  {
   "cell_type": "markdown",
   "metadata": {},
   "source": [
    "#### Signature length 400"
   ]
  },
  {
   "cell_type": "code",
   "execution_count": null,
   "metadata": {},
   "outputs": [],
   "source": [
    "sig_length = 400\n",
    "auc_paths = os.path.join(base_path, dataset, 'AUCROCS', f'sig_len_{sig_length}')\n",
    "print('Storing_path: ', storing_path)"
   ]
  },
  {
   "cell_type": "code",
   "execution_count": null,
   "metadata": {},
   "outputs": [],
   "source": [
    "AUC_fns = glob.glob(os.path.join(auc_paths,f'*_{suffix}.csv'))\n",
    "df_aucroc, df_aucpr =load_results(AUC_fns)"
   ]
  },
  {
   "cell_type": "code",
   "execution_count": null,
   "metadata": {},
   "outputs": [],
   "source": [
    "fig = draw_lines(df_aucroc, auc_col='AUCROC', dataset=dataset, figsize=(12,5))\n",
    "fig.savefig(os.path.join(storing_path, f'signal2noise_AUCROC_sig_len_{sig_length}_{suffix}.svg'))\n",
    "plt.show()\n",
    "\n",
    "fig = draw_lines(df_aucpr, auc_col='AUCPR', dataset=dataset, figsize=(12,5))\n",
    "fig.savefig(os.path.join(storing_path, f'signal2noise_AUCPR_sig_len_{sig_length}_{suffix}.svg'))\n",
    "plt.show()"
   ]
  },
  {
   "cell_type": "markdown",
   "metadata": {},
   "source": [
    "## LUAD"
   ]
  },
  {
   "cell_type": "code",
   "execution_count": null,
   "metadata": {},
   "outputs": [],
   "source": [
    "dataset = 'luad'\n",
    "storing_path = os.path.join(base_path, dataset)"
   ]
  },
  {
   "cell_type": "markdown",
   "metadata": {},
   "source": [
    "#### Signature length 100"
   ]
  },
  {
   "cell_type": "code",
   "execution_count": null,
   "metadata": {},
   "outputs": [],
   "source": [
    "sig_length = 100\n",
    "auc_paths = os.path.join(base_path, dataset, 'AUCROCS', f'sig_len_{sig_length}')\n",
    "print('Storing_path: ', storing_path)"
   ]
  },
  {
   "cell_type": "code",
   "execution_count": null,
   "metadata": {},
   "outputs": [],
   "source": [
    "AUC_fns = glob.glob(os.path.join(auc_paths,f'*_{suffix}.csv'))\n",
    "df_aucroc, df_aucpr =load_results(AUC_fns)"
   ]
  },
  {
   "cell_type": "code",
   "execution_count": null,
   "metadata": {},
   "outputs": [],
   "source": [
    "df_aucroc['pct_noise'] = 100-df_aucroc.purity\n",
    "df_aucpr['pct_noise'] = 100-df_aucpr.purity"
   ]
  },
  {
   "cell_type": "code",
   "execution_count": null,
   "metadata": {},
   "outputs": [],
   "source": [
    "fig = draw_lines(df_aucroc, auc_col='AUCROC', dataset=dataset, figsize=(12,5))\n",
    "fig.savefig(os.path.join(storing_path, f'signal2noise_AUCROC_sig_len_{sig_length}_{suffix}.svg'))\n",
    "plt.show()\n",
    "\n",
    "fig = draw_lines(df_aucpr, auc_col='AUCPR', dataset=dataset, figsize=(12,5))\n",
    "fig.savefig(os.path.join(storing_path, f'signal2noise_AUCPR_sig_len_{sig_length}_{suffix}.svg'))\n",
    "plt.show()"
   ]
  },
  {
   "cell_type": "markdown",
   "metadata": {},
   "source": [
    "#### Signature length 388"
   ]
  },
  {
   "cell_type": "code",
   "execution_count": null,
   "metadata": {},
   "outputs": [],
   "source": [
    "sig_length = 388\n",
    "auc_paths = os.path.join(base_path, dataset, 'AUCROCS', f'sig_len_{sig_length}')\n",
    "print('Storing_path: ', storing_path)"
   ]
  },
  {
   "cell_type": "code",
   "execution_count": null,
   "metadata": {},
   "outputs": [],
   "source": [
    "AUC_fns = glob.glob(os.path.join(auc_paths,f'*_{suffix}.csv'))\n",
    "df_aucroc, df_aucpr =load_results(AUC_fns)"
   ]
  },
  {
   "cell_type": "code",
   "execution_count": null,
   "metadata": {},
   "outputs": [],
   "source": [
    "fig = draw_lines(df_aucroc, auc_col='AUCROC', dataset=dataset, figsize=(12,5))\n",
    "fig.savefig(os.path.join(storing_path, f'signal2noise_AUCROC_sig_len_{sig_length}_{suffix}.svg'))\n",
    "plt.show()\n",
    "\n",
    "fig = draw_lines(df_aucpr, auc_col='AUCPR', dataset=dataset, figsize=(12,5))\n",
    "fig.savefig(os.path.join(storing_path, f'signal2noise_AUCPR_sig_len_{sig_length}_{suffix}.svg'))\n",
    "plt.show()"
   ]
  }
 ],
 "metadata": {
  "kernelspec": {
   "display_name": "Python 3 (ipykernel)",
   "language": "python",
   "name": "python3"
  },
  "language_info": {
   "codemirror_mode": {
    "name": "ipython",
    "version": 3
   },
   "file_extension": ".py",
   "mimetype": "text/x-python",
   "name": "python",
   "nbconvert_exporter": "python",
   "pygments_lexer": "ipython3",
   "version": "3.8.12"
  }
 },
 "nbformat": 4,
 "nbformat_minor": 2
}
