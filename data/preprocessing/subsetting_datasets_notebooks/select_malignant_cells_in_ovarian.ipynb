{
 "cells": [
  {
   "cell_type": "code",
   "execution_count": 18,
   "id": "0b2d9c97",
   "metadata": {
    "ExecuteTime": {
     "end_time": "2024-07-03T20:26:36.138502Z",
     "start_time": "2024-07-03T20:26:36.133841Z"
    }
   },
   "outputs": [],
   "source": [
    "import os\n",
    "import sys\n",
    "import scanpy as sc\n",
    "import pandas as pd\n",
    "import seaborn as sns\n",
    "sys.path.append('..')\n",
    "from constants import BASE_PATH_DATA"
   ]
  },
  {
   "cell_type": "code",
   "execution_count": 19,
   "id": "9b5342aa",
   "metadata": {
    "ExecuteTime": {
     "end_time": "2024-07-03T20:26:51.937896Z",
     "start_time": "2024-07-03T20:26:36.140612Z"
    }
   },
   "outputs": [],
   "source": [
    "adata = sc.read_h5ad(os.path.join(BASE_PATH_DATA, 'raw_data/OV_Vazquez_10X.h5ad'))"
   ]
  },
  {
   "cell_type": "code",
   "execution_count": 20,
   "id": "c7ae9442",
   "metadata": {
    "ExecuteTime": {
     "end_time": "2024-07-03T20:26:51.942694Z",
     "start_time": "2024-07-03T20:26:51.938893Z"
    }
   },
   "outputs": [
    {
     "data": {
      "text/plain": "AnnData object with n_obs × n_vars = 1376121 × 32223\n    obs: 'sample', 'cell_type', 'percent.mt', 'nCount_RNA', 'nFeature_RNA', 'umap50_1', 'umap50_2', 'cluster_label', 'cluster_label_sub', 'cell_type_super', 'patient_id', 'tumor_subsite', 'tumor_site', 'tumor_supersite', 'sort_parameters', 'therapy', 'surgery'\n    var: 'GeneID'"
     },
     "execution_count": 20,
     "metadata": {},
     "output_type": "execute_result"
    }
   ],
   "source": [
    "adata"
   ]
  },
  {
   "cell_type": "code",
   "execution_count": 21,
   "id": "5cb9c74e",
   "metadata": {
    "ExecuteTime": {
     "end_time": "2024-07-03T20:26:51.964797Z",
     "start_time": "2024-07-03T20:26:51.945584Z"
    }
   },
   "outputs": [
    {
     "data": {
      "text/plain": "B.cell                  18673\nDendritic.cell           4814\nEndothelial.cell        18531\nFibroblast             162078\nMast.cell                1257\nMyeloid.cell           201217\nOther                       4\nOvarian.cancer.cell    251837\nPlasma.cell             20944\nT.cell                 250335\nName: cell_type, dtype: int64"
     },
     "execution_count": 21,
     "metadata": {},
     "output_type": "execute_result"
    }
   ],
   "source": [
    "adata.obs['cell_type'].value_counts().sort_index()"
   ]
  },
  {
   "cell_type": "code",
   "execution_count": 22,
   "id": "73a06737",
   "metadata": {
    "ExecuteTime": {
     "end_time": "2024-07-03T20:27:15.300739Z",
     "start_time": "2024-07-03T20:26:51.967745Z"
    }
   },
   "outputs": [],
   "source": [
    "adata = adata[adata.obs['cell_type'] == 'Ovarian.cancer.cell'].copy()\n",
    "adata = adata[~adata.obs['cluster_label'].str.startswith('Ciliated.cell', na=False)].copy()\n",
    "adata = adata[~adata.obs['cluster_label'].isna()].copy()\n"
   ]
  },
  {
   "cell_type": "code",
   "outputs": [
    {
     "data": {
      "text/plain": "Ovarian.cancer.cell    207263\nName: cell_type, dtype: int64"
     },
     "execution_count": 23,
     "metadata": {},
     "output_type": "execute_result"
    }
   ],
   "source": [
    "adata.obs['cell_type'].value_counts(dropna=False).sort_index()"
   ],
   "metadata": {
    "collapsed": false,
    "ExecuteTime": {
     "end_time": "2024-07-03T20:27:15.325644Z",
     "start_time": "2024-07-03T20:27:15.307988Z"
    }
   },
   "id": "f8924e3d3125e91a",
   "execution_count": 23
  },
  {
   "cell_type": "code",
   "outputs": [
    {
     "data": {
      "text/plain": "Cancer.cell.1            93598\nCancer.cell.2            33169\nCancer.cell.3            17954\nCancer.cell.4             4496\nCancer.cell.5             2184\nCancer.cell.6            17374\nCycling.cancer.cell.1    17174\nCycling.cancer.cell.2    21314\nName: cluster_label, dtype: int64"
     },
     "execution_count": 24,
     "metadata": {},
     "output_type": "execute_result"
    }
   ],
   "source": [
    "adata.obs['cluster_label'].value_counts(dropna=False).sort_index()"
   ],
   "metadata": {
    "collapsed": false,
    "ExecuteTime": {
     "end_time": "2024-07-03T20:27:15.334330Z",
     "start_time": "2024-07-03T20:27:15.327238Z"
    }
   },
   "id": "49f1653ba6d4571f",
   "execution_count": 24
  },
  {
   "cell_type": "code",
   "execution_count": 25,
   "id": "673c5749",
   "metadata": {
    "ExecuteTime": {
     "end_time": "2024-07-03T20:27:18.035818Z",
     "start_time": "2024-07-03T20:27:15.335208Z"
    }
   },
   "outputs": [],
   "source": [
    "adata.write(os.path.join(BASE_PATH_DATA, 'raw_data/ovarian_malignant.h5ad'))"
   ]
  }
 ],
 "metadata": {
  "kernelspec": {
   "display_name": "Python 3 (ipykernel)",
   "language": "python",
   "name": "python3"
  },
  "language_info": {
   "codemirror_mode": {
    "name": "ipython",
    "version": 3
   },
   "file_extension": ".py",
   "mimetype": "text/x-python",
   "name": "python",
   "nbconvert_exporter": "python",
   "pygments_lexer": "ipython3",
   "version": "3.8.12"
  }
 },
 "nbformat": 4,
 "nbformat_minor": 5
}
