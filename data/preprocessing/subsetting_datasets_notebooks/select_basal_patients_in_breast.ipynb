{
 "cells": [
  {
   "cell_type": "code",
   "execution_count": null,
   "id": "0b2d9c97",
   "metadata": {},
   "outputs": [],
   "source": [
    "import os\n",
    "import sys\n",
    "import scanpy as sc\n",
    "import pandas as pd\n",
    "sys.path.append('..')\n",
    "from constants import BASE_PATH_DATA"
   ]
  },
  {
   "cell_type": "code",
   "execution_count": null,
   "id": "9b5342aa",
   "metadata": {},
   "outputs": [],
   "source": [
    "adata = sc.read_h5ad(os.path.join(BASE_PATH_DATA, 'cansig_processed/breast_large.h5ad'))"
   ]
  },
  {
   "cell_type": "code",
   "execution_count": null,
   "id": "c7ae9442",
   "metadata": {},
   "outputs": [],
   "source": [
    "adata"
   ]
  },
  {
   "cell_type": "code",
   "execution_count": null,
   "id": "5cb9c74e",
   "metadata": {},
   "outputs": [],
   "source": [
    "adata.obs.sample_id.value_counts().sort_index()"
   ]
  },
  {
   "cell_type": "code",
   "execution_count": null,
   "id": "6d4d807c",
   "metadata": {},
   "outputs": [],
   "source": [
    "adata.obs.malignant_key.value_counts().sort_index()"
   ]
  },
  {
   "cell_type": "code",
   "execution_count": null,
   "id": "526d414d",
   "metadata": {},
   "outputs": [],
   "source": [
    "basal_samples = ['CID3586', 'CID3963', \n",
    "                 'CID4465', 'CID4495',\n",
    "                 'CID44971', 'CID4513',\n",
    "                 'CID4515', 'CID4523',\n",
    "                ]"
   ]
  },
  {
   "cell_type": "code",
   "execution_count": null,
   "id": "73a06737",
   "metadata": {},
   "outputs": [],
   "source": [
    "adata = adata[adata.obs.sample_id.isin(basal_samples)].copy()"
   ]
  },
  {
   "cell_type": "code",
   "execution_count": null,
   "id": "93939ece",
   "metadata": {},
   "outputs": [],
   "source": [
    "def create_pivot_table(data, index, column):\n",
    "    tmp = data.obs[[index, column]].value_counts().sort_index().reset_index()\n",
    "    tmp.columns = [index, column, 'count']\n",
    "    return pd.pivot(tmp,\n",
    "                    columns=column,\n",
    "                    index=index,\n",
    "                    values='count')\n",
    "    "
   ]
  },
  {
   "cell_type": "code",
   "execution_count": null,
   "id": "21a2e266",
   "metadata": {},
   "outputs": [],
   "source": [
    "create_pivot_table(adata,'gene_module', 'malignant_key')"
   ]
  },
  {
   "cell_type": "code",
   "execution_count": null,
   "id": "37dfe68c",
   "metadata": {},
   "outputs": [],
   "source": [
    "create_pivot_table(adata,\n",
    "                   'celltype', \n",
    "                   'malignant_key').fillna(0)"
   ]
  },
  {
   "cell_type": "code",
   "execution_count": null,
   "id": "9d5340c6",
   "metadata": {},
   "outputs": [],
   "source": [
    "adata = adata[adata.obs.malignant_key!='undecided'].copy()"
   ]
  },
  {
   "cell_type": "code",
   "execution_count": null,
   "id": "ed9d9c8b",
   "metadata": {},
   "outputs": [],
   "source": [
    "adata"
   ]
  },
  {
   "cell_type": "code",
   "execution_count": null,
   "id": "673c5749",
   "metadata": {},
   "outputs": [],
   "source": [
    "adata.write(os.path.join(BASE_PATH_DATA, 'cansig_processed/breast_basal_like_samples.h5ad'))"
   ]
  }
 ],
 "metadata": {
  "kernelspec": {
   "display_name": "Python 3 (ipykernel)",
   "language": "python",
   "name": "python3"
  },
  "language_info": {
   "codemirror_mode": {
    "name": "ipython",
    "version": 3
   },
   "file_extension": ".py",
   "mimetype": "text/x-python",
   "name": "python",
   "nbconvert_exporter": "python",
   "pygments_lexer": "ipython3",
   "version": "3.9.18"
  }
 },
 "nbformat": 4,
 "nbformat_minor": 5
}
