{
 "cells": [
  {
   "cell_type": "markdown",
   "id": "54463cacd373113",
   "metadata": {},
   "source": [
    "### This notebook is just for subsetting the ovarian and skin datasets for malignant cells"
   ]
  },
  {
   "cell_type": "code",
   "execution_count": 1,
   "id": "1d0861a79a9bc2bc",
   "metadata": {},
   "outputs": [],
   "source": [
    "import sys\n",
    "from pathlib import Path\n",
    "\n",
    "import pandas as pd\n",
    "import scanpy as sc\n",
    "from scipy import sparse\n",
    "\n",
    "sys.path.append(\"../..\")\n",
    "\n",
    "from constants import BASE_PATH_RAW_CANCER, BASE_PATH_DATA, BASE_PATH_ANNOT_CANCER, BASE_PATH_CANSIG_PP_CANCER\n",
    "from load_data_3ca import DATA3CA"
   ]
  },
  {
   "cell_type": "code",
   "execution_count": 2,
   "id": "3d722d816aa4df7c",
   "metadata": {},
   "outputs": [],
   "source": [
    "SAVE = False"
   ]
  },
  {
   "cell_type": "markdown",
   "id": "fa042f9d0000e723",
   "metadata": {},
   "source": [
    "#### Ovarian cancer dataset\n",
    "Vázquez-García, I., Uhlitz, F., Ceglia, N. et al. Ovarian cancer mutational processes drive site-specific immune evasion. Nature 612, 778–786 (2022). https://doi.org/10.1038/s41586-022-05496-1"
   ]
  },
  {
   "cell_type": "code",
   "execution_count": null,
   "id": "16a2f2a5a0d70da2",
   "metadata": {},
   "outputs": [],
   "source": [
    "adata = sc.read_h5ad(Path(BASE_PATH_RAW_CANCER) / 'OV_Vazquez_10X.h5ad')\n",
    "adata.shape"
   ]
  },
  {
   "cell_type": "code",
   "execution_count": null,
   "id": "7c1973aa829a0334",
   "metadata": {},
   "outputs": [],
   "source": [
    "## Filter only for cancer cells\n",
    "adata = adata[adata.obs['cell_type'] == 'Ovarian.cancer.cell']\n",
    "adata.shape"
   ]
  },
  {
   "cell_type": "code",
   "execution_count": null,
   "id": "6047f99fa2203ebd",
   "metadata": {},
   "outputs": [],
   "source": [
    "adata = adata[~adata.obs['cluster_label'].isna()]\n",
    "adata.shape"
   ]
  },
  {
   "cell_type": "code",
   "execution_count": null,
   "id": "222275addfd144bb",
   "metadata": {},
   "outputs": [],
   "source": [
    "adata = adata[~adata.obs['cluster_label'].str.startswith('Ciliated.cell')].copy()\n",
    "adata.shape"
   ]
  },
  {
   "cell_type": "code",
   "execution_count": null,
   "id": "7b4711778fcc2257",
   "metadata": {},
   "outputs": [],
   "source": [
    "adata.X = sparse.csr_matrix(adata.X)"
   ]
  },
  {
   "cell_type": "code",
   "execution_count": null,
   "id": "92ddd05cb0199f98",
   "metadata": {},
   "outputs": [],
   "source": [
    "if SAVE:\n",
    "    # adata.write(Path(BASE_PATH_RAW_CANCER) / 'ovarian_malignant.h5ad')"
   ]
  },
  {
   "cell_type": "markdown",
   "id": "85ca672ad53ae624",
   "metadata": {},
   "source": [
    "Data downloaded from [cellxgene](https://cellxgene.cziscience.com/collections/4796c91c-9d8f-4692-be43-347b1727f9d8). This contains the malignant and non-malignant epithelial cells from the same study. However, the data is already curated and preprocessed. We take the cell names from the curated data subset it from the previous data."
   ]
  },
  {
   "cell_type": "code",
   "execution_count": null,
   "id": "4b973918969d94df",
   "metadata": {},
   "outputs": [],
   "source": [
    "tmp_adata = sc.read_h5ad(Path(BASE_PATH_RAW_CANCER) / 'ovarian_vazquez_cellxgene_epithelial.h5ad')\n",
    "tmp_adata.shape"
   ]
  },
  {
   "cell_type": "code",
   "execution_count": null,
   "id": "106310cad0bfdd98",
   "metadata": {},
   "outputs": [],
   "source": [
    "tmp_adata = tmp_adata[~tmp_adata.obs['cluster_label'].str.startswith('Ciliated.cell')].copy()\n",
    "tmp_adata.shape"
   ]
  },
  {
   "cell_type": "code",
   "execution_count": null,
   "id": "f367140e8646dcef",
   "metadata": {},
   "outputs": [],
   "source": [
    "print('Nr. cells in both datasets:\\t\\t', len(set(tmp_adata.obs_names) & set(adata.obs_names)))\n",
    "print('Nr. cells only in the curated dataset:\\t', len(set(tmp_adata.obs_names) - set(adata.obs_names)))\n",
    "print('Nr. cells only in the filtered dataset:\\t', len(set(adata.obs_names) - set(tmp_adata.obs_names)))"
   ]
  },
  {
   "cell_type": "code",
   "execution_count": null,
   "id": "97f451b1fb146e7",
   "metadata": {},
   "outputs": [],
   "source": [
    "adata = adata[adata.obs_names.isin(tmp_adata.obs_names)].copy()"
   ]
  },
  {
   "cell_type": "code",
   "execution_count": null,
   "id": "7fcd237e7961d73a",
   "metadata": {},
   "outputs": [],
   "source": [
    "if SAVE:\n",
    "    # adata.write(Path(BASE_PATH_RAW_CANCER) / 'ovarian_malignant_cellxgene.h5ad')"
   ]
  },
  {
   "cell_type": "code",
   "execution_count": null,
   "id": "aa295004672b2159",
   "metadata": {},
   "outputs": [],
   "source": [
    "del adata"
   ]
  },
  {
   "cell_type": "markdown",
   "id": "10e82f2fd6e4b0cd",
   "metadata": {},
   "source": [
    "#### Ji et al. 2020 skin dataset\n",
    "Ji AL, Rubin AJ, Thrane K, Jiang S, Reynolds DL, Meyers RM, Guo MG, George BM, Mollbrink A, Bergenstråhle J, Larsson L, Bai Y, Zhu B, Bhaduri A, Meyers JM, Rovira-Clavé X, Hollmig ST, Aasi SZ, Nolan GP, Lundeberg J, Khavari PA. Multimodal Analysis of Composition and Spatial Architecture in Human Squamous Cell Carcinoma. Cell. 2020 Jul 23;182(2):497-514.e22. doi: 10.1016/j.cell.2020.05.039. Epub 2020 Jun 23. Erratum in: Cell. 2020 Sep 17;182(6):1661-1662. doi: 10.1016/j.cell.2020.08.043. PMID: 32579974; PMCID: PMC7391009."
   ]
  },
  {
   "cell_type": "code",
   "execution_count": null,
   "id": "692a150f644c0e79",
   "metadata": {},
   "outputs": [],
   "source": [
    "def load_skin():\n",
    "    adata = sc.read(\n",
    "        Path(BASE_PATH_RAW_CANCER) / 'Ji_et_al_2020' / 'GSE144236_cSCC_counts.txt',\n",
    "        delimiter='\\t')\n",
    "\n",
    "    metadata = pd.read_table(\n",
    "        Path(BASE_PATH_RAW_CANCER) / 'Ji_et_al_2020' / 'GSE144236_patient_metadata_new.txt',\n",
    "        delimiter='\\t')\n",
    "\n",
    "    adata = adata.transpose()\n",
    "    adata.obs[metadata.columns.to_list()] = metadata.copy()\n",
    "    adata = adata[:, 2:].copy()\n",
    "    return adata"
   ]
  },
  {
   "cell_type": "code",
   "execution_count": null,
   "id": "f79db38dcb51cb1f",
   "metadata": {},
   "outputs": [],
   "source": [
    "adata = load_skin()"
   ]
  },
  {
   "cell_type": "code",
   "execution_count": null,
   "id": "be5a92ba4652df30",
   "metadata": {},
   "outputs": [],
   "source": [
    "adata = adata[adata.obs['level2_celltype'].isin(['TSK', 'Tumor_KC_Basal', 'Tumor_KC_Cyc', 'Tumor_KC_Diff'])].copy()\n",
    "adata.obs.level2_celltype.value_counts()"
   ]
  },
  {
   "cell_type": "code",
   "execution_count": null,
   "id": "68945533b79c513b",
   "metadata": {},
   "outputs": [],
   "source": [
    "adata.X = sparse.csr_matrix(adata.X)"
   ]
  },
  {
   "cell_type": "code",
   "execution_count": null,
   "id": "a5750424fdbdb1ea",
   "metadata": {},
   "outputs": [],
   "source": [
    "if SAVE:\n",
    "    # adata.write(Path(BASE_PATH_RAW_CANCER) / 'skin_malignant_manual.h5ad')"
   ]
  },
  {
   "cell_type": "markdown",
   "id": "1e10072fd6939aed",
   "metadata": {},
   "source": [
    "##### Look at the second skin example"
   ]
  },
  {
   "cell_type": "code",
   "execution_count": null,
   "id": "cf38e43ba4d14271",
   "metadata": {},
   "outputs": [],
   "source": [
    "data_path = Path(BASE_PATH_DATA) / 'data_from_florian' / 'data' / 'skin_ji.h5ad'"
   ]
  },
  {
   "cell_type": "code",
   "execution_count": null,
   "id": "11cc7fbc0b3ebf0c",
   "metadata": {},
   "outputs": [],
   "source": [
    "adata = sc.read_h5ad(data_path)"
   ]
  },
  {
   "cell_type": "code",
   "execution_count": null,
   "id": "2d457f7b282b495a",
   "metadata": {},
   "outputs": [],
   "source": [
    "adata = adata[adata.obs['level2_celltype'].isin(['TSK', 'Tumor_KC_Basal', 'Tumor_KC_Cyc', 'Tumor_KC_Diff'])].copy()\n",
    "adata.obs.level2_celltype.value_counts()"
   ]
  },
  {
   "cell_type": "code",
   "execution_count": null,
   "id": "acda86e67c696bac",
   "metadata": {},
   "outputs": [],
   "source": [
    "if SAVE:\n",
    "    # adata.write(Path(BASE_PATH_CANSIG_PP_CANCER) / 'skin_malignant.h5ad')"
   ]
  },
  {
   "cell_type": "markdown",
   "id": "5104444df9a96767",
   "metadata": {},
   "source": [
    "#### Kim et al. lung dataset\n",
    "Kim, N., Kim, H.K., Lee, K. et al. Single-cell RNA sequencing demonstrates the molecular and cellular reprogramming of metastatic lung adenocarcinoma. Nat Commun 11, 2285 (2020). https://doi.org/10.1038/s41467-020-16164-1"
   ]
  },
  {
   "cell_type": "code",
   "execution_count": null,
   "id": "3d8b342a1b53e330",
   "metadata": {},
   "outputs": [],
   "source": [
    "adata = sc.read_h5ad(Path(BASE_PATH_DATA) / 'data_from_florian' / 'data' / 'kim_lung.h5ad')"
   ]
  },
  {
   "cell_type": "code",
   "execution_count": null,
   "id": "6418297bd8c4530",
   "metadata": {},
   "outputs": [],
   "source": [
    "samples_in_adata = adata.obs.index.to_list()"
   ]
  },
  {
   "cell_type": "code",
   "execution_count": null,
   "id": "86ec7878e80d8ae7",
   "metadata": {},
   "outputs": [],
   "source": [
    "samples_in_adata = adata.obs.index.to_list()\n",
    "cell_labels = pd.read_table(Path(BASE_PATH_ANNOT_CANCER) / 'luad_kim' / \"GSE131907_Lung_Cancer_cell_annotation.txt\")\n",
    "cell_labels['Index'] = cell_labels['Index'].str.replace('_', '-')\n",
    "cell_labels = cell_labels.set_index('Index')\n",
    "cell_labels = cell_labels.loc[samples_in_adata]"
   ]
  },
  {
   "cell_type": "code",
   "execution_count": null,
   "id": "5cfa671c2c68e245",
   "metadata": {},
   "outputs": [],
   "source": [
    "y_true_col = 'Cell_subtype'\n",
    "sample_col = 'sample'"
   ]
  },
  {
   "cell_type": "code",
   "execution_count": null,
   "id": "e1341f86646ab1c9",
   "metadata": {},
   "outputs": [],
   "source": [
    "adata.obs[y_true_col] = cell_labels[y_true_col].str.lower()"
   ]
  },
  {
   "cell_type": "code",
   "execution_count": null,
   "id": "363aa2f5c5a75a81",
   "metadata": {},
   "outputs": [],
   "source": [
    "adata = adata[adata.obs[adata.obs[y_true_col].str.startswith('ts', na=False)].index].copy()"
   ]
  },
  {
   "cell_type": "code",
   "execution_count": null,
   "id": "5086963ef0255275",
   "metadata": {},
   "outputs": [],
   "source": [
    "adata.obs[y_true_col].value_counts().sort_index()"
   ]
  },
  {
   "cell_type": "code",
   "execution_count": null,
   "id": "fa17c19a4d5209b7",
   "metadata": {},
   "outputs": [],
   "source": [
    "if SAVE:\n",
    "    # adata.write(Path(BASE_PATH_CANSIG_PP_CANCER) / 'luad_kim_malignant.h5ad')"
   ]
  },
  {
   "cell_type": "markdown",
   "id": "87e37f6c473e105d",
   "metadata": {},
   "source": [
    "Sencond version of luad kim directly downloaded from 3CA"
   ]
  },
  {
   "cell_type": "code",
   "execution_count": 3,
   "id": "3f26384ae93cdf92",
   "metadata": {},
   "outputs": [
    {
     "data": {
      "text/plain": [
       "PosixPath('/Users/lciernik/Documents/TUB/projects/ans_scoring/reproduce_project/data/raw_data/luad_kim_2020/Data_Kim2020_Lung')"
      ]
     },
     "execution_count": 3,
     "metadata": {},
     "output_type": "execute_result"
    }
   ],
   "source": [
    "data_folder = Path(BASE_PATH_RAW_CANCER) / \"luad_kim_2020/Data_Kim2020_Lung\"\n",
    "data_folder"
   ]
  },
  {
   "cell_type": "code",
   "execution_count": 4,
   "id": "def273c309b3c95a",
   "metadata": {},
   "outputs": [],
   "source": [
    "ds_obj = DATA3CA(data_folder)"
   ]
  },
  {
   "cell_type": "code",
   "execution_count": 5,
   "id": "cc44f60f8e1e94a6",
   "metadata": {},
   "outputs": [],
   "source": [
    "ds_obj.validate_data_consistency()"
   ]
  },
  {
   "cell_type": "code",
   "execution_count": 6,
   "id": "939650f0c1cf9394",
   "metadata": {},
   "outputs": [],
   "source": [
    "adata_2 = sc.AnnData(\n",
    "    X=ds_obj.counts,\n",
    "    obs=ds_obj.cells.reset_index().merge(ds_obj.metadata, on='sample').set_index('cell_name'),\n",
    "    var=ds_obj.genes\n",
    ")"
   ]
  },
  {
   "cell_type": "code",
   "execution_count": 7,
   "id": "9df12ccc45900a56",
   "metadata": {},
   "outputs": [
    {
     "data": {
      "text/plain": [
       "<32493x20793 sparse matrix of type '<class 'numpy.int64'>'\n",
       "\twith 72003915 stored elements in Compressed Sparse Row format>"
      ]
     },
     "execution_count": 7,
     "metadata": {},
     "output_type": "execute_result"
    }
   ],
   "source": [
    "adata_2.X"
   ]
  },
  {
   "cell_type": "code",
   "execution_count": 8,
   "id": "1605a443ecf3a9a7",
   "metadata": {},
   "outputs": [],
   "source": [
    "# Only keep malignant cells\n",
    "adata_2 = adata_2[adata_2.obs['cell_type'] == 'Malignant'].copy()"
   ]
  },
  {
   "cell_type": "code",
   "execution_count": 9,
   "id": "3e54ca9083787c99",
   "metadata": {},
   "outputs": [],
   "source": [
    "samples_in_adata = adata_2.obs.index.to_list()\n",
    "cell_labels = pd.read_table(Path(BASE_PATH_ANNOT_CANCER) / 'luad_kim' / \"GSE131907_Lung_Cancer_cell_annotation.txt\")\n",
    "cell_labels = cell_labels.set_index('Index')\n",
    "cell_labels = cell_labels.loc[samples_in_adata, :]"
   ]
  },
  {
   "cell_type": "code",
   "execution_count": 10,
   "id": "9ef8b433c3f69c15",
   "metadata": {},
   "outputs": [],
   "source": [
    "y_true_col = 'Cell_subtype'\n",
    "sample_col = 'sample'\n",
    "adata_2.obs[y_true_col] = cell_labels[y_true_col].str.lower()"
   ]
  },
  {
   "cell_type": "code",
   "execution_count": 11,
   "id": "6f664f7b14c1f8f9",
   "metadata": {},
   "outputs": [],
   "source": [
    "adata_2 = adata_2[adata_2.obs[adata_2.obs[y_true_col].str.startswith('ts', na=False)].index].copy()"
   ]
  },
  {
   "cell_type": "code",
   "execution_count": null,
   "id": "c89831d13f86a178",
   "metadata": {},
   "outputs": [],
   "source": [
    "if SAVE:\n",
    "    adata.write(Path(BASE_PATH_CANSIG_PP_CANCER) / 'luad_kim_malignant_3ca.h5ad')"
   ]
  }
 ],
 "metadata": {
  "kernelspec": {
   "display_name": "ans_scoring",
   "language": "python",
   "name": "python3"
  },
  "language_info": {
   "codemirror_mode": {
    "name": "ipython",
    "version": 3
   },
   "file_extension": ".py",
   "mimetype": "text/x-python",
   "name": "python",
   "nbconvert_exporter": "python",
   "pygments_lexer": "ipython3",
   "version": "3.9.18"
  }
 },
 "nbformat": 4,
 "nbformat_minor": 5
}
