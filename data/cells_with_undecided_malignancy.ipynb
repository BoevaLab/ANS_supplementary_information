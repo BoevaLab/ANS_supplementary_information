{
 "cells": [
  {
   "cell_type": "markdown",
   "id": "aeb59d5b-de4a-4619-a790-e4d3c6a9a625",
   "metadata": {},
   "source": [
    "## Analysis of disagreement between initial cell type labels and CNAs presentation in ESCC, CRC and LUAD\n",
    "The following notebook was used to get an overview of the cells have conflicting malignancy in terms of dataset indication and CNAs. The limited amount of those cells allows us to remove them. "
   ]
  },
  {
   "cell_type": "code",
   "execution_count": null,
   "id": "f97587df-0acd-4cbd-89e1-88dbd2601ba2",
   "metadata": {},
   "outputs": [],
   "source": [
    "import os\n",
    "import scanpy as sc\n",
    "import seaborn as sns\n",
    "import matplotlib.pyplot as plt\n",
    "import random \n",
    "import pandas as pd\n",
    "import numpy as np\n",
    "from load_data import load_datasets"
   ]
  },
  {
   "cell_type": "code",
   "execution_count": null,
   "id": "2e197e66-6a84-488f-b48a-381f36a5677a",
   "metadata": {},
   "outputs": [],
   "source": [
    "def show_composition_undecided(dataset):\n",
    "    adata = load_datasets(dataset, preprocessed=False)\n",
    "    if dataset=='luad':\n",
    "        adata = adata[adata.obs.dataset=='Kim_Lee_2020'].copy()\n",
    "    \n",
    "    nr_cells_tot = adata.shape[0]\n",
    "    nr_cells_undecided = np.sum(adata.obs.malignant_key=='undecided')\n",
    "    \n",
    "    display(adata[adata.obs.malignant_key=='undecided'].obs.groupby(['malignant_celltype', 'malignant_cnv']).celltype.value_counts().sort_index())\n",
    "    \n",
    "    print(f\"In {dataset.upper()}, out of the total of {nr_cells_tot} cells, we removed {nr_cells_undecided} cells with disagreement between initial cell type labels and CNAs present.\")\n",
    "    # \"In ESCC, out of the total of 45234 cells, we removed 2500 cells with disagreement between initial cell type labels and CNAs present (1900 malignant cells and 89 cells of tumor microenvironment).\"\"\""
   ]
  },
  {
   "cell_type": "code",
   "execution_count": null,
   "id": "f30c37b0-178a-4e90-8b2c-dce1e3a00086",
   "metadata": {},
   "outputs": [],
   "source": [
    "show_composition_undecided('escc')"
   ]
  },
  {
   "cell_type": "code",
   "execution_count": null,
   "id": "ca9a32c2-4980-4e9f-b4d9-b221e50909da",
   "metadata": {},
   "outputs": [],
   "source": [
    "show_composition_undecided('crc')"
   ]
  },
  {
   "cell_type": "code",
   "execution_count": null,
   "id": "71ffa288-68f2-4fa9-ad55-23c1ce03883b",
   "metadata": {},
   "outputs": [],
   "source": [
    "show_composition_undecided('luad')"
   ]
  }
 ],
 "metadata": {
  "kernelspec": {
   "display_name": "Python 3 (ipykernel)",
   "language": "python",
   "name": "python3"
  },
  "language_info": {
   "codemirror_mode": {
    "name": "ipython",
    "version": 3
   },
   "file_extension": ".py",
   "mimetype": "text/x-python",
   "name": "python",
   "nbconvert_exporter": "python",
   "pygments_lexer": "ipython3",
   "version": "3.8.12"
  }
 },
 "nbformat": 4,
 "nbformat_minor": 5
}
