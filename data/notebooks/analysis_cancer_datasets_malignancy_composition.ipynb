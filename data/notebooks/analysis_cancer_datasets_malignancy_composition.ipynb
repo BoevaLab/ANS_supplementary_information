{
 "cells": [
  {
   "cell_type": "markdown",
   "id": "d0004a68",
   "metadata": {},
   "source": [
    "## Visualization of sample contribution to datasets and composition (ESCC, CRC, and LUAD)\n",
    "In the following notebook we want to see the relative sample sizes and the per sample malignant/ non-malignant ration"
   ]
  },
  {
   "cell_type": "code",
   "execution_count": null,
   "id": "b45695cf-6e93-4480-9078-defd9c6c9c58",
   "metadata": {},
   "outputs": [],
   "source": [
    "import os\n",
    "import scanpy as sc\n",
    "import seaborn as sns\n",
    "import matplotlib.pyplot as plt\n",
    "import pandas as pd\n",
    "import math\n",
    "\n",
    "from load_data import load_datasets\n",
    "from constants import BASE_PATH_DATA"
   ]
  },
  {
   "cell_type": "code",
   "execution_count": null,
   "id": "b57aa632",
   "metadata": {},
   "outputs": [],
   "source": [
    "from IPython.display import display, HTML\n",
    "display(HTML(\"<style>.container { width:95% !important; }</style>\"))"
   ]
  },
  {
   "cell_type": "code",
   "execution_count": null,
   "id": "995ae364",
   "metadata": {},
   "outputs": [],
   "source": [
    "plt.rcParams.update({'pdf.fonttype':42, 'font.family':'sans-serif', 'font.sans-serif':'Arial', 'font.size':14})"
   ]
  },
  {
   "cell_type": "code",
   "execution_count": null,
   "id": "07e2beca-82ba-4d00-922a-356b9f4cfe23",
   "metadata": {},
   "outputs": [],
   "source": [
    "def get_proportions(adata):\n",
    "    sample_counts = adata.obs.groupby('sample_id').apply(lambda x: (len(x), len(x[x.malignant_key=='malignant']), len(x[x.malignant_key=='non-malignant'])))\n",
    "    sample_counts = pd.DataFrame(sample_counts.tolist(), index=sample_counts.index, columns=['nr_cells', 'nr_mal_cells', 'nr_non-mal_cells'])\n",
    "    sample_counts['pct_cells'] = sample_counts['nr_cells']/sum(sample_counts['nr_cells'])\n",
    "    sample_counts['pct_mal_cells'] = sample_counts['nr_mal_cells']/sample_counts['nr_cells']\n",
    "    sample_counts['pct_non-mal_cells'] = sample_counts['nr_non-mal_cells']/sample_counts['nr_cells']\n",
    "    sample_counts = sample_counts.sort_values(by='nr_cells')\n",
    "    return sample_counts\n",
    "    \n",
    "\n",
    "def plot_pie(dataset, adata, storing_path, figsize=(10,10)):\n",
    "    adata.obs.sample_id.value_counts().plot.pie(autopct='%1.1f%%',figsize=figsize, cmap='gist_rainbow')\n",
    "    plt.tight_layout()\n",
    "    plt.savefig(os.path.join(base_storing_path, f'{dataset}_overall_proprotion.svg'))\n",
    "    plt.show()\n",
    "    \n",
    "    \n",
    "def plot_sid_pies(sample_counts, factor=2,figsize=(10,10)):\n",
    "    nr_samples = len(sample_counts)\n",
    "    interesting_cols = sample_counts[['nr_mal_cells', 'nr_non-mal_cells']].copy()\n",
    "    interesting_cols.columns =['malignant', 'non-malignant']\n",
    "    \n",
    "    nr_cols = int(math.ceil(nr_samples/6))\n",
    "    layout = (6, nr_cols)\n",
    "    \n",
    "    if factor>0:\n",
    "        fs = (12*factor, 4*factor)\n",
    "    else:\n",
    "        fs = figsize\n",
    "\n",
    "    interesting_cols.T.plot.pie(subplots=True, layout=layout,figsize=fs, legend=False, title=f'{dataset.upper()} malignancy composition per sample');\n",
    "    \n",
    "    plt.tight_layout()\n",
    "    plt.savefig(os.path.join(base_storing_path, f'{dataset}_persid_mal_proprotion.svg'))\n",
    "    \n",
    "    fig = plt.gcf()\n",
    "    \n",
    "    print(fig.get_size_inches())\n",
    "    plt.show()"
   ]
  },
  {
   "cell_type": "code",
   "execution_count": null,
   "id": "73614cd0",
   "metadata": {},
   "outputs": [],
   "source": [
    "plt.rcParams.update({'pdf.fonttype':42, 'font.family':'sans-serif', 'font.sans-serif':'Arial', 'font.size':14})"
   ]
  },
  {
   "cell_type": "code",
   "execution_count": null,
   "id": "23d5421c-7660-4cee-b5c6-810752b27ba7",
   "metadata": {},
   "outputs": [],
   "source": [
    "norm_method='mean'\n",
    "\n",
    "if norm_method=='median':\n",
    "    appendix = '_med'\n",
    "elif norm_method=='CP10k':\n",
    "    appendix = '_cp10k'\n",
    "else:\n",
    "    appendix = ''"
   ]
  },
  {
   "cell_type": "code",
   "execution_count": null,
   "id": "776b65d4",
   "metadata": {},
   "outputs": [],
   "source": [
    "base_storing_path = os.path.join(BASE_PATH_DATA, 'data_proportions')"
   ]
  },
  {
   "cell_type": "markdown",
   "id": "cd551b24",
   "metadata": {},
   "source": [
    "## ESCC"
   ]
  },
  {
   "cell_type": "code",
   "execution_count": null,
   "id": "49619b0d-7369-472a-96ae-5438ad53702b",
   "metadata": {},
   "outputs": [],
   "source": [
    "dataset='escc'\n",
    "\n",
    "adata = load_datasets(dataset, preprocessed=True, norm_method=norm_method)"
   ]
  },
  {
   "cell_type": "code",
   "execution_count": null,
   "id": "0c49a69d",
   "metadata": {},
   "outputs": [],
   "source": [
    "sample_counts = get_proportions(adata)\n",
    "sample_counts.head()"
   ]
  },
  {
   "cell_type": "code",
   "execution_count": null,
   "id": "5acdcb5b",
   "metadata": {},
   "outputs": [],
   "source": [
    "sample_counts.to_csv(os.path.join(base_storing_path, f'{dataset}_sample_cell_proportions.csv'))"
   ]
  },
  {
   "cell_type": "code",
   "execution_count": null,
   "id": "10885c58-fa6f-4d78-9c74-e1d5e427ff8a",
   "metadata": {},
   "outputs": [],
   "source": [
    "plot_pie(dataset, adata, base_storing_path)"
   ]
  },
  {
   "cell_type": "code",
   "execution_count": null,
   "id": "6e845bea-3961-4110-93bf-63c173239a3a",
   "metadata": {},
   "outputs": [],
   "source": [
    "plot_sid_pies(sample_counts)"
   ]
  },
  {
   "cell_type": "markdown",
   "id": "53d0fce7",
   "metadata": {},
   "source": [
    "## CRC"
   ]
  },
  {
   "cell_type": "code",
   "execution_count": null,
   "id": "4be989ab",
   "metadata": {},
   "outputs": [],
   "source": [
    "dataset='crc'\n",
    "\n",
    "adata = load_datasets(dataset, preprocessed=True, norm_method=norm_method)"
   ]
  },
  {
   "cell_type": "code",
   "execution_count": null,
   "id": "fcfe7c66",
   "metadata": {},
   "outputs": [],
   "source": [
    "sample_counts = get_proportions(adata)\n",
    "sample_counts.head()"
   ]
  },
  {
   "cell_type": "code",
   "execution_count": null,
   "id": "125f82e1",
   "metadata": {},
   "outputs": [],
   "source": [
    "sample_counts.to_csv(os.path.join(base_storing_path, f'{dataset}_sample_cell_proportions.csv'))"
   ]
  },
  {
   "cell_type": "code",
   "execution_count": null,
   "id": "e4916a12",
   "metadata": {},
   "outputs": [],
   "source": [
    "plot_pie(dataset, adata, base_storing_path)"
   ]
  },
  {
   "cell_type": "code",
   "execution_count": null,
   "id": "45a207b8",
   "metadata": {},
   "outputs": [],
   "source": [
    "plot_sid_pies(sample_counts)"
   ]
  },
  {
   "cell_type": "markdown",
   "id": "5aa51508",
   "metadata": {},
   "source": [
    "## LUAD"
   ]
  },
  {
   "cell_type": "code",
   "execution_count": null,
   "id": "7ca808a2",
   "metadata": {},
   "outputs": [],
   "source": [
    "dataset='luad'\n",
    "\n",
    "adata = load_datasets(dataset, preprocessed=True, norm_method=norm_method)"
   ]
  },
  {
   "cell_type": "code",
   "execution_count": null,
   "id": "b2e779ed",
   "metadata": {},
   "outputs": [],
   "source": [
    "sample_counts = get_proportions(adata)\n",
    "sample_counts.head()"
   ]
  },
  {
   "cell_type": "code",
   "execution_count": null,
   "id": "8b51c186",
   "metadata": {},
   "outputs": [],
   "source": [
    "sample_counts.to_csv(os.path.join(base_storing_path, f'{dataset}_sample_cell_proportions.csv'))"
   ]
  },
  {
   "cell_type": "code",
   "execution_count": null,
   "id": "cdb15ecb",
   "metadata": {},
   "outputs": [],
   "source": [
    "plot_pie(dataset, adata, base_storing_path)"
   ]
  },
  {
   "cell_type": "code",
   "execution_count": null,
   "id": "e06450a7",
   "metadata": {},
   "outputs": [],
   "source": [
    "plot_sid_pies(sample_counts, factor=0)"
   ]
  }
 ],
 "metadata": {
  "kernelspec": {
   "display_name": "Python 3 (ipykernel)",
   "language": "python",
   "name": "python3"
  },
  "language_info": {
   "codemirror_mode": {
    "name": "ipython",
    "version": 3
   },
   "file_extension": ".py",
   "mimetype": "text/x-python",
   "name": "python",
   "nbconvert_exporter": "python",
   "pygments_lexer": "ipython3",
   "version": "3.8.12"
  }
 },
 "nbformat": 4,
 "nbformat_minor": 5
}
