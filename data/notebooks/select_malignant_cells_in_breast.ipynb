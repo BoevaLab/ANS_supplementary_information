{
 "cells": [
  {
   "cell_type": "code",
   "execution_count": 1,
   "id": "0b2d9c97",
   "metadata": {
    "ExecuteTime": {
     "end_time": "2024-07-03T19:34:46.458389Z",
     "start_time": "2024-07-03T19:34:45.506798Z"
    }
   },
   "outputs": [],
   "source": [
    "import os\n",
    "import sys\n",
    "import scanpy as sc\n",
    "import pandas as pd\n",
    "sys.path.append('..')\n",
    "from constants import BASE_PATH_DATA"
   ]
  },
  {
   "cell_type": "code",
   "execution_count": 2,
   "id": "9b5342aa",
   "metadata": {
    "ExecuteTime": {
     "end_time": "2024-07-03T19:34:46.889256Z",
     "start_time": "2024-07-03T19:34:46.459528Z"
    }
   },
   "outputs": [],
   "source": [
    "adata = sc.read_h5ad(os.path.join(BASE_PATH_DATA, 'cansig_processed/breast_large.h5ad'))"
   ]
  },
  {
   "cell_type": "code",
   "execution_count": 3,
   "id": "c7ae9442",
   "metadata": {
    "ExecuteTime": {
     "end_time": "2024-07-03T19:34:46.893333Z",
     "start_time": "2024-07-03T19:34:46.890027Z"
    }
   },
   "outputs": [
    {
     "data": {
      "text/plain": [
       "AnnData object with n_obs × n_vars = 68961 × 14378\n",
       "    obs: 'Patient', 'Percent_mito', 'nCount_RNA', 'nFeature_RNA', 'celltype', 'celltype_minor', 'celltype_subset', 'subtype', 'gene_module', 'Calls', 'normal_cell_call', 'CNA_value', 'sample_id', 'n_counts', 'n_genes_by_counts', 'total_counts', 'total_counts_mt', 'pct_counts_mt', 'malignant_celltype', 'reference', 'malignant_cnv', 'malignant_key', 'subclonal', 'S_score', 'G2M_score', 'phase', 'Basal_SC_GT', 'Her2E_SC_GT', 'LumA_SC_GT', 'LumB_SC_GT', 'GM1_GT', 'GM2_GT', 'GM3_GT', 'GM4_GT', 'GM5_GT', 'GM6_GT', 'GM7_GT', 'log_counts'\n",
       "    var: 'mt', 'n_cells_by_counts', 'mean_counts', 'pct_dropout_by_counts', 'total_counts', 'n_cells', 'chromosome', 'start', 'end', 'cnv_called'\n",
       "    uns: 'cnv'\n",
       "    obsm: 'X_cnv'"
      ]
     },
     "execution_count": 3,
     "metadata": {},
     "output_type": "execute_result"
    }
   ],
   "source": [
    "adata"
   ]
  },
  {
   "cell_type": "code",
   "execution_count": 4,
   "id": "5cb9c74e",
   "metadata": {
    "ExecuteTime": {
     "end_time": "2024-07-03T19:34:46.897484Z",
     "start_time": "2024-07-03T19:34:46.894103Z"
    }
   },
   "outputs": [
    {
     "data": {
      "text/plain": [
       "CID3921     2698\n",
       "CID3941      497\n",
       "CID3948      928\n",
       "CID3963     3210\n",
       "CID4066     3880\n",
       "CID4067     2853\n",
       "CID4290A    4792\n",
       "CID4461      196\n",
       "CID4463      928\n",
       "CID4465      350\n",
       "CID4471     8327\n",
       "CID4495     6950\n",
       "CID4513     5317\n",
       "CID4515     3473\n",
       "CID4523     1336\n",
       "CID4530N    4066\n",
       "CID4535     3483\n",
       "CID44971    7485\n",
       "CID44991    6143\n",
       "CID45171    2049\n",
       "Name: sample_id, dtype: int64"
      ]
     },
     "execution_count": 4,
     "metadata": {},
     "output_type": "execute_result"
    }
   ],
   "source": [
    "adata.obs.sample_id.value_counts().sort_index()"
   ]
  },
  {
   "cell_type": "code",
   "execution_count": 5,
   "id": "6d4d807c",
   "metadata": {
    "ExecuteTime": {
     "end_time": "2024-07-03T19:34:47.100870Z",
     "start_time": "2024-07-03T19:34:47.097274Z"
    },
    "collapsed": false,
    "jupyter": {
     "outputs_hidden": false
    }
   },
   "outputs": [
    {
     "data": {
      "text/plain": [
       "malignant        22409\n",
       "non-malignant    46312\n",
       "undecided          240\n",
       "Name: malignant_key, dtype: int64"
      ]
     },
     "execution_count": 5,
     "metadata": {},
     "output_type": "execute_result"
    }
   ],
   "source": [
    "adata.obs.malignant_key.value_counts().sort_index()"
   ]
  },
  {
   "cell_type": "code",
   "execution_count": 6,
   "id": "73a06737",
   "metadata": {
    "ExecuteTime": {
     "end_time": "2024-07-03T19:34:52.694249Z",
     "start_time": "2024-07-03T19:34:52.519467Z"
    }
   },
   "outputs": [],
   "source": [
    "adata = adata[adata.obs.malignant_key == 'malignant'].copy()"
   ]
  },
  {
   "cell_type": "code",
   "execution_count": 7,
   "id": "93939ece",
   "metadata": {
    "ExecuteTime": {
     "end_time": "2024-07-03T19:34:53.479555Z",
     "start_time": "2024-07-03T19:34:53.475600Z"
    },
    "collapsed": false,
    "jupyter": {
     "outputs_hidden": false
    }
   },
   "outputs": [],
   "source": [
    "def create_pivot_table(data, index, column):\n",
    "    tmp = data.obs[[index, column]].value_counts().sort_index().reset_index()\n",
    "    tmp.columns = [index, column, 'count']\n",
    "    return pd.pivot(tmp,\n",
    "                    columns=column,\n",
    "                    index=index,\n",
    "                    values='count')"
   ]
  },
  {
   "cell_type": "code",
   "execution_count": 8,
   "id": "21a2e266",
   "metadata": {
    "ExecuteTime": {
     "end_time": "2024-07-03T19:34:54.087770Z",
     "start_time": "2024-07-03T19:34:54.078142Z"
    },
    "collapsed": false,
    "jupyter": {
     "outputs_hidden": false
    }
   },
   "outputs": [
    {
     "data": {
      "text/html": [
       "<div>\n",
       "<style scoped>\n",
       "    .dataframe tbody tr th:only-of-type {\n",
       "        vertical-align: middle;\n",
       "    }\n",
       "\n",
       "    .dataframe tbody tr th {\n",
       "        vertical-align: top;\n",
       "    }\n",
       "\n",
       "    .dataframe thead th {\n",
       "        text-align: right;\n",
       "    }\n",
       "</style>\n",
       "<table border=\"1\" class=\"dataframe\">\n",
       "  <thead>\n",
       "    <tr style=\"text-align: right;\">\n",
       "      <th>malignant_key</th>\n",
       "      <th>malignant</th>\n",
       "    </tr>\n",
       "    <tr>\n",
       "      <th>gene_module</th>\n",
       "      <th></th>\n",
       "    </tr>\n",
       "  </thead>\n",
       "  <tbody>\n",
       "    <tr>\n",
       "      <th>1</th>\n",
       "      <td>4195</td>\n",
       "    </tr>\n",
       "    <tr>\n",
       "      <th>2</th>\n",
       "      <td>3068</td>\n",
       "    </tr>\n",
       "    <tr>\n",
       "      <th>3</th>\n",
       "      <td>2377</td>\n",
       "    </tr>\n",
       "    <tr>\n",
       "      <th>4</th>\n",
       "      <td>3756</td>\n",
       "    </tr>\n",
       "    <tr>\n",
       "      <th>5</th>\n",
       "      <td>3662</td>\n",
       "    </tr>\n",
       "    <tr>\n",
       "      <th>6</th>\n",
       "      <td>2400</td>\n",
       "    </tr>\n",
       "    <tr>\n",
       "      <th>7</th>\n",
       "      <td>2951</td>\n",
       "    </tr>\n",
       "  </tbody>\n",
       "</table>\n",
       "</div>"
      ],
      "text/plain": [
       "malignant_key  malignant\n",
       "gene_module             \n",
       "1                   4195\n",
       "2                   3068\n",
       "3                   2377\n",
       "4                   3756\n",
       "5                   3662\n",
       "6                   2400\n",
       "7                   2951"
      ]
     },
     "execution_count": 8,
     "metadata": {},
     "output_type": "execute_result"
    }
   ],
   "source": [
    "create_pivot_table(adata,'gene_module', 'malignant_key')"
   ]
  },
  {
   "cell_type": "code",
   "execution_count": 9,
   "id": "37dfe68c",
   "metadata": {
    "ExecuteTime": {
     "end_time": "2024-07-03T19:34:55.177865Z",
     "start_time": "2024-07-03T19:34:55.166175Z"
    },
    "collapsed": false,
    "jupyter": {
     "outputs_hidden": false
    }
   },
   "outputs": [
    {
     "data": {
      "text/html": [
       "<div>\n",
       "<style scoped>\n",
       "    .dataframe tbody tr th:only-of-type {\n",
       "        vertical-align: middle;\n",
       "    }\n",
       "\n",
       "    .dataframe tbody tr th {\n",
       "        vertical-align: top;\n",
       "    }\n",
       "\n",
       "    .dataframe thead th {\n",
       "        text-align: right;\n",
       "    }\n",
       "</style>\n",
       "<table border=\"1\" class=\"dataframe\">\n",
       "  <thead>\n",
       "    <tr style=\"text-align: right;\">\n",
       "      <th>malignant_key</th>\n",
       "      <th>malignant</th>\n",
       "    </tr>\n",
       "    <tr>\n",
       "      <th>celltype</th>\n",
       "      <th></th>\n",
       "    </tr>\n",
       "  </thead>\n",
       "  <tbody>\n",
       "    <tr>\n",
       "      <th>Cancer Epithelial</th>\n",
       "      <td>22409</td>\n",
       "    </tr>\n",
       "  </tbody>\n",
       "</table>\n",
       "</div>"
      ],
      "text/plain": [
       "malignant_key      malignant\n",
       "celltype                    \n",
       "Cancer Epithelial      22409"
      ]
     },
     "execution_count": 9,
     "metadata": {},
     "output_type": "execute_result"
    }
   ],
   "source": [
    "create_pivot_table(adata,\n",
    "                   'celltype', \n",
    "                   'malignant_key').fillna(0)"
   ]
  },
  {
   "cell_type": "code",
   "execution_count": 14,
   "id": "673c5749",
   "metadata": {
    "ExecuteTime": {
     "end_time": "2024-05-30T07:58:34.554087Z",
     "start_time": "2024-05-30T07:58:34.265324Z"
    }
   },
   "outputs": [],
   "source": [
    "adata.write(os.path.join(BASE_PATH_DATA, 'cansig_processed/breast_malignant.h5ad'))"
   ]
  }
 ],
 "metadata": {
  "kernelspec": {
   "display_name": "Python 3 (ipykernel)",
   "language": "python",
   "name": "python3"
  },
  "language_info": {
   "codemirror_mode": {
    "name": "ipython",
    "version": 3
   },
   "file_extension": ".py",
   "mimetype": "text/x-python",
   "name": "python",
   "nbconvert_exporter": "python",
   "pygments_lexer": "ipython3",
   "version": "3.9.18"
  }
 },
 "nbformat": 4,
 "nbformat_minor": 5
}
