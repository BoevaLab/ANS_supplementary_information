{
 "cells": [
  {
   "cell_type": "code",
   "execution_count": null,
   "metadata": {},
   "outputs": [],
   "source": [
    "import os \n",
    "import sys\n",
    "import scanpy as sc\n",
    "\n",
    "sys.path.append('..')\n",
    "from constants  import BASE_PATH_DATA, BASE_PATH_EXPERIMENTS\n",
    "from preprocess_pbmc_helper import preprocess_dataset"
   ]
  },
  {
   "cell_type": "code",
   "execution_count": null,
   "metadata": {},
   "outputs": [],
   "source": [
    "plt.rcParams.update(\n",
    "    {\n",
    "        \"pdf.fonttype\": 42,\n",
    "        \"font.family\": \"sans-serif\",\n",
    "        \"font.sans-serif\": \"Arial\",\n",
    "        \"font.size\": 10,\n",
    "    }\n",
    ")"
   ]
  },
  {
   "cell_type": "code",
   "execution_count": null,
   "metadata": {},
   "outputs": [],
   "source": [
    "def load_pbmc_data():\n",
    "    fn_data = os.path.join(BASE_PATH_DATA, 'raw_data/pbmc_citeseq.h5ad')\n",
    "    adata = sc.read_h5ad(fn_data)\n",
    "\n",
    "    adata = adata.raw.to_adata()\n",
    "    adata.var_names = adata.var['_index']\n",
    "    adata.var_names.name = None\n",
    "    adata.var.columns = ['gene_names']\n",
    "\n",
    "    if 'mt' not in adata.var:\n",
    "        # get mitochondrial genes\n",
    "        adata.var[\"mt\"] = adata.var_names.str.startswith(\"MT-\")\n",
    "    if 'ribo' not in adata.var:         \n",
    "        # get ribosomal genes\n",
    "        adata.var[\"ribo\"] = adata.var_names.str.startswith((\"RPS\", \"RPL\"))\n",
    "    if 'hb' not in adata.var:\n",
    "        # get hemoglobin genes.\n",
    "        adata.var[\"hb\"] = adata.var_names.str.contains((\"^HB[^(P)]\"))\n",
    "\n",
    "    return adata"
   ]
  },
  {
   "cell_type": "code",
   "execution_count": null,
   "metadata": {},
   "outputs": [],
   "source": [
    "adata = load_pbmc_data()"
   ]
  },
  {
   "cell_type": "markdown",
   "metadata": {},
   "source": [
    "We first preprocess the entire dataset. Then we compute for each celltype.l3 the mean dispersion of the genes. "
   ]
  },
  {
   "cell_type": "code",
   "execution_count": null,
   "metadata": {},
   "outputs": [],
   "source": [
    "adata = preprocess_dataset(adata,\n",
    "                           params_cell_filtering=dict(mad_tot_cnt=5, \n",
    "                                                     mad_ngenes_cnt=5, \n",
    "                                                     nr_top_genes=20,\n",
    "                                                     mad_pct_cnt_top_genes=5,\n",
    "                                                     mad_pct_mt=5,\n",
    "                                                     min_pct_mt=9),\n",
    "                            show=True)"
   ]
  },
  {
   "cell_type": "code",
   "execution_count": null,
   "metadata": {},
   "outputs": [],
   "source": [
    "plt.rcParams.update(\n",
    "    {\n",
    "        \"pdf.fonttype\": 42,\n",
    "        \"font.family\": \"sans-serif\",\n",
    "        \"font.sans-serif\": \"Arial\",\n",
    "        \"font.size\": 10,\n",
    "    }\n",
    ")"
   ]
  },
  {
   "cell_type": "markdown",
   "metadata": {},
   "source": [
    "Compute UMAP and color celltype level 3 notaions. "
   ]
  },
  {
   "cell_type": "code",
   "execution_count": null,
   "metadata": {},
   "outputs": [],
   "source": [
    "sc.tl.pca(adata)\n",
    "sc.pp.neighbors(adata)\n",
    "sc.tl.umap(adata)\n",
    "\n",
    "fig = sc.pl.umap(\n",
    "    adata,\n",
    "    color=\"celltype.l3\",\n",
    "    legend_fontsize=10,\n",
    "    title=\"PBMC dataset with celltype level 3 annotaitions\",\n",
    "    return_fig=True,\n",
    ")\n",
    "fig.savefig(\n",
    "    os.path.join(BASE_PATH_EXPERIMENTS, \"control_genes_selection/mean_var_per_gene_scores/plots/umap_pbmc_data.pdf\"),\n",
    "    format=\"pdf\",\n",
    ")"
   ]
  },
  {
   "cell_type": "markdown",
   "metadata": {},
   "source": [
    "Look at the number of cells and compute for each subtype the dispersion of the data."
   ]
  },
  {
   "cell_type": "code",
   "execution_count": null,
   "metadata": {},
   "outputs": [],
   "source": [
    "from signaturescoring.utils.utils import get_mean_and_variance_gene_expression"
   ]
  },
  {
   "cell_type": "code",
   "execution_count": null,
   "metadata": {},
   "outputs": [],
   "source": [
    "import numpy as np\n",
    "import pandas as pd"
   ]
  },
  {
   "cell_type": "code",
   "execution_count": null,
   "metadata": {},
   "outputs": [],
   "source": [
    "tot_nr_cells = len(adata.obs)\n",
    "tot_nr_cells"
   ]
  },
  {
   "cell_type": "code",
   "execution_count": null,
   "metadata": {},
   "outputs": [],
   "source": [
    "cell_group_stats = []\n",
    "for group_name, group_data in adata.obs.groupby('celltype.l3'):\n",
    "    ratio_cells = len(group_data)/tot_nr_cells\n",
    "    if ratio_cells>=0.01:\n",
    "        df = get_mean_and_variance_gene_expression(adata[group_data.index,:])\n",
    "        dispersion = df['var'].divide(df['mean'])\n",
    "        \n",
    "        cell_group_stats.append({\n",
    "            'cell_group': group_name,\n",
    "            'nr_cells': len(group_data),\n",
    "            'ratio_cells': ratio_cells,\n",
    "            'mean_dispersion': np.nanmean(dispersion), \n",
    "            'max_dispersion': np.nanmean(dispersion),\n",
    "        })\n",
    "        \n",
    "        "
   ]
  },
  {
   "cell_type": "code",
   "execution_count": null,
   "metadata": {},
   "outputs": [],
   "source": [
    "cell_group_stats = pd.DataFrame(cell_group_stats).sort_values(by='mean_dispersion')"
   ]
  },
  {
   "cell_type": "code",
   "execution_count": null,
   "metadata": {},
   "outputs": [],
   "source": [
    "cell_group_stats['cell_group'].unique()"
   ]
  },
  {
   "cell_type": "markdown",
   "metadata": {},
   "source": [
    "See the preprocessing for three random subtypes"
   ]
  },
  {
   "cell_type": "code",
   "execution_count": null,
   "metadata": {},
   "outputs": [],
   "source": [
    "def load_and_preprocess_subtype(subtype, show=True):\n",
    "    # load dataset\n",
    "    adata = load_pbmc_data()\n",
    "    adata = adata[adata.obs['celltype.l3']==subtype,:].copy()\n",
    "\n",
    "    # preprocess dataset\n",
    "    adata = preprocess_dataset(adata,\n",
    "                                params_cell_filtering=dict(mad_tot_cnt=5, \n",
    "                                                            mad_ngenes_cnt=5, \n",
    "                                                            nr_top_genes=20,\n",
    "                                                            mad_pct_cnt_top_genes=5,\n",
    "                                                            mad_pct_mt=5,\n",
    "                                                            min_pct_mt=9),\n",
    "                                show=show\n",
    "                                )\n",
    "    \n",
    "    return adata"
   ]
  },
  {
   "cell_type": "code",
   "execution_count": null,
   "metadata": {},
   "outputs": [],
   "source": [
    "for subtype in ['CD8 TEM_1', 'MAIT', 'NK_2', 'Platelet']:\n",
    "    load_and_preprocess_subtype(subtype)"
   ]
  },
  {
   "cell_type": "code",
   "execution_count": null,
   "metadata": {},
   "outputs": [],
   "source": []
  }
 ],
 "metadata": {
  "kernelspec": {
   "display_name": "Python 3 (ipykernel)",
   "language": "python",
   "name": "python3"
  },
  "language_info": {
   "codemirror_mode": {
    "name": "ipython",
    "version": 3
   },
   "file_extension": ".py",
   "mimetype": "text/x-python",
   "name": "python",
   "nbconvert_exporter": "python",
   "pygments_lexer": "ipython3",
   "version": "3.8.12"
  }
 },
 "nbformat": 4,
 "nbformat_minor": 2
}
