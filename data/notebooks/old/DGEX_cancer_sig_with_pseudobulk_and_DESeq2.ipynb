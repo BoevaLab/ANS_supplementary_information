{
 "cells": [
  {
   "cell_type": "code",
   "execution_count": null,
   "id": "54f4a9b5",
   "metadata": {},
   "outputs": [],
   "source": [
    "import sys\n",
    "import scanpy as sc\n",
    "import decoupler as dc\n",
    "\n",
    "# Only needed for processing\n",
    "import numpy as np\n",
    "import pandas as pd\n",
    "\n",
    "sys.path.append('..')\n",
    "from load_data import load_datasets\n",
    "\n",
    "sc.settings.verbosity = 2"
   ]
  },
  {
   "cell_type": "code",
   "execution_count": null,
   "id": "bb1655ac",
   "metadata": {},
   "outputs": [],
   "source": [
    "norm_method = 'mean' # mean or CP10k"
   ]
  },
  {
   "cell_type": "code",
   "execution_count": null,
   "id": "4b069093",
   "metadata": {},
   "outputs": [],
   "source": [
    "adata = load_datasets('luad_xing', preprocessed=True, norm_method=norm_method)\n",
    "adata.uns['log1p']['base'] = None"
   ]
  },
  {
   "cell_type": "code",
   "execution_count": null,
   "id": "dd5b14e8",
   "metadata": {},
   "outputs": [],
   "source": [
    "adata.layers['normalized'] = adata.X.copy()"
   ]
  },
  {
   "cell_type": "code",
   "execution_count": null,
   "id": "d451ca5c",
   "metadata": {},
   "outputs": [],
   "source": [
    "adata.obs['condition'] = adata.obs['malignant_key'].astype(str).copy()\n",
    "adata.obs['condition'] = adata.obs['condition'].map({\n",
    "    'malignant':'B',\n",
    "    'non-malignant':'A',\n",
    "})\n",
    "adata.obs['condition'] = adata.obs['condition'].astype('category')\n",
    "adata.obs['condition']"
   ]
  },
  {
   "cell_type": "code",
   "execution_count": null,
   "id": "5ddf7d7e",
   "metadata": {
    "scrolled": true
   },
   "outputs": [],
   "source": [
    "# Identify highly variable genes\n",
    "sc.pp.highly_variable_genes(adata, batch_key='sample_id')\n",
    "\n",
    "# Generate PCA features\n",
    "sc.tl.pca(adata, svd_solver='arpack', use_highly_variable=True)\n",
    "\n",
    "# Compute distances in the PCA space, and find cell neighbors\n",
    "sc.pp.neighbors(adata)\n",
    "\n",
    "# Generate UMAP features\n",
    "sc.tl.umap(adata)\n",
    "\n",
    "# Visualize\n",
    "sc.pl.umap(adata, color=['condition','celltype'], frameon=False)"
   ]
  },
  {
   "cell_type": "code",
   "execution_count": null,
   "id": "1debedf5",
   "metadata": {},
   "outputs": [],
   "source": [
    "# Get pseudo-bulk profile\n",
    "pdata = dc.get_pseudobulk(adata,\n",
    "                          sample_col='sample_id',\n",
    "                          groups_col='condition',\n",
    "                          layer='counts',\n",
    "                          mode='sum',\n",
    "                          min_cells=10,\n",
    "                          min_counts=1000,\n",
    "                         )\n",
    "pdata"
   ]
  },
  {
   "cell_type": "code",
   "execution_count": null,
   "id": "b127ccb4",
   "metadata": {},
   "outputs": [],
   "source": [
    "dc.plot_psbulk_samples(pdata, groupby=['sample_id', 'condition'], figsize=(11, 3))"
   ]
  },
  {
   "cell_type": "code",
   "execution_count": null,
   "id": "745e9ea5",
   "metadata": {},
   "outputs": [],
   "source": [
    "dc.plot_filter_by_expr(pdata, group='condition')"
   ]
  },
  {
   "cell_type": "code",
   "execution_count": null,
   "id": "16864896",
   "metadata": {},
   "outputs": [],
   "source": [
    "# Obtain genes that pass the thresholds\n",
    "genes = dc.filter_by_expr(pdata, group='condition', min_count=10, min_total_count=30)\n",
    "\n",
    "print(len(genes))\n",
    "\n",
    "# Filter by these genes\n",
    "pdata = pdata[:, genes].copy()"
   ]
  },
  {
   "cell_type": "code",
   "execution_count": null,
   "id": "e1b15410",
   "metadata": {},
   "outputs": [],
   "source": [
    "dc.plot_filter_by_expr(pdata, group='condition')"
   ]
  },
  {
   "cell_type": "code",
   "execution_count": null,
   "id": "d81979a8",
   "metadata": {},
   "outputs": [],
   "source": [
    "# Import DESeq2\n",
    "from pydeseq2.dds import DeseqDataSet\n",
    "from pydeseq2.ds import DeseqStats"
   ]
  },
  {
   "cell_type": "code",
   "execution_count": null,
   "id": "06f97e5e",
   "metadata": {},
   "outputs": [],
   "source": [
    "# Build DESeq2 object\n",
    "dds = DeseqDataSet(\n",
    "    adata=pdata,\n",
    "    design_factors='condition',\n",
    "    refit_cooks=True,\n",
    "    n_cpus=8,\n",
    ")"
   ]
  },
  {
   "cell_type": "code",
   "execution_count": null,
   "id": "db345a29",
   "metadata": {},
   "outputs": [],
   "source": [
    "# Compute LFCs\n",
    "dds.deseq2()"
   ]
  },
  {
   "cell_type": "code",
   "execution_count": null,
   "id": "85fdfc56",
   "metadata": {},
   "outputs": [],
   "source": [
    "print(dds)"
   ]
  },
  {
   "cell_type": "code",
   "execution_count": null,
   "id": "9608aaf1",
   "metadata": {},
   "outputs": [],
   "source": [
    "#contrast=[\"malignant_key\",'malignant','non-malignant']\n",
    "stat_res = DeseqStats(dds, alpha=0.01, n_cpus=8, joblib_verbosity=1)"
   ]
  },
  {
   "cell_type": "code",
   "execution_count": null,
   "id": "00f89670",
   "metadata": {},
   "outputs": [],
   "source": [
    "# Compute Wald test\n",
    "stat_res.summary()"
   ]
  },
  {
   "cell_type": "code",
   "execution_count": null,
   "id": "ae276ce4",
   "metadata": {},
   "outputs": [],
   "source": [
    "stat_res.LFC"
   ]
  },
  {
   "cell_type": "code",
   "execution_count": null,
   "id": "10ab437c",
   "metadata": {},
   "outputs": [],
   "source": [
    "# Shrink LFCs\n",
    "stat_res.lfc_shrink(coeff='condition_B_vs_A')"
   ]
  },
  {
   "cell_type": "code",
   "execution_count": null,
   "id": "ba1b3f1f",
   "metadata": {},
   "outputs": [],
   "source": [
    "stat_res.shrunk_LFCs"
   ]
  },
  {
   "cell_type": "code",
   "execution_count": null,
   "id": "c67e71b2",
   "metadata": {},
   "outputs": [],
   "source": [
    "# Extract results\n",
    "results_df = stat_res.results_df"
   ]
  },
  {
   "cell_type": "code",
   "execution_count": null,
   "id": "ab08b78a",
   "metadata": {},
   "outputs": [],
   "source": [
    "dc.plot_volcano_df(results_df, x='log2FoldChange', y='padj', top=30)"
   ]
  },
  {
   "cell_type": "code",
   "execution_count": null,
   "id": "fd298843",
   "metadata": {},
   "outputs": [],
   "source": [
    "tmp = results_df[(results_df.padj<0.01)&(results_df.log2FoldChange>2)].sort_values(by=['padj','log2FoldChange'], ascending=[True,False])"
   ]
  },
  {
   "cell_type": "code",
   "execution_count": null,
   "id": "f047ae15",
   "metadata": {},
   "outputs": [],
   "source": [
    "tmp.loc['C19orf33']"
   ]
  },
  {
   "cell_type": "code",
   "execution_count": null,
   "id": "912b29d7",
   "metadata": {},
   "outputs": [],
   "source": [
    "tmp.loc['FOXA2']"
   ]
  },
  {
   "cell_type": "code",
   "execution_count": null,
   "id": "33c13b39",
   "metadata": {},
   "outputs": [],
   "source": [
    "tmp.reset_index(names='genes')[0:50]"
   ]
  },
  {
   "cell_type": "code",
   "execution_count": null,
   "id": "7763232f",
   "metadata": {},
   "outputs": [],
   "source": []
  }
 ],
 "metadata": {
  "kernelspec": {
   "display_name": "Python 3 (ipykernel)",
   "language": "python",
   "name": "python3"
  },
  "language_info": {
   "codemirror_mode": {
    "name": "ipython",
    "version": 3
   },
   "file_extension": ".py",
   "mimetype": "text/x-python",
   "name": "python",
   "nbconvert_exporter": "python",
   "pygments_lexer": "ipython3",
   "version": "3.8.12"
  }
 },
 "nbformat": 4,
 "nbformat_minor": 5
}
