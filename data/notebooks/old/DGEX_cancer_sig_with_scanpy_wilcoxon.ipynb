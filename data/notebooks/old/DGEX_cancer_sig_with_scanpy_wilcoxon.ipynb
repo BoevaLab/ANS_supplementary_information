{
 "cells": [
  {
   "cell_type": "markdown",
   "id": "098059ed",
   "metadata": {},
   "source": [
    "# Malignant cells signature creation for ESCC, CRC and LUAD\n",
    "The following notebook rhe signatures for malignant cells when distinguishing between malignant and non-malignant cells. We consider two approeaches:\n",
    "1. DGEX on all preprocessed samples together, with thresholds log2FC>2 and adjusted p-val<0.01\n",
    "2. DGEX on each samples individually, with thresholds log2FC>{2, 1} and adjusted p-val<{0.05, 0.01, 0.001} and selecting genes that appear in X% of the samples. (X in {75, 80, 85, 90, 95, 100}%)\n",
    "We make the distinction as all datasets contain imbalances in sample contributions (i.e., cell numbers contributing to the dataset). Selecting the signature as suggested in step 2 ensures an large enough overlap in signature genes"
   ]
  },
  {
   "cell_type": "code",
   "execution_count": null,
   "id": "abcdd306",
   "metadata": {},
   "outputs": [],
   "source": [
    "from IPython.display import display, HTML\n",
    "display(HTML(\"<style>.container { width:95% !important; }</style>\"))"
   ]
  },
  {
   "cell_type": "code",
   "execution_count": null,
   "id": "580fdd8a",
   "metadata": {},
   "outputs": [],
   "source": [
    "import os\n",
    "import sys\n",
    "import scanpy as sc\n",
    "import seaborn as sns\n",
    "import matplotlib.pyplot as plt\n",
    "from collections import Counter\n",
    "import numpy as np\n",
    "import pandas as pd\n",
    "import itertools\n",
    "\n",
    "sys.path.append('..')\n",
    "from load_data import load_datasets\n",
    "from constants import BASE_PATH_DGEX_CANCER"
   ]
  },
  {
   "cell_type": "code",
   "execution_count": null,
   "id": "60c0f6e6-b704-4f88-baef-4046b0029daa",
   "metadata": {},
   "outputs": [],
   "source": [
    "def get_dgex_genes(dataset, adata, logfc_min=2, pval_max=0.01, show_plot=True):\n",
    "    curr_adata = adata.copy()\n",
    "    sc.tl.rank_genes_groups(curr_adata, 'malignant_key', method='wilcoxon', key_added='wilcoxon', tie_correct=True)\n",
    "    # get all the genes and only select genes afterwards\n",
    "    wc = sc.get.rank_genes_groups_df(curr_adata, group='malignant', key='wilcoxon')\n",
    "    if show_plot:\n",
    "        plt.figure(figsize=(8,8))\n",
    "        g = sns.scatterplot(wc, x='scores', y='logfoldchanges')\n",
    "        g.set_title(f'{dataset.upper()} DGEX scores vs log2FC.')\n",
    "        g.axhline(y=2, c='r', ls=':')\n",
    "        plt.show()\n",
    "    gex_genes = wc[(wc.logfoldchanges>logfc_min) & (wc.pvals_adj<pval_max)]\n",
    "    gex_genes = gex_genes.sort_values(by='logfoldchanges', ascending=False).reset_index(drop=True)\n",
    "    return gex_genes\n",
    "\n",
    "\n",
    "def get_per_sample_dgex_genes(adata, dataset, logfc_min=1, pval_max=0.05,col_sid='sample_id'):\n",
    "    adatas = {}\n",
    "    for group in adata.obs.groupby(col_sid):\n",
    "        tmp = adata[group[1].index,].copy()\n",
    "        tmp_mal = tmp[tmp.obs.malignant_key == 'malignant'].copy()\n",
    "        tmp_non_mal = tmp[tmp.obs.malignant_key == 'non-malignant'].copy()\n",
    "\n",
    "        sc.pp.filter_genes(tmp_mal, min_cells=1)\n",
    "        sc.pp.filter_genes(tmp_non_mal, min_cells=1)\n",
    "        \n",
    "        adatas[group[0]] = sc.concat([tmp_mal, tmp_non_mal], join='inner', merge='same')\n",
    "        #adatas[group[0]] = adata[group[1].index,].copy()\n",
    "\n",
    "    list_dges = []\n",
    "    for sid, curr_adata in adatas.items():\n",
    "        curr_genes = get_dgex_genes(dataset, curr_adata, logfc_min, pval_max, show_plot=False)[['names', 'logfoldchanges']].copy()\n",
    "        curr_genes = curr_genes.set_index('names')\n",
    "        list_dges.append(curr_genes)\n",
    "        \n",
    "    return list_dges\n",
    "\n",
    "\n",
    "def get_genes_dgex_genes_in_pct_samples(list_dges, pct=0.90):\n",
    "    nr_samples = len(list_dges)\n",
    "    \n",
    "    logfc_per_sample_and_gene = pd.concat(list_dges, axis=1, join='outer')\n",
    "    \n",
    "    gene_occurence = (~logfc_per_sample_and_gene.isna()).sum(axis=1)/nr_samples >= pct\n",
    "    \n",
    "    logfc_per_sample_and_gene = logfc_per_sample_and_gene[gene_occurence]\n",
    "    \n",
    "    logfc_per_gene = pd.concat([logfc_per_sample_and_gene.mean(axis=1, skipna=True), logfc_per_sample_and_gene.median(axis=1, skipna=True)], axis=1 )\n",
    "    logfc_per_gene.columns=['mean_log2FC', 'median_log2FC']\n",
    "    logfc_per_gene = logfc_per_gene.reset_index()\n",
    "    return logfc_per_gene   "
   ]
  },
  {
   "cell_type": "markdown",
   "id": "be11ee8d",
   "metadata": {},
   "source": [
    "### Global variables "
   ]
  },
  {
   "cell_type": "code",
   "execution_count": null,
   "id": "00273bda",
   "metadata": {},
   "outputs": [],
   "source": [
    "## Dataset normalized with which shift logarithm method. \n",
    "norm_method='mean' # mean, median, CP10k\n",
    "\n",
    "## min log2FC and max adjustes p-val\n",
    "## > DGEX on all samples \n",
    "min_logfc_onall = 2 \n",
    "min_pval_onall = 0.01\n",
    "## > DGEX on each sample individually\n",
    "min_logfc_sep = 1 # 1, 2\n",
    "min_pval_sep = 0.005 # 0.05, 0.01, 0.005\n",
    "\n",
    "pctgs = [0.75, 0.8, 0.85, 0.9, 0.925,0.95, 0.975, 0.99, 1]"
   ]
  },
  {
   "cell_type": "code",
   "execution_count": null,
   "id": "0f9ff12e",
   "metadata": {},
   "outputs": [],
   "source": [
    "base_storing_path = BASE_PATH_DGEX_CANCER\n",
    "\n",
    "crc_storing_path_all = os.path.join(base_storing_path, 'crc', f'{norm_method}_norm', f'dgex_on_all_sid', f'min_log2fc_{min_logfc_onall}_pval_{min_pval_onall}', f'dgex_genes.csv')\n",
    "crc_storing_path_per_merged = os.path.join(base_storing_path, 'crc', f'{norm_method}_norm', f'dgex_on_each_sid', f'min_log2fc_{min_logfc_sep}_pval_{min_pval_sep}')\n",
    "\n",
    "escc_storing_path_all = os.path.join(base_storing_path, 'escc', f'{norm_method}_norm', f'dgex_on_all_sid', f'min_log2fc_{min_logfc_onall}_pval_{min_pval_onall}',f'dgex_genes.csv')\n",
    "escc_storing_path_per_merged = os.path.join(base_storing_path, 'escc', f'{norm_method}_norm', f'dgex_on_each_sid', f'min_log2fc_{min_logfc_sep}_pval_{min_pval_sep}')\n",
    "\n",
    "luad_storing_path_all = os.path.join(base_storing_path, 'luad', f'{norm_method}_norm', f'dgex_on_all_sid', f'min_log2fc_{min_logfc_onall}_pval_{min_pval_onall}',f'dgex_genes.csv')\n",
    "luad_storing_path_per_merged = os.path.join(base_storing_path, 'luad', f'{norm_method}_norm', f'dgex_on_each_sid', f'min_log2fc_{min_logfc_sep}_pval_{min_pval_sep}')"
   ]
  },
  {
   "cell_type": "code",
   "execution_count": null,
   "id": "52b6074f",
   "metadata": {},
   "outputs": [],
   "source": [
    "if not os.path.isdir(os.path.dirname(crc_storing_path_all)):\n",
    "    os.makedirs(os.path.dirname(crc_storing_path_all))\n",
    "    print(f'Created directory {os.path.dirname(crc_storing_path_all)}')\n",
    "if not os.path.isdir(crc_storing_path_per_merged):\n",
    "    os.makedirs(crc_storing_path_per_merged)\n",
    "    print(f'Created directory {crc_storing_path_per_merged}\\n')\n",
    "    \n",
    "if not os.path.isdir(os.path.dirname(escc_storing_path_all)):\n",
    "    os.makedirs(os.path.dirname(escc_storing_path_all))\n",
    "    print(f'Created directory {os.path.dirname(escc_storing_path_all)}')\n",
    "if not os.path.isdir(escc_storing_path_per_merged):\n",
    "    os.makedirs(escc_storing_path_per_merged)\n",
    "    print(f'Created directory {escc_storing_path_per_merged}\\n')\n",
    "    \n",
    "if not os.path.isdir(os.path.dirname(luad_storing_path_all)):\n",
    "    os.makedirs(os.path.dirname(luad_storing_path_all))\n",
    "    print(f'Created directory {os.path.dirname(luad_storing_path_all)}')\n",
    "if not os.path.isdir(luad_storing_path_per_merged):\n",
    "    os.makedirs(luad_storing_path_per_merged)\n",
    "    print(f'Created directory {luad_storing_path_per_merged}')"
   ]
  },
  {
   "cell_type": "markdown",
   "id": "95cc7a1d",
   "metadata": {},
   "source": [
    "### ESCC "
   ]
  },
  {
   "cell_type": "code",
   "execution_count": null,
   "id": "e96ae10f",
   "metadata": {},
   "outputs": [],
   "source": [
    "adata = load_datasets('escc', preprocessed=True, norm_method=norm_method)\n",
    "#adata = sc.read_h5ad(escc_path)\n",
    "adata.uns['log1p']['base'] = None"
   ]
  },
  {
   "cell_type": "code",
   "execution_count": null,
   "id": "eb8ea8e0",
   "metadata": {},
   "outputs": [],
   "source": [
    "sc.pp.calculate_qc_metrics(adata, qc_vars=[\"mt\"], inplace=True, layer='counts')"
   ]
  },
  {
   "cell_type": "code",
   "execution_count": null,
   "id": "ef1f7951-5267-4f72-9ad1-3dec3e2708bc",
   "metadata": {},
   "outputs": [],
   "source": [
    "%%time\n",
    "gex_genes = get_dgex_genes('escc', adata, logfc_min=min_logfc_onall, pval_max=min_pval_onall)"
   ]
  },
  {
   "cell_type": "code",
   "execution_count": null,
   "id": "4f4f7d30",
   "metadata": {},
   "outputs": [],
   "source": [
    "print(f'Storing DGEX genes  on all samples simultaneously to {escc_storing_path_all}')\n",
    "gex_genes.to_csv(escc_storing_path_all)"
   ]
  },
  {
   "cell_type": "code",
   "execution_count": null,
   "id": "598ace31-422f-4fcc-9dcd-cb8ce965a0bf",
   "metadata": {},
   "outputs": [],
   "source": [
    "## Do DGEX per sample and see if the sets are overlapping\n",
    "overall_dge = set(gex_genes.names.tolist())\n",
    "len(overall_dge)"
   ]
  },
  {
   "cell_type": "code",
   "execution_count": null,
   "id": "7a6802fa-0967-4082-a5ca-57a94ebf9c43",
   "metadata": {},
   "outputs": [],
   "source": [
    "list_dges = get_per_sample_dgex_genes(adata, 'escc', logfc_min=min_logfc_sep, pval_max=min_pval_sep)"
   ]
  },
  {
   "cell_type": "code",
   "execution_count": null,
   "id": "1b10bf9b-dcd8-4bbd-b69a-67fad546f8ab",
   "metadata": {},
   "outputs": [],
   "source": [
    "subsets = []\n",
    "outputs = []\n",
    "for i in pctgs:\n",
    "    tmp = get_genes_dgex_genes_in_pct_samples(list_dges, pct=i)\n",
    "    overlap_with_overall = len(overall_dge.intersection(tmp.names.tolist()))\n",
    "    to_print = f'For {round(i*100)}% of DGEX gene overlap over the samples we get {len(tmp)} genes.\\n{overlap_with_overall} ({round(overlap_with_overall/len(tmp)*100)}%) genes have also been found when doing DGEX over all samples.\\n'\n",
    "    print(to_print)\n",
    "    outputs.append(to_print)\n",
    "    curr_path = os.path.join(escc_storing_path_per_merged, f'dgex_genes_intersec_{int(round(i*100))}_psid.csv')\n",
    "    to_print = f'> Storing at {curr_path}\\n'\n",
    "    print(to_print)\n",
    "    outputs.append(to_print)\n",
    "    tmp.to_csv(curr_path)\n",
    "    subsets.append(tmp)\n",
    "with open(os.path.join(escc_storing_path_per_merged, 'percentages_overlap.txt'), 'w') as f:\n",
    "    f.writelines(outputs)"
   ]
  },
  {
   "cell_type": "markdown",
   "id": "424fa5bc",
   "metadata": {},
   "source": [
    "### CRC"
   ]
  },
  {
   "cell_type": "code",
   "execution_count": null,
   "id": "a51b985c",
   "metadata": {},
   "outputs": [],
   "source": [
    "adata = load_datasets('crc', preprocessed=True, norm_method=norm_method)\n",
    "adata.uns['log1p']['base'] = None"
   ]
  },
  {
   "cell_type": "code",
   "execution_count": null,
   "id": "7d612269",
   "metadata": {},
   "outputs": [],
   "source": [
    "sc.pp.calculate_qc_metrics(adata, qc_vars=[\"mt\"], inplace=True, layer='counts')"
   ]
  },
  {
   "cell_type": "code",
   "execution_count": null,
   "id": "63985d10-4486-4d2f-b7a7-5c23fb29d1f8",
   "metadata": {},
   "outputs": [],
   "source": [
    "%%time\n",
    "gex_genes = get_dgex_genes('crc', adata, logfc_min=min_logfc_onall, pval_max=min_pval_onall)"
   ]
  },
  {
   "cell_type": "code",
   "execution_count": null,
   "id": "3b7e66cd",
   "metadata": {},
   "outputs": [],
   "source": [
    "print(f'Storing DGEX genes  on all samples simultaneously to {crc_storing_path_all}')\n",
    "gex_genes.to_csv(crc_storing_path_all)"
   ]
  },
  {
   "cell_type": "code",
   "execution_count": null,
   "id": "b4758140",
   "metadata": {},
   "outputs": [],
   "source": [
    "## Do DGEX per sample and see if the sets are overlapping\n",
    "overall_dge = set(gex_genes.names.tolist())\n",
    "len(overall_dge)"
   ]
  },
  {
   "cell_type": "code",
   "execution_count": null,
   "id": "4dc8291e",
   "metadata": {},
   "outputs": [],
   "source": [
    "list_dges = get_per_sample_dgex_genes(adata, 'crc', logfc_min=min_logfc_sep, pval_max=min_pval_sep)"
   ]
  },
  {
   "cell_type": "code",
   "execution_count": null,
   "id": "6fb14837-74ed-45fc-8487-19b6db9ed199",
   "metadata": {},
   "outputs": [],
   "source": [
    "subsets = []\n",
    "outputs = []\n",
    "for i in pctgs:\n",
    "    tmp = get_genes_dgex_genes_in_pct_samples(list_dges, pct=i)\n",
    "    overlap_with_overall = len(overall_dge.intersection(tmp.names.tolist()))\n",
    "    to_print = f'For {round(i*100)}% of DGEX gene overlap over the samples we get {len(tmp)} genes.\\n{overlap_with_overall} ({round(overlap_with_overall/len(tmp)*100)}%) genes have also been found when doing DGEX over all samples.\\n'\n",
    "    print(to_print)\n",
    "    outputs.append(to_print)\n",
    "    curr_path = os.path.join(crc_storing_path_per_merged, f'dgex_genes_intersec_{int(round(i*100))}_psid.csv')\n",
    "    to_print = f'> Storing at {curr_path}\\n'\n",
    "    print(to_print)\n",
    "    outputs.append(to_print)\n",
    "    tmp.to_csv(curr_path)\n",
    "    subsets.append(tmp)\n",
    "with open(os.path.join(crc_storing_path_per_merged, 'percentages_overlap.txt'), 'w') as f:\n",
    "    f.writelines(outputs)"
   ]
  },
  {
   "cell_type": "markdown",
   "id": "2fcdcd73",
   "metadata": {},
   "source": [
    "### LUAD "
   ]
  },
  {
   "cell_type": "code",
   "execution_count": null,
   "id": "92a1aea7",
   "metadata": {},
   "outputs": [],
   "source": [
    "adata = load_datasets('luad', preprocessed=True, norm_method=norm_method)\n",
    "adata.uns['log1p']['base'] = None"
   ]
  },
  {
   "cell_type": "code",
   "execution_count": null,
   "id": "9308831f",
   "metadata": {},
   "outputs": [],
   "source": [
    "sc.pp.calculate_qc_metrics(adata, qc_vars=[\"mt\"], inplace=True, layer='counts')"
   ]
  },
  {
   "cell_type": "code",
   "execution_count": null,
   "id": "eb24f0c5-3cf1-4ebc-9474-7afccf84e0ab",
   "metadata": {},
   "outputs": [],
   "source": [
    "%%time\n",
    "gex_genes = get_dgex_genes('luad', adata, logfc_min=min_logfc_onall, pval_max=min_pval_onall)"
   ]
  },
  {
   "cell_type": "code",
   "execution_count": null,
   "id": "84fcc524",
   "metadata": {},
   "outputs": [],
   "source": [
    "print(f'Storing DGEX genes  on all samples simultaneously to {luad_storing_path_all}')\n",
    "gex_genes.to_csv(luad_storing_path_all)"
   ]
  },
  {
   "cell_type": "code",
   "execution_count": null,
   "id": "6b218c71",
   "metadata": {},
   "outputs": [],
   "source": [
    "## Do DGEX per sample and see if the sets are overlapping\n",
    "overall_dge = set(gex_genes.names.tolist())\n",
    "len(overall_dge)"
   ]
  },
  {
   "cell_type": "code",
   "execution_count": null,
   "id": "bfcb9c09",
   "metadata": {},
   "outputs": [],
   "source": [
    "list_dges = get_per_sample_dgex_genes(adata, 'luad', logfc_min=min_logfc_sep, pval_max=min_pval_sep)"
   ]
  },
  {
   "cell_type": "code",
   "execution_count": null,
   "id": "5ee178b0-3a0b-4a83-a3b9-7460286b346e",
   "metadata": {},
   "outputs": [],
   "source": [
    "subsets = []\n",
    "outputs = []\n",
    "for i in pctgs:\n",
    "    tmp = get_genes_dgex_genes_in_pct_samples(list_dges, pct=i)\n",
    "    overlap_with_overall = len(overall_dge.intersection(tmp.names.tolist()))\n",
    "    to_print = f'For {round(i*100)}% of DGEX gene overlap over the samples we get {len(tmp)} genes.\\n{overlap_with_overall} ({round(overlap_with_overall/len(tmp)*100)}%) genes have also been found when doing DGEX over all samples.\\n'\n",
    "    print(to_print)\n",
    "    outputs.append(to_print)\n",
    "    curr_path = os.path.join(luad_storing_path_per_merged, f'dgex_genes_intersec_{int(round(i*100))}_psid.csv')\n",
    "    to_print = f'> Storing at {curr_path}\\n'\n",
    "    print(to_print)\n",
    "    outputs.append(to_print)\n",
    "    tmp.to_csv(curr_path)\n",
    "    subsets.append(tmp)\n",
    "with open(os.path.join(luad_storing_path_per_merged, 'percentages_overlap.txt'), 'w') as f:\n",
    "    f.writelines(outputs)"
   ]
  },
  {
   "cell_type": "code",
   "execution_count": null,
   "id": "80bb64da",
   "metadata": {},
   "outputs": [],
   "source": [
    "raise ValueError()"
   ]
  },
  {
   "cell_type": "markdown",
   "id": "eea37ab2",
   "metadata": {},
   "source": [
    "## Compare number of found genes for different configuration when applying DGEX on each sample and requireing X% of sample overlap"
   ]
  },
  {
   "cell_type": "code",
   "execution_count": null,
   "id": "97a863da",
   "metadata": {},
   "outputs": [],
   "source": [
    "## Get counts per configuration\n",
    "norm_method='mean' # mean, median, CP10k\n",
    "\n",
    "## > DGEX on each sample individually\n",
    "min_logfc_sep = [1,2] # 1, 2\n",
    "min_pval_sep = [0.05, 0.01, 0.005]\n",
    "datasets = ['crc', 'escc', 'luad']\n",
    "\n",
    "pctgs = [0.75, 0.8, 0.85, 0.9, 0.925,0.95, 0.975, 0.99, 1]"
   ]
  },
  {
   "cell_type": "code",
   "execution_count": null,
   "id": "d0bc91ad",
   "metadata": {},
   "outputs": [],
   "source": [
    "values = []\n",
    "for ds in datasets:\n",
    "    for min_log2fc in min_logfc_sep:\n",
    "        for min_apval in min_pval_sep:\n",
    "            file_path = os.path.join(base_storing_path, ds, f'{norm_method}_norm', f'dgex_on_each_sid', f'min_log2fc_{min_log2fc}_pval_{min_apval}')\n",
    "            file_name = 'percentages_overlap.txt'\n",
    "            fn = os.path.join(file_path, file_name)\n",
    "            \n",
    "            with open(fn, 'r') as f:\n",
    "                for line1,line2 in itertools.zip_longest(*[f]*2):\n",
    "                    if line1.startswith('For '):\n",
    "                        sp_line1 = line1.split()\n",
    "                        sp_line2 = line2.split()\n",
    "\n",
    "                        overlap_pct = float(sp_line1[1][0:-1])/100\n",
    "                        found_genes = int(sp_line1[-2])\n",
    "\n",
    "                        overlap_onall = int(sp_line2[0])\n",
    "                        overlap_onall_pct = float(sp_line2[1][1:-2])/100\n",
    "                        values.append({\n",
    "                            'dataset': ds,\n",
    "                            'min_log2fc': min_log2fc,\n",
    "                            'max_adj_pval': min_apval,\n",
    "                            'pct_overlap_in_sid': overlap_pct,\n",
    "                            'nr_found_genes_DGEX': found_genes,\n",
    "                            'overlap_with_DGEX_onall':overlap_onall,\n",
    "                            'overlap_with_DGEX_onall_pct':overlap_onall_pct\n",
    "                        })"
   ]
  },
  {
   "cell_type": "code",
   "execution_count": null,
   "id": "c9ca413b",
   "metadata": {},
   "outputs": [],
   "source": [
    "result = pd.DataFrame(values)"
   ]
  },
  {
   "cell_type": "code",
   "execution_count": null,
   "id": "2b1c43ff",
   "metadata": {},
   "outputs": [],
   "source": [
    "pd.pivot_table(result, values='nr_found_genes_DGEX', index=['dataset', 'min_log2fc', 'max_adj_pval'],\n",
    "                       columns=['pct_overlap_in_sid'])"
   ]
  },
  {
   "cell_type": "code",
   "execution_count": null,
   "id": "202f126a",
   "metadata": {},
   "outputs": [],
   "source": [
    "plt.figure(figsize=(15,10))\n",
    "sns.heatmap(pd.pivot_table(result, values='overlap_with_DGEX_onall_pct', index=['dataset', 'min_log2fc', 'max_adj_pval'],\n",
    "                       columns=['pct_overlap_in_sid']), annot=True)"
   ]
  },
  {
   "cell_type": "code",
   "execution_count": null,
   "id": "3a6255e2",
   "metadata": {},
   "outputs": [],
   "source": []
  },
  {
   "cell_type": "code",
   "execution_count": null,
   "id": "4cec2814",
   "metadata": {},
   "outputs": [],
   "source": []
  }
 ],
 "metadata": {
  "kernelspec": {
   "display_name": "Python 3 (ipykernel)",
   "language": "python",
   "name": "python3"
  },
  "language_info": {
   "codemirror_mode": {
    "name": "ipython",
    "version": 3
   },
   "file_extension": ".py",
   "mimetype": "text/x-python",
   "name": "python",
   "nbconvert_exporter": "python",
   "pygments_lexer": "ipython3",
   "version": "3.8.12"
  }
 },
 "nbformat": 4,
 "nbformat_minor": 5
}
