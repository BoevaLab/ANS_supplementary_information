{
 "cells": [
  {
   "cell_type": "markdown",
   "id": "098059ed",
   "metadata": {},
   "source": [
    "# Malignant cells signature creation for LUAD XING\n",
    "The following notebook rhe signatures for malignant cells when distinguishing between malignant and non-malignant cells. We consider:\n",
    "1. DGEX on all preprocessed samples together, with thresholds log2FC>2 and adjusted p-val<0.01"
   ]
  },
  {
   "cell_type": "code",
   "execution_count": null,
   "id": "abcdd306",
   "metadata": {},
   "outputs": [],
   "source": [
    "from IPython.display import display, HTML\n",
    "display(HTML(\"<style>.container { width:95% !important; }</style>\"))"
   ]
  },
  {
   "cell_type": "code",
   "execution_count": null,
   "id": "580fdd8a",
   "metadata": {},
   "outputs": [],
   "source": [
    "import os\n",
    "import sys\n",
    "import scanpy as sc\n",
    "import seaborn as sns\n",
    "import matplotlib.pyplot as plt\n",
    "from collections import Counter\n",
    "import numpy as np\n",
    "import pandas as pd\n",
    "import itertools\n",
    "import warnings\n",
    "warnings.filterwarnings(\"ignore\")\n",
    "\n",
    "\n",
    "from signaturescoring import score_signature\n",
    "from signaturescoring.utils.utils import get_mean_and_variance_gene_expression\n",
    "from sklearn.metrics import roc_auc_score, precision_recall_curve, auc\n",
    "\n",
    "sys.path.append('..')\n",
    "sys.path.append('../..')\n",
    "from load_data import load_datasets\n",
    "from constants import BASE_PATH_DGEX_CANCER, CANCER_DATASETS, METHOD_WO_MEAN\n",
    "\n",
    "from experiments.experiment_utils import AttributeDict, get_malignant_signature, get_scoring_method_params\n",
    "\n",
    "sc.settings.verbosity = 2"
   ]
  },
  {
   "cell_type": "code",
   "execution_count": null,
   "id": "60c0f6e6-b704-4f88-baef-4046b0029daa",
   "metadata": {},
   "outputs": [],
   "source": [
    "def get_dgex_genes(dataset, adata, logfc_min=2, pval_max=0.01, show_plot=True):\n",
    "    curr_adata = adata.copy()\n",
    "    sc.tl.rank_genes_groups(curr_adata, 'malignant_key', method='wilcoxon', key_added='wilcoxon', tie_correct=True)\n",
    "    # get all the genes and only select genes afterwards\n",
    "    wc = sc.get.rank_genes_groups_df(curr_adata, group='malignant', key='wilcoxon')\n",
    "    if show_plot:\n",
    "        plt.figure(figsize=(8,8))\n",
    "        g = sns.scatterplot(wc, x='scores', y='logfoldchanges')\n",
    "        g.set_title(f'{dataset.upper()} DGEX scores vs log2FC.')\n",
    "        g.axhline(y=2, c='r', ls=':')\n",
    "        plt.show()\n",
    "        \n",
    "        plt.figure(figsize=(8,8))\n",
    "        g = sns.scatterplot(wc, x='logfoldchanges', y='pvals_adj')\n",
    "        g.set_title(f'{dataset.upper()} log2FC vs pvals_adj.')\n",
    "        g.axhline(y=2, c='r', ls=':')\n",
    "        plt.show()\n",
    "    gex_genes = wc[(wc.logfoldchanges>logfc_min) & (wc.pvals_adj<pval_max)]\n",
    "    gex_genes = gex_genes.sort_values(by=['pvals_adj', 'logfoldchanges'], ascending=[True, False]).reset_index(drop=True)\n",
    "    return gex_genes\n",
    "\n",
    "\n",
    "def get_per_sample_dgex_genes(adata, dataset, logfc_min=1, pval_max=0.05,col_sid='sample_id'):\n",
    "    adatas = {}\n",
    "    for group in adata.obs.groupby(col_sid):\n",
    "        tmp = adata[group[1].index,].copy()\n",
    "        tmp_mal = tmp[tmp.obs.malignant_key == 'malignant'].copy()\n",
    "        tmp_non_mal = tmp[tmp.obs.malignant_key == 'non-malignant'].copy()\n",
    "\n",
    "        sc.pp.filter_genes(tmp_mal, min_cells=1)\n",
    "        sc.pp.filter_genes(tmp_non_mal, min_cells=1)\n",
    "        \n",
    "        adatas[group[0]] = sc.concat([tmp_mal, tmp_non_mal], join='inner', merge='same')\n",
    "        #adatas[group[0]] = adata[group[1].index,].copy()\n",
    "\n",
    "    list_dges = []\n",
    "    for sid, curr_adata in adatas.items():\n",
    "        curr_genes = get_dgex_genes(dataset, curr_adata, logfc_min, pval_max, show_plot=False)[['names', 'logfoldchanges']].copy()\n",
    "        curr_genes = curr_genes.set_index('names')\n",
    "        list_dges.append(curr_genes)\n",
    "        \n",
    "    return list_dges\n",
    "\n",
    "\n",
    "def get_genes_dgex_genes_in_pct_samples(list_dges, pct=0.90):\n",
    "    nr_samples = len(list_dges)\n",
    "    \n",
    "    logfc_per_sample_and_gene = pd.concat(list_dges, axis=1, join='outer')\n",
    "    \n",
    "    gene_occurence = (~logfc_per_sample_and_gene.isna()).sum(axis=1)/nr_samples >= pct\n",
    "    \n",
    "    logfc_per_sample_and_gene = logfc_per_sample_and_gene[gene_occurence]\n",
    "    \n",
    "    logfc_per_gene = pd.concat([logfc_per_sample_and_gene.mean(axis=1, skipna=True), logfc_per_sample_and_gene.median(axis=1, skipna=True)], axis=1 )\n",
    "    logfc_per_gene.columns=['mean_log2FC', 'median_log2FC']\n",
    "    logfc_per_gene = logfc_per_gene.reset_index()\n",
    "    return logfc_per_gene   "
   ]
  },
  {
   "cell_type": "markdown",
   "id": "be11ee8d",
   "metadata": {},
   "source": [
    "### Global variables "
   ]
  },
  {
   "cell_type": "code",
   "execution_count": null,
   "id": "00273bda",
   "metadata": {},
   "outputs": [],
   "source": [
    "## Dataset normalized with which shift logarithm method. \n",
    "norm_method='CP10k' # mean, median, CP10k\n",
    "\n",
    "## min log2FC and max adjustes p-val\n",
    "## > DGEX on all samples \n",
    "min_logfc_onall = 2\n",
    "min_pval_onall = 0.01\n",
    "\n",
    "save = False"
   ]
  },
  {
   "cell_type": "code",
   "execution_count": null,
   "id": "8225551c",
   "metadata": {},
   "outputs": [],
   "source": [
    "dataset = 'luad_xing'\n",
    "assert dataset in CANCER_DATASETS"
   ]
  },
  {
   "cell_type": "code",
   "execution_count": null,
   "id": "0f9ff12e",
   "metadata": {},
   "outputs": [],
   "source": [
    "base_storing_path = BASE_PATH_DGEX_CANCER\n",
    "\n",
    "storing_path = os.path.join(base_storing_path, dataset, f'{norm_method}_norm', f'dgex_on_all_sid', f'min_log2fc_{min_logfc_onall}_pval_{min_pval_onall}', f'dgex_genes.csv')\n"
   ]
  },
  {
   "cell_type": "code",
   "execution_count": null,
   "id": "52b6074f",
   "metadata": {},
   "outputs": [],
   "source": [
    "if save and not os.path.isdir(os.path.dirname(storing_path)):\n",
    "    os.makedirs(os.path.dirname(storing_path))\n",
    "    print(f'Created directory {os.path.dirname(storing_path)}')"
   ]
  },
  {
   "cell_type": "code",
   "execution_count": null,
   "id": "e96ae10f",
   "metadata": {},
   "outputs": [],
   "source": [
    "adata = load_datasets(dataset, preprocessed=True, norm_method=norm_method)\n",
    "adata.uns['log1p']['base'] = None"
   ]
  },
  {
   "cell_type": "code",
   "execution_count": null,
   "id": "47682c82",
   "metadata": {},
   "outputs": [],
   "source": [
    "adata.obs.groupby('malignant_key').sample_id.value_counts().sort_index()"
   ]
  },
  {
   "cell_type": "code",
   "execution_count": null,
   "id": "6519d01a",
   "metadata": {},
   "outputs": [],
   "source": [
    "# adata = adata[adata.obs.sample_id.str.startswith('SSN')]"
   ]
  },
  {
   "cell_type": "code",
   "execution_count": null,
   "id": "eb8ea8e0",
   "metadata": {},
   "outputs": [],
   "source": [
    "sc.pp.calculate_qc_metrics(adata, qc_vars=[\"mt\"], inplace=True, layer='counts')"
   ]
  },
  {
   "cell_type": "code",
   "execution_count": null,
   "id": "ef1f7951-5267-4f72-9ad1-3dec3e2708bc",
   "metadata": {},
   "outputs": [],
   "source": [
    "%%time\n",
    "gex_genes = get_dgex_genes(dataset, adata, logfc_min=min_logfc_onall, pval_max=min_pval_onall)"
   ]
  },
  {
   "cell_type": "code",
   "execution_count": null,
   "id": "4f4f7d30",
   "metadata": {},
   "outputs": [],
   "source": [
    "if save:\n",
    "    print(f'Storing DGEX genes  on all samples simultaneously to {storing_path}')\n",
    "    gex_genes.to_csv(storing_path)"
   ]
  },
  {
   "cell_type": "code",
   "execution_count": null,
   "id": "598ace31-422f-4fcc-9dcd-cb8ce965a0bf",
   "metadata": {},
   "outputs": [],
   "source": [
    "## Do DGEX per sample and see if the sets are overlapping\n",
    "overall_dge = set(gex_genes.names.tolist())\n",
    "len(overall_dge)"
   ]
  },
  {
   "cell_type": "code",
   "execution_count": null,
   "id": "276f9f62",
   "metadata": {},
   "outputs": [],
   "source": [
    "gene_list = list(overall_dge)"
   ]
  },
  {
   "cell_type": "code",
   "execution_count": null,
   "id": "a65796d8",
   "metadata": {},
   "outputs": [],
   "source": [
    "def score_genes_and_evaluate(adata, gene_list, df_mean_var,sc_method_long, sc_method, scm_params, col_sid='sample_id'):\n",
    "    if sc_method in METHOD_WO_MEAN:\n",
    "        score_signature(\n",
    "            method=sc_method,\n",
    "            adata=adata,\n",
    "            gene_list=gene_list,\n",
    "            **scm_params\n",
    "        )\n",
    "    else:\n",
    "        score_signature(\n",
    "            method=sc_method,\n",
    "            adata=adata,\n",
    "            gene_list=gene_list,\n",
    "            df_mean_var=df_mean_var,\n",
    "            **scm_params\n",
    "        )\n",
    "    curr_scores = adata.obs[scm_params['score_name']].copy()\n",
    "    aucs = []\n",
    "    \n",
    "    \n",
    "    precision, recall, thresholds = precision_recall_curve(adata.obs.malignant_key, curr_scores, pos_label='malignant')\n",
    "    # calculate precision-recall AUC\n",
    "    res_auc = auc(recall, precision)\n",
    "    \n",
    "    aucs.append((len(gene_list),\n",
    "                 1 - roc_auc_score(adata.obs.malignant_key, curr_scores), \n",
    "                 res_auc))\n",
    "        \n",
    "    return pd.DataFrame(aucs, columns=['signature_length',f'AUCROC_{sc_method_long}', f'AUCPR_{sc_method_long}'])"
   ]
  },
  {
   "cell_type": "code",
   "execution_count": null,
   "id": "c43b763f",
   "metadata": {},
   "outputs": [],
   "source": [
    "scoring_methods = get_scoring_method_params(\"all\")\n",
    "scoring_methods"
   ]
  },
  {
   "cell_type": "code",
   "execution_count": null,
   "id": "5f13e61b",
   "metadata": {},
   "outputs": [],
   "source": [
    "sc.settings.verbosity = 0\n",
    "if dataset =='crc':\n",
    "    gene_lengths = range(1,21, 2)\n",
    "elif dataset == 'escc':\n",
    "    #gene_lengths = [100, 200, 300, 400, 500, 600, 670]\n",
    "    gene_lengths = range(1,21, 2)\n",
    "elif dataset == 'luad':\n",
    "    gene_lengths = [100, 150, 200, 250, 300, 350, 388]\n",
    "elif dataset == 'luad_xing':\n",
    "#     gene_lengths = [10, 20, 50, 100, 300, 464]\n",
    "    gene_lengths = np.logspace(0,np.log2(len(overall_dge)),num=11,base=2,dtype='int')\n",
    "elif dataset == 'melanoma':\n",
    "    gene_lengths = [100, 150, 200, 250, 300, 350, 388]\n",
    "    gene_lengths = np.logspace(0,np.log2(len(overall_dge)),num=11,base=2,dtype='int')\n",
    "else:\n",
    "    gene_lengths = range(1,21, 2)\n",
    "\n",
    "for sc_method_long, (sc_method, scm_params) in scoring_methods.items():\n",
    "    res = []\n",
    "    for i in gene_lengths:\n",
    "        res.append(score_genes_and_evaluate(adata, gene_list[0:i], None, sc_method_long, sc_method, scm_params))\n",
    "    results = pd.concat(res, axis=0)\n",
    "    display(round(results,3))"
   ]
  },
  {
   "cell_type": "code",
   "execution_count": null,
   "id": "cf19cc6c",
   "metadata": {},
   "outputs": [],
   "source": []
  }
 ],
 "metadata": {
  "kernelspec": {
   "display_name": "Python 3 (ipykernel)",
   "language": "python",
   "name": "python3"
  },
  "language_info": {
   "codemirror_mode": {
    "name": "ipython",
    "version": 3
   },
   "file_extension": ".py",
   "mimetype": "text/x-python",
   "name": "python",
   "nbconvert_exporter": "python",
   "pygments_lexer": "ipython3",
   "version": "3.8.12"
  }
 },
 "nbformat": 4,
 "nbformat_minor": 5
}
