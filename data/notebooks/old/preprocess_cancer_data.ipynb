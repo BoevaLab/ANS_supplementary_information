{
 "cells": [
  {
   "cell_type": "markdown",
   "id": "7213d458",
   "metadata": {},
   "source": [
    "# Notebook to preprocess used datasets (ESCC, CRC, breast, LUAD)"
   ]
  },
  {
   "cell_type": "code",
   "execution_count": null,
   "id": "cd8682fc",
   "metadata": {},
   "outputs": [],
   "source": [
    "import os\n",
    "import sys\n",
    "import scanpy as sc\n",
    "import numpy as np\n",
    "import pandas as pd\n",
    "from tqdm import tqdm\n",
    "sys.append('..')\n",
    "from constants import BASE_PATH_DATA\n",
    "\n",
    "sc.settings.verbosity = 0             # verbosity: errors (0), warnings (1), info (2), hints (3)\n"
   ]
  },
  {
   "cell_type": "code",
   "execution_count": null,
   "id": "e90fbe31",
   "metadata": {},
   "outputs": [],
   "source": [
    "from scipy.sparse import diags\n",
    "\n",
    "def shifted_transformation(adata, y0=1):\n",
    "    \"\"\"\n",
    "    From Twitter post https://twitter.com/Sanbomics/status/1647654042749874177?s=20\n",
    "    Refering to publication by Ahlmann-Eltze & Huber.\n",
    "    \n",
    "    Ahlmann-Eltze, C., Huber, W. Comparison of transformations for single-cell RNA-seq data. \n",
    "    Nat Methods (2023). https://doi.org/10.1038/s41592-023-01814-1\n",
    "    \"\"\"\n",
    "    target_sum = np.mean(adata.X.sum(axis=1))\n",
    "    print(f'Mean shift logarithm normalization with normalization target count {target_sum}')\n",
    "    size_factors = adata.X.sum(axis=1) / target_sum\n",
    "    \n",
    "    adata.X = diags(1 / size_factors.A1).dot(adata.X)\n",
    "    adata.X.data = np.log(adata.X.data + y0)\n",
    "    adata.uns[\"log1p\"] = {\"base\": None}\n",
    "    \n",
    "    return adata"
   ]
  },
  {
   "cell_type": "code",
   "execution_count": null,
   "id": "e0e262bf",
   "metadata": {},
   "outputs": [],
   "source": [
    "def filtergenes(adata, pct=0.01):\n",
    "    # remove genes that are not present in at least 1% of all cells\n",
    "    nr_cells, nr_genes = adata.shape    \n",
    "    gene_expr_in_cells_cnts = adata.X.getnnz(axis=0)\n",
    "    enough_genes  = gene_expr_in_cells_cnts - nr_cells * pct\n",
    "    print(f'Filtering {np.sum(enough_genes < 0)} of {nr_genes} genes'\n",
    "          f'({np.round((np.sum(enough_genes < 0))/nr_genes *100,decimals=2)}%).')\n",
    "    adata = adata[:, enough_genes >= 0].copy()\n",
    "    return adata"
   ]
  },
  {
   "cell_type": "code",
   "execution_count": null,
   "id": "8d5ceeaf",
   "metadata": {},
   "outputs": [],
   "source": [
    "def preprocess_data(adata, filter_genes=True, shift_method='mean'):\n",
    "    if filter_genes:\n",
    "        # Since we removed cells we need to refilter the genes, as they are filtered based on the\n",
    "        # percentage of available cells in the data\n",
    "        adata = filtergenes(adata)\n",
    "\n",
    "    if shift_method == 'median':\n",
    "        sc.pp.normalize_total(adata)\n",
    "        sc.pp.log1p(adata)\n",
    "        adata.uns['log1p']['base'] = None\n",
    "    elif shift_method == 'mean':\n",
    "        adata = shifted_transformation(adata)\n",
    "    elif shift_method == 'CP10k':\n",
    "        sc.pp.normalize_total(adata, target_sum=1e4)\n",
    "        sc.pp.log1p(adata)\n",
    "        adata.uns['log1p']['base'] = None\n",
    "    else:\n",
    "        raise ValueError('Unknown shift transformation method! Can choose between mean, median, CP10k.')\n",
    "\n",
    "    return adata"
   ]
  },
  {
   "cell_type": "code",
   "execution_count": null,
   "id": "e912af53",
   "metadata": {},
   "outputs": [],
   "source": [
    "def preprocess_dataset(adata, filter_genes=True, shift_method='mean', sample_based=False, sample_col='sample_id'):\n",
    "    # print input configuration\n",
    "    print(f'filter_genes={filter_genes}, shift_method={shift_method}, sample_based={sample_based}')\n",
    "    # remove cells that were undecided in malignancy from CanSig pipeline\n",
    "    adata = adata[adata.obs.malignant_key !='undecided',:].copy()\n",
    "    adata.obs.malignant_key = adata.obs.malignant_key.astype('category')\n",
    "    \n",
    "    adata.layers[\"counts\"] = adata.X\n",
    "    \n",
    "    if sample_based:\n",
    "        adatas = {}\n",
    "        for group in adata.obs.groupby(sample_col):\n",
    "            adatas[group[0]] = adata[group[1].index,].copy()\n",
    "        del adata\n",
    "        for key, curr_adata in adatas.items():\n",
    "            adatas[key] = preprocess_data(curr_adata, filter_genes, shift_method)\n",
    "        \n",
    "        adata = sc.concat(list(adatas.values()), join='outer', merge='first')\n",
    "        del adatas   \n",
    "    else:\n",
    "        adata = preprocess_data(adata, filter_genes, shift_method)\n",
    "    \n",
    "    adata.var.mt = adata.var.mt.astype(bool)\n",
    "    adata.var.cnv_called = adata.var.cnv_called.astype(bool)\n",
    "    \n",
    "    return adata"
   ]
  },
  {
   "cell_type": "markdown",
   "id": "a89a7290",
   "metadata": {},
   "source": [
    "### Global variables"
   ]
  },
  {
   "cell_type": "code",
   "execution_count": null,
   "id": "7fd4aa0d",
   "metadata": {},
   "outputs": [],
   "source": [
    "norm_method='CP10k' # alternatives '' for mean and 'median' for median \n",
    "sample_based=True # alternatives False for computation on entire dataset \n",
    "\n",
    "if norm_method=='median':\n",
    "    appendix = '_med_per_sid' if sample_based else '_med'\n",
    "elif norm_method=='CP10k':\n",
    "    appendix = '_cp10k_per_sid' if sample_based else '_cp10k'\n",
    "else:\n",
    "    appendix = '_per_sid' if sample_based else ''\n",
    "    \n",
    "print(appendix)"
   ]
  },
  {
   "cell_type": "markdown",
   "id": "4f43f1d2",
   "metadata": {},
   "source": [
    "##  ESCC\n",
    "The esophageal dataset published by Zhang et al. [1] was first preprocessed with the CanSig pipeline [2]. We further filter genes (a gene needs to be expressed in at least 1% of the cells) and normalize the data with the shifted logarithm as described by Ahlmann-Eltze and Huber [3] and implemented in this post [4].   \n",
    "\n",
    "\n",
    "[1] Zhang, X., Peng, L., Luo, Y. et al. Dissecting esophageal squamous-cell carcinoma ecosystem by single-cell transcriptomic analysis. Nat Commun 12, 5291 (2021). https://doi.org/10.1038/s41467-021-25539-x\n",
    "\n",
    "[2] CanSig: Discovering de novo shared transcriptional programs in single cancer cells\n",
    "Josephine Yates, Florian Barkmann, Paweł Czyż, Marc Glettig, Frederieke Lohmann, Richard von der Horst, Elia Saquand, Nicolas Volken, Agnieszka Kraft, Valentina Boeva, bioRxiv 2022.04.14.488324; doi: https://doi.org/10.1101/2022.04.14.488324 \n",
    "\n",
    "[3] Ahlmann-Eltze, C., Huber, W. Comparison of transformations for single-cell RNA-seq data. Nat Methods (2023). https://doi.org/10.1038/s41592-023-01814-1\n",
    "\n",
    "[4] https://twitter.com/Sanbomics/status/1647654042749874177?s=20"
   ]
  },
  {
   "cell_type": "code",
   "execution_count": null,
   "id": "5197bc0b",
   "metadata": {},
   "outputs": [],
   "source": [
    "fn_escc = os.path.join(BASE_PATH_DATA, 'cansig_processed/escc.h5ad')\n",
    "output_escc = os.path.join(BASE_PATH_DATA, f'preprocessed/pp_escc{appendix}.h5ad')\n",
    "output_escc"
   ]
  },
  {
   "cell_type": "code",
   "execution_count": null,
   "id": "6b14d860",
   "metadata": {},
   "outputs": [],
   "source": [
    "escc_adata = sc.read_h5ad(fn_escc)"
   ]
  },
  {
   "cell_type": "code",
   "execution_count": null,
   "id": "d1027503",
   "metadata": {},
   "outputs": [],
   "source": [
    "escc_adata.obs.malignant_key.value_counts()"
   ]
  },
  {
   "cell_type": "code",
   "execution_count": null,
   "id": "d9db5ecf-3ffa-4e40-b20f-74c292b2de88",
   "metadata": {},
   "outputs": [],
   "source": [
    "escc_adata"
   ]
  },
  {
   "cell_type": "code",
   "execution_count": null,
   "id": "28e29ec2",
   "metadata": {},
   "outputs": [],
   "source": [
    "escc_adata = preprocess_dataset(escc_adata, shift_method=norm_method, sample_based=sample_based)"
   ]
  },
  {
   "cell_type": "code",
   "execution_count": null,
   "id": "a2831c64",
   "metadata": {},
   "outputs": [],
   "source": [
    "escc_adata.write(output_escc)"
   ]
  },
  {
   "cell_type": "code",
   "execution_count": null,
   "id": "b02bdac7",
   "metadata": {},
   "outputs": [],
   "source": [
    "del escc_adata, fn_escc, output_escc"
   ]
  },
  {
   "cell_type": "markdown",
   "id": "fb31f3ed",
   "metadata": {},
   "source": [
    "##  CRC\n",
    "The colorectal cancer dataset published by Pelka et al. [1] was first preprocessed with the CanSig pipeline [2]. We further genes (a gene needs to be expressed in at least 1% of the cells) and normalize the data with the shifted logarithm as described by Ahlmann-Eltze and Huber [3] and implemented in this post [4].  \n",
    "\n",
    "\n",
    "[1] Karin Pelka, Matan Hofree, Jonathan H. Chen, Siranush Sarkizova, Joshua D. Pirl, Vjola Jorgji, Alborz Bejnood, Danielle Dionne, William H. Ge, Katherine H. Xu, Sherry X. Chao, Daniel R. Zollinger, David J. Lieb, Jason W. Reeves, Christopher A. Fuhrman, Margaret L. Hoang, Toni Delorey, Lan T. Nguyen, Julia Waldman, Max Klapholz, Isaac Wakiro, Ofir Cohen, Julian Albers, Christopher S. Smillie, Michael S. Cuoco, Jingyi Wu, Mei-ju Su, Jason Yeung, Brinda Vijaykumar, Angela M. Magnuson, Natasha Asinovski, Tabea Moll, Max N. Goder-Reiser, Anise S. Applebaum, Lauren K. Brais, Laura K. DelloStritto, Sarah L. Denning, Susannah T. Phillips, Emma K. Hill, Julia K. Meehan, Dennie T. Frederick, Tatyana Sharova, Abhay Kanodia, Ellen Z. Todres, Judit Jané-Valbuena, Moshe Biton, Benjamin Izar, Conner D. Lambden, Thomas E. Clancy, Ronald Bleday, Nelya Melnitchouk, Jennifer Irani, Hiroko Kunitake, David L. Berger, Amitabh Srivastava, Jason L. Hornick, Shuji Ogino, Asaf Rotem, Sébastien Vigneau, Bruce E. Johnson, Ryan B. Corcoran, Arlene H. Sharpe, Vijay K. Kuchroo, Kimmie Ng, Marios Giannakis, Linda T. Nieman, Genevieve M. Boland, Andrew J. Aguirre, Ana C. Anderson, Orit Rozenblatt-Rosen, Aviv Regev, Nir Hacohen,\n",
    "Spatially organized multicellular immune hubs in human colorectal cancer, Cell, Volume 184, Issue 18, 2021, Pages 4734-4752.e20, ISSN 0092-8674, https://doi.org/10.1016/j.cell.2021.08.003 (https://www.sciencedirect.com/science/article/pii/S0092867421009454)\n",
    "\n",
    "[2] CanSig: Discovering de novo shared transcriptional programs in single cancer cells\n",
    "Josephine Yates, Florian Barkmann, Paweł Czyż, Marc Glettig, Frederieke Lohmann, Richard von der Horst, Elia Saquand, Nicolas Volken, Agnieszka Kraft, Valentina Boeva, bioRxiv 2022.04.14.488324; doi: https://doi.org/10.1101/2022.04.14.488324 \n",
    "\n",
    "[3] Ahlmann-Eltze, C., Huber, W. Comparison of transformations for single-cell RNA-seq data. Nat Methods (2023). https://doi.org/10.1038/s41592-023-01814-1\n",
    "\n",
    "[4] https://twitter.com/Sanbomics/status/1647654042749874177?s=20"
   ]
  },
  {
   "cell_type": "code",
   "execution_count": null,
   "id": "8e9c0623",
   "metadata": {},
   "outputs": [],
   "source": [
    "fn_crc = os.path.join(BASE_PATH_DATA, 'cansig_processed/crc.h5ad')\n",
    "output_crc = os.path.join(BASE_PATH_DATA, f'preprocessed/pp_crc{appendix}.h5ad')"
   ]
  },
  {
   "cell_type": "code",
   "execution_count": null,
   "id": "7274b03b",
   "metadata": {},
   "outputs": [],
   "source": [
    "crc_adata = sc.read_h5ad(fn_crc)"
   ]
  },
  {
   "cell_type": "code",
   "execution_count": null,
   "id": "c53b9d4a",
   "metadata": {},
   "outputs": [],
   "source": [
    "crc_adata.obs.malignant_key.value_counts()"
   ]
  },
  {
   "cell_type": "code",
   "execution_count": null,
   "id": "417da90e",
   "metadata": {},
   "outputs": [],
   "source": [
    "crc_adata = preprocess_dataset(crc_adata, shift_method=norm_method, sample_based=sample_based)"
   ]
  },
  {
   "cell_type": "code",
   "execution_count": null,
   "id": "026a2e5b",
   "metadata": {},
   "outputs": [],
   "source": [
    "crc_adata.write(output_crc)"
   ]
  },
  {
   "cell_type": "code",
   "execution_count": null,
   "id": "41b96de6",
   "metadata": {},
   "outputs": [],
   "source": [
    "del crc_adata, fn_crc, output_crc"
   ]
  },
  {
   "cell_type": "markdown",
   "id": "cf96ed59",
   "metadata": {},
   "source": [
    "##  Breast cancer\n",
    "The breast cancer dataset published by Wu et al. [1] was first preprocessed with the CanSig pipeline [2]. We further genes (a gene needs to be expressed in at least 1% of the cells) and normalize the data with the shifted logarithm as described by Ahlmann-Eltze and Huber [3] and implemented in this post [4].   \n",
    "\n",
    "\n",
    "[1] Wu, S.Z., Al-Eryani, G., Roden, D.L. et al. A single-cell and spatially resolved atlas of human breast cancers. Nat Genet 53, 1334–1347 (2021). https://doi.org/10.1038/s41588-021-00911-1\n",
    "\n",
    "[2] CanSig: Discovering de novo shared transcriptional programs in single cancer cells\n",
    "Josephine Yates, Florian Barkmann, Paweł Czyż, Marc Glettig, Frederieke Lohmann, Richard von der Horst, Elia Saquand, Nicolas Volken, Agnieszka Kraft, Valentina Boeva, bioRxiv 2022.04.14.488324; doi: https://doi.org/10.1101/2022.04.14.488324 \n",
    "\n",
    "[3] Ahlmann-Eltze, C., Huber, W. Comparison of transformations for single-cell RNA-seq data. Nat Methods (2023). https://doi.org/10.1038/s41592-023-01814-1\n",
    "\n",
    "[4] https://twitter.com/Sanbomics/status/1647654042749874177?s=20"
   ]
  },
  {
   "cell_type": "code",
   "execution_count": null,
   "id": "452f65a5",
   "metadata": {},
   "outputs": [],
   "source": [
    "fn_breast = os.path.join(BASE_PATH_DATA, 'cansig_processed/breast.h5ad')\n",
    "output_breast = os.path.join(BASE_PATH_DATA, f'preprocessed/pp_breast{appendix}.h5ad')"
   ]
  },
  {
   "cell_type": "code",
   "execution_count": null,
   "id": "a001e657",
   "metadata": {},
   "outputs": [],
   "source": [
    "breast_adata = sc.read_h5ad(fn_breast)"
   ]
  },
  {
   "cell_type": "code",
   "execution_count": null,
   "id": "38045fc9",
   "metadata": {},
   "outputs": [],
   "source": [
    "breast_adata.obs.malignant_key.value_counts()"
   ]
  },
  {
   "cell_type": "code",
   "execution_count": null,
   "id": "fcf28b7d",
   "metadata": {},
   "outputs": [],
   "source": [
    "breast_adata = preprocess_dataset(breast_adata, shift_method=norm_method, sample_based=sample_based)"
   ]
  },
  {
   "cell_type": "code",
   "execution_count": null,
   "id": "76d8bb81",
   "metadata": {},
   "outputs": [],
   "source": [
    "breast_adata.write(output_breast)"
   ]
  },
  {
   "cell_type": "code",
   "execution_count": null,
   "id": "8376be34",
   "metadata": {},
   "outputs": [],
   "source": [
    "del breast_adata, fn_breast, output_breast"
   ]
  },
  {
   "cell_type": "markdown",
   "id": "fb4c94fe",
   "metadata": {},
   "source": [
    "##  LUAD\n",
    "The lung adenocarcinoma dataset published by Kim et al. [1] was first preprocessed with the CanSig pipeline [2]. We further genes (a gene needs to be expressed in at least 1% of the cells) and normalize the data with the shifted logarithm as described by Ahlmann-Eltze and Huber [3] and implemented in this post [4].   \n",
    "\n",
    "\n",
    "[1] Kim, N., Kim, H.K., Lee, K. et al. Single-cell RNA sequencing demonstrates the molecular and cellular reprogramming of metastatic lung adenocarcinoma. Nat Commun 11, 2285 (2020). https://doi.org/10.1038/s41467-020-16164-1\n",
    "\n",
    "[2] CanSig: Discovering de novo shared transcriptional programs in single cancer cells\n",
    "Josephine Yates, Florian Barkmann, Paweł Czyż, Marc Glettig, Frederieke Lohmann, Richard von der Horst, Elia Saquand, Nicolas Volken, Agnieszka Kraft, Valentina Boeva, bioRxiv 2022.04.14.488324; doi: https://doi.org/10.1101/2022.04.14.488324 \n",
    "\n",
    "[3] Ahlmann-Eltze, C., Huber, W. Comparison of transformations for single-cell RNA-seq data. Nat Methods (2023). https://doi.org/10.1038/s41592-023-01814-1\n",
    "\n",
    "[4] https://twitter.com/Sanbomics/status/1647654042749874177?s=20"
   ]
  },
  {
   "cell_type": "code",
   "execution_count": null,
   "id": "60da207c",
   "metadata": {},
   "outputs": [],
   "source": [
    "fn_luad = os.path.join(BASE_PATH_DATA, 'cansig_processed/luad.h5ad')\n",
    "output_luad = os.path.join(BASE_PATH_DATA, f'preprocessed/pp_luad{appendix}.h5ad')"
   ]
  },
  {
   "cell_type": "code",
   "execution_count": null,
   "id": "5070e96e",
   "metadata": {},
   "outputs": [],
   "source": [
    "luad_adata = sc.read_h5ad(fn_luad)"
   ]
  },
  {
   "cell_type": "code",
   "execution_count": null,
   "id": "d88c41f2",
   "metadata": {},
   "outputs": [],
   "source": [
    "luad_adata.obs.malignant_key.value_counts()"
   ]
  },
  {
   "cell_type": "code",
   "execution_count": null,
   "id": "3b0915c9",
   "metadata": {},
   "outputs": [],
   "source": [
    "luad_adata.obs.dataset.value_counts()"
   ]
  },
  {
   "cell_type": "code",
   "execution_count": null,
   "id": "058efdcc",
   "metadata": {},
   "outputs": [],
   "source": [
    "luad_adata = luad_adata[luad_adata.obs.dataset=='Kim_Lee_2020'].copy()"
   ]
  },
  {
   "cell_type": "code",
   "execution_count": null,
   "id": "9630b4cd",
   "metadata": {},
   "outputs": [],
   "source": [
    "luad_adata = preprocess_dataset(luad_adata, shift_method=norm_method, sample_based=sample_based)"
   ]
  },
  {
   "cell_type": "code",
   "execution_count": null,
   "id": "cffb884e",
   "metadata": {},
   "outputs": [],
   "source": [
    "luad_adata.var.mito = luad_adata.var.mito.astype(bool)\n",
    "luad_adata.var.feature_is_filtered = luad_adata.var.feature_is_filtered.astype(bool)"
   ]
  },
  {
   "cell_type": "code",
   "execution_count": null,
   "id": "a14ee624",
   "metadata": {},
   "outputs": [],
   "source": [
    "luad_adata.write(output_luad)"
   ]
  },
  {
   "cell_type": "code",
   "execution_count": null,
   "id": "de281409",
   "metadata": {},
   "outputs": [],
   "source": [
    "del luad_adata, fn_luad, output_luad"
   ]
  }
 ],
 "metadata": {
  "kernelspec": {
   "display_name": "Python 3 (ipykernel)",
   "language": "python",
   "name": "python3"
  },
  "language_info": {
   "codemirror_mode": {
    "name": "ipython",
    "version": 3
   },
   "file_extension": ".py",
   "mimetype": "text/x-python",
   "name": "python",
   "nbconvert_exporter": "python",
   "pygments_lexer": "ipython3",
   "version": "3.8.12"
  }
 },
 "nbformat": 4,
 "nbformat_minor": 5
}
