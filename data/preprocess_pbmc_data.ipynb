{
 "cells": [
  {
   "cell_type": "markdown",
   "id": "8eb9fbac",
   "metadata": {},
   "source": [
    "# Preprocessing CITE-seq integrated PBMC dataset\n",
    "The following notbook creates two datasets from the [PBMC dataset](https://atlas.fredhutch.org/nygc/multimodal-pbmc/). The first only containing Monocytes, B and NK cells. The second contains B-cell subtypes. We follow the preprocessing steps of the book \"Single-cell best practices\" [1], and use the shift logarithm for namalization described by Ahlmann-Eltze and Huber [2] and implemented in this Tweet [3]. \n",
    "\n",
    "[1] Heumos, L., Schaar, A.C., Lance, C. et al. Best practices for single-cell analysis across modalities. Nat Rev Genet (2023). https://doi.org/10.1038/s41576-023-00586-w\n",
    "\n",
    "[2] Ahlmann-Eltze, C., Huber, W. Comparison of transformations for single-cell RNA-seq data. Nat Methods (2023). https://doi.org/10.1038/s41592-023-01814-1\n",
    "\n",
    "[3] https://twitter.com/Sanbomics/status/1647654042749874177?s=20"
   ]
  },
  {
   "cell_type": "code",
   "execution_count": null,
   "id": "4f3ad5d1",
   "metadata": {},
   "outputs": [],
   "source": [
    "from IPython.display import display, HTML\n",
    "display(HTML(\"<style>.container { width:95% !important; }</style>\"))"
   ]
  },
  {
   "cell_type": "code",
   "execution_count": null,
   "id": "dabed6d4",
   "metadata": {},
   "outputs": [],
   "source": [
    "import os\n",
    "import scanpy as sc\n",
    "import numpy as np\n",
    "import seaborn as sns\n",
    "import matplotlib.pyplot as plt\n",
    "\n",
    "from scipy.sparse import diags\n",
    "from scipy.stats import median_abs_deviation\n",
    "\n",
    "from constants import BASE_PATH_DATA"
   ]
  },
  {
   "cell_type": "markdown",
   "id": "0a7e1168",
   "metadata": {},
   "source": [
    "## Helper functions"
   ]
  },
  {
   "cell_type": "code",
   "execution_count": null,
   "id": "a6dd61e2",
   "metadata": {},
   "outputs": [],
   "source": [
    "def shifted_transformation(adata, y0=1):\n",
    "    \"\"\"\n",
    "    From Twitter post https://twitter.com/Sanbomics/status/1647654042749874177?s=20\n",
    "    Refering to publication by Ahlmann-Eltze & Huber.\n",
    "    \n",
    "    Ahlmann-Eltze, C., Huber, W. Comparison of transformations for single-cell RNA-seq data. \n",
    "    Nat Methods (2023). https://doi.org/10.1038/s41592-023-01814-1\n",
    "    \"\"\"\n",
    "    target_sum = np.mean(adata.X.sum(axis=1))\n",
    "    print(f'Mean shift logarithm normalization with normalization target count {target_sum}')\n",
    "    size_factors = adata.X.sum(axis=1) / target_sum\n",
    "    \n",
    "    adata.X = diags(1 / size_factors.A1).dot(adata.X)\n",
    "    adata.X.data = np.log(adata.X.data + y0)\n",
    "    adata.uns[\"log1p\"] = {\"base\": None}\n",
    "    return adata\n",
    "\n",
    "\n",
    "def is_outlier(adata, metric: str, nmads: int):\n",
    "    \"\"\"\n",
    "    The method is taken from the tutorial https://www.sc-best-practices.org/preprocessing_visualization/quality_control.html#filtering-low-quality-reads\n",
    "    \n",
    "    Heumos, L., Schaar, A.C., Lance, C. et al. Best practices for single-cell analysis across modalities. Nat Rev Genet (2023). https://doi.org/10.1038/s41576-023-00586-w\n",
    "    \"\"\"\n",
    "    M = adata.obs[metric]\n",
    "    outlier = (M < np.median(M) - nmads * median_abs_deviation(M)) | (\n",
    "        np.median(M) + nmads * median_abs_deviation(M) < M\n",
    "    )\n",
    "    return outlier\n",
    "\n",
    "\n",
    "def filter_low_quality_reads(adata, \n",
    "                             mad_tot_cnt=5, \n",
    "                             mad_ngenes_cnt=5, \n",
    "                             nr_top_genes=20,\n",
    "                             mad_pct_cnt_top_genes=5, \n",
    "                             mad_pct_mt=3, \n",
    "                             min_pct_mt=8):\n",
    "    \"\"\"\n",
    "    The method is taken from the tutorial https://www.sc-best-practices.org/preprocessing_visualization/quality_control.html#filtering-low-quality-reads\n",
    "    \n",
    "    Heumos, L., Schaar, A.C., Lance, C. et al. Best practices for single-cell analysis across modalities. \n",
    "    Nat Rev Genet (2023). https://doi.org/10.1038/s41576-023-00586-w\n",
    "    \"\"\"\n",
    "    if 'mt' not in adata.var:\n",
    "        # get mitochondrial genes\n",
    "        adata.var[\"mt\"] = adata.var_names.str.startswith(\"MT-\")\n",
    "    if 'ribo' not in adata.var:         \n",
    "        # get ribosomal genes\n",
    "        adata.var[\"ribo\"] = adata.var_names.str.startswith((\"RPS\", \"RPL\"))\n",
    "    if 'hb' not in adata.var:\n",
    "        # get hemoglobin genes.\n",
    "        adata.var[\"hb\"] = adata.var_names.str.contains((\"^HB[^(P)]\"))\n",
    "    \n",
    "    # compute the quality control metrics\n",
    "    sc.pp.calculate_qc_metrics(adata, qc_vars=[\"mt\", \"ribo\", \"hb\"], inplace=True, percent_top=[nr_top_genes], log1p=True)    \n",
    "    \n",
    "    adata.obs[\"outlier\"] = (is_outlier(adata, \"log1p_total_counts\", mad_tot_cnt)\n",
    "                            | is_outlier(adata, \"log1p_n_genes_by_counts\", mad_ngenes_cnt)\n",
    "                            | is_outlier(adata, f\"pct_counts_in_top_{nr_top_genes}_genes\", mad_pct_cnt_top_genes)\n",
    "                           )\n",
    "    adata.obs[\"mt_outlier\"] = is_outlier(adata, \"pct_counts_mt\", mad_pct_mt) | (adata.obs[\"pct_counts_mt\"] > min_pct_mt)\n",
    "    \n",
    "    adata = adata[(~adata.obs.outlier) & (~adata.obs.mt_outlier)].copy()\n",
    "    return adata\n",
    "\n",
    "\n",
    "def filtercells(adata, sample_col='orig.ident', params_cell_filtering={}):\n",
    "    \"\"\"\n",
    "    Filter loww quality reads per sample as suggested by Heumos et al. \n",
    "    \n",
    "    Heumos, L., Schaar, A.C., Lance, C. et al. Best practices for single-cell analysis across modalities. \n",
    "    Nat Rev Genet (2023). https://doi.org/10.1038/s41576-023-00586-w\n",
    "    \"\"\" \n",
    "    nr_cells_orig = adata.shape[0]\n",
    "    adatas = {}\n",
    "    for (sid, sample_data) in adata.obs.groupby(sample_col):\n",
    "        adatas[sid] = adata[sample_data.index,].copy()\n",
    "    for key, curr_adata in adatas.items():\n",
    "        adatas[key] = filter_low_quality_reads(curr_adata, **params_cell_filtering)\n",
    "    adata = sc.concat(list(adatas.values()), join='outer', merge='same')\n",
    "    nr_cells_filt = adata.shape[0]\n",
    "    print(f'Filtering {(nr_cells_orig-nr_cells_filt)} of {nr_cells_orig} low quality cells'\n",
    "          f'({np.round((nr_cells_orig-nr_cells_filt)/nr_cells_orig *100, decimals=2)}%).')\n",
    "    return adata\n",
    "\n",
    "def filtergenes(adata, pct=0.01):\n",
    "    \"\"\"\n",
    "    Remove genes that are not present in at least 1% of all cells. We do the same as it was done in CanSig. \n",
    "    \n",
    "    CanSig: Discovering de novo shared transcriptional programs in single cancer cells\n",
    "    Josephine Yates, Florian Barkmann, Paweł Czyż, Marc Glettig, Frederieke Lohmann, \n",
    "    Richard von der Horst, Elia Saquand, Nicolas Volken, Agnieszka Kraft, Valentina Boeva, \n",
    "    bioRxiv 2022.04.14.488324; doi: https://doi.org/10.1101/2022.04.14.488324 \n",
    "    \"\"\"\n",
    "    nr_cells, nr_genes = adata.shape    \n",
    "    gene_expr_in_cells_cnts = adata.X.getnnz(axis=0)\n",
    "    enough_genes  = gene_expr_in_cells_cnts - nr_cells * pct\n",
    "    print(f'Filtering {np.sum(enough_genes < 0)} of {nr_genes} genes'\n",
    "          f'({np.round((np.sum(enough_genes < 0))/nr_genes *100, decimals=2)}%).')\n",
    "    adata = adata[:, enough_genes >= 0].copy()\n",
    "    return adata\n",
    "\n",
    "\n",
    "def preprocess_dataset(adata, filter_cells=True, filter_genes=True, shift_method='mean', params_cell_filtering={}, sample_based=False, sample_col='orig.ident'):   \n",
    "    #CREATE PLOT\n",
    "    sc.pp.calculate_qc_metrics(adata, qc_vars=[\"mt\", \"ribo\", \"hb\"], inplace=True, percent_top=[20], log1p=True)    \n",
    "    sns.histplot(adata.obs[\"total_counts\"], bins=100, kde=False)\n",
    "    # sc.pl.violin(adata, 'total_counts')\n",
    "    sc.pl.violin(adata, \"pct_counts_mt\")\n",
    "    sc.pl.scatter(adata, \"total_counts\", \"n_genes_by_counts\", color=\"pct_counts_mt\")\n",
    "    \n",
    "    # FILTER CELLS\n",
    "    if filter_cells:\n",
    "        adata = filtercells(adata,params_cell_filtering=params_cell_filtering)\n",
    "    \n",
    "    #CREATE PLOT  \n",
    "    sc.pp.calculate_qc_metrics(adata, qc_vars=[\"mt\", \"ribo\", \"hb\"], inplace=True, percent_top=[20], log1p=True)    \n",
    "    sns.histplot(adata.obs[\"total_counts\"], bins=100, kde=False)\n",
    "    # sc.pl.violin(adata, 'total_counts')\n",
    "    sc.pl.violin(adata, \"pct_counts_mt\")\n",
    "    sc.pl.scatter(adata, \"total_counts\", \"n_genes_by_counts\", color=\"pct_counts_mt\")\n",
    "    \n",
    "    # FILTER GENES\n",
    "    if filter_genes:\n",
    "        adata = filtergenes(adata)\n",
    "    \n",
    "    adata.layers[\"counts\"] = adata.X\n",
    "    \n",
    "    # FILTER NORMALIZE\n",
    "    if shift_method == 'median':\n",
    "        sc.pp.normalize_total(adata)\n",
    "        sc.pp.log1p(adata)\n",
    "        adata.uns['log1p']['base'] = None\n",
    "    elif shift_method == 'mean':\n",
    "        adata = shifted_transformation(adata)\n",
    "    elif shift_method == 'CP10k':\n",
    "        sc.pp.normalize_total(adata, target_sum=1e4)\n",
    "        sc.pp.log1p(adata)\n",
    "        adata.uns['log1p']['base'] = None\n",
    "    else:\n",
    "        raise ValueError('Unknown shift transformation method! Can choose between mean, median and CP10k.')\n",
    "    \n",
    "    return adata"
   ]
  },
  {
   "cell_type": "markdown",
   "id": "c4db352c",
   "metadata": {},
   "source": [
    "## Preprocessing"
   ]
  },
  {
   "cell_type": "code",
   "execution_count": null,
   "id": "f47ff040",
   "metadata": {},
   "outputs": [],
   "source": [
    "fn_data = os.path.join(BASE_PATH_DATA, 'raw_data/pbmc_citeseq.h5ad')"
   ]
  },
  {
   "cell_type": "code",
   "execution_count": null,
   "id": "35acf12f",
   "metadata": {},
   "outputs": [],
   "source": [
    "adata = sc.read_h5ad(fn_data)"
   ]
  },
  {
   "cell_type": "code",
   "execution_count": null,
   "id": "9e8698eb",
   "metadata": {},
   "outputs": [],
   "source": [
    "adata = adata.raw.to_adata()\n",
    "adata.var_names = adata.var['_index']\n",
    "adata.var_names.name = None\n",
    "adata.var.columns = ['gene_names']"
   ]
  },
  {
   "cell_type": "code",
   "execution_count": null,
   "id": "374e0543",
   "metadata": {},
   "outputs": [],
   "source": [
    "if 'mt' not in adata.var:\n",
    "    # get mitochondrial genes\n",
    "    adata.var[\"mt\"] = adata.var_names.str.startswith(\"MT-\")\n",
    "if 'ribo' not in adata.var:         \n",
    "    # get ribosomal genes\n",
    "    adata.var[\"ribo\"] = adata.var_names.str.startswith((\"RPS\", \"RPL\"))\n",
    "if 'hb' not in adata.var:\n",
    "    # get hemoglobin genes.\n",
    "    adata.var[\"hb\"] = adata.var_names.str.contains((\"^HB[^(P)]\"))"
   ]
  },
  {
   "cell_type": "code",
   "execution_count": null,
   "id": "f3cfc79d",
   "metadata": {},
   "outputs": [],
   "source": [
    "adata"
   ]
  },
  {
   "cell_type": "code",
   "execution_count": null,
   "id": "5c46beae",
   "metadata": {},
   "outputs": [],
   "source": [
    "l1_adata = adata[adata.obs['celltype.l1'].isin(['B', 'NK', 'Mono'])].copy()\n",
    "l2_adata = adata[adata.obs['celltype.l2'].str.contains('B ')].copy()"
   ]
  },
  {
   "cell_type": "markdown",
   "id": "5caa0967",
   "metadata": {},
   "source": [
    "### Global variables "
   ]
  },
  {
   "cell_type": "code",
   "execution_count": null,
   "id": "cc1bae1f",
   "metadata": {},
   "outputs": [],
   "source": [
    "norm_method='CP10k' # alternatives '' for mean and 'median' for median \n",
    "sample_based=False # alternatives False for computation on entire dataset \n",
    "\n",
    "if norm_method=='median':\n",
    "    appendix = '_med_per_sid' if sample_based else '_med'\n",
    "elif norm_method=='CP10k':\n",
    "    appendix = '_cp10k_per_sid' if sample_based else '_cp10k'\n",
    "else:\n",
    "    appendix = '_per_sid' if sample_based else ''\n",
    "    \n",
    "print(appendix)"
   ]
  },
  {
   "cell_type": "markdown",
   "id": "ef71d869",
   "metadata": {},
   "source": [
    "### Preprocess Monocytes, B and NK cells dataset"
   ]
  },
  {
   "cell_type": "code",
   "execution_count": null,
   "id": "7a0c3ca6",
   "metadata": {},
   "outputs": [],
   "source": [
    "fn_out_l1_data= os.path.join(BASE_PATH_DATA, f'preprocessed/pp_pbmc_b_mono_nk{appendix}.h5ad')"
   ]
  },
  {
   "cell_type": "code",
   "execution_count": null,
   "id": "9bff66ce",
   "metadata": {},
   "outputs": [],
   "source": [
    "l1_adata.obs['celltype.l1'].value_counts().sort_index()"
   ]
  },
  {
   "cell_type": "code",
   "execution_count": null,
   "id": "24934cee",
   "metadata": {},
   "outputs": [],
   "source": [
    "l1_adata"
   ]
  },
  {
   "cell_type": "code",
   "execution_count": null,
   "id": "af59282c",
   "metadata": {},
   "outputs": [],
   "source": [
    "l1_adata = preprocess_dataset(l1_adata,\n",
    "                              shift_method = norm_method, \n",
    "                              params_cell_filtering=dict(mad_tot_cnt=5, \n",
    "                                                         mad_ngenes_cnt=5, \n",
    "                                                         nr_top_genes=20,\n",
    "                                                         mad_pct_cnt_top_genes=5,\n",
    "                                                         mad_pct_mt=5,\n",
    "                                                         min_pct_mt=9))"
   ]
  },
  {
   "cell_type": "code",
   "execution_count": null,
   "id": "d590cd07",
   "metadata": {},
   "outputs": [],
   "source": [
    "l1_adata.write(fn_out_l1_data)"
   ]
  },
  {
   "cell_type": "markdown",
   "id": "2c2cfb25",
   "metadata": {},
   "source": [
    "### Preprocess B-cell subtypes dataset"
   ]
  },
  {
   "cell_type": "code",
   "execution_count": null,
   "id": "7fb46131",
   "metadata": {},
   "outputs": [],
   "source": [
    "fn_out_l2_data= os.path.join(BASE_PATH_DATA, f'preprocessed/pp_pbmc_b_subtypes{appendix}.h5ad')"
   ]
  },
  {
   "cell_type": "code",
   "execution_count": null,
   "id": "51823d84",
   "metadata": {},
   "outputs": [],
   "source": [
    "l2_adata.obs['celltype.l2'].value_counts().sort_index()"
   ]
  },
  {
   "cell_type": "code",
   "execution_count": null,
   "id": "cfca9474",
   "metadata": {},
   "outputs": [],
   "source": [
    "l2_adata"
   ]
  },
  {
   "cell_type": "code",
   "execution_count": null,
   "id": "5026be9c",
   "metadata": {},
   "outputs": [],
   "source": [
    "l2_adata = preprocess_dataset(l2_adata, \n",
    "                              shift_method = norm_method,\n",
    "                              params_cell_filtering=dict(mad_tot_cnt=5, \n",
    "                                                         mad_ngenes_cnt=5, \n",
    "                                                         nr_top_genes=20,\n",
    "                                                         mad_pct_cnt_top_genes=5,\n",
    "                                                         mad_pct_mt=5,\n",
    "                                                         min_pct_mt=9))"
   ]
  },
  {
   "cell_type": "code",
   "execution_count": null,
   "id": "32b9af4b",
   "metadata": {},
   "outputs": [],
   "source": [
    "l2_adata"
   ]
  },
  {
   "cell_type": "code",
   "execution_count": null,
   "id": "e5803c93",
   "metadata": {},
   "outputs": [],
   "source": [
    "l2_adata.obs['celltype.l2'].value_counts().sort_index()"
   ]
  },
  {
   "cell_type": "code",
   "execution_count": null,
   "id": "2d814b19",
   "metadata": {},
   "outputs": [],
   "source": [
    "l2_adata.write(fn_out_l2_data)"
   ]
  }
 ],
 "metadata": {
  "kernelspec": {
   "display_name": "Python 3 (ipykernel)",
   "language": "python",
   "name": "python3"
  },
  "language_info": {
   "codemirror_mode": {
    "name": "ipython",
    "version": 3
   },
   "file_extension": ".py",
   "mimetype": "text/x-python",
   "name": "python",
   "nbconvert_exporter": "python",
   "pygments_lexer": "ipython3",
   "version": "3.8.12"
  }
 },
 "nbformat": 4,
 "nbformat_minor": 5
}
