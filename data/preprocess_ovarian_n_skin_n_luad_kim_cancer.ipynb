{
 "cells": [
  {
   "metadata": {},
   "cell_type": "markdown",
   "source": "### This notebook is just for subsetting the ovarian and skin datasets for malignant cells",
   "id": "54463cacd373113"
  },
  {
   "metadata": {},
   "cell_type": "code",
   "source": [
    "from pathlib import Path\n",
    "\n",
    "import pandas as pd\n",
    "import scanpy as sc\n",
    "\n",
    "from constants import BASE_PATH_RAW_CANCER, BASE_PATH_DATA, BASE_PATH_ANNOT_CANCER, BASE_PATH_CANSIG_PP_CANCER\n",
    "from scipy import sparse"
   ],
   "id": "1d0861a79a9bc2bc",
   "outputs": [],
   "execution_count": null
  },
  {
   "metadata": {},
   "cell_type": "code",
   "source": "SAVE = True",
   "id": "3d722d816aa4df7c",
   "outputs": [],
   "execution_count": null
  },
  {
   "metadata": {},
   "cell_type": "markdown",
   "source": [
    "#### Ovarian cancer dataset\n",
    "Vázquez-García, I., Uhlitz, F., Ceglia, N. et al. Ovarian cancer mutational processes drive site-specific immune evasion. Nature 612, 778–786 (2022). https://doi.org/10.1038/s41586-022-05496-1"
   ],
   "id": "fa042f9d0000e723"
  },
  {
   "metadata": {},
   "cell_type": "code",
   "source": [
    "adata = sc.read_h5ad(Path(BASE_PATH_RAW_CANCER) / 'OV_Vazquez_10X.h5ad')\n",
    "adata.shape"
   ],
   "id": "16a2f2a5a0d70da2",
   "outputs": [],
   "execution_count": null
  },
  {
   "metadata": {},
   "cell_type": "code",
   "source": [
    "## Filter only for cancer cells\n",
    "adata = adata[adata.obs['cell_type'] == 'Ovarian.cancer.cell']\n",
    "adata.shape"
   ],
   "id": "7c1973aa829a0334",
   "outputs": [],
   "execution_count": null
  },
  {
   "metadata": {},
   "cell_type": "code",
   "source": "adata.obs['cluster_label'].value_counts(dropna=False).sort_index()",
   "id": "893c2811ec12c28d",
   "outputs": [],
   "execution_count": null
  },
  {
   "metadata": {},
   "cell_type": "code",
   "source": [
    "adata = adata[~adata.obs['cluster_label'].isna()]\n",
    "adata.shape"
   ],
   "id": "6047f99fa2203ebd",
   "outputs": [],
   "execution_count": null
  },
  {
   "metadata": {},
   "cell_type": "code",
   "source": [
    "adata = adata[~adata.obs['cluster_label'].str.startswith('Ciliated.cell')].copy()\n",
    "adata.shape"
   ],
   "id": "222275addfd144bb",
   "outputs": [],
   "execution_count": null
  },
  {
   "metadata": {},
   "cell_type": "code",
   "source": "adata.X = sparse.csr_matrix(adata.X)",
   "id": "7b4711778fcc2257",
   "outputs": [],
   "execution_count": null
  },
  {
   "metadata": {},
   "cell_type": "code",
   "source": [
    "if SAVE:\n",
    "    adata.write(Path(BASE_PATH_RAW_CANCER) / 'ovarian_malignant.h5ad')"
   ],
   "id": "92ddd05cb0199f98",
   "outputs": [],
   "execution_count": null
  },
  {
   "metadata": {},
   "cell_type": "markdown",
   "source": [
    "#### Ji et al. 2020 skin dataset\n",
    "Ji AL, Rubin AJ, Thrane K, Jiang S, Reynolds DL, Meyers RM, Guo MG, George BM, Mollbrink A, Bergenstråhle J, Larsson L, Bai Y, Zhu B, Bhaduri A, Meyers JM, Rovira-Clavé X, Hollmig ST, Aasi SZ, Nolan GP, Lundeberg J, Khavari PA. Multimodal Analysis of Composition and Spatial Architecture in Human Squamous Cell Carcinoma. Cell. 2020 Jul 23;182(2):497-514.e22. doi: 10.1016/j.cell.2020.05.039. Epub 2020 Jun 23. Erratum in: Cell. 2020 Sep 17;182(6):1661-1662. doi: 10.1016/j.cell.2020.08.043. PMID: 32579974; PMCID: PMC7391009."
   ],
   "id": "10e82f2fd6e4b0cd"
  },
  {
   "metadata": {},
   "cell_type": "code",
   "source": [
    "def load_skin():\n",
    "    adata = sc.read(\n",
    "        Path(BASE_PATH_RAW_CANCER) / 'Ji_et_al_2020' / 'GSE144236_cSCC_counts.txt',\n",
    "        delimiter='\\t')\n",
    "\n",
    "    metadata = pd.read_table(\n",
    "        Path(BASE_PATH_RAW_CANCER) / 'Ji_et_al_2020' / 'GSE144236_patient_metadata_new.txt',\n",
    "        delimiter='\\t')\n",
    "\n",
    "    adata = adata.transpose()\n",
    "    adata.obs[metadata.columns.to_list()] = metadata.copy()\n",
    "    adata = adata[:, 2:].copy()\n",
    "    return adata"
   ],
   "id": "692a150f644c0e79",
   "outputs": [],
   "execution_count": null
  },
  {
   "metadata": {},
   "cell_type": "code",
   "source": "adata = load_skin()",
   "id": "f79db38dcb51cb1f",
   "outputs": [],
   "execution_count": null
  },
  {
   "metadata": {},
   "cell_type": "code",
   "source": [
    "adata = adata[adata.obs['level2_celltype'].isin(['TSK', 'Tumor_KC_Basal', 'Tumor_KC_Cyc', 'Tumor_KC_Diff'])].copy()\n",
    "adata.shape"
   ],
   "id": "be5a92ba4652df30",
   "outputs": [],
   "execution_count": null
  },
  {
   "metadata": {},
   "cell_type": "code",
   "source": "adata.X = sparse.csr_matrix(adata.X)",
   "id": "68945533b79c513b",
   "outputs": [],
   "execution_count": null
  },
  {
   "metadata": {},
   "cell_type": "code",
   "source": [
    "if SAVE:\n",
    "    adata.write(Path(BASE_PATH_RAW_CANCER) / 'skin_malignant.h5ad')"
   ],
   "id": "a5750424fdbdb1ea",
   "outputs": [],
   "execution_count": null
  },
  {
   "metadata": {},
   "cell_type": "markdown",
   "source": [
    "#### Kim et al. lung dataset\n",
    "Kim, N., Kim, H.K., Lee, K. et al. Single-cell RNA sequencing demonstrates the molecular and cellular reprogramming of metastatic lung adenocarcinoma. Nat Commun 11, 2285 (2020). https://doi.org/10.1038/s41467-020-16164-1"
   ],
   "id": "5104444df9a96767"
  },
  {
   "metadata": {},
   "cell_type": "code",
   "source": "adata = sc.read_h5ad(Path(BASE_PATH_DATA) / 'data_from_florian' / 'data' / 'kim_lung.h5ad')",
   "id": "3d8b342a1b53e330",
   "outputs": [],
   "execution_count": null
  },
  {
   "metadata": {},
   "cell_type": "code",
   "source": "samples_in_adata = adata.obs.index.to_list()",
   "id": "6418297bd8c4530",
   "outputs": [],
   "execution_count": null
  },
  {
   "metadata": {},
   "cell_type": "code",
   "source": [
    "cell_labels = pd.read_table(Path(BASE_PATH_ANNOT_CANCER) / 'luad_kim' / \"GSE131907_Lung_Cancer_cell_annotation.txt\")\n",
    "cell_labels['Index'] = cell_labels['Index'].str.replace('_', '-')\n",
    "cell_labels = cell_labels.set_index('Index')\n",
    "cell_labels = cell_labels.loc[samples_in_adata]"
   ],
   "id": "86ec7878e80d8ae7",
   "outputs": [],
   "execution_count": null
  },
  {
   "metadata": {},
   "cell_type": "code",
   "source": [
    "y_true_col = 'Cell_subtype'\n",
    "sample_col = 'sample'"
   ],
   "id": "5cfa671c2c68e245",
   "outputs": [],
   "execution_count": null
  },
  {
   "metadata": {},
   "cell_type": "code",
   "source": "adata.obs[y_true_col] = cell_labels[y_true_col].str.lower()",
   "id": "e1341f86646ab1c9",
   "outputs": [],
   "execution_count": null
  },
  {
   "metadata": {},
   "cell_type": "code",
   "source": "adata = adata[adata.obs[adata.obs[y_true_col].str.startswith('ts', na=False)].index].copy()",
   "id": "363aa2f5c5a75a81",
   "outputs": [],
   "execution_count": null
  },
  {
   "metadata": {},
   "cell_type": "code",
   "source": "adata.obs[y_true_col].value_counts()",
   "id": "5086963ef0255275",
   "outputs": [],
   "execution_count": null
  },
  {
   "metadata": {},
   "cell_type": "code",
   "source": [
    "if SAVE:\n",
    "    adata.write(Path(BASE_PATH_CANSIG_PP_CANCER) / 'luad_kim_malignant.h5ad')"
   ],
   "id": "fa17c19a4d5209b7",
   "outputs": [],
   "execution_count": null
  }
 ],
 "metadata": {
  "kernelspec": {
   "display_name": "Python 3",
   "language": "python",
   "name": "python3"
  },
  "language_info": {
   "codemirror_mode": {
    "name": "ipython",
    "version": 2
   },
   "file_extension": ".py",
   "mimetype": "text/x-python",
   "name": "python",
   "nbconvert_exporter": "python",
   "pygments_lexer": "ipython2",
   "version": "2.7.6"
  }
 },
 "nbformat": 4,
 "nbformat_minor": 5
}
